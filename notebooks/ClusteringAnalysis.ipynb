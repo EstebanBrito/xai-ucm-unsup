{
 "cells": [
  {
   "cell_type": "markdown",
   "id": "c33553be",
   "metadata": {},
   "source": [
    "# Clustering Analysis"
   ]
  },
  {
   "cell_type": "markdown",
   "id": "52469289",
   "metadata": {},
   "source": [
    "## PreAnalysis"
   ]
  },
  {
   "cell_type": "markdown",
   "id": "a284a0d7",
   "metadata": {},
   "source": [
    "### Loading Data"
   ]
  },
  {
   "cell_type": "code",
   "execution_count": 3,
   "id": "37d71d92",
   "metadata": {},
   "outputs": [],
   "source": [
    "import pandas as pd\n",
    "import numpy as np\n",
    "import matplotlib.pyplot as plt\n",
    "import os"
   ]
  },
  {
   "cell_type": "code",
   "execution_count": 9,
   "id": "c650cb17",
   "metadata": {},
   "outputs": [],
   "source": [
    "# Best params\n",
    "RESULTS_PATH = os.path.join('..', 'results')\n",
    "HIST_BEST = os.path.join(RESULTS_PATH, 'hist_best_params.csv')\n",
    "LATENT_BEST = os.path.join(RESULTS_PATH, 'latent_best_params.csv')"
   ]
  },
  {
   "cell_type": "code",
   "execution_count": 18,
   "id": "cb780bdb",
   "metadata": {},
   "outputs": [],
   "source": [
    "# Data features\n",
    "FEATURES_PATH = os.path.join('..', 'features')\n",
    "LATENT_PATH = os.path.join(FEATURES_PATH, 'incv1_feats.csv')\n",
    "HIST_PATH = os.path.join(FEATURES_PATH, 'color_hist.csv')"
   ]
  },
  {
   "cell_type": "code",
   "execution_count": null,
   "id": "1ffb53fe",
   "metadata": {},
   "outputs": [],
   "source": [
    "# Best techniques\n",
    "BEST_TECHNIQUES = os.path.join(RESULTS_PATH, 'all.csv')"
   ]
  },
  {
   "cell_type": "markdown",
   "id": "b932a176",
   "metadata": {},
   "source": [
    "We load the best params to include them all into a nice visual dataframe."
   ]
  },
  {
   "cell_type": "code",
   "execution_count": 114,
   "id": "98869063",
   "metadata": {},
   "outputs": [],
   "source": [
    "hist_params = pd.read_csv(HIST_BEST)\n",
    "latent_params = pd.read_csv(LATENT_BEST)"
   ]
  },
  {
   "cell_type": "code",
   "execution_count": 115,
   "id": "10b2cbcd",
   "metadata": {},
   "outputs": [
    {
     "data": {
      "text/html": [
       "<div>\n",
       "<style scoped>\n",
       "    .dataframe tbody tr th:only-of-type {\n",
       "        vertical-align: middle;\n",
       "    }\n",
       "\n",
       "    .dataframe tbody tr th {\n",
       "        vertical-align: top;\n",
       "    }\n",
       "\n",
       "    .dataframe thead th {\n",
       "        text-align: right;\n",
       "    }\n",
       "</style>\n",
       "<table border=\"1\" class=\"dataframe\">\n",
       "  <thead>\n",
       "    <tr style=\"text-align: right;\">\n",
       "      <th></th>\n",
       "      <th>m</th>\n",
       "      <th>e</th>\n",
       "      <th>data</th>\n",
       "      <th>scaled</th>\n",
       "      <th>similarity</th>\n",
       "      <th>sscore</th>\n",
       "      <th>clusters</th>\n",
       "      <th>instances</th>\n",
       "    </tr>\n",
       "  </thead>\n",
       "  <tbody>\n",
       "    <tr>\n",
       "      <th>0</th>\n",
       "      <td>2</td>\n",
       "      <td>0.16</td>\n",
       "      <td>hist</td>\n",
       "      <td>False</td>\n",
       "      <td>cosine</td>\n",
       "      <td>0.44</td>\n",
       "      <td>2</td>\n",
       "      <td>147</td>\n",
       "    </tr>\n",
       "    <tr>\n",
       "      <th>1</th>\n",
       "      <td>2</td>\n",
       "      <td>0.19</td>\n",
       "      <td>hist</td>\n",
       "      <td>False</td>\n",
       "      <td>cosine</td>\n",
       "      <td>0.37</td>\n",
       "      <td>3</td>\n",
       "      <td>163</td>\n",
       "    </tr>\n",
       "    <tr>\n",
       "      <th>2</th>\n",
       "      <td>4</td>\n",
       "      <td>11.80</td>\n",
       "      <td>latent</td>\n",
       "      <td>False</td>\n",
       "      <td>euclid</td>\n",
       "      <td>0.46</td>\n",
       "      <td>9</td>\n",
       "      <td>140</td>\n",
       "    </tr>\n",
       "    <tr>\n",
       "      <th>3</th>\n",
       "      <td>3</td>\n",
       "      <td>0.20</td>\n",
       "      <td>latent</td>\n",
       "      <td>False</td>\n",
       "      <td>cosine</td>\n",
       "      <td>0.68</td>\n",
       "      <td>11</td>\n",
       "      <td>144</td>\n",
       "    </tr>\n",
       "  </tbody>\n",
       "</table>\n",
       "</div>"
      ],
      "text/plain": [
       "   m      e    data  scaled similarity  sscore  clusters  instances\n",
       "0  2   0.16    hist   False     cosine    0.44         2        147\n",
       "1  2   0.19    hist   False     cosine    0.37         3        163\n",
       "2  4  11.80  latent   False     euclid    0.46         9        140\n",
       "3  3   0.20  latent   False     cosine    0.68        11        144"
      ]
     },
     "execution_count": 115,
     "metadata": {},
     "output_type": "execute_result"
    }
   ],
   "source": [
    "dbscan_best_params = pd.concat([hist_params, latent_params], axis=0, ignore_index=True)\n",
    "dbscan_best_params"
   ]
  },
  {
   "cell_type": "markdown",
   "id": "1b56506a",
   "metadata": {},
   "source": [
    "We load the original features so we can cluster them using the best params"
   ]
  },
  {
   "cell_type": "code",
   "execution_count": 19,
   "id": "3118247d",
   "metadata": {},
   "outputs": [
    {
     "data": {
      "text/html": [
       "<div>\n",
       "<style scoped>\n",
       "    .dataframe tbody tr th:only-of-type {\n",
       "        vertical-align: middle;\n",
       "    }\n",
       "\n",
       "    .dataframe tbody tr th {\n",
       "        vertical-align: top;\n",
       "    }\n",
       "\n",
       "    .dataframe thead th {\n",
       "        text-align: right;\n",
       "    }\n",
       "</style>\n",
       "<table border=\"1\" class=\"dataframe\">\n",
       "  <thead>\n",
       "    <tr style=\"text-align: right;\">\n",
       "      <th></th>\n",
       "      <th>Unnamed: 0</th>\n",
       "      <th>0</th>\n",
       "      <th>1</th>\n",
       "      <th>2</th>\n",
       "      <th>3</th>\n",
       "      <th>4</th>\n",
       "      <th>5</th>\n",
       "      <th>6</th>\n",
       "      <th>7</th>\n",
       "      <th>8</th>\n",
       "      <th>...</th>\n",
       "      <th>1014</th>\n",
       "      <th>1015</th>\n",
       "      <th>1016</th>\n",
       "      <th>1017</th>\n",
       "      <th>1018</th>\n",
       "      <th>1019</th>\n",
       "      <th>1020</th>\n",
       "      <th>1021</th>\n",
       "      <th>1022</th>\n",
       "      <th>1023</th>\n",
       "    </tr>\n",
       "  </thead>\n",
       "  <tbody>\n",
       "    <tr>\n",
       "      <th>0</th>\n",
       "      <td>1222__pool_table__0.9999995.jpg</td>\n",
       "      <td>0.882798</td>\n",
       "      <td>0.896023</td>\n",
       "      <td>0.123852</td>\n",
       "      <td>0.257982</td>\n",
       "      <td>0.036050</td>\n",
       "      <td>0.108023</td>\n",
       "      <td>0.633841</td>\n",
       "      <td>0.457301</td>\n",
       "      <td>1.684949</td>\n",
       "      <td>...</td>\n",
       "      <td>0.422634</td>\n",
       "      <td>0.346122</td>\n",
       "      <td>0.111589</td>\n",
       "      <td>1.441579</td>\n",
       "      <td>0.198722</td>\n",
       "      <td>0.246648</td>\n",
       "      <td>0.295942</td>\n",
       "      <td>0.560950</td>\n",
       "      <td>0.058328</td>\n",
       "      <td>0.117393</td>\n",
       "    </tr>\n",
       "    <tr>\n",
       "      <th>1</th>\n",
       "      <td>1328__coil__0.99999607.jpg</td>\n",
       "      <td>0.483815</td>\n",
       "      <td>0.134309</td>\n",
       "      <td>0.021849</td>\n",
       "      <td>0.367267</td>\n",
       "      <td>0.089250</td>\n",
       "      <td>0.007518</td>\n",
       "      <td>0.069921</td>\n",
       "      <td>0.219347</td>\n",
       "      <td>0.089260</td>\n",
       "      <td>...</td>\n",
       "      <td>0.049852</td>\n",
       "      <td>0.004140</td>\n",
       "      <td>0.199223</td>\n",
       "      <td>0.718976</td>\n",
       "      <td>0.000000</td>\n",
       "      <td>0.000000</td>\n",
       "      <td>0.000000</td>\n",
       "      <td>0.159411</td>\n",
       "      <td>0.012007</td>\n",
       "      <td>0.001601</td>\n",
       "    </tr>\n",
       "    <tr>\n",
       "      <th>2</th>\n",
       "      <td>134__zebra__0.9999949.jpg</td>\n",
       "      <td>0.291067</td>\n",
       "      <td>0.375913</td>\n",
       "      <td>0.217742</td>\n",
       "      <td>1.269691</td>\n",
       "      <td>0.384181</td>\n",
       "      <td>0.076470</td>\n",
       "      <td>0.662070</td>\n",
       "      <td>0.662391</td>\n",
       "      <td>0.827774</td>\n",
       "      <td>...</td>\n",
       "      <td>0.018289</td>\n",
       "      <td>0.000000</td>\n",
       "      <td>0.000775</td>\n",
       "      <td>0.903884</td>\n",
       "      <td>0.589769</td>\n",
       "      <td>0.016957</td>\n",
       "      <td>0.418493</td>\n",
       "      <td>0.005350</td>\n",
       "      <td>0.004198</td>\n",
       "      <td>0.185460</td>\n",
       "    </tr>\n",
       "  </tbody>\n",
       "</table>\n",
       "<p>3 rows × 1025 columns</p>\n",
       "</div>"
      ],
      "text/plain": [
       "                        Unnamed: 0         0         1         2         3  \\\n",
       "0  1222__pool_table__0.9999995.jpg  0.882798  0.896023  0.123852  0.257982   \n",
       "1       1328__coil__0.99999607.jpg  0.483815  0.134309  0.021849  0.367267   \n",
       "2        134__zebra__0.9999949.jpg  0.291067  0.375913  0.217742  1.269691   \n",
       "\n",
       "          4         5         6         7         8  ...      1014      1015  \\\n",
       "0  0.036050  0.108023  0.633841  0.457301  1.684949  ...  0.422634  0.346122   \n",
       "1  0.089250  0.007518  0.069921  0.219347  0.089260  ...  0.049852  0.004140   \n",
       "2  0.384181  0.076470  0.662070  0.662391  0.827774  ...  0.018289  0.000000   \n",
       "\n",
       "       1016      1017      1018      1019      1020      1021      1022  \\\n",
       "0  0.111589  1.441579  0.198722  0.246648  0.295942  0.560950  0.058328   \n",
       "1  0.199223  0.718976  0.000000  0.000000  0.000000  0.159411  0.012007   \n",
       "2  0.000775  0.903884  0.589769  0.016957  0.418493  0.005350  0.004198   \n",
       "\n",
       "       1023  \n",
       "0  0.117393  \n",
       "1  0.001601  \n",
       "2  0.185460  \n",
       "\n",
       "[3 rows x 1025 columns]"
      ]
     },
     "execution_count": 19,
     "metadata": {},
     "output_type": "execute_result"
    }
   ],
   "source": [
    "latent_feats = pd.read_csv(LATENT_PATH)\n",
    "latent_feats.head(3)"
   ]
  },
  {
   "cell_type": "code",
   "execution_count": 20,
   "id": "5b45fcba",
   "metadata": {},
   "outputs": [
    {
     "data": {
      "text/html": [
       "<div>\n",
       "<style scoped>\n",
       "    .dataframe tbody tr th:only-of-type {\n",
       "        vertical-align: middle;\n",
       "    }\n",
       "\n",
       "    .dataframe tbody tr th {\n",
       "        vertical-align: top;\n",
       "    }\n",
       "\n",
       "    .dataframe thead th {\n",
       "        text-align: right;\n",
       "    }\n",
       "</style>\n",
       "<table border=\"1\" class=\"dataframe\">\n",
       "  <thead>\n",
       "    <tr style=\"text-align: right;\">\n",
       "      <th></th>\n",
       "      <th>Unnamed: 0</th>\n",
       "      <th>0</th>\n",
       "      <th>1</th>\n",
       "      <th>2</th>\n",
       "      <th>3</th>\n",
       "      <th>4</th>\n",
       "      <th>5</th>\n",
       "      <th>6</th>\n",
       "      <th>7</th>\n",
       "      <th>8</th>\n",
       "      <th>...</th>\n",
       "      <th>758</th>\n",
       "      <th>759</th>\n",
       "      <th>760</th>\n",
       "      <th>761</th>\n",
       "      <th>762</th>\n",
       "      <th>763</th>\n",
       "      <th>764</th>\n",
       "      <th>765</th>\n",
       "      <th>766</th>\n",
       "      <th>767</th>\n",
       "    </tr>\n",
       "  </thead>\n",
       "  <tbody>\n",
       "    <tr>\n",
       "      <th>0</th>\n",
       "      <td>1222__pool_table__0.9999995.jpg</td>\n",
       "      <td>178</td>\n",
       "      <td>51</td>\n",
       "      <td>43</td>\n",
       "      <td>49</td>\n",
       "      <td>37</td>\n",
       "      <td>40</td>\n",
       "      <td>54</td>\n",
       "      <td>57</td>\n",
       "      <td>57</td>\n",
       "      <td>...</td>\n",
       "      <td>8</td>\n",
       "      <td>5</td>\n",
       "      <td>12</td>\n",
       "      <td>9</td>\n",
       "      <td>13</td>\n",
       "      <td>14</td>\n",
       "      <td>12</td>\n",
       "      <td>12</td>\n",
       "      <td>7</td>\n",
       "      <td>51</td>\n",
       "    </tr>\n",
       "    <tr>\n",
       "      <th>1</th>\n",
       "      <td>1328__coil__0.99999607.jpg</td>\n",
       "      <td>47</td>\n",
       "      <td>39</td>\n",
       "      <td>66</td>\n",
       "      <td>118</td>\n",
       "      <td>112</td>\n",
       "      <td>134</td>\n",
       "      <td>143</td>\n",
       "      <td>164</td>\n",
       "      <td>194</td>\n",
       "      <td>...</td>\n",
       "      <td>97</td>\n",
       "      <td>114</td>\n",
       "      <td>127</td>\n",
       "      <td>188</td>\n",
       "      <td>211</td>\n",
       "      <td>172</td>\n",
       "      <td>121</td>\n",
       "      <td>90</td>\n",
       "      <td>61</td>\n",
       "      <td>186</td>\n",
       "    </tr>\n",
       "    <tr>\n",
       "      <th>2</th>\n",
       "      <td>134__zebra__0.9999949.jpg</td>\n",
       "      <td>0</td>\n",
       "      <td>0</td>\n",
       "      <td>1</td>\n",
       "      <td>1</td>\n",
       "      <td>4</td>\n",
       "      <td>4</td>\n",
       "      <td>7</td>\n",
       "      <td>5</td>\n",
       "      <td>12</td>\n",
       "      <td>...</td>\n",
       "      <td>34</td>\n",
       "      <td>17</td>\n",
       "      <td>40</td>\n",
       "      <td>14</td>\n",
       "      <td>25</td>\n",
       "      <td>12</td>\n",
       "      <td>2</td>\n",
       "      <td>4</td>\n",
       "      <td>2</td>\n",
       "      <td>13</td>\n",
       "    </tr>\n",
       "  </tbody>\n",
       "</table>\n",
       "<p>3 rows × 769 columns</p>\n",
       "</div>"
      ],
      "text/plain": [
       "                        Unnamed: 0    0   1   2    3    4    5    6    7    8  \\\n",
       "0  1222__pool_table__0.9999995.jpg  178  51  43   49   37   40   54   57   57   \n",
       "1       1328__coil__0.99999607.jpg   47  39  66  118  112  134  143  164  194   \n",
       "2        134__zebra__0.9999949.jpg    0   0   1    1    4    4    7    5   12   \n",
       "\n",
       "   ...  758  759  760  761  762  763  764  765  766  767  \n",
       "0  ...    8    5   12    9   13   14   12   12    7   51  \n",
       "1  ...   97  114  127  188  211  172  121   90   61  186  \n",
       "2  ...   34   17   40   14   25   12    2    4    2   13  \n",
       "\n",
       "[3 rows x 769 columns]"
      ]
     },
     "execution_count": 20,
     "metadata": {},
     "output_type": "execute_result"
    }
   ],
   "source": [
    "hist_feats = pd.read_csv(HIST_PATH)\n",
    "hist_feats.head(3)"
   ]
  },
  {
   "cell_type": "markdown",
   "id": "43fb17e0",
   "metadata": {},
   "source": [
    "We load the best interpretation techniques selected for each image, and we convert it to a map we can easily consult"
   ]
  },
  {
   "cell_type": "code",
   "execution_count": 89,
   "id": "2055cd18",
   "metadata": {},
   "outputs": [
    {
     "data": {
      "text/html": [
       "<div>\n",
       "<style scoped>\n",
       "    .dataframe tbody tr th:only-of-type {\n",
       "        vertical-align: middle;\n",
       "    }\n",
       "\n",
       "    .dataframe tbody tr th {\n",
       "        vertical-align: top;\n",
       "    }\n",
       "\n",
       "    .dataframe thead th {\n",
       "        text-align: right;\n",
       "    }\n",
       "</style>\n",
       "<table border=\"1\" class=\"dataframe\">\n",
       "  <thead>\n",
       "    <tr style=\"text-align: right;\">\n",
       "      <th></th>\n",
       "      <th>0</th>\n",
       "      <th>1</th>\n",
       "      <th>2</th>\n",
       "      <th>3</th>\n",
       "    </tr>\n",
       "  </thead>\n",
       "  <tbody>\n",
       "    <tr>\n",
       "      <th>0</th>\n",
       "      <td>1222</td>\n",
       "      <td>pool_table</td>\n",
       "      <td>0.9999995</td>\n",
       "      <td>lime</td>\n",
       "    </tr>\n",
       "    <tr>\n",
       "      <th>1</th>\n",
       "      <td>1328</td>\n",
       "      <td>coil</td>\n",
       "      <td>0.99999607</td>\n",
       "      <td>ig</td>\n",
       "    </tr>\n",
       "    <tr>\n",
       "      <th>2</th>\n",
       "      <td>134</td>\n",
       "      <td>zebra</td>\n",
       "      <td>0.9999949</td>\n",
       "      <td>xrai</td>\n",
       "    </tr>\n",
       "  </tbody>\n",
       "</table>\n",
       "</div>"
      ],
      "text/plain": [
       "      0           1           2     3\n",
       "0  1222  pool_table   0.9999995  lime\n",
       "1  1328        coil  0.99999607    ig\n",
       "2   134       zebra   0.9999949  xrai"
      ]
     },
     "execution_count": 89,
     "metadata": {},
     "output_type": "execute_result"
    }
   ],
   "source": [
    "techniques = pd.read_csv(BEST_TECHNIQUES, sep=';', header=None, dtype='object')\n",
    "techniques.head(3)"
   ]
  },
  {
   "cell_type": "code",
   "execution_count": 177,
   "id": "dd49eb42",
   "metadata": {},
   "outputs": [],
   "source": [
    "def gen_name_technique_tuples(x):\n",
    "    return ['__'.join([str(x[0]), x[1], str(x[2])]) + '.jpg', x[3]]"
   ]
  },
  {
   "cell_type": "code",
   "execution_count": 178,
   "id": "a1f86b0a",
   "metadata": {},
   "outputs": [
    {
     "data": {
      "text/plain": [
       "array([list(['1222__pool_table__0.9999995.jpg', 'lime']),\n",
       "       list(['1328__coil__0.99999607.jpg', 'ig']),\n",
       "       list(['134__zebra__0.9999949.jpg', 'xrai'])], dtype=object)"
      ]
     },
     "execution_count": 178,
     "metadata": {},
     "output_type": "execute_result"
    }
   ],
   "source": [
    "foo = techniques.apply(gen_name_technique_tuples, axis=1)\n",
    "foo.values[:3]"
   ]
  },
  {
   "cell_type": "code",
   "execution_count": 179,
   "id": "4afcdff1",
   "metadata": {},
   "outputs": [],
   "source": [
    "name_tech_map = {name: tech for name, tech in foo.values}"
   ]
  },
  {
   "cell_type": "markdown",
   "id": "c648df8d",
   "metadata": {},
   "source": [
    "## Clustering"
   ]
  },
  {
   "cell_type": "code",
   "execution_count": 108,
   "id": "f8471722",
   "metadata": {},
   "outputs": [],
   "source": [
    "from sklearn.cluster import DBSCAN\n",
    "from sklearn.metrics import silhouette_score"
   ]
  },
  {
   "cell_type": "code",
   "execution_count": 120,
   "id": "594aa7f4",
   "metadata": {},
   "outputs": [],
   "source": [
    "feats_map = {\n",
    "    'hist': hist_feats,\n",
    "    'latent': latent_feats\n",
    "}"
   ]
  },
  {
   "cell_type": "code",
   "execution_count": 125,
   "id": "1488c19f",
   "metadata": {},
   "outputs": [],
   "source": [
    "sim_metric_map = {\n",
    "    'euclid': 'euclidean',\n",
    "    'cosine': 'cosine'\n",
    "}"
   ]
  },
  {
   "cell_type": "code",
   "execution_count": 121,
   "id": "52c9ce56",
   "metadata": {},
   "outputs": [
    {
     "data": {
      "text/plain": [
       "array([[2, 0.16, 'hist', False, 'cosine', 0.44, 2, 147],\n",
       "       [2, 0.19, 'hist', False, 'cosine', 0.37, 3, 163],\n",
       "       [4, 11.8, 'latent', False, 'euclid', 0.46, 9, 140],\n",
       "       [3, 0.2, 'latent', False, 'cosine', 0.68, 11, 144]], dtype=object)"
      ]
     },
     "execution_count": 121,
     "metadata": {},
     "output_type": "execute_result"
    }
   ],
   "source": [
    "dbscan_best_params.values"
   ]
  },
  {
   "cell_type": "code",
   "execution_count": 163,
   "id": "c2c81d11",
   "metadata": {},
   "outputs": [],
   "source": [
    "def get_clustering_results(params, feats_types, metric_types):\n",
    "    results = {}\n",
    "    for i, param_set in enumerate(params):\n",
    "        # Prepare parameters\n",
    "        data = feats_types[param_set[2]]\n",
    "        img_names = data.values[:, 0]\n",
    "        instances = data.values[:, 1:]\n",
    "        metric = metric_types[param_set[4]]\n",
    "        # Do clustering\n",
    "        dbscan = DBSCAN(min_samples=param_set[0], eps=param_set[1], metric=metric)\n",
    "        dbscan = dbscan.fit(instances)\n",
    "        # Generate {img_name : label} mapping\n",
    "        name_label_map = {name: label for name, label in zip(img_names, dbscan.labels_)}\n",
    "        results[i] = name_label_map\n",
    "    return results"
   ]
  },
  {
   "cell_type": "code",
   "execution_count": 164,
   "id": "32565aa0",
   "metadata": {},
   "outputs": [],
   "source": [
    "res = get_clustering_results(dbscan_best_params.values, feats_map, sim_metric_map)"
   ]
  },
  {
   "cell_type": "code",
   "execution_count": 165,
   "id": "4976ab46",
   "metadata": {},
   "outputs": [
    {
     "data": {
      "text/plain": [
       "array([-1,  0,  1,  2,  3,  4,  5,  6,  7,  8,  9, 10], dtype=int64)"
      ]
     },
     "execution_count": 165,
     "metadata": {},
     "output_type": "execute_result"
    }
   ],
   "source": [
    "np.unique(list(res[3].values()))"
   ]
  },
  {
   "cell_type": "code",
   "execution_count": 148,
   "id": "75081151",
   "metadata": {},
   "outputs": [
    {
     "data": {
      "text/html": [
       "<div>\n",
       "<style scoped>\n",
       "    .dataframe tbody tr th:only-of-type {\n",
       "        vertical-align: middle;\n",
       "    }\n",
       "\n",
       "    .dataframe tbody tr th {\n",
       "        vertical-align: top;\n",
       "    }\n",
       "\n",
       "    .dataframe thead th {\n",
       "        text-align: right;\n",
       "    }\n",
       "</style>\n",
       "<table border=\"1\" class=\"dataframe\">\n",
       "  <thead>\n",
       "    <tr style=\"text-align: right;\">\n",
       "      <th></th>\n",
       "      <th>m</th>\n",
       "      <th>e</th>\n",
       "      <th>data</th>\n",
       "      <th>scaled</th>\n",
       "      <th>similarity</th>\n",
       "      <th>sscore</th>\n",
       "      <th>clusters</th>\n",
       "      <th>instances</th>\n",
       "    </tr>\n",
       "  </thead>\n",
       "  <tbody>\n",
       "    <tr>\n",
       "      <th>0</th>\n",
       "      <td>2</td>\n",
       "      <td>0.16</td>\n",
       "      <td>hist</td>\n",
       "      <td>False</td>\n",
       "      <td>cosine</td>\n",
       "      <td>0.44</td>\n",
       "      <td>2</td>\n",
       "      <td>147</td>\n",
       "    </tr>\n",
       "    <tr>\n",
       "      <th>1</th>\n",
       "      <td>2</td>\n",
       "      <td>0.19</td>\n",
       "      <td>hist</td>\n",
       "      <td>False</td>\n",
       "      <td>cosine</td>\n",
       "      <td>0.37</td>\n",
       "      <td>3</td>\n",
       "      <td>163</td>\n",
       "    </tr>\n",
       "    <tr>\n",
       "      <th>2</th>\n",
       "      <td>4</td>\n",
       "      <td>11.80</td>\n",
       "      <td>latent</td>\n",
       "      <td>False</td>\n",
       "      <td>euclid</td>\n",
       "      <td>0.46</td>\n",
       "      <td>9</td>\n",
       "      <td>140</td>\n",
       "    </tr>\n",
       "    <tr>\n",
       "      <th>3</th>\n",
       "      <td>3</td>\n",
       "      <td>0.20</td>\n",
       "      <td>latent</td>\n",
       "      <td>False</td>\n",
       "      <td>cosine</td>\n",
       "      <td>0.68</td>\n",
       "      <td>11</td>\n",
       "      <td>144</td>\n",
       "    </tr>\n",
       "  </tbody>\n",
       "</table>\n",
       "</div>"
      ],
      "text/plain": [
       "   m      e    data  scaled similarity  sscore  clusters  instances\n",
       "0  2   0.16    hist   False     cosine    0.44         2        147\n",
       "1  2   0.19    hist   False     cosine    0.37         3        163\n",
       "2  4  11.80  latent   False     euclid    0.46         9        140\n",
       "3  3   0.20  latent   False     cosine    0.68        11        144"
      ]
     },
     "execution_count": 148,
     "metadata": {},
     "output_type": "execute_result"
    }
   ],
   "source": [
    "dbscan_best_params"
   ]
  },
  {
   "cell_type": "markdown",
   "id": "dba593fc",
   "metadata": {},
   "source": [
    "Param set # 2 is the most variated so far. We need a way to enforce a min. no. of instances on every cluster, because right now every clustering obteined has one cluster with many instances and the rest of the clusters only contain two or ther clustered instances"
   ]
  },
  {
   "cell_type": "code",
   "execution_count": 172,
   "id": "0655d736",
   "metadata": {},
   "outputs": [
    {
     "data": {
      "text/plain": [
       "{'1222__pool_table__0.9999995.jpg': -1,\n",
       " '1328__coil__0.99999607.jpg': -1,\n",
       " '134__zebra__0.9999949.jpg': 0,\n",
       " '2377471__pizza__0.9999988.jpg': 1,\n",
       " '2377620__zebra__0.9999882.jpg': 0,\n",
       " '2377698__zebra__0.9999999.jpg': 0,\n",
       " '2378170__zebra__0.9999902.jpg': 0,\n",
       " '2378358__park_bench__0.99999833.jpg': -1,\n",
       " '2378523__banana__0.99999785.jpg': 2,\n",
       " '2379086__zebra__0.9999975.jpg': 0,\n",
       " '2379489__parking_meter__0.9999989.jpg': 3,\n",
       " '2380017__zebra__0.9999995.jpg': 0,\n",
       " '2380019__zebra__0.9999926.jpg': 0,\n",
       " '2380189__zebra__0.9999993.jpg': 0,\n",
       " '2380319__broccoli__0.9999957.jpg': 4,\n",
       " '2380447__bullet_train__0.9999869.jpg': -1,\n",
       " '2380669__parking_meter__0.9999993.jpg': 3,\n",
       " '2380865__traffic_light__0.99999714.jpg': -1,\n",
       " '2380905__gondola__0.9999888.jpg': -1,\n",
       " '2380925__zebra__0.9999987.jpg': 0,\n",
       " '2381648__zebra__0.9999995.jpg': 0,\n",
       " '2381879__zebra__0.99999523.jpg': 0,\n",
       " '2381932__traffic_light__0.99999964.jpg': -1,\n",
       " '2381941__zebra__0.9999914.jpg': 0,\n",
       " '2381968__ski__0.999984.jpg': 5,\n",
       " '2382183__pizza__0.99998593.jpg': 1,\n",
       " '2382436__park_bench__0.99999964.jpg': -1,\n",
       " '2382474__bow_tie__0.9999982.jpg': -1,\n",
       " '2382589__zebra__0.9999982.jpg': 0,\n",
       " '2382792__umbrella__0.9999838.jpg': -1,\n",
       " '2382909__zebra__0.9999988.jpg': 0,\n",
       " '2382913__zebra__0.9999883.jpg': 0,\n",
       " '2383286__zebra__0.99999857.jpg': 0,\n",
       " '2383569__parking_meter__0.9999988.jpg': 3,\n",
       " '2383706__umbrella__0.9999994.jpg': 8,\n",
       " '2384145__street_sign__0.9999987.jpg': 6,\n",
       " '2384512__zebra__0.99999726.jpg': 0,\n",
       " '2384755__street_sign__0.9999924.jpg': 6,\n",
       " '2385034__zebra__0.9999981.jpg': 0,\n",
       " '2385039__zebra__0.9999844.jpg': 0,\n",
       " '2385187__street_sign__0.99999595.jpg': 6,\n",
       " '2385298__parking_meter__0.9999865.jpg': 3,\n",
       " '2385461__zebra__0.99998415.jpg': 0,\n",
       " '2385767__zebra__0.9999958.jpg': 0,\n",
       " '2386049__king_penguin__0.99999917.jpg': -1,\n",
       " '2386068__zebra__0.9999949.jpg': 0,\n",
       " '2386193__broccoli__0.9999924.jpg': 4,\n",
       " '2386456__zebra__0.9999989.jpg': 0,\n",
       " '2386750__pizza__0.9999889.jpg': 1,\n",
       " '2387034__zebra__0.9999896.jpg': 0,\n",
       " '2387038__street_sign__0.9999888.jpg': 6,\n",
       " '2387305__traffic_light__1.0.jpg': -1,\n",
       " '2387437__parking_meter__0.9999839.jpg': 3,\n",
       " '2388441__banana__0.9999993.jpg': 2,\n",
       " '2388889__hotdog__0.99999714.jpg': -1,\n",
       " '2389131__pizza__0.9999943.jpg': 1,\n",
       " '2389163__zebra__0.9999957.jpg': 0,\n",
       " '2389324__zebra__0.9999993.jpg': 0,\n",
       " '2389484__street_sign__0.99998474.jpg': 6,\n",
       " '2390296__umbrella__0.99999106.jpg': 8,\n",
       " '2391408__traffic_light__0.99999654.jpg': 7,\n",
       " '2391701__zebra__0.9999912.jpg': 0,\n",
       " '2391862__broccoli__0.99999714.jpg': 4,\n",
       " '2391918__steam_locomotive__0.99999845.jpg': -1,\n",
       " '2391964__flamingo__1.0.jpg': -1,\n",
       " '2392124__zebra__0.99999523.jpg': 0,\n",
       " '2392324__traffic_light__0.9999964.jpg': -1,\n",
       " '2392349__umbrella__0.9999994.jpg': -1,\n",
       " '2392405__parking_meter__0.9999993.jpg': 3,\n",
       " '2392579__zebra__0.9999969.jpg': 0,\n",
       " '2392619__zebra__0.9999875.jpg': 0,\n",
       " '2392730__pizza__0.9999974.jpg': 1,\n",
       " '2392818__park_bench__0.99999.jpg': -1,\n",
       " '2393774__zebra__0.9999995.jpg': 0,\n",
       " '2394019__zebra__0.99999285.jpg': 0,\n",
       " '2394082__street_sign__0.99999905.jpg': 6,\n",
       " '2395038__zebra__0.9999976.jpg': 0,\n",
       " '2395510__traffic_light__0.9999993.jpg': -1,\n",
       " '2395716__pizza__0.9999968.jpg': 1,\n",
       " '2395787__pizza__0.99999535.jpg': 1,\n",
       " '2396034__remote_control__0.9999856.jpg': -1,\n",
       " '2396153__brown_bear__0.9999938.jpg': -1,\n",
       " '2397486__zebra__0.9999875.jpg': 0,\n",
       " '2398585__bow_tie__0.9999838.jpg': -1,\n",
       " '2398771__traffic_light__0.99999.jpg': 7,\n",
       " '2398975__umbrella__0.9999958.jpg': 8,\n",
       " '2399217__umbrella__0.9999863.jpg': 8,\n",
       " '2399675__zebra__0.9999883.jpg': 0,\n",
       " '2400121__pizza__0.9999962.jpg': 1,\n",
       " '2400622__zebra__0.9999901.jpg': 0,\n",
       " '2401217__traffic_light__0.9999895.jpg': 7,\n",
       " '2401224__zebra__0.9999882.jpg': 0,\n",
       " '2401383__slug__0.9999933.jpg': -1,\n",
       " '2401691__pineapple__0.999998.jpg': -1,\n",
       " '2401906__parking_meter__1.0.jpg': 3,\n",
       " '2401921__zebra__0.99999845.jpg': 0,\n",
       " '2402056__toilet_seat__0.99999917.jpg': -1,\n",
       " '2402132__traffic_light__0.9999951.jpg': 7,\n",
       " '2402264__zebra__0.9999931.jpg': 0,\n",
       " '2402745__bullet_train__0.99999857.jpg': -1,\n",
       " '2402950__zebra__0.99999344.jpg': 0,\n",
       " '2403199__zebra__0.9999869.jpg': 0,\n",
       " '2403338__seat_belt__0.99999917.jpg': -1,\n",
       " '2403403__banana__0.9999926.jpg': 2,\n",
       " '2403741__zebra__0.99999523.jpg': 0,\n",
       " '2404051__street_sign__0.9999999.jpg': 6,\n",
       " '2404127__zebra__0.9999933.jpg': 0,\n",
       " '2404229__zebra__0.99998367.jpg': 0,\n",
       " '2404281__zebra__0.999998.jpg': 0,\n",
       " '2404583__umbrella__0.99999297.jpg': 8,\n",
       " '2404955__banana__0.9999995.jpg': 2,\n",
       " '2405041__broccoli__0.99999845.jpg': 4,\n",
       " '2405042__parking_meter__0.99999094.jpg': 3,\n",
       " '2405210__pizza__0.9999869.jpg': 1,\n",
       " '2405280__zebra__0.9999938.jpg': 0,\n",
       " '2405479__traffic_light__0.9999939.jpg': -1,\n",
       " '2405905__traffic_light__0.99999535.jpg': -1,\n",
       " '2406209__brown_bear__0.999985.jpg': -1,\n",
       " '2406581__zebra__0.9999939.jpg': 0,\n",
       " '2406857__zebra__0.9999894.jpg': 0,\n",
       " '2406887__ski__0.99999785.jpg': 5,\n",
       " '2407130__umbrella__0.9999888.jpg': -1,\n",
       " '2407788__pizza__0.99999785.jpg': 1,\n",
       " '2407951__zebra__0.9999975.jpg': 0,\n",
       " '2408592__goose__0.999998.jpg': -1,\n",
       " '2408701__zebra__0.9999981.jpg': 0,\n",
       " '2408719__ski__0.99999297.jpg': 5,\n",
       " '2408884__zebra__0.9999913.jpg': 0,\n",
       " '2408970__zebra__0.9999865.jpg': 0,\n",
       " '2409063__zebra__0.999997.jpg': 0,\n",
       " '2409266__zebra__0.99999774.jpg': 0,\n",
       " '2409472__umbrella__0.9999845.jpg': -1,\n",
       " '2409550__street_sign__0.99999905.jpg': 6,\n",
       " '2409589__zebra__0.99999976.jpg': 0,\n",
       " '2409637__four-poster__0.99999464.jpg': -1,\n",
       " '2409765__zebra__0.99999833.jpg': 0,\n",
       " '2409822__steam_locomotive__0.9999906.jpg': -1,\n",
       " '2409953__brown_bear__0.99998903.jpg': -1,\n",
       " '2410081__parking_meter__1.0.jpg': 3,\n",
       " '2410336__zebra__0.99999547.jpg': 0,\n",
       " '2410410__ski__0.99999356.jpg': 5,\n",
       " '2410440__parking_meter__0.99999106.jpg': -1,\n",
       " '2410779__parking_meter__0.99999917.jpg': 3,\n",
       " '2410903__steam_locomotive__0.9999876.jpg': -1,\n",
       " '2410974__toilet_seat__0.9999939.jpg': -1,\n",
       " '2411097__zebra__0.9999974.jpg': 0,\n",
       " '2411196__crane__0.9999995.jpg': -1,\n",
       " '2411372__parking_meter__0.999995.jpg': 3,\n",
       " '2411390__parking_meter__0.9999988.jpg': 3,\n",
       " '2411407__zebra__0.9999969.jpg': 0,\n",
       " '2411645__parking_meter__0.999985.jpg': 3,\n",
       " '2411646__banana__0.99999595.jpg': -1,\n",
       " '2411665__zebra__0.99998856.jpg': 0,\n",
       " '2411784__traffic_light__0.9999945.jpg': -1,\n",
       " '2411841__zebra__0.99999833.jpg': 0,\n",
       " '2411942__zebra__0.99999654.jpg': 0,\n",
       " '2412027__school_bus__0.99998724.jpg': -1,\n",
       " '2412267__zebra__0.9999939.jpg': 0,\n",
       " '2412402__zebra__0.9999877.jpg': 0,\n",
       " '2412908__zebra__0.99998975.jpg': 0,\n",
       " '2412939__forklift__0.9999883.jpg': -1,\n",
       " '2413024__banana__1.0.jpg': 2,\n",
       " '2413227__park_bench__0.99998546.jpg': -1,\n",
       " '2413495__traffic_light__0.9999925.jpg': -1,\n",
       " '2413521__parking_meter__0.99999976.jpg': 3,\n",
       " '2413786__parking_meter__0.9999925.jpg': 3,\n",
       " '2414277__zebra__0.9999908.jpg': 0,\n",
       " '2414335__refrigerator__0.9999889.jpg': -1,\n",
       " '2414384__ski__0.9999949.jpg': 5,\n",
       " '2414513__bagel__0.9999893.jpg': -1,\n",
       " '2414760__zebra__0.9999895.jpg': 0,\n",
       " '2414892__pizza__0.99999857.jpg': 1,\n",
       " '2414996__park_bench__0.9999907.jpg': -1,\n",
       " '2415102__zebra__0.9999876.jpg': 0,\n",
       " '2415402__zebra__0.99998903.jpg': 0,\n",
       " '2415567__zebra__0.9999902.jpg': 0,\n",
       " '2415648__broccoli__0.9999943.jpg': 4,\n",
       " '2415737__parking_meter__0.99999785.jpg': 3,\n",
       " '2415910__zebra__0.9999962.jpg': 0,\n",
       " '2416228__parking_meter__0.9999914.jpg': 3,\n",
       " '2416408__zebra__0.9999962.jpg': 0,\n",
       " '2416516__zebra__0.99999714.jpg': 0,\n",
       " '2416627__zebra__0.9999987.jpg': 0,\n",
       " '2417055__broccoli__0.9999864.jpg': 4,\n",
       " '2417382__zebra__0.9999864.jpg': 0,\n",
       " '2417395__zebra__0.9999993.jpg': 0,\n",
       " '2417421__parking_meter__0.9999999.jpg': 3,\n",
       " '2417586__zebra__0.99999535.jpg': 0,\n",
       " '2417881__zebra__0.9999945.jpg': 0,\n",
       " '2417938__banana__0.9999944.jpg': -1,\n",
       " '4099__pool_table__0.9999945.jpg': -1,\n",
       " '4339__manhole_cover__0.99999416.jpg': -1,\n",
       " '4534__viaduct__0.9999877.jpg': -1,\n",
       " '4573__barrel__0.9999974.jpg': -1,\n",
       " '4673__triumphal_arch__0.9999893.jpg': -1,\n",
       " '576__gondola__0.9999993.jpg': -1,\n",
       " '577__gondola__0.9999962.jpg': -1,\n",
       " '691__cheetah__0.99999213.jpg': -1}"
      ]
     },
     "execution_count": 172,
     "metadata": {},
     "output_type": "execute_result"
    }
   ],
   "source": [
    "res[2]"
   ]
  },
  {
   "cell_type": "markdown",
   "id": "6cd9e585",
   "metadata": {},
   "source": [
    "## Clustering Analysis"
   ]
  },
  {
   "cell_type": "code",
   "execution_count": 169,
   "id": "11a8e151",
   "metadata": {},
   "outputs": [],
   "source": [
    "def get_clustering_analysis(name_labels_map, name_tech_map):\n",
    "    # clusters = np.unique(list(name_labels_map.values()))\n",
    "    cluster_stats = {}\n",
    "    for name, label in name_labels_map.items():\n",
    "        if (label == -1): continue # ignore noise cluster\n",
    "        # Add cluster no. to stats if it has not been added early\n",
    "        if (label not in cluster_stats.keys()): cluster_stats[label] = {}\n",
    "        # Get technique\n",
    "        technique = name_tech_map[name]\n",
    "        # If technique is in cluster stats\n",
    "        if (technique in cluster_stats[label].keys()):\n",
    "            cluster_stats[label][technique] += 1 # add one...\n",
    "        else:\n",
    "            cluster_stats[label][technique] = 1 # else, create with one\n",
    "    return cluster_stats"
   ]
  },
  {
   "cell_type": "code",
   "execution_count": 180,
   "id": "466b6573",
   "metadata": {},
   "outputs": [],
   "source": [
    "clustering_no2_res = get_clustering_analysis(res[2], name_tech_map)"
   ]
  },
  {
   "cell_type": "markdown",
   "id": "c1ad7d7e",
   "metadata": {},
   "source": [
    "Best techniques frecuencies per cluster in clustering # 2 (m=4 and e=11.8 with latent features and euclidean metric)"
   ]
  },
  {
   "cell_type": "code",
   "execution_count": 181,
   "id": "8aaae571",
   "metadata": {},
   "outputs": [
    {
     "data": {
      "text/plain": [
       "{0: {'xrai': 13, 'ig': 54, 'lime': 7, 'anchor': 4},\n",
       " 1: {'ig': 11},\n",
       " 2: {'ig': 5},\n",
       " 3: {'ig': 13, 'xrai': 3, 'lime': 2},\n",
       " 4: {'ig': 6},\n",
       " 5: {'xrai': 2, 'ig': 3},\n",
       " 8: {'ig': 5},\n",
       " 6: {'ig': 8},\n",
       " 7: {'ig': 4}}"
      ]
     },
     "execution_count": 181,
     "metadata": {},
     "output_type": "execute_result"
    }
   ],
   "source": [
    "clustering_no2_res"
   ]
  },
  {
   "cell_type": "markdown",
   "id": "8165f47d",
   "metadata": {},
   "source": [
    "## TODO: Create soft voting metrics for intracluster evaluation"
   ]
  },
  {
   "cell_type": "code",
   "execution_count": 192,
   "id": "324b8586",
   "metadata": {},
   "outputs": [
    {
     "data": {
      "text/plain": [
       "202"
      ]
     },
     "execution_count": 192,
     "metadata": {},
     "output_type": "execute_result"
    }
   ],
   "source": [
    "len(name_tech_map)"
   ]
  },
  {
   "cell_type": "code",
   "execution_count": 194,
   "id": "385771e4",
   "metadata": {},
   "outputs": [
    {
     "data": {
      "text/plain": [
       "(array(['anchor', 'ig', 'lime', 'nan', 'xrai'], dtype='<U6'),\n",
       " array([ 11, 147,  11,   4,  29], dtype=int64))"
      ]
     },
     "execution_count": 194,
     "metadata": {},
     "output_type": "execute_result"
    }
   ],
   "source": [
    "counts = np.unique(list(name_tech_map.values()), return_counts=True)\n",
    "counts"
   ]
  },
  {
   "cell_type": "code",
   "execution_count": 189,
   "id": "4f16c5ba",
   "metadata": {},
   "outputs": [
    {
     "data": {
      "text/plain": [
       "0       [1222__pool_table__0.9999995.jpg, lime]\n",
       "1              [1328__coil__0.99999607.jpg, ig]\n",
       "2             [134__zebra__0.9999949.jpg, xrai]\n",
       "3           [2377471__pizza__0.9999988.jpg, ig]\n",
       "4         [2377620__zebra__0.9999882.jpg, lime]\n",
       "                         ...                   \n",
       "3065    [1222__pool_table__0.9999995.jpg, xrai]\n",
       "3066           [1328__coil__0.99999607.jpg, ig]\n",
       "3067          [134__zebra__0.9999949.jpg, xrai]\n",
       "3068        [2377471__pizza__0.9999988.jpg, ig]\n",
       "3069      [2377620__zebra__0.9999882.jpg, xrai]\n",
       "Length: 3070, dtype: object"
      ]
     },
     "execution_count": 189,
     "metadata": {},
     "output_type": "execute_result"
    }
   ],
   "source": [
    "foo"
   ]
  },
  {
   "cell_type": "code",
   "execution_count": 190,
   "id": "f9d290c9",
   "metadata": {},
   "outputs": [
    {
     "data": {
      "text/html": [
       "<div>\n",
       "<style scoped>\n",
       "    .dataframe tbody tr th:only-of-type {\n",
       "        vertical-align: middle;\n",
       "    }\n",
       "\n",
       "    .dataframe tbody tr th {\n",
       "        vertical-align: top;\n",
       "    }\n",
       "\n",
       "    .dataframe thead th {\n",
       "        text-align: right;\n",
       "    }\n",
       "</style>\n",
       "<table border=\"1\" class=\"dataframe\">\n",
       "  <thead>\n",
       "    <tr style=\"text-align: right;\">\n",
       "      <th></th>\n",
       "      <th>0</th>\n",
       "      <th>1</th>\n",
       "      <th>2</th>\n",
       "      <th>3</th>\n",
       "    </tr>\n",
       "  </thead>\n",
       "  <tbody>\n",
       "    <tr>\n",
       "      <th>0</th>\n",
       "      <td>1222</td>\n",
       "      <td>pool_table</td>\n",
       "      <td>0.9999995</td>\n",
       "      <td>lime</td>\n",
       "    </tr>\n",
       "    <tr>\n",
       "      <th>1</th>\n",
       "      <td>1328</td>\n",
       "      <td>coil</td>\n",
       "      <td>0.99999607</td>\n",
       "      <td>ig</td>\n",
       "    </tr>\n",
       "    <tr>\n",
       "      <th>2</th>\n",
       "      <td>134</td>\n",
       "      <td>zebra</td>\n",
       "      <td>0.9999949</td>\n",
       "      <td>xrai</td>\n",
       "    </tr>\n",
       "    <tr>\n",
       "      <th>3</th>\n",
       "      <td>2377471</td>\n",
       "      <td>pizza</td>\n",
       "      <td>0.9999988</td>\n",
       "      <td>ig</td>\n",
       "    </tr>\n",
       "    <tr>\n",
       "      <th>4</th>\n",
       "      <td>2377620</td>\n",
       "      <td>zebra</td>\n",
       "      <td>0.9999882</td>\n",
       "      <td>lime</td>\n",
       "    </tr>\n",
       "    <tr>\n",
       "      <th>...</th>\n",
       "      <td>...</td>\n",
       "      <td>...</td>\n",
       "      <td>...</td>\n",
       "      <td>...</td>\n",
       "    </tr>\n",
       "    <tr>\n",
       "      <th>3065</th>\n",
       "      <td>1222</td>\n",
       "      <td>pool_table</td>\n",
       "      <td>0.9999995</td>\n",
       "      <td>xrai</td>\n",
       "    </tr>\n",
       "    <tr>\n",
       "      <th>3066</th>\n",
       "      <td>1328</td>\n",
       "      <td>coil</td>\n",
       "      <td>0.99999607</td>\n",
       "      <td>ig</td>\n",
       "    </tr>\n",
       "    <tr>\n",
       "      <th>3067</th>\n",
       "      <td>134</td>\n",
       "      <td>zebra</td>\n",
       "      <td>0.9999949</td>\n",
       "      <td>xrai</td>\n",
       "    </tr>\n",
       "    <tr>\n",
       "      <th>3068</th>\n",
       "      <td>2377471</td>\n",
       "      <td>pizza</td>\n",
       "      <td>0.9999988</td>\n",
       "      <td>ig</td>\n",
       "    </tr>\n",
       "    <tr>\n",
       "      <th>3069</th>\n",
       "      <td>2377620</td>\n",
       "      <td>zebra</td>\n",
       "      <td>0.9999882</td>\n",
       "      <td>xrai</td>\n",
       "    </tr>\n",
       "  </tbody>\n",
       "</table>\n",
       "<p>3070 rows × 4 columns</p>\n",
       "</div>"
      ],
      "text/plain": [
       "            0           1           2     3\n",
       "0        1222  pool_table   0.9999995  lime\n",
       "1        1328        coil  0.99999607    ig\n",
       "2         134       zebra   0.9999949  xrai\n",
       "3     2377471       pizza   0.9999988    ig\n",
       "4     2377620       zebra   0.9999882  lime\n",
       "...       ...         ...         ...   ...\n",
       "3065     1222  pool_table   0.9999995  xrai\n",
       "3066     1328        coil  0.99999607    ig\n",
       "3067      134       zebra   0.9999949  xrai\n",
       "3068  2377471       pizza   0.9999988    ig\n",
       "3069  2377620       zebra   0.9999882  xrai\n",
       "\n",
       "[3070 rows x 4 columns]"
      ]
     },
     "execution_count": 190,
     "metadata": {},
     "output_type": "execute_result"
    }
   ],
   "source": [
    "techniques"
   ]
  }
 ],
 "metadata": {
  "kernelspec": {
   "display_name": "Python 3",
   "language": "python",
   "name": "python3"
  },
  "language_info": {
   "codemirror_mode": {
    "name": "ipython",
    "version": 3
   },
   "file_extension": ".py",
   "mimetype": "text/x-python",
   "name": "python",
   "nbconvert_exporter": "python",
   "pygments_lexer": "ipython3",
   "version": "3.8.5"
  }
 },
 "nbformat": 4,
 "nbformat_minor": 5
}
