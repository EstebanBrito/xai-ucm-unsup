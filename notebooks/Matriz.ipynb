{
 "cells": [
  {
   "cell_type": "code",
   "execution_count": 1,
   "id": "d19e0018",
   "metadata": {},
   "outputs": [],
   "source": [
    "import numpy as np\n",
    "import pandas as pd"
   ]
  },
  {
   "cell_type": "code",
   "execution_count": 2,
   "id": "6b76d1f5",
   "metadata": {},
   "outputs": [
    {
     "data": {
      "text/html": [
       "<div>\n",
       "<style scoped>\n",
       "    .dataframe tbody tr th:only-of-type {\n",
       "        vertical-align: middle;\n",
       "    }\n",
       "\n",
       "    .dataframe tbody tr th {\n",
       "        vertical-align: top;\n",
       "    }\n",
       "\n",
       "    .dataframe thead th {\n",
       "        text-align: right;\n",
       "    }\n",
       "</style>\n",
       "<table border=\"1\" class=\"dataframe\">\n",
       "  <thead>\n",
       "    <tr style=\"text-align: right;\">\n",
       "      <th></th>\n",
       "      <th>0</th>\n",
       "      <th>1</th>\n",
       "      <th>2</th>\n",
       "      <th>3</th>\n",
       "      <th>4</th>\n",
       "      <th>5</th>\n",
       "      <th>6</th>\n",
       "      <th>7</th>\n",
       "      <th>8</th>\n",
       "      <th>9</th>\n",
       "      <th>...</th>\n",
       "      <th>758</th>\n",
       "      <th>759</th>\n",
       "      <th>760</th>\n",
       "      <th>761</th>\n",
       "      <th>762</th>\n",
       "      <th>763</th>\n",
       "      <th>764</th>\n",
       "      <th>765</th>\n",
       "      <th>766</th>\n",
       "      <th>767</th>\n",
       "    </tr>\n",
       "  </thead>\n",
       "  <tbody>\n",
       "    <tr>\n",
       "      <th>1222__pool_table__0.9999995.jpg</th>\n",
       "      <td>178</td>\n",
       "      <td>51</td>\n",
       "      <td>43</td>\n",
       "      <td>49</td>\n",
       "      <td>37</td>\n",
       "      <td>40</td>\n",
       "      <td>54</td>\n",
       "      <td>57</td>\n",
       "      <td>57</td>\n",
       "      <td>54</td>\n",
       "      <td>...</td>\n",
       "      <td>8</td>\n",
       "      <td>5</td>\n",
       "      <td>12</td>\n",
       "      <td>9</td>\n",
       "      <td>13</td>\n",
       "      <td>14</td>\n",
       "      <td>12</td>\n",
       "      <td>12</td>\n",
       "      <td>7</td>\n",
       "      <td>51</td>\n",
       "    </tr>\n",
       "    <tr>\n",
       "      <th>1328__coil__0.99999607.jpg</th>\n",
       "      <td>47</td>\n",
       "      <td>39</td>\n",
       "      <td>66</td>\n",
       "      <td>118</td>\n",
       "      <td>112</td>\n",
       "      <td>134</td>\n",
       "      <td>143</td>\n",
       "      <td>164</td>\n",
       "      <td>194</td>\n",
       "      <td>230</td>\n",
       "      <td>...</td>\n",
       "      <td>97</td>\n",
       "      <td>114</td>\n",
       "      <td>127</td>\n",
       "      <td>188</td>\n",
       "      <td>211</td>\n",
       "      <td>172</td>\n",
       "      <td>121</td>\n",
       "      <td>90</td>\n",
       "      <td>61</td>\n",
       "      <td>186</td>\n",
       "    </tr>\n",
       "    <tr>\n",
       "      <th>134__zebra__0.9999949.jpg</th>\n",
       "      <td>0</td>\n",
       "      <td>0</td>\n",
       "      <td>1</td>\n",
       "      <td>1</td>\n",
       "      <td>4</td>\n",
       "      <td>4</td>\n",
       "      <td>7</td>\n",
       "      <td>5</td>\n",
       "      <td>12</td>\n",
       "      <td>8</td>\n",
       "      <td>...</td>\n",
       "      <td>34</td>\n",
       "      <td>17</td>\n",
       "      <td>40</td>\n",
       "      <td>14</td>\n",
       "      <td>25</td>\n",
       "      <td>12</td>\n",
       "      <td>2</td>\n",
       "      <td>4</td>\n",
       "      <td>2</td>\n",
       "      <td>13</td>\n",
       "    </tr>\n",
       "    <tr>\n",
       "      <th>2377471__pizza__0.9999988.jpg</th>\n",
       "      <td>4</td>\n",
       "      <td>0</td>\n",
       "      <td>3</td>\n",
       "      <td>4</td>\n",
       "      <td>4</td>\n",
       "      <td>11</td>\n",
       "      <td>8</td>\n",
       "      <td>5</td>\n",
       "      <td>14</td>\n",
       "      <td>9</td>\n",
       "      <td>...</td>\n",
       "      <td>6</td>\n",
       "      <td>7</td>\n",
       "      <td>7</td>\n",
       "      <td>5</td>\n",
       "      <td>1</td>\n",
       "      <td>6</td>\n",
       "      <td>3</td>\n",
       "      <td>6</td>\n",
       "      <td>2</td>\n",
       "      <td>12</td>\n",
       "    </tr>\n",
       "    <tr>\n",
       "      <th>2377620__zebra__0.9999882.jpg</th>\n",
       "      <td>16</td>\n",
       "      <td>26</td>\n",
       "      <td>9</td>\n",
       "      <td>20</td>\n",
       "      <td>17</td>\n",
       "      <td>25</td>\n",
       "      <td>25</td>\n",
       "      <td>31</td>\n",
       "      <td>37</td>\n",
       "      <td>33</td>\n",
       "      <td>...</td>\n",
       "      <td>0</td>\n",
       "      <td>0</td>\n",
       "      <td>0</td>\n",
       "      <td>0</td>\n",
       "      <td>1</td>\n",
       "      <td>0</td>\n",
       "      <td>0</td>\n",
       "      <td>1</td>\n",
       "      <td>0</td>\n",
       "      <td>1</td>\n",
       "    </tr>\n",
       "  </tbody>\n",
       "</table>\n",
       "<p>5 rows × 768 columns</p>\n",
       "</div>"
      ],
      "text/plain": [
       "                                   0   1   2    3    4    5    6    7    8  \\\n",
       "1222__pool_table__0.9999995.jpg  178  51  43   49   37   40   54   57   57   \n",
       "1328__coil__0.99999607.jpg        47  39  66  118  112  134  143  164  194   \n",
       "134__zebra__0.9999949.jpg          0   0   1    1    4    4    7    5   12   \n",
       "2377471__pizza__0.9999988.jpg      4   0   3    4    4   11    8    5   14   \n",
       "2377620__zebra__0.9999882.jpg     16  26   9   20   17   25   25   31   37   \n",
       "\n",
       "                                   9  ...  758  759  760  761  762  763  764  \\\n",
       "1222__pool_table__0.9999995.jpg   54  ...    8    5   12    9   13   14   12   \n",
       "1328__coil__0.99999607.jpg       230  ...   97  114  127  188  211  172  121   \n",
       "134__zebra__0.9999949.jpg          8  ...   34   17   40   14   25   12    2   \n",
       "2377471__pizza__0.9999988.jpg      9  ...    6    7    7    5    1    6    3   \n",
       "2377620__zebra__0.9999882.jpg     33  ...    0    0    0    0    1    0    0   \n",
       "\n",
       "                                 765  766  767  \n",
       "1222__pool_table__0.9999995.jpg   12    7   51  \n",
       "1328__coil__0.99999607.jpg        90   61  186  \n",
       "134__zebra__0.9999949.jpg          4    2   13  \n",
       "2377471__pizza__0.9999988.jpg      6    2   12  \n",
       "2377620__zebra__0.9999882.jpg      1    0    1  \n",
       "\n",
       "[5 rows x 768 columns]"
      ]
     },
     "execution_count": 2,
     "metadata": {},
     "output_type": "execute_result"
    }
   ],
   "source": [
    "data = pd.read_csv('..\\\\features\\\\color_hist.csv', index_col=0)\n",
    "data.head(5)"
   ]
  },
  {
   "cell_type": "code",
   "execution_count": 3,
   "id": "4491f8c3",
   "metadata": {},
   "outputs": [
    {
     "data": {
      "text/plain": [
       "array([[ 178,   51,   43, ...,   12,    7,   51],\n",
       "       [  47,   39,   66, ...,   90,   61,  186],\n",
       "       [   0,    0,    1, ...,    4,    2,   13],\n",
       "       ...,\n",
       "       [ 332,  141,  240, ...,  886, 2000, 5279],\n",
       "       [   8,    6,    3, ...,  557,  504, 3941],\n",
       "       [   0,    1,    0, ...,    0,    0,    0]], dtype=int64)"
      ]
     },
     "execution_count": 3,
     "metadata": {},
     "output_type": "execute_result"
    }
   ],
   "source": [
    "values = data.values\n",
    "values"
   ]
  },
  {
   "cell_type": "code",
   "execution_count": 4,
   "id": "943b8585",
   "metadata": {},
   "outputs": [
    {
     "data": {
      "text/plain": [
       "(10, 768)"
      ]
     },
     "execution_count": 4,
     "metadata": {},
     "output_type": "execute_result"
    }
   ],
   "source": [
    "values = values[:10] # Ignore this\n",
    "values.shape"
   ]
  },
  {
   "cell_type": "markdown",
   "id": "84c52ae4",
   "metadata": {},
   "source": [
    "### Similarity functions"
   ]
  },
  {
   "cell_type": "code",
   "execution_count": 5,
   "id": "5ca80bba",
   "metadata": {},
   "outputs": [],
   "source": [
    "def euclidean_distance(a, b, same=False):\n",
    "    if (same): return 0 \n",
    "    else: return np.linalg.norm(a-b)"
   ]
  },
  {
   "cell_type": "code",
   "execution_count": 7,
   "id": "11bd2507",
   "metadata": {},
   "outputs": [],
   "source": [
    "def cosine_similarity(a, b, same=False):\n",
    "    if (same): return 1\n",
    "    else: return np.dot(a, b)/(np.linalg.norm(a) * np.linalg.norm(b))"
   ]
  },
  {
   "cell_type": "markdown",
   "id": "41411171",
   "metadata": {},
   "source": [
    "### Create Mx"
   ]
  },
  {
   "cell_type": "code",
   "execution_count": 8,
   "id": "dd81dd19",
   "metadata": {},
   "outputs": [],
   "source": [
    "def choose_mx(choice):\n",
    "    if choice=='euclidean': return euclidean_distance\n",
    "    if choice=='cosine': return cosine_similarity\n",
    "    else: raise Error"
   ]
  },
  {
   "cell_type": "code",
   "execution_count": 9,
   "id": "542147ff",
   "metadata": {},
   "outputs": [],
   "source": [
    "length = values.shape[0]\n",
    "sim_matrix = np.zeros(shape=(length, length))"
   ]
  },
  {
   "cell_type": "code",
   "execution_count": 10,
   "id": "12f70000",
   "metadata": {},
   "outputs": [],
   "source": [
    "sim_func = choose_mx('cosine')"
   ]
  },
  {
   "cell_type": "code",
   "execution_count": 11,
   "id": "53b25c94",
   "metadata": {},
   "outputs": [],
   "source": [
    "length = values.shape[0]\n",
    "for i in range(length):\n",
    "    for j in range(i, length):\n",
    "        sim_score = sim_func(values[i], values[j], i==j)\n",
    "        # Store into matrix\n",
    "        sim_matrix[i][j] = sim_score\n",
    "        sim_matrix[j][i] = sim_score"
   ]
  },
  {
   "cell_type": "code",
   "execution_count": 12,
   "id": "1a51fe44",
   "metadata": {},
   "outputs": [
    {
     "data": {
      "text/plain": [
       "array([[1.        , 0.73668802, 0.11148996, 0.78493477, 0.29103062,\n",
       "        0.2321349 , 0.40635593, 0.77727341, 0.67882152, 0.44607259],\n",
       "       [0.73668802, 1.        , 0.22754743, 0.79384255, 0.43003351,\n",
       "        0.28843563, 0.5253357 , 0.8565287 , 0.54395178, 0.61415831],\n",
       "       [0.11148996, 0.22754743, 1.        , 0.15235756, 0.10311544,\n",
       "        0.12501576, 0.2003216 , 0.1177235 , 0.1967508 , 0.14471311],\n",
       "       [0.78493477, 0.79384255, 0.15235756, 1.        , 0.59570489,\n",
       "        0.51031294, 0.64085015, 0.74201007, 0.59055086, 0.77517463],\n",
       "       [0.29103062, 0.43003351, 0.10311544, 0.59570489, 1.        ,\n",
       "        0.33001234, 0.55108348, 0.3599177 , 0.29006012, 0.69788931],\n",
       "       [0.2321349 , 0.28843563, 0.12501576, 0.51031294, 0.33001234,\n",
       "        1.        , 0.60855725, 0.27571136, 0.25826553, 0.68338503],\n",
       "       [0.40635593, 0.5253357 , 0.2003216 , 0.64085015, 0.55108348,\n",
       "        0.60855725, 1.        , 0.4849384 , 0.44390175, 0.7131532 ],\n",
       "       [0.77727341, 0.8565287 , 0.1177235 , 0.74201007, 0.3599177 ,\n",
       "        0.27571136, 0.4849384 , 1.        , 0.62568472, 0.49631895],\n",
       "       [0.67882152, 0.54395178, 0.1967508 , 0.59055086, 0.29006012,\n",
       "        0.25826553, 0.44390175, 0.62568472, 1.        , 0.42079903],\n",
       "       [0.44607259, 0.61415831, 0.14471311, 0.77517463, 0.69788931,\n",
       "        0.68338503, 0.7131532 , 0.49631895, 0.42079903, 1.        ]])"
      ]
     },
     "execution_count": 12,
     "metadata": {},
     "output_type": "execute_result"
    }
   ],
   "source": [
    "sim_matrix"
   ]
  },
  {
   "cell_type": "code",
   "execution_count": 52,
   "id": "151b92da",
   "metadata": {},
   "outputs": [
    {
     "data": {
      "text/html": [
       "<div>\n",
       "<style scoped>\n",
       "    .dataframe tbody tr th:only-of-type {\n",
       "        vertical-align: middle;\n",
       "    }\n",
       "\n",
       "    .dataframe tbody tr th {\n",
       "        vertical-align: top;\n",
       "    }\n",
       "\n",
       "    .dataframe thead th {\n",
       "        text-align: right;\n",
       "    }\n",
       "</style>\n",
       "<table border=\"1\" class=\"dataframe\">\n",
       "  <thead>\n",
       "    <tr style=\"text-align: right;\">\n",
       "      <th></th>\n",
       "      <th>1222__pool_table__0.9999995.jpg</th>\n",
       "      <th>1328__coil__0.99999607.jpg</th>\n",
       "      <th>134__zebra__0.9999949.jpg</th>\n",
       "      <th>2377471__pizza__0.9999988.jpg</th>\n",
       "      <th>2377620__zebra__0.9999882.jpg</th>\n",
       "      <th>2377698__zebra__0.9999999.jpg</th>\n",
       "      <th>2378170__zebra__0.9999902.jpg</th>\n",
       "      <th>2378358__park_bench__0.99999833.jpg</th>\n",
       "      <th>2378523__banana__0.99999785.jpg</th>\n",
       "      <th>2379086__zebra__0.9999975.jpg</th>\n",
       "    </tr>\n",
       "  </thead>\n",
       "  <tbody>\n",
       "    <tr>\n",
       "      <th>1222__pool_table__0.9999995.jpg</th>\n",
       "      <td>0.000000</td>\n",
       "      <td>6285.621051</td>\n",
       "      <td>14593.537679</td>\n",
       "      <td>5772.380618</td>\n",
       "      <td>11441.225721</td>\n",
       "      <td>11880.166834</td>\n",
       "      <td>9123.238350</td>\n",
       "      <td>5983.605101</td>\n",
       "      <td>7356.368941</td>\n",
       "      <td>8848.581129</td>\n",
       "    </tr>\n",
       "    <tr>\n",
       "      <th>1328__coil__0.99999607.jpg</th>\n",
       "      <td>6285.621051</td>\n",
       "      <td>0.000000</td>\n",
       "      <td>12651.202235</td>\n",
       "      <td>4392.810718</td>\n",
       "      <td>9290.190310</td>\n",
       "      <td>10232.351538</td>\n",
       "      <td>6772.767824</td>\n",
       "      <td>4410.541237</td>\n",
       "      <td>7820.760705</td>\n",
       "      <td>6133.401177</td>\n",
       "    </tr>\n",
       "    <tr>\n",
       "      <th>134__zebra__0.9999949.jpg</th>\n",
       "      <td>14593.537679</td>\n",
       "      <td>12651.202235</td>\n",
       "      <td>0.000000</td>\n",
       "      <td>13183.485427</td>\n",
       "      <td>15001.600315</td>\n",
       "      <td>14800.066284</td>\n",
       "      <td>12944.626144</td>\n",
       "      <td>14127.997947</td>\n",
       "      <td>13790.634141</td>\n",
       "      <td>13337.084014</td>\n",
       "    </tr>\n",
       "    <tr>\n",
       "      <th>2377471__pizza__0.9999988.jpg</th>\n",
       "      <td>5772.380618</td>\n",
       "      <td>4392.810718</td>\n",
       "      <td>13183.485427</td>\n",
       "      <td>0.000000</td>\n",
       "      <td>8017.563096</td>\n",
       "      <td>8686.188347</td>\n",
       "      <td>5939.279418</td>\n",
       "      <td>5724.228682</td>\n",
       "      <td>7469.735471</td>\n",
       "      <td>4720.819844</td>\n",
       "    </tr>\n",
       "    <tr>\n",
       "      <th>2377620__zebra__0.9999882.jpg</th>\n",
       "      <td>11441.225721</td>\n",
       "      <td>9290.190310</td>\n",
       "      <td>15001.600315</td>\n",
       "      <td>8017.563096</td>\n",
       "      <td>0.000000</td>\n",
       "      <td>11442.310955</td>\n",
       "      <td>8428.155077</td>\n",
       "      <td>10472.219631</td>\n",
       "      <td>11316.109844</td>\n",
       "      <td>7097.954353</td>\n",
       "    </tr>\n",
       "  </tbody>\n",
       "</table>\n",
       "</div>"
      ],
      "text/plain": [
       "                                 1222__pool_table__0.9999995.jpg  \\\n",
       "1222__pool_table__0.9999995.jpg                         0.000000   \n",
       "1328__coil__0.99999607.jpg                           6285.621051   \n",
       "134__zebra__0.9999949.jpg                           14593.537679   \n",
       "2377471__pizza__0.9999988.jpg                        5772.380618   \n",
       "2377620__zebra__0.9999882.jpg                       11441.225721   \n",
       "\n",
       "                                 1328__coil__0.99999607.jpg  \\\n",
       "1222__pool_table__0.9999995.jpg                 6285.621051   \n",
       "1328__coil__0.99999607.jpg                         0.000000   \n",
       "134__zebra__0.9999949.jpg                      12651.202235   \n",
       "2377471__pizza__0.9999988.jpg                   4392.810718   \n",
       "2377620__zebra__0.9999882.jpg                   9290.190310   \n",
       "\n",
       "                                 134__zebra__0.9999949.jpg  \\\n",
       "1222__pool_table__0.9999995.jpg               14593.537679   \n",
       "1328__coil__0.99999607.jpg                    12651.202235   \n",
       "134__zebra__0.9999949.jpg                         0.000000   \n",
       "2377471__pizza__0.9999988.jpg                 13183.485427   \n",
       "2377620__zebra__0.9999882.jpg                 15001.600315   \n",
       "\n",
       "                                 2377471__pizza__0.9999988.jpg  \\\n",
       "1222__pool_table__0.9999995.jpg                    5772.380618   \n",
       "1328__coil__0.99999607.jpg                         4392.810718   \n",
       "134__zebra__0.9999949.jpg                         13183.485427   \n",
       "2377471__pizza__0.9999988.jpg                         0.000000   \n",
       "2377620__zebra__0.9999882.jpg                      8017.563096   \n",
       "\n",
       "                                 2377620__zebra__0.9999882.jpg  \\\n",
       "1222__pool_table__0.9999995.jpg                   11441.225721   \n",
       "1328__coil__0.99999607.jpg                         9290.190310   \n",
       "134__zebra__0.9999949.jpg                         15001.600315   \n",
       "2377471__pizza__0.9999988.jpg                      8017.563096   \n",
       "2377620__zebra__0.9999882.jpg                         0.000000   \n",
       "\n",
       "                                 2377698__zebra__0.9999999.jpg  \\\n",
       "1222__pool_table__0.9999995.jpg                   11880.166834   \n",
       "1328__coil__0.99999607.jpg                        10232.351538   \n",
       "134__zebra__0.9999949.jpg                         14800.066284   \n",
       "2377471__pizza__0.9999988.jpg                      8686.188347   \n",
       "2377620__zebra__0.9999882.jpg                     11442.310955   \n",
       "\n",
       "                                 2378170__zebra__0.9999902.jpg  \\\n",
       "1222__pool_table__0.9999995.jpg                    9123.238350   \n",
       "1328__coil__0.99999607.jpg                         6772.767824   \n",
       "134__zebra__0.9999949.jpg                         12944.626144   \n",
       "2377471__pizza__0.9999988.jpg                      5939.279418   \n",
       "2377620__zebra__0.9999882.jpg                      8428.155077   \n",
       "\n",
       "                                 2378358__park_bench__0.99999833.jpg  \\\n",
       "1222__pool_table__0.9999995.jpg                          5983.605101   \n",
       "1328__coil__0.99999607.jpg                               4410.541237   \n",
       "134__zebra__0.9999949.jpg                               14127.997947   \n",
       "2377471__pizza__0.9999988.jpg                            5724.228682   \n",
       "2377620__zebra__0.9999882.jpg                           10472.219631   \n",
       "\n",
       "                                 2378523__banana__0.99999785.jpg  \\\n",
       "1222__pool_table__0.9999995.jpg                      7356.368941   \n",
       "1328__coil__0.99999607.jpg                           7820.760705   \n",
       "134__zebra__0.9999949.jpg                           13790.634141   \n",
       "2377471__pizza__0.9999988.jpg                        7469.735471   \n",
       "2377620__zebra__0.9999882.jpg                       11316.109844   \n",
       "\n",
       "                                 2379086__zebra__0.9999975.jpg  \n",
       "1222__pool_table__0.9999995.jpg                    8848.581129  \n",
       "1328__coil__0.99999607.jpg                         6133.401177  \n",
       "134__zebra__0.9999949.jpg                         13337.084014  \n",
       "2377471__pizza__0.9999988.jpg                      4720.819844  \n",
       "2377620__zebra__0.9999882.jpg                      7097.954353  "
      ]
     },
     "execution_count": 52,
     "metadata": {},
     "output_type": "execute_result"
    }
   ],
   "source": [
    "sim_mx_df = pd.DataFrame(sim_matrix, data.index[:10], data.index[:10])\n",
    "sim_mx_df.head(5)"
   ]
  },
  {
   "cell_type": "code",
   "execution_count": null,
   "id": "10e39ba9",
   "metadata": {},
   "outputs": [],
   "source": []
  },
  {
   "cell_type": "code",
   "execution_count": 60,
   "id": "10e17486",
   "metadata": {},
   "outputs": [],
   "source": [
    "def calc_step(step):\n",
    "    if (step==1):\n",
    "        return 1\n",
    "    else:\n",
    "        return step + calc_step(step-1)"
   ]
  },
  {
   "cell_type": "code",
   "execution_count": 61,
   "id": "25d1f894",
   "metadata": {},
   "outputs": [
    {
     "data": {
      "text/plain": [
       "19701"
      ]
     },
     "execution_count": 61,
     "metadata": {},
     "output_type": "execute_result"
    }
   ],
   "source": [
    "calc_step(198)"
   ]
  },
  {
   "cell_type": "code",
   "execution_count": 81,
   "id": "a9882155",
   "metadata": {},
   "outputs": [
    {
     "data": {
      "text/plain": [
       "[[0, 'c1', 0.1], [1, 'c2', 0.7], [2, 'c3', 0.2]]"
      ]
     },
     "execution_count": 81,
     "metadata": {},
     "output_type": "execute_result"
    }
   ],
   "source": [
    "class1 = [[0, 'c1', 0.1],[1, 'c2', 0.7],[2, 'c3', 0.2]]\n",
    "class2 = [[0, 'c1', 0.05],[1, 'c2', 0.85],[2, 'c3', 0.1]]\n",
    "class1"
   ]
  },
  {
   "cell_type": "code",
   "execution_count": 82,
   "id": "f14f3b24",
   "metadata": {},
   "outputs": [
    {
     "data": {
      "text/plain": [
       "[[0, 'c1', 0.1],\n",
       " [1, 'c2', 0.7],\n",
       " [2, 'c3', 0.2],\n",
       " [0, 'c1', 0.05],\n",
       " [1, 'c2', 0.85],\n",
       " [2, 'c3', 0.1]]"
      ]
     },
     "execution_count": 82,
     "metadata": {},
     "output_type": "execute_result"
    }
   ],
   "source": [
    "data1 = list()\n",
    "data1.extend(class1)\n",
    "data1.extend(class2)\n",
    "data1"
   ]
  },
  {
   "cell_type": "code",
   "execution_count": 83,
   "id": "e3a703fb",
   "metadata": {},
   "outputs": [],
   "source": [
    "data2 = {}"
   ]
  },
  {
   "cell_type": "code",
   "execution_count": 84,
   "id": "cd8222d6",
   "metadata": {},
   "outputs": [],
   "source": [
    "data2 = dict()\n",
    "for element in data1:\n",
    "    if element[1] in data2:\n",
    "        data2[element[1]] += element[2]\n",
    "    else:\n",
    "        data2[element[1]] = element[2]"
   ]
  },
  {
   "cell_type": "code",
   "execution_count": 85,
   "id": "991a1857",
   "metadata": {},
   "outputs": [],
   "source": [
    "import math"
   ]
  },
  {
   "cell_type": "code",
   "execution_count": 86,
   "id": "6e03d2d5",
   "metadata": {},
   "outputs": [
    {
     "data": {
      "text/plain": [
       "1.5858751527153703"
      ]
     },
     "execution_count": 86,
     "metadata": {},
     "output_type": "execute_result"
    }
   ],
   "source": [
    "result = 0.0\n",
    "for v in data2.values():\n",
    "    result += v*v\n",
    "math.sqrt(result)"
   ]
  },
  {
   "cell_type": "code",
   "execution_count": 13,
   "id": "08c22499",
   "metadata": {},
   "outputs": [
    {
     "data": {
      "text/plain": [
       "-0.9864876556434157"
      ]
     },
     "execution_count": 13,
     "metadata": {},
     "output_type": "execute_result"
    }
   ],
   "source": [
    "cosine_similarity([3, 4, 3335],[-2, -3, -5])"
   ]
  }
 ],
 "metadata": {
  "kernelspec": {
   "display_name": "Python 3",
   "language": "python",
   "name": "python3"
  },
  "language_info": {
   "codemirror_mode": {
    "name": "ipython",
    "version": 3
   },
   "file_extension": ".py",
   "mimetype": "text/x-python",
   "name": "python",
   "nbconvert_exporter": "python",
   "pygments_lexer": "ipython3",
   "version": "3.8.5"
  }
 },
 "nbformat": 4,
 "nbformat_minor": 5
}
