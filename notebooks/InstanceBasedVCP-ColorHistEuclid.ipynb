{
 "cells": [
  {
   "cell_type": "markdown",
   "id": "8a7739ab",
   "metadata": {},
   "source": [
    "# Instance-based Vote Count Prediction for new images"
   ]
  },
  {
   "cell_type": "code",
   "execution_count": 1,
   "id": "54b9159c",
   "metadata": {},
   "outputs": [],
   "source": [
    "import pandas as pd\n",
    "import numpy as np\n",
    "import matplotlib.pyplot as plt\n",
    "import os\n",
    "import sklearn"
   ]
  },
  {
   "cell_type": "markdown",
   "id": "bec80c58",
   "metadata": {},
   "source": [
    "## Loading Data"
   ]
  },
  {
   "cell_type": "code",
   "execution_count": 2,
   "id": "8aca39e0",
   "metadata": {},
   "outputs": [],
   "source": [
    "# Loading IncV1 latent features\n",
    "SIM_MX_FILE_PATH = os.path.join('..', 'results', 'matrices', 'color_hist_euclid_sim_matrix.csv')\n",
    "VOTES_FILE_PATH = os.path.join('..', 'results', 'votes_summary.csv')"
   ]
  },
  {
   "cell_type": "markdown",
   "id": "47c0edcd",
   "metadata": {},
   "source": [
    "#### Data (Sim. Matrix between images)"
   ]
  },
  {
   "cell_type": "code",
   "execution_count": 3,
   "id": "4e2b9449",
   "metadata": {},
   "outputs": [
    {
     "data": {
      "text/html": [
       "<div>\n",
       "<style scoped>\n",
       "    .dataframe tbody tr th:only-of-type {\n",
       "        vertical-align: middle;\n",
       "    }\n",
       "\n",
       "    .dataframe tbody tr th {\n",
       "        vertical-align: top;\n",
       "    }\n",
       "\n",
       "    .dataframe thead th {\n",
       "        text-align: right;\n",
       "    }\n",
       "</style>\n",
       "<table border=\"1\" class=\"dataframe\">\n",
       "  <thead>\n",
       "    <tr style=\"text-align: right;\">\n",
       "      <th></th>\n",
       "      <th>1222__pool_table__0.9999995.jpg</th>\n",
       "      <th>1328__coil__0.99999607.jpg</th>\n",
       "      <th>134__zebra__0.9999949.jpg</th>\n",
       "      <th>2377471__pizza__0.9999988.jpg</th>\n",
       "      <th>2377620__zebra__0.9999882.jpg</th>\n",
       "      <th>2377698__zebra__0.9999999.jpg</th>\n",
       "      <th>2378170__zebra__0.9999902.jpg</th>\n",
       "      <th>2378358__park_bench__0.99999833.jpg</th>\n",
       "      <th>2378523__banana__0.99999785.jpg</th>\n",
       "      <th>2379086__zebra__0.9999975.jpg</th>\n",
       "      <th>...</th>\n",
       "      <th>2417881__zebra__0.9999945.jpg</th>\n",
       "      <th>2417938__banana__0.9999944.jpg</th>\n",
       "      <th>4099__pool_table__0.9999945.jpg</th>\n",
       "      <th>4339__manhole_cover__0.99999416.jpg</th>\n",
       "      <th>4534__viaduct__0.9999877.jpg</th>\n",
       "      <th>4573__barrel__0.9999974.jpg</th>\n",
       "      <th>4673__triumphal_arch__0.9999893.jpg</th>\n",
       "      <th>576__gondola__0.9999993.jpg</th>\n",
       "      <th>577__gondola__0.9999962.jpg</th>\n",
       "      <th>691__cheetah__0.99999213.jpg</th>\n",
       "    </tr>\n",
       "  </thead>\n",
       "  <tbody>\n",
       "    <tr>\n",
       "      <th>1222__pool_table__0.9999995.jpg</th>\n",
       "      <td>0.000000</td>\n",
       "      <td>6285.621051</td>\n",
       "      <td>14593.537679</td>\n",
       "      <td>5772.380618</td>\n",
       "      <td>11441.225721</td>\n",
       "      <td>11880.166834</td>\n",
       "      <td>9123.238350</td>\n",
       "      <td>5983.605101</td>\n",
       "      <td>7356.368941</td>\n",
       "      <td>8848.581129</td>\n",
       "      <td>...</td>\n",
       "      <td>10007.829435</td>\n",
       "      <td>8019.789274</td>\n",
       "      <td>10733.466448</td>\n",
       "      <td>9367.552722</td>\n",
       "      <td>8243.123316</td>\n",
       "      <td>7766.734835</td>\n",
       "      <td>7264.524073</td>\n",
       "      <td>9446.944797</td>\n",
       "      <td>7846.279883</td>\n",
       "      <td>8571.525069</td>\n",
       "    </tr>\n",
       "    <tr>\n",
       "      <th>1328__coil__0.99999607.jpg</th>\n",
       "      <td>6285.621051</td>\n",
       "      <td>0.000000</td>\n",
       "      <td>12651.202235</td>\n",
       "      <td>4392.810718</td>\n",
       "      <td>9290.190310</td>\n",
       "      <td>10232.351538</td>\n",
       "      <td>6772.767824</td>\n",
       "      <td>4410.541237</td>\n",
       "      <td>7820.760705</td>\n",
       "      <td>6133.401177</td>\n",
       "      <td>...</td>\n",
       "      <td>7638.769273</td>\n",
       "      <td>5194.897304</td>\n",
       "      <td>8131.912321</td>\n",
       "      <td>6862.227918</td>\n",
       "      <td>6088.735008</td>\n",
       "      <td>7629.691999</td>\n",
       "      <td>3859.095749</td>\n",
       "      <td>7329.847611</td>\n",
       "      <td>5987.893787</td>\n",
       "      <td>6005.235050</td>\n",
       "    </tr>\n",
       "    <tr>\n",
       "      <th>134__zebra__0.9999949.jpg</th>\n",
       "      <td>14593.537679</td>\n",
       "      <td>12651.202235</td>\n",
       "      <td>0.000000</td>\n",
       "      <td>13183.485427</td>\n",
       "      <td>15001.600315</td>\n",
       "      <td>14800.066284</td>\n",
       "      <td>12944.626144</td>\n",
       "      <td>14127.997947</td>\n",
       "      <td>13790.634141</td>\n",
       "      <td>13337.084014</td>\n",
       "      <td>...</td>\n",
       "      <td>13134.598129</td>\n",
       "      <td>13174.048960</td>\n",
       "      <td>11249.446564</td>\n",
       "      <td>13218.859331</td>\n",
       "      <td>11597.730726</td>\n",
       "      <td>14856.417065</td>\n",
       "      <td>11823.161168</td>\n",
       "      <td>13457.201195</td>\n",
       "      <td>13181.741160</td>\n",
       "      <td>12538.407634</td>\n",
       "    </tr>\n",
       "  </tbody>\n",
       "</table>\n",
       "<p>3 rows × 198 columns</p>\n",
       "</div>"
      ],
      "text/plain": [
       "                                 1222__pool_table__0.9999995.jpg  \\\n",
       "1222__pool_table__0.9999995.jpg                         0.000000   \n",
       "1328__coil__0.99999607.jpg                           6285.621051   \n",
       "134__zebra__0.9999949.jpg                           14593.537679   \n",
       "\n",
       "                                 1328__coil__0.99999607.jpg  \\\n",
       "1222__pool_table__0.9999995.jpg                 6285.621051   \n",
       "1328__coil__0.99999607.jpg                         0.000000   \n",
       "134__zebra__0.9999949.jpg                      12651.202235   \n",
       "\n",
       "                                 134__zebra__0.9999949.jpg  \\\n",
       "1222__pool_table__0.9999995.jpg               14593.537679   \n",
       "1328__coil__0.99999607.jpg                    12651.202235   \n",
       "134__zebra__0.9999949.jpg                         0.000000   \n",
       "\n",
       "                                 2377471__pizza__0.9999988.jpg  \\\n",
       "1222__pool_table__0.9999995.jpg                    5772.380618   \n",
       "1328__coil__0.99999607.jpg                         4392.810718   \n",
       "134__zebra__0.9999949.jpg                         13183.485427   \n",
       "\n",
       "                                 2377620__zebra__0.9999882.jpg  \\\n",
       "1222__pool_table__0.9999995.jpg                   11441.225721   \n",
       "1328__coil__0.99999607.jpg                         9290.190310   \n",
       "134__zebra__0.9999949.jpg                         15001.600315   \n",
       "\n",
       "                                 2377698__zebra__0.9999999.jpg  \\\n",
       "1222__pool_table__0.9999995.jpg                   11880.166834   \n",
       "1328__coil__0.99999607.jpg                        10232.351538   \n",
       "134__zebra__0.9999949.jpg                         14800.066284   \n",
       "\n",
       "                                 2378170__zebra__0.9999902.jpg  \\\n",
       "1222__pool_table__0.9999995.jpg                    9123.238350   \n",
       "1328__coil__0.99999607.jpg                         6772.767824   \n",
       "134__zebra__0.9999949.jpg                         12944.626144   \n",
       "\n",
       "                                 2378358__park_bench__0.99999833.jpg  \\\n",
       "1222__pool_table__0.9999995.jpg                          5983.605101   \n",
       "1328__coil__0.99999607.jpg                               4410.541237   \n",
       "134__zebra__0.9999949.jpg                               14127.997947   \n",
       "\n",
       "                                 2378523__banana__0.99999785.jpg  \\\n",
       "1222__pool_table__0.9999995.jpg                      7356.368941   \n",
       "1328__coil__0.99999607.jpg                           7820.760705   \n",
       "134__zebra__0.9999949.jpg                           13790.634141   \n",
       "\n",
       "                                 2379086__zebra__0.9999975.jpg  ...  \\\n",
       "1222__pool_table__0.9999995.jpg                    8848.581129  ...   \n",
       "1328__coil__0.99999607.jpg                         6133.401177  ...   \n",
       "134__zebra__0.9999949.jpg                         13337.084014  ...   \n",
       "\n",
       "                                 2417881__zebra__0.9999945.jpg  \\\n",
       "1222__pool_table__0.9999995.jpg                   10007.829435   \n",
       "1328__coil__0.99999607.jpg                         7638.769273   \n",
       "134__zebra__0.9999949.jpg                         13134.598129   \n",
       "\n",
       "                                 2417938__banana__0.9999944.jpg  \\\n",
       "1222__pool_table__0.9999995.jpg                     8019.789274   \n",
       "1328__coil__0.99999607.jpg                          5194.897304   \n",
       "134__zebra__0.9999949.jpg                          13174.048960   \n",
       "\n",
       "                                 4099__pool_table__0.9999945.jpg  \\\n",
       "1222__pool_table__0.9999995.jpg                     10733.466448   \n",
       "1328__coil__0.99999607.jpg                           8131.912321   \n",
       "134__zebra__0.9999949.jpg                           11249.446564   \n",
       "\n",
       "                                 4339__manhole_cover__0.99999416.jpg  \\\n",
       "1222__pool_table__0.9999995.jpg                          9367.552722   \n",
       "1328__coil__0.99999607.jpg                               6862.227918   \n",
       "134__zebra__0.9999949.jpg                               13218.859331   \n",
       "\n",
       "                                 4534__viaduct__0.9999877.jpg  \\\n",
       "1222__pool_table__0.9999995.jpg                   8243.123316   \n",
       "1328__coil__0.99999607.jpg                        6088.735008   \n",
       "134__zebra__0.9999949.jpg                        11597.730726   \n",
       "\n",
       "                                 4573__barrel__0.9999974.jpg  \\\n",
       "1222__pool_table__0.9999995.jpg                  7766.734835   \n",
       "1328__coil__0.99999607.jpg                       7629.691999   \n",
       "134__zebra__0.9999949.jpg                       14856.417065   \n",
       "\n",
       "                                 4673__triumphal_arch__0.9999893.jpg  \\\n",
       "1222__pool_table__0.9999995.jpg                          7264.524073   \n",
       "1328__coil__0.99999607.jpg                               3859.095749   \n",
       "134__zebra__0.9999949.jpg                               11823.161168   \n",
       "\n",
       "                                 576__gondola__0.9999993.jpg  \\\n",
       "1222__pool_table__0.9999995.jpg                  9446.944797   \n",
       "1328__coil__0.99999607.jpg                       7329.847611   \n",
       "134__zebra__0.9999949.jpg                       13457.201195   \n",
       "\n",
       "                                 577__gondola__0.9999962.jpg  \\\n",
       "1222__pool_table__0.9999995.jpg                  7846.279883   \n",
       "1328__coil__0.99999607.jpg                       5987.893787   \n",
       "134__zebra__0.9999949.jpg                       13181.741160   \n",
       "\n",
       "                                 691__cheetah__0.99999213.jpg  \n",
       "1222__pool_table__0.9999995.jpg                   8571.525069  \n",
       "1328__coil__0.99999607.jpg                        6005.235050  \n",
       "134__zebra__0.9999949.jpg                        12538.407634  \n",
       "\n",
       "[3 rows x 198 columns]"
      ]
     },
     "execution_count": 3,
     "metadata": {},
     "output_type": "execute_result"
    }
   ],
   "source": [
    "sim_mx_df = pd.read_csv(SIM_MX_FILE_PATH, index_col=0)\n",
    "sim_mx_df.head(3)"
   ]
  },
  {
   "cell_type": "markdown",
   "id": "4f93c8c9",
   "metadata": {},
   "source": [
    "#### Votes"
   ]
  },
  {
   "cell_type": "code",
   "execution_count": 4,
   "id": "d49ae7a6",
   "metadata": {},
   "outputs": [
    {
     "data": {
      "text/html": [
       "<div>\n",
       "<style scoped>\n",
       "    .dataframe tbody tr th:only-of-type {\n",
       "        vertical-align: middle;\n",
       "    }\n",
       "\n",
       "    .dataframe tbody tr th {\n",
       "        vertical-align: top;\n",
       "    }\n",
       "\n",
       "    .dataframe thead th {\n",
       "        text-align: right;\n",
       "    }\n",
       "</style>\n",
       "<table border=\"1\" class=\"dataframe\">\n",
       "  <thead>\n",
       "    <tr style=\"text-align: right;\">\n",
       "      <th></th>\n",
       "      <th>ig</th>\n",
       "      <th>lime</th>\n",
       "      <th>xrai</th>\n",
       "      <th>anchor</th>\n",
       "      <th>best</th>\n",
       "    </tr>\n",
       "  </thead>\n",
       "  <tbody>\n",
       "    <tr>\n",
       "      <th>1222__pool_table__0.9999995.jpg</th>\n",
       "      <td>12</td>\n",
       "      <td>13</td>\n",
       "      <td>3</td>\n",
       "      <td>1</td>\n",
       "      <td>lime</td>\n",
       "    </tr>\n",
       "    <tr>\n",
       "      <th>1328__coil__0.99999607.jpg</th>\n",
       "      <td>17</td>\n",
       "      <td>4</td>\n",
       "      <td>3</td>\n",
       "      <td>2</td>\n",
       "      <td>ig</td>\n",
       "    </tr>\n",
       "    <tr>\n",
       "      <th>134__zebra__0.9999949.jpg</th>\n",
       "      <td>14</td>\n",
       "      <td>1</td>\n",
       "      <td>8</td>\n",
       "      <td>2</td>\n",
       "      <td>ig</td>\n",
       "    </tr>\n",
       "  </tbody>\n",
       "</table>\n",
       "</div>"
      ],
      "text/plain": [
       "                                 ig  lime  xrai  anchor  best\n",
       "1222__pool_table__0.9999995.jpg  12    13     3       1  lime\n",
       "1328__coil__0.99999607.jpg       17     4     3       2    ig\n",
       "134__zebra__0.9999949.jpg        14     1     8       2    ig"
      ]
     },
     "execution_count": 4,
     "metadata": {},
     "output_type": "execute_result"
    }
   ],
   "source": [
    "votes_df = pd.read_csv(VOTES_FILE_PATH, index_col=0)\n",
    "votes_df.head(3)"
   ]
  },
  {
   "cell_type": "markdown",
   "id": "1aa58471",
   "metadata": {},
   "source": [
    "Here's a sanity check for vote proportion in our the dataset. In the original XAI-CBR paper, vote proportion was like this:\n",
    "- IG: 45%\n",
    "- XRAI: 30%\n",
    "- LIME: 18%\n",
    "- ANCHOR: 7%\n",
    "\n",
    "Also, IG was the most voted technique, at least by hard voting aggregation, with a majority of 62% images.\n"
   ]
  },
  {
   "cell_type": "code",
   "execution_count": 5,
   "id": "45e9a162",
   "metadata": {},
   "outputs": [
    {
     "data": {
      "text/plain": [
       "ig        0.488315\n",
       "lime      0.183467\n",
       "xrai      0.271713\n",
       "anchor    0.056505\n",
       "dtype: float64"
      ]
     },
     "execution_count": 5,
     "metadata": {},
     "output_type": "execute_result"
    }
   ],
   "source": [
    "votes_df[['ig','lime','xrai','anchor']].sum() / 2867"
   ]
  },
  {
   "cell_type": "markdown",
   "id": "850f4b64",
   "metadata": {},
   "source": [
    "There's a slight imbalance of these proportions with respect to ones presented in the paper. It seems like some votes from XRAI and ANCHOR techniques drifted out to the IG technique. We'll check this out later, this should not be of great importance in the experiments of this notebook."
   ]
  },
  {
   "cell_type": "markdown",
   "id": "b5aa2ccd",
   "metadata": {},
   "source": [
    "### Data Preprocessing"
   ]
  },
  {
   "cell_type": "code",
   "execution_count": 6,
   "id": "c088b075",
   "metadata": {},
   "outputs": [],
   "source": [
    "X = sim_mx_df.values # Values from sim. matrix\n",
    "X_names = sim_mx_df.index.values # Names of every image\n",
    "y = votes_df.values[:, :4] # Vote count for each imae\n",
    "best = votes_df.values[:, -1] # Most voted technique for each image"
   ]
  },
  {
   "cell_type": "code",
   "execution_count": 7,
   "id": "1583b84f",
   "metadata": {},
   "outputs": [
    {
     "name": "stdout",
     "output_type": "stream",
     "text": [
      "(198, 198) (198,) (198, 4) (198,)\n"
     ]
    }
   ],
   "source": [
    "print(X.shape, X_names.shape, y.shape, best.shape)"
   ]
  },
  {
   "cell_type": "markdown",
   "id": "86f90b4c",
   "metadata": {},
   "source": [
    "#### Instance deletion\n",
    "Stratified Subsampling cannot be performed onto the dataset because only one instance is best explained with ANCHOR. Due to the very small importance of that instance in the dataset, we will continue without that instance (i.e. we will find that instance and remove it from the dataset)."
   ]
  },
  {
   "cell_type": "code",
   "execution_count": 8,
   "id": "e7183035",
   "metadata": {},
   "outputs": [
    {
     "data": {
      "text/plain": [
       "array([155], dtype=int64)"
      ]
     },
     "execution_count": 8,
     "metadata": {},
     "output_type": "execute_result"
    }
   ],
   "source": [
    "# At what index is the anchor instance located?\n",
    "anchor_idxs = np.argwhere(best == 'anchor')[0]\n",
    "anchor_idxs"
   ]
  },
  {
   "cell_type": "code",
   "execution_count": 9,
   "id": "57b22159",
   "metadata": {},
   "outputs": [
    {
     "data": {
      "text/plain": [
       "(array(['2411942__zebra__0.99999654.jpg'], dtype=object),\n",
       " array(['anchor'], dtype=object))"
      ]
     },
     "execution_count": 9,
     "metadata": {},
     "output_type": "execute_result"
    }
   ],
   "source": [
    "# What's the name of that image and its associated technique?\n",
    "X_names[anchor_idxs], best[anchor_idxs]"
   ]
  },
  {
   "cell_type": "code",
   "execution_count": 10,
   "id": "3f9ba43d",
   "metadata": {},
   "outputs": [],
   "source": [
    "# Delete that instance from all data partitions (X, y, etc.)\n",
    "X = np.delete(X, anchor_idxs, axis=0)\n",
    "X = np.delete(X, anchor_idxs, axis=1) # Twice in sim. matrix (both rows and columns)\n",
    "X_names = np.delete(X_names, anchor_idxs, axis=0)\n",
    "y = np.delete(y, anchor_idxs, axis=0)\n",
    "best = np.delete(best, anchor_idxs, axis=0)"
   ]
  },
  {
   "cell_type": "code",
   "execution_count": 11,
   "id": "097393d7",
   "metadata": {},
   "outputs": [
    {
     "name": "stdout",
     "output_type": "stream",
     "text": [
      "(197, 197) (197,) (197, 4) (197,)\n"
     ]
    }
   ],
   "source": [
    "print(X.shape, X_names.shape, y.shape, best.shape)"
   ]
  },
  {
   "cell_type": "markdown",
   "id": "dfacd9b4",
   "metadata": {},
   "source": [
    "## Splitting and Fold Creation"
   ]
  },
  {
   "cell_type": "code",
   "execution_count": 12,
   "id": "ab5a435d",
   "metadata": {},
   "outputs": [],
   "source": [
    "from sklearn.model_selection import StratifiedShuffleSplit as SSS\n",
    "from sklearn.model_selection import ShuffleSplit as SS"
   ]
  },
  {
   "cell_type": "markdown",
   "id": "30c2da70",
   "metadata": {},
   "source": [
    "#### TODO: Should I perform statified subsampling or standard subsampling?"
   ]
  },
  {
   "cell_type": "code",
   "execution_count": 13,
   "id": "4f2a2719",
   "metadata": {},
   "outputs": [],
   "source": [
    "STRATIFIED = True"
   ]
  },
  {
   "cell_type": "code",
   "execution_count": 14,
   "id": "e37cb918",
   "metadata": {},
   "outputs": [],
   "source": [
    "# Perform split\n",
    "splitter = None\n",
    "if STRATIFIED: splitter = SSS(n_splits=5, test_size=0.2, random_state=42)\n",
    "else: splitter = SS(n_splits=5, test_size=0.2, random_state=42)\n",
    "splits = splitter.split(X, best)\n",
    "splits = list(splits)"
   ]
  },
  {
   "cell_type": "code",
   "execution_count": 15,
   "id": "ce86528d",
   "metadata": {},
   "outputs": [
    {
     "data": {
      "text/plain": [
       "(array([192, 147, 177,  11, 140,  51, 127, 118, 172, 191,  62, 124, 115,\n",
       "         80, 190, 142,  92,  69,  25,  14,  42,   3, 185,  90,  10,  76,\n",
       "        176, 114,  44,  98, 166, 121,  79, 170,   1, 183,  28,  31, 155,\n",
       "         75, 156, 101, 171,  13, 110, 122,  38,  27, 136,  20,   6,  56,\n",
       "         35,  59, 139,  33,  78,  82,  21, 167, 117,  12,  49,  15,   5,\n",
       "        152, 132,  81,  61, 163, 175,  91,   7, 174, 135,  74, 193, 129,\n",
       "         60,  96,  50, 161, 159, 145, 126,  19,  65, 188,  73,  89, 133,\n",
       "        179,  40,  86, 112,  26, 168, 189, 149,  94, 194,  18, 138, 169,\n",
       "        102,  97,  71, 130,  53,  99, 148, 154,   8,  34, 182, 105,  55,\n",
       "         95, 153,  72, 144,  77,  52,  30,   9,  37,   4,  93, 128, 137,\n",
       "        195, 160, 111,  45, 164, 151,  29,  48,  70,  43,  57, 157,  39,\n",
       "        141,  85, 150,  67,   0,  47, 113,  32,  17, 131, 180,  66, 100,\n",
       "        186], dtype=int64),\n",
       " array([ 54, 187, 103,  23, 104, 108, 181,  64, 109, 134,  16, 146,   2,\n",
       "        116, 106, 119, 165,  41, 120, 178, 173, 125,  58, 184,  36,  63,\n",
       "        107,  24, 162,  83,  84,  88, 123,  46, 143,  87,  22, 196,  68,\n",
       "        158], dtype=int64))"
      ]
     },
     "execution_count": 15,
     "metadata": {},
     "output_type": "execute_result"
    }
   ],
   "source": [
    "splits[0]"
   ]
  },
  {
   "cell_type": "markdown",
   "id": "eeece880",
   "metadata": {},
   "source": [
    "## Vote Count Prediction"
   ]
  },
  {
   "cell_type": "code",
   "execution_count": 16,
   "id": "021f33b4",
   "metadata": {},
   "outputs": [],
   "source": [
    "def get_nearest_instances_indices(dist_to_train_imgs, train_idxs, k):\n",
    "    if k >= len(dist_to_train_imgs): nearest_train_idxs = train_idxs\n",
    "    else:\n",
    "        nearest_train_idxs = []\n",
    "        for i in range(k): # K times...\n",
    "            nearest_train_idx, min_dist = None, np.inf\n",
    "            # ...iterate searching the nearest iamge\n",
    "            for dist, train_idx in zip(dist_to_train_imgs, train_idxs):\n",
    "                if train_idx in nearest_train_idxs: continue # ignore prev. found nearest clusters\n",
    "                if dist < min_dist: nearest_train_idx, min_dist = train_idx, dist\n",
    "            nearest_train_idxs.append(nearest_train_idx)\n",
    "        nearest_train_idxs = np.array(nearest_train_idxs)\n",
    "    return nearest_train_idxs\n",
    "\n",
    "def get_indiv_vote_predictions(split_idx, k):\n",
    "    vote_predictions = {}\n",
    "    # Prepare data\n",
    "    train_idxs = splits[split_idx][0]\n",
    "    test_idxs = splits[split_idx][1]\n",
    "    # For each test image...\n",
    "    for test_img_idx in test_idxs:\n",
    "        # Get distances from test img to each train image\n",
    "        dist_to_train_imgs = X[test_img_idx, train_idxs]\n",
    "        # Using those distances, find the nearest k clusters\n",
    "        kn_train_idxs =  get_nearest_instances_indices(dist_to_train_imgs, train_idxs, k=k)\n",
    "        # Aggregate the vote counts associated with those instances\n",
    "        nearest_vote_counts = [y[train_idx] for train_idx in kn_train_idxs]\n",
    "        unrounded_vcp = np.average(np.array(nearest_vote_counts, np.float64), axis=0)\n",
    "        vote_count_prediction = np.round(unrounded_vcp) # int parsing needed?\n",
    "        # Associate an image's name with its vote prediction\n",
    "        test_img_name = X_names[test_img_idx]\n",
    "        vote_predictions[test_img_name] = vote_count_prediction\n",
    "    return vote_predictions\n",
    "\n",
    "def get_global_vote_predictions(no_of_splits, k):\n",
    "    global_vote_predictions = {}\n",
    "    for split_idx in range(no_of_splits):\n",
    "        global_vote_predictions[split_idx] = get_indiv_vote_predictions(split_idx, k=k)\n",
    "    return global_vote_predictions"
   ]
  },
  {
   "cell_type": "code",
   "execution_count": 17,
   "id": "0a9b8ca8",
   "metadata": {},
   "outputs": [],
   "source": [
    "no_of_splits = 5\n",
    "global_vote_predictions_k1 = get_global_vote_predictions(no_of_splits=no_of_splits, k=1)\n",
    "global_vote_predictions_k3 = get_global_vote_predictions(no_of_splits=no_of_splits, k=3)\n",
    "global_vote_predictions_k5 = get_global_vote_predictions(no_of_splits=no_of_splits, k=5)\n",
    "global_vote_predictions_k7 = get_global_vote_predictions(no_of_splits=no_of_splits, k=7)\n",
    "global_vote_predictions_k9 = get_global_vote_predictions(no_of_splits=no_of_splits, k=9)\n",
    "global_vote_predictions_k10 = get_global_vote_predictions(no_of_splits=no_of_splits, k=10)\n",
    "global_vote_predictions_k11 = get_global_vote_predictions(no_of_splits=no_of_splits, k=11)\n",
    "global_vote_predictions_k13 = get_global_vote_predictions(no_of_splits=no_of_splits, k=13)\n",
    "global_vote_predictions_k15 = get_global_vote_predictions(no_of_splits=no_of_splits, k=15)\n",
    "global_vote_predictions_k17 = get_global_vote_predictions(no_of_splits=no_of_splits, k=17)\n",
    "global_vote_predictions_k19 = get_global_vote_predictions(no_of_splits=no_of_splits, k=19)\n",
    "global_vote_predictions_k20 = get_global_vote_predictions(no_of_splits=no_of_splits, k=20)"
   ]
  },
  {
   "cell_type": "code",
   "execution_count": 18,
   "id": "583af8ce",
   "metadata": {
    "scrolled": true
   },
   "outputs": [
    {
     "data": {
      "text/plain": [
       "{0: {'2388889__hotdog__0.99999714.jpg': array([10.,  3.,  3.,  0.]),\n",
       "  '2417881__zebra__0.9999945.jpg': array([6., 1., 5., 2.]),\n",
       "  '2403403__banana__0.9999926.jpg': array([9., 1., 3., 1.]),\n",
       "  '2381941__zebra__0.9999914.jpg': array([5., 3., 5., 1.]),\n",
       "  '2403741__zebra__0.99999523.jpg': array([9., 2., 4., 2.]),\n",
       "  '2404281__zebra__0.999998.jpg': array([7., 1., 4., 3.]),\n",
       "  '2416627__zebra__0.9999987.jpg': array([7., 2., 3., 0.]),\n",
       "  '2391964__flamingo__1.0.jpg': array([7., 2., 4., 0.]),\n",
       "  '2404583__umbrella__0.99999297.jpg': array([5., 3., 6., 1.]),\n",
       "  '2409637__four-poster__0.99999464.jpg': array([6., 3., 3., 2.]),\n",
       "  '2380669__parking_meter__0.9999993.jpg': array([7., 1., 5., 0.]),\n",
       "  '2411196__crane__0.9999995.jpg': array([7., 2., 4., 2.]),\n",
       "  '134__zebra__0.9999949.jpg': array([7., 2., 3., 2.]),\n",
       "  '2405905__traffic_light__0.99999535.jpg': array([7., 3., 5., 1.]),\n",
       "  '2404127__zebra__0.9999933.jpg': array([6., 2., 5., 0.]),\n",
       "  '2406857__zebra__0.9999894.jpg': array([8., 3., 2., 1.]),\n",
       "  '2414277__zebra__0.9999908.jpg': array([6., 2., 5., 0.]),\n",
       "  '2385298__parking_meter__0.9999865.jpg': array([10.,  2.,  5.,  1.]),\n",
       "  '2406887__ski__0.99999785.jpg': array([8., 1., 4., 2.]),\n",
       "  '2416228__parking_meter__0.9999914.jpg': array([9., 3., 3., 1.]),\n",
       "  '2415402__zebra__0.99998903.jpg': array([5., 2., 5., 1.]),\n",
       "  '2408701__zebra__0.9999981.jpg': array([5., 5., 3., 0.]),\n",
       "  '2389484__street_sign__0.99998474.jpg': array([9., 3., 4., 1.]),\n",
       "  '2417395__zebra__0.9999993.jpg': array([6., 2., 6., 0.]),\n",
       "  '2384512__zebra__0.99999726.jpg': array([7., 3., 5., 0.]),\n",
       "  '2391918__steam_locomotive__0.99999845.jpg': array([9., 2., 3., 2.]),\n",
       "  '2404229__zebra__0.99998367.jpg': array([8., 3., 3., 0.]),\n",
       "  '2381968__ski__0.999984.jpg': array([6., 4., 2., 1.]),\n",
       "  '2413495__traffic_light__0.9999925.jpg': array([8., 2., 4., 1.]),\n",
       "  '2398585__bow_tie__0.9999838.jpg': array([7., 2., 5., 0.]),\n",
       "  '2398771__traffic_light__0.99999.jpg': array([6., 1., 6., 0.]),\n",
       "  '2400121__pizza__0.9999962.jpg': array([10.,  1.,  2.,  2.]),\n",
       "  '2407951__zebra__0.9999975.jpg': array([9., 2., 3., 1.]),\n",
       "  '2386193__broccoli__0.9999924.jpg': array([9., 2., 3., 1.]),\n",
       "  '2410903__steam_locomotive__0.9999876.jpg': array([7., 2., 5., 1.]),\n",
       "  '2399675__zebra__0.9999883.jpg': array([8., 1., 5., 0.]),\n",
       "  '2381932__traffic_light__0.99999964.jpg': array([7., 3., 5., 0.]),\n",
       "  '691__cheetah__0.99999213.jpg': array([6., 3., 5., 0.]),\n",
       "  '2392405__parking_meter__0.9999993.jpg': array([10.,  2.,  4.,  0.]),\n",
       "  '2412908__zebra__0.99998975.jpg': array([10.,  1.,  4.,  1.])},\n",
       " 1: {'2390296__umbrella__0.99999106.jpg': array([7., 2., 3., 1.]),\n",
       "  '2405042__parking_meter__0.99999094.jpg': array([9., 2., 3., 2.]),\n",
       "  '2415402__zebra__0.99998903.jpg': array([6., 2., 5., 1.]),\n",
       "  '2406209__brown_bear__0.999985.jpg': array([8., 1., 4., 2.]),\n",
       "  '2403199__zebra__0.9999869.jpg': array([9., 1., 6., 0.]),\n",
       "  '2408719__ski__0.99999297.jpg': array([8., 2., 4., 1.]),\n",
       "  '2414277__zebra__0.9999908.jpg': array([6., 2., 5., 0.]),\n",
       "  '2405479__traffic_light__0.9999939.jpg': array([6., 2., 5., 0.]),\n",
       "  '2415737__parking_meter__0.99999785.jpg': array([8., 0., 3., 2.]),\n",
       "  '2388889__hotdog__0.99999714.jpg': array([10.,  3.,  3.,  0.]),\n",
       "  '2411390__parking_meter__0.9999988.jpg': array([10.,  1.,  3.,  2.]),\n",
       "  '2416228__parking_meter__0.9999914.jpg': array([9., 2., 3., 1.]),\n",
       "  '691__cheetah__0.99999213.jpg': array([6., 1., 5., 0.]),\n",
       "  '2389163__zebra__0.9999957.jpg': array([6., 1., 5., 1.]),\n",
       "  '2408701__zebra__0.9999981.jpg': array([5., 5., 3., 0.]),\n",
       "  '2392579__zebra__0.9999969.jpg': array([7., 4., 4., 1.]),\n",
       "  '2389484__street_sign__0.99998474.jpg': array([9., 3., 4., 1.]),\n",
       "  '2391408__traffic_light__0.99999654.jpg': array([6., 3., 3., 1.]),\n",
       "  '2412939__forklift__0.9999883.jpg': array([7., 2., 4., 1.]),\n",
       "  '2382792__umbrella__0.9999838.jpg': array([8., 1., 3., 1.]),\n",
       "  '2378170__zebra__0.9999902.jpg': array([7., 2., 5., 0.]),\n",
       "  '2379086__zebra__0.9999975.jpg': array([8., 1., 3., 1.]),\n",
       "  '2389324__zebra__0.9999993.jpg': array([7., 2., 3., 1.]),\n",
       "  '2417938__banana__0.9999944.jpg': array([7., 2., 4., 1.]),\n",
       "  '2396153__brown_bear__0.9999938.jpg': array([8., 1., 4., 0.]),\n",
       "  '2414384__ski__0.9999949.jpg': array([5., 5., 4., 0.]),\n",
       "  '2393774__zebra__0.9999995.jpg': array([6., 2., 5., 0.]),\n",
       "  '2391918__steam_locomotive__0.99999845.jpg': array([9., 2., 3., 2.]),\n",
       "  '2387437__parking_meter__0.9999839.jpg': array([6., 2., 5., 1.]),\n",
       "  '2404955__banana__0.9999995.jpg': array([6., 1., 6., 0.]),\n",
       "  '2392818__park_bench__0.99999.jpg': array([11.,  3.,  3.,  1.]),\n",
       "  '2380865__traffic_light__0.99999714.jpg': array([7., 1., 5., 2.]),\n",
       "  '2392349__umbrella__0.9999994.jpg': array([7., 2., 5., 0.]),\n",
       "  '2411784__traffic_light__0.9999945.jpg': array([7., 4., 4., 1.]),\n",
       "  '2386049__king_penguin__0.99999917.jpg': array([7., 3., 3., 2.]),\n",
       "  '2406857__zebra__0.9999894.jpg': array([8., 2., 3., 1.]),\n",
       "  '2380319__broccoli__0.9999957.jpg': array([7., 2., 4., 0.]),\n",
       "  '2409589__zebra__0.99999976.jpg': array([7., 2., 4., 0.]),\n",
       "  '2377698__zebra__0.9999999.jpg': array([6., 1., 5., 1.]),\n",
       "  '2380669__parking_meter__0.9999993.jpg': array([7., 1., 5., 0.])},\n",
       " 2: {'2392349__umbrella__0.9999994.jpg': array([6., 1., 6., 0.]),\n",
       "  '2408970__zebra__0.9999865.jpg': array([7., 2., 4., 0.]),\n",
       "  '2414335__refrigerator__0.9999889.jpg': array([8., 2., 4., 1.]),\n",
       "  '2401691__pineapple__0.999998.jpg': array([9., 2., 2., 1.]),\n",
       "  '2391964__flamingo__1.0.jpg': array([7., 2., 4., 0.]),\n",
       "  '2389484__street_sign__0.99998474.jpg': array([10.,  3.,  4.,  0.]),\n",
       "  '2409550__street_sign__0.99999905.jpg': array([7., 1., 5., 1.]),\n",
       "  '2391408__traffic_light__0.99999654.jpg': array([7., 3., 3., 1.]),\n",
       "  '2411407__zebra__0.9999969.jpg': array([8., 3., 5., 0.]),\n",
       "  '2407788__pizza__0.99999785.jpg': array([8., 2., 3., 1.]),\n",
       "  '2395787__pizza__0.99999535.jpg': array([10.,  1.,  4.,  1.]),\n",
       "  '2380905__gondola__0.9999888.jpg': array([7., 3., 5., 0.]),\n",
       "  '2389163__zebra__0.9999957.jpg': array([6., 1., 5., 1.]),\n",
       "  '2386456__zebra__0.9999989.jpg': array([7., 2., 4., 2.]),\n",
       "  '2402745__bullet_train__0.99999857.jpg': array([9., 1., 2., 1.]),\n",
       "  '2417395__zebra__0.9999993.jpg': array([6., 1., 5., 1.]),\n",
       "  '2401383__slug__0.9999933.jpg': array([7., 2., 3., 1.]),\n",
       "  '691__cheetah__0.99999213.jpg': array([5., 3., 5., 0.]),\n",
       "  '2384755__street_sign__0.9999924.jpg': array([8., 3., 5., 1.]),\n",
       "  '2414760__zebra__0.9999895.jpg': array([5., 2., 6., 0.]),\n",
       "  '2399217__umbrella__0.9999863.jpg': array([6., 2., 5., 0.]),\n",
       "  '2401224__zebra__0.9999882.jpg': array([7., 3., 2., 1.]),\n",
       "  '4099__pool_table__0.9999945.jpg': array([7., 3., 3., 0.]),\n",
       "  '2382183__pizza__0.99998593.jpg': array([8., 2., 2., 1.]),\n",
       "  '2412402__zebra__0.9999877.jpg': array([8., 1., 4., 1.]),\n",
       "  '2383569__parking_meter__0.9999988.jpg': array([8., 1., 5., 0.]),\n",
       "  '2383286__zebra__0.99999857.jpg': array([8., 1., 4., 1.]),\n",
       "  '2410336__zebra__0.99999547.jpg': array([6., 2., 5., 0.]),\n",
       "  '2392324__traffic_light__0.9999964.jpg': array([9., 2., 4., 0.]),\n",
       "  '2405041__broccoli__0.99999845.jpg': array([7., 2., 5., 1.]),\n",
       "  '2401906__parking_meter__1.0.jpg': array([7., 1., 6., 0.]),\n",
       "  '2407951__zebra__0.9999975.jpg': array([8., 2., 3., 1.]),\n",
       "  '2414513__bagel__0.9999893.jpg': array([7., 2., 4., 1.]),\n",
       "  '2378170__zebra__0.9999902.jpg': array([6., 1., 5., 1.]),\n",
       "  '2404127__zebra__0.9999933.jpg': array([6., 2., 5., 0.]),\n",
       "  '2409063__zebra__0.999997.jpg': array([5., 3., 4., 0.]),\n",
       "  '2382792__umbrella__0.9999838.jpg': array([7., 3., 2., 1.]),\n",
       "  '2389324__zebra__0.9999993.jpg': array([7., 2., 3., 1.]),\n",
       "  '2399675__zebra__0.9999883.jpg': array([8., 1., 5., 0.]),\n",
       "  '2411097__zebra__0.9999974.jpg': array([7., 1., 6., 0.])},\n",
       " 3: {'2401906__parking_meter__1.0.jpg': array([7., 1., 5., 1.]),\n",
       "  '2416228__parking_meter__0.9999914.jpg': array([9., 3., 3., 0.]),\n",
       "  '2403403__banana__0.9999926.jpg': array([8., 1., 4., 1.]),\n",
       "  '2409765__zebra__0.99999833.jpg': array([9., 2., 6., 0.]),\n",
       "  '2392818__park_bench__0.99999.jpg': array([9., 3., 4., 0.]),\n",
       "  '2416627__zebra__0.9999987.jpg': array([7., 3., 4., 0.]),\n",
       "  '2406887__ski__0.99999785.jpg': array([8., 1., 4., 1.]),\n",
       "  '2402132__traffic_light__0.9999951.jpg': array([6., 2., 4., 0.]),\n",
       "  '2380905__gondola__0.9999888.jpg': array([7., 3., 5., 0.]),\n",
       "  '2416408__zebra__0.9999962.jpg': array([7., 3., 4., 0.]),\n",
       "  '2388889__hotdog__0.99999714.jpg': array([10.,  3.,  3.,  0.]),\n",
       "  '2391964__flamingo__1.0.jpg': array([5., 3., 4., 1.]),\n",
       "  '2392730__pizza__0.9999974.jpg': array([8., 2., 5., 1.]),\n",
       "  '2403199__zebra__0.9999869.jpg': array([8., 1., 5., 0.]),\n",
       "  '2407130__umbrella__0.9999888.jpg': array([9., 2., 5., 1.]),\n",
       "  '2402264__zebra__0.9999931.jpg': array([6., 1., 6., 0.]),\n",
       "  '2411645__parking_meter__0.999985.jpg': array([8., 1., 5., 1.]),\n",
       "  '2382792__umbrella__0.9999838.jpg': array([8., 1., 3., 2.]),\n",
       "  '2404127__zebra__0.9999933.jpg': array([6., 1., 5., 1.]),\n",
       "  '2411784__traffic_light__0.9999945.jpg': array([7., 3., 4., 1.]),\n",
       "  '2392324__traffic_light__0.9999964.jpg': array([9., 2., 5., 1.]),\n",
       "  '2378523__banana__0.99999785.jpg': array([7., 2., 3., 2.]),\n",
       "  '2409822__steam_locomotive__0.9999906.jpg': array([8., 2., 5., 0.]),\n",
       "  '2383286__zebra__0.99999857.jpg': array([6., 1., 3., 3.]),\n",
       "  '2413227__park_bench__0.99998546.jpg': array([8., 1., 5., 1.]),\n",
       "  '2403338__seat_belt__0.99999917.jpg': array([8., 2., 4., 0.]),\n",
       "  '2404955__banana__0.9999995.jpg': array([6., 1., 4., 2.]),\n",
       "  '2382474__bow_tie__0.9999982.jpg': array([8., 0., 4., 2.]),\n",
       "  '2391701__zebra__0.9999912.jpg': array([9., 1., 6., 1.]),\n",
       "  '2396034__remote_control__0.9999856.jpg': array([9., 1., 4., 1.]),\n",
       "  '2402745__bullet_train__0.99999857.jpg': array([8., 2., 3., 2.]),\n",
       "  '1328__coil__0.99999607.jpg': array([8., 2., 4., 0.]),\n",
       "  '2411841__zebra__0.99999833.jpg': array([7., 1., 7., 0.]),\n",
       "  '2397486__zebra__0.9999875.jpg': array([7., 1., 4., 1.]),\n",
       "  '2415102__zebra__0.9999876.jpg': array([6., 3., 2., 1.]),\n",
       "  '2409472__umbrella__0.9999845.jpg': array([9., 0., 5., 0.]),\n",
       "  '2405042__parking_meter__0.99999094.jpg': array([9., 2., 3., 2.]),\n",
       "  '2389163__zebra__0.9999957.jpg': array([5., 2., 5., 2.]),\n",
       "  '2380319__broccoli__0.9999957.jpg': array([7., 3., 5., 0.]),\n",
       "  '2408701__zebra__0.9999981.jpg': array([6., 3., 4., 0.])},\n",
       " 4: {'2381932__traffic_light__0.99999964.jpg': array([7., 3., 5., 0.]),\n",
       "  '2379489__parking_meter__0.9999989.jpg': array([9., 4., 3., 0.]),\n",
       "  '2382474__bow_tie__0.9999982.jpg': array([8., 1., 4., 1.]),\n",
       "  '2398585__bow_tie__0.9999838.jpg': array([9., 2., 4., 2.]),\n",
       "  '2392730__pizza__0.9999974.jpg': array([8., 2., 5., 1.]),\n",
       "  '2377698__zebra__0.9999999.jpg': array([6., 1., 5., 2.]),\n",
       "  '2411646__banana__0.99999595.jpg': array([6., 4., 3., 1.]),\n",
       "  '2416516__zebra__0.99999714.jpg': array([8., 2., 4., 2.]),\n",
       "  '2404583__umbrella__0.99999297.jpg': array([5., 3., 6., 1.]),\n",
       "  '2385298__parking_meter__0.9999865.jpg': array([10.,  2.,  5.,  1.]),\n",
       "  '2412402__zebra__0.9999877.jpg': array([6., 1., 4., 1.]),\n",
       "  '2417395__zebra__0.9999993.jpg': array([6., 1., 7., 0.]),\n",
       "  '2395787__pizza__0.99999535.jpg': array([10.,  1.,  3.,  1.]),\n",
       "  '2391918__steam_locomotive__0.99999845.jpg': array([10.,  2.,  5.,  1.]),\n",
       "  '2391964__flamingo__1.0.jpg': array([6., 2., 4., 1.]),\n",
       "  '2415910__zebra__0.9999962.jpg': array([6., 2., 4., 1.]),\n",
       "  '2395510__traffic_light__0.9999993.jpg': array([6., 1., 5., 2.]),\n",
       "  '2416627__zebra__0.9999987.jpg': array([7., 3., 4., 0.]),\n",
       "  '2407130__umbrella__0.9999888.jpg': array([9., 3., 5., 0.]),\n",
       "  '2402132__traffic_light__0.9999951.jpg': array([7., 2., 4., 0.]),\n",
       "  '2401906__parking_meter__1.0.jpg': array([7., 1., 5., 1.]),\n",
       "  '2392579__zebra__0.9999969.jpg': array([6., 4., 3., 1.]),\n",
       "  '2387034__zebra__0.9999896.jpg': array([7., 2., 4., 0.]),\n",
       "  '2383286__zebra__0.99999857.jpg': array([6., 1., 4., 3.]),\n",
       "  '2405042__parking_meter__0.99999094.jpg': array([8., 1., 5., 2.]),\n",
       "  '2414384__ski__0.9999949.jpg': array([5., 5., 4., 0.]),\n",
       "  '2409550__street_sign__0.99999905.jpg': array([7., 1., 5., 1.]),\n",
       "  '2380019__zebra__0.9999926.jpg': array([7., 3., 3., 1.]),\n",
       "  '2385187__street_sign__0.99999595.jpg': array([9., 2., 4., 0.]),\n",
       "  '2382913__zebra__0.9999883.jpg': array([7., 1., 5., 0.]),\n",
       "  '2400622__zebra__0.9999901.jpg': array([9., 2., 5., 1.]),\n",
       "  '2400121__pizza__0.9999962.jpg': array([10.,  1.,  3.,  2.]),\n",
       "  '2405280__zebra__0.9999938.jpg': array([7., 3., 3., 1.]),\n",
       "  '2409472__umbrella__0.9999845.jpg': array([9., 0., 4., 0.]),\n",
       "  '2410974__toilet_seat__0.9999939.jpg': array([7., 2., 3., 1.]),\n",
       "  '2392124__zebra__0.99999523.jpg': array([8., 1., 5., 0.]),\n",
       "  '2408592__goose__0.999998.jpg': array([9., 3., 4., 0.]),\n",
       "  '2404051__street_sign__0.9999999.jpg': array([7., 1., 4., 2.]),\n",
       "  '2386049__king_penguin__0.99999917.jpg': array([8., 3., 3., 1.]),\n",
       "  '2411372__parking_meter__0.999995.jpg': array([6., 3., 4., 1.])}}"
      ]
     },
     "execution_count": 18,
     "metadata": {},
     "output_type": "execute_result"
    }
   ],
   "source": [
    "global_vote_predictions_k5"
   ]
  },
  {
   "cell_type": "markdown",
   "id": "876dc122",
   "metadata": {},
   "source": [
    "## Metric Evaluation"
   ]
  },
  {
   "cell_type": "code",
   "execution_count": 19,
   "id": "f0435ee5",
   "metadata": {},
   "outputs": [],
   "source": [
    "def calc_distance(p1, p2, metric):\n",
    "    if metric == 'rmse': return np.sum(np.square(p1 - p2))\n",
    "    elif metric == 'manhattan': return np.sum(np.abs(p1 - p2))\n",
    "    else: print('Unknown metric type')\n",
    "\n",
    "def eval_indiv_vote_preds(vote_predictions, metric):\n",
    "    vote_distances = []\n",
    "    for img_name, vote_pred in vote_predictions.items():\n",
    "        # Fetch real votes and compare with vote predictions\n",
    "        real_votes = votes_df.loc[img_name].values[:4]\n",
    "        distance = calc_distance(real_votes, vote_pred, metric)\n",
    "        vote_distances.append(distance)\n",
    "    vote_distances = np.array(vote_distances)\n",
    "    if metric=='rmse': metrics = {'rmse': round(np.sqrt(np.average(vote_distances)), 2)}\n",
    "    elif metric=='manhattan': metrics = {'manhattan': (np.average(vote_distances), 2)}\n",
    "    else:\n",
    "        metrics = {\n",
    "            'average': round(np.average(vote_distances), 2),\n",
    "            'std. dev.': round(np.std(vote_distances), 2),\n",
    "            'range': [round(np.min(vote_distances), 2), round(np.max(vote_distances), 2)],\n",
    "        }\n",
    "    return metrics\n",
    "\n",
    "def eval_global_vote_preds(global_vote_predictions, metric):\n",
    "    global_metrics = {}\n",
    "    # Calculate metrics for each split\n",
    "    for cl_key, vote_predictions in global_vote_predictions.items():\n",
    "        metrics = eval_indiv_vote_preds(vote_predictions, metric)\n",
    "        global_metrics[cl_key] = metrics\n",
    "    # Aggregate metrics for all splits\n",
    "    global_metrics['global'] = {}\n",
    "    for metric_type in global_metrics[0].keys():\n",
    "        metrics_per_type = [metrics[metric_type] for split_key, metrics in global_metrics.items() if split_key != 'global']\n",
    "        avgd_metrics_per_type = np.round(np.average(np.array(metrics_per_type), axis=0), 2)\n",
    "        if metric_type == 'range': avgd_metrics_per_type = list(avgd_metrics_per_type)\n",
    "        global_metrics['global'][metric_type] = avgd_metrics_per_type\n",
    "    return global_metrics"
   ]
  },
  {
   "cell_type": "code",
   "execution_count": 20,
   "id": "b09ac157",
   "metadata": {},
   "outputs": [],
   "source": [
    "METRIC = 'rmse'\n",
    "global_vote_metrics_k1 = eval_global_vote_preds(global_vote_predictions_k1, metric=METRIC)\n",
    "global_vote_metrics_k3 = eval_global_vote_preds(global_vote_predictions_k3, metric=METRIC)\n",
    "global_vote_metrics_k5 = eval_global_vote_preds(global_vote_predictions_k5, metric=METRIC)\n",
    "global_vote_metrics_k7 = eval_global_vote_preds(global_vote_predictions_k7, metric=METRIC)\n",
    "global_vote_metrics_k9 = eval_global_vote_preds(global_vote_predictions_k9, metric=METRIC)\n",
    "global_vote_metrics_k10 = eval_global_vote_preds(global_vote_predictions_k10, metric=METRIC)\n",
    "global_vote_metrics_k11 = eval_global_vote_preds(global_vote_predictions_k11, metric=METRIC)\n",
    "global_vote_metrics_k13 = eval_global_vote_preds(global_vote_predictions_k13, metric=METRIC)\n",
    "global_vote_metrics_k15 = eval_global_vote_preds(global_vote_predictions_k15, metric=METRIC)\n",
    "global_vote_metrics_k17 = eval_global_vote_preds(global_vote_predictions_k17, metric=METRIC)\n",
    "global_vote_metrics_k19 = eval_global_vote_preds(global_vote_predictions_k19, metric=METRIC)\n",
    "global_vote_metrics_k20 = eval_global_vote_preds(global_vote_predictions_k20, metric=METRIC)"
   ]
  },
  {
   "cell_type": "code",
   "execution_count": 21,
   "id": "8c2453a0",
   "metadata": {},
   "outputs": [
    {
     "data": {
      "text/plain": [
       "{'rmse': 6.03}"
      ]
     },
     "execution_count": 21,
     "metadata": {},
     "output_type": "execute_result"
    }
   ],
   "source": [
    "global_vote_metrics_k1['global']"
   ]
  },
  {
   "cell_type": "code",
   "execution_count": 22,
   "id": "baf9d473",
   "metadata": {},
   "outputs": [
    {
     "data": {
      "text/plain": [
       "{'rmse': 4.93}"
      ]
     },
     "execution_count": 22,
     "metadata": {},
     "output_type": "execute_result"
    }
   ],
   "source": [
    "global_vote_metrics_k3['global']"
   ]
  },
  {
   "cell_type": "code",
   "execution_count": 23,
   "id": "10d60bd5",
   "metadata": {},
   "outputs": [
    {
     "data": {
      "text/plain": [
       "{'rmse': 4.66}"
      ]
     },
     "execution_count": 23,
     "metadata": {},
     "output_type": "execute_result"
    }
   ],
   "source": [
    "global_vote_metrics_k5['global']"
   ]
  },
  {
   "cell_type": "code",
   "execution_count": 24,
   "id": "61a7a9b8",
   "metadata": {},
   "outputs": [
    {
     "data": {
      "text/plain": [
       "{'rmse': 4.52}"
      ]
     },
     "execution_count": 24,
     "metadata": {},
     "output_type": "execute_result"
    }
   ],
   "source": [
    "global_vote_metrics_k7['global']"
   ]
  },
  {
   "cell_type": "code",
   "execution_count": 25,
   "id": "e9a8271c",
   "metadata": {},
   "outputs": [
    {
     "data": {
      "text/plain": [
       "{'rmse': 4.51}"
      ]
     },
     "execution_count": 25,
     "metadata": {},
     "output_type": "execute_result"
    }
   ],
   "source": [
    "global_vote_metrics_k9['global']"
   ]
  },
  {
   "cell_type": "code",
   "execution_count": 26,
   "id": "9491d79f",
   "metadata": {},
   "outputs": [
    {
     "data": {
      "text/plain": [
       "{'rmse': 4.53}"
      ]
     },
     "execution_count": 26,
     "metadata": {},
     "output_type": "execute_result"
    }
   ],
   "source": [
    "global_vote_metrics_k10['global']"
   ]
  },
  {
   "cell_type": "code",
   "execution_count": 27,
   "id": "d7e96f3d",
   "metadata": {},
   "outputs": [
    {
     "data": {
      "text/plain": [
       "{'rmse': 4.49}"
      ]
     },
     "execution_count": 27,
     "metadata": {},
     "output_type": "execute_result"
    }
   ],
   "source": [
    "global_vote_metrics_k11['global']"
   ]
  },
  {
   "cell_type": "code",
   "execution_count": 28,
   "id": "319c34e7",
   "metadata": {},
   "outputs": [
    {
     "data": {
      "text/plain": [
       "{'rmse': 4.46}"
      ]
     },
     "execution_count": 28,
     "metadata": {},
     "output_type": "execute_result"
    }
   ],
   "source": [
    "global_vote_metrics_k13['global']"
   ]
  },
  {
   "cell_type": "code",
   "execution_count": 29,
   "id": "da11229a",
   "metadata": {},
   "outputs": [
    {
     "data": {
      "text/plain": [
       "{'rmse': 4.44}"
      ]
     },
     "execution_count": 29,
     "metadata": {},
     "output_type": "execute_result"
    }
   ],
   "source": [
    "global_vote_metrics_k15['global']"
   ]
  },
  {
   "cell_type": "code",
   "execution_count": 30,
   "id": "aec0a28a",
   "metadata": {},
   "outputs": [
    {
     "data": {
      "text/plain": [
       "{'rmse': 4.49}"
      ]
     },
     "execution_count": 30,
     "metadata": {},
     "output_type": "execute_result"
    }
   ],
   "source": [
    "global_vote_metrics_k17['global']"
   ]
  },
  {
   "cell_type": "code",
   "execution_count": 31,
   "id": "d6bb056f",
   "metadata": {},
   "outputs": [
    {
     "data": {
      "text/plain": [
       "{'rmse': 4.44}"
      ]
     },
     "execution_count": 31,
     "metadata": {},
     "output_type": "execute_result"
    }
   ],
   "source": [
    "global_vote_metrics_k19['global']"
   ]
  },
  {
   "cell_type": "code",
   "execution_count": 32,
   "id": "657a3377",
   "metadata": {},
   "outputs": [
    {
     "data": {
      "text/plain": [
       "{'rmse': 4.43}"
      ]
     },
     "execution_count": 32,
     "metadata": {},
     "output_type": "execute_result"
    }
   ],
   "source": [
    "global_vote_metrics_k20['global']"
   ]
  },
  {
   "cell_type": "markdown",
   "id": "9fa5b4e6",
   "metadata": {},
   "source": [
    "The previous results shine a light about the viability to predict the vote count for a new image given the vote prototypes of previously generated image clusters.   \n",
    "\n",
    "In average, the predicted vote count for a new image differs by 6 votes compared to the real vote count. The difference between vote count shows a ascending tendence proportional to the number of nearest clusters used in the vote count prediction, although the growing rate is very small. In the end, this means that when predicting the vote count for a new image, it is recommended to use the vote prototype of only the nearest cluster.   \n",
    "\n",
    "Additional metrics also show that the distribution of vote count differences shows a gaussian shape with a slight skeweness to the right, i.e. towards higher vote differences). The standard deviation shows that the majority of vote differences are between +-3 to the average vote difference. Given that the average vote difference is 6, this means that the majority of vote differences will be inside the 3-9 range.\n",
    "\n",
    "Taking in account that for every image around 30 votes were casted, the difference in vote count prediction is pretty large. A difference of 6 votes when predicting votes can be really important. However, we need to calculate vote count proportion differences, beacuase, at the end of the day, proportions are also a important factor in deciding which techniques are better for new images."
   ]
  },
  {
   "cell_type": "markdown",
   "id": "e1f624d3",
   "metadata": {},
   "source": [
    "#### TODO: Predict techniques with hard voting using vote count predictions"
   ]
  }
 ],
 "metadata": {
  "kernelspec": {
   "display_name": "Python 3",
   "language": "python",
   "name": "python3"
  },
  "language_info": {
   "codemirror_mode": {
    "name": "ipython",
    "version": 3
   },
   "file_extension": ".py",
   "mimetype": "text/x-python",
   "name": "python",
   "nbconvert_exporter": "python",
   "pygments_lexer": "ipython3",
   "version": "3.8.5"
  }
 },
 "nbformat": 4,
 "nbformat_minor": 5
}
