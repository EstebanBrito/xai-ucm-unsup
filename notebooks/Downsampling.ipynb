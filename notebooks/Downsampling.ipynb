{
 "cells": [
  {
   "cell_type": "markdown",
   "id": "9432f224",
   "metadata": {},
   "source": [
    "# Downsampling data"
   ]
  },
  {
   "cell_type": "markdown",
   "id": "fcbabc23",
   "metadata": {},
   "source": [
    "The number of images best explained with every interpretation technique is as follows:\n",
    "- IG: 147 (74% of total images)\n",
    "- XRAI: 32 (16% of total images)\n",
    "- LIME: 18 (9% of total images)\n",
    "- ANCHOR: 1 (>1% of total images)\n",
    "- Total images: 198\n",
    "\n",
    "Due to a majority of IG images, prediction for new images is likely to be biased towards the IG technique. Is is neccesary to smoth the proportions of elected techniques in the dataset.\n",
    "In this notebook, we adress that problem by downsampling our dataset (i.e. picking a subset of instances that smoths the proportion of techniques).\n",
    "\n",
    "We'll substract IG images from the dataset, so the proportion of the IG technique in the dataset is of ~60% instead of 74%, allowing other techniques to be more present during the prediction of interpretation techniques for new images. The number of images after downsampling should look like this:\n",
    "\n",
    "- IG: 77 (60% of total images, 52% of original IG count)\n",
    "- XRAI: 32 (25% of total images)\n",
    "- LIME: 18 (14% of total images)\n",
    "- ANCHOR: 1 (>1% of total images)\n",
    "- Total images: 128\n",
    "\n",
    "If we try to lower IG proportions to ~50%, the downsampled dataset would look like this:\n",
    "- IG: 51 (50% of total images, 35% of original IG count)\n",
    "- XRAI: 32 (31% of total images)\n",
    "- LIME: 18 (18% of total images)\n",
    "- ANCHOR: 1 (1% of total images)\n",
    "- Total images: 102\n",
    "\n",
    "We'll only use the latent features dataset now, because other similarity metrics do not perform as well as euclidian latent feature distance. However, is possible to extend this notebook to perform subsampling on datasets based on other similarity metrics."
   ]
  },
  {
   "cell_type": "markdown",
   "id": "fb3cd7c2",
   "metadata": {},
   "source": [
    "### Some subsampling constants"
   ]
  },
  {
   "cell_type": "code",
   "execution_count": 6,
   "id": "978c4da6",
   "metadata": {},
   "outputs": [
    {
     "name": "stdout",
     "output_type": "stream",
     "text": [
      "84.66666666666666 62.33333333333334 0.4240362811791384 113.33333333333334\n"
     ]
    }
   ],
   "source": [
    "p = 0.55 # DESIRED_IG_PROP\n",
    "ig_rem = (147-198*p)/(1-p) # No. of IG imgs. to remove\n",
    "ig_keep = 147 - ig_rem\n",
    "ig_pct_keep = 1 - ig_rem/147 # % of IG imgs. to keep\n",
    "new_len = 198 - ig_rem # New lenght for downsampled dataset\n",
    "print(ig_rem, ig_keep, ig_pct_keep, new_len)"
   ]
  },
  {
   "cell_type": "markdown",
   "id": "a0043061",
   "metadata": {},
   "source": [
    "## Loading Data"
   ]
  },
  {
   "cell_type": "code",
   "execution_count": 1,
   "id": "e7a0206c",
   "metadata": {},
   "outputs": [],
   "source": [
    "import pandas as pd\n",
    "import numpy as np\n",
    "import matplotlib.pyplot as plt\n",
    "import os\n",
    "import sklearn"
   ]
  },
  {
   "cell_type": "code",
   "execution_count": 2,
   "id": "dcd8fa71",
   "metadata": {},
   "outputs": [],
   "source": [
    "FEATS_FILE_PATH = os.path.join('..', 'features', 'incv1_feats.csv')\n",
    "BEST_TECHNIQUES = os.path.join('..', 'results', 'votes_summary.csv')"
   ]
  },
  {
   "cell_type": "code",
   "execution_count": 3,
   "id": "37904cab",
   "metadata": {},
   "outputs": [
    {
     "data": {
      "text/html": [
       "<div>\n",
       "<style scoped>\n",
       "    .dataframe tbody tr th:only-of-type {\n",
       "        vertical-align: middle;\n",
       "    }\n",
       "\n",
       "    .dataframe tbody tr th {\n",
       "        vertical-align: top;\n",
       "    }\n",
       "\n",
       "    .dataframe thead th {\n",
       "        text-align: right;\n",
       "    }\n",
       "</style>\n",
       "<table border=\"1\" class=\"dataframe\">\n",
       "  <thead>\n",
       "    <tr style=\"text-align: right;\">\n",
       "      <th></th>\n",
       "      <th>0</th>\n",
       "      <th>1</th>\n",
       "      <th>2</th>\n",
       "      <th>3</th>\n",
       "      <th>4</th>\n",
       "      <th>5</th>\n",
       "      <th>6</th>\n",
       "      <th>7</th>\n",
       "      <th>8</th>\n",
       "      <th>9</th>\n",
       "      <th>...</th>\n",
       "      <th>1014</th>\n",
       "      <th>1015</th>\n",
       "      <th>1016</th>\n",
       "      <th>1017</th>\n",
       "      <th>1018</th>\n",
       "      <th>1019</th>\n",
       "      <th>1020</th>\n",
       "      <th>1021</th>\n",
       "      <th>1022</th>\n",
       "      <th>1023</th>\n",
       "    </tr>\n",
       "  </thead>\n",
       "  <tbody>\n",
       "    <tr>\n",
       "      <th>1222__pool_table__0.9999995.jpg</th>\n",
       "      <td>0.882798</td>\n",
       "      <td>0.896023</td>\n",
       "      <td>0.123852</td>\n",
       "      <td>0.257982</td>\n",
       "      <td>0.036050</td>\n",
       "      <td>0.108023</td>\n",
       "      <td>0.633841</td>\n",
       "      <td>0.457301</td>\n",
       "      <td>1.684949</td>\n",
       "      <td>0.285681</td>\n",
       "      <td>...</td>\n",
       "      <td>0.422634</td>\n",
       "      <td>0.346122</td>\n",
       "      <td>0.111589</td>\n",
       "      <td>1.441579</td>\n",
       "      <td>0.198722</td>\n",
       "      <td>0.246648</td>\n",
       "      <td>0.295942</td>\n",
       "      <td>0.560950</td>\n",
       "      <td>0.058328</td>\n",
       "      <td>0.117393</td>\n",
       "    </tr>\n",
       "    <tr>\n",
       "      <th>1328__coil__0.99999607.jpg</th>\n",
       "      <td>0.483815</td>\n",
       "      <td>0.134309</td>\n",
       "      <td>0.021849</td>\n",
       "      <td>0.367267</td>\n",
       "      <td>0.089250</td>\n",
       "      <td>0.007518</td>\n",
       "      <td>0.069921</td>\n",
       "      <td>0.219347</td>\n",
       "      <td>0.089260</td>\n",
       "      <td>0.046694</td>\n",
       "      <td>...</td>\n",
       "      <td>0.049852</td>\n",
       "      <td>0.004140</td>\n",
       "      <td>0.199223</td>\n",
       "      <td>0.718976</td>\n",
       "      <td>0.000000</td>\n",
       "      <td>0.000000</td>\n",
       "      <td>0.000000</td>\n",
       "      <td>0.159411</td>\n",
       "      <td>0.012007</td>\n",
       "      <td>0.001601</td>\n",
       "    </tr>\n",
       "    <tr>\n",
       "      <th>134__zebra__0.9999949.jpg</th>\n",
       "      <td>0.291067</td>\n",
       "      <td>0.375913</td>\n",
       "      <td>0.217742</td>\n",
       "      <td>1.269691</td>\n",
       "      <td>0.384181</td>\n",
       "      <td>0.076470</td>\n",
       "      <td>0.662070</td>\n",
       "      <td>0.662391</td>\n",
       "      <td>0.827774</td>\n",
       "      <td>0.115826</td>\n",
       "      <td>...</td>\n",
       "      <td>0.018289</td>\n",
       "      <td>0.000000</td>\n",
       "      <td>0.000775</td>\n",
       "      <td>0.903884</td>\n",
       "      <td>0.589769</td>\n",
       "      <td>0.016957</td>\n",
       "      <td>0.418493</td>\n",
       "      <td>0.005350</td>\n",
       "      <td>0.004198</td>\n",
       "      <td>0.185460</td>\n",
       "    </tr>\n",
       "  </tbody>\n",
       "</table>\n",
       "<p>3 rows × 1024 columns</p>\n",
       "</div>"
      ],
      "text/plain": [
       "                                        0         1         2         3  \\\n",
       "1222__pool_table__0.9999995.jpg  0.882798  0.896023  0.123852  0.257982   \n",
       "1328__coil__0.99999607.jpg       0.483815  0.134309  0.021849  0.367267   \n",
       "134__zebra__0.9999949.jpg        0.291067  0.375913  0.217742  1.269691   \n",
       "\n",
       "                                        4         5         6         7  \\\n",
       "1222__pool_table__0.9999995.jpg  0.036050  0.108023  0.633841  0.457301   \n",
       "1328__coil__0.99999607.jpg       0.089250  0.007518  0.069921  0.219347   \n",
       "134__zebra__0.9999949.jpg        0.384181  0.076470  0.662070  0.662391   \n",
       "\n",
       "                                        8         9  ...      1014      1015  \\\n",
       "1222__pool_table__0.9999995.jpg  1.684949  0.285681  ...  0.422634  0.346122   \n",
       "1328__coil__0.99999607.jpg       0.089260  0.046694  ...  0.049852  0.004140   \n",
       "134__zebra__0.9999949.jpg        0.827774  0.115826  ...  0.018289  0.000000   \n",
       "\n",
       "                                     1016      1017      1018      1019  \\\n",
       "1222__pool_table__0.9999995.jpg  0.111589  1.441579  0.198722  0.246648   \n",
       "1328__coil__0.99999607.jpg       0.199223  0.718976  0.000000  0.000000   \n",
       "134__zebra__0.9999949.jpg        0.000775  0.903884  0.589769  0.016957   \n",
       "\n",
       "                                     1020      1021      1022      1023  \n",
       "1222__pool_table__0.9999995.jpg  0.295942  0.560950  0.058328  0.117393  \n",
       "1328__coil__0.99999607.jpg       0.000000  0.159411  0.012007  0.001601  \n",
       "134__zebra__0.9999949.jpg        0.418493  0.005350  0.004198  0.185460  \n",
       "\n",
       "[3 rows x 1024 columns]"
      ]
     },
     "execution_count": 3,
     "metadata": {},
     "output_type": "execute_result"
    }
   ],
   "source": [
    "feats_df = pd.read_csv(FEATS_FILE_PATH, index_col=0)\n",
    "feats_df.head(3)"
   ]
  },
  {
   "cell_type": "code",
   "execution_count": 4,
   "id": "1d04884e",
   "metadata": {},
   "outputs": [
    {
     "data": {
      "text/html": [
       "<div>\n",
       "<style scoped>\n",
       "    .dataframe tbody tr th:only-of-type {\n",
       "        vertical-align: middle;\n",
       "    }\n",
       "\n",
       "    .dataframe tbody tr th {\n",
       "        vertical-align: top;\n",
       "    }\n",
       "\n",
       "    .dataframe thead th {\n",
       "        text-align: right;\n",
       "    }\n",
       "</style>\n",
       "<table border=\"1\" class=\"dataframe\">\n",
       "  <thead>\n",
       "    <tr style=\"text-align: right;\">\n",
       "      <th></th>\n",
       "      <th>ig</th>\n",
       "      <th>lime</th>\n",
       "      <th>xrai</th>\n",
       "      <th>anchor</th>\n",
       "      <th>best</th>\n",
       "    </tr>\n",
       "  </thead>\n",
       "  <tbody>\n",
       "    <tr>\n",
       "      <th>1222__pool_table__0.9999995.jpg</th>\n",
       "      <td>12</td>\n",
       "      <td>13</td>\n",
       "      <td>3</td>\n",
       "      <td>1</td>\n",
       "      <td>lime</td>\n",
       "    </tr>\n",
       "    <tr>\n",
       "      <th>1328__coil__0.99999607.jpg</th>\n",
       "      <td>17</td>\n",
       "      <td>4</td>\n",
       "      <td>3</td>\n",
       "      <td>2</td>\n",
       "      <td>ig</td>\n",
       "    </tr>\n",
       "    <tr>\n",
       "      <th>134__zebra__0.9999949.jpg</th>\n",
       "      <td>14</td>\n",
       "      <td>1</td>\n",
       "      <td>8</td>\n",
       "      <td>2</td>\n",
       "      <td>ig</td>\n",
       "    </tr>\n",
       "  </tbody>\n",
       "</table>\n",
       "</div>"
      ],
      "text/plain": [
       "                                 ig lime xrai anchor  best\n",
       "1222__pool_table__0.9999995.jpg  12   13    3      1  lime\n",
       "1328__coil__0.99999607.jpg       17    4    3      2    ig\n",
       "134__zebra__0.9999949.jpg        14    1    8      2    ig"
      ]
     },
     "execution_count": 4,
     "metadata": {},
     "output_type": "execute_result"
    }
   ],
   "source": [
    "techniques_df = pd.read_csv(BEST_TECHNIQUES, dtype='object', index_col=0)\n",
    "techniques_df.head(3)"
   ]
  },
  {
   "cell_type": "markdown",
   "id": "20cf74fa",
   "metadata": {},
   "source": [
    "## Subsampling"
   ]
  },
  {
   "cell_type": "code",
   "execution_count": 52,
   "id": "80e5841e",
   "metadata": {},
   "outputs": [
    {
     "data": {
      "text/plain": [
       "array([False,  True,  True,  True,  True,  True,  True,  True, False,\n",
       "        True,  True,  True,  True,  True,  True,  True,  True,  True,\n",
       "        True,  True])"
      ]
     },
     "execution_count": 52,
     "metadata": {},
     "output_type": "execute_result"
    }
   ],
   "source": [
    "# Create is_ig as a True/False masking array\n",
    "best = techniques_df['best'].values\n",
    "is_ig = best == 'ig'\n",
    "is_ig[:20]"
   ]
  },
  {
   "cell_type": "code",
   "execution_count": 29,
   "id": "0d249ae9",
   "metadata": {},
   "outputs": [
    {
     "data": {
      "text/plain": [
       "array(['1328__coil__0.99999607.jpg', '134__zebra__0.9999949.jpg',\n",
       "       '2377471__pizza__0.9999988.jpg', '2377620__zebra__0.9999882.jpg',\n",
       "       '2377698__zebra__0.9999999.jpg'], dtype=object)"
      ]
     },
     "execution_count": 29,
     "metadata": {},
     "output_type": "execute_result"
    }
   ],
   "source": [
    "# Use masking array to filter names of IG images\n",
    "ig_img_names = techniques_df[is_ig].index.values\n",
    "ig_img_names[:5]"
   ]
  },
  {
   "cell_type": "code",
   "execution_count": 36,
   "id": "c80f9a3a",
   "metadata": {},
   "outputs": [],
   "source": [
    "# Downsample IG images so proportion relative to the whole dataset is near ~60%\n",
    "from sklearn.model_selection import train_test_split\n",
    "ig_img_split = train_test_split(ig_img_names, train_size=0.52,\n",
    "                                         random_state=42, shuffle=True, stratify=None)\n",
    "selected_ig_img_names = ig_img_split[0]"
   ]
  },
  {
   "cell_type": "code",
   "execution_count": 37,
   "id": "197ca465",
   "metadata": {},
   "outputs": [
    {
     "data": {
      "text/plain": [
       "76"
      ]
     },
     "execution_count": 37,
     "metadata": {},
     "output_type": "execute_result"
    }
   ],
   "source": [
    "# As planned, only ~77 images were selected\n",
    "len(selected_ig_img_names)"
   ]
  },
  {
   "cell_type": "markdown",
   "id": "e8f1ee98",
   "metadata": {},
   "source": [
    "### Creating new subsampled datasets"
   ]
  },
  {
   "cell_type": "markdown",
   "id": "fb350278",
   "metadata": {},
   "source": [
    "We'll create a new dataset with the subsampled IG images and the rest of images associated with other techniques. This will be useful for later usage."
   ]
  },
  {
   "cell_type": "code",
   "execution_count": 64,
   "id": "360c2b4a",
   "metadata": {},
   "outputs": [
    {
     "data": {
      "text/plain": [
       "array(['2405479__traffic_light__0.9999939.jpg',\n",
       "       '2392818__park_bench__0.99999.jpg',\n",
       "       '2411665__zebra__0.99998856.jpg', '2401224__zebra__0.9999882.jpg',\n",
       "       '2390296__umbrella__0.99999106.jpg'], dtype=object)"
      ]
     },
     "execution_count": 64,
     "metadata": {},
     "output_type": "execute_result"
    }
   ],
   "source": [
    "# We already kwow the names of sumsampled IG images\n",
    "selected_ig_img_names[:5]"
   ]
  },
  {
   "cell_type": "code",
   "execution_count": 65,
   "id": "d8a08623",
   "metadata": {},
   "outputs": [
    {
     "data": {
      "text/plain": [
       "array(['1222__pool_table__0.9999995.jpg',\n",
       "       '2378523__banana__0.99999785.jpg',\n",
       "       '2381932__traffic_light__0.99999964.jpg',\n",
       "       '2382792__umbrella__0.9999838.jpg',\n",
       "       '2385767__zebra__0.9999958.jpg'], dtype=object)"
      ]
     },
     "execution_count": 65,
     "metadata": {},
     "output_type": "execute_result"
    }
   ],
   "source": [
    "# Then we get the names of images NOT explained with IG\n",
    "is_not_ig = is_ig == False\n",
    "not_ig_img_names = techniques_df[is_not_ig].index.values\n",
    "not_ig_img_names[:5]"
   ]
  },
  {
   "cell_type": "code",
   "execution_count": 68,
   "id": "42708923",
   "metadata": {},
   "outputs": [
    {
     "data": {
      "text/plain": [
       "127"
      ]
     },
     "execution_count": 68,
     "metadata": {},
     "output_type": "execute_result"
    }
   ],
   "source": [
    "# We join the two arrays of names...\n",
    "subsampled_img_names = list(selected_ig_img_names) + list(not_ig_img_names)\n",
    "len(subsampled_img_names)"
   ]
  },
  {
   "cell_type": "code",
   "execution_count": 69,
   "id": "023971a1",
   "metadata": {},
   "outputs": [],
   "source": [
    "# ...and use it to create new datasets (for features and techniques)\n",
    "sub_feats_df = feats_df.loc[subsampled_img_names]\n",
    "sub_techniques_df = techniques_df.loc[subsampled_img_names]"
   ]
  },
  {
   "cell_type": "code",
   "execution_count": 74,
   "id": "62b9aa5e",
   "metadata": {},
   "outputs": [
    {
     "data": {
      "text/html": [
       "<div>\n",
       "<style scoped>\n",
       "    .dataframe tbody tr th:only-of-type {\n",
       "        vertical-align: middle;\n",
       "    }\n",
       "\n",
       "    .dataframe tbody tr th {\n",
       "        vertical-align: top;\n",
       "    }\n",
       "\n",
       "    .dataframe thead th {\n",
       "        text-align: right;\n",
       "    }\n",
       "</style>\n",
       "<table border=\"1\" class=\"dataframe\">\n",
       "  <thead>\n",
       "    <tr style=\"text-align: right;\">\n",
       "      <th></th>\n",
       "      <th>0</th>\n",
       "      <th>1</th>\n",
       "      <th>2</th>\n",
       "      <th>3</th>\n",
       "      <th>4</th>\n",
       "      <th>5</th>\n",
       "      <th>6</th>\n",
       "      <th>7</th>\n",
       "      <th>8</th>\n",
       "      <th>9</th>\n",
       "      <th>...</th>\n",
       "      <th>1014</th>\n",
       "      <th>1015</th>\n",
       "      <th>1016</th>\n",
       "      <th>1017</th>\n",
       "      <th>1018</th>\n",
       "      <th>1019</th>\n",
       "      <th>1020</th>\n",
       "      <th>1021</th>\n",
       "      <th>1022</th>\n",
       "      <th>1023</th>\n",
       "    </tr>\n",
       "  </thead>\n",
       "  <tbody>\n",
       "    <tr>\n",
       "      <th>2405479__traffic_light__0.9999939.jpg</th>\n",
       "      <td>0.235278</td>\n",
       "      <td>0.093458</td>\n",
       "      <td>0.096435</td>\n",
       "      <td>0.431311</td>\n",
       "      <td>0.061168</td>\n",
       "      <td>0.201984</td>\n",
       "      <td>0.105483</td>\n",
       "      <td>0.098843</td>\n",
       "      <td>0.309048</td>\n",
       "      <td>0.096289</td>\n",
       "      <td>...</td>\n",
       "      <td>0.071269</td>\n",
       "      <td>0.080100</td>\n",
       "      <td>0.356105</td>\n",
       "      <td>0.096008</td>\n",
       "      <td>0.136125</td>\n",
       "      <td>0.407917</td>\n",
       "      <td>0.707833</td>\n",
       "      <td>0.787253</td>\n",
       "      <td>0.097295</td>\n",
       "      <td>0.010121</td>\n",
       "    </tr>\n",
       "    <tr>\n",
       "      <th>2392818__park_bench__0.99999.jpg</th>\n",
       "      <td>0.552391</td>\n",
       "      <td>0.528561</td>\n",
       "      <td>0.226194</td>\n",
       "      <td>1.417185</td>\n",
       "      <td>0.005555</td>\n",
       "      <td>0.519028</td>\n",
       "      <td>0.700005</td>\n",
       "      <td>0.099091</td>\n",
       "      <td>0.123433</td>\n",
       "      <td>0.164651</td>\n",
       "      <td>...</td>\n",
       "      <td>1.730410</td>\n",
       "      <td>0.148950</td>\n",
       "      <td>0.000000</td>\n",
       "      <td>0.065658</td>\n",
       "      <td>0.586209</td>\n",
       "      <td>0.083003</td>\n",
       "      <td>0.054312</td>\n",
       "      <td>0.944901</td>\n",
       "      <td>0.130074</td>\n",
       "      <td>0.047629</td>\n",
       "    </tr>\n",
       "    <tr>\n",
       "      <th>2411665__zebra__0.99998856.jpg</th>\n",
       "      <td>0.395213</td>\n",
       "      <td>1.130813</td>\n",
       "      <td>0.120035</td>\n",
       "      <td>1.675753</td>\n",
       "      <td>0.145812</td>\n",
       "      <td>0.117050</td>\n",
       "      <td>0.253090</td>\n",
       "      <td>0.129668</td>\n",
       "      <td>1.047250</td>\n",
       "      <td>0.137647</td>\n",
       "      <td>...</td>\n",
       "      <td>0.000423</td>\n",
       "      <td>0.009721</td>\n",
       "      <td>0.026590</td>\n",
       "      <td>0.914146</td>\n",
       "      <td>0.275013</td>\n",
       "      <td>0.020816</td>\n",
       "      <td>0.503529</td>\n",
       "      <td>0.015693</td>\n",
       "      <td>0.036215</td>\n",
       "      <td>0.005369</td>\n",
       "    </tr>\n",
       "  </tbody>\n",
       "</table>\n",
       "<p>3 rows × 1024 columns</p>\n",
       "</div>"
      ],
      "text/plain": [
       "                                              0         1         2         3  \\\n",
       "2405479__traffic_light__0.9999939.jpg  0.235278  0.093458  0.096435  0.431311   \n",
       "2392818__park_bench__0.99999.jpg       0.552391  0.528561  0.226194  1.417185   \n",
       "2411665__zebra__0.99998856.jpg         0.395213  1.130813  0.120035  1.675753   \n",
       "\n",
       "                                              4         5         6         7  \\\n",
       "2405479__traffic_light__0.9999939.jpg  0.061168  0.201984  0.105483  0.098843   \n",
       "2392818__park_bench__0.99999.jpg       0.005555  0.519028  0.700005  0.099091   \n",
       "2411665__zebra__0.99998856.jpg         0.145812  0.117050  0.253090  0.129668   \n",
       "\n",
       "                                              8         9  ...      1014  \\\n",
       "2405479__traffic_light__0.9999939.jpg  0.309048  0.096289  ...  0.071269   \n",
       "2392818__park_bench__0.99999.jpg       0.123433  0.164651  ...  1.730410   \n",
       "2411665__zebra__0.99998856.jpg         1.047250  0.137647  ...  0.000423   \n",
       "\n",
       "                                           1015      1016      1017      1018  \\\n",
       "2405479__traffic_light__0.9999939.jpg  0.080100  0.356105  0.096008  0.136125   \n",
       "2392818__park_bench__0.99999.jpg       0.148950  0.000000  0.065658  0.586209   \n",
       "2411665__zebra__0.99998856.jpg         0.009721  0.026590  0.914146  0.275013   \n",
       "\n",
       "                                           1019      1020      1021      1022  \\\n",
       "2405479__traffic_light__0.9999939.jpg  0.407917  0.707833  0.787253  0.097295   \n",
       "2392818__park_bench__0.99999.jpg       0.083003  0.054312  0.944901  0.130074   \n",
       "2411665__zebra__0.99998856.jpg         0.020816  0.503529  0.015693  0.036215   \n",
       "\n",
       "                                           1023  \n",
       "2405479__traffic_light__0.9999939.jpg  0.010121  \n",
       "2392818__park_bench__0.99999.jpg       0.047629  \n",
       "2411665__zebra__0.99998856.jpg         0.005369  \n",
       "\n",
       "[3 rows x 1024 columns]"
      ]
     },
     "execution_count": 74,
     "metadata": {},
     "output_type": "execute_result"
    }
   ],
   "source": [
    "sub_feats_df.head(3)"
   ]
  },
  {
   "cell_type": "code",
   "execution_count": 75,
   "id": "c4cfc59e",
   "metadata": {},
   "outputs": [
    {
     "data": {
      "text/html": [
       "<div>\n",
       "<style scoped>\n",
       "    .dataframe tbody tr th:only-of-type {\n",
       "        vertical-align: middle;\n",
       "    }\n",
       "\n",
       "    .dataframe tbody tr th {\n",
       "        vertical-align: top;\n",
       "    }\n",
       "\n",
       "    .dataframe thead th {\n",
       "        text-align: right;\n",
       "    }\n",
       "</style>\n",
       "<table border=\"1\" class=\"dataframe\">\n",
       "  <thead>\n",
       "    <tr style=\"text-align: right;\">\n",
       "      <th></th>\n",
       "      <th>ig</th>\n",
       "      <th>lime</th>\n",
       "      <th>xrai</th>\n",
       "      <th>anchor</th>\n",
       "      <th>best</th>\n",
       "    </tr>\n",
       "  </thead>\n",
       "  <tbody>\n",
       "    <tr>\n",
       "      <th>2405479__traffic_light__0.9999939.jpg</th>\n",
       "      <td>6</td>\n",
       "      <td>5</td>\n",
       "      <td>3</td>\n",
       "      <td>0</td>\n",
       "      <td>ig</td>\n",
       "    </tr>\n",
       "    <tr>\n",
       "      <th>2392818__park_bench__0.99999.jpg</th>\n",
       "      <td>7</td>\n",
       "      <td>2</td>\n",
       "      <td>2</td>\n",
       "      <td>2</td>\n",
       "      <td>ig</td>\n",
       "    </tr>\n",
       "    <tr>\n",
       "      <th>2411665__zebra__0.99998856.jpg</th>\n",
       "      <td>5</td>\n",
       "      <td>2</td>\n",
       "      <td>4</td>\n",
       "      <td>2</td>\n",
       "      <td>ig</td>\n",
       "    </tr>\n",
       "  </tbody>\n",
       "</table>\n",
       "</div>"
      ],
      "text/plain": [
       "                                      ig lime xrai anchor best\n",
       "2405479__traffic_light__0.9999939.jpg  6    5    3      0   ig\n",
       "2392818__park_bench__0.99999.jpg       7    2    2      2   ig\n",
       "2411665__zebra__0.99998856.jpg         5    2    4      2   ig"
      ]
     },
     "execution_count": 75,
     "metadata": {},
     "output_type": "execute_result"
    }
   ],
   "source": [
    "sub_techniques_df.head(3)"
   ]
  },
  {
   "cell_type": "markdown",
   "id": "a263ddaf",
   "metadata": {},
   "source": [
    "As we can see, the number of images in the dataset has changed, changing the propotions of techniques"
   ]
  },
  {
   "cell_type": "code",
   "execution_count": 79,
   "id": "85c54f21",
   "metadata": {},
   "outputs": [
    {
     "data": {
      "text/plain": [
       "(array(['anchor', 'ig', 'lime', 'xrai'], dtype=object),\n",
       " array([ 1, 76, 18, 32], dtype=int64))"
      ]
     },
     "execution_count": 79,
     "metadata": {},
     "output_type": "execute_result"
    }
   ],
   "source": [
    "np.unique(sub_techniques_df['best'].values, return_counts=True)"
   ]
  },
  {
   "cell_type": "markdown",
   "id": "9d50a7a3",
   "metadata": {},
   "source": [
    "### Saving new datasets"
   ]
  },
  {
   "cell_type": "code",
   "execution_count": 81,
   "id": "14538280",
   "metadata": {},
   "outputs": [],
   "source": [
    "# New file names\n",
    "SUB_FEATS_FILE_PATH = os.path.join('..', 'features', 'sub_incv1_feats.csv')\n",
    "SUB_BEST_TECHNIQUES = os.path.join('..', 'results', 'sub_votes_summary.csv')"
   ]
  },
  {
   "cell_type": "code",
   "execution_count": 82,
   "id": "00ad9ee5",
   "metadata": {},
   "outputs": [],
   "source": [
    "# Saving datasets\n",
    "sub_feats_df.to_csv(SUB_FEATS_FILE_PATH)\n",
    "sub_techniques_df.to_csv(SUB_BEST_TECHNIQUES)"
   ]
  }
 ],
 "metadata": {
  "kernelspec": {
   "display_name": "Python 3",
   "language": "python",
   "name": "python3"
  },
  "language_info": {
   "codemirror_mode": {
    "name": "ipython",
    "version": 3
   },
   "file_extension": ".py",
   "mimetype": "text/x-python",
   "name": "python",
   "nbconvert_exporter": "python",
   "pygments_lexer": "ipython3",
   "version": "3.8.5"
  }
 },
 "nbformat": 4,
 "nbformat_minor": 5
}
