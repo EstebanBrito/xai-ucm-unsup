{
 "cells": [
  {
   "cell_type": "code",
   "execution_count": 33,
   "id": "07658883",
   "metadata": {},
   "outputs": [],
   "source": [
    "import os\n",
    "import numpy as np\n",
    "import pandas as pd\n",
    "import matplotlib.pyplot as plt\n",
    "from skimage.io import imread\n",
    "from sklearn.decomposition import PCA"
   ]
  },
  {
   "cell_type": "code",
   "execution_count": 16,
   "id": "d500de6c",
   "metadata": {},
   "outputs": [],
   "source": [
    "TEST_FOLDER = os.path.join('..', '..', 'test_imgs')"
   ]
  },
  {
   "cell_type": "code",
   "execution_count": 45,
   "id": "c4a759c6",
   "metadata": {},
   "outputs": [],
   "source": [
    "def load_images_from_main_folder(main_folder_path):\n",
    "    images_per_folder, test_images_per_folder = {}, {}\n",
    "    folder_names = os.listdir(main_folder_path)\n",
    "    for folder_name in folder_names:\n",
    "        folder_path = os.path.join(main_folder_path, folder_name)\n",
    "        image_names = os.listdir(folder_path)\n",
    "        # Load and store \"train\" images\n",
    "        images_per_image_name = {}\n",
    "        for image_name in image_names[:-1]:\n",
    "            image_path = os.path.join(folder_path, image_name)\n",
    "            image = imread(image_path)\n",
    "            images_per_image_name[image_name] = image\n",
    "        images_per_folder[folder_name] = images_per_image_name\n",
    "        # Load and store \"test\" images\n",
    "        test_images_per_image_name = {}\n",
    "        for image_name in image_names[-1:]:\n",
    "            image_path = os.path.join(folder_path, image_name)\n",
    "            image = imread(image_path)\n",
    "            test_images_per_image_name[image_name] = image\n",
    "        test_images_per_folder[folder_name] = test_images_per_image_name\n",
    "    return images_per_folder, test_images_per_folder"
   ]
  },
  {
   "cell_type": "code",
   "execution_count": 46,
   "id": "f3244a27",
   "metadata": {},
   "outputs": [],
   "source": [
    "images, test_images = load_images_from_main_folder(TEST_FOLDER)"
   ]
  },
  {
   "cell_type": "code",
   "execution_count": 40,
   "id": "f2308765",
   "metadata": {},
   "outputs": [
    {
     "name": "stdout",
     "output_type": "stream",
     "text": [
      "dict_keys(['banana', 'parking_meter', 'pizza', 'traffic_light', 'zebra'])\n"
     ]
    }
   ],
   "source": [
    "print(images.keys())"
   ]
  },
  {
   "cell_type": "code",
   "execution_count": 52,
   "id": "b3e04a23",
   "metadata": {
    "scrolled": true
   },
   "outputs": [
    {
     "data": {
      "text/plain": [
       "array([[[242, 225, 107],\n",
       "        [243, 226, 112],\n",
       "        [243, 225, 113],\n",
       "        ...,\n",
       "        [243, 226, 120],\n",
       "        [238, 224, 117],\n",
       "        [242, 228, 123]],\n",
       "\n",
       "       [[244, 225, 107],\n",
       "        [244, 224, 109],\n",
       "        [245, 225, 113],\n",
       "        ...,\n",
       "        [239, 225, 120],\n",
       "        [242, 228, 123],\n",
       "        [244, 231, 126]],\n",
       "\n",
       "       [[244, 223, 106],\n",
       "        [243, 222, 107],\n",
       "        [245, 223, 111],\n",
       "        ...,\n",
       "        [243, 230, 125],\n",
       "        [242, 229, 124],\n",
       "        [241, 228, 123]],\n",
       "\n",
       "       ...,\n",
       "\n",
       "       [[  1,   0,   2],\n",
       "        [  2,   0,   3],\n",
       "        [  3,   1,   6],\n",
       "        ...,\n",
       "        [ 19,  39,  12],\n",
       "        [  9,  31,   8],\n",
       "        [  3,  27,   5]],\n",
       "\n",
       "       [[  0,   5,   1],\n",
       "        [  0,   1,   0],\n",
       "        [  0,   0,   4],\n",
       "        ...,\n",
       "        [ 18,  33,  14],\n",
       "        [  8,  25,   9],\n",
       "        [  0,  17,   3]],\n",
       "\n",
       "       [[ 67, 102,  38],\n",
       "        [ 52,  81,  27],\n",
       "        [ 37,  58,  15],\n",
       "        ...,\n",
       "        [ 12,  24,  10],\n",
       "        [  3,  13,   4],\n",
       "        [  0,   2,   0]]], dtype=uint8)"
      ]
     },
     "execution_count": 52,
     "metadata": {},
     "output_type": "execute_result"
    }
   ],
   "source": [
    "test_images['banana']['2413024__banana__1.0.jpg']"
   ]
  },
  {
   "cell_type": "code",
   "execution_count": 93,
   "id": "15e5e495",
   "metadata": {},
   "outputs": [],
   "source": [
    "def train_project_pca_on_images(images):\n",
    "    pca_per_class = {}\n",
    "    for image_class, image_name_pairs  in images.items():\n",
    "        # Get image data array from class\n",
    "        images_data = []\n",
    "        for _, image in image_name_pairs.items():\n",
    "            images_data.append(np.reshape(image, newshape=-1))\n",
    "        images_data = np.array(images_data)\n",
    "        # Apply PCA and store results\n",
    "        pca = PCA(n_components=5) # THIS WILL FAIL IF NO. OF SAMPLES IS < 5\n",
    "        new_images_data = pca.fit_transform(images_data)\n",
    "        pca_per_class[image_class] = {\n",
    "            'pca_object' : pca,\n",
    "            'projections' : new_images_data\n",
    "        }\n",
    "    return pca_per_class"
   ]
  },
  {
   "cell_type": "code",
   "execution_count": 98,
   "id": "adc7ecf6",
   "metadata": {},
   "outputs": [],
   "source": [
    "pca_train_results = train_project_pca_on_images(images, TEST_FOLDER)"
   ]
  },
  {
   "cell_type": "code",
   "execution_count": 99,
   "id": "38fc338c",
   "metadata": {
    "scrolled": true
   },
   "outputs": [
    {
     "data": {
      "text/plain": [
       "{'banana': {'pca_object': PCA(n_components=5),\n",
       "  'projections': array([[-1.38475268e+04, -1.24464900e+04, -9.19093270e+03,\n",
       "          -1.25638553e+04,  3.76650372e-11],\n",
       "         [-1.05322201e+04,  8.31149716e+03, -1.21511565e+04,\n",
       "           1.44094562e+04,  3.76650372e-11],\n",
       "         [-3.65586985e+03,  1.91405291e+04,  1.27966844e+04,\n",
       "          -7.87458729e+03,  3.76650372e-11],\n",
       "         [ 1.16430955e+03, -1.51079125e+04,  1.70418005e+04,\n",
       "           8.28606962e+03,  3.76650372e-11],\n",
       "         [ 2.68713072e+04,  1.02376229e+02, -8.49639575e+03,\n",
       "          -2.25708319e+03,  3.76650372e-11]])},\n",
       " 'parking_meter': {'pca_object': PCA(n_components=5),\n",
       "  'projections': array([[ -2925.23294467,  -8755.57710443,   -547.45758435,\n",
       "           -1267.01691658,  -9794.37014389],\n",
       "         [  4319.01074382,   8973.95158026,  12514.87215514,\n",
       "           -5566.32161797,  13036.00465274],\n",
       "         [ -2593.69221816,  12441.26191552,  -7149.21207723,\n",
       "          -11735.65461262,  -1123.99087294],\n",
       "         [ -9028.51509851, -13532.48356098,   1786.43243287,\n",
       "           -3919.55847471,  -1449.98296166],\n",
       "         [ -6473.86001746, -14240.12281444,   -477.86320927,\n",
       "           -5326.38157191,   -770.69249277],\n",
       "         [   -80.61358096,  16259.45391786,  22124.27296317,\n",
       "            7153.55841294, -11160.74896932],\n",
       "         [-12432.06064703,  -3855.08888677,   4925.79445769,\n",
       "           -6541.36044141,   9197.14804466],\n",
       "         [ -4370.85131103,   9017.02365543,  -8044.02509531,\n",
       "            8245.55426836,    566.88496549],\n",
       "         [ 21254.98039719,   5285.86345255,  -2836.80114775,\n",
       "           -6340.19992882,   9649.34088016],\n",
       "         [-11170.08663946,  -6745.17352641,  -1242.50513818,\n",
       "            5702.62641039,   2105.39248428],\n",
       "         [ -5192.42771532,  17713.92740116, -12885.50584253,\n",
       "           -1569.59512939,  -2560.93341012],\n",
       "         [ 11011.5642116 ,   3720.50695861,  -7939.95613186,\n",
       "           13911.01776557,  -2725.11298786],\n",
       "         [ 25712.11210964, -13621.50728116,    598.45116154,\n",
       "           -7006.92153385,  -9849.14833352],\n",
       "         [-11646.37963788,   -371.2589125 ,  -1391.90517534,\n",
       "           -2689.2603083 ,  -5287.14858878],\n",
       "         [  3616.05234825, -12290.77679469,    565.40823143,\n",
       "           16949.51367829,  10167.35773354]])},\n",
       " 'pizza': {'pca_object': PCA(n_components=5),\n",
       "  'projections': array([[-7.13188727e+03,  2.87849671e+03,  2.99097504e+03,\n",
       "          -1.97279051e+03,  5.83053102e+03],\n",
       "         [-3.00434771e+00,  4.05211853e+03, -6.03630992e+03,\n",
       "           1.80566277e+04,  3.12066022e+03],\n",
       "         [ 5.04125385e+03, -4.84454947e+02, -2.64996255e+03,\n",
       "           1.50851422e+03, -2.01855858e+02],\n",
       "         [ 2.35794085e+04, -1.12896514e+04, -2.38630482e+03,\n",
       "          -4.06768336e+03, -2.44722668e+03],\n",
       "         [-1.06592629e+03, -4.54255193e+03, -2.24451875e+02,\n",
       "           1.50630666e+03,  2.84159890e+02],\n",
       "         [ 5.45334630e+03,  1.55956190e+04,  1.82603492e+04,\n",
       "          -3.90889151e+03, -3.14047770e+03],\n",
       "         [-3.99089105e+03,  1.08711606e+04, -1.61832744e+04,\n",
       "          -1.40046593e+04,  1.36516905e+03],\n",
       "         [-2.46667497e+03,  5.83105763e+03, -3.29377888e+03,\n",
       "           7.67930813e+03, -9.01946633e+03],\n",
       "         [-4.13474796e+03, -8.34790727e+03,  5.73530265e+03,\n",
       "          -1.16915384e+03,  1.48260131e+04],\n",
       "         [-1.52808768e+04, -1.45638869e+04,  3.78745554e+03,\n",
       "          -3.62757820e+03, -1.06175067e+04]])},\n",
       " 'traffic_light': {'pca_object': PCA(n_components=5),\n",
       "  'projections': array([[ 1.37041443e+04,  2.23247301e+04, -3.47575907e+03,\n",
       "          -6.81752171e+02,  4.21022070e-11],\n",
       "         [-1.26684426e+04,  9.37766045e+02,  7.43393292e+03,\n",
       "           1.35270080e+04,  4.21022070e-11],\n",
       "         [-1.90509104e+04, -1.76432734e+03, -1.56937033e+04,\n",
       "          -6.08135461e+03,  4.21022070e-11],\n",
       "         [-1.19968865e+03, -4.18386044e+03,  1.87448166e+04,\n",
       "          -9.54323936e+03,  4.21022070e-11],\n",
       "         [ 1.92148974e+04, -1.73143084e+04, -7.00928722e+03,\n",
       "           2.77933813e+03,  4.21022070e-11]])},\n",
       " 'zebra': {'pca_object': PCA(n_components=5),\n",
       "  'projections': array([[ 22457.8889663 ,  25394.46376345,   3742.8939596 ,\n",
       "           -1987.52114748,   4886.62205989],\n",
       "         [ 11942.17785253,   1164.82938051,   3779.11260748,\n",
       "             591.87134833, -10401.76858956],\n",
       "         [ -5625.49404911,   4968.07709494,   2385.1823214 ,\n",
       "           -3588.938761  ,   -912.69689785],\n",
       "         [ -7205.11080522,   7821.19908134, -15176.50347217,\n",
       "            2350.61901756,    365.79761158],\n",
       "         [  6273.63578758,   5487.27185532,   5729.68965803,\n",
       "           -6231.44899339,  -2294.43694918],\n",
       "         [-13166.19025982, -20371.01972807,   3469.07650077,\n",
       "           -5075.66269226,  -2290.75715309],\n",
       "         [ 12680.07886529, -13668.35443572,   9402.97993645,\n",
       "           -9494.61612675,  10255.55925665],\n",
       "         [-12963.56640359,    394.62100531,  15538.26970753,\n",
       "           20457.19431732,   6630.48616505],\n",
       "         [ 25384.73600096, -16997.74000324, -12788.48643537,\n",
       "           13532.48121209,  -2515.33920085],\n",
       "         [  1239.53213564,  -9175.79701601,   2613.56482758,\n",
       "           -4843.91994075,   2605.99636332],\n",
       "         [-15473.87763226,   6320.33731131,  -5080.37876073,\n",
       "            -335.46131348,  -4941.82690514],\n",
       "         [ -8645.33490712,    663.92991533,   2029.72615083,\n",
       "           -3938.535078  , -14266.64694144],\n",
       "         [-11077.19014467,    229.20530089, -13021.0456545 ,\n",
       "           -4642.2381868 ,  15155.24964844],\n",
       "         [  2854.35052894,   -674.92613264,  -3457.45492082,\n",
       "            -710.39588405,  -3376.69377812],\n",
       "         [ -8675.63593544,   8443.90260729,    833.37357391,\n",
       "            3916.57222868,   1100.45531029]])}}"
      ]
     },
     "execution_count": 99,
     "metadata": {},
     "output_type": "execute_result"
    }
   ],
   "source": [
    "pca_train_results"
   ]
  },
  {
   "cell_type": "code",
   "execution_count": 124,
   "id": "2e8ef889",
   "metadata": {},
   "outputs": [],
   "source": [
    "def get_distance_to_space_prj(image, image_prj):\n",
    "    reshaped_image = np.reshape(image, newshape=-1)\n",
    "    return np.linalg.norm(reshaped_image - image_prj)\n",
    "\n",
    "def project_image_to_space(image, pca_object):\n",
    "    reshaped_image = np.reshape(image, newshape=(1, -1))\n",
    "    image_prj = pca_object.transform(reshaped_image)\n",
    "    no_pad_positions = reshaped_image.shape[1] - image_prj.shape[1]\n",
    "    image_full_prj = np.append(image_prj, np.zeros(no_pad_positions))\n",
    "    return image_full_prj\n",
    "\n",
    "def project_test_images(test_images, pca_train_results):\n",
    "    # For each class...\n",
    "    test_results_per_class = {}\n",
    "    for test_image_class, test_images_pairs in test_images.items():\n",
    "        # and for each image of each class...\n",
    "        test_results_per_image = {}\n",
    "        for test_image_name, test_image in test_images_pairs.items():\n",
    "            # ...calculate the distances to its different projections...\n",
    "            test_image_distances = []\n",
    "            for pca_image_class, pca_data in pca_train_results.items():\n",
    "                test_image_prj = project_image_to_space(test_image, pca_data['pca_object'])\n",
    "                dist_to_space = get_distance_to_space_prj(test_image, test_image_prj)\n",
    "                test_image_distances.append(dist_to_space)\n",
    "            # ...then determine the nearest class\n",
    "            test_image_distances = np.array(test_image_distances)\n",
    "            idx_min = np.argmin(test_image_distances)\n",
    "            class_min = list(pca_train_results.keys())[idx_min]\n",
    "            # ...and store the results\n",
    "            test_results_per_image[test_image_name] = {\n",
    "                'distances': np.round(test_image_distances, 2),\n",
    "                'nearest_class': class_min,\n",
    "                'is_expected_class': class_min == test_image_class\n",
    "            }\n",
    "        test_results_per_class[test_image_class] = test_results_per_image\n",
    "    return test_results_per_class"
   ]
  },
  {
   "cell_type": "code",
   "execution_count": 125,
   "id": "28a86932",
   "metadata": {},
   "outputs": [],
   "source": [
    "projection_results = project_test_images(test_images, pca_train_results)"
   ]
  },
  {
   "cell_type": "code",
   "execution_count": 126,
   "id": "996a5565",
   "metadata": {},
   "outputs": [
    {
     "data": {
      "text/plain": [
       "{'banana': {'2413024__banana__1.0.jpg': {'distances': array([59999.79, 59311.  , 60166.96, 59213.26, 59292.31]),\n",
       "   'nearest_class': 'traffic_light',\n",
       "   'is_expected_class': False}},\n",
       " 'parking_meter': {'2417421__parking_meter__0.9999999.jpg': {'distances': array([46356.89, 46325.07, 46348.4 , 46635.42, 46555.66]),\n",
       "   'nearest_class': 'parking_meter',\n",
       "   'is_expected_class': True}},\n",
       " 'pizza': {'2414892__pizza__0.99999857.jpg': {'distances': array([66529.28, 65888.78, 65781.89, 65085.7 , 66011.86]),\n",
       "   'nearest_class': 'traffic_light',\n",
       "   'is_expected_class': False}},\n",
       " 'traffic_light': {'2413495__traffic_light__0.9999925.jpg': {'distances': array([65361.8 , 65688.83, 65042.9 , 65184.86, 65099.19]),\n",
       "   'nearest_class': 'pizza',\n",
       "   'is_expected_class': False}},\n",
       " 'zebra': {'2414277__zebra__0.9999908.jpg': {'distances': array([50472.35, 50920.68, 50515.81, 50181.42, 50943.51]),\n",
       "   'nearest_class': 'traffic_light',\n",
       "   'is_expected_class': False}}}"
      ]
     },
     "execution_count": 126,
     "metadata": {},
     "output_type": "execute_result"
    }
   ],
   "source": [
    "projection_results"
   ]
  },
  {
   "cell_type": "markdown",
   "id": "72823902",
   "metadata": {},
   "source": [
    "#### Padding projected vectors with zeroes yield an \"accuracy\" of 1/5 with respect to expected nearest classes. Should the full PCA matrix be calculated to get real projections?"
   ]
  },
  {
   "cell_type": "markdown",
   "id": "808764e2",
   "metadata": {},
   "source": [
    "#### Dr. Orozco says that it's possible to get projections with as many features as their original representations, no matter the number of components detected during PCA."
   ]
  },
  {
   "cell_type": "markdown",
   "id": "dbb978a8",
   "metadata": {},
   "source": [
    "Someone kill me, please... * sigh *"
   ]
  }
 ],
 "metadata": {
  "kernelspec": {
   "display_name": "Python 3",
   "language": "python",
   "name": "python3"
  },
  "language_info": {
   "codemirror_mode": {
    "name": "ipython",
    "version": 3
   },
   "file_extension": ".py",
   "mimetype": "text/x-python",
   "name": "python",
   "nbconvert_exporter": "python",
   "pygments_lexer": "ipython3",
   "version": "3.8.5"
  }
 },
 "nbformat": 4,
 "nbformat_minor": 5
}
