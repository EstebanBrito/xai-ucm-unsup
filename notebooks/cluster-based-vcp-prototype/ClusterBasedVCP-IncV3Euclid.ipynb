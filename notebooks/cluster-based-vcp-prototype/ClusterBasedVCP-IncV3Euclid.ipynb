{
 "cells": [
  {
   "cell_type": "markdown",
   "id": "6bd79e3c",
   "metadata": {},
   "source": [
    "# Cluster-based Vote Count Prediction (VCP) for New Images"
   ]
  },
  {
   "cell_type": "code",
   "execution_count": 1,
   "id": "9a72b834",
   "metadata": {},
   "outputs": [],
   "source": [
    "# Libraries\n",
    "import os\n",
    "import time\n",
    "import timeit\n",
    "import pandas as pd\n",
    "import numpy as np\n",
    "import matplotlib.pyplot as plt\n",
    "from skimage.io import imread\n",
    "import sklearn\n",
    "from sklearn.decomposition import PCA"
   ]
  },
  {
   "cell_type": "markdown",
   "id": "9a37fb8e",
   "metadata": {},
   "source": [
    "## Constants"
   ]
  },
  {
   "cell_type": "code",
   "execution_count": 2,
   "id": "e834864e",
   "metadata": {},
   "outputs": [],
   "source": [
    "# Paths\n",
    "PROJECT_ROOT = os.path.join('..', '..')\n",
    "RESULTS_FOLDER_PATH = os.path.join(PROJECT_ROOT, 'results')\n",
    "SIM_MXS_FOLDER_PATH = os.path.join(RESULTS_FOLDER_PATH, 'matrices')\n",
    "FEATS_FOLDER_PATH = os.path.join(RESULTS_FOLDER_PATH, 'features')\n",
    "IMAGES_FOLDER_PATH = os.path.join(PROJECT_ROOT, 'imgs')"
   ]
  },
  {
   "cell_type": "code",
   "execution_count": 129,
   "id": "663eb28f",
   "metadata": {},
   "outputs": [],
   "source": [
    "# Execution parameters\n",
    "DATA_ID = 'incv3'\n",
    "SIM_METRIC_ID = 'euclid'\n",
    "FULL_ID = DATA_ID + '-' + SIM_METRIC_ID\n",
    "VOTE_PRT_TYPE = 'avg-votes' # ['avg-votes']\n",
    "FEAT_PRT_TYPE = 'avg-feats' # ['avgf-feats', 'pca']\n",
    "VOTE_PRED_TYPE = 'prt-based' # ['prt-based', 'prtless', 'pca-proj']\n",
    "# K_RANGE = [1, 3, 5, 7, 11] # list-like\n",
    "SEED = 42 # Highly recommended to leave it at 42"
   ]
  },
  {
   "cell_type": "markdown",
   "id": "8ae22314",
   "metadata": {},
   "source": [
    "## Loading Data"
   ]
  },
  {
   "cell_type": "code",
   "execution_count": 4,
   "id": "82b9fe27",
   "metadata": {},
   "outputs": [],
   "source": [
    "# Similarity matrix\n",
    "SIM_MX_FILE_PATH = os.path.join('..', '..', 'results', 'matrices', 'incv3_feats_euclid_sim_matrix.csv')"
   ]
  },
  {
   "cell_type": "code",
   "execution_count": 5,
   "id": "7ed011f6",
   "metadata": {},
   "outputs": [],
   "source": [
    "# Casted votes for each image\n",
    "VOTES_FILE_PATH = os.path.join('..', '..', 'results', 'votes_summary.csv')"
   ]
  },
  {
   "cell_type": "code",
   "execution_count": 6,
   "id": "940543d1",
   "metadata": {},
   "outputs": [],
   "source": [
    "# Image features\n",
    "FEATS_FILE_PATH = os.path.join('..', '..', 'results', 'features', 'incv3_feats.csv')"
   ]
  },
  {
   "cell_type": "markdown",
   "id": "3b3f7314",
   "metadata": {},
   "source": [
    "#### Data (Sim. Matrix between images)"
   ]
  },
  {
   "cell_type": "code",
   "execution_count": 7,
   "id": "ce1d89ee",
   "metadata": {},
   "outputs": [
    {
     "data": {
      "text/html": [
       "<div>\n",
       "<style scoped>\n",
       "    .dataframe tbody tr th:only-of-type {\n",
       "        vertical-align: middle;\n",
       "    }\n",
       "\n",
       "    .dataframe tbody tr th {\n",
       "        vertical-align: top;\n",
       "    }\n",
       "\n",
       "    .dataframe thead th {\n",
       "        text-align: right;\n",
       "    }\n",
       "</style>\n",
       "<table border=\"1\" class=\"dataframe\">\n",
       "  <thead>\n",
       "    <tr style=\"text-align: right;\">\n",
       "      <th></th>\n",
       "      <th>1222__pool_table__0.9999995.jpg</th>\n",
       "      <th>1328__coil__0.99999607.jpg</th>\n",
       "      <th>134__zebra__0.9999949.jpg</th>\n",
       "      <th>2377471__pizza__0.9999988.jpg</th>\n",
       "      <th>2377620__zebra__0.9999882.jpg</th>\n",
       "      <th>2377698__zebra__0.9999999.jpg</th>\n",
       "      <th>2378170__zebra__0.9999902.jpg</th>\n",
       "      <th>2378358__park_bench__0.99999833.jpg</th>\n",
       "      <th>2378523__banana__0.99999785.jpg</th>\n",
       "      <th>2379086__zebra__0.9999975.jpg</th>\n",
       "      <th>...</th>\n",
       "      <th>2417881__zebra__0.9999945.jpg</th>\n",
       "      <th>2417938__banana__0.9999944.jpg</th>\n",
       "      <th>4099__pool_table__0.9999945.jpg</th>\n",
       "      <th>4339__manhole_cover__0.99999416.jpg</th>\n",
       "      <th>4534__viaduct__0.9999877.jpg</th>\n",
       "      <th>4573__barrel__0.9999974.jpg</th>\n",
       "      <th>4673__triumphal_arch__0.9999893.jpg</th>\n",
       "      <th>576__gondola__0.9999993.jpg</th>\n",
       "      <th>577__gondola__0.9999962.jpg</th>\n",
       "      <th>691__cheetah__0.99999213.jpg</th>\n",
       "    </tr>\n",
       "  </thead>\n",
       "  <tbody>\n",
       "    <tr>\n",
       "      <th>1222__pool_table__0.9999995.jpg</th>\n",
       "      <td>0.000000</td>\n",
       "      <td>24.899170</td>\n",
       "      <td>22.871903</td>\n",
       "      <td>25.031346</td>\n",
       "      <td>23.751015</td>\n",
       "      <td>25.263490</td>\n",
       "      <td>23.017009</td>\n",
       "      <td>23.726696</td>\n",
       "      <td>26.784180</td>\n",
       "      <td>23.866859</td>\n",
       "      <td>...</td>\n",
       "      <td>23.893972</td>\n",
       "      <td>28.554533</td>\n",
       "      <td>8.689397</td>\n",
       "      <td>23.648353</td>\n",
       "      <td>23.595179</td>\n",
       "      <td>24.177000</td>\n",
       "      <td>23.629427</td>\n",
       "      <td>26.545261</td>\n",
       "      <td>27.091866</td>\n",
       "      <td>23.200351</td>\n",
       "    </tr>\n",
       "    <tr>\n",
       "      <th>1328__coil__0.99999607.jpg</th>\n",
       "      <td>24.899170</td>\n",
       "      <td>0.000000</td>\n",
       "      <td>17.500986</td>\n",
       "      <td>18.181155</td>\n",
       "      <td>17.596692</td>\n",
       "      <td>19.099940</td>\n",
       "      <td>17.112792</td>\n",
       "      <td>17.488145</td>\n",
       "      <td>20.532969</td>\n",
       "      <td>17.789077</td>\n",
       "      <td>...</td>\n",
       "      <td>17.571292</td>\n",
       "      <td>23.570307</td>\n",
       "      <td>21.901239</td>\n",
       "      <td>16.987964</td>\n",
       "      <td>17.437562</td>\n",
       "      <td>19.139305</td>\n",
       "      <td>17.123877</td>\n",
       "      <td>19.577529</td>\n",
       "      <td>20.261407</td>\n",
       "      <td>16.637508</td>\n",
       "    </tr>\n",
       "    <tr>\n",
       "      <th>134__zebra__0.9999949.jpg</th>\n",
       "      <td>22.871903</td>\n",
       "      <td>17.500986</td>\n",
       "      <td>0.000000</td>\n",
       "      <td>17.436307</td>\n",
       "      <td>7.257223</td>\n",
       "      <td>7.579433</td>\n",
       "      <td>6.056684</td>\n",
       "      <td>16.007572</td>\n",
       "      <td>19.907645</td>\n",
       "      <td>6.569770</td>\n",
       "      <td>...</td>\n",
       "      <td>5.660697</td>\n",
       "      <td>22.369222</td>\n",
       "      <td>19.397503</td>\n",
       "      <td>15.556074</td>\n",
       "      <td>16.074305</td>\n",
       "      <td>16.874761</td>\n",
       "      <td>16.384309</td>\n",
       "      <td>17.144394</td>\n",
       "      <td>17.840449</td>\n",
       "      <td>14.699963</td>\n",
       "    </tr>\n",
       "  </tbody>\n",
       "</table>\n",
       "<p>3 rows × 198 columns</p>\n",
       "</div>"
      ],
      "text/plain": [
       "                                 1222__pool_table__0.9999995.jpg  \\\n",
       "1222__pool_table__0.9999995.jpg                         0.000000   \n",
       "1328__coil__0.99999607.jpg                             24.899170   \n",
       "134__zebra__0.9999949.jpg                              22.871903   \n",
       "\n",
       "                                 1328__coil__0.99999607.jpg  \\\n",
       "1222__pool_table__0.9999995.jpg                   24.899170   \n",
       "1328__coil__0.99999607.jpg                         0.000000   \n",
       "134__zebra__0.9999949.jpg                         17.500986   \n",
       "\n",
       "                                 134__zebra__0.9999949.jpg  \\\n",
       "1222__pool_table__0.9999995.jpg                  22.871903   \n",
       "1328__coil__0.99999607.jpg                       17.500986   \n",
       "134__zebra__0.9999949.jpg                         0.000000   \n",
       "\n",
       "                                 2377471__pizza__0.9999988.jpg  \\\n",
       "1222__pool_table__0.9999995.jpg                      25.031346   \n",
       "1328__coil__0.99999607.jpg                           18.181155   \n",
       "134__zebra__0.9999949.jpg                            17.436307   \n",
       "\n",
       "                                 2377620__zebra__0.9999882.jpg  \\\n",
       "1222__pool_table__0.9999995.jpg                      23.751015   \n",
       "1328__coil__0.99999607.jpg                           17.596692   \n",
       "134__zebra__0.9999949.jpg                             7.257223   \n",
       "\n",
       "                                 2377698__zebra__0.9999999.jpg  \\\n",
       "1222__pool_table__0.9999995.jpg                      25.263490   \n",
       "1328__coil__0.99999607.jpg                           19.099940   \n",
       "134__zebra__0.9999949.jpg                             7.579433   \n",
       "\n",
       "                                 2378170__zebra__0.9999902.jpg  \\\n",
       "1222__pool_table__0.9999995.jpg                      23.017009   \n",
       "1328__coil__0.99999607.jpg                           17.112792   \n",
       "134__zebra__0.9999949.jpg                             6.056684   \n",
       "\n",
       "                                 2378358__park_bench__0.99999833.jpg  \\\n",
       "1222__pool_table__0.9999995.jpg                            23.726696   \n",
       "1328__coil__0.99999607.jpg                                 17.488145   \n",
       "134__zebra__0.9999949.jpg                                  16.007572   \n",
       "\n",
       "                                 2378523__banana__0.99999785.jpg  \\\n",
       "1222__pool_table__0.9999995.jpg                        26.784180   \n",
       "1328__coil__0.99999607.jpg                             20.532969   \n",
       "134__zebra__0.9999949.jpg                              19.907645   \n",
       "\n",
       "                                 2379086__zebra__0.9999975.jpg  ...  \\\n",
       "1222__pool_table__0.9999995.jpg                      23.866859  ...   \n",
       "1328__coil__0.99999607.jpg                           17.789077  ...   \n",
       "134__zebra__0.9999949.jpg                             6.569770  ...   \n",
       "\n",
       "                                 2417881__zebra__0.9999945.jpg  \\\n",
       "1222__pool_table__0.9999995.jpg                      23.893972   \n",
       "1328__coil__0.99999607.jpg                           17.571292   \n",
       "134__zebra__0.9999949.jpg                             5.660697   \n",
       "\n",
       "                                 2417938__banana__0.9999944.jpg  \\\n",
       "1222__pool_table__0.9999995.jpg                       28.554533   \n",
       "1328__coil__0.99999607.jpg                            23.570307   \n",
       "134__zebra__0.9999949.jpg                             22.369222   \n",
       "\n",
       "                                 4099__pool_table__0.9999945.jpg  \\\n",
       "1222__pool_table__0.9999995.jpg                         8.689397   \n",
       "1328__coil__0.99999607.jpg                             21.901239   \n",
       "134__zebra__0.9999949.jpg                              19.397503   \n",
       "\n",
       "                                 4339__manhole_cover__0.99999416.jpg  \\\n",
       "1222__pool_table__0.9999995.jpg                            23.648353   \n",
       "1328__coil__0.99999607.jpg                                 16.987964   \n",
       "134__zebra__0.9999949.jpg                                  15.556074   \n",
       "\n",
       "                                 4534__viaduct__0.9999877.jpg  \\\n",
       "1222__pool_table__0.9999995.jpg                     23.595179   \n",
       "1328__coil__0.99999607.jpg                          17.437562   \n",
       "134__zebra__0.9999949.jpg                           16.074305   \n",
       "\n",
       "                                 4573__barrel__0.9999974.jpg  \\\n",
       "1222__pool_table__0.9999995.jpg                    24.177000   \n",
       "1328__coil__0.99999607.jpg                         19.139305   \n",
       "134__zebra__0.9999949.jpg                          16.874761   \n",
       "\n",
       "                                 4673__triumphal_arch__0.9999893.jpg  \\\n",
       "1222__pool_table__0.9999995.jpg                            23.629427   \n",
       "1328__coil__0.99999607.jpg                                 17.123877   \n",
       "134__zebra__0.9999949.jpg                                  16.384309   \n",
       "\n",
       "                                 576__gondola__0.9999993.jpg  \\\n",
       "1222__pool_table__0.9999995.jpg                    26.545261   \n",
       "1328__coil__0.99999607.jpg                         19.577529   \n",
       "134__zebra__0.9999949.jpg                          17.144394   \n",
       "\n",
       "                                 577__gondola__0.9999962.jpg  \\\n",
       "1222__pool_table__0.9999995.jpg                    27.091866   \n",
       "1328__coil__0.99999607.jpg                         20.261407   \n",
       "134__zebra__0.9999949.jpg                          17.840449   \n",
       "\n",
       "                                 691__cheetah__0.99999213.jpg  \n",
       "1222__pool_table__0.9999995.jpg                     23.200351  \n",
       "1328__coil__0.99999607.jpg                          16.637508  \n",
       "134__zebra__0.9999949.jpg                           14.699963  \n",
       "\n",
       "[3 rows x 198 columns]"
      ]
     },
     "execution_count": 7,
     "metadata": {},
     "output_type": "execute_result"
    }
   ],
   "source": [
    "sim_mx_df = pd.read_csv(SIM_MX_FILE_PATH, index_col=0)\n",
    "sim_mx_df.head(3)"
   ]
  },
  {
   "cell_type": "markdown",
   "id": "4df262a4",
   "metadata": {},
   "source": [
    "#### Votes"
   ]
  },
  {
   "cell_type": "code",
   "execution_count": 8,
   "id": "3c1abfc7",
   "metadata": {},
   "outputs": [
    {
     "data": {
      "text/html": [
       "<div>\n",
       "<style scoped>\n",
       "    .dataframe tbody tr th:only-of-type {\n",
       "        vertical-align: middle;\n",
       "    }\n",
       "\n",
       "    .dataframe tbody tr th {\n",
       "        vertical-align: top;\n",
       "    }\n",
       "\n",
       "    .dataframe thead th {\n",
       "        text-align: right;\n",
       "    }\n",
       "</style>\n",
       "<table border=\"1\" class=\"dataframe\">\n",
       "  <thead>\n",
       "    <tr style=\"text-align: right;\">\n",
       "      <th></th>\n",
       "      <th>ig</th>\n",
       "      <th>lime</th>\n",
       "      <th>xrai</th>\n",
       "      <th>anchor</th>\n",
       "      <th>best</th>\n",
       "    </tr>\n",
       "  </thead>\n",
       "  <tbody>\n",
       "    <tr>\n",
       "      <th>1222__pool_table__0.9999995.jpg</th>\n",
       "      <td>12</td>\n",
       "      <td>13</td>\n",
       "      <td>3</td>\n",
       "      <td>1</td>\n",
       "      <td>lime</td>\n",
       "    </tr>\n",
       "    <tr>\n",
       "      <th>1328__coil__0.99999607.jpg</th>\n",
       "      <td>17</td>\n",
       "      <td>4</td>\n",
       "      <td>3</td>\n",
       "      <td>2</td>\n",
       "      <td>ig</td>\n",
       "    </tr>\n",
       "    <tr>\n",
       "      <th>134__zebra__0.9999949.jpg</th>\n",
       "      <td>14</td>\n",
       "      <td>1</td>\n",
       "      <td>8</td>\n",
       "      <td>2</td>\n",
       "      <td>ig</td>\n",
       "    </tr>\n",
       "  </tbody>\n",
       "</table>\n",
       "</div>"
      ],
      "text/plain": [
       "                                 ig  lime  xrai  anchor  best\n",
       "1222__pool_table__0.9999995.jpg  12    13     3       1  lime\n",
       "1328__coil__0.99999607.jpg       17     4     3       2    ig\n",
       "134__zebra__0.9999949.jpg        14     1     8       2    ig"
      ]
     },
     "execution_count": 8,
     "metadata": {},
     "output_type": "execute_result"
    }
   ],
   "source": [
    "votes_df = pd.read_csv(VOTES_FILE_PATH, index_col=0)\n",
    "votes_df.head(3)"
   ]
  },
  {
   "cell_type": "markdown",
   "id": "2d00e40a",
   "metadata": {},
   "source": [
    "Here's a sanity check for vote proportion in our the dataset. In the original XAI-CBR paper, vote proportion was like this:\n",
    "- IG: 45%\n",
    "- XRAI: 30%\n",
    "- LIME: 18%\n",
    "- ANCHOR: 7%\n",
    "\n",
    "Also, IG was the most voted technique, at least by hard voting aggregation, with a majority of 62% images.\n"
   ]
  },
  {
   "cell_type": "code",
   "execution_count": 9,
   "id": "ec98d4da",
   "metadata": {},
   "outputs": [
    {
     "data": {
      "text/plain": [
       "ig        0.488315\n",
       "xrai      0.271713\n",
       "lime      0.183467\n",
       "anchor    0.056505\n",
       "dtype: float64"
      ]
     },
     "execution_count": 9,
     "metadata": {},
     "output_type": "execute_result"
    }
   ],
   "source": [
    "votes_per_technique = votes_df[['ig', 'xrai', 'lime', 'anchor']].sum()\n",
    "total_votes = votes_per_technique.sum()\n",
    "votes_per_technique / total_votes"
   ]
  },
  {
   "cell_type": "markdown",
   "id": "e3dae6de",
   "metadata": {},
   "source": [
    "There's a slight variation of these proportions with respect to ones presented in the paper. It seems like some votes from XRAI and ANCHOR techniques drifted out to the IG technique. We'll check this out later, this should not be of great importance in the experiments of this notebook."
   ]
  },
  {
   "cell_type": "markdown",
   "id": "9b5831b1",
   "metadata": {},
   "source": [
    "#### Features"
   ]
  },
  {
   "cell_type": "code",
   "execution_count": 10,
   "id": "c300e5bd",
   "metadata": {},
   "outputs": [
    {
     "data": {
      "text/html": [
       "<div>\n",
       "<style scoped>\n",
       "    .dataframe tbody tr th:only-of-type {\n",
       "        vertical-align: middle;\n",
       "    }\n",
       "\n",
       "    .dataframe tbody tr th {\n",
       "        vertical-align: top;\n",
       "    }\n",
       "\n",
       "    .dataframe thead th {\n",
       "        text-align: right;\n",
       "    }\n",
       "</style>\n",
       "<table border=\"1\" class=\"dataframe\">\n",
       "  <thead>\n",
       "    <tr style=\"text-align: right;\">\n",
       "      <th></th>\n",
       "      <th>0</th>\n",
       "      <th>1</th>\n",
       "      <th>2</th>\n",
       "      <th>3</th>\n",
       "      <th>4</th>\n",
       "      <th>5</th>\n",
       "      <th>6</th>\n",
       "      <th>7</th>\n",
       "      <th>8</th>\n",
       "      <th>9</th>\n",
       "      <th>...</th>\n",
       "      <th>2038</th>\n",
       "      <th>2039</th>\n",
       "      <th>2040</th>\n",
       "      <th>2041</th>\n",
       "      <th>2042</th>\n",
       "      <th>2043</th>\n",
       "      <th>2044</th>\n",
       "      <th>2045</th>\n",
       "      <th>2046</th>\n",
       "      <th>2047</th>\n",
       "    </tr>\n",
       "  </thead>\n",
       "  <tbody>\n",
       "    <tr>\n",
       "      <th>1222__pool_table__0.9999995.jpg</th>\n",
       "      <td>0.830638</td>\n",
       "      <td>0.109613</td>\n",
       "      <td>0.027107</td>\n",
       "      <td>0.056101</td>\n",
       "      <td>0.123813</td>\n",
       "      <td>0.364547</td>\n",
       "      <td>0.354803</td>\n",
       "      <td>0.331838</td>\n",
       "      <td>0.018715</td>\n",
       "      <td>0.060355</td>\n",
       "      <td>...</td>\n",
       "      <td>1.167887</td>\n",
       "      <td>0.901976</td>\n",
       "      <td>0.245693</td>\n",
       "      <td>0.714952</td>\n",
       "      <td>0.245120</td>\n",
       "      <td>0.052343</td>\n",
       "      <td>0.192633</td>\n",
       "      <td>0.712200</td>\n",
       "      <td>0.008294</td>\n",
       "      <td>0.290266</td>\n",
       "    </tr>\n",
       "    <tr>\n",
       "      <th>1328__coil__0.99999607.jpg</th>\n",
       "      <td>0.291597</td>\n",
       "      <td>0.385156</td>\n",
       "      <td>0.047256</td>\n",
       "      <td>0.071147</td>\n",
       "      <td>0.002932</td>\n",
       "      <td>0.182395</td>\n",
       "      <td>0.019829</td>\n",
       "      <td>0.046854</td>\n",
       "      <td>0.122627</td>\n",
       "      <td>0.061063</td>\n",
       "      <td>...</td>\n",
       "      <td>0.029534</td>\n",
       "      <td>0.404313</td>\n",
       "      <td>0.059962</td>\n",
       "      <td>0.778392</td>\n",
       "      <td>0.700241</td>\n",
       "      <td>0.813751</td>\n",
       "      <td>0.424850</td>\n",
       "      <td>0.686327</td>\n",
       "      <td>0.696242</td>\n",
       "      <td>0.441459</td>\n",
       "    </tr>\n",
       "    <tr>\n",
       "      <th>134__zebra__0.9999949.jpg</th>\n",
       "      <td>1.088536</td>\n",
       "      <td>0.071769</td>\n",
       "      <td>0.176484</td>\n",
       "      <td>0.168589</td>\n",
       "      <td>0.050061</td>\n",
       "      <td>0.311524</td>\n",
       "      <td>0.057534</td>\n",
       "      <td>0.080351</td>\n",
       "      <td>0.880801</td>\n",
       "      <td>0.554862</td>\n",
       "      <td>...</td>\n",
       "      <td>0.007061</td>\n",
       "      <td>0.055804</td>\n",
       "      <td>0.037670</td>\n",
       "      <td>0.016626</td>\n",
       "      <td>0.224138</td>\n",
       "      <td>0.075299</td>\n",
       "      <td>0.143866</td>\n",
       "      <td>0.851481</td>\n",
       "      <td>0.390153</td>\n",
       "      <td>0.008928</td>\n",
       "    </tr>\n",
       "  </tbody>\n",
       "</table>\n",
       "<p>3 rows × 2048 columns</p>\n",
       "</div>"
      ],
      "text/plain": [
       "                                        0         1         2         3  \\\n",
       "1222__pool_table__0.9999995.jpg  0.830638  0.109613  0.027107  0.056101   \n",
       "1328__coil__0.99999607.jpg       0.291597  0.385156  0.047256  0.071147   \n",
       "134__zebra__0.9999949.jpg        1.088536  0.071769  0.176484  0.168589   \n",
       "\n",
       "                                        4         5         6         7  \\\n",
       "1222__pool_table__0.9999995.jpg  0.123813  0.364547  0.354803  0.331838   \n",
       "1328__coil__0.99999607.jpg       0.002932  0.182395  0.019829  0.046854   \n",
       "134__zebra__0.9999949.jpg        0.050061  0.311524  0.057534  0.080351   \n",
       "\n",
       "                                        8         9  ...      2038      2039  \\\n",
       "1222__pool_table__0.9999995.jpg  0.018715  0.060355  ...  1.167887  0.901976   \n",
       "1328__coil__0.99999607.jpg       0.122627  0.061063  ...  0.029534  0.404313   \n",
       "134__zebra__0.9999949.jpg        0.880801  0.554862  ...  0.007061  0.055804   \n",
       "\n",
       "                                     2040      2041      2042      2043  \\\n",
       "1222__pool_table__0.9999995.jpg  0.245693  0.714952  0.245120  0.052343   \n",
       "1328__coil__0.99999607.jpg       0.059962  0.778392  0.700241  0.813751   \n",
       "134__zebra__0.9999949.jpg        0.037670  0.016626  0.224138  0.075299   \n",
       "\n",
       "                                     2044      2045      2046      2047  \n",
       "1222__pool_table__0.9999995.jpg  0.192633  0.712200  0.008294  0.290266  \n",
       "1328__coil__0.99999607.jpg       0.424850  0.686327  0.696242  0.441459  \n",
       "134__zebra__0.9999949.jpg        0.143866  0.851481  0.390153  0.008928  \n",
       "\n",
       "[3 rows x 2048 columns]"
      ]
     },
     "execution_count": 10,
     "metadata": {},
     "output_type": "execute_result"
    }
   ],
   "source": [
    "feats_df = pd.read_csv(FEATS_FILE_PATH, index_col=0)\n",
    "feats_df.head(3)"
   ]
  },
  {
   "cell_type": "markdown",
   "id": "40d170cd",
   "metadata": {},
   "source": [
    "## Data Preprocessing"
   ]
  },
  {
   "cell_type": "code",
   "execution_count": 11,
   "id": "6346cd72",
   "metadata": {},
   "outputs": [],
   "source": [
    "X = sim_mx_df.values # Values from sim. matrix\n",
    "X_names = sim_mx_df.index.values # Names of every image\n",
    "y = votes_df.values[:, :4] # Vote count for each imae\n",
    "best = votes_df.values[:, -1] # Most voted technique for each image"
   ]
  },
  {
   "cell_type": "code",
   "execution_count": 12,
   "id": "21779c36",
   "metadata": {},
   "outputs": [
    {
     "name": "stdout",
     "output_type": "stream",
     "text": [
      "(198, 198) (198,) (198, 4) (198,)\n"
     ]
    }
   ],
   "source": [
    "print(X.shape, X_names.shape, y.shape, best.shape)"
   ]
  },
  {
   "cell_type": "markdown",
   "id": "fdd0fc9e",
   "metadata": {},
   "source": [
    "#### Instance deletion\n",
    "Stratified Subsampling cannot be performed onto the dataset because only one instance is best explained with ANCHOR. Due to the very small importance of that instance in the dataset, we will continue without that instance (i.e. we will find that instance and remove it from the dataset)."
   ]
  },
  {
   "cell_type": "code",
   "execution_count": 13,
   "id": "17c8b23f",
   "metadata": {},
   "outputs": [
    {
     "data": {
      "text/plain": [
       "array([155], dtype=int64)"
      ]
     },
     "execution_count": 13,
     "metadata": {},
     "output_type": "execute_result"
    }
   ],
   "source": [
    "# At what index is the anchor instance located?\n",
    "anchor_idxs = np.argwhere(best == 'anchor')[0]\n",
    "anchor_idxs"
   ]
  },
  {
   "cell_type": "code",
   "execution_count": 14,
   "id": "9604b529",
   "metadata": {},
   "outputs": [
    {
     "data": {
      "text/plain": [
       "(array(['2411942__zebra__0.99999654.jpg'], dtype=object),\n",
       " array(['anchor'], dtype=object))"
      ]
     },
     "execution_count": 14,
     "metadata": {},
     "output_type": "execute_result"
    }
   ],
   "source": [
    "# What's the name of that image and its associated technique?\n",
    "X_names[anchor_idxs], best[anchor_idxs]"
   ]
  },
  {
   "cell_type": "code",
   "execution_count": 15,
   "id": "af90a355",
   "metadata": {},
   "outputs": [],
   "source": [
    "# Delete that instance from all data partitions (X, y, etc.)\n",
    "X = np.delete(X, anchor_idxs, axis=0)\n",
    "X = np.delete(X, anchor_idxs, axis=1) # Twice in sim. matrix (both rows and columns)\n",
    "X_names = np.delete(X_names, anchor_idxs, axis=0)\n",
    "y = np.delete(y, anchor_idxs, axis=0)\n",
    "best = np.delete(best, anchor_idxs, axis=0)"
   ]
  },
  {
   "cell_type": "code",
   "execution_count": 16,
   "id": "e1affd0c",
   "metadata": {},
   "outputs": [
    {
     "name": "stdout",
     "output_type": "stream",
     "text": [
      "(197, 197) (197,) (197, 4) (197,)\n"
     ]
    }
   ],
   "source": [
    "print(X.shape, X_names.shape, y.shape, best.shape)"
   ]
  },
  {
   "cell_type": "markdown",
   "id": "560838e3",
   "metadata": {},
   "source": [
    "## Splitting and Fold Creation"
   ]
  },
  {
   "cell_type": "code",
   "execution_count": 17,
   "id": "e7f76da6",
   "metadata": {},
   "outputs": [],
   "source": [
    "from sklearn.model_selection import StratifiedShuffleSplit as SSS\n",
    "from sklearn.model_selection import ShuffleSplit as SS"
   ]
  },
  {
   "cell_type": "code",
   "execution_count": 18,
   "id": "13a36dbb",
   "metadata": {},
   "outputs": [],
   "source": [
    "# Change this constant to toogle stratified sampling on/off\n",
    "STRATIFIED = True"
   ]
  },
  {
   "cell_type": "code",
   "execution_count": 19,
   "id": "8714f28d",
   "metadata": {},
   "outputs": [],
   "source": [
    "# Perform split\n",
    "splitter = None\n",
    "if STRATIFIED: splitter = SSS(n_splits=5, test_size=0.2, random_state=42)\n",
    "else: splitter = SS(n_splits=5, test_size=0.2, random_state=42)\n",
    "splits = splitter.split(X, best)\n",
    "splits = list(splits)"
   ]
  },
  {
   "cell_type": "code",
   "execution_count": 20,
   "id": "e462e6c0",
   "metadata": {},
   "outputs": [
    {
     "data": {
      "text/plain": [
       "(array([192, 147, 177,  11, 140,  51, 127, 118, 172, 191,  62, 124, 115,\n",
       "         80, 190, 142,  92,  69,  25,  14,  42,   3, 185,  90,  10,  76,\n",
       "        176, 114,  44,  98, 166, 121,  79, 170,   1, 183,  28,  31, 155,\n",
       "         75, 156, 101, 171,  13, 110, 122,  38,  27, 136,  20,   6,  56,\n",
       "         35,  59, 139,  33,  78,  82,  21, 167, 117,  12,  49,  15,   5,\n",
       "        152, 132,  81,  61, 163, 175,  91,   7, 174, 135,  74, 193, 129,\n",
       "         60,  96,  50, 161, 159, 145, 126,  19,  65, 188,  73,  89, 133,\n",
       "        179,  40,  86, 112,  26, 168, 189, 149,  94, 194,  18, 138, 169,\n",
       "        102,  97,  71, 130,  53,  99, 148, 154,   8,  34, 182, 105,  55,\n",
       "         95, 153,  72, 144,  77,  52,  30,   9,  37,   4,  93, 128, 137,\n",
       "        195, 160, 111,  45, 164, 151,  29,  48,  70,  43,  57, 157,  39,\n",
       "        141,  85, 150,  67,   0,  47, 113,  32,  17, 131, 180,  66, 100,\n",
       "        186], dtype=int64),\n",
       " array([ 54, 187, 103,  23, 104, 108, 181,  64, 109, 134,  16, 146,   2,\n",
       "        116, 106, 119, 165,  41, 120, 178, 173, 125,  58, 184,  36,  63,\n",
       "        107,  24, 162,  83,  84,  88, 123,  46, 143,  87,  22, 196,  68,\n",
       "        158], dtype=int64))"
      ]
     },
     "execution_count": 20,
     "metadata": {},
     "output_type": "execute_result"
    }
   ],
   "source": [
    "splits[0]"
   ]
  },
  {
   "cell_type": "markdown",
   "id": "79b07470",
   "metadata": {},
   "source": [
    "## Clustering (using DBSCAN)"
   ]
  },
  {
   "cell_type": "code",
   "execution_count": 21,
   "id": "dcd2656a",
   "metadata": {},
   "outputs": [],
   "source": [
    "clusterable_params = []"
   ]
  },
  {
   "cell_type": "code",
   "execution_count": 22,
   "id": "ef8cf992",
   "metadata": {},
   "outputs": [],
   "source": [
    "from sklearn.cluster import DBSCAN\n",
    "from sklearn.metrics import silhouette_score"
   ]
  },
  {
   "cell_type": "code",
   "execution_count": 23,
   "id": "62b889cb",
   "metadata": {},
   "outputs": [],
   "source": [
    "def get_sim_mx_subset(sim_mx_values, filter_idxs):\n",
    "    return sim_mx_values.take(filter_idxs, axis=0).take(filter_idxs, axis=1)"
   ]
  },
  {
   "cell_type": "code",
   "execution_count": 24,
   "id": "04b48187",
   "metadata": {},
   "outputs": [],
   "source": [
    "def fit_dbscan_sim_mx(data, min_samples, eps_values, \n",
    "               min_no_clusters=5, max_no_clusters=np.inf,\n",
    "               min_clust_instances=None, min_clust_instances_pct=0.85,\n",
    "               max_clust_instances=np.inf):\n",
    "    '''Performs several DBSCAN clustering runs according to a parameter search grid (using m and epsilon).\n",
    "    Also, verifies different clustering conditions and calculates sil. score of all valid clustering runs.'''\n",
    "    # Condition precalculation\n",
    "    if min_clust_instances_pct: # If % was defined\n",
    "        min_clust_instances = round(data.shape[0] * min_clust_instances_pct)\n",
    "    elif not min_clust_instances: # Else, if nominal amount was not specified\n",
    "        min_clust_instances = 100\n",
    "    # Code\n",
    "    scores, clusters, instances = [], [], []\n",
    "    for m in min_samples:\n",
    "        row_scores, row_clusters, row_instances = [], [], []\n",
    "        for e in eps_values:\n",
    "            db = DBSCAN(min_samples=m, eps=e, metric='precomputed').fit(data)\n",
    "            # Get only non anomalous instances and indices\n",
    "            non_a = db.labels_ != -1 # [False, ..., False] if all are outliers\n",
    "            non_a_idxs = np.argwhere(non_a==True)\n",
    "            non_a_idxs = non_a_idxs.reshape(non_a_idxs.shape[0]) # flatten matrix to 1D\n",
    "            # Calculate conditions\n",
    "            n_clusters = len(np.unique(db.labels_[non_a])) # 0 if all are outliers\n",
    "            n_instances = len(db.labels_[non_a]) # 0 if all are outliers\n",
    "            # Apply conditions\n",
    "            valid_n_clusters = n_clusters >= min_no_clusters and n_clusters <= max_no_clusters\n",
    "            valid_n_cl_instances = n_instances >= min_clust_instances and n_instances <= max_clust_instances\n",
    "            if (valid_n_clusters and valid_n_cl_instances):\n",
    "                # Calculate silhouette score without noise points (i.e. anomalous instances)\n",
    "                non_a_sim_mx = get_sim_mx_subset(data, non_a_idxs)\n",
    "                score = silhouette_score(non_a_sim_mx, db.labels_[non_a], metric='precomputed')\n",
    "            else:\n",
    "                score = None\n",
    "            # Store results\n",
    "            row_scores.append(score)\n",
    "            row_clusters.append(n_clusters)\n",
    "            row_instances.append(n_instances)\n",
    "        # Store row results\n",
    "        scores.append(row_scores)\n",
    "        clusters.append(row_clusters)\n",
    "        instances.append(row_instances)\n",
    "    # Prepare and return values\n",
    "    ms_axis = pd.Index(min_samples, name='Min_samples')\n",
    "    eps_axis = pd.Index(eps_values, name='Epsilon')\n",
    "    df_scores = pd.DataFrame(scores, index=ms_axis, columns=eps_axis)\n",
    "    df_clusters = pd.DataFrame(clusters, index=ms_axis, columns=eps_axis)\n",
    "    df_instances = pd.DataFrame(instances, index=ms_axis, columns=eps_axis)\n",
    "    return df_scores, df_clusters, df_instances"
   ]
  },
  {
   "cell_type": "code",
   "execution_count": 25,
   "id": "9df9bd15",
   "metadata": {},
   "outputs": [],
   "source": [
    "def print_results(m, eps, scores_df, instances_df, clusters_df):\n",
    "    '''Given clustering results and specific values for m and epsilon parameters,\n",
    "    displays further info. about the clustering obtained using those parameters.\n",
    "    For interactive and visual use only'''\n",
    "    score = round(scores_df.loc[m][eps], 4)\n",
    "    instances = instances_df.loc[m][eps]\n",
    "    clusters = clusters_df.loc[m][eps]\n",
    "    print(f'DBSCAN using parameters m={m} and eps={eps} yields the next clustering results:')\n",
    "    print()\n",
    "    print(f'- Sil. score: {score}')\n",
    "    print(f'- {instances} clustered instances into {clusters} clusters')\n",
    "    print(f'- Avg. of {round(instances/clusters, 2)} instances per cluster')"
   ]
  },
  {
   "cell_type": "code",
   "execution_count": 26,
   "id": "da9e5e22",
   "metadata": {},
   "outputs": [
    {
     "name": "stdout",
     "output_type": "stream",
     "text": [
      "0.7% : about 109.9 instances\n",
      "0.75% : about 117.75 instances\n",
      "0.8% : about 125.6 instances\n",
      "0.85% : about 133.45 instances\n",
      "0.9% : about 141.3 instances\n"
     ]
    }
   ],
   "source": [
    "# What's the equivalence in instances of different clustered proportions of the dataset?\n",
    "for i in np.arange(0.7, 0.95, 0.05):\n",
    "    print(f'{round(i, 2)}% : about {round(X[splits[0][0]].shape[0] * i, 2)} instances')"
   ]
  },
  {
   "cell_type": "markdown",
   "id": "9de7df4f",
   "metadata": {},
   "source": [
    "#### Split #0"
   ]
  },
  {
   "cell_type": "code",
   "execution_count": 27,
   "id": "67d8600e",
   "metadata": {},
   "outputs": [
    {
     "data": {
      "text/plain": [
       "(157, 157)"
      ]
     },
     "execution_count": 27,
     "metadata": {},
     "output_type": "execute_result"
    }
   ],
   "source": [
    "X_split_0 = get_sim_mx_subset(X, splits[0][0])\n",
    "X_split_0.shape"
   ]
  },
  {
   "cell_type": "code",
   "execution_count": 28,
   "id": "c8697572",
   "metadata": {},
   "outputs": [
    {
     "data": {
      "text/html": [
       "<div>\n",
       "<style scoped>\n",
       "    .dataframe tbody tr th:only-of-type {\n",
       "        vertical-align: middle;\n",
       "    }\n",
       "\n",
       "    .dataframe tbody tr th {\n",
       "        vertical-align: top;\n",
       "    }\n",
       "\n",
       "    .dataframe thead th {\n",
       "        text-align: right;\n",
       "    }\n",
       "</style>\n",
       "<table border=\"1\" class=\"dataframe\">\n",
       "  <thead>\n",
       "    <tr style=\"text-align: right;\">\n",
       "      <th>Epsilon</th>\n",
       "      <th>10</th>\n",
       "      <th>11</th>\n",
       "      <th>12</th>\n",
       "      <th>13</th>\n",
       "      <th>14</th>\n",
       "      <th>15</th>\n",
       "      <th>16</th>\n",
       "      <th>17</th>\n",
       "    </tr>\n",
       "    <tr>\n",
       "      <th>Min_samples</th>\n",
       "      <th></th>\n",
       "      <th></th>\n",
       "      <th></th>\n",
       "      <th></th>\n",
       "      <th></th>\n",
       "      <th></th>\n",
       "      <th></th>\n",
       "      <th></th>\n",
       "    </tr>\n",
       "  </thead>\n",
       "  <tbody>\n",
       "    <tr>\n",
       "      <th>2</th>\n",
       "      <td>None</td>\n",
       "      <td>0.525697</td>\n",
       "      <td>0.51783</td>\n",
       "      <td>0.496012</td>\n",
       "      <td>0.469331</td>\n",
       "      <td>0.349045</td>\n",
       "      <td>0.333957</td>\n",
       "      <td>0.284066</td>\n",
       "    </tr>\n",
       "    <tr>\n",
       "      <th>3</th>\n",
       "      <td>None</td>\n",
       "      <td>NaN</td>\n",
       "      <td>NaN</td>\n",
       "      <td>0.493045</td>\n",
       "      <td>0.467718</td>\n",
       "      <td>0.342455</td>\n",
       "      <td>0.328979</td>\n",
       "      <td>NaN</td>\n",
       "    </tr>\n",
       "    <tr>\n",
       "      <th>4</th>\n",
       "      <td>None</td>\n",
       "      <td>NaN</td>\n",
       "      <td>NaN</td>\n",
       "      <td>NaN</td>\n",
       "      <td>0.467807</td>\n",
       "      <td>0.344684</td>\n",
       "      <td>0.401042</td>\n",
       "      <td>NaN</td>\n",
       "    </tr>\n",
       "    <tr>\n",
       "      <th>5</th>\n",
       "      <td>None</td>\n",
       "      <td>NaN</td>\n",
       "      <td>NaN</td>\n",
       "      <td>NaN</td>\n",
       "      <td>0.467807</td>\n",
       "      <td>0.344684</td>\n",
       "      <td>0.401042</td>\n",
       "      <td>NaN</td>\n",
       "    </tr>\n",
       "    <tr>\n",
       "      <th>6</th>\n",
       "      <td>None</td>\n",
       "      <td>NaN</td>\n",
       "      <td>NaN</td>\n",
       "      <td>NaN</td>\n",
       "      <td>NaN</td>\n",
       "      <td>0.340594</td>\n",
       "      <td>NaN</td>\n",
       "      <td>NaN</td>\n",
       "    </tr>\n",
       "    <tr>\n",
       "      <th>7</th>\n",
       "      <td>None</td>\n",
       "      <td>NaN</td>\n",
       "      <td>NaN</td>\n",
       "      <td>NaN</td>\n",
       "      <td>NaN</td>\n",
       "      <td>NaN</td>\n",
       "      <td>NaN</td>\n",
       "      <td>NaN</td>\n",
       "    </tr>\n",
       "  </tbody>\n",
       "</table>\n",
       "</div>"
      ],
      "text/plain": [
       "Epsilon        10        11       12        13        14        15        16  \\\n",
       "Min_samples                                                                    \n",
       "2            None  0.525697  0.51783  0.496012  0.469331  0.349045  0.333957   \n",
       "3            None       NaN      NaN  0.493045  0.467718  0.342455  0.328979   \n",
       "4            None       NaN      NaN       NaN  0.467807  0.344684  0.401042   \n",
       "5            None       NaN      NaN       NaN  0.467807  0.344684  0.401042   \n",
       "6            None       NaN      NaN       NaN       NaN  0.340594       NaN   \n",
       "7            None       NaN      NaN       NaN       NaN       NaN       NaN   \n",
       "\n",
       "Epsilon            17  \n",
       "Min_samples            \n",
       "2            0.284066  \n",
       "3                 NaN  \n",
       "4                 NaN  \n",
       "5                 NaN  \n",
       "6                 NaN  \n",
       "7                 NaN  "
      ]
     },
     "execution_count": 28,
     "metadata": {},
     "output_type": "execute_result"
    }
   ],
   "source": [
    "dfs, dfc, dfi = fit_dbscan_sim_mx(X_split_0, range(2, 8), range(10, 18))\n",
    "dfs"
   ]
  },
  {
   "cell_type": "code",
   "execution_count": 29,
   "id": "b7204b38",
   "metadata": {},
   "outputs": [
    {
     "name": "stdout",
     "output_type": "stream",
     "text": [
      "DBSCAN using parameters m=2 and eps=11 yields the next clustering results:\n",
      "\n",
      "- Sil. score: 0.5257\n",
      "- 134 clustered instances into 15 clusters\n",
      "- Avg. of 8.93 instances per cluster\n"
     ]
    }
   ],
   "source": [
    "print_results(2, 11, dfs, dfi, dfc)"
   ]
  },
  {
   "cell_type": "code",
   "execution_count": 30,
   "id": "c0db8527",
   "metadata": {},
   "outputs": [],
   "source": [
    "clusterable_params.append([2, 11, 0])"
   ]
  },
  {
   "cell_type": "markdown",
   "id": "ae21224d",
   "metadata": {},
   "source": [
    "#### Split #1"
   ]
  },
  {
   "cell_type": "code",
   "execution_count": 31,
   "id": "35ecff23",
   "metadata": {},
   "outputs": [
    {
     "data": {
      "text/plain": [
       "(157, 157)"
      ]
     },
     "execution_count": 31,
     "metadata": {},
     "output_type": "execute_result"
    }
   ],
   "source": [
    "X_split_1 = get_sim_mx_subset(X, splits[1][0])\n",
    "X_split_1.shape"
   ]
  },
  {
   "cell_type": "code",
   "execution_count": 32,
   "id": "3d1dc0dc",
   "metadata": {},
   "outputs": [
    {
     "data": {
      "text/html": [
       "<div>\n",
       "<style scoped>\n",
       "    .dataframe tbody tr th:only-of-type {\n",
       "        vertical-align: middle;\n",
       "    }\n",
       "\n",
       "    .dataframe tbody tr th {\n",
       "        vertical-align: top;\n",
       "    }\n",
       "\n",
       "    .dataframe thead th {\n",
       "        text-align: right;\n",
       "    }\n",
       "</style>\n",
       "<table border=\"1\" class=\"dataframe\">\n",
       "  <thead>\n",
       "    <tr style=\"text-align: right;\">\n",
       "      <th>Epsilon</th>\n",
       "      <th>10</th>\n",
       "      <th>11</th>\n",
       "      <th>12</th>\n",
       "      <th>13</th>\n",
       "      <th>14</th>\n",
       "      <th>15</th>\n",
       "      <th>16</th>\n",
       "      <th>17</th>\n",
       "    </tr>\n",
       "    <tr>\n",
       "      <th>Min_samples</th>\n",
       "      <th></th>\n",
       "      <th></th>\n",
       "      <th></th>\n",
       "      <th></th>\n",
       "      <th></th>\n",
       "      <th></th>\n",
       "      <th></th>\n",
       "      <th></th>\n",
       "    </tr>\n",
       "  </thead>\n",
       "  <tbody>\n",
       "    <tr>\n",
       "      <th>2</th>\n",
       "      <td>None</td>\n",
       "      <td>0.552471</td>\n",
       "      <td>0.543729</td>\n",
       "      <td>0.509018</td>\n",
       "      <td>0.512489</td>\n",
       "      <td>0.384647</td>\n",
       "      <td>0.346903</td>\n",
       "      <td>0.364139</td>\n",
       "    </tr>\n",
       "    <tr>\n",
       "      <th>3</th>\n",
       "      <td>None</td>\n",
       "      <td>NaN</td>\n",
       "      <td>NaN</td>\n",
       "      <td>NaN</td>\n",
       "      <td>0.510243</td>\n",
       "      <td>0.405753</td>\n",
       "      <td>0.342570</td>\n",
       "      <td>0.407832</td>\n",
       "    </tr>\n",
       "    <tr>\n",
       "      <th>4</th>\n",
       "      <td>None</td>\n",
       "      <td>NaN</td>\n",
       "      <td>NaN</td>\n",
       "      <td>NaN</td>\n",
       "      <td>NaN</td>\n",
       "      <td>0.412814</td>\n",
       "      <td>0.421066</td>\n",
       "      <td>0.407832</td>\n",
       "    </tr>\n",
       "    <tr>\n",
       "      <th>5</th>\n",
       "      <td>None</td>\n",
       "      <td>NaN</td>\n",
       "      <td>NaN</td>\n",
       "      <td>NaN</td>\n",
       "      <td>NaN</td>\n",
       "      <td>0.412814</td>\n",
       "      <td>0.421066</td>\n",
       "      <td>0.407832</td>\n",
       "    </tr>\n",
       "    <tr>\n",
       "      <th>6</th>\n",
       "      <td>None</td>\n",
       "      <td>NaN</td>\n",
       "      <td>NaN</td>\n",
       "      <td>NaN</td>\n",
       "      <td>NaN</td>\n",
       "      <td>NaN</td>\n",
       "      <td>NaN</td>\n",
       "      <td>NaN</td>\n",
       "    </tr>\n",
       "    <tr>\n",
       "      <th>7</th>\n",
       "      <td>None</td>\n",
       "      <td>NaN</td>\n",
       "      <td>NaN</td>\n",
       "      <td>NaN</td>\n",
       "      <td>NaN</td>\n",
       "      <td>NaN</td>\n",
       "      <td>NaN</td>\n",
       "      <td>NaN</td>\n",
       "    </tr>\n",
       "  </tbody>\n",
       "</table>\n",
       "</div>"
      ],
      "text/plain": [
       "Epsilon        10        11        12        13        14        15        16  \\\n",
       "Min_samples                                                                     \n",
       "2            None  0.552471  0.543729  0.509018  0.512489  0.384647  0.346903   \n",
       "3            None       NaN       NaN       NaN  0.510243  0.405753  0.342570   \n",
       "4            None       NaN       NaN       NaN       NaN  0.412814  0.421066   \n",
       "5            None       NaN       NaN       NaN       NaN  0.412814  0.421066   \n",
       "6            None       NaN       NaN       NaN       NaN       NaN       NaN   \n",
       "7            None       NaN       NaN       NaN       NaN       NaN       NaN   \n",
       "\n",
       "Epsilon            17  \n",
       "Min_samples            \n",
       "2            0.364139  \n",
       "3            0.407832  \n",
       "4            0.407832  \n",
       "5            0.407832  \n",
       "6                 NaN  \n",
       "7                 NaN  "
      ]
     },
     "execution_count": 32,
     "metadata": {},
     "output_type": "execute_result"
    }
   ],
   "source": [
    "dfs, dfc, dfi = fit_dbscan_sim_mx(X_split_1, range(2, 8), range(10, 18))\n",
    "dfs"
   ]
  },
  {
   "cell_type": "code",
   "execution_count": 33,
   "id": "e41dc26f",
   "metadata": {},
   "outputs": [
    {
     "name": "stdout",
     "output_type": "stream",
     "text": [
      "DBSCAN using parameters m=2 and eps=11 yields the next clustering results:\n",
      "\n",
      "- Sil. score: 0.5525\n",
      "- 133 clustered instances into 16 clusters\n",
      "- Avg. of 8.31 instances per cluster\n"
     ]
    }
   ],
   "source": [
    "print_results(2, 11, dfs, dfi, dfc)"
   ]
  },
  {
   "cell_type": "code",
   "execution_count": 34,
   "id": "a441ae42",
   "metadata": {},
   "outputs": [],
   "source": [
    "clusterable_params.append([2, 11, 1])"
   ]
  },
  {
   "cell_type": "markdown",
   "id": "3fc9d59f",
   "metadata": {},
   "source": [
    "#### Split #2"
   ]
  },
  {
   "cell_type": "code",
   "execution_count": 35,
   "id": "f2bad892",
   "metadata": {},
   "outputs": [
    {
     "data": {
      "text/plain": [
       "(157, 157)"
      ]
     },
     "execution_count": 35,
     "metadata": {},
     "output_type": "execute_result"
    }
   ],
   "source": [
    "X_split_2 = get_sim_mx_subset(X, splits[2][0])\n",
    "X_split_2.shape"
   ]
  },
  {
   "cell_type": "code",
   "execution_count": 36,
   "id": "e53593d9",
   "metadata": {},
   "outputs": [
    {
     "data": {
      "text/html": [
       "<div>\n",
       "<style scoped>\n",
       "    .dataframe tbody tr th:only-of-type {\n",
       "        vertical-align: middle;\n",
       "    }\n",
       "\n",
       "    .dataframe tbody tr th {\n",
       "        vertical-align: top;\n",
       "    }\n",
       "\n",
       "    .dataframe thead th {\n",
       "        text-align: right;\n",
       "    }\n",
       "</style>\n",
       "<table border=\"1\" class=\"dataframe\">\n",
       "  <thead>\n",
       "    <tr style=\"text-align: right;\">\n",
       "      <th>Epsilon</th>\n",
       "      <th>10</th>\n",
       "      <th>11</th>\n",
       "      <th>12</th>\n",
       "      <th>13</th>\n",
       "      <th>14</th>\n",
       "      <th>15</th>\n",
       "      <th>16</th>\n",
       "      <th>17</th>\n",
       "    </tr>\n",
       "    <tr>\n",
       "      <th>Min_samples</th>\n",
       "      <th></th>\n",
       "      <th></th>\n",
       "      <th></th>\n",
       "      <th></th>\n",
       "      <th></th>\n",
       "      <th></th>\n",
       "      <th></th>\n",
       "      <th></th>\n",
       "    </tr>\n",
       "  </thead>\n",
       "  <tbody>\n",
       "    <tr>\n",
       "      <th>2</th>\n",
       "      <td>None</td>\n",
       "      <td>0.534224</td>\n",
       "      <td>0.524801</td>\n",
       "      <td>0.501986</td>\n",
       "      <td>0.399634</td>\n",
       "      <td>0.362913</td>\n",
       "      <td>0.340106</td>\n",
       "      <td>0.292511</td>\n",
       "    </tr>\n",
       "    <tr>\n",
       "      <th>3</th>\n",
       "      <td>None</td>\n",
       "      <td>NaN</td>\n",
       "      <td>NaN</td>\n",
       "      <td>0.499575</td>\n",
       "      <td>0.395962</td>\n",
       "      <td>0.369744</td>\n",
       "      <td>0.420016</td>\n",
       "      <td>NaN</td>\n",
       "    </tr>\n",
       "    <tr>\n",
       "      <th>4</th>\n",
       "      <td>None</td>\n",
       "      <td>NaN</td>\n",
       "      <td>NaN</td>\n",
       "      <td>NaN</td>\n",
       "      <td>0.412159</td>\n",
       "      <td>0.369744</td>\n",
       "      <td>0.420016</td>\n",
       "      <td>NaN</td>\n",
       "    </tr>\n",
       "    <tr>\n",
       "      <th>5</th>\n",
       "      <td>None</td>\n",
       "      <td>NaN</td>\n",
       "      <td>NaN</td>\n",
       "      <td>NaN</td>\n",
       "      <td>0.412159</td>\n",
       "      <td>0.373198</td>\n",
       "      <td>0.420016</td>\n",
       "      <td>NaN</td>\n",
       "    </tr>\n",
       "    <tr>\n",
       "      <th>6</th>\n",
       "      <td>None</td>\n",
       "      <td>NaN</td>\n",
       "      <td>NaN</td>\n",
       "      <td>NaN</td>\n",
       "      <td>NaN</td>\n",
       "      <td>0.365788</td>\n",
       "      <td>NaN</td>\n",
       "      <td>NaN</td>\n",
       "    </tr>\n",
       "    <tr>\n",
       "      <th>7</th>\n",
       "      <td>None</td>\n",
       "      <td>NaN</td>\n",
       "      <td>NaN</td>\n",
       "      <td>NaN</td>\n",
       "      <td>NaN</td>\n",
       "      <td>NaN</td>\n",
       "      <td>NaN</td>\n",
       "      <td>NaN</td>\n",
       "    </tr>\n",
       "  </tbody>\n",
       "</table>\n",
       "</div>"
      ],
      "text/plain": [
       "Epsilon        10        11        12        13        14        15        16  \\\n",
       "Min_samples                                                                     \n",
       "2            None  0.534224  0.524801  0.501986  0.399634  0.362913  0.340106   \n",
       "3            None       NaN       NaN  0.499575  0.395962  0.369744  0.420016   \n",
       "4            None       NaN       NaN       NaN  0.412159  0.369744  0.420016   \n",
       "5            None       NaN       NaN       NaN  0.412159  0.373198  0.420016   \n",
       "6            None       NaN       NaN       NaN       NaN  0.365788       NaN   \n",
       "7            None       NaN       NaN       NaN       NaN       NaN       NaN   \n",
       "\n",
       "Epsilon            17  \n",
       "Min_samples            \n",
       "2            0.292511  \n",
       "3                 NaN  \n",
       "4                 NaN  \n",
       "5                 NaN  \n",
       "6                 NaN  \n",
       "7                 NaN  "
      ]
     },
     "execution_count": 36,
     "metadata": {},
     "output_type": "execute_result"
    }
   ],
   "source": [
    "dfs, dfc, dfi = fit_dbscan_sim_mx(X_split_2, range(2, 8), range(10, 18))\n",
    "dfs"
   ]
  },
  {
   "cell_type": "code",
   "execution_count": 37,
   "id": "4aa8023d",
   "metadata": {},
   "outputs": [
    {
     "name": "stdout",
     "output_type": "stream",
     "text": [
      "DBSCAN using parameters m=2 and eps=11 yields the next clustering results:\n",
      "\n",
      "- Sil. score: 0.5342\n",
      "- 133 clustered instances into 15 clusters\n",
      "- Avg. of 8.87 instances per cluster\n"
     ]
    }
   ],
   "source": [
    "print_results(2, 11, dfs, dfi, dfc)"
   ]
  },
  {
   "cell_type": "code",
   "execution_count": 38,
   "id": "a98bc127",
   "metadata": {},
   "outputs": [],
   "source": [
    "clusterable_params.append([2, 11, 2])"
   ]
  },
  {
   "cell_type": "markdown",
   "id": "2e521ac3",
   "metadata": {},
   "source": [
    "#### Split #3"
   ]
  },
  {
   "cell_type": "code",
   "execution_count": 39,
   "id": "fb37c145",
   "metadata": {},
   "outputs": [
    {
     "data": {
      "text/plain": [
       "(157, 157)"
      ]
     },
     "execution_count": 39,
     "metadata": {},
     "output_type": "execute_result"
    }
   ],
   "source": [
    "X_split_3 = get_sim_mx_subset(X, splits[3][0])\n",
    "X_split_3.shape"
   ]
  },
  {
   "cell_type": "code",
   "execution_count": 40,
   "id": "582f8da4",
   "metadata": {},
   "outputs": [
    {
     "data": {
      "text/html": [
       "<div>\n",
       "<style scoped>\n",
       "    .dataframe tbody tr th:only-of-type {\n",
       "        vertical-align: middle;\n",
       "    }\n",
       "\n",
       "    .dataframe tbody tr th {\n",
       "        vertical-align: top;\n",
       "    }\n",
       "\n",
       "    .dataframe thead th {\n",
       "        text-align: right;\n",
       "    }\n",
       "</style>\n",
       "<table border=\"1\" class=\"dataframe\">\n",
       "  <thead>\n",
       "    <tr style=\"text-align: right;\">\n",
       "      <th>Epsilon</th>\n",
       "      <th>10</th>\n",
       "      <th>11</th>\n",
       "      <th>12</th>\n",
       "      <th>13</th>\n",
       "      <th>14</th>\n",
       "      <th>15</th>\n",
       "      <th>16</th>\n",
       "      <th>17</th>\n",
       "    </tr>\n",
       "    <tr>\n",
       "      <th>Min_samples</th>\n",
       "      <th></th>\n",
       "      <th></th>\n",
       "      <th></th>\n",
       "      <th></th>\n",
       "      <th></th>\n",
       "      <th></th>\n",
       "      <th></th>\n",
       "      <th></th>\n",
       "    </tr>\n",
       "  </thead>\n",
       "  <tbody>\n",
       "    <tr>\n",
       "      <th>2</th>\n",
       "      <td>None</td>\n",
       "      <td>0.535411</td>\n",
       "      <td>0.528561</td>\n",
       "      <td>0.506424</td>\n",
       "      <td>0.389468</td>\n",
       "      <td>0.348317</td>\n",
       "      <td>0.341853</td>\n",
       "      <td>0.301573</td>\n",
       "    </tr>\n",
       "    <tr>\n",
       "      <th>3</th>\n",
       "      <td>None</td>\n",
       "      <td>NaN</td>\n",
       "      <td>NaN</td>\n",
       "      <td>0.501141</td>\n",
       "      <td>0.405223</td>\n",
       "      <td>0.344428</td>\n",
       "      <td>0.417960</td>\n",
       "      <td>NaN</td>\n",
       "    </tr>\n",
       "    <tr>\n",
       "      <th>4</th>\n",
       "      <td>None</td>\n",
       "      <td>NaN</td>\n",
       "      <td>NaN</td>\n",
       "      <td>NaN</td>\n",
       "      <td>NaN</td>\n",
       "      <td>0.344428</td>\n",
       "      <td>0.417960</td>\n",
       "      <td>NaN</td>\n",
       "    </tr>\n",
       "    <tr>\n",
       "      <th>5</th>\n",
       "      <td>None</td>\n",
       "      <td>NaN</td>\n",
       "      <td>NaN</td>\n",
       "      <td>NaN</td>\n",
       "      <td>NaN</td>\n",
       "      <td>0.341843</td>\n",
       "      <td>NaN</td>\n",
       "      <td>NaN</td>\n",
       "    </tr>\n",
       "    <tr>\n",
       "      <th>6</th>\n",
       "      <td>None</td>\n",
       "      <td>NaN</td>\n",
       "      <td>NaN</td>\n",
       "      <td>NaN</td>\n",
       "      <td>NaN</td>\n",
       "      <td>NaN</td>\n",
       "      <td>NaN</td>\n",
       "      <td>NaN</td>\n",
       "    </tr>\n",
       "    <tr>\n",
       "      <th>7</th>\n",
       "      <td>None</td>\n",
       "      <td>NaN</td>\n",
       "      <td>NaN</td>\n",
       "      <td>NaN</td>\n",
       "      <td>NaN</td>\n",
       "      <td>NaN</td>\n",
       "      <td>NaN</td>\n",
       "      <td>NaN</td>\n",
       "    </tr>\n",
       "  </tbody>\n",
       "</table>\n",
       "</div>"
      ],
      "text/plain": [
       "Epsilon        10        11        12        13        14        15        16  \\\n",
       "Min_samples                                                                     \n",
       "2            None  0.535411  0.528561  0.506424  0.389468  0.348317  0.341853   \n",
       "3            None       NaN       NaN  0.501141  0.405223  0.344428  0.417960   \n",
       "4            None       NaN       NaN       NaN       NaN  0.344428  0.417960   \n",
       "5            None       NaN       NaN       NaN       NaN  0.341843       NaN   \n",
       "6            None       NaN       NaN       NaN       NaN       NaN       NaN   \n",
       "7            None       NaN       NaN       NaN       NaN       NaN       NaN   \n",
       "\n",
       "Epsilon            17  \n",
       "Min_samples            \n",
       "2            0.301573  \n",
       "3                 NaN  \n",
       "4                 NaN  \n",
       "5                 NaN  \n",
       "6                 NaN  \n",
       "7                 NaN  "
      ]
     },
     "execution_count": 40,
     "metadata": {},
     "output_type": "execute_result"
    }
   ],
   "source": [
    "dfs, dfc, dfi = fit_dbscan_sim_mx(X_split_3, range(2, 8), range(10, 18))\n",
    "dfs"
   ]
  },
  {
   "cell_type": "code",
   "execution_count": 41,
   "id": "9cdeeed5",
   "metadata": {},
   "outputs": [
    {
     "name": "stdout",
     "output_type": "stream",
     "text": [
      "DBSCAN using parameters m=2 and eps=11 yields the next clustering results:\n",
      "\n",
      "- Sil. score: 0.5354\n",
      "- 134 clustered instances into 15 clusters\n",
      "- Avg. of 8.93 instances per cluster\n"
     ]
    }
   ],
   "source": [
    "print_results(2, 11, dfs, dfi, dfc)"
   ]
  },
  {
   "cell_type": "code",
   "execution_count": 42,
   "id": "44111a25",
   "metadata": {},
   "outputs": [],
   "source": [
    "clusterable_params.append([2, 11, 3])"
   ]
  },
  {
   "cell_type": "markdown",
   "id": "5e13de65",
   "metadata": {},
   "source": [
    "#### Split #4"
   ]
  },
  {
   "cell_type": "code",
   "execution_count": 43,
   "id": "da483ec9",
   "metadata": {},
   "outputs": [
    {
     "data": {
      "text/plain": [
       "(157, 157)"
      ]
     },
     "execution_count": 43,
     "metadata": {},
     "output_type": "execute_result"
    }
   ],
   "source": [
    "X_split_4 = get_sim_mx_subset(X, splits[4][0])\n",
    "X_split_4.shape"
   ]
  },
  {
   "cell_type": "code",
   "execution_count": 44,
   "id": "e8f39259",
   "metadata": {},
   "outputs": [
    {
     "data": {
      "text/html": [
       "<div>\n",
       "<style scoped>\n",
       "    .dataframe tbody tr th:only-of-type {\n",
       "        vertical-align: middle;\n",
       "    }\n",
       "\n",
       "    .dataframe tbody tr th {\n",
       "        vertical-align: top;\n",
       "    }\n",
       "\n",
       "    .dataframe thead th {\n",
       "        text-align: right;\n",
       "    }\n",
       "</style>\n",
       "<table border=\"1\" class=\"dataframe\">\n",
       "  <thead>\n",
       "    <tr style=\"text-align: right;\">\n",
       "      <th>Epsilon</th>\n",
       "      <th>10</th>\n",
       "      <th>11</th>\n",
       "      <th>12</th>\n",
       "      <th>13</th>\n",
       "      <th>14</th>\n",
       "      <th>15</th>\n",
       "      <th>16</th>\n",
       "      <th>17</th>\n",
       "    </tr>\n",
       "    <tr>\n",
       "      <th>Min_samples</th>\n",
       "      <th></th>\n",
       "      <th></th>\n",
       "      <th></th>\n",
       "      <th></th>\n",
       "      <th></th>\n",
       "      <th></th>\n",
       "      <th></th>\n",
       "      <th></th>\n",
       "    </tr>\n",
       "  </thead>\n",
       "  <tbody>\n",
       "    <tr>\n",
       "      <th>2</th>\n",
       "      <td>None</td>\n",
       "      <td>0.529118</td>\n",
       "      <td>0.5229</td>\n",
       "      <td>0.518945</td>\n",
       "      <td>0.478969</td>\n",
       "      <td>0.416594</td>\n",
       "      <td>0.358288</td>\n",
       "      <td>0.344744</td>\n",
       "    </tr>\n",
       "    <tr>\n",
       "      <th>3</th>\n",
       "      <td>None</td>\n",
       "      <td>NaN</td>\n",
       "      <td>NaN</td>\n",
       "      <td>NaN</td>\n",
       "      <td>0.483984</td>\n",
       "      <td>0.429327</td>\n",
       "      <td>0.354740</td>\n",
       "      <td>NaN</td>\n",
       "    </tr>\n",
       "    <tr>\n",
       "      <th>4</th>\n",
       "      <td>None</td>\n",
       "      <td>NaN</td>\n",
       "      <td>NaN</td>\n",
       "      <td>NaN</td>\n",
       "      <td>NaN</td>\n",
       "      <td>0.429938</td>\n",
       "      <td>0.426047</td>\n",
       "      <td>NaN</td>\n",
       "    </tr>\n",
       "    <tr>\n",
       "      <th>5</th>\n",
       "      <td>None</td>\n",
       "      <td>NaN</td>\n",
       "      <td>NaN</td>\n",
       "      <td>NaN</td>\n",
       "      <td>NaN</td>\n",
       "      <td>0.429938</td>\n",
       "      <td>0.426047</td>\n",
       "      <td>NaN</td>\n",
       "    </tr>\n",
       "    <tr>\n",
       "      <th>6</th>\n",
       "      <td>None</td>\n",
       "      <td>NaN</td>\n",
       "      <td>NaN</td>\n",
       "      <td>NaN</td>\n",
       "      <td>NaN</td>\n",
       "      <td>NaN</td>\n",
       "      <td>0.426047</td>\n",
       "      <td>NaN</td>\n",
       "    </tr>\n",
       "    <tr>\n",
       "      <th>7</th>\n",
       "      <td>None</td>\n",
       "      <td>NaN</td>\n",
       "      <td>NaN</td>\n",
       "      <td>NaN</td>\n",
       "      <td>NaN</td>\n",
       "      <td>NaN</td>\n",
       "      <td>NaN</td>\n",
       "      <td>NaN</td>\n",
       "    </tr>\n",
       "  </tbody>\n",
       "</table>\n",
       "</div>"
      ],
      "text/plain": [
       "Epsilon        10        11      12        13        14        15        16  \\\n",
       "Min_samples                                                                   \n",
       "2            None  0.529118  0.5229  0.518945  0.478969  0.416594  0.358288   \n",
       "3            None       NaN     NaN       NaN  0.483984  0.429327  0.354740   \n",
       "4            None       NaN     NaN       NaN       NaN  0.429938  0.426047   \n",
       "5            None       NaN     NaN       NaN       NaN  0.429938  0.426047   \n",
       "6            None       NaN     NaN       NaN       NaN       NaN  0.426047   \n",
       "7            None       NaN     NaN       NaN       NaN       NaN       NaN   \n",
       "\n",
       "Epsilon            17  \n",
       "Min_samples            \n",
       "2            0.344744  \n",
       "3                 NaN  \n",
       "4                 NaN  \n",
       "5                 NaN  \n",
       "6                 NaN  \n",
       "7                 NaN  "
      ]
     },
     "execution_count": 44,
     "metadata": {},
     "output_type": "execute_result"
    }
   ],
   "source": [
    "dfs, dfc, dfi = fit_dbscan_sim_mx(X_split_4, range(2, 8), range(10, 18))\n",
    "dfs"
   ]
  },
  {
   "cell_type": "code",
   "execution_count": 45,
   "id": "5f6b8812",
   "metadata": {},
   "outputs": [
    {
     "name": "stdout",
     "output_type": "stream",
     "text": [
      "DBSCAN using parameters m=2 and eps=11 yields the next clustering results:\n",
      "\n",
      "- Sil. score: 0.5291\n",
      "- 133 clustered instances into 15 clusters\n",
      "- Avg. of 8.87 instances per cluster\n"
     ]
    }
   ],
   "source": [
    "print_results(2, 11, dfs, dfi, dfc)"
   ]
  },
  {
   "cell_type": "code",
   "execution_count": 46,
   "id": "3efb9286",
   "metadata": {},
   "outputs": [],
   "source": [
    "clusterable_params.append([2, 11, 4])"
   ]
  },
  {
   "cell_type": "markdown",
   "id": "fc81b81c",
   "metadata": {},
   "source": [
    "#### Clusterable parameters for each split"
   ]
  },
  {
   "cell_type": "code",
   "execution_count": 47,
   "id": "c4fccf1c",
   "metadata": {},
   "outputs": [
    {
     "data": {
      "text/plain": [
       "[[2, 11, 0], [2, 11, 1], [2, 11, 2], [2, 11, 3], [2, 11, 4]]"
      ]
     },
     "execution_count": 47,
     "metadata": {},
     "output_type": "execute_result"
    }
   ],
   "source": [
    "# [m, epsilon, split_idx]\n",
    "clusterable_params"
   ]
  },
  {
   "cell_type": "markdown",
   "id": "e898ef6d",
   "metadata": {},
   "source": [
    "## Clustering Results"
   ]
  },
  {
   "cell_type": "code",
   "execution_count": 48,
   "id": "c22c4014",
   "metadata": {},
   "outputs": [],
   "source": [
    "def get_indiv_clustering_results(params, split, image_names):\n",
    "    '''Returns a dictionary mapping the name of an image with an integer\n",
    "    representing the cluster it belongs to'''\n",
    "    # Fetch data\n",
    "    train_idxs = split[0]\n",
    "    sim_mx_subset = get_sim_mx_subset(X, train_idxs)\n",
    "    img_names = image_names[train_idxs]\n",
    "    # Perform clustering\n",
    "    dbscan = DBSCAN(min_samples=params[0], eps=params[1], metric='precomputed')\n",
    "    dbscan = dbscan.fit(sim_mx_subset)\n",
    "    # Generate {img_name : label} mapping\n",
    "    name_label_map = {name: label for name, label in zip(img_names, dbscan.labels_)}\n",
    "    return name_label_map\n",
    "\n",
    "def get_global_clustering_results(params_set, splits, image_names):\n",
    "    '''Returns a dictionary mapping the split index of every parameter set\n",
    "    in the 'params_set' arg. with the clustering results generated with that parameter set'''\n",
    "    results = {}\n",
    "    for params in params_set:\n",
    "        split_idx = params[2]\n",
    "        # Create { split_idx: cluster_labels} pair\n",
    "        results[split_idx] = get_indiv_clustering_results(params, splits[split_idx], image_names)\n",
    "    return results"
   ]
  },
  {
   "cell_type": "code",
   "execution_count": 49,
   "id": "8279c64d",
   "metadata": {},
   "outputs": [],
   "source": [
    "global_cl_results = get_global_clustering_results(clusterable_params, splits, X_names)"
   ]
  },
  {
   "cell_type": "code",
   "execution_count": 50,
   "id": "49d7c81a",
   "metadata": {},
   "outputs": [
    {
     "data": {
      "text/plain": [
       "{0: {'4573__barrel__0.9999974.jpg': -1,\n",
       "  '2411372__parking_meter__0.999995.jpg': 0,\n",
       "  '2415910__zebra__0.9999962.jpg': 1,\n",
       "  '2380017__zebra__0.9999995.jpg': 1,\n",
       "  '2410410__ski__0.99999356.jpg': 2,\n",
       "  '2387305__traffic_light__1.0.jpg': 3,\n",
       "  '2408884__zebra__0.9999913.jpg': 1,\n",
       "  '2406581__zebra__0.9999939.jpg': 1,\n",
       "  '2415102__zebra__0.9999876.jpg': 1,\n",
       "  '4534__viaduct__0.9999877.jpg': -1,\n",
       "  '2391862__broccoli__0.99999714.jpg': 4,\n",
       "  '2408592__goose__0.999998.jpg': -1,\n",
       "  '2405479__traffic_light__0.9999939.jpg': 3,\n",
       "  '2396034__remote_control__0.9999856.jpg': -1,\n",
       "  '4339__manhole_cover__0.99999416.jpg': -1,\n",
       "  '2410779__parking_meter__0.99999917.jpg': -1,\n",
       "  '2401383__slug__0.9999933.jpg': -1,\n",
       "  '2392579__zebra__0.9999969.jpg': 1,\n",
       "  '2382183__pizza__0.99998593.jpg': 5,\n",
       "  '2380319__broccoli__0.9999957.jpg': -1,\n",
       "  '2385461__zebra__0.99998415.jpg': 1,\n",
       "  '2377471__pizza__0.9999988.jpg': 5,\n",
       "  '2417421__parking_meter__0.9999999.jpg': 0,\n",
       "  '2401217__traffic_light__0.9999895.jpg': 3,\n",
       "  '2379489__parking_meter__0.9999989.jpg': 0,\n",
       "  '2395038__zebra__0.9999976.jpg': 1,\n",
       "  '2415737__parking_meter__0.99999785.jpg': 0,\n",
       "  '2405280__zebra__0.9999938.jpg': 1,\n",
       "  '2386049__king_penguin__0.99999917.jpg': -1,\n",
       "  '2402264__zebra__0.9999931.jpg': 1,\n",
       "  '2414335__refrigerator__0.9999889.jpg': -1,\n",
       "  '2407130__umbrella__0.9999888.jpg': -1,\n",
       "  '2395787__pizza__0.99999535.jpg': 5,\n",
       "  '2414892__pizza__0.99999857.jpg': 5,\n",
       "  '1328__coil__0.99999607.jpg': -1,\n",
       "  '2417382__zebra__0.9999864.jpg': 1,\n",
       "  '2382589__zebra__0.9999982.jpg': 1,\n",
       "  '2382913__zebra__0.9999883.jpg': 1,\n",
       "  '2412027__school_bus__0.99998724.jpg': -1,\n",
       "  '2394082__street_sign__0.99999905.jpg': 6,\n",
       "  '2412267__zebra__0.9999939.jpg': 1,\n",
       "  '2403199__zebra__0.9999869.jpg': 1,\n",
       "  '2414996__park_bench__0.9999907.jpg': -1,\n",
       "  '2380189__zebra__0.9999993.jpg': 1,\n",
       "  '2404955__banana__0.9999995.jpg': 7,\n",
       "  '2407788__pizza__0.99999785.jpg': 5,\n",
       "  '2385034__zebra__0.9999981.jpg': 1,\n",
       "  '2382474__bow_tie__0.9999982.jpg': -1,\n",
       "  '2409822__steam_locomotive__0.9999906.jpg': -1,\n",
       "  '2381648__zebra__0.9999995.jpg': 1,\n",
       "  '2378170__zebra__0.9999902.jpg': 1,\n",
       "  '2389163__zebra__0.9999957.jpg': 1,\n",
       "  '2384145__street_sign__0.9999987.jpg': 6,\n",
       "  '2390296__umbrella__0.99999106.jpg': 8,\n",
       "  '2410336__zebra__0.99999547.jpg': 1,\n",
       "  '2383569__parking_meter__0.9999988.jpg': 0,\n",
       "  '2395716__pizza__0.9999968.jpg': 5,\n",
       "  '2397486__zebra__0.9999875.jpg': 1,\n",
       "  '2381879__zebra__0.99999523.jpg': 1,\n",
       "  '2414384__ski__0.9999949.jpg': 2,\n",
       "  '2406209__brown_bear__0.999985.jpg': 9,\n",
       "  '2380019__zebra__0.9999926.jpg': 1,\n",
       "  '2387034__zebra__0.9999896.jpg': 1,\n",
       "  '2380447__bullet_train__0.9999869.jpg': 10,\n",
       "  '2377698__zebra__0.9999999.jpg': 1,\n",
       "  '2411665__zebra__0.99998856.jpg': 1,\n",
       "  '2409550__street_sign__0.99999905.jpg': 6,\n",
       "  '2396153__brown_bear__0.9999938.jpg': 9,\n",
       "  '2391701__zebra__0.9999912.jpg': 1,\n",
       "  '2413521__parking_meter__0.99999976.jpg': 0,\n",
       "  '2415648__broccoli__0.9999943.jpg': 4,\n",
       "  '2401224__zebra__0.9999882.jpg': 1,\n",
       "  '2378358__park_bench__0.99999833.jpg': 11,\n",
       "  '2415567__zebra__0.9999902.jpg': 1,\n",
       "  '2409765__zebra__0.99999833.jpg': 1,\n",
       "  '2394019__zebra__0.99999285.jpg': 1,\n",
       "  '4673__triumphal_arch__0.9999893.jpg': -1,\n",
       "  '2409063__zebra__0.999997.jpg': 1,\n",
       "  '2391408__traffic_light__0.99999654.jpg': 3,\n",
       "  '2402056__toilet_seat__0.99999917.jpg': 12,\n",
       "  '2387038__street_sign__0.9999888.jpg': 6,\n",
       "  '2413227__park_bench__0.99998546.jpg': 11,\n",
       "  '2412939__forklift__0.9999883.jpg': -1,\n",
       "  '2411097__zebra__0.9999974.jpg': 1,\n",
       "  '2408719__ski__0.99999297.jpg': 2,\n",
       "  '2380925__zebra__0.9999987.jpg': 1,\n",
       "  '2392124__zebra__0.99999523.jpg': 1,\n",
       "  '2417938__banana__0.9999944.jpg': -1,\n",
       "  '2393774__zebra__0.9999995.jpg': 1,\n",
       "  '2400622__zebra__0.9999901.jpg': 1,\n",
       "  '2409589__zebra__0.99999976.jpg': 1,\n",
       "  '2416408__zebra__0.9999962.jpg': 1,\n",
       "  '2385187__street_sign__0.99999595.jpg': 6,\n",
       "  '2399217__umbrella__0.9999863.jpg': 8,\n",
       "  '2405042__parking_meter__0.99999094.jpg': 0,\n",
       "  '2382436__park_bench__0.99999964.jpg': 11,\n",
       "  '2414513__bagel__0.9999893.jpg': -1,\n",
       "  '4099__pool_table__0.9999945.jpg': 13,\n",
       "  '2411407__zebra__0.9999969.jpg': 1,\n",
       "  '2401906__parking_meter__1.0.jpg': 0,\n",
       "  '576__gondola__0.9999993.jpg': 14,\n",
       "  '2380905__gondola__0.9999888.jpg': 14,\n",
       "  '2410081__parking_meter__1.0.jpg': 0,\n",
       "  '2414760__zebra__0.9999895.jpg': 1,\n",
       "  '2403338__seat_belt__0.99999917.jpg': -1,\n",
       "  '2402132__traffic_light__0.9999951.jpg': 3,\n",
       "  '2392730__pizza__0.9999974.jpg': 5,\n",
       "  '2409266__zebra__0.99999774.jpg': 1,\n",
       "  '2388441__banana__0.9999993.jpg': 7,\n",
       "  '2402745__bullet_train__0.99999857.jpg': 10,\n",
       "  '2411390__parking_meter__0.9999988.jpg': -1,\n",
       "  '2411841__zebra__0.99999833.jpg': 1,\n",
       "  '2378523__banana__0.99999785.jpg': 7,\n",
       "  '2383706__umbrella__0.9999994.jpg': 8,\n",
       "  '2417055__broccoli__0.9999864.jpg': 4,\n",
       "  '2404051__street_sign__0.9999999.jpg': 6,\n",
       "  '2389131__pizza__0.9999943.jpg': 5,\n",
       "  '2401921__zebra__0.99999845.jpg': 1,\n",
       "  '2411784__traffic_light__0.9999945.jpg': 3,\n",
       "  '2392818__park_bench__0.99999.jpg': 11,\n",
       "  '2410974__toilet_seat__0.9999939.jpg': 12,\n",
       "  '2395510__traffic_light__0.9999993.jpg': 3,\n",
       "  '2387437__parking_meter__0.9999839.jpg': 0,\n",
       "  '2382909__zebra__0.9999988.jpg': 1,\n",
       "  '2379086__zebra__0.9999975.jpg': 1,\n",
       "  '2384755__street_sign__0.9999924.jpg': 6,\n",
       "  '2377620__zebra__0.9999882.jpg': 1,\n",
       "  '2401691__pineapple__0.999998.jpg': -1,\n",
       "  '2408970__zebra__0.9999865.jpg': 1,\n",
       "  '2409953__brown_bear__0.99998903.jpg': 9,\n",
       "  '577__gondola__0.9999962.jpg': 14,\n",
       "  '2413024__banana__1.0.jpg': 7,\n",
       "  '2405041__broccoli__0.99999845.jpg': 4,\n",
       "  '2386068__zebra__0.9999949.jpg': 1,\n",
       "  '2413786__parking_meter__0.9999925.jpg': 0,\n",
       "  '2411646__banana__0.99999595.jpg': 7,\n",
       "  '2382792__umbrella__0.9999838.jpg': 8,\n",
       "  '2386750__pizza__0.9999889.jpg': 5,\n",
       "  '2392619__zebra__0.9999875.jpg': 1,\n",
       "  '2385767__zebra__0.9999958.jpg': 1,\n",
       "  '2389324__zebra__0.9999993.jpg': 1,\n",
       "  '2412402__zebra__0.9999877.jpg': 1,\n",
       "  '2385039__zebra__0.9999844.jpg': 1,\n",
       "  '2410440__parking_meter__0.99999106.jpg': 0,\n",
       "  '2398975__umbrella__0.9999958.jpg': 8,\n",
       "  '2411645__parking_meter__0.999985.jpg': 0,\n",
       "  '2392349__umbrella__0.9999994.jpg': 8,\n",
       "  '1222__pool_table__0.9999995.jpg': 13,\n",
       "  '2386456__zebra__0.9999989.jpg': 1,\n",
       "  '2405210__pizza__0.9999869.jpg': 5,\n",
       "  '2383286__zebra__0.99999857.jpg': 1,\n",
       "  '2380865__traffic_light__0.99999714.jpg': 3,\n",
       "  '2409472__umbrella__0.9999845.jpg': 8,\n",
       "  '2416516__zebra__0.99999714.jpg': 1,\n",
       "  '2392324__traffic_light__0.9999964.jpg': 3,\n",
       "  '2402950__zebra__0.99999344.jpg': 1,\n",
       "  '2417586__zebra__0.99999535.jpg': 1},\n",
       " 1: {'2412027__school_bus__0.99998724.jpg': -1,\n",
       "  '2387034__zebra__0.9999896.jpg': 0,\n",
       "  '2382183__pizza__0.99998593.jpg': 1,\n",
       "  '2386068__zebra__0.9999949.jpg': 0,\n",
       "  '2410974__toilet_seat__0.9999939.jpg': 2,\n",
       "  '2382589__zebra__0.9999982.jpg': 0,\n",
       "  '2381932__traffic_light__0.99999964.jpg': 3,\n",
       "  '2380905__gondola__0.9999888.jpg': 4,\n",
       "  '2412402__zebra__0.9999877.jpg': 0,\n",
       "  '2413786__parking_meter__0.9999925.jpg': 5,\n",
       "  '2382913__zebra__0.9999883.jpg': 0,\n",
       "  '2399675__zebra__0.9999883.jpg': 0,\n",
       "  '576__gondola__0.9999993.jpg': 4,\n",
       "  '2411665__zebra__0.99998856.jpg': 0,\n",
       "  '2409063__zebra__0.999997.jpg': 0,\n",
       "  '1222__pool_table__0.9999995.jpg': 6,\n",
       "  '1328__coil__0.99999607.jpg': -1,\n",
       "  '2405041__broccoli__0.99999845.jpg': 7,\n",
       "  '2386193__broccoli__0.9999924.jpg': 7,\n",
       "  '2403403__banana__0.9999926.jpg': 8,\n",
       "  '2401906__parking_meter__1.0.jpg': 5,\n",
       "  '2377471__pizza__0.9999988.jpg': 1,\n",
       "  '2384755__street_sign__0.9999924.jpg': 9,\n",
       "  '2410779__parking_meter__0.99999917.jpg': -1,\n",
       "  '2391862__broccoli__0.99999714.jpg': 7,\n",
       "  '2385298__parking_meter__0.9999865.jpg': -1,\n",
       "  '2411097__zebra__0.9999974.jpg': 0,\n",
       "  '2417055__broccoli__0.9999864.jpg': 7,\n",
       "  '2403741__zebra__0.99999523.jpg': 0,\n",
       "  '2414513__bagel__0.9999893.jpg': -1,\n",
       "  '2411196__crane__0.9999995.jpg': -1,\n",
       "  '577__gondola__0.9999962.jpg': 4,\n",
       "  '2405905__traffic_light__0.99999535.jpg': 3,\n",
       "  '2386456__zebra__0.9999989.jpg': 0,\n",
       "  '2405280__zebra__0.9999938.jpg': 0,\n",
       "  '2415648__broccoli__0.9999943.jpg': 7,\n",
       "  '2385187__street_sign__0.99999595.jpg': 9,\n",
       "  '2385039__zebra__0.9999844.jpg': 0,\n",
       "  '2395716__pizza__0.9999968.jpg': 1,\n",
       "  '2402056__toilet_seat__0.99999917.jpg': 2,\n",
       "  '2416408__zebra__0.9999962.jpg': 0,\n",
       "  '2414996__park_bench__0.9999907.jpg': -1,\n",
       "  '2417395__zebra__0.9999993.jpg': 0,\n",
       "  '2379489__parking_meter__0.9999989.jpg': 5,\n",
       "  '2409822__steam_locomotive__0.9999906.jpg': 10,\n",
       "  '2385034__zebra__0.9999981.jpg': 0,\n",
       "  '4339__manhole_cover__0.99999416.jpg': -1,\n",
       "  '2413521__parking_meter__0.99999976.jpg': 5,\n",
       "  '2404127__zebra__0.9999933.jpg': 0,\n",
       "  '2387305__traffic_light__1.0.jpg': -1,\n",
       "  '2392124__zebra__0.99999523.jpg': 0,\n",
       "  '2395787__pizza__0.99999535.jpg': 1,\n",
       "  '2417382__zebra__0.9999864.jpg': 0,\n",
       "  '2392730__pizza__0.9999974.jpg': 1,\n",
       "  '2415567__zebra__0.9999902.jpg': 0,\n",
       "  '2387038__street_sign__0.9999888.jpg': 9,\n",
       "  '2401217__traffic_light__0.9999895.jpg': 3,\n",
       "  '2412267__zebra__0.9999939.jpg': 0,\n",
       "  '2405210__pizza__0.9999869.jpg': 1,\n",
       "  '2400622__zebra__0.9999901.jpg': 0,\n",
       "  '2395038__zebra__0.9999976.jpg': 0,\n",
       "  '2404051__street_sign__0.9999999.jpg': 9,\n",
       "  '2391964__flamingo__1.0.jpg': -1,\n",
       "  '2382909__zebra__0.9999988.jpg': 0,\n",
       "  '2413495__traffic_light__0.9999925.jpg': 3,\n",
       "  '2380189__zebra__0.9999993.jpg': 0,\n",
       "  '2380017__zebra__0.9999995.jpg': 0,\n",
       "  '2411646__banana__0.99999595.jpg': 8,\n",
       "  '2403338__seat_belt__0.99999917.jpg': -1,\n",
       "  '2380925__zebra__0.9999987.jpg': 0,\n",
       "  '2415102__zebra__0.9999876.jpg': 0,\n",
       "  '2407788__pizza__0.99999785.jpg': 1,\n",
       "  '2404229__zebra__0.99998367.jpg': 0,\n",
       "  '2414892__pizza__0.99999857.jpg': 1,\n",
       "  '2410410__ski__0.99999356.jpg': 11,\n",
       "  '2381968__ski__0.999984.jpg': 11,\n",
       "  '2380019__zebra__0.9999926.jpg': 0,\n",
       "  '2409637__four-poster__0.99999464.jpg': -1,\n",
       "  '134__zebra__0.9999949.jpg': 0,\n",
       "  '4673__triumphal_arch__0.9999893.jpg': -1,\n",
       "  '2416516__zebra__0.99999714.jpg': 0,\n",
       "  '2382474__bow_tie__0.9999982.jpg': 12,\n",
       "  '2398975__umbrella__0.9999958.jpg': 13,\n",
       "  '2381879__zebra__0.99999523.jpg': 0,\n",
       "  '2388441__banana__0.9999993.jpg': 8,\n",
       "  '2407130__umbrella__0.9999888.jpg': -1,\n",
       "  '2399217__umbrella__0.9999863.jpg': 13,\n",
       "  '4099__pool_table__0.9999945.jpg': 6,\n",
       "  '2398771__traffic_light__0.99999.jpg': 3,\n",
       "  '2411645__parking_meter__0.999985.jpg': -1,\n",
       "  '2410440__parking_meter__0.99999106.jpg': -1,\n",
       "  '2400121__pizza__0.9999962.jpg': 1,\n",
       "  '2383286__zebra__0.99999857.jpg': 0,\n",
       "  '2409550__street_sign__0.99999905.jpg': 9,\n",
       "  '2411407__zebra__0.9999969.jpg': 0,\n",
       "  '2383569__parking_meter__0.9999988.jpg': 5,\n",
       "  '2411841__zebra__0.99999833.jpg': 0,\n",
       "  '2380447__bullet_train__0.9999869.jpg': 14,\n",
       "  '2412908__zebra__0.99998975.jpg': 0,\n",
       "  '2392405__parking_meter__0.9999993.jpg': 5,\n",
       "  '2396034__remote_control__0.9999856.jpg': -1,\n",
       "  '2398585__bow_tie__0.9999838.jpg': 12,\n",
       "  '2386750__pizza__0.9999889.jpg': 1,\n",
       "  '2383706__umbrella__0.9999994.jpg': 13,\n",
       "  '2382436__park_bench__0.99999964.jpg': 15,\n",
       "  '2409266__zebra__0.99999774.jpg': 0,\n",
       "  '2384145__street_sign__0.9999987.jpg': 9,\n",
       "  '2404583__umbrella__0.99999297.jpg': 13,\n",
       "  '2409472__umbrella__0.9999845.jpg': 13,\n",
       "  '2411372__parking_meter__0.999995.jpg': 5,\n",
       "  '2381941__zebra__0.9999914.jpg': 0,\n",
       "  '2402745__bullet_train__0.99999857.jpg': 14,\n",
       "  '2408592__goose__0.999998.jpg': -1,\n",
       "  '2407951__zebra__0.9999975.jpg': 0,\n",
       "  '2391701__zebra__0.9999912.jpg': 0,\n",
       "  '2385461__zebra__0.99998415.jpg': 0,\n",
       "  '2378523__banana__0.99999785.jpg': 8,\n",
       "  '2406581__zebra__0.9999939.jpg': 0,\n",
       "  '2377620__zebra__0.9999882.jpg': 0,\n",
       "  '2409953__brown_bear__0.99998903.jpg': -1,\n",
       "  '2381648__zebra__0.9999995.jpg': 0,\n",
       "  '2417421__parking_meter__0.9999999.jpg': 5,\n",
       "  '2402132__traffic_light__0.9999951.jpg': 3,\n",
       "  '2410081__parking_meter__1.0.jpg': 5,\n",
       "  '2402950__zebra__0.99999344.jpg': 0,\n",
       "  '2413024__banana__1.0.jpg': 8,\n",
       "  '2394019__zebra__0.99999285.jpg': 0,\n",
       "  '2404281__zebra__0.999998.jpg': 0,\n",
       "  '2392619__zebra__0.9999875.jpg': 0,\n",
       "  '2410903__steam_locomotive__0.9999876.jpg': 10,\n",
       "  '2378358__park_bench__0.99999833.jpg': 15,\n",
       "  '2413227__park_bench__0.99998546.jpg': 15,\n",
       "  '2401691__pineapple__0.999998.jpg': -1,\n",
       "  '2409765__zebra__0.99999833.jpg': 0,\n",
       "  '2397486__zebra__0.9999875.jpg': 0,\n",
       "  '2384512__zebra__0.99999726.jpg': 0,\n",
       "  '2395510__traffic_light__0.9999993.jpg': 3,\n",
       "  '2408970__zebra__0.9999865.jpg': 0,\n",
       "  '2417881__zebra__0.9999945.jpg': 0,\n",
       "  '4534__viaduct__0.9999877.jpg': -1,\n",
       "  '2408884__zebra__0.9999913.jpg': 0,\n",
       "  '2394082__street_sign__0.99999905.jpg': 9,\n",
       "  '2389131__pizza__0.9999943.jpg': 1,\n",
       "  '2401383__slug__0.9999933.jpg': -1,\n",
       "  '2410336__zebra__0.99999547.jpg': 0,\n",
       "  '2385767__zebra__0.9999958.jpg': 0,\n",
       "  '4573__barrel__0.9999974.jpg': -1,\n",
       "  '2414335__refrigerator__0.9999889.jpg': -1,\n",
       "  '2415910__zebra__0.9999962.jpg': 0,\n",
       "  '2402264__zebra__0.9999931.jpg': 0,\n",
       "  '2416627__zebra__0.9999987.jpg': 0,\n",
       "  '2406887__ski__0.99999785.jpg': 11,\n",
       "  '2401921__zebra__0.99999845.jpg': 0,\n",
       "  '2401224__zebra__0.9999882.jpg': 0,\n",
       "  '2417586__zebra__0.99999535.jpg': 0,\n",
       "  '2392324__traffic_light__0.9999964.jpg': 3,\n",
       "  '2414760__zebra__0.9999895.jpg': 0},\n",
       " 2: {'2417881__zebra__0.9999945.jpg': 0,\n",
       "  '2414384__ski__0.9999949.jpg': 1,\n",
       "  '2380017__zebra__0.9999995.jpg': 0,\n",
       "  '2402056__toilet_seat__0.99999917.jpg': 2,\n",
       "  '2409765__zebra__0.99999833.jpg': 0,\n",
       "  '2387437__parking_meter__0.9999839.jpg': 3,\n",
       "  '2415102__zebra__0.9999876.jpg': 0,\n",
       "  '2380865__traffic_light__0.99999714.jpg': 4,\n",
       "  '2384145__street_sign__0.9999987.jpg': 5,\n",
       "  '2417938__banana__0.9999944.jpg': -1,\n",
       "  '2416516__zebra__0.99999714.jpg': 0,\n",
       "  '2382909__zebra__0.9999988.jpg': 0,\n",
       "  '2382436__park_bench__0.99999964.jpg': 6,\n",
       "  '2411646__banana__0.99999595.jpg': 7,\n",
       "  '2402132__traffic_light__0.9999951.jpg': 4,\n",
       "  '2387305__traffic_light__1.0.jpg': -1,\n",
       "  '1328__coil__0.99999607.jpg': -1,\n",
       "  '2411372__parking_meter__0.999995.jpg': 3,\n",
       "  '2396153__brown_bear__0.9999938.jpg': 8,\n",
       "  '2385187__street_sign__0.99999595.jpg': 5,\n",
       "  '2406209__brown_bear__0.999985.jpg': 8,\n",
       "  '2397486__zebra__0.9999875.jpg': 0,\n",
       "  '2392619__zebra__0.9999875.jpg': 0,\n",
       "  '2396034__remote_control__0.9999856.jpg': -1,\n",
       "  '2404229__zebra__0.99998367.jpg': 0,\n",
       "  '2395038__zebra__0.9999976.jpg': 0,\n",
       "  '2400121__pizza__0.9999962.jpg': 9,\n",
       "  '2403199__zebra__0.9999869.jpg': 0,\n",
       "  '2392405__parking_meter__0.9999993.jpg': 3,\n",
       "  '2385034__zebra__0.9999981.jpg': 0,\n",
       "  '2380189__zebra__0.9999993.jpg': 0,\n",
       "  '2413495__traffic_light__0.9999925.jpg': 4,\n",
       "  '2414277__zebra__0.9999908.jpg': 0,\n",
       "  '2378523__banana__0.99999785.jpg': 7,\n",
       "  '2408884__zebra__0.9999913.jpg': 0,\n",
       "  '2409589__zebra__0.99999976.jpg': 0,\n",
       "  '2417055__broccoli__0.9999864.jpg': 10,\n",
       "  '2415737__parking_meter__0.99999785.jpg': 3,\n",
       "  '2402950__zebra__0.99999344.jpg': 0,\n",
       "  '2377471__pizza__0.9999988.jpg': 9,\n",
       "  '2413227__park_bench__0.99998546.jpg': 6,\n",
       "  '2412267__zebra__0.9999939.jpg': 0,\n",
       "  '2410903__steam_locomotive__0.9999876.jpg': 11,\n",
       "  '2414892__pizza__0.99999857.jpg': 9,\n",
       "  '2417586__zebra__0.99999535.jpg': 0,\n",
       "  '1222__pool_table__0.9999995.jpg': -1,\n",
       "  '2411645__parking_meter__0.999985.jpg': 3,\n",
       "  '2391918__steam_locomotive__0.99999845.jpg': 11,\n",
       "  '2406887__ski__0.99999785.jpg': 1,\n",
       "  '2414996__park_bench__0.9999907.jpg': -1,\n",
       "  '2403338__seat_belt__0.99999917.jpg': -1,\n",
       "  '2378358__park_bench__0.99999833.jpg': 6,\n",
       "  '2416228__parking_meter__0.9999914.jpg': 3,\n",
       "  '4573__barrel__0.9999974.jpg': -1,\n",
       "  '2377698__zebra__0.9999999.jpg': 0,\n",
       "  '2398975__umbrella__0.9999958.jpg': 12,\n",
       "  '2386068__zebra__0.9999949.jpg': 0,\n",
       "  '2406857__zebra__0.9999894.jpg': 0,\n",
       "  '2409953__brown_bear__0.99998903.jpg': 8,\n",
       "  '2389131__pizza__0.9999943.jpg': 9,\n",
       "  '2392579__zebra__0.9999969.jpg': 0,\n",
       "  '2409637__four-poster__0.99999464.jpg': -1,\n",
       "  '2379489__parking_meter__0.9999989.jpg': 3,\n",
       "  '2380669__parking_meter__0.9999993.jpg': 3,\n",
       "  '2382589__zebra__0.9999982.jpg': 0,\n",
       "  '2391701__zebra__0.9999912.jpg': 0,\n",
       "  '2405479__traffic_light__0.9999939.jpg': 4,\n",
       "  '2413786__parking_meter__0.9999925.jpg': 3,\n",
       "  '2405905__traffic_light__0.99999535.jpg': 4,\n",
       "  '2380447__bullet_train__0.9999869.jpg': -1,\n",
       "  '2386750__pizza__0.9999889.jpg': 9,\n",
       "  '4673__triumphal_arch__0.9999893.jpg': -1,\n",
       "  '2412908__zebra__0.99998975.jpg': 0,\n",
       "  '2387038__street_sign__0.9999888.jpg': 5,\n",
       "  '2392124__zebra__0.99999523.jpg': 0,\n",
       "  '2411665__zebra__0.99998856.jpg': 0,\n",
       "  '2382913__zebra__0.9999883.jpg': 0,\n",
       "  '2404281__zebra__0.999998.jpg': 0,\n",
       "  '2409266__zebra__0.99999774.jpg': 0,\n",
       "  '2383706__umbrella__0.9999994.jpg': 12,\n",
       "  '576__gondola__0.9999993.jpg': 13,\n",
       "  '2386049__king_penguin__0.99999917.jpg': -1,\n",
       "  '2411784__traffic_light__0.9999945.jpg': 4,\n",
       "  '2394019__zebra__0.99999285.jpg': 0,\n",
       "  '2412027__school_bus__0.99998724.jpg': -1,\n",
       "  '2408719__ski__0.99999297.jpg': 1,\n",
       "  '2407130__umbrella__0.9999888.jpg': -1,\n",
       "  '2395510__traffic_light__0.9999993.jpg': 4,\n",
       "  '2379086__zebra__0.9999975.jpg': 0,\n",
       "  '2417382__zebra__0.9999864.jpg': 0,\n",
       "  '2382474__bow_tie__0.9999982.jpg': 14,\n",
       "  '2385461__zebra__0.99998415.jpg': 0,\n",
       "  '2405280__zebra__0.9999938.jpg': 0,\n",
       "  '2398585__bow_tie__0.9999838.jpg': 14,\n",
       "  '2393774__zebra__0.9999995.jpg': 0,\n",
       "  '577__gondola__0.9999962.jpg': 13,\n",
       "  '2381932__traffic_light__0.99999964.jpg': 4,\n",
       "  '2387034__zebra__0.9999896.jpg': 0,\n",
       "  '2401921__zebra__0.99999845.jpg': 0,\n",
       "  '2415910__zebra__0.9999962.jpg': 0,\n",
       "  '2388889__hotdog__0.99999714.jpg': -1,\n",
       "  '2410410__ski__0.99999356.jpg': 1,\n",
       "  '2391862__broccoli__0.99999714.jpg': 10,\n",
       "  '2409472__umbrella__0.9999845.jpg': 12,\n",
       "  '2416627__zebra__0.9999987.jpg': 0,\n",
       "  '2415567__zebra__0.9999902.jpg': 0,\n",
       "  '2404583__umbrella__0.99999297.jpg': 12,\n",
       "  '2384512__zebra__0.99999726.jpg': 0,\n",
       "  '2404051__street_sign__0.9999999.jpg': 5,\n",
       "  '2381968__ski__0.999984.jpg': 1,\n",
       "  '2377620__zebra__0.9999882.jpg': 0,\n",
       "  '2413024__banana__1.0.jpg': 7,\n",
       "  '2394082__street_sign__0.99999905.jpg': 5,\n",
       "  '2415402__zebra__0.99998903.jpg': 0,\n",
       "  '2409822__steam_locomotive__0.9999906.jpg': 11,\n",
       "  '2392730__pizza__0.9999974.jpg': 9,\n",
       "  '2380319__broccoli__0.9999957.jpg': -1,\n",
       "  '2381941__zebra__0.9999914.jpg': 0,\n",
       "  '2388441__banana__0.9999993.jpg': 7,\n",
       "  '2381879__zebra__0.99999523.jpg': 0,\n",
       "  '2415648__broccoli__0.9999943.jpg': 10,\n",
       "  '2404955__banana__0.9999995.jpg': 7,\n",
       "  '2398771__traffic_light__0.99999.jpg': 4,\n",
       "  '2411390__parking_meter__0.9999988.jpg': -1,\n",
       "  '2410974__toilet_seat__0.9999939.jpg': 2,\n",
       "  '2380925__zebra__0.9999987.jpg': 0,\n",
       "  '2405042__parking_meter__0.99999094.jpg': 3,\n",
       "  '2395716__pizza__0.9999968.jpg': 9,\n",
       "  '2411841__zebra__0.99999833.jpg': 0,\n",
       "  '4339__manhole_cover__0.99999416.jpg': -1,\n",
       "  '2385298__parking_meter__0.9999865.jpg': -1,\n",
       "  '2386193__broccoli__0.9999924.jpg': 10,\n",
       "  '2406581__zebra__0.9999939.jpg': 0,\n",
       "  '2413521__parking_meter__0.99999976.jpg': 3,\n",
       "  '2410081__parking_meter__1.0.jpg': 3,\n",
       "  '2403403__banana__0.9999926.jpg': 7,\n",
       "  '2385039__zebra__0.9999844.jpg': 0,\n",
       "  '2417421__parking_meter__0.9999999.jpg': 3,\n",
       "  '2416408__zebra__0.9999962.jpg': 0,\n",
       "  '134__zebra__0.9999949.jpg': 0,\n",
       "  '2401217__traffic_light__0.9999895.jpg': 4,\n",
       "  '2410779__parking_meter__0.99999917.jpg': -1,\n",
       "  '2403741__zebra__0.99999523.jpg': 0,\n",
       "  '2408592__goose__0.999998.jpg': -1,\n",
       "  '2410440__parking_meter__0.99999106.jpg': 3,\n",
       "  '2405210__pizza__0.9999869.jpg': 9,\n",
       "  '2408701__zebra__0.9999981.jpg': 0,\n",
       "  '2412939__forklift__0.9999883.jpg': -1,\n",
       "  '2380019__zebra__0.9999926.jpg': 0,\n",
       "  '2392818__park_bench__0.99999.jpg': 6,\n",
       "  '2381648__zebra__0.9999995.jpg': 0,\n",
       "  '2385767__zebra__0.9999958.jpg': 0,\n",
       "  '2411196__crane__0.9999995.jpg': -1,\n",
       "  '2390296__umbrella__0.99999106.jpg': 12,\n",
       "  '2400622__zebra__0.9999901.jpg': 0,\n",
       "  '2402264__zebra__0.9999931.jpg': 0,\n",
       "  '4534__viaduct__0.9999877.jpg': -1},\n",
       " 3: {'2410410__ski__0.99999356.jpg': 0,\n",
       "  '2394019__zebra__0.99999285.jpg': 1,\n",
       "  '2417055__broccoli__0.9999864.jpg': 2,\n",
       "  '2392579__zebra__0.9999969.jpg': 1,\n",
       "  '2417881__zebra__0.9999945.jpg': 1,\n",
       "  '2389324__zebra__0.9999993.jpg': 1,\n",
       "  '2409266__zebra__0.99999774.jpg': 1,\n",
       "  '4099__pool_table__0.9999945.jpg': 3,\n",
       "  '2415402__zebra__0.99998903.jpg': 1,\n",
       "  '2386068__zebra__0.9999949.jpg': 1,\n",
       "  '2410440__parking_meter__0.99999106.jpg': 4,\n",
       "  '2385039__zebra__0.9999844.jpg': 1,\n",
       "  '2382909__zebra__0.9999988.jpg': 1,\n",
       "  '2413024__banana__1.0.jpg': -1,\n",
       "  '2396153__brown_bear__0.9999938.jpg': 5,\n",
       "  '2380925__zebra__0.9999987.jpg': 1,\n",
       "  '2383569__parking_meter__0.9999988.jpg': 4,\n",
       "  '2392349__umbrella__0.9999994.jpg': 6,\n",
       "  '2407788__pizza__0.99999785.jpg': 7,\n",
       "  '2381932__traffic_light__0.99999964.jpg': 8,\n",
       "  '2408884__zebra__0.9999913.jpg': 1,\n",
       "  '2413495__traffic_light__0.9999925.jpg': 8,\n",
       "  '2384145__street_sign__0.9999987.jpg': 9,\n",
       "  '4573__barrel__0.9999974.jpg': -1,\n",
       "  '2391408__traffic_light__0.99999654.jpg': 8,\n",
       "  '2414277__zebra__0.9999908.jpg': 1,\n",
       "  '2411097__zebra__0.9999974.jpg': 1,\n",
       "  '2392405__parking_meter__0.9999993.jpg': 4,\n",
       "  '2385187__street_sign__0.99999595.jpg': 9,\n",
       "  '2406209__brown_bear__0.999985.jpg': 5,\n",
       "  '2415648__broccoli__0.9999943.jpg': 2,\n",
       "  '2398585__bow_tie__0.9999838.jpg': -1,\n",
       "  '2380017__zebra__0.9999995.jpg': 1,\n",
       "  '2401921__zebra__0.99999845.jpg': 1,\n",
       "  '2406581__zebra__0.9999939.jpg': 1,\n",
       "  '2386750__pizza__0.9999889.jpg': 7,\n",
       "  '2395716__pizza__0.9999968.jpg': 7,\n",
       "  '2382589__zebra__0.9999982.jpg': 1,\n",
       "  '2377698__zebra__0.9999999.jpg': 1,\n",
       "  '2400121__pizza__0.9999962.jpg': 7,\n",
       "  '2414335__refrigerator__0.9999889.jpg': -1,\n",
       "  '2385298__parking_meter__0.9999865.jpg': -1,\n",
       "  '2408592__goose__0.999998.jpg': -1,\n",
       "  '2401383__slug__0.9999933.jpg': -1,\n",
       "  '2414513__bagel__0.9999893.jpg': -1,\n",
       "  '2414996__park_bench__0.9999907.jpg': -1,\n",
       "  '2404281__zebra__0.999998.jpg': 1,\n",
       "  '2415910__zebra__0.9999962.jpg': 1,\n",
       "  '2417938__banana__0.9999944.jpg': -1,\n",
       "  '2383706__umbrella__0.9999994.jpg': 6,\n",
       "  '2406857__zebra__0.9999894.jpg': 1,\n",
       "  '2380447__bullet_train__0.9999869.jpg': -1,\n",
       "  '4339__manhole_cover__0.99999416.jpg': -1,\n",
       "  '2400622__zebra__0.9999901.jpg': 1,\n",
       "  '2390296__umbrella__0.99999106.jpg': 6,\n",
       "  '2414760__zebra__0.9999895.jpg': 1,\n",
       "  '2404583__umbrella__0.99999297.jpg': 6,\n",
       "  '2417421__parking_meter__0.9999999.jpg': 4,\n",
       "  '2417395__zebra__0.9999993.jpg': 1,\n",
       "  '2415567__zebra__0.9999902.jpg': 1,\n",
       "  '2401224__zebra__0.9999882.jpg': 1,\n",
       "  '2410336__zebra__0.99999547.jpg': 1,\n",
       "  '2410779__parking_meter__0.99999917.jpg': -1,\n",
       "  '2389131__pizza__0.9999943.jpg': 7,\n",
       "  '2380669__parking_meter__0.9999993.jpg': 4,\n",
       "  '2380865__traffic_light__0.99999714.jpg': 8,\n",
       "  '2414892__pizza__0.99999857.jpg': 7,\n",
       "  '2411407__zebra__0.9999969.jpg': 1,\n",
       "  '2411646__banana__0.99999595.jpg': 10,\n",
       "  '2398771__traffic_light__0.99999.jpg': 8,\n",
       "  '2413521__parking_meter__0.99999976.jpg': 4,\n",
       "  '2386193__broccoli__0.9999924.jpg': 2,\n",
       "  '2395787__pizza__0.99999535.jpg': 7,\n",
       "  '2412027__school_bus__0.99998724.jpg': -1,\n",
       "  '2381879__zebra__0.99999523.jpg': 1,\n",
       "  '2417382__zebra__0.9999864.jpg': 1,\n",
       "  '2403741__zebra__0.99999523.jpg': 1,\n",
       "  '2382436__park_bench__0.99999964.jpg': 11,\n",
       "  '2409637__four-poster__0.99999464.jpg': -1,\n",
       "  '2377620__zebra__0.9999882.jpg': 1,\n",
       "  '2409550__street_sign__0.99999905.jpg': 9,\n",
       "  '2398975__umbrella__0.9999958.jpg': 6,\n",
       "  '4534__viaduct__0.9999877.jpg': -1,\n",
       "  '2415737__parking_meter__0.99999785.jpg': 4,\n",
       "  '2401217__traffic_light__0.9999895.jpg': 8,\n",
       "  '2409589__zebra__0.99999976.jpg': 1,\n",
       "  '134__zebra__0.9999949.jpg': 1,\n",
       "  '2405280__zebra__0.9999938.jpg': 1,\n",
       "  '2377471__pizza__0.9999988.jpg': 7,\n",
       "  '2395510__traffic_light__0.9999993.jpg': 8,\n",
       "  '2391918__steam_locomotive__0.99999845.jpg': 12,\n",
       "  '2399675__zebra__0.9999883.jpg': 1,\n",
       "  '2409063__zebra__0.999997.jpg': 1,\n",
       "  '4673__triumphal_arch__0.9999893.jpg': -1,\n",
       "  '2395038__zebra__0.9999976.jpg': 1,\n",
       "  '2416516__zebra__0.99999714.jpg': 1,\n",
       "  '2387305__traffic_light__1.0.jpg': 8,\n",
       "  '2385034__zebra__0.9999981.jpg': 1,\n",
       "  '2411372__parking_meter__0.999995.jpg': 4,\n",
       "  '2405210__pizza__0.9999869.jpg': 7,\n",
       "  '2385461__zebra__0.99998415.jpg': 1,\n",
       "  '2411196__crane__0.9999995.jpg': -1,\n",
       "  '2412939__forklift__0.9999883.jpg': -1,\n",
       "  '577__gondola__0.9999962.jpg': 13,\n",
       "  '2404051__street_sign__0.9999999.jpg': 9,\n",
       "  '2401691__pineapple__0.999998.jpg': -1,\n",
       "  '2412908__zebra__0.99998975.jpg': 1,\n",
       "  '2399217__umbrella__0.9999863.jpg': 6,\n",
       "  '2405041__broccoli__0.99999845.jpg': 2,\n",
       "  '2412402__zebra__0.9999877.jpg': 1,\n",
       "  '2410903__steam_locomotive__0.9999876.jpg': 12,\n",
       "  '2402950__zebra__0.99999344.jpg': 1,\n",
       "  '2393774__zebra__0.9999995.jpg': 1,\n",
       "  '2413786__parking_meter__0.9999925.jpg': 4,\n",
       "  '2384755__street_sign__0.9999924.jpg': 9,\n",
       "  '2412267__zebra__0.9999939.jpg': 1,\n",
       "  '2382913__zebra__0.9999883.jpg': 1,\n",
       "  '2379086__zebra__0.9999975.jpg': 1,\n",
       "  '2405905__traffic_light__0.99999535.jpg': 8,\n",
       "  '2378358__park_bench__0.99999833.jpg': 11,\n",
       "  '2409953__brown_bear__0.99998903.jpg': 5,\n",
       "  '2391862__broccoli__0.99999714.jpg': 2,\n",
       "  '2388441__banana__0.9999993.jpg': 10,\n",
       "  '576__gondola__0.9999993.jpg': 13,\n",
       "  '2411390__parking_meter__0.9999988.jpg': -1,\n",
       "  '2387034__zebra__0.9999896.jpg': 1,\n",
       "  '2381941__zebra__0.9999914.jpg': 1,\n",
       "  '2384512__zebra__0.99999726.jpg': 1,\n",
       "  '2405479__traffic_light__0.9999939.jpg': 8,\n",
       "  '2392124__zebra__0.99999523.jpg': 1,\n",
       "  '2392619__zebra__0.9999875.jpg': 1,\n",
       "  '2380019__zebra__0.9999926.jpg': 1,\n",
       "  '2410974__toilet_seat__0.9999939.jpg': 14,\n",
       "  '2411665__zebra__0.99998856.jpg': 1,\n",
       "  '2378170__zebra__0.9999902.jpg': 1,\n",
       "  '691__cheetah__0.99999213.jpg': -1,\n",
       "  '2404229__zebra__0.99998367.jpg': 1,\n",
       "  '2381648__zebra__0.9999995.jpg': 1,\n",
       "  '1222__pool_table__0.9999995.jpg': 3,\n",
       "  '2379489__parking_meter__0.9999989.jpg': 4,\n",
       "  '2380189__zebra__0.9999993.jpg': 1,\n",
       "  '2408719__ski__0.99999297.jpg': 0,\n",
       "  '2389484__street_sign__0.99998474.jpg': 9,\n",
       "  '2387437__parking_meter__0.9999839.jpg': 4,\n",
       "  '2407951__zebra__0.9999975.jpg': 1,\n",
       "  '2414384__ski__0.9999949.jpg': 0,\n",
       "  '2386456__zebra__0.9999989.jpg': 1,\n",
       "  '2410081__parking_meter__1.0.jpg': 4,\n",
       "  '2402056__toilet_seat__0.99999917.jpg': 14,\n",
       "  '2386049__king_penguin__0.99999917.jpg': -1,\n",
       "  '2394082__street_sign__0.99999905.jpg': 9,\n",
       "  '2385767__zebra__0.9999958.jpg': 1,\n",
       "  '2408970__zebra__0.9999865.jpg': 1,\n",
       "  '2381968__ski__0.999984.jpg': 0,\n",
       "  '2382183__pizza__0.99998593.jpg': 7,\n",
       "  '2387038__street_sign__0.9999888.jpg': 9,\n",
       "  '2417586__zebra__0.99999535.jpg': 1},\n",
       " 4: {'691__cheetah__0.99999213.jpg': -1,\n",
       "  '2402264__zebra__0.9999931.jpg': 0,\n",
       "  '2384755__street_sign__0.9999924.jpg': 1,\n",
       "  '2395716__pizza__0.9999968.jpg': 2,\n",
       "  '2392324__traffic_light__0.9999964.jpg': 3,\n",
       "  '2410440__parking_meter__0.99999106.jpg': 4,\n",
       "  '2392405__parking_meter__0.9999993.jpg': 4,\n",
       "  '2406857__zebra__0.9999894.jpg': 0,\n",
       "  '2399217__umbrella__0.9999863.jpg': 5,\n",
       "  '2405905__traffic_light__0.99999535.jpg': 3,\n",
       "  '2414277__zebra__0.9999908.jpg': 0,\n",
       "  '4673__triumphal_arch__0.9999893.jpg': -1,\n",
       "  '2409063__zebra__0.999997.jpg': 0,\n",
       "  '2413495__traffic_light__0.9999925.jpg': 3,\n",
       "  '2411407__zebra__0.9999969.jpg': 0,\n",
       "  '2394082__street_sign__0.99999905.jpg': 1,\n",
       "  '2411665__zebra__0.99998856.jpg': 0,\n",
       "  '2385034__zebra__0.9999981.jpg': 0,\n",
       "  '2388441__banana__0.9999993.jpg': 6,\n",
       "  '2391862__broccoli__0.99999714.jpg': 7,\n",
       "  '2413024__banana__1.0.jpg': 6,\n",
       "  '2381879__zebra__0.99999523.jpg': 0,\n",
       "  '2387437__parking_meter__0.9999839.jpg': 4,\n",
       "  '2380447__bullet_train__0.9999869.jpg': 8,\n",
       "  '2409266__zebra__0.99999774.jpg': 0,\n",
       "  '2406887__ski__0.99999785.jpg': 9,\n",
       "  '2413521__parking_meter__0.99999976.jpg': 4,\n",
       "  '2414335__refrigerator__0.9999889.jpg': -1,\n",
       "  '2406209__brown_bear__0.999985.jpg': 10,\n",
       "  '2393774__zebra__0.9999995.jpg': 0,\n",
       "  '2403199__zebra__0.9999869.jpg': 0,\n",
       "  '4573__barrel__0.9999974.jpg': -1,\n",
       "  '2381648__zebra__0.9999995.jpg': 0,\n",
       "  '2378523__banana__0.99999785.jpg': 6,\n",
       "  '2398771__traffic_light__0.99999.jpg': 3,\n",
       "  '2378170__zebra__0.9999902.jpg': 0,\n",
       "  '576__gondola__0.9999993.jpg': 11,\n",
       "  '2387038__street_sign__0.9999888.jpg': 1,\n",
       "  '2380925__zebra__0.9999987.jpg': 0,\n",
       "  '2396153__brown_bear__0.9999938.jpg': 10,\n",
       "  '2414513__bagel__0.9999893.jpg': -1,\n",
       "  '2382183__pizza__0.99998593.jpg': 2,\n",
       "  '2406581__zebra__0.9999939.jpg': 0,\n",
       "  '2396034__remote_control__0.9999856.jpg': -1,\n",
       "  '2402950__zebra__0.99999344.jpg': 0,\n",
       "  '2415102__zebra__0.9999876.jpg': 0,\n",
       "  '2386193__broccoli__0.9999924.jpg': 7,\n",
       "  '2416228__parking_meter__0.9999914.jpg': 4,\n",
       "  '2409822__steam_locomotive__0.9999906.jpg': 12,\n",
       "  '2401383__slug__0.9999933.jpg': -1,\n",
       "  '2417938__banana__0.9999944.jpg': -1,\n",
       "  '2409765__zebra__0.99999833.jpg': 0,\n",
       "  '2416408__zebra__0.9999962.jpg': 0,\n",
       "  '2392619__zebra__0.9999875.jpg': 0,\n",
       "  '2377471__pizza__0.9999988.jpg': 2,\n",
       "  '2415567__zebra__0.9999902.jpg': 0,\n",
       "  '2401921__zebra__0.99999845.jpg': 0,\n",
       "  '2382589__zebra__0.9999982.jpg': 0,\n",
       "  '2386068__zebra__0.9999949.jpg': 0,\n",
       "  '2412027__school_bus__0.99998724.jpg': -1,\n",
       "  '2417421__parking_meter__0.9999999.jpg': 4,\n",
       "  '2383569__parking_meter__0.9999988.jpg': 4,\n",
       "  '2417881__zebra__0.9999945.jpg': 0,\n",
       "  '4534__viaduct__0.9999877.jpg': -1,\n",
       "  '577__gondola__0.9999962.jpg': 11,\n",
       "  '2382436__park_bench__0.99999964.jpg': 13,\n",
       "  '2380905__gondola__0.9999888.jpg': 11,\n",
       "  '2408884__zebra__0.9999913.jpg': 0,\n",
       "  '2417382__zebra__0.9999864.jpg': 0,\n",
       "  '2407951__zebra__0.9999975.jpg': 0,\n",
       "  '2411196__crane__0.9999995.jpg': -1,\n",
       "  '2380865__traffic_light__0.99999714.jpg': 3,\n",
       "  '2404229__zebra__0.99998367.jpg': 0,\n",
       "  '1222__pool_table__0.9999995.jpg': 14,\n",
       "  '2411390__parking_meter__0.9999988.jpg': -1,\n",
       "  '2413227__park_bench__0.99998546.jpg': 13,\n",
       "  '2391408__traffic_light__0.99999654.jpg': 3,\n",
       "  '2389484__street_sign__0.99998474.jpg': 1,\n",
       "  '2379086__zebra__0.9999975.jpg': 0,\n",
       "  '2380017__zebra__0.9999995.jpg': 0,\n",
       "  '2407788__pizza__0.99999785.jpg': 2,\n",
       "  '2381968__ski__0.999984.jpg': 9,\n",
       "  '2411097__zebra__0.9999974.jpg': 0,\n",
       "  '2403338__seat_belt__0.99999917.jpg': -1,\n",
       "  '2417586__zebra__0.99999535.jpg': 0,\n",
       "  '2387305__traffic_light__1.0.jpg': 3,\n",
       "  '2409953__brown_bear__0.99998903.jpg': 10,\n",
       "  '2408970__zebra__0.9999865.jpg': 0,\n",
       "  '2382909__zebra__0.9999988.jpg': 0,\n",
       "  '2412939__forklift__0.9999883.jpg': -1,\n",
       "  '2401224__zebra__0.9999882.jpg': 0,\n",
       "  '2405041__broccoli__0.99999845.jpg': 7,\n",
       "  '2401217__traffic_light__0.9999895.jpg': 3,\n",
       "  '134__zebra__0.9999949.jpg': 0,\n",
       "  '2377620__zebra__0.9999882.jpg': 0,\n",
       "  '2411841__zebra__0.99999833.jpg': 0,\n",
       "  '2415648__broccoli__0.9999943.jpg': 7,\n",
       "  '2412908__zebra__0.99998975.jpg': 0,\n",
       "  '2414892__pizza__0.99999857.jpg': 2,\n",
       "  '1328__coil__0.99999607.jpg': -1,\n",
       "  '2394019__zebra__0.99999285.jpg': 0,\n",
       "  '2390296__umbrella__0.99999106.jpg': 5,\n",
       "  '2409637__four-poster__0.99999464.jpg': -1,\n",
       "  '2403403__banana__0.9999926.jpg': 6,\n",
       "  '2384512__zebra__0.99999726.jpg': 0,\n",
       "  '2386750__pizza__0.9999889.jpg': 2,\n",
       "  '2385461__zebra__0.99998415.jpg': 0,\n",
       "  '2401691__pineapple__0.999998.jpg': -1,\n",
       "  '2391701__zebra__0.9999912.jpg': 0,\n",
       "  '2404127__zebra__0.9999933.jpg': 0,\n",
       "  '2381941__zebra__0.9999914.jpg': 0,\n",
       "  '2380319__broccoli__0.9999957.jpg': -1,\n",
       "  '4099__pool_table__0.9999945.jpg': 14,\n",
       "  '2386456__zebra__0.9999989.jpg': 0,\n",
       "  '2380189__zebra__0.9999993.jpg': 0,\n",
       "  '2414760__zebra__0.9999895.jpg': 0,\n",
       "  '2410336__zebra__0.99999547.jpg': 0,\n",
       "  '2392818__park_bench__0.99999.jpg': 13,\n",
       "  '2410903__steam_locomotive__0.9999876.jpg': 12,\n",
       "  '2380669__parking_meter__0.9999993.jpg': 4,\n",
       "  '2384145__street_sign__0.9999987.jpg': 1,\n",
       "  '2404955__banana__0.9999995.jpg': 6,\n",
       "  '2414996__park_bench__0.9999907.jpg': -1,\n",
       "  '2415737__parking_meter__0.99999785.jpg': 4,\n",
       "  '2392349__umbrella__0.9999994.jpg': 5,\n",
       "  '2402745__bullet_train__0.99999857.jpg': 8,\n",
       "  '2411645__parking_meter__0.999985.jpg': -1,\n",
       "  '2389131__pizza__0.9999943.jpg': 2,\n",
       "  '2385767__zebra__0.9999958.jpg': 0,\n",
       "  '2410779__parking_meter__0.99999917.jpg': -1,\n",
       "  '2405210__pizza__0.9999869.jpg': 2,\n",
       "  '2389163__zebra__0.9999957.jpg': 0,\n",
       "  '2388889__hotdog__0.99999714.jpg': -1,\n",
       "  '2417055__broccoli__0.9999864.jpg': 7,\n",
       "  '2402056__toilet_seat__0.99999917.jpg': -1,\n",
       "  '2403741__zebra__0.99999523.jpg': 0,\n",
       "  '2408719__ski__0.99999297.jpg': 9,\n",
       "  '2410081__parking_meter__1.0.jpg': 4,\n",
       "  '2415402__zebra__0.99998903.jpg': 0,\n",
       "  '2399675__zebra__0.9999883.jpg': 0,\n",
       "  '2389324__zebra__0.9999993.jpg': 0,\n",
       "  '2411784__traffic_light__0.9999945.jpg': 3,\n",
       "  '2405479__traffic_light__0.9999939.jpg': 3,\n",
       "  '2404281__zebra__0.999998.jpg': 0,\n",
       "  '2395038__zebra__0.9999976.jpg': 0,\n",
       "  '2378358__park_bench__0.99999833.jpg': 13,\n",
       "  '2410410__ski__0.99999356.jpg': 9,\n",
       "  '4339__manhole_cover__0.99999416.jpg': -1,\n",
       "  '2408701__zebra__0.9999981.jpg': 0,\n",
       "  '2398975__umbrella__0.9999958.jpg': 5,\n",
       "  '2383706__umbrella__0.9999994.jpg': 5,\n",
       "  '2382792__umbrella__0.9999838.jpg': 5,\n",
       "  '2409589__zebra__0.99999976.jpg': 0,\n",
       "  '2413786__parking_meter__0.9999925.jpg': 4,\n",
       "  '2397486__zebra__0.9999875.jpg': 0,\n",
       "  '2385039__zebra__0.9999844.jpg': 0,\n",
       "  '2412267__zebra__0.9999939.jpg': 0}}"
      ]
     },
     "execution_count": 50,
     "metadata": {},
     "output_type": "execute_result"
    }
   ],
   "source": [
    "global_cl_results"
   ]
  },
  {
   "cell_type": "code",
   "execution_count": 53,
   "id": "c6f4a680",
   "metadata": {},
   "outputs": [
    {
     "name": "stdout",
     "output_type": "stream",
     "text": [
      "15\n",
      "16\n",
      "15\n",
      "15\n",
      "15\n"
     ]
    }
   ],
   "source": [
    "# Sanity check: Number of elements should be the same as clusters detected in clustering phase\n",
    "for split_idx in global_cl_results.keys(): print(len(np.unique(list(global_cl_results[split_idx].values())))-1)"
   ]
  },
  {
   "cell_type": "markdown",
   "id": "be815512",
   "metadata": {},
   "source": [
    "It was 15, 16, 15, 15, 15. Clustering results is fine."
   ]
  },
  {
   "cell_type": "markdown",
   "id": "c4cb88c4",
   "metadata": {},
   "source": [
    "## Clustering Prototypes"
   ]
  },
  {
   "cell_type": "markdown",
   "id": "eba636fd",
   "metadata": {},
   "source": [
    "In our experiment, we want to predict the vote count for a new image, based on the proximity it has to the avaliable clusters. These clusters are composed of many data points, so the proximity of a new data point to a cluster can be measured in different ways, like taking the distance between the new point and the nearest clustered point in the dataset.   \n",
    "However, this approach can be biased when new poins get associated to the cluster taking in account the nearest point of a cluster instead of the overall position of a cluster. To avoid this, for each cluster we calculate a \"prototype\", a data point which is the centroid of all the data points in a cluster. This way, we can measure the distance to the general position of a cluster in a more confident way."
   ]
  },
  {
   "cell_type": "markdown",
   "id": "9a93b140",
   "metadata": {},
   "source": [
    "### Vote prototypes (Solution of cases)"
   ]
  },
  {
   "cell_type": "code",
   "execution_count": 54,
   "id": "1e497934",
   "metadata": {},
   "outputs": [],
   "source": [
    "# TODO: SI there another to calculate vote prototypes than to just average the votes\n",
    "# casted for every image in a specific cluster? \n",
    "\n",
    "def gen_indiv_vote_prototypes(cl_result, votes_df, vote_prt_type, ignore_noise=True):\n",
    "    '''Maps the integer labels of every cluster with its vote prototype'''\n",
    "    # Separate image votes according to the clusters they belong to\n",
    "    votes_by_cluster = {}\n",
    "    for img_name, cl_idx in cl_result.items():\n",
    "        if ignore_noise and cl_idx == -1: continue # ignore noise cluster\n",
    "        img_votes = votes_df.loc[img_name].values[:-1] # fetch vote columns (but not \"best technique\" column)\n",
    "        if cl_idx not in votes_by_cluster.keys(): votes_by_cluster[cl_idx] = [img_votes]\n",
    "        else: votes_by_cluster[cl_idx].append(img_votes)\n",
    "    # For each cluster, calculate their vote prototype\n",
    "    vote_prts_by_cluster = {}\n",
    "    for cl_idx, cl_votes in votes_by_cluster.items():\n",
    "        unrounded_prt = np.average(np.array(cl_votes, 'uint8'), axis=0) # load with uint8 to prevent unwanted floating points\n",
    "        # Create { cluster_idx : vote_prototype } pairs\n",
    "        vote_prts_by_cluster[cl_idx] = np.array(np.round(unrounded_prt), 'int')\n",
    "    return vote_prts_by_cluster\n",
    "    \n",
    "def get_global_vote_prototypes(cl_results, votes_df, vote_prt_type, ignore_noise=True):\n",
    "    '''Maps indices of folds/splits used to generate clusterings with the vote prototypes\n",
    "    of the different clusters generated'''\n",
    "    global_vote_prototypes = {}\n",
    "    for i, cl_result in cl_results.items():\n",
    "        # Create { split_idx : vote_prototypes_per_cluster } pairs\n",
    "        global_vote_prototypes[i] = gen_indiv_vote_prototypes(cl_result, votes_df, vote_prt_type, ignore_noise)\n",
    "    return global_vote_prototypes"
   ]
  },
  {
   "cell_type": "markdown",
   "id": "691db225",
   "metadata": {},
   "source": [
    "### Feature Prototypes (Description of cases)"
   ]
  },
  {
   "cell_type": "markdown",
   "id": "dfd6b6d7",
   "metadata": {},
   "source": [
    "#### Default Feature Prototyping (Average of features)"
   ]
  },
  {
   "cell_type": "code",
   "execution_count": 55,
   "id": "08cc3eb1",
   "metadata": {},
   "outputs": [],
   "source": [
    "def gen_averaged_feat_prototypes(cl_result, feats_df, ignore_noise=True):\n",
    "    # Separate image votes according to the clusters they belong to\n",
    "    feats_by_cluster = {}\n",
    "    for img_name, cl_idx in cl_result.items():\n",
    "        if ignore_noise and cl_idx == -1: continue # ignore noise cluster\n",
    "        img_feats = feats_df.loc[img_name].values # fetch features of image\n",
    "        if cl_idx not in feats_by_cluster.keys(): feats_by_cluster[cl_idx] = [img_feats]\n",
    "        else: feats_by_cluster[cl_idx].append(img_feats)\n",
    "    # For each cluster, calculate their feature prototype\n",
    "    feat_prts_by_cluster = {}\n",
    "    for cl_idx, cl_feats in feats_by_cluster.items():\n",
    "        unrounded_prt = np.average(np.array(cl_feats), axis=0)\n",
    "        feat_prts_by_cluster[cl_idx] = unrounded_prt\n",
    "        # print(feat_prts_by_cluster[cl_idx])\n",
    "    return feat_prts_by_cluster"
   ]
  },
  {
   "cell_type": "markdown",
   "id": "a67b9507",
   "metadata": {},
   "source": [
    "#### PCA Feature Prototyping"
   ]
  },
  {
   "cell_type": "code",
   "execution_count": 56,
   "id": "2941aa25",
   "metadata": {},
   "outputs": [],
   "source": [
    "def gen_pca_feat_prototypes(cl_result, images_folder_path, ignore_noise=True):\n",
    "    # For each cluster:\n",
    "        # Load images (using img_name in cl_result and images folder path)\n",
    "        # Flatten images and condense them into a matrix\n",
    "        # Apply PCA over the matrix\n",
    "        # Store the trained PCA object as a feature prototype with a \"cluster_idx\" key\n",
    "    # return pca_objs_per_cluster\n",
    "    pass"
   ]
  },
  {
   "cell_type": "markdown",
   "id": "e34a8508",
   "metadata": {},
   "source": [
    "#### General code"
   ]
  },
  {
   "cell_type": "code",
   "execution_count": 113,
   "id": "9a8b959d",
   "metadata": {},
   "outputs": [],
   "source": [
    "def gen_indiv_feat_prototypes(cl_result, feat_prt_type, ignore_noise=True, **kwargs):\n",
    "    '''Maps the integer labels of every cluster with its feature prototype'''\n",
    "    # Execute feature prototyping code according to selected prototyping type\n",
    "    if feat_prt_type == 'avg-feats':\n",
    "        feat_prts_per_cluster = gen_averaged_feat_prototypes(cl_result,\n",
    "                                                             feats_df = kwargs['feats_df'],\n",
    "                                                             ignore_noise=ignore_noise)\n",
    "    elif feat_prt_type == 'pca':\n",
    "        feat_prts_per_cluster = gen_pca_feat_prototypes(cl_result,\n",
    "                                                        images_folder_path = kwargs['images_folder_path'],\n",
    "                                                        ignore_noise=ignore_noise)\n",
    "    else:\n",
    "        raise Exception(f'Unknown feature prot. type : {feat_prt_type}')\n",
    "    return feat_prts_per_cluster\n",
    "    \n",
    "def get_global_feat_prototypes(cl_results, feat_prt_type, ignore_noise=True, **kwargs):\n",
    "    '''Maps indices of folds/splits used to generate clusterings with the feat. prototypes\n",
    "    of the different clusters generated'''\n",
    "    global_feat_prototypes = {}\n",
    "    for split_idx, cl_result in cl_results.items():\n",
    "        # Create { split_idx : feat_prototypes_per_cluster } pairs\n",
    "        global_feat_prototypes[split_idx] = gen_indiv_feat_prototypes(cl_result, feat_prt_type, ignore_noise, **kwargs)\n",
    "    return global_feat_prototypes"
   ]
  },
  {
   "cell_type": "code",
   "execution_count": 112,
   "id": "1c8f55f9",
   "metadata": {},
   "outputs": [],
   "source": [
    "# Warning: This code access variables defined previously without referencing them in its arguments.\n",
    "def get_prototypes(vote_prt_type, feat_prt_type):\n",
    "    # Calculate vote prototypes\n",
    "    vote_prts = None\n",
    "    if vote_prt_type=='avg-votes':\n",
    "        vote_prts = get_global_vote_prototypes(global_cl_results, votes_df, vote_prt_type)\n",
    "    else: raise Exception(f'Unknown vote prot. type : {vote_prt_type}')\n",
    "    # Calculate feature prototypes\n",
    "    feat_prts = None\n",
    "    if feat_prt_type=='avg-feats':\n",
    "        feat_prts = get_global_feat_prototypes(global_cl_results, FEAT_PRT_TYPE, feats_df=feats_df)\n",
    "    elif feat_prt_type=='pca':\n",
    "        feat_prts = get_global_feat_prototypes(global_cl_results, FEAT_PRT_TYPE, images_folder_path=IMAGES_FOLDER_PATH)\n",
    "    else: raise Exception(f'Unknown feature prot. type : {feat_prt_type}')\n",
    "    # Return prototypes\n",
    "    return vote_prts, feat_prts"
   ]
  },
  {
   "cell_type": "markdown",
   "id": "fcafec0c",
   "metadata": {},
   "source": [
    "### Calculate both prototypes"
   ]
  },
  {
   "cell_type": "code",
   "execution_count": 61,
   "id": "691afa3d",
   "metadata": {},
   "outputs": [],
   "source": [
    "global_vote_prototypes, global_feat_prototypes = get_prototypes(VOTE_PRT_TYPE, FEAT_PRT_TYPE)"
   ]
  },
  {
   "cell_type": "code",
   "execution_count": 62,
   "id": "002ae122",
   "metadata": {
    "scrolled": true
   },
   "outputs": [
    {
     "data": {
      "text/plain": [
       "{0: array([5, 4, 4, 0]),\n",
       " 1: array([7, 2, 5, 1]),\n",
       " 2: array([8, 2, 3, 2]),\n",
       " 3: array([ 8, 10,  2,  0]),\n",
       " 4: array([7, 2, 6, 0]),\n",
       " 5: array([8, 2, 2, 1]),\n",
       " 6: array([7, 4, 2, 0]),\n",
       " 7: array([9, 2, 1, 2]),\n",
       " 8: array([6, 5, 3, 0]),\n",
       " 9: array([6, 3, 4, 0]),\n",
       " 10: array([6, 5, 2, 1]),\n",
       " 11: array([11,  2,  6,  0]),\n",
       " 12: array([8, 0, 4, 0]),\n",
       " 13: array([5, 2, 5, 0]),\n",
       " 14: array([8, 2, 2, 0])}"
      ]
     },
     "execution_count": 62,
     "metadata": {},
     "output_type": "execute_result"
    }
   ],
   "source": [
    "# Sanity check: No. of elements should be the same as no. of clusters detected in clustering phase\n",
    "global_vote_prototypes[3]"
   ]
  },
  {
   "cell_type": "code",
   "execution_count": 63,
   "id": "8b8e14af",
   "metadata": {},
   "outputs": [
    {
     "name": "stdout",
     "output_type": "stream",
     "text": [
      "{0: array([0.0824641 , 0.21308363, 0.20724915, ..., 0.48475512, 0.29120767,\n",
      "       0.23847589]), 1: array([1.37623495, 0.10536327, 0.06911659, ..., 0.7257839 , 0.24584723,\n",
      "       0.11383936]), 2: array([0.05132507, 0.38199278, 0.25109835, ..., 0.17329019, 0.86275237,\n",
      "       0.06237488]), 3: array([0.71722362, 0.09781803, 0.02666388, ..., 0.5039281 , 0.01320606,\n",
      "       0.45912951]), 4: array([0.38268466, 0.20299782, 0.58064171, ..., 0.18404097, 0.06476327,\n",
      "       0.16339689]), 5: array([0.08024365, 0.1204319 , 0.12581458, ..., 0.12010398, 0.03365019,\n",
      "       0.41241854]), 6: array([0.33168829, 0.29847374, 0.37979215, ..., 0.4577658 , 0.16855236,\n",
      "       0.18571813]), 7: array([0.05421157, 0.70195364, 0.04683721, ..., 1.08174687, 0.55553089,\n",
      "       0.15072539]), 8: array([0.18724329, 0.09193769, 0.45493382, ..., 1.33935047, 0.21779195,\n",
      "       0.2928563 ]), 9: array([0.48219949, 0.23743852, 0.23221617, ..., 0.29231778, 0.59580591,\n",
      "       0.10933533]), 10: array([0.03560127, 0.19514388, 0.29063451, ..., 0.11289755, 0.34520286,\n",
      "       0.46450155]), 11: array([0.06129132, 0.19784451, 0.09198222, ..., 0.07802513, 0.06894307,\n",
      "       0.16274987]), 12: array([0.45241335, 0.39501007, 0.05819395, ..., 0.47639056, 0.68885523,\n",
      "       0.10654889]), 13: array([0.37799995, 0.17950993, 0.57633028, ..., 0.10131075, 0.56434125,\n",
      "       0.37569462]), 14: array([0.52050434, 0.12972857, 0.64759274, ..., 0.24612191, 0.5342475 ,\n",
      "       0.12407549])}\n"
     ]
    }
   ],
   "source": [
    "# Sanity check: No. of elements should be the same as no. of clusters detected in clustering phase\n",
    "if global_feat_prototypes is not None:\n",
    "    print(global_feat_prototypes[3]) # float64"
   ]
  },
  {
   "cell_type": "markdown",
   "id": "70e9a39b",
   "metadata": {},
   "source": [
    "## Vote Count Prediction (using feat prototypes and vote prototypes)"
   ]
  },
  {
   "cell_type": "markdown",
   "id": "2373d99e",
   "metadata": {},
   "source": [
    "#### Helper functions"
   ]
  },
  {
   "cell_type": "code",
   "execution_count": 103,
   "id": "ff75b136",
   "metadata": {},
   "outputs": [],
   "source": [
    "def dist_to_prt(p1, p2, metric):\n",
    "    if metric=='euclid': return np.linalg.norm(p1-p2)\n",
    "    if metric=='cosine': return 1 - (np.dot(p1, p2)/(np.linalg.norm(p1) * np.linalg.norm(p2)))\n",
    "    else: raise Exception(f'Unknown metric type : {metric}')"
   ]
  },
  {
   "cell_type": "markdown",
   "id": "d8a73073",
   "metadata": {},
   "source": [
    "### Prototype-based VCP"
   ]
  },
  {
   "cell_type": "code",
   "execution_count": 114,
   "id": "2998fe38",
   "metadata": {},
   "outputs": [],
   "source": [
    "def get_distances_to_feat_prts(test_img_name, feats_df, gbl_feat_prts, split_idx, metric, **kwargs):\n",
    "    # Prepare data\n",
    "    test_feats = feats_df.loc[test_img_name].values\n",
    "    feat_prts = gbl_feat_prts[split_idx]\n",
    "    # Calculate distances\n",
    "    distances_per_feat_prt = {}\n",
    "    for prt_idx, prt_feats in feat_prts.items():\n",
    "        distances_per_feat_prt[prt_idx] = dist_to_prt(test_feats, prt_feats, metric)\n",
    "    return distances_per_feat_prt"
   ]
  },
  {
   "cell_type": "markdown",
   "id": "7da6f51f",
   "metadata": {},
   "source": [
    "### PCA-based VCP"
   ]
  },
  {
   "cell_type": "code",
   "execution_count": 66,
   "id": "bc1ff36e",
   "metadata": {},
   "outputs": [],
   "source": [
    "def get_pca_proj_distances(test_img_name, images_folder_path, gbl_feat_prts, split_idx, **kwargs):\n",
    "    pass"
   ]
  },
  {
   "cell_type": "markdown",
   "id": "15964f59",
   "metadata": {},
   "source": [
    "### Prototypeless VCP"
   ]
  },
  {
   "cell_type": "code",
   "execution_count": 67,
   "id": "308a5986",
   "metadata": {},
   "outputs": [],
   "source": [
    "def get_img_idxs_per_cluster(cl_results, ignore_noise=True):\n",
    "    img_idxs_per_cluster = {}\n",
    "    for img_name, cl_idx in cl_results.items():\n",
    "        if cl_idx==-1 and ignore_noise: continue # ignore noise cluster\n",
    "        img_idx = np.argwhere(X_names == img_name)[0][0]\n",
    "        if cl_idx not in img_idxs_per_cluster.keys():\n",
    "            img_idxs_per_cluster[cl_idx] = [img_idx]\n",
    "        else:\n",
    "            img_idxs_per_cluster[cl_idx].append(img_idx)\n",
    "    return img_idxs_per_cluster\n",
    "\n",
    "def get_intercluster_distances(test_img_name, feats_df, cl_results, split_idx, metric, **kwargs):\n",
    "    pass"
   ]
  },
  {
   "cell_type": "markdown",
   "id": "9710fb41",
   "metadata": {},
   "source": [
    "### Main code"
   ]
  },
  {
   "cell_type": "code",
   "execution_count": 106,
   "id": "33ec772a",
   "metadata": {},
   "outputs": [],
   "source": [
    "def get_nearest_prototypes_indices(dist_to_prototypes, k):\n",
    "    '''Given a dictionary between feature prototypes indices and the distance to a point,\n",
    "    return indices of nearest prototypes (i.e. those with the lowest distances).\n",
    "    Indices of prototypes are NOT guaranteed to be ordered in terms of closeness'''\n",
    "    # Return existing prototypes if k is higher than no. of prototypes\n",
    "    if k >= len(dist_to_prototypes): return list(dist_to_prototypes.keys())\n",
    "    # Else, find nearest prototypes\n",
    "    nearest_prts_idxs = []\n",
    "    # Iterate k times...\n",
    "    for i in range(k):\n",
    "        nearest_prt_idx, min_dist = None, np.inf\n",
    "        # ...searching the next nearest prototype\n",
    "        for prt_idx, dist in dist_to_prototypes.items():\n",
    "            if prt_idx in nearest_prts_idxs: continue # ignore prev. found nearest prototypes\n",
    "            if dist < min_dist: nearest_prt_idx, min_dist = prt_idx, dist\n",
    "        nearest_prts_idxs.append(nearest_prt_idx)\n",
    "    return nearest_prts_idxs\n",
    "\n",
    "def gen_prediction(test_img_name, vote_prts, k, vote_pred_type, **kwargs):\n",
    "    # Calculate distances to each cluster/prototype depending on vote_pred_type\n",
    "    if vote_pred_type == 'prt-based':\n",
    "        dist_to_prototypes = get_distances_to_feat_prts(test_img_name, **kwargs)\n",
    "    elif vote_pred_type == 'pca-based':\n",
    "        dist_to_prototypes = get_pca_proj_distances(test_img_name, **kwargs)\n",
    "    elif vote_pred_type == 'prtless':\n",
    "        dist_to_prototypes = get_intercluster_distances(test_img_name, **kwargs)\n",
    "    else:\n",
    "        raise Exception(f'Unknown vote prediction type : {vote_pred_type}')\n",
    "    # Find k nearest prototypes\n",
    "    kn_prototypes_idxs =  get_nearest_prototypes_indices(dist_to_prototypes, k)\n",
    "    # Aggregate the vote prototypes of the clusters associated with those distances\n",
    "    nearest_vote_prototypes = [vote_prts[kn_prt_idx] for kn_prt_idx in kn_prototypes_idxs]\n",
    "    unrounded_vcp = np.average(np.array(nearest_vote_prototypes), axis=0)\n",
    "    rounded_vcp = np.round(unrounded_vcp, 0).astype(np.int8)\n",
    "    vote_count_prediction = rounded_vcp\n",
    "    return vote_count_prediction"
   ]
  },
  {
   "cell_type": "code",
   "execution_count": 69,
   "id": "0e6bde9e",
   "metadata": {},
   "outputs": [],
   "source": [
    "def get_indiv_vote_predictions(split, vote_prts, image_names, k, vote_pred_type, **kwargs):\n",
    "    '''Maps the name of every test image with its generated vote count prediction'''\n",
    "    vote_predictions = {}\n",
    "    query_times = {}\n",
    "    # Prepare data\n",
    "    test_idxs = split[1]\n",
    "    # For each test image...\n",
    "    for test_img_idx in test_idxs:\n",
    "        # Register query computation time\n",
    "        start = timeit.default_timer()\n",
    "        # Generate and store prediction (along with the image's name)\n",
    "        kwargs['image_names'] = image_names\n",
    "        test_img_name = image_names[test_img_idx]\n",
    "        vote_count_prediction = gen_prediction(test_img_name, vote_prts, k, vote_pred_type, **kwargs)\n",
    "        vote_predictions[test_img_name] = vote_count_prediction\n",
    "        # Calculate and store query computation time\n",
    "        end = timeit.default_timer()\n",
    "        query_time = end - start\n",
    "        query_times[test_img_name] = query_time\n",
    "    return vote_predictions, query_times\n",
    "\n",
    "def get_global_vote_predictions(splits, gbl_vote_prts, image_names, k, vote_pred_type, **kwargs):\n",
    "    '''Maps indices of test folds/splits with the vote count predictions generated'''\n",
    "    global_vote_predictions = {}\n",
    "    global_query_times = {}\n",
    "    for split_idx in gbl_vote_prts.keys():\n",
    "        # Generate predictions and query times.\n",
    "        kwargs['split_idx'] = split_idx # Some functions use this parameter\n",
    "        vote_preds, query_times = get_indiv_vote_predictions(splits[split_idx], gbl_vote_prts[split_idx], image_names, k, vote_pred_type, **kwargs)\n",
    "        # Create { split_idx: vote_predictions } and { split_idx : query_times } pairs\n",
    "        global_vote_predictions[split_idx] = vote_preds\n",
    "        global_query_times[split_idx] = query_times\n",
    "    return global_vote_predictions, global_query_times"
   ]
  },
  {
   "cell_type": "code",
   "execution_count": 117,
   "id": "ffe0c5fa",
   "metadata": {},
   "outputs": [],
   "source": [
    "# Warning: This code access variables defined previously without referencing them in its arguments.\n",
    "def get_predictions(k, vote_pred_type, sim_metric_id, **kwargs):\n",
    "    predictions = None\n",
    "    if vote_pred_type == 'prt-based':\n",
    "        predictions = get_global_vote_predictions(splits, global_vote_prototypes, X_names, k, vote_pred_type,\n",
    "                                                  feats_df=feats_df, gbl_feat_prts=global_feat_prototypes, metric=sim_metric_id)\n",
    "    elif vote_pred_type == 'pca-based':\n",
    "        predictions = get_global_vote_predictions(splits, global_vote_prototypes, X_names, k, vote_pred_type,\n",
    "                                                 images_folder_path=IMAGES_FOLDER_PATH, gbl_pca_objs=global_feat_prototypes)\n",
    "    elif vote_pred_type == 'prtless':\n",
    "        predictions = get_global_vote_predictions(splits, global_vote_prototypes, X_names, k, vote_pred_type,\n",
    "                                                  feats_df=feats_df, gbl_cl_results=global_cl_results, metric=sim_metric_id)\n",
    "    else:\n",
    "        raise Exception(f'Unknown vote prediction type : {vote_pred_type}')\n",
    "    return predictions"
   ]
  },
  {
   "cell_type": "markdown",
   "id": "8b7d15b0",
   "metadata": {},
   "source": [
    "##### A little function to evaluate different values for k"
   ]
  },
  {
   "cell_type": "code",
   "execution_count": 142,
   "id": "47312465",
   "metadata": {},
   "outputs": [],
   "source": [
    "def batch_get_predictions(k_range, **kwargs):\n",
    "    batch_predictions, batch_query_times = {}, {}\n",
    "    for k in k_range:\n",
    "        preds, query_times = get_predictions(k, **kwargs)\n",
    "        batch_predictions[k] = preds\n",
    "        batch_query_times[k] = query_times\n",
    "    return batch_predictions, batch_query_times"
   ]
  },
  {
   "cell_type": "markdown",
   "id": "df57cb73",
   "metadata": {},
   "source": [
    "### Generating predictions"
   ]
  },
  {
   "cell_type": "code",
   "execution_count": 120,
   "id": "7750c5d6",
   "metadata": {},
   "outputs": [
    {
     "name": "stdout",
     "output_type": "stream",
     "text": [
      "prt-based euclid\n"
     ]
    }
   ],
   "source": [
    "# Sanity check / Remainder of constants\n",
    "print(VOTE_PRED_TYPE, SIM_ID)"
   ]
  },
  {
   "cell_type": "code",
   "execution_count": 143,
   "id": "c6487e42",
   "metadata": {},
   "outputs": [],
   "source": [
    "k_range = [1, 3, 5, 6, 11]\n",
    "batch_results = batch_get_predictions(k_range, vote_pred_type=VOTE_PRED_TYPE, sim_metric_id=SIM_METRIC_ID)\n",
    "batch_global_predictions, batch_global_query_times = batch_results"
   ]
  },
  {
   "cell_type": "code",
   "execution_count": 146,
   "id": "e1476526",
   "metadata": {
    "scrolled": true
   },
   "outputs": [
    {
     "data": {
      "text/plain": [
       "{'2388889__hotdog__0.99999714.jpg': array([7, 3, 3, 1], dtype=int8),\n",
       " '2417881__zebra__0.9999945.jpg': array([8, 3, 3, 1], dtype=int8),\n",
       " '2403403__banana__0.9999926.jpg': array([7, 4, 2, 1], dtype=int8),\n",
       " '2381941__zebra__0.9999914.jpg': array([8, 3, 3, 1], dtype=int8),\n",
       " '2403741__zebra__0.99999523.jpg': array([8, 3, 3, 1], dtype=int8),\n",
       " '2404281__zebra__0.999998.jpg': array([8, 3, 3, 1], dtype=int8),\n",
       " '2416627__zebra__0.9999987.jpg': array([8, 3, 3, 1], dtype=int8),\n",
       " '2391964__flamingo__1.0.jpg': array([8, 3, 3, 1], dtype=int8),\n",
       " '2404583__umbrella__0.99999297.jpg': array([7, 3, 3, 1], dtype=int8),\n",
       " '2409637__four-poster__0.99999464.jpg': array([8, 3, 3, 1], dtype=int8),\n",
       " '2380669__parking_meter__0.9999993.jpg': array([8, 3, 3, 1], dtype=int8),\n",
       " '2411196__crane__0.9999995.jpg': array([8, 3, 3, 1], dtype=int8),\n",
       " '134__zebra__0.9999949.jpg': array([8, 3, 3, 1], dtype=int8),\n",
       " '2405905__traffic_light__0.99999535.jpg': array([7, 3, 3, 1], dtype=int8),\n",
       " '2404127__zebra__0.9999933.jpg': array([8, 3, 3, 1], dtype=int8),\n",
       " '2406857__zebra__0.9999894.jpg': array([8, 3, 3, 1], dtype=int8),\n",
       " '2414277__zebra__0.9999908.jpg': array([8, 3, 3, 1], dtype=int8),\n",
       " '2385298__parking_meter__0.9999865.jpg': array([8, 3, 3, 1], dtype=int8),\n",
       " '2406887__ski__0.99999785.jpg': array([8, 3, 3, 1], dtype=int8),\n",
       " '2416228__parking_meter__0.9999914.jpg': array([7, 3, 3, 1], dtype=int8),\n",
       " '2415402__zebra__0.99998903.jpg': array([8, 3, 3, 1], dtype=int8),\n",
       " '2408701__zebra__0.9999981.jpg': array([7, 3, 3, 1], dtype=int8),\n",
       " '2389484__street_sign__0.99998474.jpg': array([7, 3, 3, 1], dtype=int8),\n",
       " '2417395__zebra__0.9999993.jpg': array([8, 3, 3, 1], dtype=int8),\n",
       " '2384512__zebra__0.99999726.jpg': array([8, 3, 3, 1], dtype=int8),\n",
       " '2391918__steam_locomotive__0.99999845.jpg': array([8, 3, 3, 1], dtype=int8),\n",
       " '2404229__zebra__0.99998367.jpg': array([8, 3, 3, 1], dtype=int8),\n",
       " '2381968__ski__0.999984.jpg': array([8, 3, 3, 1], dtype=int8),\n",
       " '2413495__traffic_light__0.9999925.jpg': array([7, 3, 3, 1], dtype=int8),\n",
       " '2398585__bow_tie__0.9999838.jpg': array([7, 3, 3, 1], dtype=int8),\n",
       " '2398771__traffic_light__0.99999.jpg': array([7, 3, 3, 1], dtype=int8),\n",
       " '2400121__pizza__0.9999962.jpg': array([7, 3, 3, 1], dtype=int8),\n",
       " '2407951__zebra__0.9999975.jpg': array([8, 3, 3, 1], dtype=int8),\n",
       " '2386193__broccoli__0.9999924.jpg': array([7, 3, 2, 1], dtype=int8),\n",
       " '2410903__steam_locomotive__0.9999876.jpg': array([8, 3, 3, 1], dtype=int8),\n",
       " '2399675__zebra__0.9999883.jpg': array([8, 3, 3, 1], dtype=int8),\n",
       " '2381932__traffic_light__0.99999964.jpg': array([7, 3, 3, 1], dtype=int8),\n",
       " '691__cheetah__0.99999213.jpg': array([8, 3, 3, 1], dtype=int8),\n",
       " '2392405__parking_meter__0.9999993.jpg': array([8, 3, 3, 1], dtype=int8),\n",
       " '2412908__zebra__0.99998975.jpg': array([8, 3, 3, 1], dtype=int8)}"
      ]
     },
     "execution_count": 146,
     "metadata": {},
     "output_type": "execute_result"
    }
   ],
   "source": [
    "# For k=5, in the cluster #0, show generated predictions\n",
    "batch_global_predictions[5][0]"
   ]
  },
  {
   "cell_type": "code",
   "execution_count": 147,
   "id": "74d0a248",
   "metadata": {
    "scrolled": true
   },
   "outputs": [
    {
     "data": {
      "text/plain": [
       "{'2388889__hotdog__0.99999714.jpg': 0.0009245999999620835,\n",
       " '2417881__zebra__0.9999945.jpg': 0.0009155000007012859,\n",
       " '2403403__banana__0.9999926.jpg': 0.0010788999998112558,\n",
       " '2381941__zebra__0.9999914.jpg': 0.0014029000003574765,\n",
       " '2403741__zebra__0.99999523.jpg': 0.0009532000003673602,\n",
       " '2404281__zebra__0.999998.jpg': 0.0009143999996013008,\n",
       " '2416627__zebra__0.9999987.jpg': 0.0009102999993046978,\n",
       " '2391964__flamingo__1.0.jpg': 0.000902200000382436,\n",
       " '2404583__umbrella__0.99999297.jpg': 0.0009089000004678383,\n",
       " '2409637__four-poster__0.99999464.jpg': 0.0009509999999863794,\n",
       " '2380669__parking_meter__0.9999993.jpg': 0.0009226000001945067,\n",
       " '2411196__crane__0.9999995.jpg': 0.000929300000279909,\n",
       " '134__zebra__0.9999949.jpg': 0.0010785999993458972,\n",
       " '2405905__traffic_light__0.99999535.jpg': 0.0030346000003191875,\n",
       " '2404127__zebra__0.9999933.jpg': 0.0009722000004330766,\n",
       " '2406857__zebra__0.9999894.jpg': 0.0009160999998130137,\n",
       " '2414277__zebra__0.9999908.jpg': 0.0009008999995785416,\n",
       " '2385298__parking_meter__0.9999865.jpg': 0.0008982999997897423,\n",
       " '2406887__ski__0.99999785.jpg': 0.0008821999999781838,\n",
       " '2416228__parking_meter__0.9999914.jpg': 0.0037898000000495813,\n",
       " '2415402__zebra__0.99998903.jpg': 0.0009846000002653454,\n",
       " '2408701__zebra__0.9999981.jpg': 0.0009107000005315058,\n",
       " '2389484__street_sign__0.99998474.jpg': 0.0008988999998109648,\n",
       " '2417395__zebra__0.9999993.jpg': 0.0008926000000428758,\n",
       " '2384512__zebra__0.99999726.jpg': 0.0008965999995780294,\n",
       " '2391918__steam_locomotive__0.99999845.jpg': 0.000996800000393705,\n",
       " '2404229__zebra__0.99998367.jpg': 0.0009619000002203393,\n",
       " '2381968__ski__0.999984.jpg': 0.0009037999998326995,\n",
       " '2413495__traffic_light__0.9999925.jpg': 0.0010238000004392234,\n",
       " '2398585__bow_tie__0.9999838.jpg': 0.002406900000096357,\n",
       " '2398771__traffic_light__0.99999.jpg': 0.000960299999860581,\n",
       " '2400121__pizza__0.9999962.jpg': 0.0035744000006161514,\n",
       " '2407951__zebra__0.9999975.jpg': 0.0009635000005800975,\n",
       " '2386193__broccoli__0.9999924.jpg': 0.0009198999996442581,\n",
       " '2410903__steam_locomotive__0.9999876.jpg': 0.0010314999999536667,\n",
       " '2399675__zebra__0.9999883.jpg': 0.0013828000001012697,\n",
       " '2381932__traffic_light__0.99999964.jpg': 0.003714399999807938,\n",
       " '691__cheetah__0.99999213.jpg': 0.0009809000002860557,\n",
       " '2392405__parking_meter__0.9999993.jpg': 0.000901000000339991,\n",
       " '2412908__zebra__0.99998975.jpg': 0.0008909999996831175}"
      ]
     },
     "execution_count": 147,
     "metadata": {},
     "output_type": "execute_result"
    }
   ],
   "source": [
    "# For k=5, in the cluster #0, show query times\n",
    "batch_global_query_times[5][0]"
   ]
  },
  {
   "cell_type": "markdown",
   "id": "09a170f8",
   "metadata": {},
   "source": [
    "## Metric Evaluation"
   ]
  },
  {
   "cell_type": "markdown",
   "id": "f022d1fa",
   "metadata": {},
   "source": [
    "### Vote Accuracy (RMSE, Manhattan, etc...)"
   ]
  },
  {
   "cell_type": "code",
   "execution_count": 64,
   "id": "a73839cd",
   "metadata": {},
   "outputs": [],
   "source": [
    "def calc_distance(p1, p2, metric):\n",
    "    if metric == 'rmse': return np.sum(np.square(p1 - p2))\n",
    "    elif metric == 'manhattan': return np.sum(np.abs(p1 - p2))\n",
    "    else: print('Unknown metric type')\n",
    "        \n",
    "def eval_indiv_vote_preds(vote_predictions, metric):\n",
    "    vote_distances = []\n",
    "    for img_name, vote_pred in vote_predictions.items():\n",
    "        # Fetch real votes and compare with vote predictions\n",
    "        real_votes = votes_df.loc[img_name].values[:4]\n",
    "        distance = calc_distance(real_votes, vote_pred, metric)\n",
    "        vote_distances.append(distance)\n",
    "    vote_distances = np.array(vote_distances)\n",
    "    if metric=='rmse': metrics = {'rmse': round(np.sqrt(np.average(vote_distances)), 2)}\n",
    "    elif metric=='manhattan': metrics = {'manhattan': (np.average(vote_distances), 2)}\n",
    "    else:\n",
    "        metrics = {\n",
    "            'average': round(np.average(vote_distances), 2),\n",
    "            'std. dev.': round(np.std(vote_distances), 2),\n",
    "            'range': [round(np.min(vote_distances), 2), round(np.max(vote_distances), 2)],\n",
    "        }\n",
    "    return metrics\n",
    "\n",
    "def eval_global_vote_preds(global_vote_predictions, metric):\n",
    "    global_metrics = {}\n",
    "    # Calculate metrics for each split\n",
    "    for split_idx, vote_predictions in global_vote_predictions.items():\n",
    "        global_metrics[split_idx] = eval_indiv_vote_preds(vote_predictions, metric)\n",
    "    # Aggregate metrics for all splits\n",
    "    global_metrics['global'] = {}\n",
    "    for metric_type in global_metrics[0].keys():\n",
    "        metrics_per_type = [metrics[metric_type] for split_key, metrics in global_metrics.items() if split_key != 'global']\n",
    "        avgd_metrics_per_type = np.round(np.average(np.array(metrics_per_type), axis=0), 2)\n",
    "        global_metrics['global'][metric_type] = avgd_metrics_per_type\n",
    "    return global_metrics"
   ]
  },
  {
   "cell_type": "markdown",
   "id": "2e491fcd",
   "metadata": {},
   "source": [
    "### Query Times"
   ]
  },
  {
   "cell_type": "code",
   "execution_count": 65,
   "id": "368c0001",
   "metadata": {},
   "outputs": [],
   "source": [
    "def eval_indiv_query_times(query_times):\n",
    "    times = [query_time for _, query_time in query_times.items()]\n",
    "    avg_time = np.average(np.array(times))\n",
    "    return avg_time\n",
    "\n",
    "def eval_global_query_times(global_query_times):\n",
    "    global_metrics = {}\n",
    "    for split_idx, query_times in global_query_times.items():\n",
    "        global_metrics[split_idx] = eval_indiv_query_times(query_times)\n",
    "    avg_times = [avg_time for _, avg_time in global_metrics.items()]\n",
    "    global_avg_time = np.average(np.array(avg_times))\n",
    "    return global_avg_time"
   ]
  },
  {
   "cell_type": "code",
   "execution_count": 66,
   "id": "2cf6643d",
   "metadata": {},
   "outputs": [],
   "source": [
    "METRIC = 'rmse'\n",
    "global_vote_metrics_k1 = eval_global_vote_preds(global_vote_predictions_k1, metric=METRIC)\n",
    "global_vote_metrics_k3 = eval_global_vote_preds(global_vote_predictions_k3, metric=METRIC)\n",
    "global_vote_metrics_k5 = eval_global_vote_preds(global_vote_predictions_k5, metric=METRIC)\n",
    "global_vote_metrics_k7 = eval_global_vote_preds(global_vote_predictions_k7, metric=METRIC)\n",
    "global_vote_metrics_k9 = eval_global_vote_preds(global_vote_predictions_k9, metric=METRIC)\n",
    "global_vote_metrics_k11 = eval_global_vote_preds(global_vote_predictions_k11, metric=METRIC)"
   ]
  },
  {
   "cell_type": "code",
   "execution_count": 67,
   "id": "fa5002d4",
   "metadata": {},
   "outputs": [
    {
     "name": "stdout",
     "output_type": "stream",
     "text": [
      "{'rmse': 4.91}\n",
      "0.0004279884999998984\n"
     ]
    }
   ],
   "source": [
    "print(global_vote_metrics_k1['global'])\n",
    "print(eval_global_query_times(gqts_k1))"
   ]
  },
  {
   "cell_type": "code",
   "execution_count": 68,
   "id": "5ca0ef92",
   "metadata": {},
   "outputs": [
    {
     "name": "stdout",
     "output_type": "stream",
     "text": [
      "{'rmse': 4.55}\n",
      "0.00033947499999982257\n"
     ]
    }
   ],
   "source": [
    "print(global_vote_metrics_k3['global'])\n",
    "print(eval_global_query_times(gqts_k3))"
   ]
  },
  {
   "cell_type": "code",
   "execution_count": 69,
   "id": "2763753a",
   "metadata": {},
   "outputs": [
    {
     "name": "stdout",
     "output_type": "stream",
     "text": [
      "{'rmse': 4.81}\n",
      "0.00034090300000013226\n"
     ]
    }
   ],
   "source": [
    "print(global_vote_metrics_k5['global'])\n",
    "print(eval_global_query_times(gqts_k5))"
   ]
  },
  {
   "cell_type": "code",
   "execution_count": 70,
   "id": "10d2ca9d",
   "metadata": {},
   "outputs": [
    {
     "name": "stdout",
     "output_type": "stream",
     "text": [
      "{'rmse': 4.72}\n",
      "0.00038593250000001683\n"
     ]
    }
   ],
   "source": [
    "print(global_vote_metrics_k7['global'])\n",
    "print(eval_global_query_times(gqts_k7))"
   ]
  },
  {
   "cell_type": "code",
   "execution_count": 71,
   "id": "770c4ee3",
   "metadata": {},
   "outputs": [
    {
     "name": "stdout",
     "output_type": "stream",
     "text": [
      "{'rmse': 4.57}\n",
      "0.00037741649999997403\n"
     ]
    }
   ],
   "source": [
    "print(global_vote_metrics_k9['global'])\n",
    "print(eval_global_query_times(gqts_k9))"
   ]
  },
  {
   "cell_type": "code",
   "execution_count": 72,
   "id": "669049a1",
   "metadata": {},
   "outputs": [
    {
     "name": "stdout",
     "output_type": "stream",
     "text": [
      "{'rmse': 4.55}\n",
      "0.00039934300000037836\n"
     ]
    }
   ],
   "source": [
    "print(global_vote_metrics_k11['global'])\n",
    "print(eval_global_query_times(gqts_k11))"
   ]
  },
  {
   "cell_type": "markdown",
   "id": "26bc044b",
   "metadata": {},
   "source": [
    "At some point, RMSE was 4.91, 4.55, 4.81, 4.72, 4.57, 4.55!!!!!!"
   ]
  },
  {
   "cell_type": "code",
   "execution_count": null,
   "id": "d2f6b4e8",
   "metadata": {},
   "outputs": [],
   "source": []
  }
 ],
 "metadata": {
  "kernelspec": {
   "display_name": "Python 3",
   "language": "python",
   "name": "python3"
  },
  "language_info": {
   "codemirror_mode": {
    "name": "ipython",
    "version": 3
   },
   "file_extension": ".py",
   "mimetype": "text/x-python",
   "name": "python",
   "nbconvert_exporter": "python",
   "pygments_lexer": "ipython3",
   "version": "3.8.5"
  }
 },
 "nbformat": 4,
 "nbformat_minor": 5
}
