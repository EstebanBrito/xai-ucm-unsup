{
 "cells": [
  {
   "cell_type": "markdown",
   "id": "6bd79e3c",
   "metadata": {},
   "source": [
    "# Cluster-based Vote Count Prediction (VCP) for New Images"
   ]
  },
  {
   "cell_type": "code",
   "execution_count": 1,
   "id": "9a72b834",
   "metadata": {},
   "outputs": [],
   "source": [
    "# Libraries\n",
    "import os\n",
    "import time\n",
    "import timeit\n",
    "import pandas as pd\n",
    "import numpy as np\n",
    "import matplotlib.pyplot as plt\n",
    "from skimage.io import imread\n",
    "import sklearn\n",
    "from sklearn.decomposition import PCA"
   ]
  },
  {
   "cell_type": "markdown",
   "id": "9a37fb8e",
   "metadata": {},
   "source": [
    "## Constants"
   ]
  },
  {
   "cell_type": "code",
   "execution_count": 2,
   "id": "e834864e",
   "metadata": {},
   "outputs": [],
   "source": [
    "# Paths\n",
    "PROJECT_ROOT = os.path.join('..', '..')\n",
    "RESULTS_FOLDER_PATH = os.path.join(PROJECT_ROOT, 'results')\n",
    "SIM_MXS_FOLDER_PATH = os.path.join(RESULTS_FOLDER_PATH, 'matrices')\n",
    "FEATS_FOLDER_PATH = os.path.join(RESULTS_FOLDER_PATH, 'features')\n",
    "VOTES_FILE_PATH = os.path.join(RESULTS_FOLDER_PATH, 'votes_summary.csv')\n",
    "IMAGES_FOLDER_PATH = os.path.join(PROJECT_ROOT, 'imgs')"
   ]
  },
  {
   "cell_type": "code",
   "execution_count": 3,
   "id": "663eb28f",
   "metadata": {},
   "outputs": [],
   "source": [
    "# Execution parameters\n",
    "DATA_ID = 'color_hist' # ['incv3_feats', 'incv1_feats', 'color_hist']\n",
    "SIM_METRIC_ID = 'euclid' # ['euclid', 'cosine']\n",
    "FULL_ID = DATA_ID + '_' + SIM_METRIC_ID\n",
    "VOTE_PRT_TYPE = 'avg-votes' # ['avg-votes']\n",
    "FEAT_PRT_TYPE = 'avg-feats' # ['avgf-feats', 'pca']\n",
    "VOTE_PRED_TYPE = 'prt-based' # ['prt-based', 'prtless', 'pca-proj']\n",
    "TIMER_ID = 'timeit' # ['timeit', 'time']\n",
    "K_RANGE = [1, 3, 5, 7, 10] # list-like\n",
    "PERF_METRIC_ID = 'rmse' # ['rmse', 'manhattan']\n",
    "OVERWRITE_CL_PARAMS = True\n",
    "SEED = 42 # Highly recommended to leave it at 42"
   ]
  },
  {
   "cell_type": "code",
   "execution_count": 4,
   "id": "20ad1e01",
   "metadata": {},
   "outputs": [],
   "source": [
    "# Additional configuration\n",
    "tictoc = timeit.default_timer if TIMER_ID == 'timeit' else time.time"
   ]
  },
  {
   "cell_type": "markdown",
   "id": "8ae22314",
   "metadata": {},
   "source": [
    "## Loading Data"
   ]
  },
  {
   "cell_type": "code",
   "execution_count": 5,
   "id": "b3e47ab3",
   "metadata": {},
   "outputs": [],
   "source": [
    "def gen_file_paths(feat_type, sim_type, feats_folder_path, sim_mx_folder_path):\n",
    "    # Gen features file path\n",
    "    feats_file_name = f'{feat_type}.csv'\n",
    "    feats_file_path = os.path.join(feats_folder_path, feats_file_name)\n",
    "    # Gen. sim. matrix. file path\n",
    "    sim_mx_file_name = f'{feat_type}_{sim_type}_sim_matrix.csv'\n",
    "    sim_mx_file_path = os.path.join(sim_mx_folder_path, sim_mx_file_name)\n",
    "    return feats_file_path, sim_mx_file_path"
   ]
  },
  {
   "cell_type": "code",
   "execution_count": 6,
   "id": "fbc7b46a",
   "metadata": {},
   "outputs": [],
   "source": [
    "# Features and similarity matrix files\n",
    "FEATS_FILE_PATH, SIM_MX_FILE_PATH = gen_file_paths(DATA_ID, SIM_METRIC_ID, FEATS_FOLDER_PATH, SIM_MXS_FOLDER_PATH)"
   ]
  },
  {
   "cell_type": "markdown",
   "id": "9b5831b1",
   "metadata": {},
   "source": [
    "#### Features"
   ]
  },
  {
   "cell_type": "code",
   "execution_count": 7,
   "id": "c300e5bd",
   "metadata": {},
   "outputs": [
    {
     "data": {
      "text/html": [
       "<div>\n",
       "<style scoped>\n",
       "    .dataframe tbody tr th:only-of-type {\n",
       "        vertical-align: middle;\n",
       "    }\n",
       "\n",
       "    .dataframe tbody tr th {\n",
       "        vertical-align: top;\n",
       "    }\n",
       "\n",
       "    .dataframe thead th {\n",
       "        text-align: right;\n",
       "    }\n",
       "</style>\n",
       "<table border=\"1\" class=\"dataframe\">\n",
       "  <thead>\n",
       "    <tr style=\"text-align: right;\">\n",
       "      <th></th>\n",
       "      <th>0</th>\n",
       "      <th>1</th>\n",
       "      <th>2</th>\n",
       "      <th>3</th>\n",
       "      <th>4</th>\n",
       "      <th>5</th>\n",
       "      <th>6</th>\n",
       "      <th>7</th>\n",
       "      <th>8</th>\n",
       "      <th>9</th>\n",
       "      <th>...</th>\n",
       "      <th>758</th>\n",
       "      <th>759</th>\n",
       "      <th>760</th>\n",
       "      <th>761</th>\n",
       "      <th>762</th>\n",
       "      <th>763</th>\n",
       "      <th>764</th>\n",
       "      <th>765</th>\n",
       "      <th>766</th>\n",
       "      <th>767</th>\n",
       "    </tr>\n",
       "  </thead>\n",
       "  <tbody>\n",
       "    <tr>\n",
       "      <th>1222__pool_table__0.9999995.jpg</th>\n",
       "      <td>178</td>\n",
       "      <td>51</td>\n",
       "      <td>43</td>\n",
       "      <td>49</td>\n",
       "      <td>37</td>\n",
       "      <td>40</td>\n",
       "      <td>54</td>\n",
       "      <td>57</td>\n",
       "      <td>57</td>\n",
       "      <td>54</td>\n",
       "      <td>...</td>\n",
       "      <td>8</td>\n",
       "      <td>5</td>\n",
       "      <td>12</td>\n",
       "      <td>9</td>\n",
       "      <td>13</td>\n",
       "      <td>14</td>\n",
       "      <td>12</td>\n",
       "      <td>12</td>\n",
       "      <td>7</td>\n",
       "      <td>51</td>\n",
       "    </tr>\n",
       "    <tr>\n",
       "      <th>1328__coil__0.99999607.jpg</th>\n",
       "      <td>47</td>\n",
       "      <td>39</td>\n",
       "      <td>66</td>\n",
       "      <td>118</td>\n",
       "      <td>112</td>\n",
       "      <td>134</td>\n",
       "      <td>143</td>\n",
       "      <td>164</td>\n",
       "      <td>194</td>\n",
       "      <td>230</td>\n",
       "      <td>...</td>\n",
       "      <td>97</td>\n",
       "      <td>114</td>\n",
       "      <td>127</td>\n",
       "      <td>188</td>\n",
       "      <td>211</td>\n",
       "      <td>172</td>\n",
       "      <td>121</td>\n",
       "      <td>90</td>\n",
       "      <td>61</td>\n",
       "      <td>186</td>\n",
       "    </tr>\n",
       "    <tr>\n",
       "      <th>134__zebra__0.9999949.jpg</th>\n",
       "      <td>0</td>\n",
       "      <td>0</td>\n",
       "      <td>1</td>\n",
       "      <td>1</td>\n",
       "      <td>4</td>\n",
       "      <td>4</td>\n",
       "      <td>7</td>\n",
       "      <td>5</td>\n",
       "      <td>12</td>\n",
       "      <td>8</td>\n",
       "      <td>...</td>\n",
       "      <td>34</td>\n",
       "      <td>17</td>\n",
       "      <td>40</td>\n",
       "      <td>14</td>\n",
       "      <td>25</td>\n",
       "      <td>12</td>\n",
       "      <td>2</td>\n",
       "      <td>4</td>\n",
       "      <td>2</td>\n",
       "      <td>13</td>\n",
       "    </tr>\n",
       "  </tbody>\n",
       "</table>\n",
       "<p>3 rows × 768 columns</p>\n",
       "</div>"
      ],
      "text/plain": [
       "                                   0   1   2    3    4    5    6    7    8  \\\n",
       "1222__pool_table__0.9999995.jpg  178  51  43   49   37   40   54   57   57   \n",
       "1328__coil__0.99999607.jpg        47  39  66  118  112  134  143  164  194   \n",
       "134__zebra__0.9999949.jpg          0   0   1    1    4    4    7    5   12   \n",
       "\n",
       "                                   9  ...  758  759  760  761  762  763  764  \\\n",
       "1222__pool_table__0.9999995.jpg   54  ...    8    5   12    9   13   14   12   \n",
       "1328__coil__0.99999607.jpg       230  ...   97  114  127  188  211  172  121   \n",
       "134__zebra__0.9999949.jpg          8  ...   34   17   40   14   25   12    2   \n",
       "\n",
       "                                 765  766  767  \n",
       "1222__pool_table__0.9999995.jpg   12    7   51  \n",
       "1328__coil__0.99999607.jpg        90   61  186  \n",
       "134__zebra__0.9999949.jpg          4    2   13  \n",
       "\n",
       "[3 rows x 768 columns]"
      ]
     },
     "execution_count": 7,
     "metadata": {},
     "output_type": "execute_result"
    }
   ],
   "source": [
    "feats_df = pd.read_csv(FEATS_FILE_PATH, index_col=0)\n",
    "feats_df.head(3)"
   ]
  },
  {
   "cell_type": "markdown",
   "id": "3b3f7314",
   "metadata": {},
   "source": [
    "#### Data (Sim. Matrix between images)"
   ]
  },
  {
   "cell_type": "code",
   "execution_count": 8,
   "id": "ce1d89ee",
   "metadata": {},
   "outputs": [
    {
     "data": {
      "text/html": [
       "<div>\n",
       "<style scoped>\n",
       "    .dataframe tbody tr th:only-of-type {\n",
       "        vertical-align: middle;\n",
       "    }\n",
       "\n",
       "    .dataframe tbody tr th {\n",
       "        vertical-align: top;\n",
       "    }\n",
       "\n",
       "    .dataframe thead th {\n",
       "        text-align: right;\n",
       "    }\n",
       "</style>\n",
       "<table border=\"1\" class=\"dataframe\">\n",
       "  <thead>\n",
       "    <tr style=\"text-align: right;\">\n",
       "      <th></th>\n",
       "      <th>1222__pool_table__0.9999995.jpg</th>\n",
       "      <th>1328__coil__0.99999607.jpg</th>\n",
       "      <th>134__zebra__0.9999949.jpg</th>\n",
       "      <th>2377471__pizza__0.9999988.jpg</th>\n",
       "      <th>2377620__zebra__0.9999882.jpg</th>\n",
       "      <th>2377698__zebra__0.9999999.jpg</th>\n",
       "      <th>2378170__zebra__0.9999902.jpg</th>\n",
       "      <th>2378358__park_bench__0.99999833.jpg</th>\n",
       "      <th>2378523__banana__0.99999785.jpg</th>\n",
       "      <th>2379086__zebra__0.9999975.jpg</th>\n",
       "      <th>...</th>\n",
       "      <th>2417881__zebra__0.9999945.jpg</th>\n",
       "      <th>2417938__banana__0.9999944.jpg</th>\n",
       "      <th>4099__pool_table__0.9999945.jpg</th>\n",
       "      <th>4339__manhole_cover__0.99999416.jpg</th>\n",
       "      <th>4534__viaduct__0.9999877.jpg</th>\n",
       "      <th>4573__barrel__0.9999974.jpg</th>\n",
       "      <th>4673__triumphal_arch__0.9999893.jpg</th>\n",
       "      <th>576__gondola__0.9999993.jpg</th>\n",
       "      <th>577__gondola__0.9999962.jpg</th>\n",
       "      <th>691__cheetah__0.99999213.jpg</th>\n",
       "    </tr>\n",
       "  </thead>\n",
       "  <tbody>\n",
       "    <tr>\n",
       "      <th>1222__pool_table__0.9999995.jpg</th>\n",
       "      <td>0.000000</td>\n",
       "      <td>6285.621051</td>\n",
       "      <td>14593.537679</td>\n",
       "      <td>5772.380618</td>\n",
       "      <td>11441.225721</td>\n",
       "      <td>11880.166834</td>\n",
       "      <td>9123.238350</td>\n",
       "      <td>5983.605101</td>\n",
       "      <td>7356.368941</td>\n",
       "      <td>8848.581129</td>\n",
       "      <td>...</td>\n",
       "      <td>10007.829435</td>\n",
       "      <td>8019.789274</td>\n",
       "      <td>10733.466448</td>\n",
       "      <td>9367.552722</td>\n",
       "      <td>8243.123316</td>\n",
       "      <td>7766.734835</td>\n",
       "      <td>7264.524073</td>\n",
       "      <td>9446.944797</td>\n",
       "      <td>7846.279883</td>\n",
       "      <td>8571.525069</td>\n",
       "    </tr>\n",
       "    <tr>\n",
       "      <th>1328__coil__0.99999607.jpg</th>\n",
       "      <td>6285.621051</td>\n",
       "      <td>0.000000</td>\n",
       "      <td>12651.202235</td>\n",
       "      <td>4392.810718</td>\n",
       "      <td>9290.190310</td>\n",
       "      <td>10232.351538</td>\n",
       "      <td>6772.767824</td>\n",
       "      <td>4410.541237</td>\n",
       "      <td>7820.760705</td>\n",
       "      <td>6133.401177</td>\n",
       "      <td>...</td>\n",
       "      <td>7638.769273</td>\n",
       "      <td>5194.897304</td>\n",
       "      <td>8131.912321</td>\n",
       "      <td>6862.227918</td>\n",
       "      <td>6088.735008</td>\n",
       "      <td>7629.691999</td>\n",
       "      <td>3859.095749</td>\n",
       "      <td>7329.847611</td>\n",
       "      <td>5987.893787</td>\n",
       "      <td>6005.235050</td>\n",
       "    </tr>\n",
       "    <tr>\n",
       "      <th>134__zebra__0.9999949.jpg</th>\n",
       "      <td>14593.537679</td>\n",
       "      <td>12651.202235</td>\n",
       "      <td>0.000000</td>\n",
       "      <td>13183.485427</td>\n",
       "      <td>15001.600315</td>\n",
       "      <td>14800.066284</td>\n",
       "      <td>12944.626144</td>\n",
       "      <td>14127.997947</td>\n",
       "      <td>13790.634141</td>\n",
       "      <td>13337.084014</td>\n",
       "      <td>...</td>\n",
       "      <td>13134.598129</td>\n",
       "      <td>13174.048960</td>\n",
       "      <td>11249.446564</td>\n",
       "      <td>13218.859331</td>\n",
       "      <td>11597.730726</td>\n",
       "      <td>14856.417065</td>\n",
       "      <td>11823.161168</td>\n",
       "      <td>13457.201195</td>\n",
       "      <td>13181.741160</td>\n",
       "      <td>12538.407634</td>\n",
       "    </tr>\n",
       "  </tbody>\n",
       "</table>\n",
       "<p>3 rows × 198 columns</p>\n",
       "</div>"
      ],
      "text/plain": [
       "                                 1222__pool_table__0.9999995.jpg  \\\n",
       "1222__pool_table__0.9999995.jpg                         0.000000   \n",
       "1328__coil__0.99999607.jpg                           6285.621051   \n",
       "134__zebra__0.9999949.jpg                           14593.537679   \n",
       "\n",
       "                                 1328__coil__0.99999607.jpg  \\\n",
       "1222__pool_table__0.9999995.jpg                 6285.621051   \n",
       "1328__coil__0.99999607.jpg                         0.000000   \n",
       "134__zebra__0.9999949.jpg                      12651.202235   \n",
       "\n",
       "                                 134__zebra__0.9999949.jpg  \\\n",
       "1222__pool_table__0.9999995.jpg               14593.537679   \n",
       "1328__coil__0.99999607.jpg                    12651.202235   \n",
       "134__zebra__0.9999949.jpg                         0.000000   \n",
       "\n",
       "                                 2377471__pizza__0.9999988.jpg  \\\n",
       "1222__pool_table__0.9999995.jpg                    5772.380618   \n",
       "1328__coil__0.99999607.jpg                         4392.810718   \n",
       "134__zebra__0.9999949.jpg                         13183.485427   \n",
       "\n",
       "                                 2377620__zebra__0.9999882.jpg  \\\n",
       "1222__pool_table__0.9999995.jpg                   11441.225721   \n",
       "1328__coil__0.99999607.jpg                         9290.190310   \n",
       "134__zebra__0.9999949.jpg                         15001.600315   \n",
       "\n",
       "                                 2377698__zebra__0.9999999.jpg  \\\n",
       "1222__pool_table__0.9999995.jpg                   11880.166834   \n",
       "1328__coil__0.99999607.jpg                        10232.351538   \n",
       "134__zebra__0.9999949.jpg                         14800.066284   \n",
       "\n",
       "                                 2378170__zebra__0.9999902.jpg  \\\n",
       "1222__pool_table__0.9999995.jpg                    9123.238350   \n",
       "1328__coil__0.99999607.jpg                         6772.767824   \n",
       "134__zebra__0.9999949.jpg                         12944.626144   \n",
       "\n",
       "                                 2378358__park_bench__0.99999833.jpg  \\\n",
       "1222__pool_table__0.9999995.jpg                          5983.605101   \n",
       "1328__coil__0.99999607.jpg                               4410.541237   \n",
       "134__zebra__0.9999949.jpg                               14127.997947   \n",
       "\n",
       "                                 2378523__banana__0.99999785.jpg  \\\n",
       "1222__pool_table__0.9999995.jpg                      7356.368941   \n",
       "1328__coil__0.99999607.jpg                           7820.760705   \n",
       "134__zebra__0.9999949.jpg                           13790.634141   \n",
       "\n",
       "                                 2379086__zebra__0.9999975.jpg  ...  \\\n",
       "1222__pool_table__0.9999995.jpg                    8848.581129  ...   \n",
       "1328__coil__0.99999607.jpg                         6133.401177  ...   \n",
       "134__zebra__0.9999949.jpg                         13337.084014  ...   \n",
       "\n",
       "                                 2417881__zebra__0.9999945.jpg  \\\n",
       "1222__pool_table__0.9999995.jpg                   10007.829435   \n",
       "1328__coil__0.99999607.jpg                         7638.769273   \n",
       "134__zebra__0.9999949.jpg                         13134.598129   \n",
       "\n",
       "                                 2417938__banana__0.9999944.jpg  \\\n",
       "1222__pool_table__0.9999995.jpg                     8019.789274   \n",
       "1328__coil__0.99999607.jpg                          5194.897304   \n",
       "134__zebra__0.9999949.jpg                          13174.048960   \n",
       "\n",
       "                                 4099__pool_table__0.9999945.jpg  \\\n",
       "1222__pool_table__0.9999995.jpg                     10733.466448   \n",
       "1328__coil__0.99999607.jpg                           8131.912321   \n",
       "134__zebra__0.9999949.jpg                           11249.446564   \n",
       "\n",
       "                                 4339__manhole_cover__0.99999416.jpg  \\\n",
       "1222__pool_table__0.9999995.jpg                          9367.552722   \n",
       "1328__coil__0.99999607.jpg                               6862.227918   \n",
       "134__zebra__0.9999949.jpg                               13218.859331   \n",
       "\n",
       "                                 4534__viaduct__0.9999877.jpg  \\\n",
       "1222__pool_table__0.9999995.jpg                   8243.123316   \n",
       "1328__coil__0.99999607.jpg                        6088.735008   \n",
       "134__zebra__0.9999949.jpg                        11597.730726   \n",
       "\n",
       "                                 4573__barrel__0.9999974.jpg  \\\n",
       "1222__pool_table__0.9999995.jpg                  7766.734835   \n",
       "1328__coil__0.99999607.jpg                       7629.691999   \n",
       "134__zebra__0.9999949.jpg                       14856.417065   \n",
       "\n",
       "                                 4673__triumphal_arch__0.9999893.jpg  \\\n",
       "1222__pool_table__0.9999995.jpg                          7264.524073   \n",
       "1328__coil__0.99999607.jpg                               3859.095749   \n",
       "134__zebra__0.9999949.jpg                               11823.161168   \n",
       "\n",
       "                                 576__gondola__0.9999993.jpg  \\\n",
       "1222__pool_table__0.9999995.jpg                  9446.944797   \n",
       "1328__coil__0.99999607.jpg                       7329.847611   \n",
       "134__zebra__0.9999949.jpg                       13457.201195   \n",
       "\n",
       "                                 577__gondola__0.9999962.jpg  \\\n",
       "1222__pool_table__0.9999995.jpg                  7846.279883   \n",
       "1328__coil__0.99999607.jpg                       5987.893787   \n",
       "134__zebra__0.9999949.jpg                       13181.741160   \n",
       "\n",
       "                                 691__cheetah__0.99999213.jpg  \n",
       "1222__pool_table__0.9999995.jpg                   8571.525069  \n",
       "1328__coil__0.99999607.jpg                        6005.235050  \n",
       "134__zebra__0.9999949.jpg                        12538.407634  \n",
       "\n",
       "[3 rows x 198 columns]"
      ]
     },
     "execution_count": 8,
     "metadata": {},
     "output_type": "execute_result"
    }
   ],
   "source": [
    "sim_mx_df = pd.read_csv(SIM_MX_FILE_PATH, index_col=0)\n",
    "sim_mx_df.head(3)"
   ]
  },
  {
   "cell_type": "markdown",
   "id": "4df262a4",
   "metadata": {},
   "source": [
    "#### Votes"
   ]
  },
  {
   "cell_type": "code",
   "execution_count": 9,
   "id": "3c1abfc7",
   "metadata": {},
   "outputs": [
    {
     "data": {
      "text/html": [
       "<div>\n",
       "<style scoped>\n",
       "    .dataframe tbody tr th:only-of-type {\n",
       "        vertical-align: middle;\n",
       "    }\n",
       "\n",
       "    .dataframe tbody tr th {\n",
       "        vertical-align: top;\n",
       "    }\n",
       "\n",
       "    .dataframe thead th {\n",
       "        text-align: right;\n",
       "    }\n",
       "</style>\n",
       "<table border=\"1\" class=\"dataframe\">\n",
       "  <thead>\n",
       "    <tr style=\"text-align: right;\">\n",
       "      <th></th>\n",
       "      <th>ig</th>\n",
       "      <th>lime</th>\n",
       "      <th>xrai</th>\n",
       "      <th>anchor</th>\n",
       "      <th>best</th>\n",
       "    </tr>\n",
       "  </thead>\n",
       "  <tbody>\n",
       "    <tr>\n",
       "      <th>1222__pool_table__0.9999995.jpg</th>\n",
       "      <td>12</td>\n",
       "      <td>13</td>\n",
       "      <td>3</td>\n",
       "      <td>1</td>\n",
       "      <td>lime</td>\n",
       "    </tr>\n",
       "    <tr>\n",
       "      <th>1328__coil__0.99999607.jpg</th>\n",
       "      <td>17</td>\n",
       "      <td>4</td>\n",
       "      <td>3</td>\n",
       "      <td>2</td>\n",
       "      <td>ig</td>\n",
       "    </tr>\n",
       "    <tr>\n",
       "      <th>134__zebra__0.9999949.jpg</th>\n",
       "      <td>14</td>\n",
       "      <td>1</td>\n",
       "      <td>8</td>\n",
       "      <td>2</td>\n",
       "      <td>ig</td>\n",
       "    </tr>\n",
       "  </tbody>\n",
       "</table>\n",
       "</div>"
      ],
      "text/plain": [
       "                                 ig  lime  xrai  anchor  best\n",
       "1222__pool_table__0.9999995.jpg  12    13     3       1  lime\n",
       "1328__coil__0.99999607.jpg       17     4     3       2    ig\n",
       "134__zebra__0.9999949.jpg        14     1     8       2    ig"
      ]
     },
     "execution_count": 9,
     "metadata": {},
     "output_type": "execute_result"
    }
   ],
   "source": [
    "votes_df = pd.read_csv(VOTES_FILE_PATH, index_col=0)\n",
    "votes_df.head(3)"
   ]
  },
  {
   "cell_type": "markdown",
   "id": "2d00e40a",
   "metadata": {},
   "source": [
    "Here's a sanity check for vote proportion in our the dataset. In the original XAI-CBR paper, vote proportion was like this:\n",
    "- IG: 45%\n",
    "- XRAI: 30%\n",
    "- LIME: 18%\n",
    "- ANCHOR: 7%\n",
    "\n",
    "Also, IG was the most voted technique, at least by hard voting aggregation, with a majority of 62% images.\n"
   ]
  },
  {
   "cell_type": "code",
   "execution_count": 10,
   "id": "ec98d4da",
   "metadata": {},
   "outputs": [
    {
     "data": {
      "text/plain": [
       "ig        0.488315\n",
       "xrai      0.271713\n",
       "lime      0.183467\n",
       "anchor    0.056505\n",
       "dtype: float64"
      ]
     },
     "execution_count": 10,
     "metadata": {},
     "output_type": "execute_result"
    }
   ],
   "source": [
    "votes_per_technique = votes_df[['ig', 'xrai', 'lime', 'anchor']].sum()\n",
    "total_votes = votes_per_technique.sum()\n",
    "votes_per_technique / total_votes"
   ]
  },
  {
   "cell_type": "markdown",
   "id": "e3dae6de",
   "metadata": {},
   "source": [
    "There's a slight variation of these proportions with respect to ones presented in the paper. It seems like some votes from XRAI and ANCHOR techniques drifted out to the IG technique. We'll check this out later, this should not be of great importance in the experiments of this notebook."
   ]
  },
  {
   "cell_type": "markdown",
   "id": "40d170cd",
   "metadata": {},
   "source": [
    "## Data Preprocessing"
   ]
  },
  {
   "cell_type": "code",
   "execution_count": 11,
   "id": "6346cd72",
   "metadata": {},
   "outputs": [],
   "source": [
    "X = sim_mx_df.values # Values from sim. matrix\n",
    "X_names = sim_mx_df.index.values # Names of every image\n",
    "y = votes_df.values[:, :4] # Vote count for each imae\n",
    "best = votes_df.values[:, -1] # Most voted technique for each image"
   ]
  },
  {
   "cell_type": "code",
   "execution_count": 12,
   "id": "21779c36",
   "metadata": {},
   "outputs": [
    {
     "name": "stdout",
     "output_type": "stream",
     "text": [
      "(198, 198) (198,) (198, 4) (198,)\n"
     ]
    }
   ],
   "source": [
    "print(X.shape, X_names.shape, y.shape, best.shape)"
   ]
  },
  {
   "cell_type": "markdown",
   "id": "fdd0fc9e",
   "metadata": {},
   "source": [
    "#### Instance deletion\n",
    "Stratified Subsampling cannot be performed onto the dataset because only one instance is best explained with ANCHOR. Due to the very small importance of that instance in the dataset, we will continue without that instance (i.e. we will find that instance and remove it from the dataset)."
   ]
  },
  {
   "cell_type": "code",
   "execution_count": 13,
   "id": "17c8b23f",
   "metadata": {},
   "outputs": [
    {
     "data": {
      "text/plain": [
       "array([155], dtype=int64)"
      ]
     },
     "execution_count": 13,
     "metadata": {},
     "output_type": "execute_result"
    }
   ],
   "source": [
    "# At what index is the anchor instance located?\n",
    "anchor_idxs = np.argwhere(best == 'anchor')[0]\n",
    "anchor_idxs"
   ]
  },
  {
   "cell_type": "code",
   "execution_count": 14,
   "id": "9604b529",
   "metadata": {},
   "outputs": [
    {
     "data": {
      "text/plain": [
       "(array(['2411942__zebra__0.99999654.jpg'], dtype=object),\n",
       " array(['anchor'], dtype=object))"
      ]
     },
     "execution_count": 14,
     "metadata": {},
     "output_type": "execute_result"
    }
   ],
   "source": [
    "# What's the name of that image and its associated technique?\n",
    "X_names[anchor_idxs], best[anchor_idxs]"
   ]
  },
  {
   "cell_type": "code",
   "execution_count": 15,
   "id": "af90a355",
   "metadata": {},
   "outputs": [],
   "source": [
    "# Delete that instance from all data partitions (X, y, etc.)\n",
    "X = np.delete(X, anchor_idxs, axis=0)\n",
    "X = np.delete(X, anchor_idxs, axis=1) # Twice in sim. matrix (both rows and columns)\n",
    "X_names = np.delete(X_names, anchor_idxs, axis=0)\n",
    "y = np.delete(y, anchor_idxs, axis=0)\n",
    "best = np.delete(best, anchor_idxs, axis=0)"
   ]
  },
  {
   "cell_type": "code",
   "execution_count": 16,
   "id": "e1affd0c",
   "metadata": {},
   "outputs": [
    {
     "name": "stdout",
     "output_type": "stream",
     "text": [
      "(197, 197) (197,) (197, 4) (197,)\n"
     ]
    }
   ],
   "source": [
    "print(X.shape, X_names.shape, y.shape, best.shape)"
   ]
  },
  {
   "cell_type": "markdown",
   "id": "560838e3",
   "metadata": {},
   "source": [
    "## Splitting and Fold Creation"
   ]
  },
  {
   "cell_type": "code",
   "execution_count": 17,
   "id": "e7f76da6",
   "metadata": {},
   "outputs": [],
   "source": [
    "from sklearn.model_selection import StratifiedShuffleSplit as SSS\n",
    "from sklearn.model_selection import ShuffleSplit as SS"
   ]
  },
  {
   "cell_type": "code",
   "execution_count": 18,
   "id": "13a36dbb",
   "metadata": {},
   "outputs": [],
   "source": [
    "# Change this constant to toogle stratified sampling on/off\n",
    "STRATIFIED = True"
   ]
  },
  {
   "cell_type": "code",
   "execution_count": 19,
   "id": "8714f28d",
   "metadata": {},
   "outputs": [],
   "source": [
    "# Perform split\n",
    "splitter = None\n",
    "if STRATIFIED: splitter = SSS(n_splits=5, test_size=0.2, random_state=42)\n",
    "else: splitter = SS(n_splits=5, test_size=0.2, random_state=42)\n",
    "splits = splitter.split(X, best)\n",
    "splits = list(splits)"
   ]
  },
  {
   "cell_type": "code",
   "execution_count": 20,
   "id": "e462e6c0",
   "metadata": {},
   "outputs": [
    {
     "data": {
      "text/plain": [
       "(array([192, 147, 177,  11, 140,  51, 127, 118, 172, 191,  62, 124, 115,\n",
       "         80, 190, 142,  92,  69,  25,  14,  42,   3, 185,  90,  10,  76,\n",
       "        176, 114,  44,  98, 166, 121,  79, 170,   1, 183,  28,  31, 155,\n",
       "         75, 156, 101, 171,  13, 110, 122,  38,  27, 136,  20,   6,  56,\n",
       "         35,  59, 139,  33,  78,  82,  21, 167, 117,  12,  49,  15,   5,\n",
       "        152, 132,  81,  61, 163, 175,  91,   7, 174, 135,  74, 193, 129,\n",
       "         60,  96,  50, 161, 159, 145, 126,  19,  65, 188,  73,  89, 133,\n",
       "        179,  40,  86, 112,  26, 168, 189, 149,  94, 194,  18, 138, 169,\n",
       "        102,  97,  71, 130,  53,  99, 148, 154,   8,  34, 182, 105,  55,\n",
       "         95, 153,  72, 144,  77,  52,  30,   9,  37,   4,  93, 128, 137,\n",
       "        195, 160, 111,  45, 164, 151,  29,  48,  70,  43,  57, 157,  39,\n",
       "        141,  85, 150,  67,   0,  47, 113,  32,  17, 131, 180,  66, 100,\n",
       "        186], dtype=int64),\n",
       " array([ 54, 187, 103,  23, 104, 108, 181,  64, 109, 134,  16, 146,   2,\n",
       "        116, 106, 119, 165,  41, 120, 178, 173, 125,  58, 184,  36,  63,\n",
       "        107,  24, 162,  83,  84,  88, 123,  46, 143,  87,  22, 196,  68,\n",
       "        158], dtype=int64))"
      ]
     },
     "execution_count": 20,
     "metadata": {},
     "output_type": "execute_result"
    }
   ],
   "source": [
    "splits[0]"
   ]
  },
  {
   "cell_type": "markdown",
   "id": "79b07470",
   "metadata": {},
   "source": [
    "## Clustering (using DBSCAN)"
   ]
  },
  {
   "cell_type": "code",
   "execution_count": 21,
   "id": "dcd2656a",
   "metadata": {},
   "outputs": [],
   "source": [
    "clusterable_params = []"
   ]
  },
  {
   "cell_type": "code",
   "execution_count": 22,
   "id": "ef8cf992",
   "metadata": {},
   "outputs": [],
   "source": [
    "from sklearn.cluster import DBSCAN\n",
    "from sklearn.metrics import silhouette_score"
   ]
  },
  {
   "cell_type": "code",
   "execution_count": 23,
   "id": "62b889cb",
   "metadata": {},
   "outputs": [],
   "source": [
    "def get_sim_mx_subset(sim_mx_values, filter_idxs):\n",
    "    return sim_mx_values.take(filter_idxs, axis=0).take(filter_idxs, axis=1)"
   ]
  },
  {
   "cell_type": "code",
   "execution_count": 24,
   "id": "04b48187",
   "metadata": {},
   "outputs": [],
   "source": [
    "def fit_dbscan_sim_mx(data, min_samples, eps_values, \n",
    "               min_no_clusters=5, max_no_clusters=np.inf,\n",
    "               min_clust_instances=None, min_clust_instances_pct=0.85,\n",
    "               max_clust_instances=np.inf):\n",
    "    '''Performs several DBSCAN clustering runs according to a parameter search grid (using m and epsilon).\n",
    "    Also, verifies different clustering conditions and calculates sil. score of all valid clustering runs.'''\n",
    "    # Condition precalculation\n",
    "    if min_clust_instances_pct: # If % was defined\n",
    "        min_clust_instances = round(data.shape[0] * min_clust_instances_pct)\n",
    "    elif not min_clust_instances: # Else, if nominal amount was not specified\n",
    "        min_clust_instances = 100\n",
    "    # Code\n",
    "    scores, clusters, instances = [], [], []\n",
    "    for m in min_samples:\n",
    "        row_scores, row_clusters, row_instances = [], [], []\n",
    "        for e in eps_values:\n",
    "            db = DBSCAN(min_samples=m, eps=e, metric='precomputed').fit(data)\n",
    "            # Get only non anomalous instances and indices\n",
    "            non_a = db.labels_ != -1 # [False, ..., False] if all are outliers\n",
    "            non_a_idxs = np.argwhere(non_a==True)\n",
    "            non_a_idxs = non_a_idxs.reshape(non_a_idxs.shape[0]) # flatten matrix to 1D\n",
    "            # Calculate conditions\n",
    "            n_clusters = len(np.unique(db.labels_[non_a])) # 0 if all are outliers\n",
    "            n_instances = len(db.labels_[non_a]) # 0 if all are outliers\n",
    "            # Apply conditions\n",
    "            valid_n_clusters = n_clusters >= min_no_clusters and n_clusters <= max_no_clusters\n",
    "            valid_n_cl_instances = n_instances >= min_clust_instances and n_instances <= max_clust_instances\n",
    "            if (valid_n_clusters and valid_n_cl_instances):\n",
    "                # Calculate silhouette score without noise points (i.e. anomalous instances)\n",
    "                non_a_sim_mx = get_sim_mx_subset(data, non_a_idxs)\n",
    "                score = silhouette_score(non_a_sim_mx, db.labels_[non_a], metric='precomputed')\n",
    "            else:\n",
    "                score = None\n",
    "            # Store results\n",
    "            row_scores.append(score)\n",
    "            row_clusters.append(n_clusters)\n",
    "            row_instances.append(n_instances)\n",
    "        # Store row results\n",
    "        scores.append(row_scores)\n",
    "        clusters.append(row_clusters)\n",
    "        instances.append(row_instances)\n",
    "    # Prepare and return values\n",
    "    ms_axis = pd.Index(min_samples, name='Min_samples')\n",
    "    eps_axis = pd.Index(eps_values, name='Epsilon')\n",
    "    df_scores = pd.DataFrame(scores, index=ms_axis, columns=eps_axis)\n",
    "    df_clusters = pd.DataFrame(clusters, index=ms_axis, columns=eps_axis)\n",
    "    df_instances = pd.DataFrame(instances, index=ms_axis, columns=eps_axis)\n",
    "    return df_scores, df_clusters, df_instances"
   ]
  },
  {
   "cell_type": "code",
   "execution_count": 25,
   "id": "9df9bd15",
   "metadata": {},
   "outputs": [],
   "source": [
    "def print_results(m, eps, scores_df, instances_df, clusters_df):\n",
    "    '''Given clustering results and specific values for m and epsilon parameters,\n",
    "    displays further info. about the clustering obtained using those parameters.\n",
    "    For interactive and visual use only'''\n",
    "    score = round(scores_df.loc[m][eps], 4)\n",
    "    instances = instances_df.loc[m][eps]\n",
    "    clusters = clusters_df.loc[m][eps]\n",
    "    print(f'DBSCAN using parameters m={m} and eps={eps} yields the next clustering results:')\n",
    "    print()\n",
    "    print(f'- Sil. score: {score}')\n",
    "    print(f'- {instances} clustered instances into {clusters} clusters')\n",
    "    print(f'- Avg. of {round(instances/clusters, 2)} instances per cluster')"
   ]
  },
  {
   "cell_type": "code",
   "execution_count": 26,
   "id": "da9e5e22",
   "metadata": {},
   "outputs": [
    {
     "name": "stdout",
     "output_type": "stream",
     "text": [
      "0.7% : about 109.9 instances\n",
      "0.75% : about 117.75 instances\n",
      "0.8% : about 125.6 instances\n",
      "0.85% : about 133.45 instances\n",
      "0.9% : about 141.3 instances\n"
     ]
    }
   ],
   "source": [
    "# What's the equivalence in instances of different clustered proportions of the dataset?\n",
    "for i in np.arange(0.7, 0.95, 0.05):\n",
    "    print(f'{round(i, 2)}% : about {round(X[splits[0][0]].shape[0] * i, 2)} instances')"
   ]
  },
  {
   "cell_type": "markdown",
   "id": "9de7df4f",
   "metadata": {},
   "source": [
    "#### Split #0"
   ]
  },
  {
   "cell_type": "code",
   "execution_count": 27,
   "id": "67d8600e",
   "metadata": {},
   "outputs": [
    {
     "data": {
      "text/plain": [
       "(157, 157)"
      ]
     },
     "execution_count": 27,
     "metadata": {},
     "output_type": "execute_result"
    }
   ],
   "source": [
    "X_split_0 = get_sim_mx_subset(X, splits[0][0])\n",
    "X_split_0.shape"
   ]
  },
  {
   "cell_type": "code",
   "execution_count": 28,
   "id": "c8697572",
   "metadata": {},
   "outputs": [],
   "source": [
    "# dfs, dfc, dfi = fit_dbscan_sim_mx(X_split_0, range(2, 8), range(10, 18))\n",
    "# dfs"
   ]
  },
  {
   "cell_type": "code",
   "execution_count": 29,
   "id": "b7204b38",
   "metadata": {},
   "outputs": [],
   "source": [
    "# print_results(2, 11, dfs, dfi, dfc)"
   ]
  },
  {
   "cell_type": "code",
   "execution_count": 30,
   "id": "c0db8527",
   "metadata": {},
   "outputs": [],
   "source": [
    "# clusterable_params.append([2, 11, 0])"
   ]
  },
  {
   "cell_type": "markdown",
   "id": "ae21224d",
   "metadata": {},
   "source": [
    "#### Split #1"
   ]
  },
  {
   "cell_type": "code",
   "execution_count": 31,
   "id": "35ecff23",
   "metadata": {},
   "outputs": [
    {
     "data": {
      "text/plain": [
       "(157, 157)"
      ]
     },
     "execution_count": 31,
     "metadata": {},
     "output_type": "execute_result"
    }
   ],
   "source": [
    "X_split_1 = get_sim_mx_subset(X, splits[1][0])\n",
    "X_split_1.shape"
   ]
  },
  {
   "cell_type": "code",
   "execution_count": 32,
   "id": "3d1dc0dc",
   "metadata": {},
   "outputs": [],
   "source": [
    "# dfs, dfc, dfi = fit_dbscan_sim_mx(X_split_1, range(2, 8), range(10, 18))\n",
    "# dfs"
   ]
  },
  {
   "cell_type": "code",
   "execution_count": 33,
   "id": "e41dc26f",
   "metadata": {},
   "outputs": [],
   "source": [
    "# print_results(2, 11, dfs, dfi, dfc)"
   ]
  },
  {
   "cell_type": "code",
   "execution_count": 34,
   "id": "a441ae42",
   "metadata": {},
   "outputs": [],
   "source": [
    "# clusterable_params.append([2, 11, 1])"
   ]
  },
  {
   "cell_type": "markdown",
   "id": "3fc9d59f",
   "metadata": {},
   "source": [
    "#### Split #2"
   ]
  },
  {
   "cell_type": "code",
   "execution_count": 35,
   "id": "f2bad892",
   "metadata": {},
   "outputs": [
    {
     "data": {
      "text/plain": [
       "(157, 157)"
      ]
     },
     "execution_count": 35,
     "metadata": {},
     "output_type": "execute_result"
    }
   ],
   "source": [
    "X_split_2 = get_sim_mx_subset(X, splits[2][0])\n",
    "X_split_2.shape"
   ]
  },
  {
   "cell_type": "code",
   "execution_count": 36,
   "id": "e53593d9",
   "metadata": {},
   "outputs": [],
   "source": [
    "# dfs, dfc, dfi = fit_dbscan_sim_mx(X_split_2, range(2, 8), range(10, 18))\n",
    "# dfs"
   ]
  },
  {
   "cell_type": "code",
   "execution_count": 37,
   "id": "4aa8023d",
   "metadata": {},
   "outputs": [],
   "source": [
    "# print_results(2, 11, dfs, dfi, dfc)"
   ]
  },
  {
   "cell_type": "code",
   "execution_count": 38,
   "id": "a98bc127",
   "metadata": {},
   "outputs": [],
   "source": [
    "# clusterable_params.append([2, 11, 2])"
   ]
  },
  {
   "cell_type": "markdown",
   "id": "2e521ac3",
   "metadata": {},
   "source": [
    "#### Split #3"
   ]
  },
  {
   "cell_type": "code",
   "execution_count": 39,
   "id": "fb37c145",
   "metadata": {},
   "outputs": [
    {
     "data": {
      "text/plain": [
       "(157, 157)"
      ]
     },
     "execution_count": 39,
     "metadata": {},
     "output_type": "execute_result"
    }
   ],
   "source": [
    "X_split_3 = get_sim_mx_subset(X, splits[3][0])\n",
    "X_split_3.shape"
   ]
  },
  {
   "cell_type": "code",
   "execution_count": 40,
   "id": "582f8da4",
   "metadata": {},
   "outputs": [],
   "source": [
    "# dfs, dfc, dfi = fit_dbscan_sim_mx(X_split_3, range(2, 8), range(10, 18))\n",
    "# dfs"
   ]
  },
  {
   "cell_type": "code",
   "execution_count": 41,
   "id": "9cdeeed5",
   "metadata": {},
   "outputs": [],
   "source": [
    "# print_results(2, 11, dfs, dfi, dfc)"
   ]
  },
  {
   "cell_type": "code",
   "execution_count": 42,
   "id": "44111a25",
   "metadata": {},
   "outputs": [],
   "source": [
    "# clusterable_params.append([2, 11, 3])"
   ]
  },
  {
   "cell_type": "markdown",
   "id": "5e13de65",
   "metadata": {},
   "source": [
    "#### Split #4"
   ]
  },
  {
   "cell_type": "code",
   "execution_count": 43,
   "id": "da483ec9",
   "metadata": {},
   "outputs": [
    {
     "data": {
      "text/plain": [
       "(157, 157)"
      ]
     },
     "execution_count": 43,
     "metadata": {},
     "output_type": "execute_result"
    }
   ],
   "source": [
    "X_split_4 = get_sim_mx_subset(X, splits[4][0])\n",
    "X_split_4.shape"
   ]
  },
  {
   "cell_type": "code",
   "execution_count": 44,
   "id": "e8f39259",
   "metadata": {},
   "outputs": [],
   "source": [
    "# dfs, dfc, dfi = fit_dbscan_sim_mx(X_split_4, range(2, 8), range(10, 18))\n",
    "# dfs"
   ]
  },
  {
   "cell_type": "code",
   "execution_count": 45,
   "id": "5f6b8812",
   "metadata": {},
   "outputs": [],
   "source": [
    "# print_results(2, 11, dfs, dfi, dfc)"
   ]
  },
  {
   "cell_type": "code",
   "execution_count": 46,
   "id": "3efb9286",
   "metadata": {},
   "outputs": [],
   "source": [
    "# clusterable_params.append([2, 11, 4])"
   ]
  },
  {
   "cell_type": "markdown",
   "id": "fc81b81c",
   "metadata": {},
   "source": [
    "#### Clusterable parameters for each split\n",
    "They have been stablished before the notebook ran. Clustering section was not removed due to compatibility issues, but clustering parameters are already defined , no matter what the clustering results are."
   ]
  },
  {
   "cell_type": "code",
   "execution_count": 47,
   "id": "5b0fe4d5",
   "metadata": {},
   "outputs": [],
   "source": [
    "def get_clusterable_params(feat_id, sim_metric_id):\n",
    "    cl_params = {\n",
    "        'incv3_feats_euclid': [[2, 11, 0], [2, 11, 1], [2, 11, 2], [2, 11, 3], [2, 11, 4]],\n",
    "        'incv3_feats_cosine': [[2, 0.2, 0], [2, 0.2, 1], [3, 0.25, 2], [2, 0.2, 3], [2, 0.2, 4]],\n",
    "        'color_hist_euclid': [[2, 4800, 0], [2, 4900, 2], [2, 7600, 3], [2, 6400, 4]],\n",
    "        'color_hist_cosine': [[3, 0.16, 0], [2, 0.2, 1], [4, 0.16, 2], [3, 0.2, 3], [2, 0.16, 4]]\n",
    "    }\n",
    "    return cl_params[f'{feat_id}_{sim_metric_id}']"
   ]
  },
  {
   "cell_type": "code",
   "execution_count": 48,
   "id": "c6f74e37",
   "metadata": {},
   "outputs": [],
   "source": [
    "if OVERWRITE_CL_PARAMS:\n",
    "    clusterable_params = get_clusterable_params(DATA_ID, SIM_METRIC_ID)"
   ]
  },
  {
   "cell_type": "code",
   "execution_count": 49,
   "id": "c4fccf1c",
   "metadata": {},
   "outputs": [
    {
     "data": {
      "text/plain": [
       "[[2, 4800, 0], [2, 4900, 2], [2, 7600, 3], [2, 6400, 4]]"
      ]
     },
     "execution_count": 49,
     "metadata": {},
     "output_type": "execute_result"
    }
   ],
   "source": [
    "# [m, epsilon, split_idx]\n",
    "clusterable_params"
   ]
  },
  {
   "cell_type": "markdown",
   "id": "e898ef6d",
   "metadata": {},
   "source": [
    "## Clustering Results"
   ]
  },
  {
   "cell_type": "code",
   "execution_count": 50,
   "id": "c22c4014",
   "metadata": {},
   "outputs": [],
   "source": [
    "def get_indiv_clustering_results(params, split, image_names):\n",
    "    '''Returns a dictionary mapping the name of an image with an integer\n",
    "    representing the cluster it belongs to'''\n",
    "    # Fetch data\n",
    "    train_idxs = split[0]\n",
    "    sim_mx_subset = get_sim_mx_subset(X, train_idxs)\n",
    "    img_names = image_names[train_idxs]\n",
    "    # Perform clustering\n",
    "    dbscan = DBSCAN(min_samples=params[0], eps=params[1], metric='precomputed')\n",
    "    dbscan = dbscan.fit(sim_mx_subset)\n",
    "    # Generate {img_name : label} mapping\n",
    "    name_label_map = {name: label for name, label in zip(img_names, dbscan.labels_)}\n",
    "    return name_label_map\n",
    "\n",
    "def get_global_clustering_results(params_set, splits, image_names):\n",
    "    '''Returns a dictionary mapping the split index of every parameter set\n",
    "    in the 'params_set' arg. with the clustering results generated with that parameter set'''\n",
    "    results = {}\n",
    "    for params in params_set:\n",
    "        split_idx = params[2]\n",
    "        # Create { split_idx: cluster_labels} pair\n",
    "        results[split_idx] = get_indiv_clustering_results(params, splits[split_idx], image_names)\n",
    "    return results"
   ]
  },
  {
   "cell_type": "code",
   "execution_count": 51,
   "id": "8279c64d",
   "metadata": {},
   "outputs": [],
   "source": [
    "global_cl_results = get_global_clustering_results(clusterable_params, splits, X_names)"
   ]
  },
  {
   "cell_type": "code",
   "execution_count": 52,
   "id": "49d7c81a",
   "metadata": {},
   "outputs": [
    {
     "data": {
      "text/plain": [
       "{0: {'4573__barrel__0.9999974.jpg': -1,\n",
       "  '2411372__parking_meter__0.999995.jpg': -1,\n",
       "  '2415910__zebra__0.9999962.jpg': 0,\n",
       "  '2380017__zebra__0.9999995.jpg': 0,\n",
       "  '2410410__ski__0.99999356.jpg': -1,\n",
       "  '2387305__traffic_light__1.0.jpg': -1,\n",
       "  '2408884__zebra__0.9999913.jpg': -1,\n",
       "  '2406581__zebra__0.9999939.jpg': 0,\n",
       "  '2415102__zebra__0.9999876.jpg': -1,\n",
       "  '4534__viaduct__0.9999877.jpg': 0,\n",
       "  '2391862__broccoli__0.99999714.jpg': 0,\n",
       "  '2408592__goose__0.999998.jpg': 0,\n",
       "  '2405479__traffic_light__0.9999939.jpg': -1,\n",
       "  '2396034__remote_control__0.9999856.jpg': 0,\n",
       "  '4339__manhole_cover__0.99999416.jpg': 0,\n",
       "  '2410779__parking_meter__0.99999917.jpg': 0,\n",
       "  '2401383__slug__0.9999933.jpg': 0,\n",
       "  '2392579__zebra__0.9999969.jpg': 1,\n",
       "  '2382183__pizza__0.99998593.jpg': 0,\n",
       "  '2380319__broccoli__0.9999957.jpg': 0,\n",
       "  '2385461__zebra__0.99998415.jpg': 0,\n",
       "  '2377471__pizza__0.9999988.jpg': 0,\n",
       "  '2417421__parking_meter__0.9999999.jpg': 0,\n",
       "  '2401217__traffic_light__0.9999895.jpg': -1,\n",
       "  '2379489__parking_meter__0.9999989.jpg': 0,\n",
       "  '2395038__zebra__0.9999976.jpg': 0,\n",
       "  '2415737__parking_meter__0.99999785.jpg': 0,\n",
       "  '2405280__zebra__0.9999938.jpg': 0,\n",
       "  '2386049__king_penguin__0.99999917.jpg': 0,\n",
       "  '2402264__zebra__0.9999931.jpg': 0,\n",
       "  '2414335__refrigerator__0.9999889.jpg': 0,\n",
       "  '2407130__umbrella__0.9999888.jpg': 0,\n",
       "  '2395787__pizza__0.99999535.jpg': 0,\n",
       "  '2414892__pizza__0.99999857.jpg': 0,\n",
       "  '1328__coil__0.99999607.jpg': 0,\n",
       "  '2417382__zebra__0.9999864.jpg': 0,\n",
       "  '2382589__zebra__0.9999982.jpg': 0,\n",
       "  '2382913__zebra__0.9999883.jpg': 0,\n",
       "  '2412027__school_bus__0.99998724.jpg': 0,\n",
       "  '2394082__street_sign__0.99999905.jpg': 0,\n",
       "  '2412267__zebra__0.9999939.jpg': -1,\n",
       "  '2403199__zebra__0.9999869.jpg': 0,\n",
       "  '2414996__park_bench__0.9999907.jpg': 0,\n",
       "  '2380189__zebra__0.9999993.jpg': 0,\n",
       "  '2404955__banana__0.9999995.jpg': 0,\n",
       "  '2407788__pizza__0.99999785.jpg': 0,\n",
       "  '2385034__zebra__0.9999981.jpg': 0,\n",
       "  '2382474__bow_tie__0.9999982.jpg': 0,\n",
       "  '2409822__steam_locomotive__0.9999906.jpg': 0,\n",
       "  '2381648__zebra__0.9999995.jpg': 0,\n",
       "  '2378170__zebra__0.9999902.jpg': 0,\n",
       "  '2389163__zebra__0.9999957.jpg': 0,\n",
       "  '2384145__street_sign__0.9999987.jpg': -1,\n",
       "  '2390296__umbrella__0.99999106.jpg': 0,\n",
       "  '2410336__zebra__0.99999547.jpg': -1,\n",
       "  '2383569__parking_meter__0.9999988.jpg': 0,\n",
       "  '2395716__pizza__0.9999968.jpg': 0,\n",
       "  '2397486__zebra__0.9999875.jpg': 0,\n",
       "  '2381879__zebra__0.99999523.jpg': 0,\n",
       "  '2414384__ski__0.9999949.jpg': -1,\n",
       "  '2406209__brown_bear__0.999985.jpg': 0,\n",
       "  '2380019__zebra__0.9999926.jpg': -1,\n",
       "  '2387034__zebra__0.9999896.jpg': 0,\n",
       "  '2380447__bullet_train__0.9999869.jpg': 0,\n",
       "  '2377698__zebra__0.9999999.jpg': 0,\n",
       "  '2411665__zebra__0.99998856.jpg': 0,\n",
       "  '2409550__street_sign__0.99999905.jpg': -1,\n",
       "  '2396153__brown_bear__0.9999938.jpg': 0,\n",
       "  '2391701__zebra__0.9999912.jpg': -1,\n",
       "  '2413521__parking_meter__0.99999976.jpg': 0,\n",
       "  '2415648__broccoli__0.9999943.jpg': 0,\n",
       "  '2401224__zebra__0.9999882.jpg': -1,\n",
       "  '2378358__park_bench__0.99999833.jpg': 0,\n",
       "  '2415567__zebra__0.9999902.jpg': -1,\n",
       "  '2409765__zebra__0.99999833.jpg': -1,\n",
       "  '2394019__zebra__0.99999285.jpg': 0,\n",
       "  '4673__triumphal_arch__0.9999893.jpg': 0,\n",
       "  '2409063__zebra__0.999997.jpg': 0,\n",
       "  '2391408__traffic_light__0.99999654.jpg': -1,\n",
       "  '2402056__toilet_seat__0.99999917.jpg': 0,\n",
       "  '2387038__street_sign__0.9999888.jpg': -1,\n",
       "  '2413227__park_bench__0.99998546.jpg': 0,\n",
       "  '2412939__forklift__0.9999883.jpg': 0,\n",
       "  '2411097__zebra__0.9999974.jpg': 0,\n",
       "  '2408719__ski__0.99999297.jpg': -1,\n",
       "  '2380925__zebra__0.9999987.jpg': 0,\n",
       "  '2392124__zebra__0.99999523.jpg': 0,\n",
       "  '2417938__banana__0.9999944.jpg': 0,\n",
       "  '2393774__zebra__0.9999995.jpg': 0,\n",
       "  '2400622__zebra__0.9999901.jpg': 0,\n",
       "  '2409589__zebra__0.99999976.jpg': 0,\n",
       "  '2416408__zebra__0.9999962.jpg': 0,\n",
       "  '2385187__street_sign__0.99999595.jpg': 0,\n",
       "  '2399217__umbrella__0.9999863.jpg': 0,\n",
       "  '2405042__parking_meter__0.99999094.jpg': 0,\n",
       "  '2382436__park_bench__0.99999964.jpg': 0,\n",
       "  '2414513__bagel__0.9999893.jpg': 0,\n",
       "  '4099__pool_table__0.9999945.jpg': 0,\n",
       "  '2411407__zebra__0.9999969.jpg': 0,\n",
       "  '2401906__parking_meter__1.0.jpg': 0,\n",
       "  '576__gondola__0.9999993.jpg': 0,\n",
       "  '2380905__gondola__0.9999888.jpg': -1,\n",
       "  '2410081__parking_meter__1.0.jpg': 0,\n",
       "  '2414760__zebra__0.9999895.jpg': 0,\n",
       "  '2403338__seat_belt__0.99999917.jpg': 0,\n",
       "  '2402132__traffic_light__0.9999951.jpg': -1,\n",
       "  '2392730__pizza__0.9999974.jpg': 0,\n",
       "  '2409266__zebra__0.99999774.jpg': 0,\n",
       "  '2388441__banana__0.9999993.jpg': 0,\n",
       "  '2402745__bullet_train__0.99999857.jpg': 0,\n",
       "  '2411390__parking_meter__0.9999988.jpg': 0,\n",
       "  '2411841__zebra__0.99999833.jpg': 0,\n",
       "  '2378523__banana__0.99999785.jpg': 0,\n",
       "  '2383706__umbrella__0.9999994.jpg': 0,\n",
       "  '2417055__broccoli__0.9999864.jpg': 0,\n",
       "  '2404051__street_sign__0.9999999.jpg': -1,\n",
       "  '2389131__pizza__0.9999943.jpg': 0,\n",
       "  '2401921__zebra__0.99999845.jpg': 0,\n",
       "  '2411784__traffic_light__0.9999945.jpg': 1,\n",
       "  '2392818__park_bench__0.99999.jpg': -1,\n",
       "  '2410974__toilet_seat__0.9999939.jpg': -1,\n",
       "  '2395510__traffic_light__0.9999993.jpg': -1,\n",
       "  '2387437__parking_meter__0.9999839.jpg': 0,\n",
       "  '2382909__zebra__0.9999988.jpg': 0,\n",
       "  '2379086__zebra__0.9999975.jpg': 0,\n",
       "  '2384755__street_sign__0.9999924.jpg': -1,\n",
       "  '2377620__zebra__0.9999882.jpg': -1,\n",
       "  '2401691__pineapple__0.999998.jpg': 0,\n",
       "  '2408970__zebra__0.9999865.jpg': 0,\n",
       "  '2409953__brown_bear__0.99998903.jpg': 0,\n",
       "  '577__gondola__0.9999962.jpg': 0,\n",
       "  '2413024__banana__1.0.jpg': 0,\n",
       "  '2405041__broccoli__0.99999845.jpg': 0,\n",
       "  '2386068__zebra__0.9999949.jpg': 0,\n",
       "  '2413786__parking_meter__0.9999925.jpg': -1,\n",
       "  '2411646__banana__0.99999595.jpg': -1,\n",
       "  '2382792__umbrella__0.9999838.jpg': 0,\n",
       "  '2386750__pizza__0.9999889.jpg': 0,\n",
       "  '2392619__zebra__0.9999875.jpg': 0,\n",
       "  '2385767__zebra__0.9999958.jpg': 0,\n",
       "  '2389324__zebra__0.9999993.jpg': 0,\n",
       "  '2412402__zebra__0.9999877.jpg': 0,\n",
       "  '2385039__zebra__0.9999844.jpg': 0,\n",
       "  '2410440__parking_meter__0.99999106.jpg': 0,\n",
       "  '2398975__umbrella__0.9999958.jpg': -1,\n",
       "  '2411645__parking_meter__0.999985.jpg': -1,\n",
       "  '2392349__umbrella__0.9999994.jpg': 0,\n",
       "  '1222__pool_table__0.9999995.jpg': -1,\n",
       "  '2386456__zebra__0.9999989.jpg': 0,\n",
       "  '2405210__pizza__0.9999869.jpg': 0,\n",
       "  '2383286__zebra__0.99999857.jpg': 0,\n",
       "  '2380865__traffic_light__0.99999714.jpg': 0,\n",
       "  '2409472__umbrella__0.9999845.jpg': 0,\n",
       "  '2416516__zebra__0.99999714.jpg': 0,\n",
       "  '2392324__traffic_light__0.9999964.jpg': -1,\n",
       "  '2402950__zebra__0.99999344.jpg': 0,\n",
       "  '2417586__zebra__0.99999535.jpg': 0},\n",
       " 2: {'2417881__zebra__0.9999945.jpg': 0,\n",
       "  '2414384__ski__0.9999949.jpg': -1,\n",
       "  '2380017__zebra__0.9999995.jpg': 0,\n",
       "  '2402056__toilet_seat__0.99999917.jpg': 0,\n",
       "  '2409765__zebra__0.99999833.jpg': -1,\n",
       "  '2387437__parking_meter__0.9999839.jpg': 0,\n",
       "  '2415102__zebra__0.9999876.jpg': -1,\n",
       "  '2380865__traffic_light__0.99999714.jpg': 0,\n",
       "  '2384145__street_sign__0.9999987.jpg': -1,\n",
       "  '2417938__banana__0.9999944.jpg': 0,\n",
       "  '2416516__zebra__0.99999714.jpg': 0,\n",
       "  '2382909__zebra__0.9999988.jpg': 0,\n",
       "  '2382436__park_bench__0.99999964.jpg': 0,\n",
       "  '2411646__banana__0.99999595.jpg': -1,\n",
       "  '2402132__traffic_light__0.9999951.jpg': -1,\n",
       "  '2387305__traffic_light__1.0.jpg': -1,\n",
       "  '1328__coil__0.99999607.jpg': 0,\n",
       "  '2411372__parking_meter__0.999995.jpg': -1,\n",
       "  '2396153__brown_bear__0.9999938.jpg': 0,\n",
       "  '2385187__street_sign__0.99999595.jpg': 0,\n",
       "  '2406209__brown_bear__0.999985.jpg': 0,\n",
       "  '2397486__zebra__0.9999875.jpg': 0,\n",
       "  '2392619__zebra__0.9999875.jpg': 0,\n",
       "  '2396034__remote_control__0.9999856.jpg': 0,\n",
       "  '2404229__zebra__0.99998367.jpg': 0,\n",
       "  '2395038__zebra__0.9999976.jpg': 0,\n",
       "  '2400121__pizza__0.9999962.jpg': 0,\n",
       "  '2403199__zebra__0.9999869.jpg': 0,\n",
       "  '2392405__parking_meter__0.9999993.jpg': 0,\n",
       "  '2385034__zebra__0.9999981.jpg': 0,\n",
       "  '2380189__zebra__0.9999993.jpg': 0,\n",
       "  '2413495__traffic_light__0.9999925.jpg': 0,\n",
       "  '2414277__zebra__0.9999908.jpg': 0,\n",
       "  '2378523__banana__0.99999785.jpg': 0,\n",
       "  '2408884__zebra__0.9999913.jpg': -1,\n",
       "  '2409589__zebra__0.99999976.jpg': 0,\n",
       "  '2417055__broccoli__0.9999864.jpg': 0,\n",
       "  '2415737__parking_meter__0.99999785.jpg': 0,\n",
       "  '2402950__zebra__0.99999344.jpg': 0,\n",
       "  '2377471__pizza__0.9999988.jpg': 0,\n",
       "  '2413227__park_bench__0.99998546.jpg': 0,\n",
       "  '2412267__zebra__0.9999939.jpg': -1,\n",
       "  '2410903__steam_locomotive__0.9999876.jpg': 0,\n",
       "  '2414892__pizza__0.99999857.jpg': 0,\n",
       "  '2417586__zebra__0.99999535.jpg': 0,\n",
       "  '1222__pool_table__0.9999995.jpg': -1,\n",
       "  '2411645__parking_meter__0.999985.jpg': 0,\n",
       "  '2391918__steam_locomotive__0.99999845.jpg': 0,\n",
       "  '2406887__ski__0.99999785.jpg': -1,\n",
       "  '2414996__park_bench__0.9999907.jpg': 0,\n",
       "  '2403338__seat_belt__0.99999917.jpg': 0,\n",
       "  '2378358__park_bench__0.99999833.jpg': 0,\n",
       "  '2416228__parking_meter__0.9999914.jpg': -1,\n",
       "  '4573__barrel__0.9999974.jpg': -1,\n",
       "  '2377698__zebra__0.9999999.jpg': 0,\n",
       "  '2398975__umbrella__0.9999958.jpg': -1,\n",
       "  '2386068__zebra__0.9999949.jpg': 0,\n",
       "  '2406857__zebra__0.9999894.jpg': 0,\n",
       "  '2409953__brown_bear__0.99998903.jpg': 0,\n",
       "  '2389131__pizza__0.9999943.jpg': 0,\n",
       "  '2392579__zebra__0.9999969.jpg': 1,\n",
       "  '2409637__four-poster__0.99999464.jpg': 0,\n",
       "  '2379489__parking_meter__0.9999989.jpg': 0,\n",
       "  '2380669__parking_meter__0.9999993.jpg': 0,\n",
       "  '2382589__zebra__0.9999982.jpg': 0,\n",
       "  '2391701__zebra__0.9999912.jpg': -1,\n",
       "  '2405479__traffic_light__0.9999939.jpg': -1,\n",
       "  '2413786__parking_meter__0.9999925.jpg': -1,\n",
       "  '2405905__traffic_light__0.99999535.jpg': -1,\n",
       "  '2380447__bullet_train__0.9999869.jpg': 0,\n",
       "  '2386750__pizza__0.9999889.jpg': 0,\n",
       "  '4673__triumphal_arch__0.9999893.jpg': 0,\n",
       "  '2412908__zebra__0.99998975.jpg': 0,\n",
       "  '2387038__street_sign__0.9999888.jpg': -1,\n",
       "  '2392124__zebra__0.99999523.jpg': 0,\n",
       "  '2411665__zebra__0.99998856.jpg': 0,\n",
       "  '2382913__zebra__0.9999883.jpg': 0,\n",
       "  '2404281__zebra__0.999998.jpg': 0,\n",
       "  '2409266__zebra__0.99999774.jpg': 0,\n",
       "  '2383706__umbrella__0.9999994.jpg': 0,\n",
       "  '576__gondola__0.9999993.jpg': 0,\n",
       "  '2386049__king_penguin__0.99999917.jpg': 0,\n",
       "  '2411784__traffic_light__0.9999945.jpg': 1,\n",
       "  '2394019__zebra__0.99999285.jpg': 0,\n",
       "  '2412027__school_bus__0.99998724.jpg': 0,\n",
       "  '2408719__ski__0.99999297.jpg': -1,\n",
       "  '2407130__umbrella__0.9999888.jpg': 0,\n",
       "  '2395510__traffic_light__0.9999993.jpg': -1,\n",
       "  '2379086__zebra__0.9999975.jpg': 0,\n",
       "  '2417382__zebra__0.9999864.jpg': 0,\n",
       "  '2382474__bow_tie__0.9999982.jpg': 0,\n",
       "  '2385461__zebra__0.99998415.jpg': 0,\n",
       "  '2405280__zebra__0.9999938.jpg': 0,\n",
       "  '2398585__bow_tie__0.9999838.jpg': 0,\n",
       "  '2393774__zebra__0.9999995.jpg': 0,\n",
       "  '577__gondola__0.9999962.jpg': 0,\n",
       "  '2381932__traffic_light__0.99999964.jpg': -1,\n",
       "  '2387034__zebra__0.9999896.jpg': 0,\n",
       "  '2401921__zebra__0.99999845.jpg': 0,\n",
       "  '2415910__zebra__0.9999962.jpg': 0,\n",
       "  '2388889__hotdog__0.99999714.jpg': 0,\n",
       "  '2410410__ski__0.99999356.jpg': -1,\n",
       "  '2391862__broccoli__0.99999714.jpg': 0,\n",
       "  '2409472__umbrella__0.9999845.jpg': 0,\n",
       "  '2416627__zebra__0.9999987.jpg': -1,\n",
       "  '2415567__zebra__0.9999902.jpg': -1,\n",
       "  '2404583__umbrella__0.99999297.jpg': -1,\n",
       "  '2384512__zebra__0.99999726.jpg': 0,\n",
       "  '2404051__street_sign__0.9999999.jpg': -1,\n",
       "  '2381968__ski__0.999984.jpg': -1,\n",
       "  '2377620__zebra__0.9999882.jpg': -1,\n",
       "  '2413024__banana__1.0.jpg': 0,\n",
       "  '2394082__street_sign__0.99999905.jpg': 0,\n",
       "  '2415402__zebra__0.99998903.jpg': 0,\n",
       "  '2409822__steam_locomotive__0.9999906.jpg': 0,\n",
       "  '2392730__pizza__0.9999974.jpg': 0,\n",
       "  '2380319__broccoli__0.9999957.jpg': 0,\n",
       "  '2381941__zebra__0.9999914.jpg': -1,\n",
       "  '2388441__banana__0.9999993.jpg': 0,\n",
       "  '2381879__zebra__0.99999523.jpg': 0,\n",
       "  '2415648__broccoli__0.9999943.jpg': 0,\n",
       "  '2404955__banana__0.9999995.jpg': 0,\n",
       "  '2398771__traffic_light__0.99999.jpg': -1,\n",
       "  '2411390__parking_meter__0.9999988.jpg': 0,\n",
       "  '2410974__toilet_seat__0.9999939.jpg': -1,\n",
       "  '2380925__zebra__0.9999987.jpg': 0,\n",
       "  '2405042__parking_meter__0.99999094.jpg': 0,\n",
       "  '2395716__pizza__0.9999968.jpg': 0,\n",
       "  '2411841__zebra__0.99999833.jpg': 0,\n",
       "  '4339__manhole_cover__0.99999416.jpg': 0,\n",
       "  '2385298__parking_meter__0.9999865.jpg': 0,\n",
       "  '2386193__broccoli__0.9999924.jpg': 0,\n",
       "  '2406581__zebra__0.9999939.jpg': 0,\n",
       "  '2413521__parking_meter__0.99999976.jpg': 0,\n",
       "  '2410081__parking_meter__1.0.jpg': 0,\n",
       "  '2403403__banana__0.9999926.jpg': 0,\n",
       "  '2385039__zebra__0.9999844.jpg': 0,\n",
       "  '2417421__parking_meter__0.9999999.jpg': 0,\n",
       "  '2416408__zebra__0.9999962.jpg': 0,\n",
       "  '134__zebra__0.9999949.jpg': -1,\n",
       "  '2401217__traffic_light__0.9999895.jpg': -1,\n",
       "  '2410779__parking_meter__0.99999917.jpg': 0,\n",
       "  '2403741__zebra__0.99999523.jpg': 0,\n",
       "  '2408592__goose__0.999998.jpg': 0,\n",
       "  '2410440__parking_meter__0.99999106.jpg': 0,\n",
       "  '2405210__pizza__0.9999869.jpg': 0,\n",
       "  '2408701__zebra__0.9999981.jpg': -1,\n",
       "  '2412939__forklift__0.9999883.jpg': 0,\n",
       "  '2380019__zebra__0.9999926.jpg': -1,\n",
       "  '2392818__park_bench__0.99999.jpg': -1,\n",
       "  '2381648__zebra__0.9999995.jpg': 0,\n",
       "  '2385767__zebra__0.9999958.jpg': 0,\n",
       "  '2411196__crane__0.9999995.jpg': -1,\n",
       "  '2390296__umbrella__0.99999106.jpg': 0,\n",
       "  '2400622__zebra__0.9999901.jpg': 0,\n",
       "  '2402264__zebra__0.9999931.jpg': 0,\n",
       "  '4534__viaduct__0.9999877.jpg': 0},\n",
       " 3: {'2410410__ski__0.99999356.jpg': -1,\n",
       "  '2394019__zebra__0.99999285.jpg': 0,\n",
       "  '2417055__broccoli__0.9999864.jpg': 0,\n",
       "  '2392579__zebra__0.9999969.jpg': 1,\n",
       "  '2417881__zebra__0.9999945.jpg': 0,\n",
       "  '2389324__zebra__0.9999993.jpg': 0,\n",
       "  '2409266__zebra__0.99999774.jpg': 0,\n",
       "  '4099__pool_table__0.9999945.jpg': 0,\n",
       "  '2415402__zebra__0.99998903.jpg': 0,\n",
       "  '2386068__zebra__0.9999949.jpg': 0,\n",
       "  '2410440__parking_meter__0.99999106.jpg': 0,\n",
       "  '2385039__zebra__0.9999844.jpg': 0,\n",
       "  '2382909__zebra__0.9999988.jpg': 0,\n",
       "  '2413024__banana__1.0.jpg': 0,\n",
       "  '2396153__brown_bear__0.9999938.jpg': 0,\n",
       "  '2380925__zebra__0.9999987.jpg': 0,\n",
       "  '2383569__parking_meter__0.9999988.jpg': 0,\n",
       "  '2392349__umbrella__0.9999994.jpg': 0,\n",
       "  '2407788__pizza__0.99999785.jpg': 0,\n",
       "  '2381932__traffic_light__0.99999964.jpg': 0,\n",
       "  '2408884__zebra__0.9999913.jpg': 0,\n",
       "  '2413495__traffic_light__0.9999925.jpg': 0,\n",
       "  '2384145__street_sign__0.9999987.jpg': 0,\n",
       "  '4573__barrel__0.9999974.jpg': 0,\n",
       "  '2391408__traffic_light__0.99999654.jpg': -1,\n",
       "  '2414277__zebra__0.9999908.jpg': 0,\n",
       "  '2411097__zebra__0.9999974.jpg': 0,\n",
       "  '2392405__parking_meter__0.9999993.jpg': 0,\n",
       "  '2385187__street_sign__0.99999595.jpg': 0,\n",
       "  '2406209__brown_bear__0.999985.jpg': 0,\n",
       "  '2415648__broccoli__0.9999943.jpg': 0,\n",
       "  '2398585__bow_tie__0.9999838.jpg': 0,\n",
       "  '2380017__zebra__0.9999995.jpg': 0,\n",
       "  '2401921__zebra__0.99999845.jpg': 0,\n",
       "  '2406581__zebra__0.9999939.jpg': 0,\n",
       "  '2386750__pizza__0.9999889.jpg': 0,\n",
       "  '2395716__pizza__0.9999968.jpg': 0,\n",
       "  '2382589__zebra__0.9999982.jpg': 0,\n",
       "  '2377698__zebra__0.9999999.jpg': 0,\n",
       "  '2400121__pizza__0.9999962.jpg': 0,\n",
       "  '2414335__refrigerator__0.9999889.jpg': 0,\n",
       "  '2385298__parking_meter__0.9999865.jpg': 0,\n",
       "  '2408592__goose__0.999998.jpg': 0,\n",
       "  '2401383__slug__0.9999933.jpg': 0,\n",
       "  '2414513__bagel__0.9999893.jpg': 0,\n",
       "  '2414996__park_bench__0.9999907.jpg': 0,\n",
       "  '2404281__zebra__0.999998.jpg': 0,\n",
       "  '2415910__zebra__0.9999962.jpg': 0,\n",
       "  '2417938__banana__0.9999944.jpg': 0,\n",
       "  '2383706__umbrella__0.9999994.jpg': 0,\n",
       "  '2406857__zebra__0.9999894.jpg': 0,\n",
       "  '2380447__bullet_train__0.9999869.jpg': 0,\n",
       "  '4339__manhole_cover__0.99999416.jpg': 0,\n",
       "  '2400622__zebra__0.9999901.jpg': 0,\n",
       "  '2390296__umbrella__0.99999106.jpg': 0,\n",
       "  '2414760__zebra__0.9999895.jpg': 0,\n",
       "  '2404583__umbrella__0.99999297.jpg': 0,\n",
       "  '2417421__parking_meter__0.9999999.jpg': 0,\n",
       "  '2417395__zebra__0.9999993.jpg': 0,\n",
       "  '2415567__zebra__0.9999902.jpg': 0,\n",
       "  '2401224__zebra__0.9999882.jpg': 0,\n",
       "  '2410336__zebra__0.99999547.jpg': -1,\n",
       "  '2410779__parking_meter__0.99999917.jpg': 0,\n",
       "  '2389131__pizza__0.9999943.jpg': 0,\n",
       "  '2380669__parking_meter__0.9999993.jpg': 0,\n",
       "  '2380865__traffic_light__0.99999714.jpg': 0,\n",
       "  '2414892__pizza__0.99999857.jpg': 0,\n",
       "  '2411407__zebra__0.9999969.jpg': 0,\n",
       "  '2411646__banana__0.99999595.jpg': 0,\n",
       "  '2398771__traffic_light__0.99999.jpg': 0,\n",
       "  '2413521__parking_meter__0.99999976.jpg': 0,\n",
       "  '2386193__broccoli__0.9999924.jpg': 0,\n",
       "  '2395787__pizza__0.99999535.jpg': 0,\n",
       "  '2412027__school_bus__0.99998724.jpg': 0,\n",
       "  '2381879__zebra__0.99999523.jpg': 0,\n",
       "  '2417382__zebra__0.9999864.jpg': 0,\n",
       "  '2403741__zebra__0.99999523.jpg': 0,\n",
       "  '2382436__park_bench__0.99999964.jpg': 0,\n",
       "  '2409637__four-poster__0.99999464.jpg': 0,\n",
       "  '2377620__zebra__0.9999882.jpg': 0,\n",
       "  '2409550__street_sign__0.99999905.jpg': -1,\n",
       "  '2398975__umbrella__0.9999958.jpg': 0,\n",
       "  '4534__viaduct__0.9999877.jpg': 0,\n",
       "  '2415737__parking_meter__0.99999785.jpg': 0,\n",
       "  '2401217__traffic_light__0.9999895.jpg': 0,\n",
       "  '2409589__zebra__0.99999976.jpg': 0,\n",
       "  '134__zebra__0.9999949.jpg': -1,\n",
       "  '2405280__zebra__0.9999938.jpg': 0,\n",
       "  '2377471__pizza__0.9999988.jpg': 0,\n",
       "  '2395510__traffic_light__0.9999993.jpg': 0,\n",
       "  '2391918__steam_locomotive__0.99999845.jpg': 0,\n",
       "  '2399675__zebra__0.9999883.jpg': 0,\n",
       "  '2409063__zebra__0.999997.jpg': 0,\n",
       "  '4673__triumphal_arch__0.9999893.jpg': 0,\n",
       "  '2395038__zebra__0.9999976.jpg': 0,\n",
       "  '2416516__zebra__0.99999714.jpg': 0,\n",
       "  '2387305__traffic_light__1.0.jpg': 0,\n",
       "  '2385034__zebra__0.9999981.jpg': 0,\n",
       "  '2411372__parking_meter__0.999995.jpg': 0,\n",
       "  '2405210__pizza__0.9999869.jpg': 0,\n",
       "  '2385461__zebra__0.99998415.jpg': 0,\n",
       "  '2411196__crane__0.9999995.jpg': 0,\n",
       "  '2412939__forklift__0.9999883.jpg': 0,\n",
       "  '577__gondola__0.9999962.jpg': 0,\n",
       "  '2404051__street_sign__0.9999999.jpg': -1,\n",
       "  '2401691__pineapple__0.999998.jpg': 0,\n",
       "  '2412908__zebra__0.99998975.jpg': 0,\n",
       "  '2399217__umbrella__0.9999863.jpg': 0,\n",
       "  '2405041__broccoli__0.99999845.jpg': 0,\n",
       "  '2412402__zebra__0.9999877.jpg': 0,\n",
       "  '2410903__steam_locomotive__0.9999876.jpg': 0,\n",
       "  '2402950__zebra__0.99999344.jpg': 0,\n",
       "  '2393774__zebra__0.9999995.jpg': 0,\n",
       "  '2413786__parking_meter__0.9999925.jpg': 0,\n",
       "  '2384755__street_sign__0.9999924.jpg': -1,\n",
       "  '2412267__zebra__0.9999939.jpg': -1,\n",
       "  '2382913__zebra__0.9999883.jpg': 0,\n",
       "  '2379086__zebra__0.9999975.jpg': 0,\n",
       "  '2405905__traffic_light__0.99999535.jpg': 1,\n",
       "  '2378358__park_bench__0.99999833.jpg': 0,\n",
       "  '2409953__brown_bear__0.99998903.jpg': 0,\n",
       "  '2391862__broccoli__0.99999714.jpg': 0,\n",
       "  '2388441__banana__0.9999993.jpg': 0,\n",
       "  '576__gondola__0.9999993.jpg': 0,\n",
       "  '2411390__parking_meter__0.9999988.jpg': 0,\n",
       "  '2387034__zebra__0.9999896.jpg': 0,\n",
       "  '2381941__zebra__0.9999914.jpg': -1,\n",
       "  '2384512__zebra__0.99999726.jpg': 0,\n",
       "  '2405479__traffic_light__0.9999939.jpg': -1,\n",
       "  '2392124__zebra__0.99999523.jpg': 0,\n",
       "  '2392619__zebra__0.9999875.jpg': 0,\n",
       "  '2380019__zebra__0.9999926.jpg': 0,\n",
       "  '2410974__toilet_seat__0.9999939.jpg': 0,\n",
       "  '2411665__zebra__0.99998856.jpg': 0,\n",
       "  '2378170__zebra__0.9999902.jpg': 0,\n",
       "  '691__cheetah__0.99999213.jpg': 0,\n",
       "  '2404229__zebra__0.99998367.jpg': 0,\n",
       "  '2381648__zebra__0.9999995.jpg': 0,\n",
       "  '1222__pool_table__0.9999995.jpg': 0,\n",
       "  '2379489__parking_meter__0.9999989.jpg': 0,\n",
       "  '2380189__zebra__0.9999993.jpg': 0,\n",
       "  '2408719__ski__0.99999297.jpg': -1,\n",
       "  '2389484__street_sign__0.99998474.jpg': 0,\n",
       "  '2387437__parking_meter__0.9999839.jpg': 0,\n",
       "  '2407951__zebra__0.9999975.jpg': 0,\n",
       "  '2414384__ski__0.9999949.jpg': 0,\n",
       "  '2386456__zebra__0.9999989.jpg': 0,\n",
       "  '2410081__parking_meter__1.0.jpg': 0,\n",
       "  '2402056__toilet_seat__0.99999917.jpg': 0,\n",
       "  '2386049__king_penguin__0.99999917.jpg': 0,\n",
       "  '2394082__street_sign__0.99999905.jpg': 0,\n",
       "  '2385767__zebra__0.9999958.jpg': 0,\n",
       "  '2408970__zebra__0.9999865.jpg': 0,\n",
       "  '2381968__ski__0.999984.jpg': -1,\n",
       "  '2382183__pizza__0.99998593.jpg': 0,\n",
       "  '2387038__street_sign__0.9999888.jpg': 0,\n",
       "  '2417586__zebra__0.99999535.jpg': 0},\n",
       " 4: {'691__cheetah__0.99999213.jpg': 0,\n",
       "  '2402264__zebra__0.9999931.jpg': 0,\n",
       "  '2384755__street_sign__0.9999924.jpg': -1,\n",
       "  '2395716__pizza__0.9999968.jpg': 0,\n",
       "  '2392324__traffic_light__0.9999964.jpg': 0,\n",
       "  '2410440__parking_meter__0.99999106.jpg': 0,\n",
       "  '2392405__parking_meter__0.9999993.jpg': 0,\n",
       "  '2406857__zebra__0.9999894.jpg': 0,\n",
       "  '2399217__umbrella__0.9999863.jpg': 0,\n",
       "  '2405905__traffic_light__0.99999535.jpg': 1,\n",
       "  '2414277__zebra__0.9999908.jpg': 0,\n",
       "  '4673__triumphal_arch__0.9999893.jpg': 0,\n",
       "  '2409063__zebra__0.999997.jpg': 0,\n",
       "  '2413495__traffic_light__0.9999925.jpg': 0,\n",
       "  '2411407__zebra__0.9999969.jpg': 0,\n",
       "  '2394082__street_sign__0.99999905.jpg': 0,\n",
       "  '2411665__zebra__0.99998856.jpg': 0,\n",
       "  '2385034__zebra__0.9999981.jpg': 0,\n",
       "  '2388441__banana__0.9999993.jpg': 0,\n",
       "  '2391862__broccoli__0.99999714.jpg': 0,\n",
       "  '2413024__banana__1.0.jpg': 0,\n",
       "  '2381879__zebra__0.99999523.jpg': 0,\n",
       "  '2387437__parking_meter__0.9999839.jpg': 0,\n",
       "  '2380447__bullet_train__0.9999869.jpg': 0,\n",
       "  '2409266__zebra__0.99999774.jpg': 0,\n",
       "  '2406887__ski__0.99999785.jpg': 0,\n",
       "  '2413521__parking_meter__0.99999976.jpg': 0,\n",
       "  '2414335__refrigerator__0.9999889.jpg': 0,\n",
       "  '2406209__brown_bear__0.999985.jpg': 0,\n",
       "  '2393774__zebra__0.9999995.jpg': 0,\n",
       "  '2403199__zebra__0.9999869.jpg': 0,\n",
       "  '4573__barrel__0.9999974.jpg': 0,\n",
       "  '2381648__zebra__0.9999995.jpg': 0,\n",
       "  '2378523__banana__0.99999785.jpg': 0,\n",
       "  '2398771__traffic_light__0.99999.jpg': 0,\n",
       "  '2378170__zebra__0.9999902.jpg': 0,\n",
       "  '576__gondola__0.9999993.jpg': 0,\n",
       "  '2387038__street_sign__0.9999888.jpg': 0,\n",
       "  '2380925__zebra__0.9999987.jpg': 0,\n",
       "  '2396153__brown_bear__0.9999938.jpg': 0,\n",
       "  '2414513__bagel__0.9999893.jpg': 0,\n",
       "  '2382183__pizza__0.99998593.jpg': 0,\n",
       "  '2406581__zebra__0.9999939.jpg': 0,\n",
       "  '2396034__remote_control__0.9999856.jpg': 0,\n",
       "  '2402950__zebra__0.99999344.jpg': 0,\n",
       "  '2415102__zebra__0.9999876.jpg': 0,\n",
       "  '2386193__broccoli__0.9999924.jpg': 0,\n",
       "  '2416228__parking_meter__0.9999914.jpg': 0,\n",
       "  '2409822__steam_locomotive__0.9999906.jpg': 0,\n",
       "  '2401383__slug__0.9999933.jpg': 0,\n",
       "  '2417938__banana__0.9999944.jpg': 0,\n",
       "  '2409765__zebra__0.99999833.jpg': 0,\n",
       "  '2416408__zebra__0.9999962.jpg': 0,\n",
       "  '2392619__zebra__0.9999875.jpg': 0,\n",
       "  '2377471__pizza__0.9999988.jpg': 0,\n",
       "  '2415567__zebra__0.9999902.jpg': -1,\n",
       "  '2401921__zebra__0.99999845.jpg': 0,\n",
       "  '2382589__zebra__0.9999982.jpg': 0,\n",
       "  '2386068__zebra__0.9999949.jpg': 0,\n",
       "  '2412027__school_bus__0.99998724.jpg': 0,\n",
       "  '2417421__parking_meter__0.9999999.jpg': 0,\n",
       "  '2383569__parking_meter__0.9999988.jpg': 0,\n",
       "  '2417881__zebra__0.9999945.jpg': 0,\n",
       "  '4534__viaduct__0.9999877.jpg': 0,\n",
       "  '577__gondola__0.9999962.jpg': 0,\n",
       "  '2382436__park_bench__0.99999964.jpg': 0,\n",
       "  '2380905__gondola__0.9999888.jpg': -1,\n",
       "  '2408884__zebra__0.9999913.jpg': 0,\n",
       "  '2417382__zebra__0.9999864.jpg': 0,\n",
       "  '2407951__zebra__0.9999975.jpg': 0,\n",
       "  '2411196__crane__0.9999995.jpg': -1,\n",
       "  '2380865__traffic_light__0.99999714.jpg': 0,\n",
       "  '2404229__zebra__0.99998367.jpg': 0,\n",
       "  '1222__pool_table__0.9999995.jpg': 0,\n",
       "  '2411390__parking_meter__0.9999988.jpg': 0,\n",
       "  '2413227__park_bench__0.99998546.jpg': 0,\n",
       "  '2391408__traffic_light__0.99999654.jpg': -1,\n",
       "  '2389484__street_sign__0.99998474.jpg': 0,\n",
       "  '2379086__zebra__0.9999975.jpg': 0,\n",
       "  '2380017__zebra__0.9999995.jpg': 0,\n",
       "  '2407788__pizza__0.99999785.jpg': 0,\n",
       "  '2381968__ski__0.999984.jpg': -1,\n",
       "  '2411097__zebra__0.9999974.jpg': 0,\n",
       "  '2403338__seat_belt__0.99999917.jpg': 0,\n",
       "  '2417586__zebra__0.99999535.jpg': 0,\n",
       "  '2387305__traffic_light__1.0.jpg': 0,\n",
       "  '2409953__brown_bear__0.99998903.jpg': 0,\n",
       "  '2408970__zebra__0.9999865.jpg': 0,\n",
       "  '2382909__zebra__0.9999988.jpg': 0,\n",
       "  '2412939__forklift__0.9999883.jpg': 0,\n",
       "  '2401224__zebra__0.9999882.jpg': 0,\n",
       "  '2405041__broccoli__0.99999845.jpg': 0,\n",
       "  '2401217__traffic_light__0.9999895.jpg': 0,\n",
       "  '134__zebra__0.9999949.jpg': -1,\n",
       "  '2377620__zebra__0.9999882.jpg': 0,\n",
       "  '2411841__zebra__0.99999833.jpg': 0,\n",
       "  '2415648__broccoli__0.9999943.jpg': 0,\n",
       "  '2412908__zebra__0.99998975.jpg': 0,\n",
       "  '2414892__pizza__0.99999857.jpg': 0,\n",
       "  '1328__coil__0.99999607.jpg': 0,\n",
       "  '2394019__zebra__0.99999285.jpg': 0,\n",
       "  '2390296__umbrella__0.99999106.jpg': 0,\n",
       "  '2409637__four-poster__0.99999464.jpg': 0,\n",
       "  '2403403__banana__0.9999926.jpg': 0,\n",
       "  '2384512__zebra__0.99999726.jpg': 0,\n",
       "  '2386750__pizza__0.9999889.jpg': 0,\n",
       "  '2385461__zebra__0.99998415.jpg': 0,\n",
       "  '2401691__pineapple__0.999998.jpg': 0,\n",
       "  '2391701__zebra__0.9999912.jpg': -1,\n",
       "  '2404127__zebra__0.9999933.jpg': 0,\n",
       "  '2381941__zebra__0.9999914.jpg': -1,\n",
       "  '2380319__broccoli__0.9999957.jpg': 0,\n",
       "  '4099__pool_table__0.9999945.jpg': 0,\n",
       "  '2386456__zebra__0.9999989.jpg': 0,\n",
       "  '2380189__zebra__0.9999993.jpg': 0,\n",
       "  '2414760__zebra__0.9999895.jpg': 0,\n",
       "  '2410336__zebra__0.99999547.jpg': -1,\n",
       "  '2392818__park_bench__0.99999.jpg': 0,\n",
       "  '2410903__steam_locomotive__0.9999876.jpg': 0,\n",
       "  '2380669__parking_meter__0.9999993.jpg': 0,\n",
       "  '2384145__street_sign__0.9999987.jpg': -1,\n",
       "  '2404955__banana__0.9999995.jpg': 0,\n",
       "  '2414996__park_bench__0.9999907.jpg': 0,\n",
       "  '2415737__parking_meter__0.99999785.jpg': 0,\n",
       "  '2392349__umbrella__0.9999994.jpg': 0,\n",
       "  '2402745__bullet_train__0.99999857.jpg': 0,\n",
       "  '2411645__parking_meter__0.999985.jpg': 0,\n",
       "  '2389131__pizza__0.9999943.jpg': 0,\n",
       "  '2385767__zebra__0.9999958.jpg': 0,\n",
       "  '2410779__parking_meter__0.99999917.jpg': 0,\n",
       "  '2405210__pizza__0.9999869.jpg': 0,\n",
       "  '2389163__zebra__0.9999957.jpg': 0,\n",
       "  '2388889__hotdog__0.99999714.jpg': 0,\n",
       "  '2417055__broccoli__0.9999864.jpg': 0,\n",
       "  '2402056__toilet_seat__0.99999917.jpg': 0,\n",
       "  '2403741__zebra__0.99999523.jpg': 0,\n",
       "  '2408719__ski__0.99999297.jpg': -1,\n",
       "  '2410081__parking_meter__1.0.jpg': 0,\n",
       "  '2415402__zebra__0.99998903.jpg': 0,\n",
       "  '2399675__zebra__0.9999883.jpg': 0,\n",
       "  '2389324__zebra__0.9999993.jpg': 0,\n",
       "  '2411784__traffic_light__0.9999945.jpg': 1,\n",
       "  '2405479__traffic_light__0.9999939.jpg': -1,\n",
       "  '2404281__zebra__0.999998.jpg': 0,\n",
       "  '2395038__zebra__0.9999976.jpg': 0,\n",
       "  '2378358__park_bench__0.99999833.jpg': 0,\n",
       "  '2410410__ski__0.99999356.jpg': -1,\n",
       "  '4339__manhole_cover__0.99999416.jpg': 0,\n",
       "  '2408701__zebra__0.9999981.jpg': -1,\n",
       "  '2398975__umbrella__0.9999958.jpg': -1,\n",
       "  '2383706__umbrella__0.9999994.jpg': 0,\n",
       "  '2382792__umbrella__0.9999838.jpg': 0,\n",
       "  '2409589__zebra__0.99999976.jpg': 0,\n",
       "  '2413786__parking_meter__0.9999925.jpg': -1,\n",
       "  '2397486__zebra__0.9999875.jpg': 0,\n",
       "  '2385039__zebra__0.9999844.jpg': 0,\n",
       "  '2412267__zebra__0.9999939.jpg': -1}}"
      ]
     },
     "execution_count": 52,
     "metadata": {},
     "output_type": "execute_result"
    }
   ],
   "source": [
    "global_cl_results"
   ]
  },
  {
   "cell_type": "code",
   "execution_count": 53,
   "id": "c6f4a680",
   "metadata": {},
   "outputs": [
    {
     "name": "stdout",
     "output_type": "stream",
     "text": [
      "2\n",
      "2\n",
      "2\n",
      "2\n"
     ]
    }
   ],
   "source": [
    "# Sanity check: Number of elements should be the same as clusters detected in clustering phase\n",
    "for split_idx in global_cl_results.keys(): print(len(np.unique(list(global_cl_results[split_idx].values())))-1)"
   ]
  },
  {
   "cell_type": "markdown",
   "id": "be815512",
   "metadata": {},
   "source": [
    "It was 15, 16, 15, 15, 15. Clustering results is fine."
   ]
  },
  {
   "cell_type": "markdown",
   "id": "c4cb88c4",
   "metadata": {},
   "source": [
    "## Clustering Prototypes"
   ]
  },
  {
   "cell_type": "markdown",
   "id": "eba636fd",
   "metadata": {},
   "source": [
    "In our experiment, we want to predict the vote count for a new image, based on the proximity it has to the avaliable clusters. These clusters are composed of many data points, so the proximity of a new data point to a cluster can be measured in different ways, like taking the distance between the new point and the nearest clustered point in the dataset.   \n",
    "However, this approach can be biased when new poins get associated to the cluster taking in account the nearest point of a cluster instead of the overall position of a cluster. To avoid this, for each cluster we calculate a \"prototype\", a data point which is the centroid of all the data points in a cluster. This way, we can measure the distance to the general position of a cluster in a more confident way."
   ]
  },
  {
   "cell_type": "markdown",
   "id": "9a93b140",
   "metadata": {},
   "source": [
    "### Vote prototypes (Solution of cases)"
   ]
  },
  {
   "cell_type": "code",
   "execution_count": 54,
   "id": "1e497934",
   "metadata": {},
   "outputs": [],
   "source": [
    "# TODO: SI there another to calculate vote prototypes than to just average the votes\n",
    "# casted for every image in a specific cluster? \n",
    "\n",
    "def gen_indiv_vote_prototypes(cl_result, votes_df, vote_prt_type, ignore_noise=True):\n",
    "    '''Maps the integer labels of every cluster with its vote prototype'''\n",
    "    # Separate image votes according to the clusters they belong to\n",
    "    votes_by_cluster = {}\n",
    "    for img_name, cl_idx in cl_result.items():\n",
    "        if ignore_noise and cl_idx == -1: continue # ignore noise cluster\n",
    "        img_votes = votes_df.loc[img_name].values[:-1] # fetch vote columns (but not \"best technique\" column)\n",
    "        if cl_idx not in votes_by_cluster.keys(): votes_by_cluster[cl_idx] = [img_votes]\n",
    "        else: votes_by_cluster[cl_idx].append(img_votes)\n",
    "    # For each cluster, calculate their vote prototype\n",
    "    vote_prts_by_cluster = {}\n",
    "    for cl_idx, cl_votes in votes_by_cluster.items():\n",
    "        unrounded_prt = np.average(np.array(cl_votes, 'uint8'), axis=0) # load with uint8 to prevent unwanted floating points\n",
    "        # Create { cluster_idx : vote_prototype } pairs\n",
    "        vote_prts_by_cluster[cl_idx] = np.array(np.round(unrounded_prt), 'int')\n",
    "    return vote_prts_by_cluster\n",
    "    \n",
    "def get_global_vote_prototypes(cl_results, votes_df, vote_prt_type, ignore_noise=True):\n",
    "    '''Maps indices of folds/splits used to generate clusterings with the vote prototypes\n",
    "    of the different clusters generated'''\n",
    "    global_vote_prototypes = {}\n",
    "    for i, cl_result in cl_results.items():\n",
    "        # Create { split_idx : vote_prototypes_per_cluster } pairs\n",
    "        global_vote_prototypes[i] = gen_indiv_vote_prototypes(cl_result, votes_df, vote_prt_type, ignore_noise)\n",
    "    return global_vote_prototypes"
   ]
  },
  {
   "cell_type": "markdown",
   "id": "691db225",
   "metadata": {},
   "source": [
    "### Feature Prototypes (Description of cases)"
   ]
  },
  {
   "cell_type": "markdown",
   "id": "dfd6b6d7",
   "metadata": {},
   "source": [
    "#### Default Feature Prototyping (Average of features)"
   ]
  },
  {
   "cell_type": "code",
   "execution_count": 55,
   "id": "08cc3eb1",
   "metadata": {},
   "outputs": [],
   "source": [
    "def gen_averaged_feat_prototypes(cl_result, feats_df, ignore_noise=True):\n",
    "    # Separate image votes according to the clusters they belong to\n",
    "    feats_by_cluster = {}\n",
    "    for img_name, cl_idx in cl_result.items():\n",
    "        if ignore_noise and cl_idx == -1: continue # ignore noise cluster\n",
    "        img_feats = feats_df.loc[img_name].values # fetch features of image\n",
    "        if cl_idx not in feats_by_cluster.keys(): feats_by_cluster[cl_idx] = [img_feats]\n",
    "        else: feats_by_cluster[cl_idx].append(img_feats)\n",
    "    # For each cluster, calculate their feature prototype\n",
    "    feat_prts_by_cluster = {}\n",
    "    for cl_idx, cl_feats in feats_by_cluster.items():\n",
    "        unrounded_prt = np.average(np.array(cl_feats), axis=0)\n",
    "        feat_prts_by_cluster[cl_idx] = unrounded_prt\n",
    "        # print(feat_prts_by_cluster[cl_idx])\n",
    "    return feat_prts_by_cluster"
   ]
  },
  {
   "cell_type": "markdown",
   "id": "a67b9507",
   "metadata": {},
   "source": [
    "#### PCA Feature Prototyping"
   ]
  },
  {
   "cell_type": "code",
   "execution_count": 56,
   "id": "2941aa25",
   "metadata": {},
   "outputs": [],
   "source": [
    "def gen_pca_feat_prototypes(cl_result, images_folder_path, ignore_noise=True):\n",
    "    # For each cluster:\n",
    "        # Load images (using img_name in cl_result and images folder path)\n",
    "        # Flatten images and condense them into a matrix\n",
    "        # Apply PCA over the matrix\n",
    "        # Store the trained PCA object as a feature prototype with a \"cluster_idx\" key\n",
    "    # return pca_objs_per_cluster\n",
    "    pass"
   ]
  },
  {
   "cell_type": "markdown",
   "id": "e34a8508",
   "metadata": {},
   "source": [
    "#### General code"
   ]
  },
  {
   "cell_type": "code",
   "execution_count": 57,
   "id": "9a8b959d",
   "metadata": {},
   "outputs": [],
   "source": [
    "def gen_indiv_feat_prototypes(cl_result, feat_prt_type, ignore_noise=True, **kwargs):\n",
    "    '''Maps the integer labels of every cluster with its feature prototype'''\n",
    "    # Execute feature prototyping code according to selected prototyping type\n",
    "    if feat_prt_type == 'avg-feats':\n",
    "        feat_prts_per_cluster = gen_averaged_feat_prototypes(cl_result,\n",
    "                                                             feats_df = kwargs['feats_df'],\n",
    "                                                             ignore_noise=ignore_noise)\n",
    "    elif feat_prt_type == 'pca':\n",
    "        feat_prts_per_cluster = gen_pca_feat_prototypes(cl_result,\n",
    "                                                        images_folder_path = kwargs['images_folder_path'],\n",
    "                                                        ignore_noise=ignore_noise)\n",
    "    else:\n",
    "        raise Exception(f'Unknown feature prot. type : {feat_prt_type}')\n",
    "    return feat_prts_per_cluster\n",
    "    \n",
    "def get_global_feat_prototypes(cl_results, feat_prt_type, ignore_noise=True, **kwargs):\n",
    "    '''Maps indices of folds/splits used to generate clusterings with the feat. prototypes\n",
    "    of the different clusters generated'''\n",
    "    global_feat_prototypes = {}\n",
    "    for split_idx, cl_result in cl_results.items():\n",
    "        # Create { split_idx : feat_prototypes_per_cluster } pairs\n",
    "        global_feat_prototypes[split_idx] = gen_indiv_feat_prototypes(cl_result, feat_prt_type, ignore_noise, **kwargs)\n",
    "    return global_feat_prototypes"
   ]
  },
  {
   "cell_type": "code",
   "execution_count": 58,
   "id": "1c8f55f9",
   "metadata": {},
   "outputs": [],
   "source": [
    "# Warning: This code access variables defined previously without referencing them in its arguments.\n",
    "def get_prototypes(vote_prt_type, feat_prt_type):\n",
    "    # Calculate vote prototypes\n",
    "    vote_prts = None\n",
    "    if vote_prt_type=='avg-votes':\n",
    "        vote_prts = get_global_vote_prototypes(global_cl_results, votes_df, vote_prt_type)\n",
    "    else: raise Exception(f'Unknown vote prot. type : {vote_prt_type}')\n",
    "    # Calculate feature prototypes\n",
    "    feat_prts = None\n",
    "    if feat_prt_type=='avg-feats':\n",
    "        feat_prts = get_global_feat_prototypes(global_cl_results, FEAT_PRT_TYPE, feats_df=feats_df)\n",
    "    elif feat_prt_type=='pca':\n",
    "        feat_prts = get_global_feat_prototypes(global_cl_results, FEAT_PRT_TYPE, images_folder_path=IMAGES_FOLDER_PATH)\n",
    "    else: raise Exception(f'Unknown feature prot. type : {feat_prt_type}')\n",
    "    # Return prototypes\n",
    "    return vote_prts, feat_prts"
   ]
  },
  {
   "cell_type": "markdown",
   "id": "fcafec0c",
   "metadata": {},
   "source": [
    "### Calculate both prototypes"
   ]
  },
  {
   "cell_type": "code",
   "execution_count": 59,
   "id": "691afa3d",
   "metadata": {},
   "outputs": [],
   "source": [
    "global_vote_prototypes, global_feat_prototypes = get_prototypes(VOTE_PRT_TYPE, FEAT_PRT_TYPE)"
   ]
  },
  {
   "cell_type": "code",
   "execution_count": 60,
   "id": "002ae122",
   "metadata": {
    "scrolled": true
   },
   "outputs": [
    {
     "data": {
      "text/plain": [
       "{0: array([7, 3, 4, 1]), 1: array([6, 2, 4, 1])}"
      ]
     },
     "execution_count": 60,
     "metadata": {},
     "output_type": "execute_result"
    }
   ],
   "source": [
    "# Sanity check: No. of elements should be the same as no. of clusters detected in clustering phase\n",
    "global_vote_prototypes[3]"
   ]
  },
  {
   "cell_type": "code",
   "execution_count": 61,
   "id": "8b8e14af",
   "metadata": {},
   "outputs": [
    {
     "name": "stdout",
     "output_type": "stream",
     "text": [
      "{0: array([362.13286713, 182.43356643, 149.57342657, 155.60839161,\n",
      "       143.83916084, 131.06993007, 129.04195804, 129.1958042 ,\n",
      "       132.76223776, 133.14685315, 143.44055944, 152.23776224,\n",
      "       158.85314685, 168.3986014 , 172.84615385, 173.47552448,\n",
      "       175.74125874, 180.62937063, 185.52447552, 186.6013986 ,\n",
      "       188.95104895, 190.02097902, 187.04895105, 182.55944056,\n",
      "       184.99300699, 185.75524476, 183.96503497, 186.32867133,\n",
      "       188.3986014 , 188.98601399, 188.46153846, 183.71328671,\n",
      "       181.1048951 , 180.53846154, 180.55244755, 178.35664336,\n",
      "       177.77622378, 178.91608392, 181.07692308, 181.35664336,\n",
      "       182.06993007, 178.7972028 , 178.61538462, 178.65034965,\n",
      "       178.03496503, 175.36363636, 174.79020979, 177.05594406,\n",
      "       173.52447552, 172.39160839, 169.38461538, 170.06993007,\n",
      "       169.88811189, 169.54545455, 169.04195804, 166.37762238,\n",
      "       169.85314685, 168.76923077, 170.05594406, 170.6993007 ,\n",
      "       171.32867133, 172.67832168, 170.21678322, 172.16783217,\n",
      "       172.73426573, 172.61538462, 173.27972028, 176.22377622,\n",
      "       178.06293706, 178.58741259, 179.41958042, 182.16083916,\n",
      "       183.76923077, 182.93706294, 184.70629371, 189.42657343,\n",
      "       189.12587413, 191.53146853, 190.48251748, 188.02097902,\n",
      "       189.77622378, 189.68531469, 190.8951049 , 188.44755245,\n",
      "       190.12587413, 190.95104895, 191.53846154, 190.99300699,\n",
      "       191.96503497, 191.62937063, 192.00699301, 193.67132867,\n",
      "       195.32867133, 194.        , 197.74125874, 197.71328671,\n",
      "       198.24475524, 200.8041958 , 203.48951049, 204.51748252,\n",
      "       204.07692308, 206.32867133, 207.82517483, 206.58041958,\n",
      "       212.08391608, 214.55244755, 215.51748252, 216.48951049,\n",
      "       215.46853147, 218.54545455, 219.65734266, 223.4965035 ,\n",
      "       224.83216783, 224.27972028, 225.6993007 , 228.58741259,\n",
      "       230.11888112, 229.12587413, 229.9020979 , 231.27272727,\n",
      "       232.83916084, 237.03496503, 238.81118881, 243.3006993 ,\n",
      "       240.97202797, 243.37762238, 244.74125874, 246.17482517,\n",
      "       250.26573427, 253.27272727, 254.01398601, 256.8041958 ,\n",
      "       256.66433566, 259.74125874, 259.16083916, 259.81818182,\n",
      "       260.36363636, 261.39160839, 266.86713287, 265.47552448,\n",
      "       268.79020979, 270.11188811, 269.20979021, 270.64335664,\n",
      "       270.90909091, 270.77622378, 269.76923077, 267.93706294,\n",
      "       266.17482517, 262.74125874, 261.58041958, 259.71328671,\n",
      "       260.31468531, 258.6013986 , 258.57342657, 257.29370629,\n",
      "       255.56643357, 252.69230769, 253.77622378, 253.29370629,\n",
      "       255.18181818, 255.31468531, 256.76923077, 258.12587413,\n",
      "       260.59440559, 259.70629371, 262.96503497, 266.48951049,\n",
      "       265.8951049 , 266.18881119, 263.18881119, 261.41258741,\n",
      "       257.71328671, 257.73426573, 261.23776224, 261.52447552,\n",
      "       256.86013986, 252.62237762, 248.        , 248.32867133,\n",
      "       246.92307692, 247.94405594, 245.95104895, 248.37062937,\n",
      "       249.67832168, 251.62937063, 248.46853147, 249.58041958,\n",
      "       247.07692308, 246.37062937, 246.36363636, 245.82517483,\n",
      "       241.59440559, 238.82517483, 225.74825175, 219.91608392,\n",
      "       218.98601399, 209.65034965, 200.74125874, 201.11888112,\n",
      "       198.93706294, 195.51048951, 192.3006993 , 191.38461538,\n",
      "       187.51048951, 186.5034965 , 185.04895105, 183.86013986,\n",
      "       187.3986014 , 186.88111888, 181.01398601, 172.69230769,\n",
      "       166.14685315, 164.15384615, 155.88111888, 155.93006993,\n",
      "       147.35664336, 145.81818182, 141.57342657, 142.91608392,\n",
      "       141.53146853, 143.44055944, 138.99300699, 136.38461538,\n",
      "       132.51748252, 133.39160839, 130.11888112, 132.83216783,\n",
      "       121.18881119, 110.53846154, 105.95104895, 102.68531469,\n",
      "        99.62937063,  95.32867133,  94.75524476,  91.79020979,\n",
      "        89.2027972 ,  88.03496503,  86.44755245,  88.55244755,\n",
      "        85.04195804,  84.68531469,  83.13286713,  85.66433566,\n",
      "        87.41958042,  91.02097902,  94.25874126,  98.11888112,\n",
      "       106.9020979 , 115.24475524, 119.17482517, 127.37062937,\n",
      "       133.4965035 , 135.27972028, 144.57342657, 300.47552448,\n",
      "       351.99300699, 175.04195804, 148.39160839, 138.97202797,\n",
      "       133.76923077, 129.90909091, 133.07692308, 134.06293706,\n",
      "       139.16783217, 143.06993007, 148.04895105, 159.76923077,\n",
      "       168.7972028 , 180.27972028, 184.25874126, 191.40559441,\n",
      "       194.15384615, 199.1048951 , 202.15384615, 202.93706294,\n",
      "       208.11188811, 207.47552448, 205.43356643, 207.38461538,\n",
      "       206.65734266, 207.63636364, 209.06293706, 214.83916084,\n",
      "       214.8951049 , 216.03496503, 219.74125874, 218.62937063,\n",
      "       214.27272727, 216.3986014 , 216.46853147, 217.14685315,\n",
      "       211.83916084, 216.97902098, 217.91608392, 215.67132867,\n",
      "       216.23776224, 215.11188811, 215.02097902, 213.82517483,\n",
      "       215.72727273, 215.81818182, 216.92307692, 214.06993007,\n",
      "       216.73426573, 216.25174825, 216.41958042, 212.88111888,\n",
      "       211.        , 211.60839161, 204.72027972, 202.58741259,\n",
      "       201.52447552, 200.52447552, 198.74125874, 197.81818182,\n",
      "       197.18881119, 197.84615385, 192.88111888, 194.56643357,\n",
      "       194.04195804, 193.86013986, 194.41958042, 196.46153846,\n",
      "       195.53146853, 197.97902098, 200.75524476, 200.06293706,\n",
      "       204.60839161, 204.53146853, 208.37062937, 206.78321678,\n",
      "       202.81818182, 203.82517483, 203.17482517, 202.66433566,\n",
      "       201.88811189, 203.13286713, 202.35664336, 203.76223776,\n",
      "       201.93706294, 202.3006993 , 203.3986014 , 203.71328671,\n",
      "       202.04195804, 205.3006993 , 204.8951049 , 207.04895105,\n",
      "       206.02097902, 207.72727273, 206.44055944, 208.60839161,\n",
      "       206.98601399, 211.94405594, 213.06993007, 216.04195804,\n",
      "       215.27972028, 217.42657343, 217.11188811, 219.03496503,\n",
      "       222.62937063, 224.71328671, 227.23776224, 226.67132867,\n",
      "       229.3986014 , 231.04195804, 234.09090909, 233.93006993,\n",
      "       233.14685315, 235.00699301, 234.1048951 , 232.73426573,\n",
      "       230.67132867, 235.95104895, 234.23076923, 236.35664336,\n",
      "       240.88111888, 243.02097902, 245.20979021, 245.35664336,\n",
      "       249.45454545, 252.1048951 , 255.72027972, 255.39160839,\n",
      "       255.04195804, 257.72027972, 256.51748252, 260.9020979 ,\n",
      "       258.16783217, 263.22377622, 263.        , 266.03496503,\n",
      "       268.81818182, 268.63636364, 268.64335664, 269.34965035,\n",
      "       265.33566434, 269.86013986, 268.8041958 , 270.65734266,\n",
      "       271.6013986 , 275.18881119, 276.03496503, 273.86713287,\n",
      "       274.67832168, 276.53146853, 277.04195804, 278.95804196,\n",
      "       280.23776224, 274.74125874, 272.91608392, 276.18181818,\n",
      "       274.1048951 , 270.39160839, 271.37062937, 265.66433566,\n",
      "       266.4965035 , 265.67132867, 261.84615385, 261.9020979 ,\n",
      "       261.00699301, 257.85314685, 255.73426573, 256.18181818,\n",
      "       256.2027972 , 253.7972028 , 254.95104895, 255.47552448,\n",
      "       252.75524476, 251.51748252, 246.92307692, 242.56643357,\n",
      "       237.88811189, 230.20979021, 231.39160839, 229.15384615,\n",
      "       229.93006993, 234.55244755, 229.57342657, 229.81118881,\n",
      "       229.84615385, 224.85314685, 225.98601399, 226.72027972,\n",
      "       226.00699301, 226.54545455, 225.38461538, 218.58741259,\n",
      "       219.23776224, 212.62937063, 206.34965035, 202.40559441,\n",
      "       195.04195804, 188.88111888, 187.04195804, 181.44055944,\n",
      "       174.83916084, 166.40559441, 161.06993007, 156.74825175,\n",
      "       149.72727273, 144.11188811, 141.98601399, 140.22377622,\n",
      "       143.13986014, 140.6993007 , 136.75524476, 132.34265734,\n",
      "       125.99300699, 118.81118881, 114.58041958, 109.38461538,\n",
      "       107.6013986 , 105.05594406, 102.62937063,  99.68531469,\n",
      "        96.88811189,  94.86013986,  95.07692308,  96.2027972 ,\n",
      "        92.53146853,  87.93706294,  85.79020979,  82.99300699,\n",
      "        81.16783217,  78.15384615,  83.05594406,  87.3006993 ,\n",
      "        95.14685315,  96.30769231,  94.00699301,  83.33566434,\n",
      "        73.03496503,  71.40559441,  72.53146853,  70.22377622,\n",
      "        67.77622378,  67.95104895,  64.46153846,  58.6993007 ,\n",
      "        56.23076923,  54.02097902,  51.77622378,  51.66433566,\n",
      "        51.28671329,  53.76923077,  59.11188811,  62.7972028 ,\n",
      "        75.11888112,  90.97202797, 121.82517483, 224.82517483,\n",
      "       594.32867133, 189.        , 234.93706294, 233.07692308,\n",
      "       258.27272727, 255.20979021, 244.46153846, 242.23776224,\n",
      "       241.00699301, 245.98601399, 245.43356643, 251.51048951,\n",
      "       256.13286713, 265.17482517, 271.11188811, 279.06993007,\n",
      "       283.51748252, 288.11188811, 287.62937063, 289.55944056,\n",
      "       286.79020979, 285.95804196, 289.02097902, 286.07692308,\n",
      "       289.04195804, 288.93006993, 293.13986014, 293.57342657,\n",
      "       297.37762238, 296.85314685, 295.06293706, 295.72727273,\n",
      "       291.97902098, 290.08391608, 286.27272727, 286.97202797,\n",
      "       281.70629371, 281.62937063, 280.41958042, 281.90909091,\n",
      "       281.58741259, 279.51048951, 284.37762238, 279.11188811,\n",
      "       277.88811189, 273.78321678, 273.1048951 , 266.13286713,\n",
      "       266.71328671, 264.81118881, 264.36363636, 263.43356643,\n",
      "       262.84615385, 261.87412587, 262.64335664, 264.04195804,\n",
      "       262.00699301, 262.07692308, 264.76923077, 262.76223776,\n",
      "       265.76923077, 263.16783217, 266.8951049 , 267.91608392,\n",
      "       269.86013986, 272.96503497, 273.72027972, 278.15384615,\n",
      "       279.9020979 , 280.21678322, 283.45454545, 285.76923077,\n",
      "       282.37062937, 280.73426573, 275.43356643, 277.81818182,\n",
      "       278.31468531, 272.8951049 , 274.6993007 , 276.4965035 ,\n",
      "       271.62937063, 271.7972028 , 273.44055944, 270.25174825,\n",
      "       267.67832168, 264.44755245, 262.67832168, 261.55244755,\n",
      "       258.11188811, 255.59440559, 251.88111888, 250.20979021,\n",
      "       250.83916084, 250.06293706, 246.44755245, 247.27272727,\n",
      "       247.69230769, 246.31468531, 244.87412587, 246.77622378,\n",
      "       242.86013986, 244.64335664, 245.69230769, 245.0979021 ,\n",
      "       244.95104895, 242.11888112, 243.3986014 , 242.83916084,\n",
      "       241.1958042 , 238.61538462, 241.61538462, 239.12587413,\n",
      "       235.93006993, 235.11888112, 235.03496503, 233.3986014 ,\n",
      "       231.88811189, 229.8951049 , 226.22377622, 224.73426573,\n",
      "       223.72727273, 221.55244755, 221.54545455, 218.15384615,\n",
      "       219.67832168, 214.99300699, 217.16083916, 215.84615385,\n",
      "       210.93006993, 212.11888112, 206.24475524, 204.18881119,\n",
      "       206.27972028, 203.94405594, 204.83916084, 201.53846154,\n",
      "       204.61538462, 201.32167832, 202.84615385, 201.60839161,\n",
      "       202.1048951 , 202.15384615, 200.84615385, 199.86713287,\n",
      "       197.03496503, 194.06293706, 190.93006993, 188.21678322,\n",
      "       186.1048951 , 180.8041958 , 177.78321678, 175.2027972 ,\n",
      "       175.18181818, 172.72027972, 171.51048951, 168.92307692,\n",
      "       166.66433566, 165.03496503, 163.93706294, 163.03496503,\n",
      "       162.32867133, 160.87412587, 158.16783217, 157.42657343,\n",
      "       152.81818182, 151.68531469, 148.36363636, 144.27972028,\n",
      "       141.14685315, 140.73426573, 141.29370629, 139.41958042,\n",
      "       137.21678322, 135.54545455, 135.79020979, 131.71328671,\n",
      "       133.68531469, 129.67832168, 133.07692308, 136.81818182,\n",
      "       137.32167832, 134.83916084, 134.74825175, 134.60839161,\n",
      "       135.83916084, 136.53146853, 138.95104895, 138.94405594,\n",
      "       139.62237762, 141.37062937, 143.63636364, 143.04195804,\n",
      "       148.96503497, 147.00699301, 140.04195804, 134.3986014 ,\n",
      "       129.05594406, 127.02097902, 125.28671329, 123.23076923,\n",
      "       121.72727273, 123.6013986 , 122.16783217, 122.92307692,\n",
      "       122.01398601, 121.54545455, 123.01398601, 116.67832168,\n",
      "       109.55944056, 104.65034965, 100.96503497, 100.28671329,\n",
      "        94.73426573,  89.56643357,  85.83916084,  84.75524476,\n",
      "        81.25174825,  77.92307692,  75.81818182,  73.75524476,\n",
      "        73.06293706,  74.14685315,  74.41258741,  73.01398601,\n",
      "        70.83216783,  69.34965035,  70.60839161,  70.12587413,\n",
      "        69.88111888,  69.65034965,  69.52447552,  71.29370629,\n",
      "        71.67132867,  72.00699301,  70.5034965 ,  65.46853147,\n",
      "        68.25174825,  65.95804196,  66.46853147,  66.41958042,\n",
      "        62.15384615,  60.91608392,  64.43356643,  58.48951049,\n",
      "        48.79020979,  44.8951049 ,  43.37762238,  43.88811189,\n",
      "        44.95104895,  42.36363636,  49.27972028,  54.72027972,\n",
      "        61.96503497, 103.42657343, 143.18181818, 309.34965035]), 1: array([ 221. ,   96. ,   89. ,   86. ,   84.5,   89.5,   83. ,   77.5,\n",
      "         90. ,   76.5,   82. ,   88.5,   84. ,   79.5,   72. ,   77.5,\n",
      "         72. ,   54. ,   61.5,   69.5,   71.5,   66. ,   76.5,   84.5,\n",
      "         73. ,   97. ,   89. ,   84.5,   75.5,   76. ,   90. ,   74. ,\n",
      "         84. ,   77.5,   69.5,   91.5,   72.5,   77.5,   73.5,   83. ,\n",
      "         82.5,   77. ,   77. ,   77. ,   82.5,   76. ,   71.5,   70.5,\n",
      "         71. ,   81.5,   88. ,   83. ,   89.5,   86.5,  110. ,  108. ,\n",
      "        107.5,   95. ,   99.5,   99. ,  101.5,  111.5,  110. ,  105. ,\n",
      "        109. ,  113.5,  132. ,  112.5,  128.5,  136. ,  142. ,  133. ,\n",
      "        141. ,  138.5,  151.5,  168. ,  146.5,  176.5,  184.5,  162.5,\n",
      "        185. ,  202.5,  193.5,  205.5,  232. ,  212.5,  218. ,  235.5,\n",
      "        250. ,  241. ,  235. ,  246.5,  246.5,  261. ,  259. ,  281.5,\n",
      "        304.5,  317.5,  288. ,  313.5,  303. ,  327. ,  313. ,  330.5,\n",
      "        361.5,  348.5,  341.5,  325.5,  314.5,  347. ,  329.5,  298.5,\n",
      "        299.5,  282. ,  294. ,  310. ,  288. ,  287. ,  270.5,  257. ,\n",
      "        268.5,  254. ,  252. ,  240.5,  226.5,  216.5,  220.5,  216. ,\n",
      "        197. ,  186. ,  189. ,  193.5,  164. ,  178.5,  159.5,  166. ,\n",
      "        168. ,  153.5,  155.5,  146. ,  143.5,  148. ,  135.5,  154. ,\n",
      "        136. ,  131.5,  132.5,  138. ,  138. ,  152.5,  150.5,  150.5,\n",
      "        143.5,  149.5,  165.5,  168.5,  199.5,  201. ,  206. ,  221.5,\n",
      "        229.5,  238.5,  261. ,  253.5,  244.5,  219. ,  235. ,  263. ,\n",
      "        248.5,  259.5,  262.5,  256. ,  245.5,  231.5,  235.5,  210. ,\n",
      "        232. ,  242. ,  244.5,  242. ,  272.5,  263.5,  274.5,  297.5,\n",
      "        299. ,  311.5,  324.5,  339. ,  329. ,  335.5,  330.5,  318. ,\n",
      "        321.5,  332. ,  329. ,  326. ,  322. ,  324.5,  329. ,  348. ,\n",
      "        403. ,  363. ,  325.5,  296.5,  249.5,  186. ,  136. ,  101. ,\n",
      "         87.5,   52. ,   50.5,   54.5,   52. ,   49.5,   45.5,   42.5,\n",
      "         49.5,   36. ,   44. ,   46. ,   38. ,   38. ,   43. ,   40. ,\n",
      "         50. ,   47. ,   44. ,   48. ,   61. ,   57.5,   76. ,   85. ,\n",
      "         96. ,  102. ,   93.5,  104.5,   98.5,   81. ,   60. ,   58. ,\n",
      "         53. ,   51.5,   44.5,   43.5,   44. ,   47.5,   53.5,   65.5,\n",
      "         63. ,   68.5,   81. ,  125.5,  227. ,  394. ,  634.5, 6979. ,\n",
      "        138.5,   89. ,   70. ,   68. ,   50.5,   75.5,   77. ,  101.5,\n",
      "         95.5,  113.5,  106.5,  112.5,  116.5,  114. ,  101. ,   98. ,\n",
      "         86. ,   82. ,   75. ,   65. ,   73. ,   72.5,   69. ,   80. ,\n",
      "         84.5,   81. ,   79. ,   85.5,   82. ,   79.5,   75.5,   81. ,\n",
      "         67. ,   74. ,   71.5,   80. ,   76. ,   76.5,   72. ,   72.5,\n",
      "         68.5,   80.5,   67.5,   85.5,   84.5,   78. ,   69.5,   66.5,\n",
      "         89. ,   87.5,   77. ,   87. ,   84.5,   92.5,   95.5,  101. ,\n",
      "         89.5,   99. ,   93.5,  107. ,   96.5,   92. ,   91. ,  106.5,\n",
      "         95.5,  115.5,   97.5,  110. ,   96. ,  115.5,  113.5,  107.5,\n",
      "         94.5,  108. ,  109.5,  117.5,  123.5,  112. ,  111. ,   98.5,\n",
      "        119.5,  112.5,  116.5,  123. ,  110.5,  121. ,  128.5,  112.5,\n",
      "        123. ,  121.5,  125.5,  125. ,  117.5,  142.5,  151.5,  139. ,\n",
      "        141.5,  140.5,  142. ,  139.5,  132.5,  138. ,  135.5,  142. ,\n",
      "        135.5,  157. ,  130. ,  149.5,  156. ,  154. ,  161.5,  158. ,\n",
      "        177. ,  178. ,  179. ,  194.5,  201.5,  197.5,  199. ,  224. ,\n",
      "        219.5,  237. ,  241.5,  250. ,  252.5,  294. ,  302.5,  313. ,\n",
      "        329.5,  347.5,  373.5,  376. ,  401. ,  396. ,  406.5,  375. ,\n",
      "        432.5,  440. ,  424.5,  433.5,  472.5,  444. ,  445.5,  444. ,\n",
      "        439.5,  456. ,  482. ,  479. ,  504.5,  512.5,  492.5,  495.5,\n",
      "        506. ,  522. ,  532.5,  529. ,  509.5,  503. ,  552.5,  555. ,\n",
      "        566. ,  535.5,  512. ,  471.5,  470. ,  464. ,  449. ,  453.5,\n",
      "        446.5,  473. ,  484.5,  469.5,  490.5,  461. ,  418. ,  368.5,\n",
      "        251. ,  205. ,  176. ,  140. ,  110.5,   93. ,   80.5,   72. ,\n",
      "         72.5,   65. ,   60.5,   55. ,   64. ,   55. ,   52.5,   60. ,\n",
      "         62.5,   54. ,   68.5,   63. ,   66.5,   69. ,   55.5,   69. ,\n",
      "         70. ,   60. ,   56. ,   50.5,   45.5,   49. ,   47.5,   40.5,\n",
      "         52. ,   38. ,   42. ,   40.5,   40. ,   42.5,   50. ,   37.5,\n",
      "         37. ,   31.5,   33.5,   27.5,   32. ,   29. ,   40. ,   37. ,\n",
      "         42. ,   41.5,   42. ,   51. ,   56.5,   68. ,   99. ,   93.5,\n",
      "         70.5,   79.5,   68.5,   77.5,   59. ,   52.5,   36. ,   44.5,\n",
      "         35.5,   29. ,   31.5,   31.5,   36. ,   28. ,   33.5,   38.5,\n",
      "         41.5,   41.5,   54. ,   94. ,  201. ,  435.5,  625. , 6998. ,\n",
      "       1265.5,  420.5,  395. ,  291.5,  246. ,  201. ,  140.5,  124. ,\n",
      "        102. ,   78. ,   61. ,   73.5,   54. ,   54. ,   60.5,   58.5,\n",
      "         52.5,   72. ,   65. ,   67.5,   60. ,   67. ,   70.5,   63. ,\n",
      "         60.5,   65.5,   72.5,   54.5,   61.5,   74. ,   65. ,   64. ,\n",
      "         69. ,   65. ,   74.5,   79. ,   78. ,   78.5,   70. ,   72.5,\n",
      "         66.5,   77. ,   77.5,   76. ,   68. ,   69. ,   79. ,   81.5,\n",
      "         85.5,   84. ,   89. ,  102. ,   91.5,  105. ,  126. ,  111.5,\n",
      "        125. ,  131.5,  170.5,  175. ,  187. ,  182. ,  191. ,  186.5,\n",
      "        205. ,  245.5,  233.5,  240.5,  261. ,  263.5,  293.5,  309.5,\n",
      "        296. ,  312.5,  325.5,  324.5,  334.5,  332. ,  335.5,  334. ,\n",
      "        342.5,  337. ,  351.5,  325.5,  334.5,  325.5,  327.5,  340.5,\n",
      "        318.5,  312.5,  324. ,  300. ,  328.5,  328. ,  282.5,  302.5,\n",
      "        285.5,  292. ,  281.5,  260. ,  260. ,  245. ,  237.5,  230.5,\n",
      "        210.5,  231. ,  230.5,  216.5,  222. ,  201.5,  223. ,  216.5,\n",
      "        199.5,  220.5,  220.5,  198. ,  184.5,  190. ,  202. ,  178. ,\n",
      "        195.5,  190. ,  203. ,  205.5,  225.5,  233. ,  251. ,  228. ,\n",
      "        246.5,  267. ,  281.5,  282.5,  299. ,  268. ,  290.5,  276. ,\n",
      "        258. ,  269. ,  276. ,  272. ,  249. ,  250.5,  248.5,  244.5,\n",
      "        263.5,  253.5,  271. ,  281.5,  264.5,  261. ,  275. ,  270. ,\n",
      "        288. ,  267. ,  282.5,  282.5,  289.5,  285.5,  272.5,  282.5,\n",
      "        287. ,  264. ,  269. ,  266. ,  284. ,  257.5,  245.5,  265. ,\n",
      "        256.5,  290. ,  304. ,  302. ,  279. ,  228.5,  213. ,  195. ,\n",
      "        138. ,  127. ,  111. ,   92.5,   67.5,   56.5,   54. ,   47.5,\n",
      "         38. ,   43. ,   46. ,   39.5,   41. ,   47.5,   35.5,   52. ,\n",
      "         55. ,   53.5,   51.5,   48. ,   41.5,   50.5,   52.5,   57. ,\n",
      "         61.5,   57.5,   59.5,   58. ,   61. ,   60.5,   57. ,   62.5,\n",
      "         49.5,   41.5,   44.5,   41.5,   43. ,   39.5,   44.5,   39. ,\n",
      "         44. ,   52.5,   35.5,   43. ,   47. ,   35.5,   41.5,   42.5,\n",
      "         41.5,   30.5,   37.5,   33. ,   41. ,   37.5,   43. ,   49. ,\n",
      "         61.5,   67.5,   75.5,   70.5,   82.5,   82. ,   73.5,   71. ,\n",
      "         67. ,   54. ,   49.5,   42. ,   39.5,   33.5,   43.5,   53. ,\n",
      "         71.5,   60. ,   95.5,  144.5,  193.5,  428. ,  481.5, 6960. ])}\n"
     ]
    }
   ],
   "source": [
    "# Sanity check: No. of elements should be the same as no. of clusters detected in clustering phase\n",
    "if global_feat_prototypes is not None:\n",
    "    print(global_feat_prototypes[3]) # float64"
   ]
  },
  {
   "cell_type": "markdown",
   "id": "70e9a39b",
   "metadata": {},
   "source": [
    "## Vote Count Prediction (using feat prototypes and vote prototypes)"
   ]
  },
  {
   "cell_type": "markdown",
   "id": "2373d99e",
   "metadata": {},
   "source": [
    "#### Helper functions"
   ]
  },
  {
   "cell_type": "code",
   "execution_count": 62,
   "id": "ff75b136",
   "metadata": {},
   "outputs": [],
   "source": [
    "def dist_to_prt(p1, p2, metric):\n",
    "    if metric=='euclid': return np.linalg.norm(p1-p2)\n",
    "    if metric=='cosine': return 1 - (np.dot(p1, p2)/(np.linalg.norm(p1) * np.linalg.norm(p2)))\n",
    "    else: raise Exception(f'Unknown metric type : {metric}')"
   ]
  },
  {
   "cell_type": "markdown",
   "id": "d8a73073",
   "metadata": {},
   "source": [
    "### Prototype-based VCP"
   ]
  },
  {
   "cell_type": "code",
   "execution_count": 63,
   "id": "2998fe38",
   "metadata": {},
   "outputs": [],
   "source": [
    "def get_distances_to_feat_prts(test_img_name, feats_df, gbl_feat_prts, split_idx, metric, **kwargs):\n",
    "    # Prepare data\n",
    "    test_feats = feats_df.loc[test_img_name].values\n",
    "    feat_prts = gbl_feat_prts[split_idx]\n",
    "    # Calculate distances\n",
    "    distances_per_feat_prt = {}\n",
    "    for prt_idx, prt_feats in feat_prts.items():\n",
    "        distances_per_feat_prt[prt_idx] = dist_to_prt(test_feats, prt_feats, metric)\n",
    "    return distances_per_feat_prt"
   ]
  },
  {
   "cell_type": "markdown",
   "id": "7da6f51f",
   "metadata": {},
   "source": [
    "### PCA-based VCP"
   ]
  },
  {
   "cell_type": "code",
   "execution_count": 64,
   "id": "bc1ff36e",
   "metadata": {},
   "outputs": [],
   "source": [
    "def get_pca_proj_distances(test_img_name, images_folder_path, gbl_feat_prts, split_idx, **kwargs):\n",
    "    pass"
   ]
  },
  {
   "cell_type": "markdown",
   "id": "15964f59",
   "metadata": {},
   "source": [
    "### Prototypeless VCP"
   ]
  },
  {
   "cell_type": "code",
   "execution_count": 65,
   "id": "308a5986",
   "metadata": {},
   "outputs": [],
   "source": [
    "def get_img_idxs_per_cluster(cl_results, ignore_noise=True):\n",
    "    img_idxs_per_cluster = {}\n",
    "    for img_name, cl_idx in cl_results.items():\n",
    "        if cl_idx==-1 and ignore_noise: continue # ignore noise cluster\n",
    "        img_idx = np.argwhere(X_names == img_name)[0][0]\n",
    "        if cl_idx not in img_idxs_per_cluster.keys():\n",
    "            img_idxs_per_cluster[cl_idx] = [img_idx]\n",
    "        else:\n",
    "            img_idxs_per_cluster[cl_idx].append(img_idx)\n",
    "    return img_idxs_per_cluster\n",
    "\n",
    "def get_intercluster_distances(test_img_name, feats_df, cl_results, split_idx, metric, **kwargs):\n",
    "    pass"
   ]
  },
  {
   "cell_type": "markdown",
   "id": "9710fb41",
   "metadata": {},
   "source": [
    "### Main code"
   ]
  },
  {
   "cell_type": "code",
   "execution_count": 66,
   "id": "33ec772a",
   "metadata": {},
   "outputs": [],
   "source": [
    "def get_nearest_prototypes_indices(dist_to_prototypes, k):\n",
    "    '''Given a dictionary between feature prototypes indices and the distance to a point,\n",
    "    return indices of nearest prototypes (i.e. those with the lowest distances).\n",
    "    Indices of prototypes are NOT guaranteed to be ordered in terms of closeness'''\n",
    "    # Return existing prototypes if k is higher than no. of prototypes\n",
    "    if k >= len(dist_to_prototypes): return list(dist_to_prototypes.keys())\n",
    "    # Else, find nearest prototypes\n",
    "    nearest_prts_idxs = []\n",
    "    # Iterate k times...\n",
    "    for i in range(k):\n",
    "        nearest_prt_idx, min_dist = None, np.inf\n",
    "        # ...searching the next nearest prototype\n",
    "        for prt_idx, dist in dist_to_prototypes.items():\n",
    "            if prt_idx in nearest_prts_idxs: continue # ignore prev. found nearest prototypes\n",
    "            if dist < min_dist: nearest_prt_idx, min_dist = prt_idx, dist\n",
    "        nearest_prts_idxs.append(nearest_prt_idx)\n",
    "    return nearest_prts_idxs\n",
    "\n",
    "def gen_prediction(test_img_name, vote_prts, k, vote_pred_type, **kwargs):\n",
    "    # Calculate distances to each cluster/prototype depending on vote_pred_type\n",
    "    if vote_pred_type == 'prt-based':\n",
    "        dist_to_prototypes = get_distances_to_feat_prts(test_img_name, **kwargs)\n",
    "    elif vote_pred_type == 'pca-based':\n",
    "        dist_to_prototypes = get_pca_proj_distances(test_img_name, **kwargs)\n",
    "    elif vote_pred_type == 'prtless':\n",
    "        dist_to_prototypes = get_intercluster_distances(test_img_name, **kwargs)\n",
    "    else:\n",
    "        raise Exception(f'Unknown vote prediction type : {vote_pred_type}')\n",
    "    # Find k nearest prototypes\n",
    "    kn_prototypes_idxs =  get_nearest_prototypes_indices(dist_to_prototypes, k)\n",
    "    # Aggregate the vote prototypes of the clusters associated with those distances\n",
    "    nearest_vote_prototypes = [vote_prts[kn_prt_idx] for kn_prt_idx in kn_prototypes_idxs]\n",
    "    unrounded_vcp = np.average(np.array(nearest_vote_prototypes), axis=0)\n",
    "    rounded_vcp = np.round(unrounded_vcp, 0).astype(np.int8)\n",
    "    vote_count_prediction = rounded_vcp\n",
    "    return vote_count_prediction"
   ]
  },
  {
   "cell_type": "code",
   "execution_count": 67,
   "id": "0e6bde9e",
   "metadata": {},
   "outputs": [],
   "source": [
    "def get_indiv_vote_predictions(split, vote_prts, image_names, k, vote_pred_type, **kwargs):\n",
    "    '''Maps the name of every test image with its generated vote count prediction'''\n",
    "    vote_predictions = {}\n",
    "    query_times = {}\n",
    "    # Prepare data\n",
    "    test_idxs = split[1]\n",
    "    # For each test image...\n",
    "    for test_img_idx in test_idxs:\n",
    "        # Register query computation time\n",
    "        start = tictoc()\n",
    "        # Generate and store prediction (along with the image's name)\n",
    "        kwargs['image_names'] = image_names\n",
    "        test_img_name = image_names[test_img_idx]\n",
    "        vote_count_prediction = gen_prediction(test_img_name, vote_prts, k, vote_pred_type, **kwargs)\n",
    "        vote_predictions[test_img_name] = vote_count_prediction\n",
    "        # Calculate and store query computation time\n",
    "        end = tictoc()\n",
    "        query_time = end - start\n",
    "        query_times[test_img_name] = query_time\n",
    "    return vote_predictions, query_times\n",
    "\n",
    "def get_global_vote_predictions(splits, gbl_vote_prts, image_names, k, vote_pred_type, **kwargs):\n",
    "    '''Maps indices of test folds/splits with the vote count predictions generated'''\n",
    "    global_vote_predictions = {}\n",
    "    global_query_times = {}\n",
    "    for split_idx in gbl_vote_prts.keys():\n",
    "        # Generate predictions and query times.\n",
    "        kwargs['split_idx'] = split_idx # Some functions use this parameter\n",
    "        vote_preds, query_times = get_indiv_vote_predictions(splits[split_idx], gbl_vote_prts[split_idx], image_names, k, vote_pred_type, **kwargs)\n",
    "        # Create { split_idx: vote_predictions } and { split_idx : query_times } pairs\n",
    "        global_vote_predictions[split_idx] = vote_preds\n",
    "        global_query_times[split_idx] = query_times\n",
    "    return global_vote_predictions, global_query_times"
   ]
  },
  {
   "cell_type": "code",
   "execution_count": 68,
   "id": "ffe0c5fa",
   "metadata": {},
   "outputs": [],
   "source": [
    "# Warning: This code access variables defined previously without referencing them in its arguments.\n",
    "def get_predictions(k, vote_pred_type, sim_metric_id, **kwargs):\n",
    "    predictions = None\n",
    "    if vote_pred_type == 'prt-based':\n",
    "        predictions = get_global_vote_predictions(splits, global_vote_prototypes, X_names, k, vote_pred_type,\n",
    "                                                  feats_df=feats_df, gbl_feat_prts=global_feat_prototypes, metric=sim_metric_id)\n",
    "    elif vote_pred_type == 'pca-based':\n",
    "        predictions = get_global_vote_predictions(splits, global_vote_prototypes, X_names, k, vote_pred_type,\n",
    "                                                 images_folder_path=IMAGES_FOLDER_PATH, gbl_pca_objs=global_feat_prototypes)\n",
    "    elif vote_pred_type == 'prtless':\n",
    "        predictions = get_global_vote_predictions(splits, global_vote_prototypes, X_names, k, vote_pred_type,\n",
    "                                                  feats_df=feats_df, gbl_cl_results=global_cl_results, metric=sim_metric_id)\n",
    "    else:\n",
    "        raise Exception(f'Unknown vote prediction type : {vote_pred_type}')\n",
    "    return predictions"
   ]
  },
  {
   "cell_type": "markdown",
   "id": "1f3c1f4e",
   "metadata": {},
   "source": [
    "##### A little function to evaluate different values for k"
   ]
  },
  {
   "cell_type": "code",
   "execution_count": 69,
   "id": "246ad8c2",
   "metadata": {},
   "outputs": [],
   "source": [
    "def batch_get_predictions(k_range, **kwargs):\n",
    "    batch_predictions, batch_query_times = {}, {}\n",
    "    for k in k_range:\n",
    "        preds, query_times = get_predictions(k, **kwargs)\n",
    "        batch_predictions[k] = preds\n",
    "        batch_query_times[k] = query_times\n",
    "    return batch_predictions, batch_query_times"
   ]
  },
  {
   "cell_type": "markdown",
   "id": "e5ff5a8e",
   "metadata": {},
   "source": [
    "### Generating predictions"
   ]
  },
  {
   "cell_type": "code",
   "execution_count": 70,
   "id": "ebf4d648",
   "metadata": {},
   "outputs": [
    {
     "name": "stdout",
     "output_type": "stream",
     "text": [
      "prt-based euclid\n"
     ]
    }
   ],
   "source": [
    "# Sanity check / Remainder of constants\n",
    "print(VOTE_PRED_TYPE, SIM_METRIC_ID)"
   ]
  },
  {
   "cell_type": "code",
   "execution_count": 71,
   "id": "8e803ecc",
   "metadata": {},
   "outputs": [],
   "source": [
    "k_range = K_RANGE # Substitute if neccesary\n",
    "batch_results = batch_get_predictions(k_range, vote_pred_type=VOTE_PRED_TYPE, sim_metric_id=SIM_METRIC_ID)\n",
    "batch_global_predictions, batch_global_query_times = batch_results"
   ]
  },
  {
   "cell_type": "code",
   "execution_count": 72,
   "id": "e1476526",
   "metadata": {
    "scrolled": true
   },
   "outputs": [
    {
     "data": {
      "text/plain": [
       "{'2388889__hotdog__0.99999714.jpg': array([6, 2, 5, 1], dtype=int8),\n",
       " '2417881__zebra__0.9999945.jpg': array([6, 2, 5, 1], dtype=int8),\n",
       " '2403403__banana__0.9999926.jpg': array([6, 2, 5, 1], dtype=int8),\n",
       " '2381941__zebra__0.9999914.jpg': array([6, 2, 5, 1], dtype=int8),\n",
       " '2403741__zebra__0.99999523.jpg': array([6, 2, 5, 1], dtype=int8),\n",
       " '2404281__zebra__0.999998.jpg': array([6, 2, 5, 1], dtype=int8),\n",
       " '2416627__zebra__0.9999987.jpg': array([6, 2, 5, 1], dtype=int8),\n",
       " '2391964__flamingo__1.0.jpg': array([6, 2, 5, 1], dtype=int8),\n",
       " '2404583__umbrella__0.99999297.jpg': array([6, 2, 5, 1], dtype=int8),\n",
       " '2409637__four-poster__0.99999464.jpg': array([6, 2, 5, 1], dtype=int8),\n",
       " '2380669__parking_meter__0.9999993.jpg': array([6, 2, 5, 1], dtype=int8),\n",
       " '2411196__crane__0.9999995.jpg': array([6, 2, 5, 1], dtype=int8),\n",
       " '134__zebra__0.9999949.jpg': array([6, 2, 5, 1], dtype=int8),\n",
       " '2405905__traffic_light__0.99999535.jpg': array([6, 2, 5, 1], dtype=int8),\n",
       " '2404127__zebra__0.9999933.jpg': array([6, 2, 5, 1], dtype=int8),\n",
       " '2406857__zebra__0.9999894.jpg': array([6, 2, 5, 1], dtype=int8),\n",
       " '2414277__zebra__0.9999908.jpg': array([6, 2, 5, 1], dtype=int8),\n",
       " '2385298__parking_meter__0.9999865.jpg': array([6, 2, 5, 1], dtype=int8),\n",
       " '2406887__ski__0.99999785.jpg': array([6, 2, 5, 1], dtype=int8),\n",
       " '2416228__parking_meter__0.9999914.jpg': array([6, 2, 5, 1], dtype=int8),\n",
       " '2415402__zebra__0.99998903.jpg': array([6, 2, 5, 1], dtype=int8),\n",
       " '2408701__zebra__0.9999981.jpg': array([6, 2, 5, 1], dtype=int8),\n",
       " '2389484__street_sign__0.99998474.jpg': array([6, 2, 5, 1], dtype=int8),\n",
       " '2417395__zebra__0.9999993.jpg': array([6, 2, 5, 1], dtype=int8),\n",
       " '2384512__zebra__0.99999726.jpg': array([6, 2, 5, 1], dtype=int8),\n",
       " '2391918__steam_locomotive__0.99999845.jpg': array([6, 2, 5, 1], dtype=int8),\n",
       " '2404229__zebra__0.99998367.jpg': array([6, 2, 5, 1], dtype=int8),\n",
       " '2381968__ski__0.999984.jpg': array([6, 2, 5, 1], dtype=int8),\n",
       " '2413495__traffic_light__0.9999925.jpg': array([6, 2, 5, 1], dtype=int8),\n",
       " '2398585__bow_tie__0.9999838.jpg': array([6, 2, 5, 1], dtype=int8),\n",
       " '2398771__traffic_light__0.99999.jpg': array([6, 2, 5, 1], dtype=int8),\n",
       " '2400121__pizza__0.9999962.jpg': array([6, 2, 5, 1], dtype=int8),\n",
       " '2407951__zebra__0.9999975.jpg': array([6, 2, 5, 1], dtype=int8),\n",
       " '2386193__broccoli__0.9999924.jpg': array([6, 2, 5, 1], dtype=int8),\n",
       " '2410903__steam_locomotive__0.9999876.jpg': array([6, 2, 5, 1], dtype=int8),\n",
       " '2399675__zebra__0.9999883.jpg': array([6, 2, 5, 1], dtype=int8),\n",
       " '2381932__traffic_light__0.99999964.jpg': array([6, 2, 5, 1], dtype=int8),\n",
       " '691__cheetah__0.99999213.jpg': array([6, 2, 5, 1], dtype=int8),\n",
       " '2392405__parking_meter__0.9999993.jpg': array([6, 2, 5, 1], dtype=int8),\n",
       " '2412908__zebra__0.99998975.jpg': array([6, 2, 5, 1], dtype=int8)}"
      ]
     },
     "execution_count": 72,
     "metadata": {},
     "output_type": "execute_result"
    }
   ],
   "source": [
    "# For k=5, in the test split #0, show generated predictions\n",
    "batch_global_predictions[5][0]"
   ]
  },
  {
   "cell_type": "code",
   "execution_count": 73,
   "id": "74d0a248",
   "metadata": {
    "scrolled": true
   },
   "outputs": [
    {
     "data": {
      "text/plain": [
       "{'2388889__hotdog__0.99999714.jpg': 0.00036869999999922243,\n",
       " '2417881__zebra__0.9999945.jpg': 0.00032930000000064297,\n",
       " '2403403__banana__0.9999926.jpg': 0.00032939999999825886,\n",
       " '2381941__zebra__0.9999914.jpg': 0.0006221999999986849,\n",
       " '2403741__zebra__0.99999523.jpg': 0.0004629999999998802,\n",
       " '2404281__zebra__0.999998.jpg': 0.0003409000000011986,\n",
       " '2416627__zebra__0.9999987.jpg': 0.0003244000000002245,\n",
       " '2391964__flamingo__1.0.jpg': 0.00038780000000215864,\n",
       " '2404583__umbrella__0.99999297.jpg': 0.00046809999999908314,\n",
       " '2409637__four-poster__0.99999464.jpg': 0.00033120000000153027,\n",
       " '2380669__parking_meter__0.9999993.jpg': 0.0003911000000016429,\n",
       " '2411196__crane__0.9999995.jpg': 0.00032919999999947436,\n",
       " '134__zebra__0.9999949.jpg': 0.0003274000000033084,\n",
       " '2405905__traffic_light__0.99999535.jpg': 0.000335700000000827,\n",
       " '2404127__zebra__0.9999933.jpg': 0.00031809999999765637,\n",
       " '2406857__zebra__0.9999894.jpg': 0.0003223000000005527,\n",
       " '2414277__zebra__0.9999908.jpg': 0.0003378000000004988,\n",
       " '2385298__parking_meter__0.9999865.jpg': 0.0003280999999972778,\n",
       " '2406887__ski__0.99999785.jpg': 0.0003201999999973282,\n",
       " '2416228__parking_meter__0.9999914.jpg': 0.0003606000000004883,\n",
       " '2415402__zebra__0.99998903.jpg': 0.0003145999999993876,\n",
       " '2408701__zebra__0.9999981.jpg': 0.0003889999999984184,\n",
       " '2389484__street_sign__0.99998474.jpg': 0.0007014999999981342,\n",
       " '2417395__zebra__0.9999993.jpg': 0.0006389999999996121,\n",
       " '2384512__zebra__0.99999726.jpg': 0.001430700000000229,\n",
       " '2391918__steam_locomotive__0.99999845.jpg': 0.000506600000001356,\n",
       " '2404229__zebra__0.99998367.jpg': 0.00038200000000188084,\n",
       " '2381968__ski__0.999984.jpg': 0.00033870000000035816,\n",
       " '2413495__traffic_light__0.9999925.jpg': 0.0003399000000001706,\n",
       " '2398585__bow_tie__0.9999838.jpg': 0.0003187000000011153,\n",
       " '2398771__traffic_light__0.99999.jpg': 0.000314499999998219,\n",
       " '2400121__pizza__0.9999962.jpg': 0.0003204000000032181,\n",
       " '2407951__zebra__0.9999975.jpg': 0.00030950000000018463,\n",
       " '2386193__broccoli__0.9999924.jpg': 0.0003257999999988215,\n",
       " '2410903__steam_locomotive__0.9999876.jpg': 0.00034190000000222653,\n",
       " '2399675__zebra__0.9999883.jpg': 0.00032159999999947786,\n",
       " '2381932__traffic_light__0.99999964.jpg': 0.00031399999999948136,\n",
       " '691__cheetah__0.99999213.jpg': 0.000343100000002039,\n",
       " '2392405__parking_meter__0.9999993.jpg': 0.0003264000000022804,\n",
       " '2412908__zebra__0.99998975.jpg': 0.00031939999999863744}"
      ]
     },
     "execution_count": 73,
     "metadata": {},
     "output_type": "execute_result"
    }
   ],
   "source": [
    "# For k=5, in the test split #0, show query times\n",
    "batch_global_query_times[5][0]"
   ]
  },
  {
   "cell_type": "markdown",
   "id": "09a170f8",
   "metadata": {},
   "source": [
    "## Metric Evaluation"
   ]
  },
  {
   "cell_type": "markdown",
   "id": "f022d1fa",
   "metadata": {},
   "source": [
    "### Vote Accuracy (RMSE, Manhattan, etc...)"
   ]
  },
  {
   "cell_type": "code",
   "execution_count": 74,
   "id": "a73839cd",
   "metadata": {},
   "outputs": [],
   "source": [
    "def calc_vote_distance(p1, p2, metric):\n",
    "    if metric == 'rmse': return np.sum(np.square(p1 - p2))\n",
    "    elif metric == 'manhattan': return np.sum(np.abs(p1 - p2))\n",
    "    else: raise Exception(f'Unknown performance metric : {metric}')\n",
    "        \n",
    "def eval_indiv_vote_predictions(vote_predictions, perf_metric):\n",
    "    vote_distances = []\n",
    "    for img_name, vote_pred in vote_predictions.items():\n",
    "        # Fetch real votes and compare with vote predictions\n",
    "        real_votes = votes_df.loc[img_name].values[:4]\n",
    "        distance = calc_vote_distance(real_votes, vote_pred, perf_metric)\n",
    "        vote_distances.append(distance)\n",
    "    vote_distances = np.array(vote_distances)\n",
    "    if perf_metric=='rmse': metrics = {'rmse': round(np.sqrt(np.average(vote_distances)), 2)}\n",
    "    elif perf_metric=='manhattan': metrics = {'manhattan': (np.average(vote_distances), 2)}\n",
    "    else: raise Exception(f'Unknown performance metric : {perf_metric}')\n",
    "    return metrics\n",
    "\n",
    "def eval_global_vote_predictions(global_vote_predictions, perf_metric):\n",
    "    global_metrics = {}\n",
    "    # Calculate metrics for each split\n",
    "    for split_idx, vote_predictions in global_vote_predictions.items():\n",
    "        global_metrics[split_idx] = eval_indiv_vote_predictions(vote_predictions, perf_metric)\n",
    "    # Aggregate metrics for all splits\n",
    "    global_metrics['global'] = {}\n",
    "    for metric_type in global_metrics[0].keys():\n",
    "        metrics_per_type = [metrics[metric_type] for split_key, metrics in global_metrics.items() if split_key != 'global']\n",
    "        avgd_metrics_per_type = np.round(np.average(np.array(metrics_per_type), axis=0), 2)\n",
    "        global_metrics['global'][metric_type] = avgd_metrics_per_type\n",
    "    return global_metrics"
   ]
  },
  {
   "cell_type": "markdown",
   "id": "2e491fcd",
   "metadata": {},
   "source": [
    "### Query Times"
   ]
  },
  {
   "cell_type": "code",
   "execution_count": 75,
   "id": "368c0001",
   "metadata": {},
   "outputs": [],
   "source": [
    "def eval_indiv_query_times(query_times):\n",
    "    times = [query_time for _, query_time in query_times.items()]\n",
    "    avg_time = np.average(np.array(times))\n",
    "    return avg_time\n",
    "\n",
    "def eval_global_query_times(global_query_times):\n",
    "    global_metrics = {}\n",
    "    for split_idx, query_times in global_query_times.items():\n",
    "        global_metrics[split_idx] = eval_indiv_query_times(query_times)\n",
    "    avg_times = [avg_time for _, avg_time in global_metrics.items()]\n",
    "    global_metrics['global'] = np.average(np.array(avg_times))\n",
    "    return global_metrics"
   ]
  },
  {
   "cell_type": "markdown",
   "id": "ac7415b9",
   "metadata": {},
   "source": [
    "### Main Code"
   ]
  },
  {
   "cell_type": "code",
   "execution_count": 76,
   "id": "78a1ce2b",
   "metadata": {},
   "outputs": [],
   "source": [
    "def evaluate_results(gbl_vote_preds, gbl_query_times, perf_metric):\n",
    "    vote_metrics = eval_global_vote_predictions(gbl_vote_preds, perf_metric)\n",
    "    query_metrics = eval_global_query_times(gbl_query_times)\n",
    "    return {\n",
    "        'vote_metrics': vote_metrics,\n",
    "        'query_metrics': query_metrics\n",
    "    }"
   ]
  },
  {
   "cell_type": "code",
   "execution_count": 77,
   "id": "ac2bf53a",
   "metadata": {},
   "outputs": [],
   "source": [
    "def batch_evaluate_results(batch_gbl_vote_preds, batch_gbl_query_times, perf_metric):\n",
    "    batch_results = {}\n",
    "    for k_idx in batch_gbl_vote_preds.keys():\n",
    "        results = evaluate_results(batch_gbl_vote_preds[k_idx], batch_gbl_query_times[k_idx], perf_metric)\n",
    "        batch_results[k_idx] = results\n",
    "    return batch_results"
   ]
  },
  {
   "cell_type": "markdown",
   "id": "a0df7e8f",
   "metadata": {},
   "source": [
    "### Compute Both Vote Distances and Query Times"
   ]
  },
  {
   "cell_type": "code",
   "execution_count": 78,
   "id": "00e0aaa6",
   "metadata": {},
   "outputs": [],
   "source": [
    "batch_global_results = batch_evaluate_results(batch_global_predictions, batch_global_query_times, perf_metric=PERF_METRIC_ID)"
   ]
  },
  {
   "cell_type": "markdown",
   "id": "93c5d099",
   "metadata": {},
   "source": [
    "#### Display Results"
   ]
  },
  {
   "cell_type": "code",
   "execution_count": 79,
   "id": "580f3122",
   "metadata": {},
   "outputs": [],
   "source": [
    "def display_batch_results(batch_gbl_results, full_id):\n",
    "    print('DISPLAYING RESULTS')\n",
    "    print(f'FOR {full_id}')\n",
    "    print('-------------------------')\n",
    "    for k_idx, gbl_results in batch_gbl_results.items():\n",
    "        seconds = gbl_results[\"query_metrics\"][\"global\"]\n",
    "        microseconds = round(seconds * 10**6)\n",
    "        print(f'FOR K = {k_idx}')\n",
    "        print(f'Avg. Accuracy : {gbl_results[\"vote_metrics\"][\"global\"]}')\n",
    "        print(f'Avg. Query Time : {microseconds} microseconds')\n",
    "        print('-------------------------------------')"
   ]
  },
  {
   "cell_type": "code",
   "execution_count": 80,
   "id": "6230ddc4",
   "metadata": {},
   "outputs": [
    {
     "name": "stdout",
     "output_type": "stream",
     "text": [
      "DISPLAYING RESULTS\n",
      "FOR color_hist_euclid\n",
      "-------------------------\n",
      "FOR K = 1\n",
      "Avg. Accuracy : {'rmse': 4.42}\n",
      "Avg. Query Time : 445 microseconds\n",
      "-------------------------------------\n",
      "FOR K = 3\n",
      "Avg. Accuracy : {'rmse': 4.51}\n",
      "Avg. Query Time : 484 microseconds\n",
      "-------------------------------------\n",
      "FOR K = 5\n",
      "Avg. Accuracy : {'rmse': 4.51}\n",
      "Avg. Query Time : 441 microseconds\n",
      "-------------------------------------\n",
      "FOR K = 7\n",
      "Avg. Accuracy : {'rmse': 4.51}\n",
      "Avg. Query Time : 468 microseconds\n",
      "-------------------------------------\n",
      "FOR K = 10\n",
      "Avg. Accuracy : {'rmse': 4.51}\n",
      "Avg. Query Time : 419 microseconds\n",
      "-------------------------------------\n"
     ]
    }
   ],
   "source": [
    "# Watch out! Query times can change!\n",
    "display_batch_results(batch_global_results, FULL_ID)"
   ]
  },
  {
   "cell_type": "markdown",
   "id": "d62a55c1",
   "metadata": {},
   "source": [
    "Additional note: Average query times are similar when using both time and timeit."
   ]
  },
  {
   "cell_type": "code",
   "execution_count": 81,
   "id": "1b8c6717",
   "metadata": {},
   "outputs": [
    {
     "data": {
      "text/plain": [
       "<function time.perf_counter>"
      ]
     },
     "execution_count": 81,
     "metadata": {},
     "output_type": "execute_result"
    }
   ],
   "source": [
    "tictoc"
   ]
  }
 ],
 "metadata": {
  "kernelspec": {
   "display_name": "Python 3",
   "language": "python",
   "name": "python3"
  },
  "language_info": {
   "codemirror_mode": {
    "name": "ipython",
    "version": 3
   },
   "file_extension": ".py",
   "mimetype": "text/x-python",
   "name": "python",
   "nbconvert_exporter": "python",
   "pygments_lexer": "ipython3",
   "version": "3.8.5"
  }
 },
 "nbformat": 4,
 "nbformat_minor": 5
}
