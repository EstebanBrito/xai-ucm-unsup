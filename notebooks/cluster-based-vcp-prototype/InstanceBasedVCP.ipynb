{
 "cells": [
  {
   "cell_type": "markdown",
   "id": "6bd79e3c",
   "metadata": {},
   "source": [
    "# Instance-based Vote Count Prediction (VCP) for New Images"
   ]
  },
  {
   "cell_type": "code",
   "execution_count": 1,
   "id": "9a72b834",
   "metadata": {},
   "outputs": [],
   "source": [
    "# Libraries\n",
    "import os\n",
    "import time\n",
    "import timeit\n",
    "import pandas as pd\n",
    "import numpy as np\n",
    "import matplotlib.pyplot as plt\n",
    "from skimage.io import imread\n",
    "import sklearn\n",
    "from sklearn.decomposition import PCA"
   ]
  },
  {
   "cell_type": "markdown",
   "id": "9a37fb8e",
   "metadata": {},
   "source": [
    "## Constants"
   ]
  },
  {
   "cell_type": "code",
   "execution_count": 2,
   "id": "e834864e",
   "metadata": {},
   "outputs": [],
   "source": [
    "# Paths\n",
    "PROJECT_ROOT = os.path.join('..', '..')\n",
    "RESULTS_FOLDER_PATH = os.path.join(PROJECT_ROOT, 'results')\n",
    "SIM_MXS_FOLDER_PATH = os.path.join(RESULTS_FOLDER_PATH, 'matrices')\n",
    "FEATS_FOLDER_PATH = os.path.join(RESULTS_FOLDER_PATH, 'features')\n",
    "VOTES_FILE_PATH = os.path.join(RESULTS_FOLDER_PATH, 'votes_summary.csv')\n",
    "IMAGES_FOLDER_PATH = os.path.join(PROJECT_ROOT, 'imgs')"
   ]
  },
  {
   "cell_type": "code",
   "execution_count": 3,
   "id": "663eb28f",
   "metadata": {},
   "outputs": [],
   "source": [
    "# Execution parameters\n",
    "DATA_ID = 'incv3_feats' # ['incv3_feats', 'incv1_feats', 'color_hist']\n",
    "SIM_METRIC_ID = 'cosine' # ['euclid', 'cosine']\n",
    "FULL_ID = DATA_ID + '_' + SIM_METRIC_ID\n",
    "TIMER_ID = 'timeit' # ['timeit', 'time']\n",
    "K_RANGE = [1, 3, 5, 10, 20] # list-like\n",
    "PERF_METRIC_ID = 'rmse' # ['rmse', 'manhattan']\n",
    "SEED = 42 # Highly recommended to leave it at 42"
   ]
  },
  {
   "cell_type": "code",
   "execution_count": 4,
   "id": "20ad1e01",
   "metadata": {},
   "outputs": [],
   "source": [
    "# Additional configuration\n",
    "tictoc = timeit.default_timer if TIMER_ID == 'timeit' else time.time"
   ]
  },
  {
   "cell_type": "markdown",
   "id": "8ae22314",
   "metadata": {},
   "source": [
    "## Loading Data"
   ]
  },
  {
   "cell_type": "code",
   "execution_count": 5,
   "id": "1c5aa9e5",
   "metadata": {},
   "outputs": [],
   "source": [
    "def gen_file_paths(feat_type, sim_type, feats_folder_path, sim_mx_folder_path):\n",
    "    # Gen features file path\n",
    "    feats_file_name = f'{feat_type}.csv'\n",
    "    feats_file_path = os.path.join(feats_folder_path, feats_file_name)\n",
    "    # Gen. sim. matrix. file path\n",
    "    sim_mx_file_name = f'{feat_type}_{sim_type}_sim_matrix.csv'\n",
    "    sim_mx_file_path = os.path.join(sim_mx_folder_path, sim_mx_file_name)\n",
    "    return feats_file_path, sim_mx_file_path"
   ]
  },
  {
   "cell_type": "code",
   "execution_count": 6,
   "id": "8adf498c",
   "metadata": {},
   "outputs": [],
   "source": [
    "# Features and similarity matrix files\n",
    "FEATS_FILE_PATH, SIM_MX_FILE_PATH = gen_file_paths(DATA_ID, SIM_METRIC_ID, FEATS_FOLDER_PATH, SIM_MXS_FOLDER_PATH)"
   ]
  },
  {
   "cell_type": "markdown",
   "id": "9b5831b1",
   "metadata": {},
   "source": [
    "#### Features"
   ]
  },
  {
   "cell_type": "code",
   "execution_count": 7,
   "id": "c300e5bd",
   "metadata": {},
   "outputs": [
    {
     "data": {
      "text/html": [
       "<div>\n",
       "<style scoped>\n",
       "    .dataframe tbody tr th:only-of-type {\n",
       "        vertical-align: middle;\n",
       "    }\n",
       "\n",
       "    .dataframe tbody tr th {\n",
       "        vertical-align: top;\n",
       "    }\n",
       "\n",
       "    .dataframe thead th {\n",
       "        text-align: right;\n",
       "    }\n",
       "</style>\n",
       "<table border=\"1\" class=\"dataframe\">\n",
       "  <thead>\n",
       "    <tr style=\"text-align: right;\">\n",
       "      <th></th>\n",
       "      <th>0</th>\n",
       "      <th>1</th>\n",
       "      <th>2</th>\n",
       "      <th>3</th>\n",
       "      <th>4</th>\n",
       "      <th>5</th>\n",
       "      <th>6</th>\n",
       "      <th>7</th>\n",
       "      <th>8</th>\n",
       "      <th>9</th>\n",
       "      <th>...</th>\n",
       "      <th>2038</th>\n",
       "      <th>2039</th>\n",
       "      <th>2040</th>\n",
       "      <th>2041</th>\n",
       "      <th>2042</th>\n",
       "      <th>2043</th>\n",
       "      <th>2044</th>\n",
       "      <th>2045</th>\n",
       "      <th>2046</th>\n",
       "      <th>2047</th>\n",
       "    </tr>\n",
       "  </thead>\n",
       "  <tbody>\n",
       "    <tr>\n",
       "      <th>1222__pool_table__0.9999995.jpg</th>\n",
       "      <td>0.830638</td>\n",
       "      <td>0.109613</td>\n",
       "      <td>0.027107</td>\n",
       "      <td>0.056101</td>\n",
       "      <td>0.123813</td>\n",
       "      <td>0.364547</td>\n",
       "      <td>0.354803</td>\n",
       "      <td>0.331838</td>\n",
       "      <td>0.018715</td>\n",
       "      <td>0.060355</td>\n",
       "      <td>...</td>\n",
       "      <td>1.167887</td>\n",
       "      <td>0.901976</td>\n",
       "      <td>0.245693</td>\n",
       "      <td>0.714952</td>\n",
       "      <td>0.245120</td>\n",
       "      <td>0.052343</td>\n",
       "      <td>0.192633</td>\n",
       "      <td>0.712200</td>\n",
       "      <td>0.008294</td>\n",
       "      <td>0.290266</td>\n",
       "    </tr>\n",
       "    <tr>\n",
       "      <th>1328__coil__0.99999607.jpg</th>\n",
       "      <td>0.291597</td>\n",
       "      <td>0.385156</td>\n",
       "      <td>0.047256</td>\n",
       "      <td>0.071147</td>\n",
       "      <td>0.002932</td>\n",
       "      <td>0.182395</td>\n",
       "      <td>0.019829</td>\n",
       "      <td>0.046854</td>\n",
       "      <td>0.122627</td>\n",
       "      <td>0.061063</td>\n",
       "      <td>...</td>\n",
       "      <td>0.029534</td>\n",
       "      <td>0.404313</td>\n",
       "      <td>0.059962</td>\n",
       "      <td>0.778392</td>\n",
       "      <td>0.700241</td>\n",
       "      <td>0.813751</td>\n",
       "      <td>0.424850</td>\n",
       "      <td>0.686327</td>\n",
       "      <td>0.696242</td>\n",
       "      <td>0.441459</td>\n",
       "    </tr>\n",
       "    <tr>\n",
       "      <th>134__zebra__0.9999949.jpg</th>\n",
       "      <td>1.088536</td>\n",
       "      <td>0.071769</td>\n",
       "      <td>0.176484</td>\n",
       "      <td>0.168589</td>\n",
       "      <td>0.050061</td>\n",
       "      <td>0.311524</td>\n",
       "      <td>0.057534</td>\n",
       "      <td>0.080351</td>\n",
       "      <td>0.880801</td>\n",
       "      <td>0.554862</td>\n",
       "      <td>...</td>\n",
       "      <td>0.007061</td>\n",
       "      <td>0.055804</td>\n",
       "      <td>0.037670</td>\n",
       "      <td>0.016626</td>\n",
       "      <td>0.224138</td>\n",
       "      <td>0.075299</td>\n",
       "      <td>0.143866</td>\n",
       "      <td>0.851481</td>\n",
       "      <td>0.390153</td>\n",
       "      <td>0.008928</td>\n",
       "    </tr>\n",
       "  </tbody>\n",
       "</table>\n",
       "<p>3 rows × 2048 columns</p>\n",
       "</div>"
      ],
      "text/plain": [
       "                                        0         1         2         3  \\\n",
       "1222__pool_table__0.9999995.jpg  0.830638  0.109613  0.027107  0.056101   \n",
       "1328__coil__0.99999607.jpg       0.291597  0.385156  0.047256  0.071147   \n",
       "134__zebra__0.9999949.jpg        1.088536  0.071769  0.176484  0.168589   \n",
       "\n",
       "                                        4         5         6         7  \\\n",
       "1222__pool_table__0.9999995.jpg  0.123813  0.364547  0.354803  0.331838   \n",
       "1328__coil__0.99999607.jpg       0.002932  0.182395  0.019829  0.046854   \n",
       "134__zebra__0.9999949.jpg        0.050061  0.311524  0.057534  0.080351   \n",
       "\n",
       "                                        8         9  ...      2038      2039  \\\n",
       "1222__pool_table__0.9999995.jpg  0.018715  0.060355  ...  1.167887  0.901976   \n",
       "1328__coil__0.99999607.jpg       0.122627  0.061063  ...  0.029534  0.404313   \n",
       "134__zebra__0.9999949.jpg        0.880801  0.554862  ...  0.007061  0.055804   \n",
       "\n",
       "                                     2040      2041      2042      2043  \\\n",
       "1222__pool_table__0.9999995.jpg  0.245693  0.714952  0.245120  0.052343   \n",
       "1328__coil__0.99999607.jpg       0.059962  0.778392  0.700241  0.813751   \n",
       "134__zebra__0.9999949.jpg        0.037670  0.016626  0.224138  0.075299   \n",
       "\n",
       "                                     2044      2045      2046      2047  \n",
       "1222__pool_table__0.9999995.jpg  0.192633  0.712200  0.008294  0.290266  \n",
       "1328__coil__0.99999607.jpg       0.424850  0.686327  0.696242  0.441459  \n",
       "134__zebra__0.9999949.jpg        0.143866  0.851481  0.390153  0.008928  \n",
       "\n",
       "[3 rows x 2048 columns]"
      ]
     },
     "execution_count": 7,
     "metadata": {},
     "output_type": "execute_result"
    }
   ],
   "source": [
    "feats_df = pd.read_csv(FEATS_FILE_PATH, index_col=0)\n",
    "feats_df.head(3)"
   ]
  },
  {
   "cell_type": "markdown",
   "id": "3b3f7314",
   "metadata": {},
   "source": [
    "#### Data (Sim. Matrix between images)"
   ]
  },
  {
   "cell_type": "code",
   "execution_count": 8,
   "id": "ce1d89ee",
   "metadata": {},
   "outputs": [
    {
     "data": {
      "text/html": [
       "<div>\n",
       "<style scoped>\n",
       "    .dataframe tbody tr th:only-of-type {\n",
       "        vertical-align: middle;\n",
       "    }\n",
       "\n",
       "    .dataframe tbody tr th {\n",
       "        vertical-align: top;\n",
       "    }\n",
       "\n",
       "    .dataframe thead th {\n",
       "        text-align: right;\n",
       "    }\n",
       "</style>\n",
       "<table border=\"1\" class=\"dataframe\">\n",
       "  <thead>\n",
       "    <tr style=\"text-align: right;\">\n",
       "      <th></th>\n",
       "      <th>1222__pool_table__0.9999995.jpg</th>\n",
       "      <th>1328__coil__0.99999607.jpg</th>\n",
       "      <th>134__zebra__0.9999949.jpg</th>\n",
       "      <th>2377471__pizza__0.9999988.jpg</th>\n",
       "      <th>2377620__zebra__0.9999882.jpg</th>\n",
       "      <th>2377698__zebra__0.9999999.jpg</th>\n",
       "      <th>2378170__zebra__0.9999902.jpg</th>\n",
       "      <th>2378358__park_bench__0.99999833.jpg</th>\n",
       "      <th>2378523__banana__0.99999785.jpg</th>\n",
       "      <th>2379086__zebra__0.9999975.jpg</th>\n",
       "      <th>...</th>\n",
       "      <th>2417881__zebra__0.9999945.jpg</th>\n",
       "      <th>2417938__banana__0.9999944.jpg</th>\n",
       "      <th>4099__pool_table__0.9999945.jpg</th>\n",
       "      <th>4339__manhole_cover__0.99999416.jpg</th>\n",
       "      <th>4534__viaduct__0.9999877.jpg</th>\n",
       "      <th>4573__barrel__0.9999974.jpg</th>\n",
       "      <th>4673__triumphal_arch__0.9999893.jpg</th>\n",
       "      <th>576__gondola__0.9999993.jpg</th>\n",
       "      <th>577__gondola__0.9999962.jpg</th>\n",
       "      <th>691__cheetah__0.99999213.jpg</th>\n",
       "    </tr>\n",
       "  </thead>\n",
       "  <tbody>\n",
       "    <tr>\n",
       "      <th>1222__pool_table__0.9999995.jpg</th>\n",
       "      <td>0.000000</td>\n",
       "      <td>0.766186</td>\n",
       "      <td>0.681436</td>\n",
       "      <td>0.771736</td>\n",
       "      <td>0.731295</td>\n",
       "      <td>0.778913</td>\n",
       "      <td>0.706014</td>\n",
       "      <td>0.751689</td>\n",
       "      <td>0.810367</td>\n",
       "      <td>0.738298</td>\n",
       "      <td>...</td>\n",
       "      <td>0.753613</td>\n",
       "      <td>0.762703</td>\n",
       "      <td>0.068420</td>\n",
       "      <td>0.769170</td>\n",
       "      <td>0.747195</td>\n",
       "      <td>0.747668</td>\n",
       "      <td>0.744787</td>\n",
       "      <td>0.828638</td>\n",
       "      <td>0.826484</td>\n",
       "      <td>0.718752</td>\n",
       "    </tr>\n",
       "    <tr>\n",
       "      <th>1328__coil__0.99999607.jpg</th>\n",
       "      <td>0.766186</td>\n",
       "      <td>0.000000</td>\n",
       "      <td>0.655775</td>\n",
       "      <td>0.620482</td>\n",
       "      <td>0.643737</td>\n",
       "      <td>0.673256</td>\n",
       "      <td>0.650034</td>\n",
       "      <td>0.668247</td>\n",
       "      <td>0.682593</td>\n",
       "      <td>0.656279</td>\n",
       "      <td>...</td>\n",
       "      <td>0.659462</td>\n",
       "      <td>0.672215</td>\n",
       "      <td>0.757130</td>\n",
       "      <td>0.662090</td>\n",
       "      <td>0.672293</td>\n",
       "      <td>0.739528</td>\n",
       "      <td>0.640632</td>\n",
       "      <td>0.661330</td>\n",
       "      <td>0.660451</td>\n",
       "      <td>0.612150</td>\n",
       "    </tr>\n",
       "    <tr>\n",
       "      <th>134__zebra__0.9999949.jpg</th>\n",
       "      <td>0.681436</td>\n",
       "      <td>0.655775</td>\n",
       "      <td>0.000000</td>\n",
       "      <td>0.645445</td>\n",
       "      <td>0.126298</td>\n",
       "      <td>0.108648</td>\n",
       "      <td>0.095005</td>\n",
       "      <td>0.656602</td>\n",
       "      <td>0.708973</td>\n",
       "      <td>0.102951</td>\n",
       "      <td>...</td>\n",
       "      <td>0.079798</td>\n",
       "      <td>0.637221</td>\n",
       "      <td>0.648792</td>\n",
       "      <td>0.660485</td>\n",
       "      <td>0.672030</td>\n",
       "      <td>0.660639</td>\n",
       "      <td>0.688565</td>\n",
       "      <td>0.560902</td>\n",
       "      <td>0.557332</td>\n",
       "      <td>0.563768</td>\n",
       "    </tr>\n",
       "  </tbody>\n",
       "</table>\n",
       "<p>3 rows × 198 columns</p>\n",
       "</div>"
      ],
      "text/plain": [
       "                                 1222__pool_table__0.9999995.jpg  \\\n",
       "1222__pool_table__0.9999995.jpg                         0.000000   \n",
       "1328__coil__0.99999607.jpg                              0.766186   \n",
       "134__zebra__0.9999949.jpg                               0.681436   \n",
       "\n",
       "                                 1328__coil__0.99999607.jpg  \\\n",
       "1222__pool_table__0.9999995.jpg                    0.766186   \n",
       "1328__coil__0.99999607.jpg                         0.000000   \n",
       "134__zebra__0.9999949.jpg                          0.655775   \n",
       "\n",
       "                                 134__zebra__0.9999949.jpg  \\\n",
       "1222__pool_table__0.9999995.jpg                   0.681436   \n",
       "1328__coil__0.99999607.jpg                        0.655775   \n",
       "134__zebra__0.9999949.jpg                         0.000000   \n",
       "\n",
       "                                 2377471__pizza__0.9999988.jpg  \\\n",
       "1222__pool_table__0.9999995.jpg                       0.771736   \n",
       "1328__coil__0.99999607.jpg                            0.620482   \n",
       "134__zebra__0.9999949.jpg                             0.645445   \n",
       "\n",
       "                                 2377620__zebra__0.9999882.jpg  \\\n",
       "1222__pool_table__0.9999995.jpg                       0.731295   \n",
       "1328__coil__0.99999607.jpg                            0.643737   \n",
       "134__zebra__0.9999949.jpg                             0.126298   \n",
       "\n",
       "                                 2377698__zebra__0.9999999.jpg  \\\n",
       "1222__pool_table__0.9999995.jpg                       0.778913   \n",
       "1328__coil__0.99999607.jpg                            0.673256   \n",
       "134__zebra__0.9999949.jpg                             0.108648   \n",
       "\n",
       "                                 2378170__zebra__0.9999902.jpg  \\\n",
       "1222__pool_table__0.9999995.jpg                       0.706014   \n",
       "1328__coil__0.99999607.jpg                            0.650034   \n",
       "134__zebra__0.9999949.jpg                             0.095005   \n",
       "\n",
       "                                 2378358__park_bench__0.99999833.jpg  \\\n",
       "1222__pool_table__0.9999995.jpg                             0.751689   \n",
       "1328__coil__0.99999607.jpg                                  0.668247   \n",
       "134__zebra__0.9999949.jpg                                   0.656602   \n",
       "\n",
       "                                 2378523__banana__0.99999785.jpg  \\\n",
       "1222__pool_table__0.9999995.jpg                         0.810367   \n",
       "1328__coil__0.99999607.jpg                              0.682593   \n",
       "134__zebra__0.9999949.jpg                               0.708973   \n",
       "\n",
       "                                 2379086__zebra__0.9999975.jpg  ...  \\\n",
       "1222__pool_table__0.9999995.jpg                       0.738298  ...   \n",
       "1328__coil__0.99999607.jpg                            0.656279  ...   \n",
       "134__zebra__0.9999949.jpg                             0.102951  ...   \n",
       "\n",
       "                                 2417881__zebra__0.9999945.jpg  \\\n",
       "1222__pool_table__0.9999995.jpg                       0.753613   \n",
       "1328__coil__0.99999607.jpg                            0.659462   \n",
       "134__zebra__0.9999949.jpg                             0.079798   \n",
       "\n",
       "                                 2417938__banana__0.9999944.jpg  \\\n",
       "1222__pool_table__0.9999995.jpg                        0.762703   \n",
       "1328__coil__0.99999607.jpg                             0.672215   \n",
       "134__zebra__0.9999949.jpg                              0.637221   \n",
       "\n",
       "                                 4099__pool_table__0.9999945.jpg  \\\n",
       "1222__pool_table__0.9999995.jpg                         0.068420   \n",
       "1328__coil__0.99999607.jpg                              0.757130   \n",
       "134__zebra__0.9999949.jpg                               0.648792   \n",
       "\n",
       "                                 4339__manhole_cover__0.99999416.jpg  \\\n",
       "1222__pool_table__0.9999995.jpg                             0.769170   \n",
       "1328__coil__0.99999607.jpg                                  0.662090   \n",
       "134__zebra__0.9999949.jpg                                   0.660485   \n",
       "\n",
       "                                 4534__viaduct__0.9999877.jpg  \\\n",
       "1222__pool_table__0.9999995.jpg                      0.747195   \n",
       "1328__coil__0.99999607.jpg                           0.672293   \n",
       "134__zebra__0.9999949.jpg                            0.672030   \n",
       "\n",
       "                                 4573__barrel__0.9999974.jpg  \\\n",
       "1222__pool_table__0.9999995.jpg                     0.747668   \n",
       "1328__coil__0.99999607.jpg                          0.739528   \n",
       "134__zebra__0.9999949.jpg                           0.660639   \n",
       "\n",
       "                                 4673__triumphal_arch__0.9999893.jpg  \\\n",
       "1222__pool_table__0.9999995.jpg                             0.744787   \n",
       "1328__coil__0.99999607.jpg                                  0.640632   \n",
       "134__zebra__0.9999949.jpg                                   0.688565   \n",
       "\n",
       "                                 576__gondola__0.9999993.jpg  \\\n",
       "1222__pool_table__0.9999995.jpg                     0.828638   \n",
       "1328__coil__0.99999607.jpg                          0.661330   \n",
       "134__zebra__0.9999949.jpg                           0.560902   \n",
       "\n",
       "                                 577__gondola__0.9999962.jpg  \\\n",
       "1222__pool_table__0.9999995.jpg                     0.826484   \n",
       "1328__coil__0.99999607.jpg                          0.660451   \n",
       "134__zebra__0.9999949.jpg                           0.557332   \n",
       "\n",
       "                                 691__cheetah__0.99999213.jpg  \n",
       "1222__pool_table__0.9999995.jpg                      0.718752  \n",
       "1328__coil__0.99999607.jpg                           0.612150  \n",
       "134__zebra__0.9999949.jpg                            0.563768  \n",
       "\n",
       "[3 rows x 198 columns]"
      ]
     },
     "execution_count": 8,
     "metadata": {},
     "output_type": "execute_result"
    }
   ],
   "source": [
    "sim_mx_df = pd.read_csv(SIM_MX_FILE_PATH, index_col=0)\n",
    "sim_mx_df.head(3)"
   ]
  },
  {
   "cell_type": "markdown",
   "id": "4df262a4",
   "metadata": {},
   "source": [
    "#### Votes"
   ]
  },
  {
   "cell_type": "code",
   "execution_count": 9,
   "id": "3c1abfc7",
   "metadata": {},
   "outputs": [
    {
     "data": {
      "text/html": [
       "<div>\n",
       "<style scoped>\n",
       "    .dataframe tbody tr th:only-of-type {\n",
       "        vertical-align: middle;\n",
       "    }\n",
       "\n",
       "    .dataframe tbody tr th {\n",
       "        vertical-align: top;\n",
       "    }\n",
       "\n",
       "    .dataframe thead th {\n",
       "        text-align: right;\n",
       "    }\n",
       "</style>\n",
       "<table border=\"1\" class=\"dataframe\">\n",
       "  <thead>\n",
       "    <tr style=\"text-align: right;\">\n",
       "      <th></th>\n",
       "      <th>ig</th>\n",
       "      <th>lime</th>\n",
       "      <th>xrai</th>\n",
       "      <th>anchor</th>\n",
       "      <th>best</th>\n",
       "    </tr>\n",
       "  </thead>\n",
       "  <tbody>\n",
       "    <tr>\n",
       "      <th>1222__pool_table__0.9999995.jpg</th>\n",
       "      <td>12</td>\n",
       "      <td>13</td>\n",
       "      <td>3</td>\n",
       "      <td>1</td>\n",
       "      <td>lime</td>\n",
       "    </tr>\n",
       "    <tr>\n",
       "      <th>1328__coil__0.99999607.jpg</th>\n",
       "      <td>17</td>\n",
       "      <td>4</td>\n",
       "      <td>3</td>\n",
       "      <td>2</td>\n",
       "      <td>ig</td>\n",
       "    </tr>\n",
       "    <tr>\n",
       "      <th>134__zebra__0.9999949.jpg</th>\n",
       "      <td>14</td>\n",
       "      <td>1</td>\n",
       "      <td>8</td>\n",
       "      <td>2</td>\n",
       "      <td>ig</td>\n",
       "    </tr>\n",
       "  </tbody>\n",
       "</table>\n",
       "</div>"
      ],
      "text/plain": [
       "                                 ig  lime  xrai  anchor  best\n",
       "1222__pool_table__0.9999995.jpg  12    13     3       1  lime\n",
       "1328__coil__0.99999607.jpg       17     4     3       2    ig\n",
       "134__zebra__0.9999949.jpg        14     1     8       2    ig"
      ]
     },
     "execution_count": 9,
     "metadata": {},
     "output_type": "execute_result"
    }
   ],
   "source": [
    "votes_df = pd.read_csv(VOTES_FILE_PATH, index_col=0)\n",
    "votes_df.head(3)"
   ]
  },
  {
   "cell_type": "markdown",
   "id": "2d00e40a",
   "metadata": {},
   "source": [
    "Here's a sanity check for vote proportion in our the dataset. In the original XAI-CBR paper, vote proportion was like this:\n",
    "- IG: 45%\n",
    "- XRAI: 30%\n",
    "- LIME: 18%\n",
    "- ANCHOR: 7%\n",
    "\n",
    "Also, IG was the most voted technique, at least by hard voting aggregation, with a majority of 62% images.\n"
   ]
  },
  {
   "cell_type": "code",
   "execution_count": 10,
   "id": "ec98d4da",
   "metadata": {},
   "outputs": [
    {
     "data": {
      "text/plain": [
       "ig        0.488315\n",
       "xrai      0.271713\n",
       "lime      0.183467\n",
       "anchor    0.056505\n",
       "dtype: float64"
      ]
     },
     "execution_count": 10,
     "metadata": {},
     "output_type": "execute_result"
    }
   ],
   "source": [
    "votes_per_technique = votes_df[['ig', 'xrai', 'lime', 'anchor']].sum()\n",
    "total_votes = votes_per_technique.sum()\n",
    "votes_per_technique / total_votes"
   ]
  },
  {
   "cell_type": "markdown",
   "id": "e3dae6de",
   "metadata": {},
   "source": [
    "There's a slight variation of these proportions with respect to ones presented in the paper. It seems like some votes from XRAI and ANCHOR techniques drifted out to the IG technique. We'll check this out later, this should not be of great importance in the experiments of this notebook."
   ]
  },
  {
   "cell_type": "markdown",
   "id": "40d170cd",
   "metadata": {},
   "source": [
    "## Data Preprocessing"
   ]
  },
  {
   "cell_type": "code",
   "execution_count": 11,
   "id": "6346cd72",
   "metadata": {},
   "outputs": [],
   "source": [
    "X = sim_mx_df.values # Values from sim. matrix\n",
    "X_names = sim_mx_df.index.values # Names of every image\n",
    "y = votes_df.values[:, :4] # Vote count for each imae\n",
    "best = votes_df.values[:, -1] # Most voted technique for each image"
   ]
  },
  {
   "cell_type": "code",
   "execution_count": 12,
   "id": "21779c36",
   "metadata": {},
   "outputs": [
    {
     "name": "stdout",
     "output_type": "stream",
     "text": [
      "(198, 198) (198,) (198, 4) (198,)\n"
     ]
    }
   ],
   "source": [
    "print(X.shape, X_names.shape, y.shape, best.shape)"
   ]
  },
  {
   "cell_type": "markdown",
   "id": "fdd0fc9e",
   "metadata": {},
   "source": [
    "#### Instance deletion\n",
    "Stratified Subsampling cannot be performed onto the dataset because only one instance is best explained with ANCHOR. Due to the very small importance of that instance in the dataset, we will continue without that instance (i.e. we will find that instance and remove it from the dataset)."
   ]
  },
  {
   "cell_type": "code",
   "execution_count": 13,
   "id": "17c8b23f",
   "metadata": {},
   "outputs": [
    {
     "data": {
      "text/plain": [
       "array([155], dtype=int64)"
      ]
     },
     "execution_count": 13,
     "metadata": {},
     "output_type": "execute_result"
    }
   ],
   "source": [
    "# At what index is the anchor instance located?\n",
    "anchor_idxs = np.argwhere(best == 'anchor')[0]\n",
    "anchor_idxs"
   ]
  },
  {
   "cell_type": "code",
   "execution_count": 14,
   "id": "9604b529",
   "metadata": {},
   "outputs": [
    {
     "data": {
      "text/plain": [
       "(array(['2411942__zebra__0.99999654.jpg'], dtype=object),\n",
       " array(['anchor'], dtype=object))"
      ]
     },
     "execution_count": 14,
     "metadata": {},
     "output_type": "execute_result"
    }
   ],
   "source": [
    "# What's the name of that image and its associated technique?\n",
    "X_names[anchor_idxs], best[anchor_idxs]"
   ]
  },
  {
   "cell_type": "code",
   "execution_count": 15,
   "id": "af90a355",
   "metadata": {},
   "outputs": [],
   "source": [
    "# Delete that instance from all data partitions (X, y, etc.)\n",
    "X = np.delete(X, anchor_idxs, axis=0)\n",
    "X = np.delete(X, anchor_idxs, axis=1) # Twice in sim. matrix (both rows and columns)\n",
    "X_names = np.delete(X_names, anchor_idxs, axis=0)\n",
    "y = np.delete(y, anchor_idxs, axis=0)\n",
    "best = np.delete(best, anchor_idxs, axis=0)"
   ]
  },
  {
   "cell_type": "code",
   "execution_count": 16,
   "id": "e1affd0c",
   "metadata": {},
   "outputs": [
    {
     "name": "stdout",
     "output_type": "stream",
     "text": [
      "(197, 197) (197,) (197, 4) (197,)\n"
     ]
    }
   ],
   "source": [
    "print(X.shape, X_names.shape, y.shape, best.shape)"
   ]
  },
  {
   "cell_type": "markdown",
   "id": "560838e3",
   "metadata": {},
   "source": [
    "## Splitting and Fold Creation"
   ]
  },
  {
   "cell_type": "code",
   "execution_count": 17,
   "id": "e7f76da6",
   "metadata": {},
   "outputs": [],
   "source": [
    "from sklearn.model_selection import StratifiedShuffleSplit as SSS\n",
    "from sklearn.model_selection import ShuffleSplit as SS"
   ]
  },
  {
   "cell_type": "code",
   "execution_count": 18,
   "id": "13a36dbb",
   "metadata": {},
   "outputs": [],
   "source": [
    "# Change this constant to toogle stratified sampling on/off\n",
    "STRATIFIED = True"
   ]
  },
  {
   "cell_type": "code",
   "execution_count": 19,
   "id": "8714f28d",
   "metadata": {},
   "outputs": [],
   "source": [
    "# Perform split\n",
    "splitter = None\n",
    "if STRATIFIED: splitter = SSS(n_splits=5, test_size=0.2, random_state=42)\n",
    "else: splitter = SS(n_splits=5, test_size=0.2, random_state=42)\n",
    "splits = splitter.split(X, best)\n",
    "splits = list(splits)"
   ]
  },
  {
   "cell_type": "code",
   "execution_count": 20,
   "id": "e462e6c0",
   "metadata": {},
   "outputs": [
    {
     "data": {
      "text/plain": [
       "(array([192, 147, 177,  11, 140,  51, 127, 118, 172, 191,  62, 124, 115,\n",
       "         80, 190, 142,  92,  69,  25,  14,  42,   3, 185,  90,  10,  76,\n",
       "        176, 114,  44,  98, 166, 121,  79, 170,   1, 183,  28,  31, 155,\n",
       "         75, 156, 101, 171,  13, 110, 122,  38,  27, 136,  20,   6,  56,\n",
       "         35,  59, 139,  33,  78,  82,  21, 167, 117,  12,  49,  15,   5,\n",
       "        152, 132,  81,  61, 163, 175,  91,   7, 174, 135,  74, 193, 129,\n",
       "         60,  96,  50, 161, 159, 145, 126,  19,  65, 188,  73,  89, 133,\n",
       "        179,  40,  86, 112,  26, 168, 189, 149,  94, 194,  18, 138, 169,\n",
       "        102,  97,  71, 130,  53,  99, 148, 154,   8,  34, 182, 105,  55,\n",
       "         95, 153,  72, 144,  77,  52,  30,   9,  37,   4,  93, 128, 137,\n",
       "        195, 160, 111,  45, 164, 151,  29,  48,  70,  43,  57, 157,  39,\n",
       "        141,  85, 150,  67,   0,  47, 113,  32,  17, 131, 180,  66, 100,\n",
       "        186], dtype=int64),\n",
       " array([ 54, 187, 103,  23, 104, 108, 181,  64, 109, 134,  16, 146,   2,\n",
       "        116, 106, 119, 165,  41, 120, 178, 173, 125,  58, 184,  36,  63,\n",
       "        107,  24, 162,  83,  84,  88, 123,  46, 143,  87,  22, 196,  68,\n",
       "        158], dtype=int64))"
      ]
     },
     "execution_count": 20,
     "metadata": {},
     "output_type": "execute_result"
    }
   ],
   "source": [
    "splits[0]"
   ]
  },
  {
   "cell_type": "markdown",
   "id": "70e9a39b",
   "metadata": {},
   "source": [
    "## Vote Count Prediction (using feat prototypes and vote prototypes)"
   ]
  },
  {
   "cell_type": "markdown",
   "id": "bf981d34",
   "metadata": {},
   "source": [
    "# I NEED TO CALCULATE THE DISTANCES, NOT TAKE THEM!!!!!"
   ]
  },
  {
   "cell_type": "code",
   "execution_count": 21,
   "id": "886fd125",
   "metadata": {},
   "outputs": [],
   "source": [
    "def dist_to_prt(p1, p2, metric):\n",
    "    if metric=='euclid': return np.linalg.norm(p1-p2)\n",
    "    if metric=='cosine': return 1 - (np.dot(p1, p2)/(np.linalg.norm(p1) * np.linalg.norm(p2)))\n",
    "    else: raise Exception(f'Unknown metric type : {metric}')\n",
    "\n",
    "def calc_dist_to_train_imgs(test_img_feats, train_feats, metric):\n",
    "    distances = []\n",
    "    for train_img_feats in train_feats:\n",
    "        dist = dist_to_prt(test_img_feats, train_img_feats, metric)\n",
    "        distances.append(dist)\n",
    "    return np.array(distances)\n",
    "\n",
    "def get_nearest_instances_indices(dist_to_train_imgs, train_idxs, k):\n",
    "    if k >= len(dist_to_train_imgs): nearest_train_idxs = train_idxs\n",
    "    else:\n",
    "        nearest_train_idxs = []\n",
    "        for i in range(k): # K times...\n",
    "            nearest_train_idx, min_dist = None, np.inf\n",
    "            # ...iterate searching the nearest image\n",
    "            for dist, train_idx in zip(dist_to_train_imgs, train_idxs):\n",
    "                if train_idx in nearest_train_idxs: continue # ignore prev. found nearest clusters\n",
    "                if dist < min_dist: nearest_train_idx, min_dist = train_idx, dist\n",
    "            nearest_train_idxs.append(nearest_train_idx)\n",
    "        nearest_train_idxs = np.array(nearest_train_idxs)\n",
    "    return nearest_train_idxs\n",
    "\n",
    "def get_indiv_vote_predictions(split, image_votes, image_feats, image_names, metric, k):\n",
    "    vote_predictions = {}\n",
    "    query_times = {}\n",
    "    # Prepare data\n",
    "    train_idxs = split[0]\n",
    "    test_idxs = split[1]\n",
    "    # For each test image...\n",
    "    for test_img_idx in test_idxs:\n",
    "        start = tictoc()\n",
    "        # Get distances from test img to each train image\n",
    "        dist_to_train_imgs = calc_dist_to_train_imgs(image_feats[test_img_idx], image_feats[train_idxs], metric) # X[test_img_idx, train_idxs]\n",
    "        # Using those distances, find the nearest k clusters\n",
    "        kn_train_idxs =  get_nearest_instances_indices(dist_to_train_imgs, train_idxs, k)\n",
    "        # Aggregate the vote counts associated with those instances\n",
    "        nearest_vote_counts = [image_votes[train_idx] for train_idx in kn_train_idxs]\n",
    "        unrounded_vcp = np.average(np.array(nearest_vote_counts, np.float64), axis=0)\n",
    "        vote_count_prediction = np.round(unrounded_vcp, 0).astype(np.int8) # int parsing needed?\n",
    "        # Associate an image's name with its vote prediction\n",
    "        test_img_name = image_names[test_img_idx]\n",
    "        vote_predictions[test_img_name] = vote_count_prediction\n",
    "        # Calculate query time\n",
    "        end = tictoc()\n",
    "        query_time = end - start\n",
    "        query_times[test_img_name] = query_time\n",
    "    return vote_predictions, query_times\n",
    "\n",
    "def get_global_vote_predictions(splits, image_votes, image_feats, image_names, metric, k):\n",
    "    '''Maps indices of test folds/splits with the vote count predictions generated'''\n",
    "    global_vote_predictions = {}\n",
    "    global_query_times = {}\n",
    "    for split_idx in range(len(splits)):\n",
    "        # Generate predictions and query times.\n",
    "        vote_preds,query_times = get_indiv_vote_predictions(splits[split_idx], image_votes, image_feats, image_names, metric, k)\n",
    "        # Create { split_idx: vote_predictions } and { split_idx : query_times } pairs\n",
    "        global_vote_predictions[split_idx] = vote_preds\n",
    "        global_query_times[split_idx] = query_times\n",
    "    return global_vote_predictions, global_query_times"
   ]
  },
  {
   "cell_type": "code",
   "execution_count": 22,
   "id": "c954bf03",
   "metadata": {},
   "outputs": [],
   "source": [
    "def batch_get_predictions(k_range):\n",
    "    batch_predictions, batch_query_times = {}, {}\n",
    "    for k in k_range:\n",
    "        preds, query_times = get_global_vote_predictions(splits, y, feats_df.values, X_names, SIM_METRIC_ID, k)\n",
    "        batch_predictions[k] = preds\n",
    "        batch_query_times[k] = query_times\n",
    "    return batch_predictions, batch_query_times"
   ]
  },
  {
   "cell_type": "markdown",
   "id": "e5ff5a8e",
   "metadata": {},
   "source": [
    "### Generating predictions"
   ]
  },
  {
   "cell_type": "code",
   "execution_count": 23,
   "id": "8e803ecc",
   "metadata": {},
   "outputs": [],
   "source": [
    "k_range = K_RANGE # Substitute if neccesary\n",
    "batch_results = batch_get_predictions(k_range)\n",
    "batch_global_predictions, batch_global_query_times = batch_results"
   ]
  },
  {
   "cell_type": "code",
   "execution_count": 24,
   "id": "e1476526",
   "metadata": {
    "scrolled": true
   },
   "outputs": [
    {
     "data": {
      "text/plain": [
       "{'2388889__hotdog__0.99999714.jpg': array([8, 2, 2, 2], dtype=int8),\n",
       " '2417881__zebra__0.9999945.jpg': array([6, 2, 5, 0], dtype=int8),\n",
       " '2403403__banana__0.9999926.jpg': array([6, 7, 1, 1], dtype=int8),\n",
       " '2381941__zebra__0.9999914.jpg': array([8, 2, 4, 0], dtype=int8),\n",
       " '2403741__zebra__0.99999523.jpg': array([6, 1, 5, 1], dtype=int8),\n",
       " '2404281__zebra__0.999998.jpg': array([8, 1, 4, 0], dtype=int8),\n",
       " '2416627__zebra__0.9999987.jpg': array([8, 2, 4, 0], dtype=int8),\n",
       " '2391964__flamingo__1.0.jpg': array([8, 2, 5, 1], dtype=int8),\n",
       " '2404583__umbrella__0.99999297.jpg': array([7, 3, 3, 1], dtype=int8),\n",
       " '2409637__four-poster__0.99999464.jpg': array([7, 3, 2, 2], dtype=int8),\n",
       " '2380669__parking_meter__0.9999993.jpg': array([7, 1, 6, 1], dtype=int8),\n",
       " '2411196__crane__0.9999995.jpg': array([6, 3, 2, 2], dtype=int8),\n",
       " '134__zebra__0.9999949.jpg': array([6, 3, 4, 0], dtype=int8),\n",
       " '2405905__traffic_light__0.99999535.jpg': array([6, 3, 5, 0], dtype=int8),\n",
       " '2404127__zebra__0.9999933.jpg': array([7, 2, 4, 0], dtype=int8),\n",
       " '2406857__zebra__0.9999894.jpg': array([6, 2, 6, 1], dtype=int8),\n",
       " '2414277__zebra__0.9999908.jpg': array([8, 1, 5, 1], dtype=int8),\n",
       " '2385298__parking_meter__0.9999865.jpg': array([7, 2, 6, 0], dtype=int8),\n",
       " '2406887__ski__0.99999785.jpg': array([6, 4, 2, 2], dtype=int8),\n",
       " '2416228__parking_meter__0.9999914.jpg': array([8, 2, 6, 1], dtype=int8),\n",
       " '2415402__zebra__0.99998903.jpg': array([6, 2, 5, 1], dtype=int8),\n",
       " '2408701__zebra__0.9999981.jpg': array([5, 2, 5, 1], dtype=int8),\n",
       " '2389484__street_sign__0.99998474.jpg': array([6, 4, 4, 0], dtype=int8),\n",
       " '2417395__zebra__0.9999993.jpg': array([8, 2, 3, 1], dtype=int8),\n",
       " '2384512__zebra__0.99999726.jpg': array([6, 2, 4, 1], dtype=int8),\n",
       " '2391918__steam_locomotive__0.99999845.jpg': array([7, 1, 4, 2], dtype=int8),\n",
       " '2404229__zebra__0.99998367.jpg': array([7, 3, 3, 1], dtype=int8),\n",
       " '2381968__ski__0.999984.jpg': array([7, 4, 2, 1], dtype=int8),\n",
       " '2413495__traffic_light__0.9999925.jpg': array([8, 2, 4, 1], dtype=int8),\n",
       " '2398585__bow_tie__0.9999838.jpg': array([8, 3, 4, 1], dtype=int8),\n",
       " '2398771__traffic_light__0.99999.jpg': array([6, 4, 5, 0], dtype=int8),\n",
       " '2400121__pizza__0.9999962.jpg': array([11,  2,  1,  2], dtype=int8),\n",
       " '2407951__zebra__0.9999975.jpg': array([7, 2, 5, 1], dtype=int8),\n",
       " '2386193__broccoli__0.9999924.jpg': array([8, 2, 3, 2], dtype=int8),\n",
       " '2410903__steam_locomotive__0.9999876.jpg': array([7, 1, 4, 2], dtype=int8),\n",
       " '2399675__zebra__0.9999883.jpg': array([9, 1, 5, 1], dtype=int8),\n",
       " '2381932__traffic_light__0.99999964.jpg': array([6, 3, 5, 0], dtype=int8),\n",
       " '691__cheetah__0.99999213.jpg': array([6, 3, 5, 1], dtype=int8),\n",
       " '2392405__parking_meter__0.9999993.jpg': array([8, 1, 6, 0], dtype=int8),\n",
       " '2412908__zebra__0.99998975.jpg': array([5, 2, 6, 1], dtype=int8)}"
      ]
     },
     "execution_count": 24,
     "metadata": {},
     "output_type": "execute_result"
    }
   ],
   "source": [
    "# For k=5, in the test split #0, show generated predictions\n",
    "batch_global_predictions[5][0]"
   ]
  },
  {
   "cell_type": "code",
   "execution_count": 25,
   "id": "74d0a248",
   "metadata": {
    "scrolled": true
   },
   "outputs": [
    {
     "data": {
      "text/plain": [
       "{'2388889__hotdog__0.99999714.jpg': 0.010787499999999284,\n",
       " '2417881__zebra__0.9999945.jpg': 0.011196699999999282,\n",
       " '2403403__banana__0.9999926.jpg': 0.011618299999998527,\n",
       " '2381941__zebra__0.9999914.jpg': 0.011237799999999964,\n",
       " '2403741__zebra__0.99999523.jpg': 0.011219699999999833,\n",
       " '2404281__zebra__0.999998.jpg': 0.010815500000001421,\n",
       " '2416627__zebra__0.9999987.jpg': 0.010769200000000367,\n",
       " '2391964__flamingo__1.0.jpg': 0.01189620000000069,\n",
       " '2404583__umbrella__0.99999297.jpg': 0.011457199999998835,\n",
       " '2409637__four-poster__0.99999464.jpg': 0.012768099999998839,\n",
       " '2380669__parking_meter__0.9999993.jpg': 0.012155200000000477,\n",
       " '2411196__crane__0.9999995.jpg': 0.012289000000000883,\n",
       " '134__zebra__0.9999949.jpg': 0.011687000000000225,\n",
       " '2405905__traffic_light__0.99999535.jpg': 0.011075400000001068,\n",
       " '2404127__zebra__0.9999933.jpg': 0.01132980000000039,\n",
       " '2406857__zebra__0.9999894.jpg': 0.012012499999999093,\n",
       " '2414277__zebra__0.9999908.jpg': 0.012541499999999317,\n",
       " '2385298__parking_meter__0.9999865.jpg': 0.011540000000000106,\n",
       " '2406887__ski__0.99999785.jpg': 0.01115889999999986,\n",
       " '2416228__parking_meter__0.9999914.jpg': 0.011261000000001076,\n",
       " '2415402__zebra__0.99998903.jpg': 0.012061400000000333,\n",
       " '2408701__zebra__0.9999981.jpg': 0.012261600000000428,\n",
       " '2389484__street_sign__0.99998474.jpg': 0.012005800000000733,\n",
       " '2417395__zebra__0.9999993.jpg': 0.012470900000000285,\n",
       " '2384512__zebra__0.99999726.jpg': 0.012571400000000565,\n",
       " '2391918__steam_locomotive__0.99999845.jpg': 0.011746300000000431,\n",
       " '2404229__zebra__0.99998367.jpg': 0.011738100000000529,\n",
       " '2381968__ski__0.999984.jpg': 0.011033699999998703,\n",
       " '2413495__traffic_light__0.9999925.jpg': 0.010543000000000191,\n",
       " '2398585__bow_tie__0.9999838.jpg': 0.010561799999999621,\n",
       " '2398771__traffic_light__0.99999.jpg': 0.011480799999999292,\n",
       " '2400121__pizza__0.9999962.jpg': 0.011534700000000342,\n",
       " '2407951__zebra__0.9999975.jpg': 0.011053399999999769,\n",
       " '2386193__broccoli__0.9999924.jpg': 0.01125160000000136,\n",
       " '2410903__steam_locomotive__0.9999876.jpg': 0.011238900000000385,\n",
       " '2399675__zebra__0.9999883.jpg': 0.011874399999999952,\n",
       " '2381932__traffic_light__0.99999964.jpg': 0.012266900000000192,\n",
       " '691__cheetah__0.99999213.jpg': 0.012617599999998674,\n",
       " '2392405__parking_meter__0.9999993.jpg': 0.011413100000000398,\n",
       " '2412908__zebra__0.99998975.jpg': 0.011387199999999709}"
      ]
     },
     "execution_count": 25,
     "metadata": {},
     "output_type": "execute_result"
    }
   ],
   "source": [
    "# For k=5, in the test split #0, show query times\n",
    "batch_global_query_times[5][0]"
   ]
  },
  {
   "cell_type": "markdown",
   "id": "09a170f8",
   "metadata": {},
   "source": [
    "## Metric Evaluation"
   ]
  },
  {
   "cell_type": "markdown",
   "id": "f022d1fa",
   "metadata": {},
   "source": [
    "### Vote Accuracy (RMSE, Manhattan, etc...)"
   ]
  },
  {
   "cell_type": "code",
   "execution_count": 26,
   "id": "b56c3158",
   "metadata": {},
   "outputs": [],
   "source": [
    "def calc_vote_distance(p1, p2, metric):\n",
    "    if metric == 'rmse': return np.sum(np.square(p1 - p2))\n",
    "    elif metric == 'manhattan': return np.sum(np.abs(p1 - p2))\n",
    "    else: raise Exception(f'Unknown performance metric : {metric}')\n",
    "\n",
    "def eval_indiv_vote_predictions(vote_predictions, perf_metric):\n",
    "    vote_distances = []\n",
    "    for img_name, vote_pred in vote_predictions.items():\n",
    "        # Fetch real votes and compare with vote predictions\n",
    "        real_votes = votes_df.loc[img_name].values[:4]\n",
    "        distance = calc_vote_distance(real_votes, vote_pred, perf_metric)\n",
    "        vote_distances.append(distance)\n",
    "    vote_distances = np.array(vote_distances)\n",
    "    if perf_metric=='rmse': metrics = {'rmse': round(np.sqrt(np.average(vote_distances)), 2)}\n",
    "    elif perf_metric=='manhattan': metrics = {'manhattan': (np.average(vote_distances), 2)}\n",
    "    else: raise Exception(f'Unknown performance metric : {perf_metric}')\n",
    "    return metrics\n",
    "\n",
    "def eval_global_vote_predictions(global_vote_predictions, perf_metric):\n",
    "    global_metrics = {}\n",
    "    # Calculate metrics for each split\n",
    "    for split_idx, vote_predictions in global_vote_predictions.items():\n",
    "        global_metrics[split_idx] = eval_indiv_vote_predictions(vote_predictions, perf_metric)\n",
    "    # Aggregate metrics for all splits\n",
    "    global_metrics['global'] = {}\n",
    "    for metric_type in global_metrics[0].keys():\n",
    "        metrics_per_type = [metrics[metric_type] for split_key, metrics in global_metrics.items() if split_key != 'global']\n",
    "        avgd_metrics_per_type = np.round(np.average(np.array(metrics_per_type), axis=0), 2)\n",
    "        global_metrics['global'][metric_type] = avgd_metrics_per_type\n",
    "    return global_metrics"
   ]
  },
  {
   "cell_type": "markdown",
   "id": "f4bc0e1d",
   "metadata": {},
   "source": [
    "### Query Times"
   ]
  },
  {
   "cell_type": "code",
   "execution_count": 27,
   "id": "196fb0b3",
   "metadata": {},
   "outputs": [],
   "source": [
    "def eval_indiv_query_times(query_times):\n",
    "    times = [query_time for _, query_time in query_times.items()]\n",
    "    avg_time = np.average(np.array(times))\n",
    "    return avg_time\n",
    "\n",
    "def eval_global_query_times(global_query_times):\n",
    "    global_metrics = {}\n",
    "    for split_idx, query_times in global_query_times.items():\n",
    "        global_metrics[split_idx] = eval_indiv_query_times(query_times)\n",
    "    avg_times = [avg_time for _, avg_time in global_metrics.items()]\n",
    "    global_metrics['global'] = np.average(np.array(avg_times))\n",
    "    return global_metrics"
   ]
  },
  {
   "cell_type": "markdown",
   "id": "ac7415b9",
   "metadata": {},
   "source": [
    "### Main Code"
   ]
  },
  {
   "cell_type": "code",
   "execution_count": 28,
   "id": "78a1ce2b",
   "metadata": {},
   "outputs": [],
   "source": [
    "def evaluate_results(gbl_vote_preds, gbl_query_times, perf_metric):\n",
    "    vote_metrics = eval_global_vote_predictions(gbl_vote_preds, perf_metric)\n",
    "    query_metrics = eval_global_query_times(gbl_query_times)\n",
    "    return {\n",
    "        'vote_metrics': vote_metrics,\n",
    "        'query_metrics': query_metrics\n",
    "    }"
   ]
  },
  {
   "cell_type": "code",
   "execution_count": 29,
   "id": "ac2bf53a",
   "metadata": {},
   "outputs": [],
   "source": [
    "def batch_evaluate_results(batch_gbl_vote_preds, batch_gbl_query_times, perf_metric):\n",
    "    batch_results = {}\n",
    "    for k_idx in batch_gbl_vote_preds.keys():\n",
    "        results = evaluate_results(batch_gbl_vote_preds[k_idx], batch_gbl_query_times[k_idx], perf_metric)\n",
    "        batch_results[k_idx] = results\n",
    "    return batch_results"
   ]
  },
  {
   "cell_type": "markdown",
   "id": "a0df7e8f",
   "metadata": {},
   "source": [
    "### Compute Both Vote Distances and Query Times"
   ]
  },
  {
   "cell_type": "code",
   "execution_count": 30,
   "id": "00e0aaa6",
   "metadata": {},
   "outputs": [],
   "source": [
    "batch_global_results = batch_evaluate_results(batch_global_predictions, batch_global_query_times, perf_metric=PERF_METRIC_ID)"
   ]
  },
  {
   "cell_type": "markdown",
   "id": "93c5d099",
   "metadata": {},
   "source": [
    "#### Display Results"
   ]
  },
  {
   "cell_type": "code",
   "execution_count": 31,
   "id": "580f3122",
   "metadata": {},
   "outputs": [],
   "source": [
    "def display_batch_results(batch_gbl_results, full_id):\n",
    "    print('DISPLAYING RESULTS')\n",
    "    print(f'FOR {full_id}')\n",
    "    print('-------------------------')\n",
    "    for k_idx, gbl_results in batch_gbl_results.items():\n",
    "        seconds = gbl_results[\"query_metrics\"][\"global\"]\n",
    "        microseconds = round(seconds * 10**6)\n",
    "        print(f'FOR K = {k_idx}')\n",
    "        print(f'Avg. Accuracy : {gbl_results[\"vote_metrics\"][\"global\"]}')\n",
    "        print(f'Avg. Query Time : {microseconds} microseconds')\n",
    "        print('-------------------------------------')"
   ]
  },
  {
   "cell_type": "code",
   "execution_count": 32,
   "id": "6230ddc4",
   "metadata": {
    "scrolled": false
   },
   "outputs": [
    {
     "name": "stdout",
     "output_type": "stream",
     "text": [
      "DISPLAYING RESULTS\n",
      "FOR incv3_feats_cosine\n",
      "-------------------------\n",
      "FOR K = 1\n",
      "Avg. Accuracy : {'rmse': 5.58}\n",
      "Avg. Query Time : 11173 microseconds\n",
      "-------------------------------------\n",
      "FOR K = 3\n",
      "Avg. Accuracy : {'rmse': 4.36}\n",
      "Avg. Query Time : 11529 microseconds\n",
      "-------------------------------------\n",
      "FOR K = 5\n",
      "Avg. Accuracy : {'rmse': 4.26}\n",
      "Avg. Query Time : 11677 microseconds\n",
      "-------------------------------------\n",
      "FOR K = 10\n",
      "Avg. Accuracy : {'rmse': 4.07}\n",
      "Avg. Query Time : 11669 microseconds\n",
      "-------------------------------------\n",
      "FOR K = 20\n",
      "Avg. Accuracy : {'rmse': 4.12}\n",
      "Avg. Query Time : 11557 microseconds\n",
      "-------------------------------------\n"
     ]
    }
   ],
   "source": [
    "# Watch out! Query times can change!\n",
    "display_batch_results(batch_global_results, FULL_ID)"
   ]
  },
  {
   "cell_type": "markdown",
   "id": "d62a55c1",
   "metadata": {},
   "source": [
    "Additional note: Average query times are similar when using both time and timeit."
   ]
  },
  {
   "cell_type": "code",
   "execution_count": 33,
   "id": "1b8c6717",
   "metadata": {},
   "outputs": [
    {
     "data": {
      "text/plain": [
       "<function time.perf_counter>"
      ]
     },
     "execution_count": 33,
     "metadata": {},
     "output_type": "execute_result"
    }
   ],
   "source": [
    "tictoc"
   ]
  }
 ],
 "metadata": {
  "kernelspec": {
   "display_name": "Python 3",
   "language": "python",
   "name": "python3"
  },
  "language_info": {
   "codemirror_mode": {
    "name": "ipython",
    "version": 3
   },
   "file_extension": ".py",
   "mimetype": "text/x-python",
   "name": "python",
   "nbconvert_exporter": "python",
   "pygments_lexer": "ipython3",
   "version": "3.8.5"
  }
 },
 "nbformat": 4,
 "nbformat_minor": 5
}
