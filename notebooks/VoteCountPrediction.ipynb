{
 "cells": [
  {
   "cell_type": "markdown",
   "id": "8a7739ab",
   "metadata": {},
   "source": [
    "# Vote Count Prediction for new Images"
   ]
  },
  {
   "cell_type": "code",
   "execution_count": 1,
   "id": "54b9159c",
   "metadata": {},
   "outputs": [],
   "source": [
    "import pandas as pd\n",
    "import numpy as np\n",
    "import matplotlib.pyplot as plt\n",
    "import os\n",
    "import sklearn"
   ]
  },
  {
   "cell_type": "markdown",
   "id": "bec80c58",
   "metadata": {},
   "source": [
    "## Loading Data"
   ]
  },
  {
   "cell_type": "code",
   "execution_count": 2,
   "id": "8aca39e0",
   "metadata": {},
   "outputs": [],
   "source": [
    "FEATS_FILE_PATH = os.path.join('..', 'features', 'incv1_feats.csv')\n",
    "VOTES_FILE_PATH = os.path.join('..', 'results', 'votes_summary.csv')"
   ]
  },
  {
   "cell_type": "markdown",
   "id": "47c0edcd",
   "metadata": {},
   "source": [
    "#### Data (Features)"
   ]
  },
  {
   "cell_type": "code",
   "execution_count": 3,
   "id": "4e2b9449",
   "metadata": {},
   "outputs": [
    {
     "data": {
      "text/html": [
       "<div>\n",
       "<style scoped>\n",
       "    .dataframe tbody tr th:only-of-type {\n",
       "        vertical-align: middle;\n",
       "    }\n",
       "\n",
       "    .dataframe tbody tr th {\n",
       "        vertical-align: top;\n",
       "    }\n",
       "\n",
       "    .dataframe thead th {\n",
       "        text-align: right;\n",
       "    }\n",
       "</style>\n",
       "<table border=\"1\" class=\"dataframe\">\n",
       "  <thead>\n",
       "    <tr style=\"text-align: right;\">\n",
       "      <th></th>\n",
       "      <th>0</th>\n",
       "      <th>1</th>\n",
       "      <th>2</th>\n",
       "      <th>3</th>\n",
       "      <th>4</th>\n",
       "      <th>5</th>\n",
       "      <th>6</th>\n",
       "      <th>7</th>\n",
       "      <th>8</th>\n",
       "      <th>9</th>\n",
       "      <th>...</th>\n",
       "      <th>1014</th>\n",
       "      <th>1015</th>\n",
       "      <th>1016</th>\n",
       "      <th>1017</th>\n",
       "      <th>1018</th>\n",
       "      <th>1019</th>\n",
       "      <th>1020</th>\n",
       "      <th>1021</th>\n",
       "      <th>1022</th>\n",
       "      <th>1023</th>\n",
       "    </tr>\n",
       "  </thead>\n",
       "  <tbody>\n",
       "    <tr>\n",
       "      <th>1222__pool_table__0.9999995.jpg</th>\n",
       "      <td>0.882798</td>\n",
       "      <td>0.896023</td>\n",
       "      <td>0.123852</td>\n",
       "      <td>0.257982</td>\n",
       "      <td>0.036050</td>\n",
       "      <td>0.108023</td>\n",
       "      <td>0.633841</td>\n",
       "      <td>0.457301</td>\n",
       "      <td>1.684949</td>\n",
       "      <td>0.285681</td>\n",
       "      <td>...</td>\n",
       "      <td>0.422634</td>\n",
       "      <td>0.346122</td>\n",
       "      <td>0.111589</td>\n",
       "      <td>1.441579</td>\n",
       "      <td>0.198722</td>\n",
       "      <td>0.246648</td>\n",
       "      <td>0.295942</td>\n",
       "      <td>0.560950</td>\n",
       "      <td>0.058328</td>\n",
       "      <td>0.117393</td>\n",
       "    </tr>\n",
       "    <tr>\n",
       "      <th>1328__coil__0.99999607.jpg</th>\n",
       "      <td>0.483815</td>\n",
       "      <td>0.134309</td>\n",
       "      <td>0.021849</td>\n",
       "      <td>0.367267</td>\n",
       "      <td>0.089250</td>\n",
       "      <td>0.007518</td>\n",
       "      <td>0.069921</td>\n",
       "      <td>0.219347</td>\n",
       "      <td>0.089260</td>\n",
       "      <td>0.046694</td>\n",
       "      <td>...</td>\n",
       "      <td>0.049852</td>\n",
       "      <td>0.004140</td>\n",
       "      <td>0.199223</td>\n",
       "      <td>0.718976</td>\n",
       "      <td>0.000000</td>\n",
       "      <td>0.000000</td>\n",
       "      <td>0.000000</td>\n",
       "      <td>0.159411</td>\n",
       "      <td>0.012007</td>\n",
       "      <td>0.001601</td>\n",
       "    </tr>\n",
       "    <tr>\n",
       "      <th>134__zebra__0.9999949.jpg</th>\n",
       "      <td>0.291067</td>\n",
       "      <td>0.375913</td>\n",
       "      <td>0.217742</td>\n",
       "      <td>1.269691</td>\n",
       "      <td>0.384181</td>\n",
       "      <td>0.076470</td>\n",
       "      <td>0.662070</td>\n",
       "      <td>0.662391</td>\n",
       "      <td>0.827774</td>\n",
       "      <td>0.115826</td>\n",
       "      <td>...</td>\n",
       "      <td>0.018289</td>\n",
       "      <td>0.000000</td>\n",
       "      <td>0.000775</td>\n",
       "      <td>0.903884</td>\n",
       "      <td>0.589769</td>\n",
       "      <td>0.016957</td>\n",
       "      <td>0.418493</td>\n",
       "      <td>0.005350</td>\n",
       "      <td>0.004198</td>\n",
       "      <td>0.185460</td>\n",
       "    </tr>\n",
       "  </tbody>\n",
       "</table>\n",
       "<p>3 rows × 1024 columns</p>\n",
       "</div>"
      ],
      "text/plain": [
       "                                        0         1         2         3  \\\n",
       "1222__pool_table__0.9999995.jpg  0.882798  0.896023  0.123852  0.257982   \n",
       "1328__coil__0.99999607.jpg       0.483815  0.134309  0.021849  0.367267   \n",
       "134__zebra__0.9999949.jpg        0.291067  0.375913  0.217742  1.269691   \n",
       "\n",
       "                                        4         5         6         7  \\\n",
       "1222__pool_table__0.9999995.jpg  0.036050  0.108023  0.633841  0.457301   \n",
       "1328__coil__0.99999607.jpg       0.089250  0.007518  0.069921  0.219347   \n",
       "134__zebra__0.9999949.jpg        0.384181  0.076470  0.662070  0.662391   \n",
       "\n",
       "                                        8         9  ...      1014      1015  \\\n",
       "1222__pool_table__0.9999995.jpg  1.684949  0.285681  ...  0.422634  0.346122   \n",
       "1328__coil__0.99999607.jpg       0.089260  0.046694  ...  0.049852  0.004140   \n",
       "134__zebra__0.9999949.jpg        0.827774  0.115826  ...  0.018289  0.000000   \n",
       "\n",
       "                                     1016      1017      1018      1019  \\\n",
       "1222__pool_table__0.9999995.jpg  0.111589  1.441579  0.198722  0.246648   \n",
       "1328__coil__0.99999607.jpg       0.199223  0.718976  0.000000  0.000000   \n",
       "134__zebra__0.9999949.jpg        0.000775  0.903884  0.589769  0.016957   \n",
       "\n",
       "                                     1020      1021      1022      1023  \n",
       "1222__pool_table__0.9999995.jpg  0.295942  0.560950  0.058328  0.117393  \n",
       "1328__coil__0.99999607.jpg       0.000000  0.159411  0.012007  0.001601  \n",
       "134__zebra__0.9999949.jpg        0.418493  0.005350  0.004198  0.185460  \n",
       "\n",
       "[3 rows x 1024 columns]"
      ]
     },
     "execution_count": 3,
     "metadata": {},
     "output_type": "execute_result"
    }
   ],
   "source": [
    "feats_df = pd.read_csv(FEATS_FILE_PATH, index_col=0)\n",
    "feats_df.head(3)"
   ]
  },
  {
   "cell_type": "markdown",
   "id": "4f93c8c9",
   "metadata": {},
   "source": [
    "#### Votes"
   ]
  },
  {
   "cell_type": "code",
   "execution_count": 4,
   "id": "d49ae7a6",
   "metadata": {},
   "outputs": [
    {
     "data": {
      "text/html": [
       "<div>\n",
       "<style scoped>\n",
       "    .dataframe tbody tr th:only-of-type {\n",
       "        vertical-align: middle;\n",
       "    }\n",
       "\n",
       "    .dataframe tbody tr th {\n",
       "        vertical-align: top;\n",
       "    }\n",
       "\n",
       "    .dataframe thead th {\n",
       "        text-align: right;\n",
       "    }\n",
       "</style>\n",
       "<table border=\"1\" class=\"dataframe\">\n",
       "  <thead>\n",
       "    <tr style=\"text-align: right;\">\n",
       "      <th></th>\n",
       "      <th>ig</th>\n",
       "      <th>lime</th>\n",
       "      <th>xrai</th>\n",
       "      <th>anchor</th>\n",
       "      <th>best</th>\n",
       "    </tr>\n",
       "  </thead>\n",
       "  <tbody>\n",
       "    <tr>\n",
       "      <th>1222__pool_table__0.9999995.jpg</th>\n",
       "      <td>12</td>\n",
       "      <td>13</td>\n",
       "      <td>3</td>\n",
       "      <td>1</td>\n",
       "      <td>lime</td>\n",
       "    </tr>\n",
       "    <tr>\n",
       "      <th>1328__coil__0.99999607.jpg</th>\n",
       "      <td>17</td>\n",
       "      <td>4</td>\n",
       "      <td>3</td>\n",
       "      <td>2</td>\n",
       "      <td>ig</td>\n",
       "    </tr>\n",
       "    <tr>\n",
       "      <th>134__zebra__0.9999949.jpg</th>\n",
       "      <td>14</td>\n",
       "      <td>1</td>\n",
       "      <td>8</td>\n",
       "      <td>2</td>\n",
       "      <td>ig</td>\n",
       "    </tr>\n",
       "  </tbody>\n",
       "</table>\n",
       "</div>"
      ],
      "text/plain": [
       "                                 ig  lime  xrai  anchor  best\n",
       "1222__pool_table__0.9999995.jpg  12    13     3       1  lime\n",
       "1328__coil__0.99999607.jpg       17     4     3       2    ig\n",
       "134__zebra__0.9999949.jpg        14     1     8       2    ig"
      ]
     },
     "execution_count": 4,
     "metadata": {},
     "output_type": "execute_result"
    }
   ],
   "source": [
    "votes_df = pd.read_csv(VOTES_FILE_PATH, index_col=0)\n",
    "votes_df.head(3)"
   ]
  },
  {
   "cell_type": "markdown",
   "id": "1aa58471",
   "metadata": {},
   "source": [
    "Here's a sanity check for vote proportion in our the dataset. In the original XAI-CBR paper, vote proportion was like this:\n",
    "- IG: 45%\n",
    "- XRAI: 30%\n",
    "- LIME: 18%\n",
    "- ANCHOR: 7%\n",
    "\n",
    "Also, IG was the most voted technique, at least by hard voting aggregation, with a majority of 62% images.\n"
   ]
  },
  {
   "cell_type": "code",
   "execution_count": 5,
   "id": "45e9a162",
   "metadata": {},
   "outputs": [
    {
     "data": {
      "text/plain": [
       "ig        0.488315\n",
       "lime      0.183467\n",
       "xrai      0.271713\n",
       "anchor    0.056505\n",
       "dtype: float64"
      ]
     },
     "execution_count": 5,
     "metadata": {},
     "output_type": "execute_result"
    }
   ],
   "source": [
    "votes_df[['ig','lime','xrai','anchor']].sum() / 2867"
   ]
  },
  {
   "cell_type": "markdown",
   "id": "850f4b64",
   "metadata": {},
   "source": [
    "There's a slight imbalance of these proportions with respect to ones presented in the paper. It seems like some votes from XRAI and ANCHOR techniques drifted out to the IG technique. We'll check this out later, this should not be of great importance in the experiments of this notebook."
   ]
  },
  {
   "cell_type": "markdown",
   "id": "b5aa2ccd",
   "metadata": {},
   "source": [
    "### Data Preprocessing"
   ]
  },
  {
   "cell_type": "code",
   "execution_count": 6,
   "id": "c088b075",
   "metadata": {},
   "outputs": [],
   "source": [
    "X = feats_df.values\n",
    "X_names = feats_df.index.values\n",
    "y = votes_df.values[:, :4]\n",
    "best = votes_df.values[:, -1]"
   ]
  },
  {
   "cell_type": "code",
   "execution_count": 7,
   "id": "1583b84f",
   "metadata": {},
   "outputs": [
    {
     "name": "stdout",
     "output_type": "stream",
     "text": [
      "(198, 1024) (198,) (198, 4) (198,)\n"
     ]
    }
   ],
   "source": [
    "print(X.shape, X_names.shape, y.shape, best.shape)"
   ]
  },
  {
   "cell_type": "markdown",
   "id": "86f90b4c",
   "metadata": {},
   "source": [
    "#### Instance deletion\n",
    "Stratified Subsampling cannot be performed onto the dataset because only one instance is best explained with ANCHOR. Due to the very small importance of that instance in the dataset, we will continue without that instance (i.e. we will find that instance and remove it from the dataset)."
   ]
  },
  {
   "cell_type": "code",
   "execution_count": 8,
   "id": "e7183035",
   "metadata": {},
   "outputs": [
    {
     "data": {
      "text/plain": [
       "array([155], dtype=int64)"
      ]
     },
     "execution_count": 8,
     "metadata": {},
     "output_type": "execute_result"
    }
   ],
   "source": [
    "anchor_idxs = np.argwhere(best == 'anchor')[0]\n",
    "anchor_idxs"
   ]
  },
  {
   "cell_type": "code",
   "execution_count": 9,
   "id": "57b22159",
   "metadata": {},
   "outputs": [
    {
     "data": {
      "text/plain": [
       "(array(['2411942__zebra__0.99999654.jpg'], dtype=object),\n",
       " array(['anchor'], dtype=object))"
      ]
     },
     "execution_count": 9,
     "metadata": {},
     "output_type": "execute_result"
    }
   ],
   "source": [
    "X_names[anchor_idxs], best[anchor_idxs]"
   ]
  },
  {
   "cell_type": "code",
   "execution_count": 10,
   "id": "3f9ba43d",
   "metadata": {},
   "outputs": [],
   "source": [
    "# Delete that instance from all data partitions (X, y, etc.)\n",
    "X = np.delete(X, anchor_idxs, axis=0)\n",
    "X_names = np.delete(X_names, anchor_idxs, axis=0)\n",
    "y = np.delete(y, anchor_idxs, axis=0)\n",
    "best = np.delete(best, anchor_idxs, axis=0)"
   ]
  },
  {
   "cell_type": "code",
   "execution_count": 11,
   "id": "097393d7",
   "metadata": {},
   "outputs": [
    {
     "name": "stdout",
     "output_type": "stream",
     "text": [
      "(197, 1024) (197,) (197, 4) (197,)\n"
     ]
    }
   ],
   "source": [
    "print(X.shape, X_names.shape, y.shape, best.shape)"
   ]
  },
  {
   "cell_type": "markdown",
   "id": "dfacd9b4",
   "metadata": {},
   "source": [
    "## Splitting and Fold Creation"
   ]
  },
  {
   "cell_type": "code",
   "execution_count": 12,
   "id": "ab5a435d",
   "metadata": {},
   "outputs": [],
   "source": [
    "from sklearn.model_selection import StratifiedShuffleSplit as SSS\n",
    "from sklearn.model_selection import ShuffleSplit as SS"
   ]
  },
  {
   "cell_type": "markdown",
   "id": "30c2da70",
   "metadata": {},
   "source": [
    "#### TODO: Should I perform statified subsampling or standard subsampling?"
   ]
  },
  {
   "cell_type": "code",
   "execution_count": 13,
   "id": "e48c4b5e",
   "metadata": {},
   "outputs": [],
   "source": [
    "STRATIFIED = True"
   ]
  },
  {
   "cell_type": "code",
   "execution_count": 14,
   "id": "e37cb918",
   "metadata": {},
   "outputs": [],
   "source": [
    "# Perform split\n",
    "splitter = None\n",
    "if STRATIFIED: splitter = SSS(n_splits=5, test_size=0.2, random_state=42)\n",
    "else: splitter = SS(n_splits=5, test_size=0.2, random_state=42)\n",
    "splits = splitter.split(X, best)\n",
    "splits = list(splits)"
   ]
  },
  {
   "cell_type": "code",
   "execution_count": 15,
   "id": "ce86528d",
   "metadata": {},
   "outputs": [
    {
     "data": {
      "text/plain": [
       "(array([192, 147, 177,  11, 140,  51, 127, 118, 172, 191,  62, 124, 115,\n",
       "         80, 190, 142,  92,  69,  25,  14,  42,   3, 185,  90,  10,  76,\n",
       "        176, 114,  44,  98, 166, 121,  79, 170,   1, 183,  28,  31, 155,\n",
       "         75, 156, 101, 171,  13, 110, 122,  38,  27, 136,  20,   6,  56,\n",
       "         35,  59, 139,  33,  78,  82,  21, 167, 117,  12,  49,  15,   5,\n",
       "        152, 132,  81,  61, 163, 175,  91,   7, 174, 135,  74, 193, 129,\n",
       "         60,  96,  50, 161, 159, 145, 126,  19,  65, 188,  73,  89, 133,\n",
       "        179,  40,  86, 112,  26, 168, 189, 149,  94, 194,  18, 138, 169,\n",
       "        102,  97,  71, 130,  53,  99, 148, 154,   8,  34, 182, 105,  55,\n",
       "         95, 153,  72, 144,  77,  52,  30,   9,  37,   4,  93, 128, 137,\n",
       "        195, 160, 111,  45, 164, 151,  29,  48,  70,  43,  57, 157,  39,\n",
       "        141,  85, 150,  67,   0,  47, 113,  32,  17, 131, 180,  66, 100,\n",
       "        186], dtype=int64),\n",
       " array([ 54, 187, 103,  23, 104, 108, 181,  64, 109, 134,  16, 146,   2,\n",
       "        116, 106, 119, 165,  41, 120, 178, 173, 125,  58, 184,  36,  63,\n",
       "        107,  24, 162,  83,  84,  88, 123,  46, 143,  87,  22, 196,  68,\n",
       "        158], dtype=int64))"
      ]
     },
     "execution_count": 15,
     "metadata": {},
     "output_type": "execute_result"
    }
   ],
   "source": [
    "splits[0]"
   ]
  },
  {
   "cell_type": "markdown",
   "id": "339837b3",
   "metadata": {},
   "source": [
    "## Clustering"
   ]
  },
  {
   "cell_type": "code",
   "execution_count": 78,
   "id": "1d0c5199",
   "metadata": {},
   "outputs": [],
   "source": [
    "clusterable_params = []"
   ]
  },
  {
   "cell_type": "code",
   "execution_count": 45,
   "id": "11892ff4",
   "metadata": {},
   "outputs": [],
   "source": [
    "from sklearn.cluster import DBSCAN\n",
    "from sklearn.metrics import silhouette_score"
   ]
  },
  {
   "cell_type": "code",
   "execution_count": 55,
   "id": "662754e9",
   "metadata": {},
   "outputs": [],
   "source": [
    "def fit_dbscan(data, min_samples, eps_values, \n",
    "               min_no_clusters=2, max_no_clusters=np.inf,\n",
    "               min_clust_instances=None, min_clust_instances_pct=0.85,\n",
    "               max_clust_instances=np.inf, metric='euclidean'):\n",
    "    # Condition precalculation\n",
    "    if min_clust_instances_pct:\n",
    "        min_clust_instances = round(data.shape[0] * min_clust_instances_pct)\n",
    "    elif not min_clust_instances:\n",
    "        min_clust_instances = 100\n",
    "    # Code\n",
    "    scores, clusters, instances = [], [], []\n",
    "    for m in min_samples:\n",
    "        row_scores, row_clusters, row_instances = [], [], []\n",
    "        for e in eps_values:\n",
    "            db = DBSCAN(min_samples=m, eps=e, metric=metric).fit(data)\n",
    "            # Get only non anomalous instances\n",
    "            non_a = db.labels_ != -1 # [False, ..., False] if all are outliers\n",
    "            # Calculate conditions\n",
    "            n_clusters = len(np.unique(db.labels_[non_a])) # 0 if all are outliers\n",
    "            n_instances = len(db.labels_[non_a]) # 0 if all are outliers\n",
    "            # Apply conditions (why does it output NaN and not None?)\n",
    "            valid_n_clusters = n_clusters >= min_no_clusters and n_clusters <= max_no_clusters\n",
    "            valid_n_cl_instances = n_instances >= min_clust_instances and n_instances <= max_clust_instances\n",
    "            if (valid_n_clusters and valid_n_cl_instances):\n",
    "                score = silhouette_score(data[non_a], db.labels_[non_a], metric=metric)\n",
    "            else:\n",
    "                score = None\n",
    "            # Store results\n",
    "            row_scores.append(score)\n",
    "            row_clusters.append(n_clusters)\n",
    "            row_instances.append(n_instances)\n",
    "        # Store row results\n",
    "        scores.append(row_scores)\n",
    "        clusters.append(row_clusters)\n",
    "        instances.append(row_instances)\n",
    "    # Prepare and return values\n",
    "    ms_axis = pd.Index(min_samples, name='Min_samples')\n",
    "    eps_axis = pd.Index(eps_values, name='Epsilon')\n",
    "    df_scores = pd.DataFrame(scores, index=ms_axis, columns=eps_axis)\n",
    "    df_clusters = pd.DataFrame(clusters, index=ms_axis, columns=eps_axis)\n",
    "    df_instances = pd.DataFrame(instances, index=ms_axis, columns=eps_axis)\n",
    "    return df_scores, df_clusters, df_instances"
   ]
  },
  {
   "cell_type": "code",
   "execution_count": 70,
   "id": "b86f4e91",
   "metadata": {},
   "outputs": [],
   "source": [
    "def print_results(m, eps, scores_df, instances_df, clusters_df):\n",
    "    score = round(scores_df.loc[m][eps], 4)\n",
    "    instances = instances_df.loc[m][eps]\n",
    "    clusters = clusters_df.loc[m][eps]\n",
    "    print(f'DBSCAN using parameters m={m} and eps={eps} yields the next clustering results:')\n",
    "    print()\n",
    "    print(f'- Sil. score: {score}')\n",
    "    print(f'- {instances} clustered instances into {clusters} clusters')\n",
    "    print(f'- Avg. of {round(instances/clusters, 2)} instances per cluster')"
   ]
  },
  {
   "cell_type": "code",
   "execution_count": 57,
   "id": "f0dfcaeb",
   "metadata": {},
   "outputs": [
    {
     "data": {
      "text/plain": [
       "133.45"
      ]
     },
     "execution_count": 57,
     "metadata": {},
     "output_type": "execute_result"
    }
   ],
   "source": [
    "X[splits[0][0]].shape[0] * 0.85 # about 135 clustered instances are needed"
   ]
  },
  {
   "cell_type": "markdown",
   "id": "0c81218e",
   "metadata": {},
   "source": [
    "#### Split #0"
   ]
  },
  {
   "cell_type": "code",
   "execution_count": 62,
   "id": "72d475a8",
   "metadata": {},
   "outputs": [
    {
     "data": {
      "text/html": [
       "<div>\n",
       "<style scoped>\n",
       "    .dataframe tbody tr th:only-of-type {\n",
       "        vertical-align: middle;\n",
       "    }\n",
       "\n",
       "    .dataframe tbody tr th {\n",
       "        vertical-align: top;\n",
       "    }\n",
       "\n",
       "    .dataframe thead th {\n",
       "        text-align: right;\n",
       "    }\n",
       "</style>\n",
       "<table border=\"1\" class=\"dataframe\">\n",
       "  <thead>\n",
       "    <tr style=\"text-align: right;\">\n",
       "      <th>Epsilon</th>\n",
       "      <th>11</th>\n",
       "      <th>12</th>\n",
       "      <th>13</th>\n",
       "      <th>14</th>\n",
       "      <th>15</th>\n",
       "      <th>16</th>\n",
       "      <th>17</th>\n",
       "    </tr>\n",
       "    <tr>\n",
       "      <th>Min_samples</th>\n",
       "      <th></th>\n",
       "      <th></th>\n",
       "      <th></th>\n",
       "      <th></th>\n",
       "      <th></th>\n",
       "      <th></th>\n",
       "      <th></th>\n",
       "    </tr>\n",
       "  </thead>\n",
       "  <tbody>\n",
       "    <tr>\n",
       "      <th>2</th>\n",
       "      <td>None</td>\n",
       "      <td>None</td>\n",
       "      <td>0.376409</td>\n",
       "      <td>0.309939</td>\n",
       "      <td>0.226041</td>\n",
       "      <td>0.169750</td>\n",
       "      <td>0.205307</td>\n",
       "    </tr>\n",
       "    <tr>\n",
       "      <th>3</th>\n",
       "      <td>None</td>\n",
       "      <td>None</td>\n",
       "      <td>NaN</td>\n",
       "      <td>0.306802</td>\n",
       "      <td>0.254193</td>\n",
       "      <td>0.207208</td>\n",
       "      <td>0.201926</td>\n",
       "    </tr>\n",
       "    <tr>\n",
       "      <th>4</th>\n",
       "      <td>None</td>\n",
       "      <td>None</td>\n",
       "      <td>NaN</td>\n",
       "      <td>NaN</td>\n",
       "      <td>0.262017</td>\n",
       "      <td>NaN</td>\n",
       "      <td>NaN</td>\n",
       "    </tr>\n",
       "    <tr>\n",
       "      <th>5</th>\n",
       "      <td>None</td>\n",
       "      <td>None</td>\n",
       "      <td>NaN</td>\n",
       "      <td>NaN</td>\n",
       "      <td>0.262017</td>\n",
       "      <td>NaN</td>\n",
       "      <td>NaN</td>\n",
       "    </tr>\n",
       "  </tbody>\n",
       "</table>\n",
       "</div>"
      ],
      "text/plain": [
       "Epsilon        11    12        13        14        15        16        17\n",
       "Min_samples                                                              \n",
       "2            None  None  0.376409  0.309939  0.226041  0.169750  0.205307\n",
       "3            None  None       NaN  0.306802  0.254193  0.207208  0.201926\n",
       "4            None  None       NaN       NaN  0.262017       NaN       NaN\n",
       "5            None  None       NaN       NaN  0.262017       NaN       NaN"
      ]
     },
     "execution_count": 62,
     "metadata": {},
     "output_type": "execute_result"
    }
   ],
   "source": [
    "dfs, dfc, dfi = fit_dbscan(X[splits[0][0]], range(2, 6), range(11, 18))\n",
    "dfs"
   ]
  },
  {
   "cell_type": "code",
   "execution_count": 60,
   "id": "9f5d608f",
   "metadata": {},
   "outputs": [
    {
     "name": "stdout",
     "output_type": "stream",
     "text": [
      "DBSCAN using parameters m=2 and eps=13 yields the next clustering results:\n",
      "\n",
      "- Sil. score: 0.3764090960818043\n",
      "- 138 clustered instances into 16 clusters\n",
      "- Avg. of 8.625 instances per cluster\n"
     ]
    }
   ],
   "source": [
    "print_results(2, 13, dfs, dfi, dfc)"
   ]
  },
  {
   "cell_type": "code",
   "execution_count": 79,
   "id": "763fdcff",
   "metadata": {},
   "outputs": [],
   "source": [
    "clusterable_params.append([2, 13, 0])"
   ]
  },
  {
   "cell_type": "markdown",
   "id": "68b8b7e4",
   "metadata": {},
   "source": [
    "#### Split #1"
   ]
  },
  {
   "cell_type": "code",
   "execution_count": 67,
   "id": "dd557db1",
   "metadata": {},
   "outputs": [
    {
     "data": {
      "text/html": [
       "<div>\n",
       "<style scoped>\n",
       "    .dataframe tbody tr th:only-of-type {\n",
       "        vertical-align: middle;\n",
       "    }\n",
       "\n",
       "    .dataframe tbody tr th {\n",
       "        vertical-align: top;\n",
       "    }\n",
       "\n",
       "    .dataframe thead th {\n",
       "        text-align: right;\n",
       "    }\n",
       "</style>\n",
       "<table border=\"1\" class=\"dataframe\">\n",
       "  <thead>\n",
       "    <tr style=\"text-align: right;\">\n",
       "      <th>Epsilon</th>\n",
       "      <th>11</th>\n",
       "      <th>12</th>\n",
       "      <th>13</th>\n",
       "      <th>14</th>\n",
       "      <th>15</th>\n",
       "      <th>16</th>\n",
       "      <th>17</th>\n",
       "    </tr>\n",
       "    <tr>\n",
       "      <th>Min_samples</th>\n",
       "      <th></th>\n",
       "      <th></th>\n",
       "      <th></th>\n",
       "      <th></th>\n",
       "      <th></th>\n",
       "      <th></th>\n",
       "      <th></th>\n",
       "    </tr>\n",
       "  </thead>\n",
       "  <tbody>\n",
       "    <tr>\n",
       "      <th>2</th>\n",
       "      <td>None</td>\n",
       "      <td>0.405127</td>\n",
       "      <td>0.388931</td>\n",
       "      <td>0.329026</td>\n",
       "      <td>0.233712</td>\n",
       "      <td>0.214392</td>\n",
       "      <td>0.279872</td>\n",
       "    </tr>\n",
       "    <tr>\n",
       "      <th>3</th>\n",
       "      <td>None</td>\n",
       "      <td>NaN</td>\n",
       "      <td>NaN</td>\n",
       "      <td>0.324064</td>\n",
       "      <td>0.235581</td>\n",
       "      <td>0.347616</td>\n",
       "      <td>0.336508</td>\n",
       "    </tr>\n",
       "    <tr>\n",
       "      <th>4</th>\n",
       "      <td>None</td>\n",
       "      <td>NaN</td>\n",
       "      <td>NaN</td>\n",
       "      <td>NaN</td>\n",
       "      <td>0.235581</td>\n",
       "      <td>0.347616</td>\n",
       "      <td>0.336508</td>\n",
       "    </tr>\n",
       "    <tr>\n",
       "      <th>5</th>\n",
       "      <td>None</td>\n",
       "      <td>NaN</td>\n",
       "      <td>NaN</td>\n",
       "      <td>NaN</td>\n",
       "      <td>0.242720</td>\n",
       "      <td>0.347616</td>\n",
       "      <td>0.336508</td>\n",
       "    </tr>\n",
       "    <tr>\n",
       "      <th>6</th>\n",
       "      <td>None</td>\n",
       "      <td>NaN</td>\n",
       "      <td>NaN</td>\n",
       "      <td>NaN</td>\n",
       "      <td>0.234807</td>\n",
       "      <td>NaN</td>\n",
       "      <td>NaN</td>\n",
       "    </tr>\n",
       "  </tbody>\n",
       "</table>\n",
       "</div>"
      ],
      "text/plain": [
       "Epsilon        11        12        13        14        15        16        17\n",
       "Min_samples                                                                  \n",
       "2            None  0.405127  0.388931  0.329026  0.233712  0.214392  0.279872\n",
       "3            None       NaN       NaN  0.324064  0.235581  0.347616  0.336508\n",
       "4            None       NaN       NaN       NaN  0.235581  0.347616  0.336508\n",
       "5            None       NaN       NaN       NaN  0.242720  0.347616  0.336508\n",
       "6            None       NaN       NaN       NaN  0.234807       NaN       NaN"
      ]
     },
     "execution_count": 67,
     "metadata": {},
     "output_type": "execute_result"
    }
   ],
   "source": [
    "dfs, dfc, dfi = fit_dbscan(X[splits[1][0]], range(2, 7), range(11, 18))\n",
    "dfs"
   ]
  },
  {
   "cell_type": "code",
   "execution_count": 65,
   "id": "516f32f0",
   "metadata": {},
   "outputs": [
    {
     "name": "stdout",
     "output_type": "stream",
     "text": [
      "DBSCAN using parameters m=2 and eps=12 yields the next clustering results:\n",
      "\n",
      "- Sil. score: 0.405127456678934\n",
      "- 135 clustered instances into 19 clusters\n",
      "- Avg. of 7.105263157894737 instances per cluster\n"
     ]
    }
   ],
   "source": [
    "print_results(2, 12, dfs, dfi, dfc)"
   ]
  },
  {
   "cell_type": "code",
   "execution_count": 80,
   "id": "4ab3c062",
   "metadata": {},
   "outputs": [],
   "source": [
    "clusterable_params.append([2, 12, 1])"
   ]
  },
  {
   "cell_type": "markdown",
   "id": "fb048667",
   "metadata": {},
   "source": [
    "#### Split #2"
   ]
  },
  {
   "cell_type": "code",
   "execution_count": 71,
   "id": "0bdadef1",
   "metadata": {},
   "outputs": [
    {
     "data": {
      "text/html": [
       "<div>\n",
       "<style scoped>\n",
       "    .dataframe tbody tr th:only-of-type {\n",
       "        vertical-align: middle;\n",
       "    }\n",
       "\n",
       "    .dataframe tbody tr th {\n",
       "        vertical-align: top;\n",
       "    }\n",
       "\n",
       "    .dataframe thead th {\n",
       "        text-align: right;\n",
       "    }\n",
       "</style>\n",
       "<table border=\"1\" class=\"dataframe\">\n",
       "  <thead>\n",
       "    <tr style=\"text-align: right;\">\n",
       "      <th>Epsilon</th>\n",
       "      <th>11</th>\n",
       "      <th>12</th>\n",
       "      <th>13</th>\n",
       "      <th>14</th>\n",
       "      <th>15</th>\n",
       "      <th>16</th>\n",
       "      <th>17</th>\n",
       "    </tr>\n",
       "    <tr>\n",
       "      <th>Min_samples</th>\n",
       "      <th></th>\n",
       "      <th></th>\n",
       "      <th></th>\n",
       "      <th></th>\n",
       "      <th></th>\n",
       "      <th></th>\n",
       "      <th></th>\n",
       "    </tr>\n",
       "  </thead>\n",
       "  <tbody>\n",
       "    <tr>\n",
       "      <th>2</th>\n",
       "      <td>None</td>\n",
       "      <td>0.418787</td>\n",
       "      <td>0.41248</td>\n",
       "      <td>0.277547</td>\n",
       "      <td>0.230598</td>\n",
       "      <td>0.24841</td>\n",
       "      <td>0.244132</td>\n",
       "    </tr>\n",
       "    <tr>\n",
       "      <th>3</th>\n",
       "      <td>None</td>\n",
       "      <td>NaN</td>\n",
       "      <td>0.41020</td>\n",
       "      <td>0.269285</td>\n",
       "      <td>0.257609</td>\n",
       "      <td>NaN</td>\n",
       "      <td>NaN</td>\n",
       "    </tr>\n",
       "    <tr>\n",
       "      <th>4</th>\n",
       "      <td>None</td>\n",
       "      <td>NaN</td>\n",
       "      <td>NaN</td>\n",
       "      <td>0.269285</td>\n",
       "      <td>0.257609</td>\n",
       "      <td>NaN</td>\n",
       "      <td>NaN</td>\n",
       "    </tr>\n",
       "    <tr>\n",
       "      <th>5</th>\n",
       "      <td>None</td>\n",
       "      <td>NaN</td>\n",
       "      <td>NaN</td>\n",
       "      <td>0.275717</td>\n",
       "      <td>0.260715</td>\n",
       "      <td>NaN</td>\n",
       "      <td>NaN</td>\n",
       "    </tr>\n",
       "    <tr>\n",
       "      <th>6</th>\n",
       "      <td>None</td>\n",
       "      <td>NaN</td>\n",
       "      <td>NaN</td>\n",
       "      <td>NaN</td>\n",
       "      <td>0.254598</td>\n",
       "      <td>NaN</td>\n",
       "      <td>NaN</td>\n",
       "    </tr>\n",
       "  </tbody>\n",
       "</table>\n",
       "</div>"
      ],
      "text/plain": [
       "Epsilon        11        12       13        14        15       16        17\n",
       "Min_samples                                                                \n",
       "2            None  0.418787  0.41248  0.277547  0.230598  0.24841  0.244132\n",
       "3            None       NaN  0.41020  0.269285  0.257609      NaN       NaN\n",
       "4            None       NaN      NaN  0.269285  0.257609      NaN       NaN\n",
       "5            None       NaN      NaN  0.275717  0.260715      NaN       NaN\n",
       "6            None       NaN      NaN       NaN  0.254598      NaN       NaN"
      ]
     },
     "execution_count": 71,
     "metadata": {},
     "output_type": "execute_result"
    }
   ],
   "source": [
    "dfs, dfc, dfi = fit_dbscan(X[splits[2][0]], range(2, 7), range(11, 18))\n",
    "dfs"
   ]
  },
  {
   "cell_type": "code",
   "execution_count": 72,
   "id": "5e635ae0",
   "metadata": {},
   "outputs": [
    {
     "name": "stdout",
     "output_type": "stream",
     "text": [
      "DBSCAN using parameters m=2 and eps=12 yields the next clustering results:\n",
      "\n",
      "- Sil. score: 0.4188\n",
      "- 136 clustered instances into 17 clusters\n",
      "- Avg. of 8.0 instances per cluster\n"
     ]
    }
   ],
   "source": [
    "print_results(2, 12, dfs, dfi, dfc)"
   ]
  },
  {
   "cell_type": "code",
   "execution_count": 81,
   "id": "d209ed6e",
   "metadata": {},
   "outputs": [],
   "source": [
    "clusterable_params.append([2, 12, 2])"
   ]
  },
  {
   "cell_type": "markdown",
   "id": "e92a1e9f",
   "metadata": {},
   "source": [
    "#### Split #3"
   ]
  },
  {
   "cell_type": "code",
   "execution_count": 73,
   "id": "9f863723",
   "metadata": {},
   "outputs": [
    {
     "data": {
      "text/html": [
       "<div>\n",
       "<style scoped>\n",
       "    .dataframe tbody tr th:only-of-type {\n",
       "        vertical-align: middle;\n",
       "    }\n",
       "\n",
       "    .dataframe tbody tr th {\n",
       "        vertical-align: top;\n",
       "    }\n",
       "\n",
       "    .dataframe thead th {\n",
       "        text-align: right;\n",
       "    }\n",
       "</style>\n",
       "<table border=\"1\" class=\"dataframe\">\n",
       "  <thead>\n",
       "    <tr style=\"text-align: right;\">\n",
       "      <th>Epsilon</th>\n",
       "      <th>11</th>\n",
       "      <th>12</th>\n",
       "      <th>13</th>\n",
       "      <th>14</th>\n",
       "      <th>15</th>\n",
       "      <th>16</th>\n",
       "      <th>17</th>\n",
       "    </tr>\n",
       "    <tr>\n",
       "      <th>Min_samples</th>\n",
       "      <th></th>\n",
       "      <th></th>\n",
       "      <th></th>\n",
       "      <th></th>\n",
       "      <th></th>\n",
       "      <th></th>\n",
       "      <th></th>\n",
       "    </tr>\n",
       "  </thead>\n",
       "  <tbody>\n",
       "    <tr>\n",
       "      <th>2</th>\n",
       "      <td>None</td>\n",
       "      <td>0.403343</td>\n",
       "      <td>0.323821</td>\n",
       "      <td>0.278651</td>\n",
       "      <td>0.210186</td>\n",
       "      <td>0.184646</td>\n",
       "      <td>0.296871</td>\n",
       "    </tr>\n",
       "    <tr>\n",
       "      <th>3</th>\n",
       "      <td>None</td>\n",
       "      <td>NaN</td>\n",
       "      <td>NaN</td>\n",
       "      <td>0.273266</td>\n",
       "      <td>0.243847</td>\n",
       "      <td>NaN</td>\n",
       "      <td>NaN</td>\n",
       "    </tr>\n",
       "    <tr>\n",
       "      <th>4</th>\n",
       "      <td>None</td>\n",
       "      <td>NaN</td>\n",
       "      <td>NaN</td>\n",
       "      <td>0.270225</td>\n",
       "      <td>0.243847</td>\n",
       "      <td>NaN</td>\n",
       "      <td>NaN</td>\n",
       "    </tr>\n",
       "    <tr>\n",
       "      <th>5</th>\n",
       "      <td>None</td>\n",
       "      <td>NaN</td>\n",
       "      <td>NaN</td>\n",
       "      <td>NaN</td>\n",
       "      <td>0.242323</td>\n",
       "      <td>NaN</td>\n",
       "      <td>NaN</td>\n",
       "    </tr>\n",
       "    <tr>\n",
       "      <th>6</th>\n",
       "      <td>None</td>\n",
       "      <td>NaN</td>\n",
       "      <td>NaN</td>\n",
       "      <td>NaN</td>\n",
       "      <td>0.251365</td>\n",
       "      <td>NaN</td>\n",
       "      <td>NaN</td>\n",
       "    </tr>\n",
       "  </tbody>\n",
       "</table>\n",
       "</div>"
      ],
      "text/plain": [
       "Epsilon        11        12        13        14        15        16        17\n",
       "Min_samples                                                                  \n",
       "2            None  0.403343  0.323821  0.278651  0.210186  0.184646  0.296871\n",
       "3            None       NaN       NaN  0.273266  0.243847       NaN       NaN\n",
       "4            None       NaN       NaN  0.270225  0.243847       NaN       NaN\n",
       "5            None       NaN       NaN       NaN  0.242323       NaN       NaN\n",
       "6            None       NaN       NaN       NaN  0.251365       NaN       NaN"
      ]
     },
     "execution_count": 73,
     "metadata": {},
     "output_type": "execute_result"
    }
   ],
   "source": [
    "dfs, dfc, dfi = fit_dbscan(X[splits[3][0]], range(2, 7), range(11, 18))\n",
    "dfs"
   ]
  },
  {
   "cell_type": "code",
   "execution_count": 74,
   "id": "1a6cebab",
   "metadata": {},
   "outputs": [
    {
     "name": "stdout",
     "output_type": "stream",
     "text": [
      "DBSCAN using parameters m=2 and eps=12 yields the next clustering results:\n",
      "\n",
      "- Sil. score: 0.4033\n",
      "- 135 clustered instances into 19 clusters\n",
      "- Avg. of 7.11 instances per cluster\n"
     ]
    }
   ],
   "source": [
    "print_results(2, 12, dfs, dfi, dfc)"
   ]
  },
  {
   "cell_type": "code",
   "execution_count": 82,
   "id": "38e3b333",
   "metadata": {},
   "outputs": [],
   "source": [
    "clusterable_params.append([2, 12, 3])"
   ]
  },
  {
   "cell_type": "markdown",
   "id": "e0479d82",
   "metadata": {},
   "source": [
    "#### Split #4"
   ]
  },
  {
   "cell_type": "code",
   "execution_count": 75,
   "id": "f2ea8c73",
   "metadata": {},
   "outputs": [
    {
     "data": {
      "text/html": [
       "<div>\n",
       "<style scoped>\n",
       "    .dataframe tbody tr th:only-of-type {\n",
       "        vertical-align: middle;\n",
       "    }\n",
       "\n",
       "    .dataframe tbody tr th {\n",
       "        vertical-align: top;\n",
       "    }\n",
       "\n",
       "    .dataframe thead th {\n",
       "        text-align: right;\n",
       "    }\n",
       "</style>\n",
       "<table border=\"1\" class=\"dataframe\">\n",
       "  <thead>\n",
       "    <tr style=\"text-align: right;\">\n",
       "      <th>Epsilon</th>\n",
       "      <th>11</th>\n",
       "      <th>12</th>\n",
       "      <th>13</th>\n",
       "      <th>14</th>\n",
       "      <th>15</th>\n",
       "      <th>16</th>\n",
       "      <th>17</th>\n",
       "    </tr>\n",
       "    <tr>\n",
       "      <th>Min_samples</th>\n",
       "      <th></th>\n",
       "      <th></th>\n",
       "      <th></th>\n",
       "      <th></th>\n",
       "      <th></th>\n",
       "      <th></th>\n",
       "      <th></th>\n",
       "    </tr>\n",
       "  </thead>\n",
       "  <tbody>\n",
       "    <tr>\n",
       "      <th>2</th>\n",
       "      <td>None</td>\n",
       "      <td>None</td>\n",
       "      <td>0.372388</td>\n",
       "      <td>0.274406</td>\n",
       "      <td>0.216593</td>\n",
       "      <td>0.162722</td>\n",
       "      <td>None</td>\n",
       "    </tr>\n",
       "    <tr>\n",
       "      <th>3</th>\n",
       "      <td>None</td>\n",
       "      <td>None</td>\n",
       "      <td>0.398123</td>\n",
       "      <td>0.272670</td>\n",
       "      <td>0.262001</td>\n",
       "      <td>NaN</td>\n",
       "      <td>None</td>\n",
       "    </tr>\n",
       "    <tr>\n",
       "      <th>4</th>\n",
       "      <td>None</td>\n",
       "      <td>None</td>\n",
       "      <td>NaN</td>\n",
       "      <td>0.277303</td>\n",
       "      <td>0.262001</td>\n",
       "      <td>NaN</td>\n",
       "      <td>None</td>\n",
       "    </tr>\n",
       "    <tr>\n",
       "      <th>5</th>\n",
       "      <td>None</td>\n",
       "      <td>None</td>\n",
       "      <td>NaN</td>\n",
       "      <td>NaN</td>\n",
       "      <td>0.265082</td>\n",
       "      <td>NaN</td>\n",
       "      <td>None</td>\n",
       "    </tr>\n",
       "    <tr>\n",
       "      <th>6</th>\n",
       "      <td>None</td>\n",
       "      <td>None</td>\n",
       "      <td>NaN</td>\n",
       "      <td>NaN</td>\n",
       "      <td>0.274071</td>\n",
       "      <td>NaN</td>\n",
       "      <td>None</td>\n",
       "    </tr>\n",
       "  </tbody>\n",
       "</table>\n",
       "</div>"
      ],
      "text/plain": [
       "Epsilon        11    12        13        14        15        16    17\n",
       "Min_samples                                                          \n",
       "2            None  None  0.372388  0.274406  0.216593  0.162722  None\n",
       "3            None  None  0.398123  0.272670  0.262001       NaN  None\n",
       "4            None  None       NaN  0.277303  0.262001       NaN  None\n",
       "5            None  None       NaN       NaN  0.265082       NaN  None\n",
       "6            None  None       NaN       NaN  0.274071       NaN  None"
      ]
     },
     "execution_count": 75,
     "metadata": {},
     "output_type": "execute_result"
    }
   ],
   "source": [
    "dfs, dfc, dfi = fit_dbscan(X[splits[4][0]], range(2, 7), range(11, 18))\n",
    "dfs"
   ]
  },
  {
   "cell_type": "code",
   "execution_count": 77,
   "id": "ad6aeabd",
   "metadata": {},
   "outputs": [
    {
     "name": "stdout",
     "output_type": "stream",
     "text": [
      "DBSCAN using parameters m=3 and eps=13 yields the next clustering results:\n",
      "\n",
      "- Sil. score: 0.3981\n",
      "- 133 clustered instances into 12 clusters\n",
      "- Avg. of 11.08 instances per cluster\n"
     ]
    }
   ],
   "source": [
    "print_results(3, 13, dfs, dfi, dfc)"
   ]
  },
  {
   "cell_type": "code",
   "execution_count": 83,
   "id": "5ca7202f",
   "metadata": {},
   "outputs": [],
   "source": [
    "clusterable_params.append([3, 13, 4])"
   ]
  },
  {
   "cell_type": "markdown",
   "id": "2e64c355",
   "metadata": {},
   "source": [
    "#### Clusterable parameters for each split"
   ]
  },
  {
   "cell_type": "code",
   "execution_count": 84,
   "id": "6d61c737",
   "metadata": {},
   "outputs": [
    {
     "data": {
      "text/plain": [
       "[[2, 13, 0], [2, 12, 1], [2, 12, 2], [2, 12, 3], [3, 13, 4]]"
      ]
     },
     "execution_count": 84,
     "metadata": {},
     "output_type": "execute_result"
    }
   ],
   "source": [
    "clusterable_params"
   ]
  },
  {
   "cell_type": "markdown",
   "id": "45e7ad78",
   "metadata": {},
   "source": [
    "## Clustering Results"
   ]
  },
  {
   "cell_type": "code",
   "execution_count": 49,
   "id": "f7c90024",
   "metadata": {},
   "outputs": [],
   "source": [
    "def get_indiv_clustering_results(params):\n",
    "    '''Returns a dictionary mapping the name of an image\n",
    "    with the cluster it belongs'''\n",
    "    # Prepare data\n",
    "    instances = feats_df.values\n",
    "    img_names = feats_df.index.values\n",
    "    # Perform clustering\n",
    "    dbscan = DBSCAN(min_samples=params[0], eps=params[1])\n",
    "    dbscan = dbscan.fit(instances)\n",
    "    # Generate {img_name : label} mapping\n",
    "    name_label_map = {name: label for name, label in zip(img_names, dbscan.labels_)}\n",
    "    return name_label_map\n",
    "\n",
    "def get_global_clustering_results(params_set):\n",
    "    '''Returns a dictionary mapping the index of every param set\n",
    "    in 'params' arg. with the clustering results generated with that param. set'''\n",
    "    results = {}\n",
    "    for i, params in enumerate(params_set):\n",
    "        results[i] = get_indiv_clustering_results(params)\n",
    "    return results"
   ]
  },
  {
   "cell_type": "code",
   "execution_count": 53,
   "id": "91ac933f",
   "metadata": {},
   "outputs": [],
   "source": [
    "cl_results = get_global_clustering_results([[2, 11],[4,12]])"
   ]
  },
  {
   "cell_type": "code",
   "execution_count": 63,
   "id": "ef7841e6",
   "metadata": {},
   "outputs": [
    {
     "data": {
      "text/plain": [
       "array([-1,  0,  1,  2,  3,  4,  5,  6,  7,  8,  9, 10, 11, 12, 13, 14, 15,\n",
       "       16], dtype=int64)"
      ]
     },
     "execution_count": 63,
     "metadata": {},
     "output_type": "execute_result"
    }
   ],
   "source": [
    "np.unique(list(cl_results[0].values()))"
   ]
  },
  {
   "cell_type": "markdown",
   "id": "ee208b39",
   "metadata": {},
   "source": [
    "## Clustering Prototypes"
   ]
  },
  {
   "cell_type": "markdown",
   "id": "563ab6e3",
   "metadata": {},
   "source": [
    "In our experiment, we want to predict the vote count for a new image, based on the proximity it has to the avaliable clusters. These clusters are composed of many data points, so the proximity of a new data point to a cluster can be measured in different ways, like taking the distance between the new point and the nearest clustered point in the dataset.   \n",
    "However, this approach can be biased when new poins get associated to the cluster taking in account the nearest point of a cluster instead of the overall position of a cluster. To avoid this, for each cluster we calculate a \"prototype\", a data point which is the centroid of all the data points in a cluster. This way, we can measure the distance to the general position of a cluster in a more confident way."
   ]
  },
  {
   "cell_type": "code",
   "execution_count": 91,
   "id": "13259e39",
   "metadata": {},
   "outputs": [],
   "source": [
    "def gen_indiv_cl_prototypes(cl_result, ignore_noise=True):\n",
    "    # Separate image data (\"instances\") according to the clusters they belong to\n",
    "    instances_by_cluster = {}\n",
    "    for img_name, cl_idx in cl_result.items():\n",
    "        if ignore_noise and cl_idx == -1: continue # ignore noise cluster\n",
    "        img_data = feats_df.loc[img_name].values\n",
    "        if cl_idx not in instances_by_cluster.keys(): instances_by_cluster[cl_idx] = [img_data]\n",
    "        else: instances_by_cluster[cl_idx].append(img_data)\n",
    "    # For each cluster, calculate their prototype\n",
    "    prototypes_per_cluster = {}\n",
    "    for cl_idx, instances in instances_by_cluster.items():\n",
    "        prototypes_per_cluster[cl_idx] = np.average(instances, axis=0)\n",
    "    return prototypes_per_cluster\n",
    "    \n",
    "def get_global_cl_prototypes(cl_results, ignore_noise=True):\n",
    "    global_prototypes = {}\n",
    "    for i, cl_result in cl_results.items():\n",
    "        global_prototypes[i] = gen_indiv_cl_prototypes(cl_result, ignore_noise=ignore_noise)\n",
    "    return global_prototypes"
   ]
  },
  {
   "cell_type": "code",
   "execution_count": 92,
   "id": "c7c0d4dc",
   "metadata": {},
   "outputs": [],
   "source": [
    "cls_prototypes = get_global_cl_prototypes(cl_results)"
   ]
  },
  {
   "cell_type": "code",
   "execution_count": 94,
   "id": "608de361",
   "metadata": {
    "scrolled": true
   },
   "outputs": [
    {
     "data": {
      "text/plain": [
       "{0: array([0.66188401, 0.93429005, 0.11197158, ..., 0.88486853, 0.21662746,\n",
       "        0.12339265]),\n",
       " 1: array([0.50070014, 0.99811866, 0.28720732, ..., 0.01932118, 0.02779637,\n",
       "        0.02556516]),\n",
       " 2: array([0.19200545, 1.58048682, 0.25523968, ..., 0.81177693, 0.4258423 ,\n",
       "        0.43064069]),\n",
       " 3: array([0.14667615, 0.67061676, 1.162989  , ..., 0.28520836, 2.17391784,\n",
       "        0.1788621 ]),\n",
       " 4: array([0.6160234 , 0.20189823, 0.1508589 , ..., 0.21690794, 0.17138973,\n",
       "        0.51319627]),\n",
       " 5: array([0.53928549, 2.23871909, 0.32241292, ..., 0.43548633, 0.04817468,\n",
       "        0.50577198]),\n",
       " 6: array([0.17033383, 0.11921771, 0.6543898 , ..., 0.0605856 , 0.30521156,\n",
       "        0.06356359]),\n",
       " 7: array([0.19044175, 0.09295808, 0.18133281, ..., 0.35558084, 0.24817289,\n",
       "        0.74048979]),\n",
       " 8: array([0.85294944, 0.64817178, 0.74822995, ..., 0.1904317 , 0.54083599,\n",
       "        0.05673566]),\n",
       " 9: array([0.56155054, 0.10792938, 1.53658396, ..., 0.19078673, 0.98497629,\n",
       "        0.21381244]),\n",
       " 10: array([0.3246719 , 0.13656151, 0.15922927, ..., 0.57536117, 0.63914224,\n",
       "        0.05761176]),\n",
       " 11: array([0.16591369, 0.04052315, 0.30662133, ..., 0.29954344, 0.20151201,\n",
       "        0.94592699]),\n",
       " 12: array([0.36538833, 0.43455122, 0.2886822 , ..., 0.28271769, 0.18367942,\n",
       "        1.03130389]),\n",
       " 13: array([0.50692302, 0.78776875, 0.39006761, ..., 0.89494464, 0.52480048,\n",
       "        0.09903013]),\n",
       " 14: array([0.58922106, 0.23616834, 0.32533013, ..., 0.49715182, 0.29967682,\n",
       "        0.46152148]),\n",
       " 15: array([0.25549116, 0.24242395, 0.73366943, ..., 0.23656965, 0.90556541,\n",
       "        0.33610805]),\n",
       " 16: array([0.64984408, 0.05552913, 0.47979701, ..., 0.13258819, 0.2411019 ,\n",
       "        0.11612448])}"
      ]
     },
     "execution_count": 94,
     "metadata": {},
     "output_type": "execute_result"
    }
   ],
   "source": [
    "cls_prototypes[0]"
   ]
  },
  {
   "cell_type": "markdown",
   "id": "876dc122",
   "metadata": {},
   "source": [
    "## Evaluation"
   ]
  },
  {
   "cell_type": "code",
   "execution_count": null,
   "id": "f0435ee5",
   "metadata": {},
   "outputs": [],
   "source": []
  },
  {
   "cell_type": "code",
   "execution_count": null,
   "id": "b09ac157",
   "metadata": {},
   "outputs": [],
   "source": []
  },
  {
   "cell_type": "code",
   "execution_count": null,
   "id": "8c2453a0",
   "metadata": {},
   "outputs": [],
   "source": []
  }
 ],
 "metadata": {
  "kernelspec": {
   "display_name": "Python 3",
   "language": "python",
   "name": "python3"
  },
  "language_info": {
   "codemirror_mode": {
    "name": "ipython",
    "version": 3
   },
   "file_extension": ".py",
   "mimetype": "text/x-python",
   "name": "python",
   "nbconvert_exporter": "python",
   "pygments_lexer": "ipython3",
   "version": "3.8.5"
  }
 },
 "nbformat": 4,
 "nbformat_minor": 5
}
