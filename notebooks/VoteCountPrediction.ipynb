{
 "cells": [
  {
   "cell_type": "markdown",
   "id": "8a7739ab",
   "metadata": {},
   "source": [
    "# Vote Count Prediction for new Images"
   ]
  },
  {
   "cell_type": "code",
   "execution_count": 1,
   "id": "54b9159c",
   "metadata": {},
   "outputs": [],
   "source": [
    "import pandas as pd\n",
    "import numpy as np\n",
    "import matplotlib.pyplot as plt\n",
    "import os\n",
    "import sklearn"
   ]
  },
  {
   "cell_type": "markdown",
   "id": "bec80c58",
   "metadata": {},
   "source": [
    "## Loading Data"
   ]
  },
  {
   "cell_type": "code",
   "execution_count": 2,
   "id": "8aca39e0",
   "metadata": {},
   "outputs": [],
   "source": [
    "FEATS_FILE_PATH = os.path.join('..', 'features', 'incv1_feats.csv')\n",
    "VOTES_FILE_PATH = os.path.join('..', 'results', 'votes_summary.csv')"
   ]
  },
  {
   "cell_type": "markdown",
   "id": "47c0edcd",
   "metadata": {},
   "source": [
    "#### Data (Features)"
   ]
  },
  {
   "cell_type": "code",
   "execution_count": 3,
   "id": "4e2b9449",
   "metadata": {},
   "outputs": [
    {
     "data": {
      "text/html": [
       "<div>\n",
       "<style scoped>\n",
       "    .dataframe tbody tr th:only-of-type {\n",
       "        vertical-align: middle;\n",
       "    }\n",
       "\n",
       "    .dataframe tbody tr th {\n",
       "        vertical-align: top;\n",
       "    }\n",
       "\n",
       "    .dataframe thead th {\n",
       "        text-align: right;\n",
       "    }\n",
       "</style>\n",
       "<table border=\"1\" class=\"dataframe\">\n",
       "  <thead>\n",
       "    <tr style=\"text-align: right;\">\n",
       "      <th></th>\n",
       "      <th>0</th>\n",
       "      <th>1</th>\n",
       "      <th>2</th>\n",
       "      <th>3</th>\n",
       "      <th>4</th>\n",
       "      <th>5</th>\n",
       "      <th>6</th>\n",
       "      <th>7</th>\n",
       "      <th>8</th>\n",
       "      <th>9</th>\n",
       "      <th>...</th>\n",
       "      <th>1014</th>\n",
       "      <th>1015</th>\n",
       "      <th>1016</th>\n",
       "      <th>1017</th>\n",
       "      <th>1018</th>\n",
       "      <th>1019</th>\n",
       "      <th>1020</th>\n",
       "      <th>1021</th>\n",
       "      <th>1022</th>\n",
       "      <th>1023</th>\n",
       "    </tr>\n",
       "  </thead>\n",
       "  <tbody>\n",
       "    <tr>\n",
       "      <th>1222__pool_table__0.9999995.jpg</th>\n",
       "      <td>0.882798</td>\n",
       "      <td>0.896023</td>\n",
       "      <td>0.123852</td>\n",
       "      <td>0.257982</td>\n",
       "      <td>0.036050</td>\n",
       "      <td>0.108023</td>\n",
       "      <td>0.633841</td>\n",
       "      <td>0.457301</td>\n",
       "      <td>1.684949</td>\n",
       "      <td>0.285681</td>\n",
       "      <td>...</td>\n",
       "      <td>0.422634</td>\n",
       "      <td>0.346122</td>\n",
       "      <td>0.111589</td>\n",
       "      <td>1.441579</td>\n",
       "      <td>0.198722</td>\n",
       "      <td>0.246648</td>\n",
       "      <td>0.295942</td>\n",
       "      <td>0.560950</td>\n",
       "      <td>0.058328</td>\n",
       "      <td>0.117393</td>\n",
       "    </tr>\n",
       "    <tr>\n",
       "      <th>1328__coil__0.99999607.jpg</th>\n",
       "      <td>0.483815</td>\n",
       "      <td>0.134309</td>\n",
       "      <td>0.021849</td>\n",
       "      <td>0.367267</td>\n",
       "      <td>0.089250</td>\n",
       "      <td>0.007518</td>\n",
       "      <td>0.069921</td>\n",
       "      <td>0.219347</td>\n",
       "      <td>0.089260</td>\n",
       "      <td>0.046694</td>\n",
       "      <td>...</td>\n",
       "      <td>0.049852</td>\n",
       "      <td>0.004140</td>\n",
       "      <td>0.199223</td>\n",
       "      <td>0.718976</td>\n",
       "      <td>0.000000</td>\n",
       "      <td>0.000000</td>\n",
       "      <td>0.000000</td>\n",
       "      <td>0.159411</td>\n",
       "      <td>0.012007</td>\n",
       "      <td>0.001601</td>\n",
       "    </tr>\n",
       "    <tr>\n",
       "      <th>134__zebra__0.9999949.jpg</th>\n",
       "      <td>0.291067</td>\n",
       "      <td>0.375913</td>\n",
       "      <td>0.217742</td>\n",
       "      <td>1.269691</td>\n",
       "      <td>0.384181</td>\n",
       "      <td>0.076470</td>\n",
       "      <td>0.662070</td>\n",
       "      <td>0.662391</td>\n",
       "      <td>0.827774</td>\n",
       "      <td>0.115826</td>\n",
       "      <td>...</td>\n",
       "      <td>0.018289</td>\n",
       "      <td>0.000000</td>\n",
       "      <td>0.000775</td>\n",
       "      <td>0.903884</td>\n",
       "      <td>0.589769</td>\n",
       "      <td>0.016957</td>\n",
       "      <td>0.418493</td>\n",
       "      <td>0.005350</td>\n",
       "      <td>0.004198</td>\n",
       "      <td>0.185460</td>\n",
       "    </tr>\n",
       "  </tbody>\n",
       "</table>\n",
       "<p>3 rows × 1024 columns</p>\n",
       "</div>"
      ],
      "text/plain": [
       "                                        0         1         2         3  \\\n",
       "1222__pool_table__0.9999995.jpg  0.882798  0.896023  0.123852  0.257982   \n",
       "1328__coil__0.99999607.jpg       0.483815  0.134309  0.021849  0.367267   \n",
       "134__zebra__0.9999949.jpg        0.291067  0.375913  0.217742  1.269691   \n",
       "\n",
       "                                        4         5         6         7  \\\n",
       "1222__pool_table__0.9999995.jpg  0.036050  0.108023  0.633841  0.457301   \n",
       "1328__coil__0.99999607.jpg       0.089250  0.007518  0.069921  0.219347   \n",
       "134__zebra__0.9999949.jpg        0.384181  0.076470  0.662070  0.662391   \n",
       "\n",
       "                                        8         9  ...      1014      1015  \\\n",
       "1222__pool_table__0.9999995.jpg  1.684949  0.285681  ...  0.422634  0.346122   \n",
       "1328__coil__0.99999607.jpg       0.089260  0.046694  ...  0.049852  0.004140   \n",
       "134__zebra__0.9999949.jpg        0.827774  0.115826  ...  0.018289  0.000000   \n",
       "\n",
       "                                     1016      1017      1018      1019  \\\n",
       "1222__pool_table__0.9999995.jpg  0.111589  1.441579  0.198722  0.246648   \n",
       "1328__coil__0.99999607.jpg       0.199223  0.718976  0.000000  0.000000   \n",
       "134__zebra__0.9999949.jpg        0.000775  0.903884  0.589769  0.016957   \n",
       "\n",
       "                                     1020      1021      1022      1023  \n",
       "1222__pool_table__0.9999995.jpg  0.295942  0.560950  0.058328  0.117393  \n",
       "1328__coil__0.99999607.jpg       0.000000  0.159411  0.012007  0.001601  \n",
       "134__zebra__0.9999949.jpg        0.418493  0.005350  0.004198  0.185460  \n",
       "\n",
       "[3 rows x 1024 columns]"
      ]
     },
     "execution_count": 3,
     "metadata": {},
     "output_type": "execute_result"
    }
   ],
   "source": [
    "feats_df = pd.read_csv(FEATS_FILE_PATH, index_col=0)\n",
    "feats_df.head(3)"
   ]
  },
  {
   "cell_type": "markdown",
   "id": "4f93c8c9",
   "metadata": {},
   "source": [
    "#### Votes"
   ]
  },
  {
   "cell_type": "code",
   "execution_count": 4,
   "id": "d49ae7a6",
   "metadata": {},
   "outputs": [
    {
     "data": {
      "text/html": [
       "<div>\n",
       "<style scoped>\n",
       "    .dataframe tbody tr th:only-of-type {\n",
       "        vertical-align: middle;\n",
       "    }\n",
       "\n",
       "    .dataframe tbody tr th {\n",
       "        vertical-align: top;\n",
       "    }\n",
       "\n",
       "    .dataframe thead th {\n",
       "        text-align: right;\n",
       "    }\n",
       "</style>\n",
       "<table border=\"1\" class=\"dataframe\">\n",
       "  <thead>\n",
       "    <tr style=\"text-align: right;\">\n",
       "      <th></th>\n",
       "      <th>ig</th>\n",
       "      <th>lime</th>\n",
       "      <th>xrai</th>\n",
       "      <th>anchor</th>\n",
       "      <th>best</th>\n",
       "    </tr>\n",
       "  </thead>\n",
       "  <tbody>\n",
       "    <tr>\n",
       "      <th>1222__pool_table__0.9999995.jpg</th>\n",
       "      <td>12</td>\n",
       "      <td>13</td>\n",
       "      <td>3</td>\n",
       "      <td>1</td>\n",
       "      <td>lime</td>\n",
       "    </tr>\n",
       "    <tr>\n",
       "      <th>1328__coil__0.99999607.jpg</th>\n",
       "      <td>17</td>\n",
       "      <td>4</td>\n",
       "      <td>3</td>\n",
       "      <td>2</td>\n",
       "      <td>ig</td>\n",
       "    </tr>\n",
       "    <tr>\n",
       "      <th>134__zebra__0.9999949.jpg</th>\n",
       "      <td>14</td>\n",
       "      <td>1</td>\n",
       "      <td>8</td>\n",
       "      <td>2</td>\n",
       "      <td>ig</td>\n",
       "    </tr>\n",
       "  </tbody>\n",
       "</table>\n",
       "</div>"
      ],
      "text/plain": [
       "                                 ig  lime  xrai  anchor  best\n",
       "1222__pool_table__0.9999995.jpg  12    13     3       1  lime\n",
       "1328__coil__0.99999607.jpg       17     4     3       2    ig\n",
       "134__zebra__0.9999949.jpg        14     1     8       2    ig"
      ]
     },
     "execution_count": 4,
     "metadata": {},
     "output_type": "execute_result"
    }
   ],
   "source": [
    "votes_df = pd.read_csv(VOTES_FILE_PATH, index_col=0)\n",
    "votes_df.head(3)"
   ]
  },
  {
   "cell_type": "markdown",
   "id": "1aa58471",
   "metadata": {},
   "source": [
    "Here's a sanity check for vote proportion in our the dataset. In the original XAI-CBR paper, vote proportion was like this:\n",
    "- IG: 45%\n",
    "- XRAI: 30%\n",
    "- LIME: 18%\n",
    "- ANCHOR: 7%\n",
    "\n",
    "Also, IG was the most voted technique, at least by hard voting aggregation, with a majority of 62% images.\n"
   ]
  },
  {
   "cell_type": "code",
   "execution_count": 5,
   "id": "45e9a162",
   "metadata": {},
   "outputs": [
    {
     "data": {
      "text/plain": [
       "ig        0.488315\n",
       "lime      0.183467\n",
       "xrai      0.271713\n",
       "anchor    0.056505\n",
       "dtype: float64"
      ]
     },
     "execution_count": 5,
     "metadata": {},
     "output_type": "execute_result"
    }
   ],
   "source": [
    "votes_df[['ig','lime','xrai','anchor']].sum() / 2867"
   ]
  },
  {
   "cell_type": "markdown",
   "id": "850f4b64",
   "metadata": {},
   "source": [
    "There's a slight imbalance of these proportions with respect to ones presented in the paper. It seems like some votes from XRAI and ANCHOR techniques drifted out to the IG technique. We'll check this out later, this should not be of great importance in the experiments of this notebook."
   ]
  },
  {
   "cell_type": "markdown",
   "id": "b5aa2ccd",
   "metadata": {},
   "source": [
    "### Data Preprocessing"
   ]
  },
  {
   "cell_type": "code",
   "execution_count": 6,
   "id": "c088b075",
   "metadata": {},
   "outputs": [],
   "source": [
    "X = feats_df.values\n",
    "X_names = feats_df.index.values\n",
    "y = votes_df.values[:, :4]\n",
    "best = votes_df.values[:, -1]"
   ]
  },
  {
   "cell_type": "code",
   "execution_count": 7,
   "id": "1583b84f",
   "metadata": {},
   "outputs": [
    {
     "name": "stdout",
     "output_type": "stream",
     "text": [
      "(198, 1024) (198,) (198, 4) (198,)\n"
     ]
    }
   ],
   "source": [
    "print(X.shape, X_names.shape, y.shape, best.shape)"
   ]
  },
  {
   "cell_type": "markdown",
   "id": "86f90b4c",
   "metadata": {},
   "source": [
    "#### Instance deletion\n",
    "Stratified Subsampling cannot be performed onto the dataset because only one instance is best explained with ANCHOR. Due to the very small importance of that instance in the dataset, we will continue without that instance (i.e. we will find that instance and remove it from the dataset)."
   ]
  },
  {
   "cell_type": "code",
   "execution_count": 8,
   "id": "e7183035",
   "metadata": {},
   "outputs": [
    {
     "data": {
      "text/plain": [
       "array([155], dtype=int64)"
      ]
     },
     "execution_count": 8,
     "metadata": {},
     "output_type": "execute_result"
    }
   ],
   "source": [
    "anchor_idxs = np.argwhere(best == 'anchor')[0]\n",
    "anchor_idxs"
   ]
  },
  {
   "cell_type": "code",
   "execution_count": 9,
   "id": "57b22159",
   "metadata": {},
   "outputs": [
    {
     "data": {
      "text/plain": [
       "(array(['2411942__zebra__0.99999654.jpg'], dtype=object),\n",
       " array(['anchor'], dtype=object))"
      ]
     },
     "execution_count": 9,
     "metadata": {},
     "output_type": "execute_result"
    }
   ],
   "source": [
    "X_names[anchor_idxs], best[anchor_idxs]"
   ]
  },
  {
   "cell_type": "code",
   "execution_count": 10,
   "id": "3f9ba43d",
   "metadata": {},
   "outputs": [],
   "source": [
    "# Delete that instance from all data partitions (X, y, etc.)\n",
    "X = np.delete(X, anchor_idxs, axis=0)\n",
    "X_names = np.delete(X_names, anchor_idxs, axis=0)\n",
    "y = np.delete(y, anchor_idxs, axis=0)\n",
    "best = np.delete(best, anchor_idxs, axis=0)"
   ]
  },
  {
   "cell_type": "code",
   "execution_count": 11,
   "id": "097393d7",
   "metadata": {},
   "outputs": [
    {
     "name": "stdout",
     "output_type": "stream",
     "text": [
      "(197, 1024) (197,) (197, 4) (197,)\n"
     ]
    }
   ],
   "source": [
    "print(X.shape, X_names.shape, y.shape, best.shape)"
   ]
  },
  {
   "cell_type": "markdown",
   "id": "dfacd9b4",
   "metadata": {},
   "source": [
    "## Splitting and Fold Creation"
   ]
  },
  {
   "cell_type": "code",
   "execution_count": 12,
   "id": "ab5a435d",
   "metadata": {},
   "outputs": [],
   "source": [
    "from sklearn.model_selection import StratifiedShuffleSplit as SSS\n",
    "from sklearn.model_selection import ShuffleSplit as SS"
   ]
  },
  {
   "cell_type": "markdown",
   "id": "30c2da70",
   "metadata": {},
   "source": [
    "#### TODO: Should I perform statified subsampling or standard subsampling?"
   ]
  },
  {
   "cell_type": "code",
   "execution_count": 13,
   "id": "4f2a2719",
   "metadata": {},
   "outputs": [],
   "source": [
    "STRATIFIED = True"
   ]
  },
  {
   "cell_type": "code",
   "execution_count": 14,
   "id": "e37cb918",
   "metadata": {},
   "outputs": [],
   "source": [
    "# Perform split\n",
    "splitter = None\n",
    "if STRATIFIED: splitter = SSS(n_splits=5, test_size=0.2, random_state=42)\n",
    "else: splitter = SS(n_splits=5, test_size=0.2, random_state=42)\n",
    "splits = splitter.split(X, best)\n",
    "splits = list(splits)"
   ]
  },
  {
   "cell_type": "code",
   "execution_count": 15,
   "id": "ce86528d",
   "metadata": {},
   "outputs": [
    {
     "data": {
      "text/plain": [
       "(array([192, 147, 177,  11, 140,  51, 127, 118, 172, 191,  62, 124, 115,\n",
       "         80, 190, 142,  92,  69,  25,  14,  42,   3, 185,  90,  10,  76,\n",
       "        176, 114,  44,  98, 166, 121,  79, 170,   1, 183,  28,  31, 155,\n",
       "         75, 156, 101, 171,  13, 110, 122,  38,  27, 136,  20,   6,  56,\n",
       "         35,  59, 139,  33,  78,  82,  21, 167, 117,  12,  49,  15,   5,\n",
       "        152, 132,  81,  61, 163, 175,  91,   7, 174, 135,  74, 193, 129,\n",
       "         60,  96,  50, 161, 159, 145, 126,  19,  65, 188,  73,  89, 133,\n",
       "        179,  40,  86, 112,  26, 168, 189, 149,  94, 194,  18, 138, 169,\n",
       "        102,  97,  71, 130,  53,  99, 148, 154,   8,  34, 182, 105,  55,\n",
       "         95, 153,  72, 144,  77,  52,  30,   9,  37,   4,  93, 128, 137,\n",
       "        195, 160, 111,  45, 164, 151,  29,  48,  70,  43,  57, 157,  39,\n",
       "        141,  85, 150,  67,   0,  47, 113,  32,  17, 131, 180,  66, 100,\n",
       "        186], dtype=int64),\n",
       " array([ 54, 187, 103,  23, 104, 108, 181,  64, 109, 134,  16, 146,   2,\n",
       "        116, 106, 119, 165,  41, 120, 178, 173, 125,  58, 184,  36,  63,\n",
       "        107,  24, 162,  83,  84,  88, 123,  46, 143,  87,  22, 196,  68,\n",
       "        158], dtype=int64))"
      ]
     },
     "execution_count": 15,
     "metadata": {},
     "output_type": "execute_result"
    }
   ],
   "source": [
    "splits[0]"
   ]
  },
  {
   "cell_type": "markdown",
   "id": "339837b3",
   "metadata": {},
   "source": [
    "## Clustering"
   ]
  },
  {
   "cell_type": "code",
   "execution_count": 16,
   "id": "1d0c5199",
   "metadata": {},
   "outputs": [],
   "source": [
    "clusterable_params = []"
   ]
  },
  {
   "cell_type": "code",
   "execution_count": 17,
   "id": "11892ff4",
   "metadata": {},
   "outputs": [],
   "source": [
    "from sklearn.cluster import DBSCAN\n",
    "from sklearn.metrics import silhouette_score"
   ]
  },
  {
   "cell_type": "code",
   "execution_count": 18,
   "id": "662754e9",
   "metadata": {},
   "outputs": [],
   "source": [
    "def fit_dbscan(data, min_samples, eps_values, \n",
    "               min_no_clusters=2, max_no_clusters=np.inf,\n",
    "               min_clust_instances=None, min_clust_instances_pct=0.85,\n",
    "               max_clust_instances=np.inf, metric='euclidean'):\n",
    "    # Condition precalculation\n",
    "    if min_clust_instances_pct:\n",
    "        min_clust_instances = round(data.shape[0] * min_clust_instances_pct)\n",
    "    elif not min_clust_instances:\n",
    "        min_clust_instances = 100\n",
    "    # Code\n",
    "    scores, clusters, instances = [], [], []\n",
    "    for m in min_samples:\n",
    "        row_scores, row_clusters, row_instances = [], [], []\n",
    "        for e in eps_values:\n",
    "            db = DBSCAN(min_samples=m, eps=e, metric=metric).fit(data)\n",
    "            # Get only non anomalous instances\n",
    "            non_a = db.labels_ != -1 # [False, ..., False] if all are outliers\n",
    "            # Calculate conditions\n",
    "            n_clusters = len(np.unique(db.labels_[non_a])) # 0 if all are outliers\n",
    "            n_instances = len(db.labels_[non_a]) # 0 if all are outliers\n",
    "            # Apply conditions (why does it output NaN and not None?)\n",
    "            valid_n_clusters = n_clusters >= min_no_clusters and n_clusters <= max_no_clusters\n",
    "            valid_n_cl_instances = n_instances >= min_clust_instances and n_instances <= max_clust_instances\n",
    "            if (valid_n_clusters and valid_n_cl_instances):\n",
    "                score = silhouette_score(data[non_a], db.labels_[non_a], metric=metric)\n",
    "            else:\n",
    "                score = None\n",
    "            # Store results\n",
    "            row_scores.append(score)\n",
    "            row_clusters.append(n_clusters)\n",
    "            row_instances.append(n_instances)\n",
    "        # Store row results\n",
    "        scores.append(row_scores)\n",
    "        clusters.append(row_clusters)\n",
    "        instances.append(row_instances)\n",
    "    # Prepare and return values\n",
    "    ms_axis = pd.Index(min_samples, name='Min_samples')\n",
    "    eps_axis = pd.Index(eps_values, name='Epsilon')\n",
    "    df_scores = pd.DataFrame(scores, index=ms_axis, columns=eps_axis)\n",
    "    df_clusters = pd.DataFrame(clusters, index=ms_axis, columns=eps_axis)\n",
    "    df_instances = pd.DataFrame(instances, index=ms_axis, columns=eps_axis)\n",
    "    return df_scores, df_clusters, df_instances"
   ]
  },
  {
   "cell_type": "code",
   "execution_count": 19,
   "id": "b86f4e91",
   "metadata": {},
   "outputs": [],
   "source": [
    "def print_results(m, eps, scores_df, instances_df, clusters_df):\n",
    "    score = round(scores_df.loc[m][eps], 4)\n",
    "    instances = instances_df.loc[m][eps]\n",
    "    clusters = clusters_df.loc[m][eps]\n",
    "    print(f'DBSCAN using parameters m={m} and eps={eps} yields the next clustering results:')\n",
    "    print()\n",
    "    print(f'- Sil. score: {score}')\n",
    "    print(f'- {instances} clustered instances into {clusters} clusters')\n",
    "    print(f'- Avg. of {round(instances/clusters, 2)} instances per cluster')"
   ]
  },
  {
   "cell_type": "code",
   "execution_count": 20,
   "id": "bbf9646e",
   "metadata": {},
   "outputs": [
    {
     "data": {
      "text/plain": [
       "133.45"
      ]
     },
     "execution_count": 20,
     "metadata": {},
     "output_type": "execute_result"
    }
   ],
   "source": [
    "X[splits[0][0]].shape[0] * 0.85 # about 135 clustered instances are needed"
   ]
  },
  {
   "cell_type": "markdown",
   "id": "0c81218e",
   "metadata": {},
   "source": [
    "#### Split #0"
   ]
  },
  {
   "cell_type": "code",
   "execution_count": 21,
   "id": "72d475a8",
   "metadata": {},
   "outputs": [
    {
     "data": {
      "text/html": [
       "<div>\n",
       "<style scoped>\n",
       "    .dataframe tbody tr th:only-of-type {\n",
       "        vertical-align: middle;\n",
       "    }\n",
       "\n",
       "    .dataframe tbody tr th {\n",
       "        vertical-align: top;\n",
       "    }\n",
       "\n",
       "    .dataframe thead th {\n",
       "        text-align: right;\n",
       "    }\n",
       "</style>\n",
       "<table border=\"1\" class=\"dataframe\">\n",
       "  <thead>\n",
       "    <tr style=\"text-align: right;\">\n",
       "      <th>Epsilon</th>\n",
       "      <th>11</th>\n",
       "      <th>12</th>\n",
       "      <th>13</th>\n",
       "      <th>14</th>\n",
       "      <th>15</th>\n",
       "      <th>16</th>\n",
       "      <th>17</th>\n",
       "    </tr>\n",
       "    <tr>\n",
       "      <th>Min_samples</th>\n",
       "      <th></th>\n",
       "      <th></th>\n",
       "      <th></th>\n",
       "      <th></th>\n",
       "      <th></th>\n",
       "      <th></th>\n",
       "      <th></th>\n",
       "    </tr>\n",
       "  </thead>\n",
       "  <tbody>\n",
       "    <tr>\n",
       "      <th>2</th>\n",
       "      <td>None</td>\n",
       "      <td>None</td>\n",
       "      <td>0.376409</td>\n",
       "      <td>0.309939</td>\n",
       "      <td>0.226041</td>\n",
       "      <td>0.169750</td>\n",
       "      <td>0.205307</td>\n",
       "    </tr>\n",
       "    <tr>\n",
       "      <th>3</th>\n",
       "      <td>None</td>\n",
       "      <td>None</td>\n",
       "      <td>NaN</td>\n",
       "      <td>0.306802</td>\n",
       "      <td>0.254193</td>\n",
       "      <td>0.207208</td>\n",
       "      <td>0.201926</td>\n",
       "    </tr>\n",
       "    <tr>\n",
       "      <th>4</th>\n",
       "      <td>None</td>\n",
       "      <td>None</td>\n",
       "      <td>NaN</td>\n",
       "      <td>NaN</td>\n",
       "      <td>0.262017</td>\n",
       "      <td>NaN</td>\n",
       "      <td>NaN</td>\n",
       "    </tr>\n",
       "    <tr>\n",
       "      <th>5</th>\n",
       "      <td>None</td>\n",
       "      <td>None</td>\n",
       "      <td>NaN</td>\n",
       "      <td>NaN</td>\n",
       "      <td>0.262017</td>\n",
       "      <td>NaN</td>\n",
       "      <td>NaN</td>\n",
       "    </tr>\n",
       "  </tbody>\n",
       "</table>\n",
       "</div>"
      ],
      "text/plain": [
       "Epsilon        11    12        13        14        15        16        17\n",
       "Min_samples                                                              \n",
       "2            None  None  0.376409  0.309939  0.226041  0.169750  0.205307\n",
       "3            None  None       NaN  0.306802  0.254193  0.207208  0.201926\n",
       "4            None  None       NaN       NaN  0.262017       NaN       NaN\n",
       "5            None  None       NaN       NaN  0.262017       NaN       NaN"
      ]
     },
     "execution_count": 21,
     "metadata": {},
     "output_type": "execute_result"
    }
   ],
   "source": [
    "dfs, dfc, dfi = fit_dbscan(X[splits[0][0]], range(2, 6), range(11, 18))\n",
    "dfs"
   ]
  },
  {
   "cell_type": "code",
   "execution_count": 22,
   "id": "bd15807d",
   "metadata": {},
   "outputs": [
    {
     "name": "stdout",
     "output_type": "stream",
     "text": [
      "DBSCAN using parameters m=2 and eps=13 yields the next clustering results:\n",
      "\n",
      "- Sil. score: 0.3764\n",
      "- 138 clustered instances into 16 clusters\n",
      "- Avg. of 8.62 instances per cluster\n"
     ]
    }
   ],
   "source": [
    "print_results(2, 13, dfs, dfi, dfc)"
   ]
  },
  {
   "cell_type": "code",
   "execution_count": 23,
   "id": "5fd188e1",
   "metadata": {},
   "outputs": [],
   "source": [
    "clusterable_params.append([2, 13, 0])"
   ]
  },
  {
   "cell_type": "markdown",
   "id": "a0572909",
   "metadata": {},
   "source": [
    "#### Split #1"
   ]
  },
  {
   "cell_type": "code",
   "execution_count": 24,
   "id": "2256390a",
   "metadata": {},
   "outputs": [
    {
     "data": {
      "text/html": [
       "<div>\n",
       "<style scoped>\n",
       "    .dataframe tbody tr th:only-of-type {\n",
       "        vertical-align: middle;\n",
       "    }\n",
       "\n",
       "    .dataframe tbody tr th {\n",
       "        vertical-align: top;\n",
       "    }\n",
       "\n",
       "    .dataframe thead th {\n",
       "        text-align: right;\n",
       "    }\n",
       "</style>\n",
       "<table border=\"1\" class=\"dataframe\">\n",
       "  <thead>\n",
       "    <tr style=\"text-align: right;\">\n",
       "      <th>Epsilon</th>\n",
       "      <th>11</th>\n",
       "      <th>12</th>\n",
       "      <th>13</th>\n",
       "      <th>14</th>\n",
       "      <th>15</th>\n",
       "      <th>16</th>\n",
       "      <th>17</th>\n",
       "    </tr>\n",
       "    <tr>\n",
       "      <th>Min_samples</th>\n",
       "      <th></th>\n",
       "      <th></th>\n",
       "      <th></th>\n",
       "      <th></th>\n",
       "      <th></th>\n",
       "      <th></th>\n",
       "      <th></th>\n",
       "    </tr>\n",
       "  </thead>\n",
       "  <tbody>\n",
       "    <tr>\n",
       "      <th>2</th>\n",
       "      <td>None</td>\n",
       "      <td>0.405127</td>\n",
       "      <td>0.388931</td>\n",
       "      <td>0.329026</td>\n",
       "      <td>0.233712</td>\n",
       "      <td>0.214392</td>\n",
       "      <td>0.279872</td>\n",
       "    </tr>\n",
       "    <tr>\n",
       "      <th>3</th>\n",
       "      <td>None</td>\n",
       "      <td>NaN</td>\n",
       "      <td>NaN</td>\n",
       "      <td>0.324064</td>\n",
       "      <td>0.235581</td>\n",
       "      <td>0.347616</td>\n",
       "      <td>0.336508</td>\n",
       "    </tr>\n",
       "    <tr>\n",
       "      <th>4</th>\n",
       "      <td>None</td>\n",
       "      <td>NaN</td>\n",
       "      <td>NaN</td>\n",
       "      <td>NaN</td>\n",
       "      <td>0.235581</td>\n",
       "      <td>0.347616</td>\n",
       "      <td>0.336508</td>\n",
       "    </tr>\n",
       "    <tr>\n",
       "      <th>5</th>\n",
       "      <td>None</td>\n",
       "      <td>NaN</td>\n",
       "      <td>NaN</td>\n",
       "      <td>NaN</td>\n",
       "      <td>0.242720</td>\n",
       "      <td>0.347616</td>\n",
       "      <td>0.336508</td>\n",
       "    </tr>\n",
       "    <tr>\n",
       "      <th>6</th>\n",
       "      <td>None</td>\n",
       "      <td>NaN</td>\n",
       "      <td>NaN</td>\n",
       "      <td>NaN</td>\n",
       "      <td>0.234807</td>\n",
       "      <td>NaN</td>\n",
       "      <td>NaN</td>\n",
       "    </tr>\n",
       "  </tbody>\n",
       "</table>\n",
       "</div>"
      ],
      "text/plain": [
       "Epsilon        11        12        13        14        15        16        17\n",
       "Min_samples                                                                  \n",
       "2            None  0.405127  0.388931  0.329026  0.233712  0.214392  0.279872\n",
       "3            None       NaN       NaN  0.324064  0.235581  0.347616  0.336508\n",
       "4            None       NaN       NaN       NaN  0.235581  0.347616  0.336508\n",
       "5            None       NaN       NaN       NaN  0.242720  0.347616  0.336508\n",
       "6            None       NaN       NaN       NaN  0.234807       NaN       NaN"
      ]
     },
     "execution_count": 24,
     "metadata": {},
     "output_type": "execute_result"
    }
   ],
   "source": [
    "dfs, dfc, dfi = fit_dbscan(X[splits[1][0]], range(2, 7), range(11, 18))\n",
    "dfs"
   ]
  },
  {
   "cell_type": "code",
   "execution_count": 25,
   "id": "8941e67e",
   "metadata": {},
   "outputs": [
    {
     "name": "stdout",
     "output_type": "stream",
     "text": [
      "DBSCAN using parameters m=2 and eps=12 yields the next clustering results:\n",
      "\n",
      "- Sil. score: 0.4051\n",
      "- 135 clustered instances into 19 clusters\n",
      "- Avg. of 7.11 instances per cluster\n"
     ]
    }
   ],
   "source": [
    "print_results(2, 12, dfs, dfi, dfc)"
   ]
  },
  {
   "cell_type": "code",
   "execution_count": 26,
   "id": "fbebfa9c",
   "metadata": {},
   "outputs": [],
   "source": [
    "clusterable_params.append([2, 12, 1])"
   ]
  },
  {
   "cell_type": "markdown",
   "id": "cb104c72",
   "metadata": {},
   "source": [
    "#### Split #2"
   ]
  },
  {
   "cell_type": "code",
   "execution_count": 27,
   "id": "3bfe2f01",
   "metadata": {},
   "outputs": [
    {
     "data": {
      "text/html": [
       "<div>\n",
       "<style scoped>\n",
       "    .dataframe tbody tr th:only-of-type {\n",
       "        vertical-align: middle;\n",
       "    }\n",
       "\n",
       "    .dataframe tbody tr th {\n",
       "        vertical-align: top;\n",
       "    }\n",
       "\n",
       "    .dataframe thead th {\n",
       "        text-align: right;\n",
       "    }\n",
       "</style>\n",
       "<table border=\"1\" class=\"dataframe\">\n",
       "  <thead>\n",
       "    <tr style=\"text-align: right;\">\n",
       "      <th>Epsilon</th>\n",
       "      <th>11</th>\n",
       "      <th>12</th>\n",
       "      <th>13</th>\n",
       "      <th>14</th>\n",
       "      <th>15</th>\n",
       "      <th>16</th>\n",
       "      <th>17</th>\n",
       "    </tr>\n",
       "    <tr>\n",
       "      <th>Min_samples</th>\n",
       "      <th></th>\n",
       "      <th></th>\n",
       "      <th></th>\n",
       "      <th></th>\n",
       "      <th></th>\n",
       "      <th></th>\n",
       "      <th></th>\n",
       "    </tr>\n",
       "  </thead>\n",
       "  <tbody>\n",
       "    <tr>\n",
       "      <th>2</th>\n",
       "      <td>None</td>\n",
       "      <td>0.418787</td>\n",
       "      <td>0.41248</td>\n",
       "      <td>0.277547</td>\n",
       "      <td>0.230598</td>\n",
       "      <td>0.24841</td>\n",
       "      <td>0.244132</td>\n",
       "    </tr>\n",
       "    <tr>\n",
       "      <th>3</th>\n",
       "      <td>None</td>\n",
       "      <td>NaN</td>\n",
       "      <td>0.41020</td>\n",
       "      <td>0.269285</td>\n",
       "      <td>0.257609</td>\n",
       "      <td>NaN</td>\n",
       "      <td>NaN</td>\n",
       "    </tr>\n",
       "    <tr>\n",
       "      <th>4</th>\n",
       "      <td>None</td>\n",
       "      <td>NaN</td>\n",
       "      <td>NaN</td>\n",
       "      <td>0.269285</td>\n",
       "      <td>0.257609</td>\n",
       "      <td>NaN</td>\n",
       "      <td>NaN</td>\n",
       "    </tr>\n",
       "    <tr>\n",
       "      <th>5</th>\n",
       "      <td>None</td>\n",
       "      <td>NaN</td>\n",
       "      <td>NaN</td>\n",
       "      <td>0.275717</td>\n",
       "      <td>0.260715</td>\n",
       "      <td>NaN</td>\n",
       "      <td>NaN</td>\n",
       "    </tr>\n",
       "    <tr>\n",
       "      <th>6</th>\n",
       "      <td>None</td>\n",
       "      <td>NaN</td>\n",
       "      <td>NaN</td>\n",
       "      <td>NaN</td>\n",
       "      <td>0.254598</td>\n",
       "      <td>NaN</td>\n",
       "      <td>NaN</td>\n",
       "    </tr>\n",
       "  </tbody>\n",
       "</table>\n",
       "</div>"
      ],
      "text/plain": [
       "Epsilon        11        12       13        14        15       16        17\n",
       "Min_samples                                                                \n",
       "2            None  0.418787  0.41248  0.277547  0.230598  0.24841  0.244132\n",
       "3            None       NaN  0.41020  0.269285  0.257609      NaN       NaN\n",
       "4            None       NaN      NaN  0.269285  0.257609      NaN       NaN\n",
       "5            None       NaN      NaN  0.275717  0.260715      NaN       NaN\n",
       "6            None       NaN      NaN       NaN  0.254598      NaN       NaN"
      ]
     },
     "execution_count": 27,
     "metadata": {},
     "output_type": "execute_result"
    }
   ],
   "source": [
    "dfs, dfc, dfi = fit_dbscan(X[splits[2][0]], range(2, 7), range(11, 18))\n",
    "dfs"
   ]
  },
  {
   "cell_type": "code",
   "execution_count": 28,
   "id": "bc3573bc",
   "metadata": {},
   "outputs": [
    {
     "name": "stdout",
     "output_type": "stream",
     "text": [
      "DBSCAN using parameters m=2 and eps=12 yields the next clustering results:\n",
      "\n",
      "- Sil. score: 0.4188\n",
      "- 136 clustered instances into 17 clusters\n",
      "- Avg. of 8.0 instances per cluster\n"
     ]
    }
   ],
   "source": [
    "print_results(2, 12, dfs, dfi, dfc)"
   ]
  },
  {
   "cell_type": "code",
   "execution_count": 29,
   "id": "685a6951",
   "metadata": {},
   "outputs": [],
   "source": [
    "clusterable_params.append([2, 12, 2])"
   ]
  },
  {
   "cell_type": "markdown",
   "id": "b92d5d4c",
   "metadata": {},
   "source": [
    "#### Split #3"
   ]
  },
  {
   "cell_type": "code",
   "execution_count": 30,
   "id": "29ba8fe8",
   "metadata": {},
   "outputs": [
    {
     "data": {
      "text/html": [
       "<div>\n",
       "<style scoped>\n",
       "    .dataframe tbody tr th:only-of-type {\n",
       "        vertical-align: middle;\n",
       "    }\n",
       "\n",
       "    .dataframe tbody tr th {\n",
       "        vertical-align: top;\n",
       "    }\n",
       "\n",
       "    .dataframe thead th {\n",
       "        text-align: right;\n",
       "    }\n",
       "</style>\n",
       "<table border=\"1\" class=\"dataframe\">\n",
       "  <thead>\n",
       "    <tr style=\"text-align: right;\">\n",
       "      <th>Epsilon</th>\n",
       "      <th>11</th>\n",
       "      <th>12</th>\n",
       "      <th>13</th>\n",
       "      <th>14</th>\n",
       "      <th>15</th>\n",
       "      <th>16</th>\n",
       "      <th>17</th>\n",
       "    </tr>\n",
       "    <tr>\n",
       "      <th>Min_samples</th>\n",
       "      <th></th>\n",
       "      <th></th>\n",
       "      <th></th>\n",
       "      <th></th>\n",
       "      <th></th>\n",
       "      <th></th>\n",
       "      <th></th>\n",
       "    </tr>\n",
       "  </thead>\n",
       "  <tbody>\n",
       "    <tr>\n",
       "      <th>2</th>\n",
       "      <td>None</td>\n",
       "      <td>0.403343</td>\n",
       "      <td>0.323821</td>\n",
       "      <td>0.278651</td>\n",
       "      <td>0.210186</td>\n",
       "      <td>0.184646</td>\n",
       "      <td>0.296871</td>\n",
       "    </tr>\n",
       "    <tr>\n",
       "      <th>3</th>\n",
       "      <td>None</td>\n",
       "      <td>NaN</td>\n",
       "      <td>NaN</td>\n",
       "      <td>0.273266</td>\n",
       "      <td>0.243847</td>\n",
       "      <td>NaN</td>\n",
       "      <td>NaN</td>\n",
       "    </tr>\n",
       "    <tr>\n",
       "      <th>4</th>\n",
       "      <td>None</td>\n",
       "      <td>NaN</td>\n",
       "      <td>NaN</td>\n",
       "      <td>0.270225</td>\n",
       "      <td>0.243847</td>\n",
       "      <td>NaN</td>\n",
       "      <td>NaN</td>\n",
       "    </tr>\n",
       "    <tr>\n",
       "      <th>5</th>\n",
       "      <td>None</td>\n",
       "      <td>NaN</td>\n",
       "      <td>NaN</td>\n",
       "      <td>NaN</td>\n",
       "      <td>0.242323</td>\n",
       "      <td>NaN</td>\n",
       "      <td>NaN</td>\n",
       "    </tr>\n",
       "    <tr>\n",
       "      <th>6</th>\n",
       "      <td>None</td>\n",
       "      <td>NaN</td>\n",
       "      <td>NaN</td>\n",
       "      <td>NaN</td>\n",
       "      <td>0.251365</td>\n",
       "      <td>NaN</td>\n",
       "      <td>NaN</td>\n",
       "    </tr>\n",
       "  </tbody>\n",
       "</table>\n",
       "</div>"
      ],
      "text/plain": [
       "Epsilon        11        12        13        14        15        16        17\n",
       "Min_samples                                                                  \n",
       "2            None  0.403343  0.323821  0.278651  0.210186  0.184646  0.296871\n",
       "3            None       NaN       NaN  0.273266  0.243847       NaN       NaN\n",
       "4            None       NaN       NaN  0.270225  0.243847       NaN       NaN\n",
       "5            None       NaN       NaN       NaN  0.242323       NaN       NaN\n",
       "6            None       NaN       NaN       NaN  0.251365       NaN       NaN"
      ]
     },
     "execution_count": 30,
     "metadata": {},
     "output_type": "execute_result"
    }
   ],
   "source": [
    "dfs, dfc, dfi = fit_dbscan(X[splits[3][0]], range(2, 7), range(11, 18))\n",
    "dfs"
   ]
  },
  {
   "cell_type": "code",
   "execution_count": 31,
   "id": "2f630904",
   "metadata": {},
   "outputs": [
    {
     "name": "stdout",
     "output_type": "stream",
     "text": [
      "DBSCAN using parameters m=2 and eps=12 yields the next clustering results:\n",
      "\n",
      "- Sil. score: 0.4033\n",
      "- 135 clustered instances into 19 clusters\n",
      "- Avg. of 7.11 instances per cluster\n"
     ]
    }
   ],
   "source": [
    "print_results(2, 12, dfs, dfi, dfc)"
   ]
  },
  {
   "cell_type": "code",
   "execution_count": 32,
   "id": "ea6ce36e",
   "metadata": {},
   "outputs": [],
   "source": [
    "clusterable_params.append([2, 12, 3])"
   ]
  },
  {
   "cell_type": "markdown",
   "id": "6b41dace",
   "metadata": {},
   "source": [
    "#### Split #4"
   ]
  },
  {
   "cell_type": "code",
   "execution_count": 33,
   "id": "bc89c0fa",
   "metadata": {},
   "outputs": [
    {
     "data": {
      "text/html": [
       "<div>\n",
       "<style scoped>\n",
       "    .dataframe tbody tr th:only-of-type {\n",
       "        vertical-align: middle;\n",
       "    }\n",
       "\n",
       "    .dataframe tbody tr th {\n",
       "        vertical-align: top;\n",
       "    }\n",
       "\n",
       "    .dataframe thead th {\n",
       "        text-align: right;\n",
       "    }\n",
       "</style>\n",
       "<table border=\"1\" class=\"dataframe\">\n",
       "  <thead>\n",
       "    <tr style=\"text-align: right;\">\n",
       "      <th>Epsilon</th>\n",
       "      <th>11</th>\n",
       "      <th>12</th>\n",
       "      <th>13</th>\n",
       "      <th>14</th>\n",
       "      <th>15</th>\n",
       "      <th>16</th>\n",
       "      <th>17</th>\n",
       "    </tr>\n",
       "    <tr>\n",
       "      <th>Min_samples</th>\n",
       "      <th></th>\n",
       "      <th></th>\n",
       "      <th></th>\n",
       "      <th></th>\n",
       "      <th></th>\n",
       "      <th></th>\n",
       "      <th></th>\n",
       "    </tr>\n",
       "  </thead>\n",
       "  <tbody>\n",
       "    <tr>\n",
       "      <th>2</th>\n",
       "      <td>None</td>\n",
       "      <td>None</td>\n",
       "      <td>0.372388</td>\n",
       "      <td>0.274406</td>\n",
       "      <td>0.216593</td>\n",
       "      <td>0.162722</td>\n",
       "      <td>None</td>\n",
       "    </tr>\n",
       "    <tr>\n",
       "      <th>3</th>\n",
       "      <td>None</td>\n",
       "      <td>None</td>\n",
       "      <td>0.398123</td>\n",
       "      <td>0.272670</td>\n",
       "      <td>0.262001</td>\n",
       "      <td>NaN</td>\n",
       "      <td>None</td>\n",
       "    </tr>\n",
       "    <tr>\n",
       "      <th>4</th>\n",
       "      <td>None</td>\n",
       "      <td>None</td>\n",
       "      <td>NaN</td>\n",
       "      <td>0.277303</td>\n",
       "      <td>0.262001</td>\n",
       "      <td>NaN</td>\n",
       "      <td>None</td>\n",
       "    </tr>\n",
       "    <tr>\n",
       "      <th>5</th>\n",
       "      <td>None</td>\n",
       "      <td>None</td>\n",
       "      <td>NaN</td>\n",
       "      <td>NaN</td>\n",
       "      <td>0.265082</td>\n",
       "      <td>NaN</td>\n",
       "      <td>None</td>\n",
       "    </tr>\n",
       "    <tr>\n",
       "      <th>6</th>\n",
       "      <td>None</td>\n",
       "      <td>None</td>\n",
       "      <td>NaN</td>\n",
       "      <td>NaN</td>\n",
       "      <td>0.274071</td>\n",
       "      <td>NaN</td>\n",
       "      <td>None</td>\n",
       "    </tr>\n",
       "  </tbody>\n",
       "</table>\n",
       "</div>"
      ],
      "text/plain": [
       "Epsilon        11    12        13        14        15        16    17\n",
       "Min_samples                                                          \n",
       "2            None  None  0.372388  0.274406  0.216593  0.162722  None\n",
       "3            None  None  0.398123  0.272670  0.262001       NaN  None\n",
       "4            None  None       NaN  0.277303  0.262001       NaN  None\n",
       "5            None  None       NaN       NaN  0.265082       NaN  None\n",
       "6            None  None       NaN       NaN  0.274071       NaN  None"
      ]
     },
     "execution_count": 33,
     "metadata": {},
     "output_type": "execute_result"
    }
   ],
   "source": [
    "dfs, dfc, dfi = fit_dbscan(X[splits[4][0]], range(2, 7), range(11, 18))\n",
    "dfs"
   ]
  },
  {
   "cell_type": "code",
   "execution_count": 34,
   "id": "d809bc54",
   "metadata": {},
   "outputs": [
    {
     "name": "stdout",
     "output_type": "stream",
     "text": [
      "DBSCAN using parameters m=3 and eps=13 yields the next clustering results:\n",
      "\n",
      "- Sil. score: 0.3981\n",
      "- 133 clustered instances into 12 clusters\n",
      "- Avg. of 11.08 instances per cluster\n"
     ]
    }
   ],
   "source": [
    "print_results(3, 13, dfs, dfi, dfc)"
   ]
  },
  {
   "cell_type": "code",
   "execution_count": 35,
   "id": "4bf510b8",
   "metadata": {},
   "outputs": [],
   "source": [
    "clusterable_params.append([3, 13, 4])"
   ]
  },
  {
   "cell_type": "markdown",
   "id": "a92725cd",
   "metadata": {},
   "source": [
    "#### Clusterable parameters for each split"
   ]
  },
  {
   "cell_type": "code",
   "execution_count": 36,
   "id": "7b4f7a09",
   "metadata": {},
   "outputs": [
    {
     "data": {
      "text/plain": [
       "[[2, 13, 0], [2, 12, 1], [2, 12, 2], [2, 12, 3], [3, 13, 4]]"
      ]
     },
     "execution_count": 36,
     "metadata": {},
     "output_type": "execute_result"
    }
   ],
   "source": [
    "clusterable_params"
   ]
  },
  {
   "cell_type": "markdown",
   "id": "45e7ad78",
   "metadata": {},
   "source": [
    "## Clustering Results"
   ]
  },
  {
   "cell_type": "code",
   "execution_count": 37,
   "id": "f7c90024",
   "metadata": {},
   "outputs": [],
   "source": [
    "def get_indiv_clustering_results(params):\n",
    "    '''Returns a dictionary mapping the name of an image\n",
    "    with the cluster it belongs'''\n",
    "    # Preconditions\n",
    "    split_idx = params[2]\n",
    "    train_idxs = splits[split_idx][0]\n",
    "    # Prepare data (always X, not feats_df)\n",
    "    instances = X[train_idxs]\n",
    "    img_names = X_names[train_idxs]\n",
    "    # Perform clustering\n",
    "    dbscan = DBSCAN(min_samples=params[0], eps=params[1])\n",
    "    dbscan = dbscan.fit(instances)\n",
    "    # Generate {img_name : label} mapping\n",
    "    name_label_map = {name: label for name, label in zip(img_names, dbscan.labels_)}\n",
    "    return name_label_map\n",
    "\n",
    "def get_global_clustering_results(params_set):\n",
    "    '''Returns a dictionary mapping the index of every param set\n",
    "    in 'params' arg. with the clustering results generated with that param. set'''\n",
    "    results = {}\n",
    "    for i, params in enumerate(params_set):\n",
    "        results[i] = get_indiv_clustering_results(params)\n",
    "    return results"
   ]
  },
  {
   "cell_type": "code",
   "execution_count": 38,
   "id": "91ac933f",
   "metadata": {},
   "outputs": [],
   "source": [
    "cl_results = get_global_clustering_results(clusterable_params)"
   ]
  },
  {
   "cell_type": "code",
   "execution_count": 39,
   "id": "ef7841e6",
   "metadata": {},
   "outputs": [
    {
     "name": "stdout",
     "output_type": "stream",
     "text": [
      "16\n",
      "19\n",
      "17\n",
      "19\n",
      "12\n"
     ]
    }
   ],
   "source": [
    "# A little sanity check...\n",
    "# Number of elements should be the same as clusters detected in clustering phase\n",
    "for i in range(5): print(len(np.unique(list(cl_results[i].values())))-1)"
   ]
  },
  {
   "cell_type": "markdown",
   "id": "ee208b39",
   "metadata": {},
   "source": [
    "## Clustering Prototypes"
   ]
  },
  {
   "cell_type": "markdown",
   "id": "563ab6e3",
   "metadata": {},
   "source": [
    "In our experiment, we want to predict the vote count for a new image, based on the proximity it has to the avaliable clusters. These clusters are composed of many data points, so the proximity of a new data point to a cluster can be measured in different ways, like taking the distance between the new point and the nearest clustered point in the dataset.   \n",
    "However, this approach can be biased when new poins get associated to the cluster taking in account the nearest point of a cluster instead of the overall position of a cluster. To avoid this, for each cluster we calculate a \"prototype\", a data point which is the centroid of all the data points in a cluster. This way, we can measure the distance to the general position of a cluster in a more confident way."
   ]
  },
  {
   "cell_type": "code",
   "execution_count": 40,
   "id": "13259e39",
   "metadata": {},
   "outputs": [],
   "source": [
    "def gen_indiv_cl_prototypes(cl_result, ignore_noise=True):\n",
    "    # Separate image data (\"instances\") according to the clusters they belong to\n",
    "    instances_by_cluster = {}\n",
    "    for img_name, cl_idx in cl_result.items():\n",
    "        if ignore_noise and cl_idx == -1: continue # ignore noise cluster\n",
    "        img_data = feats_df.loc[img_name].values\n",
    "        if cl_idx not in instances_by_cluster.keys(): instances_by_cluster[cl_idx] = [img_data]\n",
    "        else: instances_by_cluster[cl_idx].append(img_data)\n",
    "    # For each cluster, calculate their prototype\n",
    "    prototypes_per_cluster = {}\n",
    "    for cl_idx, instances in instances_by_cluster.items():\n",
    "        prototypes_per_cluster[cl_idx] = np.average(instances, axis=0)\n",
    "    return prototypes_per_cluster\n",
    "    \n",
    "def get_global_cl_prototypes(cl_results, ignore_noise=True):\n",
    "    global_prototypes = {}\n",
    "    for i, cl_result in cl_results.items():\n",
    "        global_prototypes[i] = gen_indiv_cl_prototypes(cl_result, ignore_noise=ignore_noise)\n",
    "    return global_prototypes"
   ]
  },
  {
   "cell_type": "code",
   "execution_count": 41,
   "id": "c7c0d4dc",
   "metadata": {},
   "outputs": [],
   "source": [
    "cls_prototypes = get_global_cl_prototypes(cl_results)"
   ]
  },
  {
   "cell_type": "code",
   "execution_count": 42,
   "id": "608de361",
   "metadata": {
    "scrolled": true
   },
   "outputs": [
    {
     "data": {
      "text/plain": [
       "{0: array([0.22467551, 0.11280407, 0.21147409, ..., 0.38322743, 0.25229493,\n",
       "        0.89975796]),\n",
       " 1: array([0.51009891, 0.98290047, 0.26727166, ..., 0.02832537, 0.03044627,\n",
       "        0.0297337 ]),\n",
       " 2: array([0.49321438, 2.33297098, 0.36776565, ..., 0.41373079, 0.01659491,\n",
       "        0.57865075]),\n",
       " 3: array([0.66188401, 0.93429005, 0.11197158, ..., 0.88486853, 0.21662746,\n",
       "        0.12339265]),\n",
       " 4: array([0.64520924, 0.08138089, 0.06071533, ..., 0.43601647, 0.08461746,\n",
       "        0.51307747]),\n",
       " 5: array([0.12109569, 0.45035109, 1.30916047, ..., 0.29143412, 1.8673538 ,\n",
       "        0.2971926 ]),\n",
       " 6: array([0.58922106, 0.23616834, 0.32533013, ..., 0.49715182, 0.29967682,\n",
       "        0.46152148]),\n",
       " 7: array([0.71469863, 0.22950385, 0.15569085, ..., 0.20414911, 0.17806031,\n",
       "        0.49833884]),\n",
       " 8: array([0.20415816, 1.58828342, 0.25630073, ..., 0.84833775, 0.44009239,\n",
       "        0.46605633]),\n",
       " 9: array([0.19464745, 0.25747797, 0.13683305, ..., 0.73445879, 0.00406807,\n",
       "        0.08590543]),\n",
       " 10: array([0.11457143, 0.20007645, 0.18044725, ..., 0.66383886, 0.12665032,\n",
       "        0.37933388]),\n",
       " 11: array([0.3246719 , 0.13656151, 0.15922927, ..., 0.57536117, 0.63914224,\n",
       "        0.05761176]),\n",
       " 12: array([0.16985524, 0.04438677, 0.37586106, ..., 0.26650122, 0.27405933,\n",
       "        0.73977388]),\n",
       " 13: array([0.19692402, 0.39065078, 0.27642529, ..., 0.63835747, 0.44601878,\n",
       "        0.12901093]),\n",
       " 14: array([0.47129768, 0.29257171, 0.92184527, ..., 0.12031704, 0.82326959,\n",
       "        0.35371066]),\n",
       " 15: array([0.15736552, 0.20448437, 0.05332764, ..., 0.64604181, 0.22149513,\n",
       "        0.19915689]),\n",
       " 16: array([0.40267415, 0.33449823, 0.28207514, ..., 0.29272057, 0.17904381,\n",
       "        0.89414759]),\n",
       " 17: array([0.64984408, 0.05552913, 0.47979701, ..., 0.13258819, 0.2411019 ,\n",
       "        0.11612448]),\n",
       " 18: array([0.04857041, 0.19519622, 0.21376201, ..., 0.20568515, 0.09266893,\n",
       "        0.06815209])}"
      ]
     },
     "execution_count": 42,
     "metadata": {},
     "output_type": "execute_result"
    }
   ],
   "source": [
    "cls_prototypes[3]"
   ]
  },
  {
   "cell_type": "markdown",
   "id": "eeece880",
   "metadata": {},
   "source": [
    "## Vote Count Prediction"
   ]
  },
  {
   "cell_type": "code",
   "execution_count": 43,
   "id": "b68f2808",
   "metadata": {},
   "outputs": [
    {
     "data": {
      "text/plain": [
       "array([0.35703897, 0.43481843, 0.38619751, ..., 0.37878752, 0.40115807,\n",
       "       0.27475377])"
      ]
     },
     "execution_count": 43,
     "metadata": {},
     "output_type": "execute_result"
    }
   ],
   "source": [
    "np.average(np.array(list(cls_prototypes[0].values())), axis=0)"
   ]
  },
  {
   "cell_type": "code",
   "execution_count": 44,
   "id": "021f33b4",
   "metadata": {},
   "outputs": [],
   "source": [
    "def euclid_dist(point1, point2):\n",
    "    return np.sqrt(np.sum(np.square(point1 - point2)))\n",
    "\n",
    "def find_nearest_prts_idxs(instance, prototypes, k=3):\n",
    "    # Prepare distances\n",
    "    distances = [euclid_dist(instance, prt) for prt in prototypes]\n",
    "    distances_idxs = list(range(len(distances)))\n",
    "    # Let's do this xd\n",
    "    nearest_prt_idxs = []\n",
    "    if k > len(distances): return None\n",
    "    elif k == len(distances): return distances_idx\n",
    "    else:\n",
    "        # Please, k times...\n",
    "        for i in range(k):\n",
    "            # ...find the index of the nearest point...\n",
    "            min_dist, min_dist_idx, min_j = np.inf, None, None\n",
    "            for j, dist in enumerate(distances):\n",
    "                if dist < min_dist: min_dist, min_dist_idx, min_j = dist, distances_idxs[j], j\n",
    "            #  ...store it\n",
    "            nearest_prt_idxs.append(min_dist_idx)\n",
    "            # ..and repeat process without that nearest point\n",
    "            distances.pop(min_j)\n",
    "            distances_idxs.pop(min_j)\n",
    "    return nearest_prt_idxs\n",
    "\n",
    "def get_indiv_vote_distances(prototypes, split_idx, k=3):\n",
    "    # Prepare data\n",
    "    test_idxs = splits[split_idx][1]\n",
    "    test_instances = X[test_idxs]\n",
    "    test_img_names = X_names[test_idxs]\n",
    "    prototypes = np.array(list(prototypes.values()))\n",
    "    # For each test image, store the distance to the average of its nearest prototypes...\n",
    "    distances = {}\n",
    "    for instance, img_name in zip(test_instances, test_img_names):\n",
    "        nearest_prototypes_idxs = find_nearest_prts_idxs(instance, prototypes, k=k)\n",
    "        avg_prototype = np.average(prototypes[nearest_prototypes_idxs], axis=0)\n",
    "        distances[img_name] = euclid_dist(instance, avg_prototype)\n",
    "    return distances\n",
    "\n",
    "def get_global_vote_distances(all_prototypes, k=3):\n",
    "    global_vote_distances = {}\n",
    "    for split_idx, local_prototypes in all_prototypes.items():\n",
    "        global_vote_distances[split_idx] = get_indiv_vote_distances(local_prototypes, split_idx, k=k)\n",
    "    return global_vote_distances"
   ]
  },
  {
   "cell_type": "code",
   "execution_count": 45,
   "id": "0a9b8ca8",
   "metadata": {},
   "outputs": [],
   "source": [
    "global_vote_distances = get_global_vote_distances(cls_prototypes)"
   ]
  },
  {
   "cell_type": "code",
   "execution_count": 46,
   "id": "583af8ce",
   "metadata": {
    "scrolled": true
   },
   "outputs": [
    {
     "data": {
      "text/plain": [
       "{0: {'2388889__hotdog__0.99999714.jpg': 15.086866221971677,\n",
       "  '2417881__zebra__0.9999945.jpg': 8.44093593218563,\n",
       "  '2403403__banana__0.9999926.jpg': 12.326415877836208,\n",
       "  '2381941__zebra__0.9999914.jpg': 9.06846658904337,\n",
       "  '2403741__zebra__0.99999523.jpg': 9.54811721409925,\n",
       "  '2404281__zebra__0.999998.jpg': 8.636046251648438,\n",
       "  '2416627__zebra__0.9999987.jpg': 8.01400750330919,\n",
       "  '2391964__flamingo__1.0.jpg': 12.22487732683062,\n",
       "  '2404583__umbrella__0.99999297.jpg': 10.21449717570772,\n",
       "  '2409637__four-poster__0.99999464.jpg': 14.262922569652927,\n",
       "  '2380669__parking_meter__0.9999993.jpg': 8.390590637183786,\n",
       "  '2411196__crane__0.9999995.jpg': 13.588600816801142,\n",
       "  '134__zebra__0.9999949.jpg': 9.732536579840666,\n",
       "  '2405905__traffic_light__0.99999535.jpg': 10.148997761291337,\n",
       "  '2404127__zebra__0.9999933.jpg': 10.757450041404939,\n",
       "  '2406857__zebra__0.9999894.jpg': 8.01455082893586,\n",
       "  '2414277__zebra__0.9999908.jpg': 7.778445648758404,\n",
       "  '2385298__parking_meter__0.9999865.jpg': 10.94959846380053,\n",
       "  '2406887__ski__0.99999785.jpg': 13.842694928355444,\n",
       "  '2416228__parking_meter__0.9999914.jpg': 11.24928768018268,\n",
       "  '2415402__zebra__0.99998903.jpg': 8.757420337139136,\n",
       "  '2408701__zebra__0.9999981.jpg': 9.263827282020888,\n",
       "  '2389484__street_sign__0.99998474.jpg': 9.633853489728098,\n",
       "  '2417395__zebra__0.9999993.jpg': 9.200089180306035,\n",
       "  '2384512__zebra__0.99999726.jpg': 8.64305063047552,\n",
       "  '2391918__steam_locomotive__0.99999845.jpg': 12.013702388066445,\n",
       "  '2404229__zebra__0.99998367.jpg': 8.902892386334646,\n",
       "  '2381968__ski__0.999984.jpg': 9.964297171256883,\n",
       "  '2413495__traffic_light__0.9999925.jpg': 10.720692053351264,\n",
       "  '2398585__bow_tie__0.9999838.jpg': 17.291075216427373,\n",
       "  '2398771__traffic_light__0.99999.jpg': 10.94584936161483,\n",
       "  '2400121__pizza__0.9999962.jpg': 11.316846054398567,\n",
       "  '2407951__zebra__0.9999975.jpg': 9.08773400046903,\n",
       "  '2386193__broccoli__0.9999924.jpg': 11.60018673023978,\n",
       "  '2410903__steam_locomotive__0.9999876.jpg': 11.445070496451342,\n",
       "  '2399675__zebra__0.9999883.jpg': 8.851461146597954,\n",
       "  '2381932__traffic_light__0.99999964.jpg': 9.62294147192465,\n",
       "  '691__cheetah__0.99999213.jpg': 10.965291948554773,\n",
       "  '2392405__parking_meter__0.9999993.jpg': 10.410118874117659,\n",
       "  '2412908__zebra__0.99998975.jpg': 9.752540921888622},\n",
       " 1: {'2390296__umbrella__0.99999106.jpg': 13.781684381341488,\n",
       "  '2405042__parking_meter__0.99999094.jpg': 8.222486266725356,\n",
       "  '2415402__zebra__0.99998903.jpg': 8.971095527905774,\n",
       "  '2406209__brown_bear__0.999985.jpg': 12.87275548013996,\n",
       "  '2403199__zebra__0.9999869.jpg': 8.732757787232392,\n",
       "  '2408719__ski__0.99999297.jpg': 12.644648583499427,\n",
       "  '2414277__zebra__0.9999908.jpg': 7.768943098135495,\n",
       "  '2405479__traffic_light__0.9999939.jpg': 10.230452358867069,\n",
       "  '2415737__parking_meter__0.99999785.jpg': 9.785476825412061,\n",
       "  '2388889__hotdog__0.99999714.jpg': 15.08594099782379,\n",
       "  '2411390__parking_meter__0.9999988.jpg': 8.606362942500942,\n",
       "  '2416228__parking_meter__0.9999914.jpg': 9.888308794348717,\n",
       "  '691__cheetah__0.99999213.jpg': 11.052955610523025,\n",
       "  '2389163__zebra__0.9999957.jpg': 9.056820294823778,\n",
       "  '2408701__zebra__0.9999981.jpg': 9.467760276850766,\n",
       "  '2392579__zebra__0.9999969.jpg': 8.895469766001101,\n",
       "  '2389484__street_sign__0.99998474.jpg': 9.601177817062645,\n",
       "  '2391408__traffic_light__0.99999654.jpg': 12.366887255281025,\n",
       "  '2412939__forklift__0.9999883.jpg': 12.549670051188778,\n",
       "  '2382792__umbrella__0.9999838.jpg': 15.436089923715496,\n",
       "  '2378170__zebra__0.9999902.jpg': 9.207281022547408,\n",
       "  '2379086__zebra__0.9999975.jpg': 8.452720741345138,\n",
       "  '2389324__zebra__0.9999993.jpg': 10.234088565184642,\n",
       "  '2417938__banana__0.9999944.jpg': 11.100165089896306,\n",
       "  '2396153__brown_bear__0.9999938.jpg': 12.657213796095949,\n",
       "  '2414384__ski__0.9999949.jpg': 11.588238487568567,\n",
       "  '2393774__zebra__0.9999995.jpg': 10.564232634351116,\n",
       "  '2391918__steam_locomotive__0.99999845.jpg': 9.619244740147229,\n",
       "  '2387437__parking_meter__0.9999839.jpg': 10.022207435287939,\n",
       "  '2404955__banana__0.9999995.jpg': 15.531052871617067,\n",
       "  '2392818__park_bench__0.99999.jpg': 12.866050663472851,\n",
       "  '2380865__traffic_light__0.99999714.jpg': 10.593062704197603,\n",
       "  '2392349__umbrella__0.9999994.jpg': 16.406655843062243,\n",
       "  '2411784__traffic_light__0.9999945.jpg': 8.785363857675836,\n",
       "  '2386049__king_penguin__0.99999917.jpg': 11.067747814162837,\n",
       "  '2406857__zebra__0.9999894.jpg': 8.221115310429857,\n",
       "  '2380319__broccoli__0.9999957.jpg': 12.308642106195691,\n",
       "  '2409589__zebra__0.99999976.jpg': 9.526446906591307,\n",
       "  '2377698__zebra__0.9999999.jpg': 13.508404146274703,\n",
       "  '2380669__parking_meter__0.9999993.jpg': 7.3886077539316695},\n",
       " 2: {'2392349__umbrella__0.9999994.jpg': 16.13879150102968,\n",
       "  '2408970__zebra__0.9999865.jpg': 11.313013222243411,\n",
       "  '2414335__refrigerator__0.9999889.jpg': 13.339739102750457,\n",
       "  '2401691__pineapple__0.999998.jpg': 16.322017692384573,\n",
       "  '2391964__flamingo__1.0.jpg': 12.13000452077336,\n",
       "  '2389484__street_sign__0.99998474.jpg': 9.611398587930623,\n",
       "  '2409550__street_sign__0.99999905.jpg': 11.19082397105772,\n",
       "  '2391408__traffic_light__0.99999654.jpg': 12.306556164890686,\n",
       "  '2411407__zebra__0.9999969.jpg': 8.980216789816485,\n",
       "  '2407788__pizza__0.99999785.jpg': 11.38363600149507,\n",
       "  '2395787__pizza__0.99999535.jpg': 8.504980393853687,\n",
       "  '2380905__gondola__0.9999888.jpg': 10.008827961049976,\n",
       "  '2389163__zebra__0.9999957.jpg': 9.076011645894587,\n",
       "  '2386456__zebra__0.9999989.jpg': 9.028318298541654,\n",
       "  '2402745__bullet_train__0.99999857.jpg': 11.260453782885385,\n",
       "  '2417395__zebra__0.9999993.jpg': 9.309553525732337,\n",
       "  '2401383__slug__0.9999933.jpg': 16.31146231707228,\n",
       "  '691__cheetah__0.99999213.jpg': 10.97227691315238,\n",
       "  '2384755__street_sign__0.9999924.jpg': 10.168685318815298,\n",
       "  '2414760__zebra__0.9999895.jpg': 11.691448850462145,\n",
       "  '2399217__umbrella__0.9999863.jpg': 12.095631944185836,\n",
       "  '2401224__zebra__0.9999882.jpg': 7.983749115699279,\n",
       "  '4099__pool_table__0.9999945.jpg': 15.104729943717473,\n",
       "  '2382183__pizza__0.99998593.jpg': 8.117933094520263,\n",
       "  '2412402__zebra__0.9999877.jpg': 8.208829544316462,\n",
       "  '2383569__parking_meter__0.9999988.jpg': 10.709861895775926,\n",
       "  '2383286__zebra__0.99999857.jpg': 8.163695485933726,\n",
       "  '2410336__zebra__0.99999547.jpg': 9.145040555232317,\n",
       "  '2392324__traffic_light__0.9999964.jpg': 11.074647902520717,\n",
       "  '2405041__broccoli__0.99999845.jpg': 10.570023929616204,\n",
       "  '2401906__parking_meter__1.0.jpg': 12.252979055562978,\n",
       "  '2407951__zebra__0.9999975.jpg': 9.029342352430175,\n",
       "  '2414513__bagel__0.9999893.jpg': 15.627049451981277,\n",
       "  '2378170__zebra__0.9999902.jpg': 9.218286115607205,\n",
       "  '2404127__zebra__0.9999933.jpg': 10.57246330202469,\n",
       "  '2409063__zebra__0.999997.jpg': 9.841144733999666,\n",
       "  '2382792__umbrella__0.9999838.jpg': 14.974956314363363,\n",
       "  '2389324__zebra__0.9999993.jpg': 10.257189421798003,\n",
       "  '2399675__zebra__0.9999883.jpg': 8.939955590231355,\n",
       "  '2411097__zebra__0.9999974.jpg': 9.834837925986504},\n",
       " 3: {'2401906__parking_meter__1.0.jpg': 9.655460376175062,\n",
       "  '2416228__parking_meter__0.9999914.jpg': 9.664377809053446,\n",
       "  '2403403__banana__0.9999926.jpg': 13.039999480541454,\n",
       "  '2409765__zebra__0.99999833.jpg': 9.1042933309501,\n",
       "  '2392818__park_bench__0.99999.jpg': 13.241085874164972,\n",
       "  '2416627__zebra__0.9999987.jpg': 8.122080405446475,\n",
       "  '2406887__ski__0.99999785.jpg': 14.483985897300917,\n",
       "  '2402132__traffic_light__0.9999951.jpg': 9.811296585670709,\n",
       "  '2380905__gondola__0.9999888.jpg': 9.994833501522168,\n",
       "  '2416408__zebra__0.9999962.jpg': 9.810174466327968,\n",
       "  '2388889__hotdog__0.99999714.jpg': 15.460625021447742,\n",
       "  '2391964__flamingo__1.0.jpg': 12.152682706909847,\n",
       "  '2392730__pizza__0.9999974.jpg': 11.125143269907014,\n",
       "  '2403199__zebra__0.9999869.jpg': 8.279130569800477,\n",
       "  '2407130__umbrella__0.9999888.jpg': 16.305188738017453,\n",
       "  '2402264__zebra__0.9999931.jpg': 8.20106933693709,\n",
       "  '2411645__parking_meter__0.999985.jpg': 8.49971491149824,\n",
       "  '2382792__umbrella__0.9999838.jpg': 15.08259134499097,\n",
       "  '2404127__zebra__0.9999933.jpg': 10.624265076927944,\n",
       "  '2411784__traffic_light__0.9999945.jpg': 8.961282010271857,\n",
       "  '2392324__traffic_light__0.9999964.jpg': 10.650014380341025,\n",
       "  '2378523__banana__0.99999785.jpg': 18.92469315195021,\n",
       "  '2409822__steam_locomotive__0.9999906.jpg': 9.802852907862823,\n",
       "  '2383286__zebra__0.99999857.jpg': 8.031024093457711,\n",
       "  '2413227__park_bench__0.99998546.jpg': 12.277532913465103,\n",
       "  '2403338__seat_belt__0.99999917.jpg': 12.563232844617815,\n",
       "  '2404955__banana__0.9999995.jpg': 15.95321154993715,\n",
       "  '2382474__bow_tie__0.9999982.jpg': 18.806916956687672,\n",
       "  '2391701__zebra__0.9999912.jpg': 9.037722586450212,\n",
       "  '2396034__remote_control__0.9999856.jpg': 13.448336369268127,\n",
       "  '2402745__bullet_train__0.99999857.jpg': 11.31430295520294,\n",
       "  '1328__coil__0.99999607.jpg': 12.823030287902139,\n",
       "  '2411841__zebra__0.99999833.jpg': 8.452710057273405,\n",
       "  '2397486__zebra__0.9999875.jpg': 9.713039136824811,\n",
       "  '2415102__zebra__0.9999876.jpg': 9.799498185292308,\n",
       "  '2409472__umbrella__0.9999845.jpg': 12.896887896276086,\n",
       "  '2405042__parking_meter__0.99999094.jpg': 9.027994197012191,\n",
       "  '2389163__zebra__0.9999957.jpg': 8.842288927102677,\n",
       "  '2380319__broccoli__0.9999957.jpg': 12.336300411660943,\n",
       "  '2408701__zebra__0.9999981.jpg': 9.186195556807805},\n",
       " 4: {'2381932__traffic_light__0.99999964.jpg': 10.31105255752818,\n",
       "  '2379489__parking_meter__0.9999989.jpg': 11.795417379458963,\n",
       "  '2382474__bow_tie__0.9999982.jpg': 18.704744268221873,\n",
       "  '2398585__bow_tie__0.9999838.jpg': 17.104939686261325,\n",
       "  '2392730__pizza__0.9999974.jpg': 11.985990865106896,\n",
       "  '2377698__zebra__0.9999999.jpg': 13.235789764590805,\n",
       "  '2411646__banana__0.99999595.jpg': 15.602689660962998,\n",
       "  '2416516__zebra__0.99999714.jpg': 8.78206800201912,\n",
       "  '2404583__umbrella__0.99999297.jpg': 10.266297623473996,\n",
       "  '2385298__parking_meter__0.9999865.jpg': 10.893266033192749,\n",
       "  '2412402__zebra__0.9999877.jpg': 8.04896434686511,\n",
       "  '2417395__zebra__0.9999993.jpg': 9.123199077720486,\n",
       "  '2395787__pizza__0.99999535.jpg': 9.568709666353813,\n",
       "  '2391918__steam_locomotive__0.99999845.jpg': 12.203356902332365,\n",
       "  '2391964__flamingo__1.0.jpg': 12.229463792784916,\n",
       "  '2415910__zebra__0.9999962.jpg': 8.646075590154435,\n",
       "  '2395510__traffic_light__0.9999993.jpg': 11.038230090095979,\n",
       "  '2416627__zebra__0.9999987.jpg': 7.8553902364143,\n",
       "  '2407130__umbrella__0.9999888.jpg': 16.16412052186066,\n",
       "  '2402132__traffic_light__0.9999951.jpg': 9.66814077344485,\n",
       "  '2401906__parking_meter__1.0.jpg': 11.847388262420248,\n",
       "  '2392579__zebra__0.9999969.jpg': 8.83042489725971,\n",
       "  '2387034__zebra__0.9999896.jpg': 8.297092401262441,\n",
       "  '2383286__zebra__0.99999857.jpg': 7.8171013113852625,\n",
       "  '2405042__parking_meter__0.99999094.jpg': 9.687649841903582,\n",
       "  '2414384__ski__0.9999949.jpg': 11.4994650564457,\n",
       "  '2409550__street_sign__0.99999905.jpg': 11.781142902632,\n",
       "  '2380019__zebra__0.9999926.jpg': 8.506225452122775,\n",
       "  '2385187__street_sign__0.99999595.jpg': 9.715361139673826,\n",
       "  '2382913__zebra__0.9999883.jpg': 8.686313699977125,\n",
       "  '2400622__zebra__0.9999901.jpg': 8.422955436875203,\n",
       "  '2400121__pizza__0.9999962.jpg': 11.459029306040485,\n",
       "  '2405280__zebra__0.9999938.jpg': 8.153413634081229,\n",
       "  '2409472__umbrella__0.9999845.jpg': 12.479505805442876,\n",
       "  '2410974__toilet_seat__0.9999939.jpg': 16.449264587520613,\n",
       "  '2392124__zebra__0.99999523.jpg': 8.933810621978553,\n",
       "  '2408592__goose__0.999998.jpg': 11.869571006392698,\n",
       "  '2404051__street_sign__0.9999999.jpg': 10.628763638070026,\n",
       "  '2386049__king_penguin__0.99999917.jpg': 11.054471921780353,\n",
       "  '2411372__parking_meter__0.999995.jpg': 11.301640689988623}}"
      ]
     },
     "execution_count": 46,
     "metadata": {},
     "output_type": "execute_result"
    }
   ],
   "source": [
    "global_vote_distances"
   ]
  },
  {
   "cell_type": "markdown",
   "id": "1cf53d94",
   "metadata": {},
   "source": [
    "#### TODO: Should distance be vote-based (i.e. nominal) or vote proportion-based (i.e. relative)?"
   ]
  },
  {
   "cell_type": "markdown",
   "id": "876dc122",
   "metadata": {},
   "source": [
    "## Metric Evaluation"
   ]
  },
  {
   "cell_type": "code",
   "execution_count": 157,
   "id": "f0435ee5",
   "metadata": {},
   "outputs": [],
   "source": [
    "def eval_indiv_rmse_vote_dist(vote_distances):\n",
    "    vote_distances = list(vote_distances.values())\n",
    "    metrics = {\n",
    "        'average': round(np.average(vote_distances), 2),\n",
    "        'std. dev.': round(np.std(vote_distances), 2),\n",
    "        'range': [round(np.min(vote_distances), 2), round(np.max(vote_distances), 2)],\n",
    "    }\n",
    "    return metrics\n",
    "\n",
    "def eval_global_vote_dist(global_vote_distances, mode='rmse'):\n",
    "    global_metrics = {}\n",
    "    # Calculate metrics for each split\n",
    "    for cl_key, vote_distances in global_vote_distances.items():\n",
    "        if mode=='rmse': metrics = eval_indiv_rmse_vote_dist(vote_distances)\n",
    "        else: pass # For technique-wise vote distances\n",
    "        global_metrics[cl_key] = metrics\n",
    "    # Aggregate metrics for all splits\n",
    "    global_metrics['global'] = {}\n",
    "    for metric_type in global_metrics[0].keys():\n",
    "        metrics_per_type = [metrics[metric_type] for split_key, metrics in global_metrics.items() if split_key != 'global']\n",
    "        avgd_metrics_per_type = np.round(np.average(np.array(metrics_per_type), axis=0), 2)\n",
    "        if metric_type == 'range': avgd_metrics_per_type = list(avgd_metrics_per_type)\n",
    "        global_metrics['global'][metric_type] = avgd_metrics_per_type\n",
    "    return global_metrics"
   ]
  },
  {
   "cell_type": "code",
   "execution_count": 158,
   "id": "b09ac157",
   "metadata": {},
   "outputs": [],
   "source": [
    "global_vote_metrics = eval_global_vote_dist(global_vote_distances)"
   ]
  },
  {
   "cell_type": "code",
   "execution_count": 159,
   "id": "8c2453a0",
   "metadata": {},
   "outputs": [
    {
     "data": {
      "text/plain": [
       "{0: {'average': 10.52, 'std. dev.': 2.06, 'range': [7.78, 17.29]},\n",
       " 1: {'average': 10.87, 'std. dev.': 2.28, 'range': [7.39, 16.41]},\n",
       " 2: {'average': 11.02, 'std. dev.': 2.37, 'range': [7.98, 16.32]},\n",
       " 3: {'average': 11.39, 'std. dev.': 2.87, 'range': [8.03, 18.92]},\n",
       " 4: {'average': 11.02, 'std. dev.': 2.66, 'range': [7.82, 18.7]},\n",
       " 'global': {'average': 10.96, 'std. dev.': 2.45, 'range': [7.8, 17.53]}}"
      ]
     },
     "execution_count": 159,
     "metadata": {},
     "output_type": "execute_result"
    }
   ],
   "source": [
    "global_vote_metrics"
   ]
  }
 ],
 "metadata": {
  "kernelspec": {
   "display_name": "Python 3",
   "language": "python",
   "name": "python3"
  },
  "language_info": {
   "codemirror_mode": {
    "name": "ipython",
    "version": 3
   },
   "file_extension": ".py",
   "mimetype": "text/x-python",
   "name": "python",
   "nbconvert_exporter": "python",
   "pygments_lexer": "ipython3",
   "version": "3.8.5"
  }
 },
 "nbformat": 4,
 "nbformat_minor": 5
}
