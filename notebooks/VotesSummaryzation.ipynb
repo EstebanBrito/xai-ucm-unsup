{
 "cells": [
  {
   "cell_type": "markdown",
   "id": "c33553be",
   "metadata": {},
   "source": [
    "# Vote Summarization"
   ]
  },
  {
   "cell_type": "markdown",
   "id": "52469289",
   "metadata": {},
   "source": [
    "## PreAnalysis"
   ]
  },
  {
   "cell_type": "markdown",
   "id": "a284a0d7",
   "metadata": {},
   "source": [
    "### Loading Data"
   ]
  },
  {
   "cell_type": "code",
   "execution_count": 1,
   "id": "37d71d92",
   "metadata": {},
   "outputs": [],
   "source": [
    "import pandas as pd\n",
    "import numpy as np\n",
    "import matplotlib.pyplot as plt\n",
    "import os"
   ]
  },
  {
   "cell_type": "code",
   "execution_count": 2,
   "id": "c650cb17",
   "metadata": {},
   "outputs": [],
   "source": [
    "# Paths\n",
    "RESULTS_PATH = os.path.join('..', 'results')\n",
    "VOTES_PATH = os.path.join(RESULTS_PATH, 'all.csv')"
   ]
  },
  {
   "cell_type": "markdown",
   "id": "bf9cc9b0",
   "metadata": {},
   "source": [
    "#### Votes"
   ]
  },
  {
   "cell_type": "markdown",
   "id": "43fb17e0",
   "metadata": {},
   "source": [
    "The file for best techniques lists all the votes casted by a many people. Those votes are aprox. 3070. We will traslate the csv data (and its 4 columns), into just two arrays, one that constains the name of images, and another that represents the votes for techniques fort that image"
   ]
  },
  {
   "cell_type": "code",
   "execution_count": 3,
   "id": "2055cd18",
   "metadata": {},
   "outputs": [
    {
     "data": {
      "text/html": [
       "<div>\n",
       "<style scoped>\n",
       "    .dataframe tbody tr th:only-of-type {\n",
       "        vertical-align: middle;\n",
       "    }\n",
       "\n",
       "    .dataframe tbody tr th {\n",
       "        vertical-align: top;\n",
       "    }\n",
       "\n",
       "    .dataframe thead th {\n",
       "        text-align: right;\n",
       "    }\n",
       "</style>\n",
       "<table border=\"1\" class=\"dataframe\">\n",
       "  <thead>\n",
       "    <tr style=\"text-align: right;\">\n",
       "      <th></th>\n",
       "      <th>0</th>\n",
       "      <th>1</th>\n",
       "      <th>2</th>\n",
       "      <th>3</th>\n",
       "    </tr>\n",
       "  </thead>\n",
       "  <tbody>\n",
       "    <tr>\n",
       "      <th>0</th>\n",
       "      <td>1222</td>\n",
       "      <td>pool_table</td>\n",
       "      <td>0.9999995</td>\n",
       "      <td>lime</td>\n",
       "    </tr>\n",
       "    <tr>\n",
       "      <th>1</th>\n",
       "      <td>1328</td>\n",
       "      <td>coil</td>\n",
       "      <td>0.99999607</td>\n",
       "      <td>ig</td>\n",
       "    </tr>\n",
       "    <tr>\n",
       "      <th>2</th>\n",
       "      <td>134</td>\n",
       "      <td>zebra</td>\n",
       "      <td>0.9999949</td>\n",
       "      <td>xrai</td>\n",
       "    </tr>\n",
       "  </tbody>\n",
       "</table>\n",
       "</div>"
      ],
      "text/plain": [
       "      0           1           2     3\n",
       "0  1222  pool_table   0.9999995  lime\n",
       "1  1328        coil  0.99999607    ig\n",
       "2   134       zebra   0.9999949  xrai"
      ]
     },
     "execution_count": 3,
     "metadata": {},
     "output_type": "execute_result"
    }
   ],
   "source": [
    "votes_df = pd.read_csv(VOTES_PATH, sep=';', header=None, dtype='object')\n",
    "votes_df.head(3)"
   ]
  },
  {
   "cell_type": "code",
   "execution_count": 4,
   "id": "dd49eb42",
   "metadata": {},
   "outputs": [],
   "source": [
    "def gen_name_technique_tuples(x):\n",
    "    return ['__'.join([str(x[0]), x[1], str(x[2])]) + '.jpg', x[3]]"
   ]
  },
  {
   "cell_type": "code",
   "execution_count": 5,
   "id": "a1f86b0a",
   "metadata": {},
   "outputs": [
    {
     "data": {
      "text/plain": [
       "array([list(['1222__pool_table__0.9999995.jpg', 'lime']),\n",
       "       list(['1328__coil__0.99999607.jpg', 'ig']),\n",
       "       list(['134__zebra__0.9999949.jpg', 'xrai'])], dtype=object)"
      ]
     },
     "execution_count": 5,
     "metadata": {},
     "output_type": "execute_result"
    }
   ],
   "source": [
    "vote_per_img = votes_df.apply(gen_name_technique_tuples, axis=1)\n",
    "vote_per_img.values[:3] # Values of Series obj"
   ]
  },
  {
   "cell_type": "code",
   "execution_count": 6,
   "id": "f3ac4b32",
   "metadata": {},
   "outputs": [
    {
     "data": {
      "text/plain": [
       "3070"
      ]
     },
     "execution_count": 6,
     "metadata": {},
     "output_type": "execute_result"
    }
   ],
   "source": [
    "vote_per_img.shape[0]"
   ]
  },
  {
   "cell_type": "markdown",
   "id": "71496c19",
   "metadata": {},
   "source": [
    "Onece we have the dictionary, we will calculate, for each image, the number of votes casted for each tecnique, and also, we will determine wich technique is the best"
   ]
  },
  {
   "cell_type": "code",
   "execution_count": 20,
   "id": "4448cfc0",
   "metadata": {},
   "outputs": [
    {
     "name": "stdout",
     "output_type": "stream",
     "text": [
      "Skipping invalid technique : nan\n",
      "Skipping invalid technique : nan\n",
      "Skipping invalid technique : nan\n",
      "Skipping invalid technique : nan\n",
      "Skipping invalid technique : nan\n"
     ]
    }
   ],
   "source": [
    "# For each image, count votes for each technique\n",
    "unique_names = []\n",
    "tech_counts = []\n",
    "for i, (name, tech) in enumerate(vote_per_img.values):\n",
    "    if name not in unique_names:\n",
    "        unique_names.append(name)\n",
    "        tech_counts.append([0,0,0,0])\n",
    "    if tech=='ig': tech_idx=0\n",
    "    elif tech=='lime': tech_idx=1\n",
    "    elif tech=='xrai': tech_idx=2\n",
    "    elif tech=='anchor': tech_idx=3\n",
    "    else:\n",
    "        print(f'Skipping invalid technique : {tech}')\n",
    "        continue\n",
    "    name_idx = unique_names.index(name)\n",
    "    tech_counts[name_idx][tech_idx] += 1\n",
    "\n",
    "# Delete fake images (like \"nan_anchor_nan.jpg\")\n",
    "for i in range(4):\n",
    "    unique_names.pop()\n",
    "    tech_counts.pop()\n",
    "\n",
    "# Compute best technique for each image\n",
    "for i, tech_count in enumerate(tech_counts):\n",
    "    best_tech_idx = np.argmax(tech_count) # tech_count.index(max(tech_count))\n",
    "    if best_tech_idx==0: best_tech='ig'\n",
    "    elif best_tech_idx==1: best_tech='lime'\n",
    "    elif best_tech_idx==2: best_tech='xrai'\n",
    "    elif best_tech_idx==3: best_tech='anchor'\n",
    "    tech_counts[i].append(best_tech)"
   ]
  },
  {
   "cell_type": "code",
   "execution_count": 23,
   "id": "6145454a",
   "metadata": {},
   "outputs": [
    {
     "data": {
      "text/plain": [
       "(198, 198)"
      ]
     },
     "execution_count": 23,
     "metadata": {},
     "output_type": "execute_result"
    }
   ],
   "source": [
    "len(unique_names), len(tech_counts)"
   ]
  },
  {
   "cell_type": "code",
   "execution_count": 8,
   "id": "79da9ee8",
   "metadata": {},
   "outputs": [
    {
     "data": {
      "text/plain": [
       "array([30, 27, 26, 25, 25, 23, 23, 23, 23, 23, 23, 23, 22, 21, 21, 21, 21,\n",
       "       21, 20, 19, 18, 18, 18, 18, 17, 17, 17, 17, 16, 16, 16, 16, 16, 16,\n",
       "       16, 16, 16, 16, 16, 16, 16, 16, 16, 16, 16, 16, 16, 15, 15, 15, 15,\n",
       "       15, 15, 15, 15, 15, 15, 15, 14, 14, 14, 14, 14, 14, 14, 14, 14, 14,\n",
       "       14, 14, 14, 14, 14, 14, 14, 14, 14, 14, 14, 14, 14, 14, 14, 14, 14,\n",
       "       14, 14, 14, 14, 14, 14, 14, 14, 14, 14, 15, 15, 15, 15, 15, 15, 15,\n",
       "       15, 15, 15, 15, 15, 15, 15, 15, 15, 15, 15, 15, 15, 15, 15, 15, 15,\n",
       "       15, 15, 15, 15, 15, 15, 15, 15, 15, 15, 15, 15, 15, 14, 14, 14, 14,\n",
       "       14, 14, 14, 14, 14, 14, 14, 14, 14, 14, 14, 14, 14, 14, 14, 14, 14,\n",
       "       14, 14, 14, 14, 14, 14, 14, 14, 14, 14, 14, 14, 14, 14, 14, 14, 14,\n",
       "       14, 14, 14, 14, 13, 14, 14, 14, 14, 14, 14, 14, 14, 14, 14, 14, 14,\n",
       "       14, 14, 14, 14, 14, 14, 14, 14, 14, 14, 14])"
      ]
     },
     "execution_count": 8,
     "metadata": {},
     "output_type": "execute_result"
    }
   ],
   "source": [
    "foo = np.array(tech_counts)\n",
    "bar = foo[:,:-1].astype(np.int8)\n",
    "np.sum(bar, axis=1)"
   ]
  },
  {
   "cell_type": "markdown",
   "id": "85d5cae2",
   "metadata": {},
   "source": [
    "Then, we can convert the data into a dataframe, so we can store it."
   ]
  },
  {
   "cell_type": "code",
   "execution_count": 9,
   "id": "371bcafc",
   "metadata": {},
   "outputs": [
    {
     "data": {
      "text/html": [
       "<div>\n",
       "<style scoped>\n",
       "    .dataframe tbody tr th:only-of-type {\n",
       "        vertical-align: middle;\n",
       "    }\n",
       "\n",
       "    .dataframe tbody tr th {\n",
       "        vertical-align: top;\n",
       "    }\n",
       "\n",
       "    .dataframe thead th {\n",
       "        text-align: right;\n",
       "    }\n",
       "</style>\n",
       "<table border=\"1\" class=\"dataframe\">\n",
       "  <thead>\n",
       "    <tr style=\"text-align: right;\">\n",
       "      <th></th>\n",
       "      <th>ig</th>\n",
       "      <th>lime</th>\n",
       "      <th>xrai</th>\n",
       "      <th>anchor</th>\n",
       "      <th>best</th>\n",
       "    </tr>\n",
       "  </thead>\n",
       "  <tbody>\n",
       "    <tr>\n",
       "      <th>1222__pool_table__0.9999995.jpg</th>\n",
       "      <td>12</td>\n",
       "      <td>14</td>\n",
       "      <td>3</td>\n",
       "      <td>1</td>\n",
       "      <td>lime</td>\n",
       "    </tr>\n",
       "    <tr>\n",
       "      <th>1328__coil__0.99999607.jpg</th>\n",
       "      <td>18</td>\n",
       "      <td>4</td>\n",
       "      <td>3</td>\n",
       "      <td>2</td>\n",
       "      <td>ig</td>\n",
       "    </tr>\n",
       "    <tr>\n",
       "      <th>134__zebra__0.9999949.jpg</th>\n",
       "      <td>14</td>\n",
       "      <td>1</td>\n",
       "      <td>9</td>\n",
       "      <td>2</td>\n",
       "      <td>ig</td>\n",
       "    </tr>\n",
       "    <tr>\n",
       "      <th>2377471__pizza__0.9999988.jpg</th>\n",
       "      <td>22</td>\n",
       "      <td>0</td>\n",
       "      <td>1</td>\n",
       "      <td>2</td>\n",
       "      <td>ig</td>\n",
       "    </tr>\n",
       "    <tr>\n",
       "      <th>2377620__zebra__0.9999882.jpg</th>\n",
       "      <td>13</td>\n",
       "      <td>5</td>\n",
       "      <td>6</td>\n",
       "      <td>1</td>\n",
       "      <td>ig</td>\n",
       "    </tr>\n",
       "  </tbody>\n",
       "</table>\n",
       "</div>"
      ],
      "text/plain": [
       "                                 ig  lime  xrai  anchor  best\n",
       "1222__pool_table__0.9999995.jpg  12    14     3       1  lime\n",
       "1328__coil__0.99999607.jpg       18     4     3       2    ig\n",
       "134__zebra__0.9999949.jpg        14     1     9       2    ig\n",
       "2377471__pizza__0.9999988.jpg    22     0     1       2    ig\n",
       "2377620__zebra__0.9999882.jpg    13     5     6       1    ig"
      ]
     },
     "execution_count": 9,
     "metadata": {},
     "output_type": "execute_result"
    }
   ],
   "source": [
    "best = pd.DataFrame(tech_counts, index=unique_names, columns=['ig', 'lime', 'xrai', 'anchor', 'best'])\n",
    "best.head(5)"
   ]
  },
  {
   "cell_type": "code",
   "execution_count": 10,
   "id": "7242b331",
   "metadata": {},
   "outputs": [],
   "source": [
    "temp_path = os.path.join(RESULTS_PATH, 'votes_summary.csv')\n",
    "best.to_csv(temp_path)"
   ]
  }
 ],
 "metadata": {
  "kernelspec": {
   "display_name": "Python 3",
   "language": "python",
   "name": "python3"
  },
  "language_info": {
   "codemirror_mode": {
    "name": "ipython",
    "version": 3
   },
   "file_extension": ".py",
   "mimetype": "text/x-python",
   "name": "python",
   "nbconvert_exporter": "python",
   "pygments_lexer": "ipython3",
   "version": "3.8.5"
  }
 },
 "nbformat": 4,
 "nbformat_minor": 5
}
