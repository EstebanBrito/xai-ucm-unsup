{
 "cells": [
  {
   "cell_type": "markdown",
   "id": "8a7739ab",
   "metadata": {},
   "source": [
    "# Cluster-based Vote Count Prediction for new images"
   ]
  },
  {
   "cell_type": "code",
   "execution_count": 1,
   "id": "54b9159c",
   "metadata": {},
   "outputs": [],
   "source": [
    "import pandas as pd\n",
    "import numpy as np\n",
    "import matplotlib.pyplot as plt\n",
    "import os\n",
    "import sklearn"
   ]
  },
  {
   "cell_type": "markdown",
   "id": "bec80c58",
   "metadata": {},
   "source": [
    "## Loading Data"
   ]
  },
  {
   "cell_type": "code",
   "execution_count": 2,
   "id": "8aca39e0",
   "metadata": {},
   "outputs": [],
   "source": [
    "# Loading IncV1 latent features\n",
    "SIM_MX_FILE_PATH = os.path.join('..', 'results', 'matrices', 'incv1_feats_cosine_sim_matrix.csv')\n",
    "VOTES_FILE_PATH = os.path.join('..', 'results', 'votes_summary.csv')"
   ]
  },
  {
   "cell_type": "markdown",
   "id": "47c0edcd",
   "metadata": {},
   "source": [
    "#### Data (Sim. Matrix between images)"
   ]
  },
  {
   "cell_type": "code",
   "execution_count": 3,
   "id": "4e2b9449",
   "metadata": {},
   "outputs": [
    {
     "data": {
      "text/html": [
       "<div>\n",
       "<style scoped>\n",
       "    .dataframe tbody tr th:only-of-type {\n",
       "        vertical-align: middle;\n",
       "    }\n",
       "\n",
       "    .dataframe tbody tr th {\n",
       "        vertical-align: top;\n",
       "    }\n",
       "\n",
       "    .dataframe thead th {\n",
       "        text-align: right;\n",
       "    }\n",
       "</style>\n",
       "<table border=\"1\" class=\"dataframe\">\n",
       "  <thead>\n",
       "    <tr style=\"text-align: right;\">\n",
       "      <th></th>\n",
       "      <th>1222__pool_table__0.9999995.jpg</th>\n",
       "      <th>1328__coil__0.99999607.jpg</th>\n",
       "      <th>134__zebra__0.9999949.jpg</th>\n",
       "      <th>2377471__pizza__0.9999988.jpg</th>\n",
       "      <th>2377620__zebra__0.9999882.jpg</th>\n",
       "      <th>2377698__zebra__0.9999999.jpg</th>\n",
       "      <th>2378170__zebra__0.9999902.jpg</th>\n",
       "      <th>2378358__park_bench__0.99999833.jpg</th>\n",
       "      <th>2378523__banana__0.99999785.jpg</th>\n",
       "      <th>2379086__zebra__0.9999975.jpg</th>\n",
       "      <th>...</th>\n",
       "      <th>2417881__zebra__0.9999945.jpg</th>\n",
       "      <th>2417938__banana__0.9999944.jpg</th>\n",
       "      <th>4099__pool_table__0.9999945.jpg</th>\n",
       "      <th>4339__manhole_cover__0.99999416.jpg</th>\n",
       "      <th>4534__viaduct__0.9999877.jpg</th>\n",
       "      <th>4573__barrel__0.9999974.jpg</th>\n",
       "      <th>4673__triumphal_arch__0.9999893.jpg</th>\n",
       "      <th>576__gondola__0.9999993.jpg</th>\n",
       "      <th>577__gondola__0.9999962.jpg</th>\n",
       "      <th>691__cheetah__0.99999213.jpg</th>\n",
       "    </tr>\n",
       "  </thead>\n",
       "  <tbody>\n",
       "    <tr>\n",
       "      <th>1222__pool_table__0.9999995.jpg</th>\n",
       "      <td>0.000000</td>\n",
       "      <td>0.596715</td>\n",
       "      <td>0.648710</td>\n",
       "      <td>0.660728</td>\n",
       "      <td>0.678895</td>\n",
       "      <td>0.655366</td>\n",
       "      <td>0.639423</td>\n",
       "      <td>0.564146</td>\n",
       "      <td>0.664004</td>\n",
       "      <td>0.623505</td>\n",
       "      <td>...</td>\n",
       "      <td>0.630923</td>\n",
       "      <td>0.551253</td>\n",
       "      <td>0.173044</td>\n",
       "      <td>0.609761</td>\n",
       "      <td>0.597685</td>\n",
       "      <td>0.598938</td>\n",
       "      <td>0.641557</td>\n",
       "      <td>0.532241</td>\n",
       "      <td>0.551120</td>\n",
       "      <td>0.529807</td>\n",
       "    </tr>\n",
       "    <tr>\n",
       "      <th>1328__coil__0.99999607.jpg</th>\n",
       "      <td>0.596715</td>\n",
       "      <td>0.000000</td>\n",
       "      <td>0.676294</td>\n",
       "      <td>0.619278</td>\n",
       "      <td>0.657653</td>\n",
       "      <td>0.670955</td>\n",
       "      <td>0.626710</td>\n",
       "      <td>0.647045</td>\n",
       "      <td>0.720932</td>\n",
       "      <td>0.639172</td>\n",
       "      <td>...</td>\n",
       "      <td>0.640558</td>\n",
       "      <td>0.646600</td>\n",
       "      <td>0.625023</td>\n",
       "      <td>0.550529</td>\n",
       "      <td>0.677668</td>\n",
       "      <td>0.652152</td>\n",
       "      <td>0.587317</td>\n",
       "      <td>0.589918</td>\n",
       "      <td>0.539141</td>\n",
       "      <td>0.620833</td>\n",
       "    </tr>\n",
       "    <tr>\n",
       "      <th>134__zebra__0.9999949.jpg</th>\n",
       "      <td>0.648710</td>\n",
       "      <td>0.676294</td>\n",
       "      <td>0.000000</td>\n",
       "      <td>0.668483</td>\n",
       "      <td>0.195514</td>\n",
       "      <td>0.101250</td>\n",
       "      <td>0.144694</td>\n",
       "      <td>0.606948</td>\n",
       "      <td>0.684568</td>\n",
       "      <td>0.096840</td>\n",
       "      <td>...</td>\n",
       "      <td>0.130526</td>\n",
       "      <td>0.573603</td>\n",
       "      <td>0.670446</td>\n",
       "      <td>0.635405</td>\n",
       "      <td>0.681183</td>\n",
       "      <td>0.654673</td>\n",
       "      <td>0.649893</td>\n",
       "      <td>0.604198</td>\n",
       "      <td>0.563096</td>\n",
       "      <td>0.476029</td>\n",
       "    </tr>\n",
       "  </tbody>\n",
       "</table>\n",
       "<p>3 rows × 198 columns</p>\n",
       "</div>"
      ],
      "text/plain": [
       "                                 1222__pool_table__0.9999995.jpg  \\\n",
       "1222__pool_table__0.9999995.jpg                         0.000000   \n",
       "1328__coil__0.99999607.jpg                              0.596715   \n",
       "134__zebra__0.9999949.jpg                               0.648710   \n",
       "\n",
       "                                 1328__coil__0.99999607.jpg  \\\n",
       "1222__pool_table__0.9999995.jpg                    0.596715   \n",
       "1328__coil__0.99999607.jpg                         0.000000   \n",
       "134__zebra__0.9999949.jpg                          0.676294   \n",
       "\n",
       "                                 134__zebra__0.9999949.jpg  \\\n",
       "1222__pool_table__0.9999995.jpg                   0.648710   \n",
       "1328__coil__0.99999607.jpg                        0.676294   \n",
       "134__zebra__0.9999949.jpg                         0.000000   \n",
       "\n",
       "                                 2377471__pizza__0.9999988.jpg  \\\n",
       "1222__pool_table__0.9999995.jpg                       0.660728   \n",
       "1328__coil__0.99999607.jpg                            0.619278   \n",
       "134__zebra__0.9999949.jpg                             0.668483   \n",
       "\n",
       "                                 2377620__zebra__0.9999882.jpg  \\\n",
       "1222__pool_table__0.9999995.jpg                       0.678895   \n",
       "1328__coil__0.99999607.jpg                            0.657653   \n",
       "134__zebra__0.9999949.jpg                             0.195514   \n",
       "\n",
       "                                 2377698__zebra__0.9999999.jpg  \\\n",
       "1222__pool_table__0.9999995.jpg                       0.655366   \n",
       "1328__coil__0.99999607.jpg                            0.670955   \n",
       "134__zebra__0.9999949.jpg                             0.101250   \n",
       "\n",
       "                                 2378170__zebra__0.9999902.jpg  \\\n",
       "1222__pool_table__0.9999995.jpg                       0.639423   \n",
       "1328__coil__0.99999607.jpg                            0.626710   \n",
       "134__zebra__0.9999949.jpg                             0.144694   \n",
       "\n",
       "                                 2378358__park_bench__0.99999833.jpg  \\\n",
       "1222__pool_table__0.9999995.jpg                             0.564146   \n",
       "1328__coil__0.99999607.jpg                                  0.647045   \n",
       "134__zebra__0.9999949.jpg                                   0.606948   \n",
       "\n",
       "                                 2378523__banana__0.99999785.jpg  \\\n",
       "1222__pool_table__0.9999995.jpg                         0.664004   \n",
       "1328__coil__0.99999607.jpg                              0.720932   \n",
       "134__zebra__0.9999949.jpg                               0.684568   \n",
       "\n",
       "                                 2379086__zebra__0.9999975.jpg  ...  \\\n",
       "1222__pool_table__0.9999995.jpg                       0.623505  ...   \n",
       "1328__coil__0.99999607.jpg                            0.639172  ...   \n",
       "134__zebra__0.9999949.jpg                             0.096840  ...   \n",
       "\n",
       "                                 2417881__zebra__0.9999945.jpg  \\\n",
       "1222__pool_table__0.9999995.jpg                       0.630923   \n",
       "1328__coil__0.99999607.jpg                            0.640558   \n",
       "134__zebra__0.9999949.jpg                             0.130526   \n",
       "\n",
       "                                 2417938__banana__0.9999944.jpg  \\\n",
       "1222__pool_table__0.9999995.jpg                        0.551253   \n",
       "1328__coil__0.99999607.jpg                             0.646600   \n",
       "134__zebra__0.9999949.jpg                              0.573603   \n",
       "\n",
       "                                 4099__pool_table__0.9999945.jpg  \\\n",
       "1222__pool_table__0.9999995.jpg                         0.173044   \n",
       "1328__coil__0.99999607.jpg                              0.625023   \n",
       "134__zebra__0.9999949.jpg                               0.670446   \n",
       "\n",
       "                                 4339__manhole_cover__0.99999416.jpg  \\\n",
       "1222__pool_table__0.9999995.jpg                             0.609761   \n",
       "1328__coil__0.99999607.jpg                                  0.550529   \n",
       "134__zebra__0.9999949.jpg                                   0.635405   \n",
       "\n",
       "                                 4534__viaduct__0.9999877.jpg  \\\n",
       "1222__pool_table__0.9999995.jpg                      0.597685   \n",
       "1328__coil__0.99999607.jpg                           0.677668   \n",
       "134__zebra__0.9999949.jpg                            0.681183   \n",
       "\n",
       "                                 4573__barrel__0.9999974.jpg  \\\n",
       "1222__pool_table__0.9999995.jpg                     0.598938   \n",
       "1328__coil__0.99999607.jpg                          0.652152   \n",
       "134__zebra__0.9999949.jpg                           0.654673   \n",
       "\n",
       "                                 4673__triumphal_arch__0.9999893.jpg  \\\n",
       "1222__pool_table__0.9999995.jpg                             0.641557   \n",
       "1328__coil__0.99999607.jpg                                  0.587317   \n",
       "134__zebra__0.9999949.jpg                                   0.649893   \n",
       "\n",
       "                                 576__gondola__0.9999993.jpg  \\\n",
       "1222__pool_table__0.9999995.jpg                     0.532241   \n",
       "1328__coil__0.99999607.jpg                          0.589918   \n",
       "134__zebra__0.9999949.jpg                           0.604198   \n",
       "\n",
       "                                 577__gondola__0.9999962.jpg  \\\n",
       "1222__pool_table__0.9999995.jpg                     0.551120   \n",
       "1328__coil__0.99999607.jpg                          0.539141   \n",
       "134__zebra__0.9999949.jpg                           0.563096   \n",
       "\n",
       "                                 691__cheetah__0.99999213.jpg  \n",
       "1222__pool_table__0.9999995.jpg                      0.529807  \n",
       "1328__coil__0.99999607.jpg                           0.620833  \n",
       "134__zebra__0.9999949.jpg                            0.476029  \n",
       "\n",
       "[3 rows x 198 columns]"
      ]
     },
     "execution_count": 3,
     "metadata": {},
     "output_type": "execute_result"
    }
   ],
   "source": [
    "sim_mx_df = pd.read_csv(SIM_MX_FILE_PATH, index_col=0)\n",
    "sim_mx_df.head(3)"
   ]
  },
  {
   "cell_type": "markdown",
   "id": "4f93c8c9",
   "metadata": {},
   "source": [
    "#### Votes"
   ]
  },
  {
   "cell_type": "code",
   "execution_count": 4,
   "id": "d49ae7a6",
   "metadata": {},
   "outputs": [
    {
     "data": {
      "text/html": [
       "<div>\n",
       "<style scoped>\n",
       "    .dataframe tbody tr th:only-of-type {\n",
       "        vertical-align: middle;\n",
       "    }\n",
       "\n",
       "    .dataframe tbody tr th {\n",
       "        vertical-align: top;\n",
       "    }\n",
       "\n",
       "    .dataframe thead th {\n",
       "        text-align: right;\n",
       "    }\n",
       "</style>\n",
       "<table border=\"1\" class=\"dataframe\">\n",
       "  <thead>\n",
       "    <tr style=\"text-align: right;\">\n",
       "      <th></th>\n",
       "      <th>ig</th>\n",
       "      <th>lime</th>\n",
       "      <th>xrai</th>\n",
       "      <th>anchor</th>\n",
       "      <th>best</th>\n",
       "    </tr>\n",
       "  </thead>\n",
       "  <tbody>\n",
       "    <tr>\n",
       "      <th>1222__pool_table__0.9999995.jpg</th>\n",
       "      <td>12</td>\n",
       "      <td>13</td>\n",
       "      <td>3</td>\n",
       "      <td>1</td>\n",
       "      <td>lime</td>\n",
       "    </tr>\n",
       "    <tr>\n",
       "      <th>1328__coil__0.99999607.jpg</th>\n",
       "      <td>17</td>\n",
       "      <td>4</td>\n",
       "      <td>3</td>\n",
       "      <td>2</td>\n",
       "      <td>ig</td>\n",
       "    </tr>\n",
       "    <tr>\n",
       "      <th>134__zebra__0.9999949.jpg</th>\n",
       "      <td>14</td>\n",
       "      <td>1</td>\n",
       "      <td>8</td>\n",
       "      <td>2</td>\n",
       "      <td>ig</td>\n",
       "    </tr>\n",
       "  </tbody>\n",
       "</table>\n",
       "</div>"
      ],
      "text/plain": [
       "                                 ig  lime  xrai  anchor  best\n",
       "1222__pool_table__0.9999995.jpg  12    13     3       1  lime\n",
       "1328__coil__0.99999607.jpg       17     4     3       2    ig\n",
       "134__zebra__0.9999949.jpg        14     1     8       2    ig"
      ]
     },
     "execution_count": 4,
     "metadata": {},
     "output_type": "execute_result"
    }
   ],
   "source": [
    "votes_df = pd.read_csv(VOTES_FILE_PATH, index_col=0)\n",
    "votes_df.head(3)"
   ]
  },
  {
   "cell_type": "markdown",
   "id": "1aa58471",
   "metadata": {},
   "source": [
    "Here's a sanity check for vote proportion in our the dataset. In the original XAI-CBR paper, vote proportion was like this:\n",
    "- IG: 45%\n",
    "- XRAI: 30%\n",
    "- LIME: 18%\n",
    "- ANCHOR: 7%\n",
    "\n",
    "Also, IG was the most voted technique, at least by hard voting aggregation, with a majority of 62% images.\n"
   ]
  },
  {
   "cell_type": "code",
   "execution_count": 5,
   "id": "45e9a162",
   "metadata": {},
   "outputs": [
    {
     "data": {
      "text/plain": [
       "ig        0.488315\n",
       "lime      0.183467\n",
       "xrai      0.271713\n",
       "anchor    0.056505\n",
       "dtype: float64"
      ]
     },
     "execution_count": 5,
     "metadata": {},
     "output_type": "execute_result"
    }
   ],
   "source": [
    "votes_df[['ig','lime','xrai','anchor']].sum() / 2867"
   ]
  },
  {
   "cell_type": "markdown",
   "id": "850f4b64",
   "metadata": {},
   "source": [
    "There's a slight imbalance of these proportions with respect to ones presented in the paper. It seems like some votes from XRAI and ANCHOR techniques drifted out to the IG technique. We'll check this out later, this should not be of great importance in the experiments of this notebook."
   ]
  },
  {
   "cell_type": "markdown",
   "id": "b5aa2ccd",
   "metadata": {},
   "source": [
    "### Data Preprocessing"
   ]
  },
  {
   "cell_type": "code",
   "execution_count": 6,
   "id": "c088b075",
   "metadata": {},
   "outputs": [],
   "source": [
    "X = sim_mx_df.values # Values from sim. matrix\n",
    "X_names = sim_mx_df.index.values # Names of every image\n",
    "y = votes_df.values[:, :4] # Vote count for each imae\n",
    "best = votes_df.values[:, -1] # Most voted technique for each image"
   ]
  },
  {
   "cell_type": "code",
   "execution_count": 7,
   "id": "1583b84f",
   "metadata": {},
   "outputs": [
    {
     "name": "stdout",
     "output_type": "stream",
     "text": [
      "(198, 198) (198,) (198, 4) (198,)\n"
     ]
    }
   ],
   "source": [
    "print(X.shape, X_names.shape, y.shape, best.shape)"
   ]
  },
  {
   "cell_type": "markdown",
   "id": "86f90b4c",
   "metadata": {},
   "source": [
    "#### Instance deletion\n",
    "Stratified Subsampling cannot be performed onto the dataset because only one instance is best explained with ANCHOR. Due to the very small importance of that instance in the dataset, we will continue without that instance (i.e. we will find that instance and remove it from the dataset)."
   ]
  },
  {
   "cell_type": "code",
   "execution_count": 8,
   "id": "e7183035",
   "metadata": {},
   "outputs": [
    {
     "data": {
      "text/plain": [
       "array([155], dtype=int64)"
      ]
     },
     "execution_count": 8,
     "metadata": {},
     "output_type": "execute_result"
    }
   ],
   "source": [
    "# At what index is the anchor instance located?\n",
    "anchor_idxs = np.argwhere(best == 'anchor')[0]\n",
    "anchor_idxs"
   ]
  },
  {
   "cell_type": "code",
   "execution_count": 9,
   "id": "57b22159",
   "metadata": {},
   "outputs": [
    {
     "data": {
      "text/plain": [
       "(array(['2411942__zebra__0.99999654.jpg'], dtype=object),\n",
       " array(['anchor'], dtype=object))"
      ]
     },
     "execution_count": 9,
     "metadata": {},
     "output_type": "execute_result"
    }
   ],
   "source": [
    "# What's the name of that image and its associated technique?\n",
    "X_names[anchor_idxs], best[anchor_idxs]"
   ]
  },
  {
   "cell_type": "code",
   "execution_count": 10,
   "id": "3f9ba43d",
   "metadata": {},
   "outputs": [],
   "source": [
    "# Delete that instance from all data partitions (X, y, etc.)\n",
    "X = np.delete(X, anchor_idxs, axis=0)\n",
    "X = np.delete(X, anchor_idxs, axis=1) # Twice in sim. matrix (both rows and columns)\n",
    "X_names = np.delete(X_names, anchor_idxs, axis=0)\n",
    "y = np.delete(y, anchor_idxs, axis=0)\n",
    "best = np.delete(best, anchor_idxs, axis=0)"
   ]
  },
  {
   "cell_type": "code",
   "execution_count": 11,
   "id": "097393d7",
   "metadata": {},
   "outputs": [
    {
     "name": "stdout",
     "output_type": "stream",
     "text": [
      "(197, 197) (197,) (197, 4) (197,)\n"
     ]
    }
   ],
   "source": [
    "print(X.shape, X_names.shape, y.shape, best.shape)"
   ]
  },
  {
   "cell_type": "markdown",
   "id": "dfacd9b4",
   "metadata": {},
   "source": [
    "## Splitting and Fold Creation"
   ]
  },
  {
   "cell_type": "code",
   "execution_count": 12,
   "id": "ab5a435d",
   "metadata": {},
   "outputs": [],
   "source": [
    "from sklearn.model_selection import StratifiedShuffleSplit as SSS\n",
    "from sklearn.model_selection import ShuffleSplit as SS"
   ]
  },
  {
   "cell_type": "markdown",
   "id": "30c2da70",
   "metadata": {},
   "source": [
    "#### TODO: Should I perform statified subsampling or standard subsampling?"
   ]
  },
  {
   "cell_type": "code",
   "execution_count": 13,
   "id": "4f2a2719",
   "metadata": {},
   "outputs": [],
   "source": [
    "STRATIFIED = True"
   ]
  },
  {
   "cell_type": "code",
   "execution_count": 14,
   "id": "e37cb918",
   "metadata": {},
   "outputs": [],
   "source": [
    "# Perform split\n",
    "splitter = None\n",
    "if STRATIFIED: splitter = SSS(n_splits=5, test_size=0.2, random_state=42)\n",
    "else: splitter = SS(n_splits=5, test_size=0.2, random_state=42)\n",
    "splits = splitter.split(X, best)\n",
    "splits = list(splits)"
   ]
  },
  {
   "cell_type": "code",
   "execution_count": 15,
   "id": "ce86528d",
   "metadata": {},
   "outputs": [
    {
     "data": {
      "text/plain": [
       "(array([192, 147, 177,  11, 140,  51, 127, 118, 172, 191,  62, 124, 115,\n",
       "         80, 190, 142,  92,  69,  25,  14,  42,   3, 185,  90,  10,  76,\n",
       "        176, 114,  44,  98, 166, 121,  79, 170,   1, 183,  28,  31, 155,\n",
       "         75, 156, 101, 171,  13, 110, 122,  38,  27, 136,  20,   6,  56,\n",
       "         35,  59, 139,  33,  78,  82,  21, 167, 117,  12,  49,  15,   5,\n",
       "        152, 132,  81,  61, 163, 175,  91,   7, 174, 135,  74, 193, 129,\n",
       "         60,  96,  50, 161, 159, 145, 126,  19,  65, 188,  73,  89, 133,\n",
       "        179,  40,  86, 112,  26, 168, 189, 149,  94, 194,  18, 138, 169,\n",
       "        102,  97,  71, 130,  53,  99, 148, 154,   8,  34, 182, 105,  55,\n",
       "         95, 153,  72, 144,  77,  52,  30,   9,  37,   4,  93, 128, 137,\n",
       "        195, 160, 111,  45, 164, 151,  29,  48,  70,  43,  57, 157,  39,\n",
       "        141,  85, 150,  67,   0,  47, 113,  32,  17, 131, 180,  66, 100,\n",
       "        186], dtype=int64),\n",
       " array([ 54, 187, 103,  23, 104, 108, 181,  64, 109, 134,  16, 146,   2,\n",
       "        116, 106, 119, 165,  41, 120, 178, 173, 125,  58, 184,  36,  63,\n",
       "        107,  24, 162,  83,  84,  88, 123,  46, 143,  87,  22, 196,  68,\n",
       "        158], dtype=int64))"
      ]
     },
     "execution_count": 15,
     "metadata": {},
     "output_type": "execute_result"
    }
   ],
   "source": [
    "splits[0]"
   ]
  },
  {
   "cell_type": "markdown",
   "id": "339837b3",
   "metadata": {},
   "source": [
    "## Clustering"
   ]
  },
  {
   "cell_type": "code",
   "execution_count": 16,
   "id": "1d0c5199",
   "metadata": {},
   "outputs": [],
   "source": [
    "clusterable_params = []"
   ]
  },
  {
   "cell_type": "code",
   "execution_count": 17,
   "id": "11892ff4",
   "metadata": {},
   "outputs": [],
   "source": [
    "from sklearn.cluster import DBSCAN\n",
    "from sklearn.metrics import silhouette_score"
   ]
  },
  {
   "cell_type": "code",
   "execution_count": 18,
   "id": "be4a59a9",
   "metadata": {},
   "outputs": [],
   "source": [
    "def get_sim_mx_subset(sim_mx_values, filter_idxs):\n",
    "    return sim_mx_values.take(filter_idxs, axis=0).take(filter_idxs, axis=1)"
   ]
  },
  {
   "cell_type": "code",
   "execution_count": 33,
   "id": "662754e9",
   "metadata": {},
   "outputs": [],
   "source": [
    "def fit_dbscan_sim_mx(data, min_samples, eps_values, \n",
    "               min_no_clusters=5, max_no_clusters=np.inf,\n",
    "               min_clust_instances=None, min_clust_instances_pct=0.85,\n",
    "               max_clust_instances=np.inf):\n",
    "    # Condition precalculation\n",
    "    if min_clust_instances_pct: # If % was defined\n",
    "        min_clust_instances = round(data.shape[0] * min_clust_instances_pct)\n",
    "    elif not min_clust_instances: # Else, if nominal amount was not specified\n",
    "        min_clust_instances = 100\n",
    "    # Code\n",
    "    scores, clusters, instances = [], [], []\n",
    "    for m in min_samples:\n",
    "        row_scores, row_clusters, row_instances = [], [], []\n",
    "        for e in eps_values:\n",
    "            db = DBSCAN(min_samples=m, eps=e, metric='precomputed').fit(data)\n",
    "            # Get only non anomalous instances and indices\n",
    "            non_a = db.labels_ != -1 # [False, ..., False] if all are outliers\n",
    "            non_a_idxs = np.argwhere(non_a==True)\n",
    "            non_a_idxs = non_a_idxs.reshape(non_a_idxs.shape[0])\n",
    "            # Calculate conditions\n",
    "            n_clusters = len(np.unique(db.labels_[non_a])) # 0 if all are outliers\n",
    "            n_instances = len(db.labels_[non_a]) # 0 if all are outliers\n",
    "            # Apply conditions (why does it output NaN and not None?)\n",
    "            valid_n_clusters = n_clusters >= min_no_clusters and n_clusters <= max_no_clusters\n",
    "            valid_n_cl_instances = n_instances >= min_clust_instances and n_instances <= max_clust_instances\n",
    "            if (valid_n_clusters and valid_n_cl_instances):\n",
    "                non_a_data = get_sim_mx_subset(data, non_a_idxs)\n",
    "                score = silhouette_score(non_a_data, db.labels_[non_a], metric='precomputed')\n",
    "            else:\n",
    "                score = None\n",
    "            # Store results\n",
    "            row_scores.append(score)\n",
    "            row_clusters.append(n_clusters)\n",
    "            row_instances.append(n_instances)\n",
    "        # Store row results\n",
    "        scores.append(row_scores)\n",
    "        clusters.append(row_clusters)\n",
    "        instances.append(row_instances)\n",
    "    # Prepare and return values\n",
    "    ms_axis = pd.Index(min_samples, name='Min_samples')\n",
    "    eps_axis = pd.Index(eps_values, name='Epsilon')\n",
    "    df_scores = pd.DataFrame(scores, index=ms_axis, columns=eps_axis)\n",
    "    df_clusters = pd.DataFrame(clusters, index=ms_axis, columns=eps_axis)\n",
    "    df_instances = pd.DataFrame(instances, index=ms_axis, columns=eps_axis)\n",
    "    return df_scores, df_clusters, df_instances"
   ]
  },
  {
   "cell_type": "code",
   "execution_count": 34,
   "id": "b86f4e91",
   "metadata": {},
   "outputs": [],
   "source": [
    "def print_results(m, eps, scores_df, instances_df, clusters_df):\n",
    "    score = round(scores_df.loc[m][eps], 4)\n",
    "    instances = instances_df.loc[m][eps]\n",
    "    clusters = clusters_df.loc[m][eps]\n",
    "    print(f'DBSCAN using parameters m={m} and eps={eps} yields the next clustering results:')\n",
    "    print()\n",
    "    print(f'- Sil. score: {score}')\n",
    "    print(f'- {instances} clustered instances into {clusters} clusters')\n",
    "    print(f'- Avg. of {round(instances/clusters, 2)} instances per cluster')"
   ]
  },
  {
   "cell_type": "code",
   "execution_count": 35,
   "id": "bbf9646e",
   "metadata": {},
   "outputs": [
    {
     "data": {
      "text/plain": [
       "133.45"
      ]
     },
     "execution_count": 35,
     "metadata": {},
     "output_type": "execute_result"
    }
   ],
   "source": [
    "X[splits[0][0]].shape[0] * 0.85 # about 135 clustered instances are needed"
   ]
  },
  {
   "cell_type": "markdown",
   "id": "0c81218e",
   "metadata": {},
   "source": [
    "#### Split #0"
   ]
  },
  {
   "cell_type": "code",
   "execution_count": 36,
   "id": "acc8d73c",
   "metadata": {},
   "outputs": [
    {
     "data": {
      "text/plain": [
       "(157, 157)"
      ]
     },
     "execution_count": 36,
     "metadata": {},
     "output_type": "execute_result"
    }
   ],
   "source": [
    "X_split_0 = get_sim_mx_subset(X, splits[0][0])\n",
    "X_split_0.shape"
   ]
  },
  {
   "cell_type": "code",
   "execution_count": 37,
   "id": "72d475a8",
   "metadata": {},
   "outputs": [
    {
     "data": {
      "text/html": [
       "<div>\n",
       "<style scoped>\n",
       "    .dataframe tbody tr th:only-of-type {\n",
       "        vertical-align: middle;\n",
       "    }\n",
       "\n",
       "    .dataframe tbody tr th {\n",
       "        vertical-align: top;\n",
       "    }\n",
       "\n",
       "    .dataframe thead th {\n",
       "        text-align: right;\n",
       "    }\n",
       "</style>\n",
       "<table border=\"1\" class=\"dataframe\">\n",
       "  <thead>\n",
       "    <tr style=\"text-align: right;\">\n",
       "      <th>Epsilon</th>\n",
       "      <th>0.20</th>\n",
       "      <th>0.25</th>\n",
       "      <th>0.30</th>\n",
       "      <th>0.35</th>\n",
       "      <th>0.40</th>\n",
       "      <th>0.45</th>\n",
       "      <th>0.50</th>\n",
       "      <th>0.55</th>\n",
       "    </tr>\n",
       "    <tr>\n",
       "      <th>Min_samples</th>\n",
       "      <th></th>\n",
       "      <th></th>\n",
       "      <th></th>\n",
       "      <th></th>\n",
       "      <th></th>\n",
       "      <th></th>\n",
       "      <th></th>\n",
       "      <th></th>\n",
       "    </tr>\n",
       "  </thead>\n",
       "  <tbody>\n",
       "    <tr>\n",
       "      <th>2</th>\n",
       "      <td>None</td>\n",
       "      <td>0.635641</td>\n",
       "      <td>0.641918</td>\n",
       "      <td>0.606230</td>\n",
       "      <td>0.561126</td>\n",
       "      <td>0.378010</td>\n",
       "      <td>None</td>\n",
       "      <td>None</td>\n",
       "    </tr>\n",
       "    <tr>\n",
       "      <th>3</th>\n",
       "      <td>None</td>\n",
       "      <td>0.636358</td>\n",
       "      <td>0.643610</td>\n",
       "      <td>0.611033</td>\n",
       "      <td>0.574430</td>\n",
       "      <td>0.375571</td>\n",
       "      <td>None</td>\n",
       "      <td>None</td>\n",
       "    </tr>\n",
       "    <tr>\n",
       "      <th>4</th>\n",
       "      <td>None</td>\n",
       "      <td>NaN</td>\n",
       "      <td>NaN</td>\n",
       "      <td>NaN</td>\n",
       "      <td>NaN</td>\n",
       "      <td>NaN</td>\n",
       "      <td>None</td>\n",
       "      <td>None</td>\n",
       "    </tr>\n",
       "    <tr>\n",
       "      <th>5</th>\n",
       "      <td>None</td>\n",
       "      <td>NaN</td>\n",
       "      <td>NaN</td>\n",
       "      <td>NaN</td>\n",
       "      <td>NaN</td>\n",
       "      <td>NaN</td>\n",
       "      <td>None</td>\n",
       "      <td>None</td>\n",
       "    </tr>\n",
       "  </tbody>\n",
       "</table>\n",
       "</div>"
      ],
      "text/plain": [
       "Epsilon      0.20      0.25      0.30      0.35      0.40      0.45  0.50  \\\n",
       "Min_samples                                                                 \n",
       "2            None  0.635641  0.641918  0.606230  0.561126  0.378010  None   \n",
       "3            None  0.636358  0.643610  0.611033  0.574430  0.375571  None   \n",
       "4            None       NaN       NaN       NaN       NaN       NaN  None   \n",
       "5            None       NaN       NaN       NaN       NaN       NaN  None   \n",
       "\n",
       "Epsilon      0.55  \n",
       "Min_samples        \n",
       "2            None  \n",
       "3            None  \n",
       "4            None  \n",
       "5            None  "
      ]
     },
     "execution_count": 37,
     "metadata": {},
     "output_type": "execute_result"
    }
   ],
   "source": [
    "dfs, dfc, dfi = fit_dbscan_sim_mx(X_split_0, range(2, 6), np.arange(0.2, 0.6, 0.05))\n",
    "dfs"
   ]
  },
  {
   "cell_type": "code",
   "execution_count": 38,
   "id": "bd15807d",
   "metadata": {},
   "outputs": [
    {
     "name": "stdout",
     "output_type": "stream",
     "text": [
      "DBSCAN using parameters m=3 and eps=0.3 yields the next clustering results:\n",
      "\n",
      "- Sil. score: 0.6436\n",
      "- 134 clustered instances into 12 clusters\n",
      "- Avg. of 11.17 instances per cluster\n"
     ]
    }
   ],
   "source": [
    "print_results(3, 0.3, dfs, dfi, dfc)"
   ]
  },
  {
   "cell_type": "code",
   "execution_count": 39,
   "id": "5fd188e1",
   "metadata": {},
   "outputs": [],
   "source": [
    "clusterable_params.append([3, 0.3, 0])"
   ]
  },
  {
   "cell_type": "markdown",
   "id": "a0572909",
   "metadata": {},
   "source": [
    "#### Split #1"
   ]
  },
  {
   "cell_type": "code",
   "execution_count": 40,
   "id": "717a70f9",
   "metadata": {},
   "outputs": [
    {
     "data": {
      "text/plain": [
       "(157, 157)"
      ]
     },
     "execution_count": 40,
     "metadata": {},
     "output_type": "execute_result"
    }
   ],
   "source": [
    "X_split_1 = get_sim_mx_subset(X, splits[1][0])\n",
    "X_split_1.shape"
   ]
  },
  {
   "cell_type": "code",
   "execution_count": 42,
   "id": "2256390a",
   "metadata": {},
   "outputs": [
    {
     "data": {
      "text/html": [
       "<div>\n",
       "<style scoped>\n",
       "    .dataframe tbody tr th:only-of-type {\n",
       "        vertical-align: middle;\n",
       "    }\n",
       "\n",
       "    .dataframe tbody tr th {\n",
       "        vertical-align: top;\n",
       "    }\n",
       "\n",
       "    .dataframe thead th {\n",
       "        text-align: right;\n",
       "    }\n",
       "</style>\n",
       "<table border=\"1\" class=\"dataframe\">\n",
       "  <thead>\n",
       "    <tr style=\"text-align: right;\">\n",
       "      <th>Epsilon</th>\n",
       "      <th>0.20</th>\n",
       "      <th>0.25</th>\n",
       "      <th>0.30</th>\n",
       "      <th>0.35</th>\n",
       "      <th>0.40</th>\n",
       "      <th>0.45</th>\n",
       "      <th>0.50</th>\n",
       "      <th>0.55</th>\n",
       "    </tr>\n",
       "    <tr>\n",
       "      <th>Min_samples</th>\n",
       "      <th></th>\n",
       "      <th></th>\n",
       "      <th></th>\n",
       "      <th></th>\n",
       "      <th></th>\n",
       "      <th></th>\n",
       "      <th></th>\n",
       "      <th></th>\n",
       "    </tr>\n",
       "  </thead>\n",
       "  <tbody>\n",
       "    <tr>\n",
       "      <th>2</th>\n",
       "      <td>None</td>\n",
       "      <td>0.653834</td>\n",
       "      <td>0.647768</td>\n",
       "      <td>0.653524</td>\n",
       "      <td>0.57174</td>\n",
       "      <td>0.218144</td>\n",
       "      <td>None</td>\n",
       "      <td>None</td>\n",
       "    </tr>\n",
       "    <tr>\n",
       "      <th>3</th>\n",
       "      <td>None</td>\n",
       "      <td>NaN</td>\n",
       "      <td>NaN</td>\n",
       "      <td>NaN</td>\n",
       "      <td>NaN</td>\n",
       "      <td>NaN</td>\n",
       "      <td>None</td>\n",
       "      <td>None</td>\n",
       "    </tr>\n",
       "    <tr>\n",
       "      <th>4</th>\n",
       "      <td>None</td>\n",
       "      <td>NaN</td>\n",
       "      <td>NaN</td>\n",
       "      <td>NaN</td>\n",
       "      <td>NaN</td>\n",
       "      <td>NaN</td>\n",
       "      <td>None</td>\n",
       "      <td>None</td>\n",
       "    </tr>\n",
       "  </tbody>\n",
       "</table>\n",
       "</div>"
      ],
      "text/plain": [
       "Epsilon      0.20      0.25      0.30      0.35     0.40      0.45  0.50  0.55\n",
       "Min_samples                                                                   \n",
       "2            None  0.653834  0.647768  0.653524  0.57174  0.218144  None  None\n",
       "3            None       NaN       NaN       NaN      NaN       NaN  None  None\n",
       "4            None       NaN       NaN       NaN      NaN       NaN  None  None"
      ]
     },
     "execution_count": 42,
     "metadata": {},
     "output_type": "execute_result"
    }
   ],
   "source": [
    "dfs, dfc, dfi = fit_dbscan_sim_mx(X_split_1, range(2, 5), np.arange(0.2, 0.6, 0.05))\n",
    "dfs"
   ]
  },
  {
   "cell_type": "code",
   "execution_count": 43,
   "id": "8941e67e",
   "metadata": {},
   "outputs": [
    {
     "name": "stdout",
     "output_type": "stream",
     "text": [
      "DBSCAN using parameters m=2 and eps=0.25 yields the next clustering results:\n",
      "\n",
      "- Sil. score: 0.6538\n",
      "- 138 clustered instances into 17 clusters\n",
      "- Avg. of 8.12 instances per cluster\n"
     ]
    }
   ],
   "source": [
    "print_results(2, 0.25, dfs, dfi, dfc)"
   ]
  },
  {
   "cell_type": "code",
   "execution_count": 44,
   "id": "fbebfa9c",
   "metadata": {},
   "outputs": [],
   "source": [
    "clusterable_params.append([2, 0.25, 1])"
   ]
  },
  {
   "cell_type": "markdown",
   "id": "cb104c72",
   "metadata": {},
   "source": [
    "#### Split #2"
   ]
  },
  {
   "cell_type": "code",
   "execution_count": 45,
   "id": "d8234846",
   "metadata": {},
   "outputs": [
    {
     "data": {
      "text/plain": [
       "(157, 157)"
      ]
     },
     "execution_count": 45,
     "metadata": {},
     "output_type": "execute_result"
    }
   ],
   "source": [
    "X_split_2 = get_sim_mx_subset(X, splits[2][0])\n",
    "X_split_2.shape"
   ]
  },
  {
   "cell_type": "code",
   "execution_count": 46,
   "id": "3bfe2f01",
   "metadata": {},
   "outputs": [
    {
     "data": {
      "text/html": [
       "<div>\n",
       "<style scoped>\n",
       "    .dataframe tbody tr th:only-of-type {\n",
       "        vertical-align: middle;\n",
       "    }\n",
       "\n",
       "    .dataframe tbody tr th {\n",
       "        vertical-align: top;\n",
       "    }\n",
       "\n",
       "    .dataframe thead th {\n",
       "        text-align: right;\n",
       "    }\n",
       "</style>\n",
       "<table border=\"1\" class=\"dataframe\">\n",
       "  <thead>\n",
       "    <tr style=\"text-align: right;\">\n",
       "      <th>Epsilon</th>\n",
       "      <th>0.20</th>\n",
       "      <th>0.25</th>\n",
       "      <th>0.30</th>\n",
       "      <th>0.35</th>\n",
       "      <th>0.40</th>\n",
       "      <th>0.45</th>\n",
       "      <th>0.50</th>\n",
       "      <th>0.55</th>\n",
       "    </tr>\n",
       "    <tr>\n",
       "      <th>Min_samples</th>\n",
       "      <th></th>\n",
       "      <th></th>\n",
       "      <th></th>\n",
       "      <th></th>\n",
       "      <th></th>\n",
       "      <th></th>\n",
       "      <th></th>\n",
       "      <th></th>\n",
       "    </tr>\n",
       "  </thead>\n",
       "  <tbody>\n",
       "    <tr>\n",
       "      <th>2</th>\n",
       "      <td>None</td>\n",
       "      <td>0.646449</td>\n",
       "      <td>0.649521</td>\n",
       "      <td>0.612544</td>\n",
       "      <td>0.589667</td>\n",
       "      <td>0.430464</td>\n",
       "      <td>None</td>\n",
       "      <td>None</td>\n",
       "    </tr>\n",
       "    <tr>\n",
       "      <th>3</th>\n",
       "      <td>None</td>\n",
       "      <td>0.642418</td>\n",
       "      <td>0.647014</td>\n",
       "      <td>0.613957</td>\n",
       "      <td>0.601507</td>\n",
       "      <td>0.420766</td>\n",
       "      <td>None</td>\n",
       "      <td>None</td>\n",
       "    </tr>\n",
       "    <tr>\n",
       "      <th>4</th>\n",
       "      <td>None</td>\n",
       "      <td>NaN</td>\n",
       "      <td>NaN</td>\n",
       "      <td>NaN</td>\n",
       "      <td>NaN</td>\n",
       "      <td>0.425639</td>\n",
       "      <td>None</td>\n",
       "      <td>None</td>\n",
       "    </tr>\n",
       "  </tbody>\n",
       "</table>\n",
       "</div>"
      ],
      "text/plain": [
       "Epsilon      0.20      0.25      0.30      0.35      0.40      0.45  0.50  \\\n",
       "Min_samples                                                                 \n",
       "2            None  0.646449  0.649521  0.612544  0.589667  0.430464  None   \n",
       "3            None  0.642418  0.647014  0.613957  0.601507  0.420766  None   \n",
       "4            None       NaN       NaN       NaN       NaN  0.425639  None   \n",
       "\n",
       "Epsilon      0.55  \n",
       "Min_samples        \n",
       "2            None  \n",
       "3            None  \n",
       "4            None  "
      ]
     },
     "execution_count": 46,
     "metadata": {},
     "output_type": "execute_result"
    }
   ],
   "source": [
    "dfs, dfc, dfi = fit_dbscan_sim_mx(X_split_2, range(2, 5), np.arange(0.2, 0.6, 0.05))\n",
    "dfs"
   ]
  },
  {
   "cell_type": "code",
   "execution_count": 47,
   "id": "bc3573bc",
   "metadata": {},
   "outputs": [
    {
     "name": "stdout",
     "output_type": "stream",
     "text": [
      "DBSCAN using parameters m=2 and eps=0.3 yields the next clustering results:\n",
      "\n",
      "- Sil. score: 0.6495\n",
      "- 141 clustered instances into 15 clusters\n",
      "- Avg. of 9.4 instances per cluster\n"
     ]
    }
   ],
   "source": [
    "print_results(2, 0.3, dfs, dfi, dfc)"
   ]
  },
  {
   "cell_type": "code",
   "execution_count": 48,
   "id": "685a6951",
   "metadata": {},
   "outputs": [],
   "source": [
    "clusterable_params.append([2, 0.3, 2])"
   ]
  },
  {
   "cell_type": "markdown",
   "id": "b92d5d4c",
   "metadata": {},
   "source": [
    "#### Split #3"
   ]
  },
  {
   "cell_type": "code",
   "execution_count": 49,
   "id": "a30c0593",
   "metadata": {},
   "outputs": [
    {
     "data": {
      "text/plain": [
       "(157, 157)"
      ]
     },
     "execution_count": 49,
     "metadata": {},
     "output_type": "execute_result"
    }
   ],
   "source": [
    "X_split_3 = get_sim_mx_subset(X, splits[3][0])\n",
    "X_split_3.shape"
   ]
  },
  {
   "cell_type": "code",
   "execution_count": 50,
   "id": "29ba8fe8",
   "metadata": {},
   "outputs": [
    {
     "data": {
      "text/html": [
       "<div>\n",
       "<style scoped>\n",
       "    .dataframe tbody tr th:only-of-type {\n",
       "        vertical-align: middle;\n",
       "    }\n",
       "\n",
       "    .dataframe tbody tr th {\n",
       "        vertical-align: top;\n",
       "    }\n",
       "\n",
       "    .dataframe thead th {\n",
       "        text-align: right;\n",
       "    }\n",
       "</style>\n",
       "<table border=\"1\" class=\"dataframe\">\n",
       "  <thead>\n",
       "    <tr style=\"text-align: right;\">\n",
       "      <th>Epsilon</th>\n",
       "      <th>0.20</th>\n",
       "      <th>0.25</th>\n",
       "      <th>0.30</th>\n",
       "      <th>0.35</th>\n",
       "      <th>0.40</th>\n",
       "      <th>0.45</th>\n",
       "      <th>0.50</th>\n",
       "      <th>0.55</th>\n",
       "    </tr>\n",
       "    <tr>\n",
       "      <th>Min_samples</th>\n",
       "      <th></th>\n",
       "      <th></th>\n",
       "      <th></th>\n",
       "      <th></th>\n",
       "      <th></th>\n",
       "      <th></th>\n",
       "      <th></th>\n",
       "      <th></th>\n",
       "    </tr>\n",
       "  </thead>\n",
       "  <tbody>\n",
       "    <tr>\n",
       "      <th>2</th>\n",
       "      <td>None</td>\n",
       "      <td>0.654148</td>\n",
       "      <td>0.653209</td>\n",
       "      <td>0.65128</td>\n",
       "      <td>0.586500</td>\n",
       "      <td>0.475578</td>\n",
       "      <td>None</td>\n",
       "      <td>None</td>\n",
       "    </tr>\n",
       "    <tr>\n",
       "      <th>3</th>\n",
       "      <td>None</td>\n",
       "      <td>NaN</td>\n",
       "      <td>NaN</td>\n",
       "      <td>NaN</td>\n",
       "      <td>0.582307</td>\n",
       "      <td>0.471898</td>\n",
       "      <td>None</td>\n",
       "      <td>None</td>\n",
       "    </tr>\n",
       "    <tr>\n",
       "      <th>4</th>\n",
       "      <td>None</td>\n",
       "      <td>NaN</td>\n",
       "      <td>NaN</td>\n",
       "      <td>NaN</td>\n",
       "      <td>NaN</td>\n",
       "      <td>0.489025</td>\n",
       "      <td>None</td>\n",
       "      <td>None</td>\n",
       "    </tr>\n",
       "  </tbody>\n",
       "</table>\n",
       "</div>"
      ],
      "text/plain": [
       "Epsilon      0.20      0.25      0.30     0.35      0.40      0.45  0.50  0.55\n",
       "Min_samples                                                                   \n",
       "2            None  0.654148  0.653209  0.65128  0.586500  0.475578  None  None\n",
       "3            None       NaN       NaN      NaN  0.582307  0.471898  None  None\n",
       "4            None       NaN       NaN      NaN       NaN  0.489025  None  None"
      ]
     },
     "execution_count": 50,
     "metadata": {},
     "output_type": "execute_result"
    }
   ],
   "source": [
    "dfs, dfc, dfi = fit_dbscan_sim_mx(X_split_3, range(2, 5), np.arange(0.2, 0.6, 0.05))\n",
    "dfs"
   ]
  },
  {
   "cell_type": "code",
   "execution_count": 51,
   "id": "2f630904",
   "metadata": {},
   "outputs": [
    {
     "name": "stdout",
     "output_type": "stream",
     "text": [
      "DBSCAN using parameters m=2 and eps=0.25 yields the next clustering results:\n",
      "\n",
      "- Sil. score: 0.6541\n",
      "- 137 clustered instances into 16 clusters\n",
      "- Avg. of 8.56 instances per cluster\n"
     ]
    }
   ],
   "source": [
    "print_results(2, 0.25, dfs, dfi, dfc)"
   ]
  },
  {
   "cell_type": "code",
   "execution_count": 52,
   "id": "ea6ce36e",
   "metadata": {},
   "outputs": [],
   "source": [
    "clusterable_params.append([2, 0.25, 3])"
   ]
  },
  {
   "cell_type": "markdown",
   "id": "6b41dace",
   "metadata": {},
   "source": [
    "#### Split #4"
   ]
  },
  {
   "cell_type": "code",
   "execution_count": 53,
   "id": "8fec0484",
   "metadata": {},
   "outputs": [
    {
     "data": {
      "text/plain": [
       "(157, 157)"
      ]
     },
     "execution_count": 53,
     "metadata": {},
     "output_type": "execute_result"
    }
   ],
   "source": [
    "X_split_4 = get_sim_mx_subset(X, splits[4][0])\n",
    "X_split_4.shape"
   ]
  },
  {
   "cell_type": "code",
   "execution_count": 54,
   "id": "bc89c0fa",
   "metadata": {},
   "outputs": [
    {
     "data": {
      "text/html": [
       "<div>\n",
       "<style scoped>\n",
       "    .dataframe tbody tr th:only-of-type {\n",
       "        vertical-align: middle;\n",
       "    }\n",
       "\n",
       "    .dataframe tbody tr th {\n",
       "        vertical-align: top;\n",
       "    }\n",
       "\n",
       "    .dataframe thead th {\n",
       "        text-align: right;\n",
       "    }\n",
       "</style>\n",
       "<table border=\"1\" class=\"dataframe\">\n",
       "  <thead>\n",
       "    <tr style=\"text-align: right;\">\n",
       "      <th>Epsilon</th>\n",
       "      <th>0.20</th>\n",
       "      <th>0.25</th>\n",
       "      <th>0.30</th>\n",
       "      <th>0.35</th>\n",
       "      <th>0.40</th>\n",
       "      <th>0.45</th>\n",
       "      <th>0.50</th>\n",
       "      <th>0.55</th>\n",
       "    </tr>\n",
       "    <tr>\n",
       "      <th>Min_samples</th>\n",
       "      <th></th>\n",
       "      <th></th>\n",
       "      <th></th>\n",
       "      <th></th>\n",
       "      <th></th>\n",
       "      <th></th>\n",
       "      <th></th>\n",
       "      <th></th>\n",
       "    </tr>\n",
       "  </thead>\n",
       "  <tbody>\n",
       "    <tr>\n",
       "      <th>2</th>\n",
       "      <td>None</td>\n",
       "      <td>0.641495</td>\n",
       "      <td>0.643713</td>\n",
       "      <td>0.603961</td>\n",
       "      <td>0.544315</td>\n",
       "      <td>0.392481</td>\n",
       "      <td>None</td>\n",
       "      <td>None</td>\n",
       "    </tr>\n",
       "    <tr>\n",
       "      <th>3</th>\n",
       "      <td>None</td>\n",
       "      <td>NaN</td>\n",
       "      <td>0.649068</td>\n",
       "      <td>0.613441</td>\n",
       "      <td>0.575905</td>\n",
       "      <td>0.394724</td>\n",
       "      <td>None</td>\n",
       "      <td>None</td>\n",
       "    </tr>\n",
       "    <tr>\n",
       "      <th>4</th>\n",
       "      <td>None</td>\n",
       "      <td>NaN</td>\n",
       "      <td>NaN</td>\n",
       "      <td>NaN</td>\n",
       "      <td>NaN</td>\n",
       "      <td>NaN</td>\n",
       "      <td>None</td>\n",
       "      <td>None</td>\n",
       "    </tr>\n",
       "  </tbody>\n",
       "</table>\n",
       "</div>"
      ],
      "text/plain": [
       "Epsilon      0.20      0.25      0.30      0.35      0.40      0.45  0.50  \\\n",
       "Min_samples                                                                 \n",
       "2            None  0.641495  0.643713  0.603961  0.544315  0.392481  None   \n",
       "3            None       NaN  0.649068  0.613441  0.575905  0.394724  None   \n",
       "4            None       NaN       NaN       NaN       NaN       NaN  None   \n",
       "\n",
       "Epsilon      0.55  \n",
       "Min_samples        \n",
       "2            None  \n",
       "3            None  \n",
       "4            None  "
      ]
     },
     "execution_count": 54,
     "metadata": {},
     "output_type": "execute_result"
    }
   ],
   "source": [
    "dfs, dfc, dfi = fit_dbscan_sim_mx(X_split_4, range(2, 5), np.arange(0.2, 0.6, 0.05))\n",
    "dfs"
   ]
  },
  {
   "cell_type": "code",
   "execution_count": 55,
   "id": "d809bc54",
   "metadata": {},
   "outputs": [
    {
     "name": "stdout",
     "output_type": "stream",
     "text": [
      "DBSCAN using parameters m=3 and eps=0.3 yields the next clustering results:\n",
      "\n",
      "- Sil. score: 0.6491\n",
      "- 133 clustered instances into 12 clusters\n",
      "- Avg. of 11.08 instances per cluster\n"
     ]
    }
   ],
   "source": [
    "print_results(3, 0.3, dfs, dfi, dfc)"
   ]
  },
  {
   "cell_type": "code",
   "execution_count": 56,
   "id": "4bf510b8",
   "metadata": {},
   "outputs": [],
   "source": [
    "clusterable_params.append([3, 0.3, 4])"
   ]
  },
  {
   "cell_type": "markdown",
   "id": "a92725cd",
   "metadata": {},
   "source": [
    "#### Clusterable parameters for each split"
   ]
  },
  {
   "cell_type": "code",
   "execution_count": 57,
   "id": "7b4f7a09",
   "metadata": {},
   "outputs": [
    {
     "data": {
      "text/plain": [
       "[[3, 0.3, 0], [2, 0.25, 1], [2, 0.3, 2], [2, 0.25, 3], [3, 0.3, 4]]"
      ]
     },
     "execution_count": 57,
     "metadata": {},
     "output_type": "execute_result"
    }
   ],
   "source": [
    "clusterable_params"
   ]
  },
  {
   "cell_type": "markdown",
   "id": "45e7ad78",
   "metadata": {},
   "source": [
    "## Clustering Results"
   ]
  },
  {
   "cell_type": "code",
   "execution_count": 58,
   "id": "f7c90024",
   "metadata": {},
   "outputs": [],
   "source": [
    "def get_indiv_clustering_results(params):\n",
    "    '''Returns a dictionary mapping the name of an image\n",
    "    with the cluster it belongs to'''\n",
    "    # Preconditions\n",
    "    split_idx = params[2]\n",
    "    train_idxs = splits[split_idx][0]\n",
    "    # Prepare data (always X, not feats_df)\n",
    "    sim_mx_subset = get_sim_mx_subset(X, train_idxs)\n",
    "    img_names = X_names[train_idxs]\n",
    "    # Perform clustering\n",
    "    dbscan = DBSCAN(min_samples=params[0], eps=params[1], metric='precomputed')\n",
    "    dbscan = dbscan.fit(sim_mx_subset)\n",
    "    # Generate {img_name : label} mapping\n",
    "    name_label_map = {name: label for name, label in zip(img_names, dbscan.labels_)}\n",
    "    return name_label_map\n",
    "\n",
    "def get_global_clustering_results(params_set):\n",
    "    '''Returns a dictionary mapping the index of every param set\n",
    "    in 'params' arg. with the clustering results generated with that param. set'''\n",
    "    results = {}\n",
    "    for i, params in enumerate(params_set):\n",
    "        results[i] = get_indiv_clustering_results(params)\n",
    "    return results"
   ]
  },
  {
   "cell_type": "code",
   "execution_count": 59,
   "id": "91ac933f",
   "metadata": {},
   "outputs": [],
   "source": [
    "cl_results = get_global_clustering_results(clusterable_params)"
   ]
  },
  {
   "cell_type": "code",
   "execution_count": 60,
   "id": "50d3d624",
   "metadata": {},
   "outputs": [
    {
     "data": {
      "text/plain": [
       "{0: {'4573__barrel__0.9999974.jpg': -1,\n",
       "  '2411372__parking_meter__0.999995.jpg': 0,\n",
       "  '2415910__zebra__0.9999962.jpg': 1,\n",
       "  '2380017__zebra__0.9999995.jpg': 1,\n",
       "  '2410410__ski__0.99999356.jpg': 2,\n",
       "  '2387305__traffic_light__1.0.jpg': 3,\n",
       "  '2408884__zebra__0.9999913.jpg': 1,\n",
       "  '2406581__zebra__0.9999939.jpg': 1,\n",
       "  '2415102__zebra__0.9999876.jpg': 1,\n",
       "  '4534__viaduct__0.9999877.jpg': -1,\n",
       "  '2391862__broccoli__0.99999714.jpg': 4,\n",
       "  '2408592__goose__0.999998.jpg': -1,\n",
       "  '2405479__traffic_light__0.9999939.jpg': 3,\n",
       "  '2396034__remote_control__0.9999856.jpg': -1,\n",
       "  '4339__manhole_cover__0.99999416.jpg': -1,\n",
       "  '2410779__parking_meter__0.99999917.jpg': 0,\n",
       "  '2401383__slug__0.9999933.jpg': -1,\n",
       "  '2392579__zebra__0.9999969.jpg': 1,\n",
       "  '2382183__pizza__0.99998593.jpg': 5,\n",
       "  '2380319__broccoli__0.9999957.jpg': 4,\n",
       "  '2385461__zebra__0.99998415.jpg': 1,\n",
       "  '2377471__pizza__0.9999988.jpg': 5,\n",
       "  '2417421__parking_meter__0.9999999.jpg': 0,\n",
       "  '2401217__traffic_light__0.9999895.jpg': 3,\n",
       "  '2379489__parking_meter__0.9999989.jpg': 0,\n",
       "  '2395038__zebra__0.9999976.jpg': 1,\n",
       "  '2415737__parking_meter__0.99999785.jpg': 0,\n",
       "  '2405280__zebra__0.9999938.jpg': 1,\n",
       "  '2386049__king_penguin__0.99999917.jpg': -1,\n",
       "  '2402264__zebra__0.9999931.jpg': 1,\n",
       "  '2414335__refrigerator__0.9999889.jpg': -1,\n",
       "  '2407130__umbrella__0.9999888.jpg': 6,\n",
       "  '2395787__pizza__0.99999535.jpg': 5,\n",
       "  '2414892__pizza__0.99999857.jpg': 5,\n",
       "  '1328__coil__0.99999607.jpg': -1,\n",
       "  '2417382__zebra__0.9999864.jpg': 1,\n",
       "  '2382589__zebra__0.9999982.jpg': 1,\n",
       "  '2382913__zebra__0.9999883.jpg': 1,\n",
       "  '2412027__school_bus__0.99998724.jpg': -1,\n",
       "  '2394082__street_sign__0.99999905.jpg': 7,\n",
       "  '2412267__zebra__0.9999939.jpg': 1,\n",
       "  '2403199__zebra__0.9999869.jpg': 1,\n",
       "  '2414996__park_bench__0.9999907.jpg': 8,\n",
       "  '2380189__zebra__0.9999993.jpg': 1,\n",
       "  '2404955__banana__0.9999995.jpg': 9,\n",
       "  '2407788__pizza__0.99999785.jpg': 5,\n",
       "  '2385034__zebra__0.9999981.jpg': 1,\n",
       "  '2382474__bow_tie__0.9999982.jpg': -1,\n",
       "  '2409822__steam_locomotive__0.9999906.jpg': -1,\n",
       "  '2381648__zebra__0.9999995.jpg': 1,\n",
       "  '2378170__zebra__0.9999902.jpg': 1,\n",
       "  '2389163__zebra__0.9999957.jpg': 1,\n",
       "  '2384145__street_sign__0.9999987.jpg': 7,\n",
       "  '2390296__umbrella__0.99999106.jpg': 6,\n",
       "  '2410336__zebra__0.99999547.jpg': 1,\n",
       "  '2383569__parking_meter__0.9999988.jpg': 0,\n",
       "  '2395716__pizza__0.9999968.jpg': 5,\n",
       "  '2397486__zebra__0.9999875.jpg': 1,\n",
       "  '2381879__zebra__0.99999523.jpg': 1,\n",
       "  '2414384__ski__0.9999949.jpg': 2,\n",
       "  '2406209__brown_bear__0.999985.jpg': 10,\n",
       "  '2380019__zebra__0.9999926.jpg': 1,\n",
       "  '2387034__zebra__0.9999896.jpg': 1,\n",
       "  '2380447__bullet_train__0.9999869.jpg': -1,\n",
       "  '2377698__zebra__0.9999999.jpg': 1,\n",
       "  '2411665__zebra__0.99998856.jpg': 1,\n",
       "  '2409550__street_sign__0.99999905.jpg': 7,\n",
       "  '2396153__brown_bear__0.9999938.jpg': 10,\n",
       "  '2391701__zebra__0.9999912.jpg': 1,\n",
       "  '2413521__parking_meter__0.99999976.jpg': 0,\n",
       "  '2415648__broccoli__0.9999943.jpg': 4,\n",
       "  '2401224__zebra__0.9999882.jpg': 1,\n",
       "  '2378358__park_bench__0.99999833.jpg': 8,\n",
       "  '2415567__zebra__0.9999902.jpg': 1,\n",
       "  '2409765__zebra__0.99999833.jpg': 1,\n",
       "  '2394019__zebra__0.99999285.jpg': 1,\n",
       "  '4673__triumphal_arch__0.9999893.jpg': -1,\n",
       "  '2409063__zebra__0.999997.jpg': 1,\n",
       "  '2391408__traffic_light__0.99999654.jpg': 3,\n",
       "  '2402056__toilet_seat__0.99999917.jpg': -1,\n",
       "  '2387038__street_sign__0.9999888.jpg': 7,\n",
       "  '2413227__park_bench__0.99998546.jpg': 8,\n",
       "  '2412939__forklift__0.9999883.jpg': -1,\n",
       "  '2411097__zebra__0.9999974.jpg': 1,\n",
       "  '2408719__ski__0.99999297.jpg': 2,\n",
       "  '2380925__zebra__0.9999987.jpg': 1,\n",
       "  '2392124__zebra__0.99999523.jpg': 1,\n",
       "  '2417938__banana__0.9999944.jpg': 9,\n",
       "  '2393774__zebra__0.9999995.jpg': 1,\n",
       "  '2400622__zebra__0.9999901.jpg': 1,\n",
       "  '2409589__zebra__0.99999976.jpg': 1,\n",
       "  '2416408__zebra__0.9999962.jpg': 1,\n",
       "  '2385187__street_sign__0.99999595.jpg': 7,\n",
       "  '2399217__umbrella__0.9999863.jpg': 6,\n",
       "  '2405042__parking_meter__0.99999094.jpg': 0,\n",
       "  '2382436__park_bench__0.99999964.jpg': 8,\n",
       "  '2414513__bagel__0.9999893.jpg': -1,\n",
       "  '4099__pool_table__0.9999945.jpg': -1,\n",
       "  '2411407__zebra__0.9999969.jpg': 1,\n",
       "  '2401906__parking_meter__1.0.jpg': 0,\n",
       "  '576__gondola__0.9999993.jpg': 11,\n",
       "  '2380905__gondola__0.9999888.jpg': 11,\n",
       "  '2410081__parking_meter__1.0.jpg': 0,\n",
       "  '2414760__zebra__0.9999895.jpg': 1,\n",
       "  '2403338__seat_belt__0.99999917.jpg': -1,\n",
       "  '2402132__traffic_light__0.9999951.jpg': 3,\n",
       "  '2392730__pizza__0.9999974.jpg': 5,\n",
       "  '2409266__zebra__0.99999774.jpg': 1,\n",
       "  '2388441__banana__0.9999993.jpg': 9,\n",
       "  '2402745__bullet_train__0.99999857.jpg': -1,\n",
       "  '2411390__parking_meter__0.9999988.jpg': 0,\n",
       "  '2411841__zebra__0.99999833.jpg': 1,\n",
       "  '2378523__banana__0.99999785.jpg': 9,\n",
       "  '2383706__umbrella__0.9999994.jpg': 6,\n",
       "  '2417055__broccoli__0.9999864.jpg': 4,\n",
       "  '2404051__street_sign__0.9999999.jpg': 7,\n",
       "  '2389131__pizza__0.9999943.jpg': 5,\n",
       "  '2401921__zebra__0.99999845.jpg': 1,\n",
       "  '2411784__traffic_light__0.9999945.jpg': 3,\n",
       "  '2392818__park_bench__0.99999.jpg': 8,\n",
       "  '2410974__toilet_seat__0.9999939.jpg': -1,\n",
       "  '2395510__traffic_light__0.9999993.jpg': 3,\n",
       "  '2387437__parking_meter__0.9999839.jpg': 0,\n",
       "  '2382909__zebra__0.9999988.jpg': 1,\n",
       "  '2379086__zebra__0.9999975.jpg': 1,\n",
       "  '2384755__street_sign__0.9999924.jpg': 7,\n",
       "  '2377620__zebra__0.9999882.jpg': 1,\n",
       "  '2401691__pineapple__0.999998.jpg': -1,\n",
       "  '2408970__zebra__0.9999865.jpg': 1,\n",
       "  '2409953__brown_bear__0.99998903.jpg': 10,\n",
       "  '577__gondola__0.9999962.jpg': 11,\n",
       "  '2413024__banana__1.0.jpg': 9,\n",
       "  '2405041__broccoli__0.99999845.jpg': 4,\n",
       "  '2386068__zebra__0.9999949.jpg': 1,\n",
       "  '2413786__parking_meter__0.9999925.jpg': 0,\n",
       "  '2411646__banana__0.99999595.jpg': 9,\n",
       "  '2382792__umbrella__0.9999838.jpg': 6,\n",
       "  '2386750__pizza__0.9999889.jpg': 5,\n",
       "  '2392619__zebra__0.9999875.jpg': 1,\n",
       "  '2385767__zebra__0.9999958.jpg': 1,\n",
       "  '2389324__zebra__0.9999993.jpg': 1,\n",
       "  '2412402__zebra__0.9999877.jpg': 1,\n",
       "  '2385039__zebra__0.9999844.jpg': 1,\n",
       "  '2410440__parking_meter__0.99999106.jpg': 0,\n",
       "  '2398975__umbrella__0.9999958.jpg': 6,\n",
       "  '2411645__parking_meter__0.999985.jpg': 0,\n",
       "  '2392349__umbrella__0.9999994.jpg': 6,\n",
       "  '1222__pool_table__0.9999995.jpg': -1,\n",
       "  '2386456__zebra__0.9999989.jpg': 1,\n",
       "  '2405210__pizza__0.9999869.jpg': 5,\n",
       "  '2383286__zebra__0.99999857.jpg': 1,\n",
       "  '2380865__traffic_light__0.99999714.jpg': 3,\n",
       "  '2409472__umbrella__0.9999845.jpg': 6,\n",
       "  '2416516__zebra__0.99999714.jpg': 1,\n",
       "  '2392324__traffic_light__0.9999964.jpg': 3,\n",
       "  '2402950__zebra__0.99999344.jpg': 1,\n",
       "  '2417586__zebra__0.99999535.jpg': 1},\n",
       " 1: {'2412027__school_bus__0.99998724.jpg': -1,\n",
       "  '2387034__zebra__0.9999896.jpg': 0,\n",
       "  '2382183__pizza__0.99998593.jpg': 1,\n",
       "  '2386068__zebra__0.9999949.jpg': 0,\n",
       "  '2410974__toilet_seat__0.9999939.jpg': 2,\n",
       "  '2382589__zebra__0.9999982.jpg': 0,\n",
       "  '2381932__traffic_light__0.99999964.jpg': 3,\n",
       "  '2380905__gondola__0.9999888.jpg': 4,\n",
       "  '2412402__zebra__0.9999877.jpg': 0,\n",
       "  '2413786__parking_meter__0.9999925.jpg': 5,\n",
       "  '2382913__zebra__0.9999883.jpg': 0,\n",
       "  '2399675__zebra__0.9999883.jpg': 0,\n",
       "  '576__gondola__0.9999993.jpg': 4,\n",
       "  '2411665__zebra__0.99998856.jpg': 0,\n",
       "  '2409063__zebra__0.999997.jpg': 0,\n",
       "  '1222__pool_table__0.9999995.jpg': 6,\n",
       "  '1328__coil__0.99999607.jpg': -1,\n",
       "  '2405041__broccoli__0.99999845.jpg': 7,\n",
       "  '2386193__broccoli__0.9999924.jpg': 7,\n",
       "  '2403403__banana__0.9999926.jpg': 8,\n",
       "  '2401906__parking_meter__1.0.jpg': 5,\n",
       "  '2377471__pizza__0.9999988.jpg': 1,\n",
       "  '2384755__street_sign__0.9999924.jpg': 9,\n",
       "  '2410779__parking_meter__0.99999917.jpg': 5,\n",
       "  '2391862__broccoli__0.99999714.jpg': 7,\n",
       "  '2385298__parking_meter__0.9999865.jpg': 5,\n",
       "  '2411097__zebra__0.9999974.jpg': 0,\n",
       "  '2417055__broccoli__0.9999864.jpg': 7,\n",
       "  '2403741__zebra__0.99999523.jpg': 0,\n",
       "  '2414513__bagel__0.9999893.jpg': -1,\n",
       "  '2411196__crane__0.9999995.jpg': -1,\n",
       "  '577__gondola__0.9999962.jpg': 4,\n",
       "  '2405905__traffic_light__0.99999535.jpg': 3,\n",
       "  '2386456__zebra__0.9999989.jpg': 0,\n",
       "  '2405280__zebra__0.9999938.jpg': 0,\n",
       "  '2415648__broccoli__0.9999943.jpg': 7,\n",
       "  '2385187__street_sign__0.99999595.jpg': 9,\n",
       "  '2385039__zebra__0.9999844.jpg': 0,\n",
       "  '2395716__pizza__0.9999968.jpg': 1,\n",
       "  '2402056__toilet_seat__0.99999917.jpg': 2,\n",
       "  '2416408__zebra__0.9999962.jpg': 0,\n",
       "  '2414996__park_bench__0.9999907.jpg': 10,\n",
       "  '2417395__zebra__0.9999993.jpg': 0,\n",
       "  '2379489__parking_meter__0.9999989.jpg': 5,\n",
       "  '2409822__steam_locomotive__0.9999906.jpg': 11,\n",
       "  '2385034__zebra__0.9999981.jpg': 0,\n",
       "  '4339__manhole_cover__0.99999416.jpg': -1,\n",
       "  '2413521__parking_meter__0.99999976.jpg': 5,\n",
       "  '2404127__zebra__0.9999933.jpg': 0,\n",
       "  '2387305__traffic_light__1.0.jpg': -1,\n",
       "  '2392124__zebra__0.99999523.jpg': 0,\n",
       "  '2395787__pizza__0.99999535.jpg': 1,\n",
       "  '2417382__zebra__0.9999864.jpg': 0,\n",
       "  '2392730__pizza__0.9999974.jpg': 1,\n",
       "  '2415567__zebra__0.9999902.jpg': 0,\n",
       "  '2387038__street_sign__0.9999888.jpg': 9,\n",
       "  '2401217__traffic_light__0.9999895.jpg': 12,\n",
       "  '2412267__zebra__0.9999939.jpg': 0,\n",
       "  '2405210__pizza__0.9999869.jpg': 1,\n",
       "  '2400622__zebra__0.9999901.jpg': 0,\n",
       "  '2395038__zebra__0.9999976.jpg': 0,\n",
       "  '2404051__street_sign__0.9999999.jpg': 9,\n",
       "  '2391964__flamingo__1.0.jpg': -1,\n",
       "  '2382909__zebra__0.9999988.jpg': 0,\n",
       "  '2413495__traffic_light__0.9999925.jpg': 3,\n",
       "  '2380189__zebra__0.9999993.jpg': 0,\n",
       "  '2380017__zebra__0.9999995.jpg': 0,\n",
       "  '2411646__banana__0.99999595.jpg': 8,\n",
       "  '2403338__seat_belt__0.99999917.jpg': -1,\n",
       "  '2380925__zebra__0.9999987.jpg': 0,\n",
       "  '2415102__zebra__0.9999876.jpg': 0,\n",
       "  '2407788__pizza__0.99999785.jpg': 1,\n",
       "  '2404229__zebra__0.99998367.jpg': 0,\n",
       "  '2414892__pizza__0.99999857.jpg': 1,\n",
       "  '2410410__ski__0.99999356.jpg': 13,\n",
       "  '2381968__ski__0.999984.jpg': 13,\n",
       "  '2380019__zebra__0.9999926.jpg': 0,\n",
       "  '2409637__four-poster__0.99999464.jpg': -1,\n",
       "  '134__zebra__0.9999949.jpg': 0,\n",
       "  '4673__triumphal_arch__0.9999893.jpg': -1,\n",
       "  '2416516__zebra__0.99999714.jpg': 0,\n",
       "  '2382474__bow_tie__0.9999982.jpg': 14,\n",
       "  '2398975__umbrella__0.9999958.jpg': 15,\n",
       "  '2381879__zebra__0.99999523.jpg': 0,\n",
       "  '2388441__banana__0.9999993.jpg': 8,\n",
       "  '2407130__umbrella__0.9999888.jpg': -1,\n",
       "  '2399217__umbrella__0.9999863.jpg': 15,\n",
       "  '4099__pool_table__0.9999945.jpg': 6,\n",
       "  '2398771__traffic_light__0.99999.jpg': 12,\n",
       "  '2411645__parking_meter__0.999985.jpg': 5,\n",
       "  '2410440__parking_meter__0.99999106.jpg': 5,\n",
       "  '2400121__pizza__0.9999962.jpg': 1,\n",
       "  '2383286__zebra__0.99999857.jpg': 0,\n",
       "  '2409550__street_sign__0.99999905.jpg': 9,\n",
       "  '2411407__zebra__0.9999969.jpg': 0,\n",
       "  '2383569__parking_meter__0.9999988.jpg': 5,\n",
       "  '2411841__zebra__0.99999833.jpg': 0,\n",
       "  '2380447__bullet_train__0.9999869.jpg': 16,\n",
       "  '2412908__zebra__0.99998975.jpg': 0,\n",
       "  '2392405__parking_meter__0.9999993.jpg': 5,\n",
       "  '2396034__remote_control__0.9999856.jpg': -1,\n",
       "  '2398585__bow_tie__0.9999838.jpg': 14,\n",
       "  '2386750__pizza__0.9999889.jpg': 1,\n",
       "  '2383706__umbrella__0.9999994.jpg': 15,\n",
       "  '2382436__park_bench__0.99999964.jpg': 10,\n",
       "  '2409266__zebra__0.99999774.jpg': 0,\n",
       "  '2384145__street_sign__0.9999987.jpg': 9,\n",
       "  '2404583__umbrella__0.99999297.jpg': 15,\n",
       "  '2409472__umbrella__0.9999845.jpg': 15,\n",
       "  '2411372__parking_meter__0.999995.jpg': 5,\n",
       "  '2381941__zebra__0.9999914.jpg': 0,\n",
       "  '2402745__bullet_train__0.99999857.jpg': 16,\n",
       "  '2408592__goose__0.999998.jpg': -1,\n",
       "  '2407951__zebra__0.9999975.jpg': 0,\n",
       "  '2391701__zebra__0.9999912.jpg': 0,\n",
       "  '2385461__zebra__0.99998415.jpg': 0,\n",
       "  '2378523__banana__0.99999785.jpg': 8,\n",
       "  '2406581__zebra__0.9999939.jpg': 0,\n",
       "  '2377620__zebra__0.9999882.jpg': 0,\n",
       "  '2409953__brown_bear__0.99998903.jpg': -1,\n",
       "  '2381648__zebra__0.9999995.jpg': 0,\n",
       "  '2417421__parking_meter__0.9999999.jpg': 5,\n",
       "  '2402132__traffic_light__0.9999951.jpg': 12,\n",
       "  '2410081__parking_meter__1.0.jpg': 5,\n",
       "  '2402950__zebra__0.99999344.jpg': 0,\n",
       "  '2413024__banana__1.0.jpg': 8,\n",
       "  '2394019__zebra__0.99999285.jpg': 0,\n",
       "  '2404281__zebra__0.999998.jpg': 0,\n",
       "  '2392619__zebra__0.9999875.jpg': 0,\n",
       "  '2410903__steam_locomotive__0.9999876.jpg': 11,\n",
       "  '2378358__park_bench__0.99999833.jpg': 10,\n",
       "  '2413227__park_bench__0.99998546.jpg': 10,\n",
       "  '2401691__pineapple__0.999998.jpg': -1,\n",
       "  '2409765__zebra__0.99999833.jpg': 0,\n",
       "  '2397486__zebra__0.9999875.jpg': 0,\n",
       "  '2384512__zebra__0.99999726.jpg': 0,\n",
       "  '2395510__traffic_light__0.9999993.jpg': 3,\n",
       "  '2408970__zebra__0.9999865.jpg': 0,\n",
       "  '2417881__zebra__0.9999945.jpg': 0,\n",
       "  '4534__viaduct__0.9999877.jpg': -1,\n",
       "  '2408884__zebra__0.9999913.jpg': 0,\n",
       "  '2394082__street_sign__0.99999905.jpg': 9,\n",
       "  '2389131__pizza__0.9999943.jpg': 1,\n",
       "  '2401383__slug__0.9999933.jpg': -1,\n",
       "  '2410336__zebra__0.99999547.jpg': 0,\n",
       "  '2385767__zebra__0.9999958.jpg': 0,\n",
       "  '4573__barrel__0.9999974.jpg': -1,\n",
       "  '2414335__refrigerator__0.9999889.jpg': -1,\n",
       "  '2415910__zebra__0.9999962.jpg': 0,\n",
       "  '2402264__zebra__0.9999931.jpg': 0,\n",
       "  '2416627__zebra__0.9999987.jpg': 0,\n",
       "  '2406887__ski__0.99999785.jpg': 13,\n",
       "  '2401921__zebra__0.99999845.jpg': 0,\n",
       "  '2401224__zebra__0.9999882.jpg': 0,\n",
       "  '2417586__zebra__0.99999535.jpg': 0,\n",
       "  '2392324__traffic_light__0.9999964.jpg': 3,\n",
       "  '2414760__zebra__0.9999895.jpg': 0},\n",
       " 2: {'2417881__zebra__0.9999945.jpg': 0,\n",
       "  '2414384__ski__0.9999949.jpg': 1,\n",
       "  '2380017__zebra__0.9999995.jpg': 0,\n",
       "  '2402056__toilet_seat__0.99999917.jpg': 2,\n",
       "  '2409765__zebra__0.99999833.jpg': 0,\n",
       "  '2387437__parking_meter__0.9999839.jpg': 3,\n",
       "  '2415102__zebra__0.9999876.jpg': 0,\n",
       "  '2380865__traffic_light__0.99999714.jpg': 4,\n",
       "  '2384145__street_sign__0.9999987.jpg': 5,\n",
       "  '2417938__banana__0.9999944.jpg': 6,\n",
       "  '2416516__zebra__0.99999714.jpg': 0,\n",
       "  '2382909__zebra__0.9999988.jpg': 0,\n",
       "  '2382436__park_bench__0.99999964.jpg': 7,\n",
       "  '2411646__banana__0.99999595.jpg': 6,\n",
       "  '2402132__traffic_light__0.9999951.jpg': 4,\n",
       "  '2387305__traffic_light__1.0.jpg': 4,\n",
       "  '1328__coil__0.99999607.jpg': -1,\n",
       "  '2411372__parking_meter__0.999995.jpg': 3,\n",
       "  '2396153__brown_bear__0.9999938.jpg': 8,\n",
       "  '2385187__street_sign__0.99999595.jpg': 5,\n",
       "  '2406209__brown_bear__0.999985.jpg': 8,\n",
       "  '2397486__zebra__0.9999875.jpg': 0,\n",
       "  '2392619__zebra__0.9999875.jpg': 0,\n",
       "  '2396034__remote_control__0.9999856.jpg': -1,\n",
       "  '2404229__zebra__0.99998367.jpg': 0,\n",
       "  '2395038__zebra__0.9999976.jpg': 0,\n",
       "  '2400121__pizza__0.9999962.jpg': 9,\n",
       "  '2403199__zebra__0.9999869.jpg': 0,\n",
       "  '2392405__parking_meter__0.9999993.jpg': 3,\n",
       "  '2385034__zebra__0.9999981.jpg': 0,\n",
       "  '2380189__zebra__0.9999993.jpg': 0,\n",
       "  '2413495__traffic_light__0.9999925.jpg': 4,\n",
       "  '2414277__zebra__0.9999908.jpg': 0,\n",
       "  '2378523__banana__0.99999785.jpg': 6,\n",
       "  '2408884__zebra__0.9999913.jpg': 0,\n",
       "  '2409589__zebra__0.99999976.jpg': 0,\n",
       "  '2417055__broccoli__0.9999864.jpg': 10,\n",
       "  '2415737__parking_meter__0.99999785.jpg': 3,\n",
       "  '2402950__zebra__0.99999344.jpg': 0,\n",
       "  '2377471__pizza__0.9999988.jpg': 9,\n",
       "  '2413227__park_bench__0.99998546.jpg': 7,\n",
       "  '2412267__zebra__0.9999939.jpg': 0,\n",
       "  '2410903__steam_locomotive__0.9999876.jpg': 11,\n",
       "  '2414892__pizza__0.99999857.jpg': 9,\n",
       "  '2417586__zebra__0.99999535.jpg': 0,\n",
       "  '1222__pool_table__0.9999995.jpg': -1,\n",
       "  '2411645__parking_meter__0.999985.jpg': 3,\n",
       "  '2391918__steam_locomotive__0.99999845.jpg': 11,\n",
       "  '2406887__ski__0.99999785.jpg': 1,\n",
       "  '2414996__park_bench__0.9999907.jpg': 7,\n",
       "  '2403338__seat_belt__0.99999917.jpg': -1,\n",
       "  '2378358__park_bench__0.99999833.jpg': 7,\n",
       "  '2416228__parking_meter__0.9999914.jpg': 3,\n",
       "  '4573__barrel__0.9999974.jpg': -1,\n",
       "  '2377698__zebra__0.9999999.jpg': 0,\n",
       "  '2398975__umbrella__0.9999958.jpg': 12,\n",
       "  '2386068__zebra__0.9999949.jpg': 0,\n",
       "  '2406857__zebra__0.9999894.jpg': 0,\n",
       "  '2409953__brown_bear__0.99998903.jpg': 8,\n",
       "  '2389131__pizza__0.9999943.jpg': 9,\n",
       "  '2392579__zebra__0.9999969.jpg': 0,\n",
       "  '2409637__four-poster__0.99999464.jpg': -1,\n",
       "  '2379489__parking_meter__0.9999989.jpg': 3,\n",
       "  '2380669__parking_meter__0.9999993.jpg': 3,\n",
       "  '2382589__zebra__0.9999982.jpg': 0,\n",
       "  '2391701__zebra__0.9999912.jpg': 0,\n",
       "  '2405479__traffic_light__0.9999939.jpg': 4,\n",
       "  '2413786__parking_meter__0.9999925.jpg': 3,\n",
       "  '2405905__traffic_light__0.99999535.jpg': 4,\n",
       "  '2380447__bullet_train__0.9999869.jpg': -1,\n",
       "  '2386750__pizza__0.9999889.jpg': 9,\n",
       "  '4673__triumphal_arch__0.9999893.jpg': -1,\n",
       "  '2412908__zebra__0.99998975.jpg': 0,\n",
       "  '2387038__street_sign__0.9999888.jpg': 5,\n",
       "  '2392124__zebra__0.99999523.jpg': 0,\n",
       "  '2411665__zebra__0.99998856.jpg': 0,\n",
       "  '2382913__zebra__0.9999883.jpg': 0,\n",
       "  '2404281__zebra__0.999998.jpg': 0,\n",
       "  '2409266__zebra__0.99999774.jpg': 0,\n",
       "  '2383706__umbrella__0.9999994.jpg': 12,\n",
       "  '576__gondola__0.9999993.jpg': 13,\n",
       "  '2386049__king_penguin__0.99999917.jpg': -1,\n",
       "  '2411784__traffic_light__0.9999945.jpg': 4,\n",
       "  '2394019__zebra__0.99999285.jpg': 0,\n",
       "  '2412027__school_bus__0.99998724.jpg': -1,\n",
       "  '2408719__ski__0.99999297.jpg': 1,\n",
       "  '2407130__umbrella__0.9999888.jpg': 12,\n",
       "  '2395510__traffic_light__0.9999993.jpg': 4,\n",
       "  '2379086__zebra__0.9999975.jpg': 0,\n",
       "  '2417382__zebra__0.9999864.jpg': 0,\n",
       "  '2382474__bow_tie__0.9999982.jpg': 14,\n",
       "  '2385461__zebra__0.99998415.jpg': 0,\n",
       "  '2405280__zebra__0.9999938.jpg': 0,\n",
       "  '2398585__bow_tie__0.9999838.jpg': 14,\n",
       "  '2393774__zebra__0.9999995.jpg': 0,\n",
       "  '577__gondola__0.9999962.jpg': 13,\n",
       "  '2381932__traffic_light__0.99999964.jpg': 4,\n",
       "  '2387034__zebra__0.9999896.jpg': 0,\n",
       "  '2401921__zebra__0.99999845.jpg': 0,\n",
       "  '2415910__zebra__0.9999962.jpg': 0,\n",
       "  '2388889__hotdog__0.99999714.jpg': -1,\n",
       "  '2410410__ski__0.99999356.jpg': 1,\n",
       "  '2391862__broccoli__0.99999714.jpg': 10,\n",
       "  '2409472__umbrella__0.9999845.jpg': 12,\n",
       "  '2416627__zebra__0.9999987.jpg': 0,\n",
       "  '2415567__zebra__0.9999902.jpg': 0,\n",
       "  '2404583__umbrella__0.99999297.jpg': 12,\n",
       "  '2384512__zebra__0.99999726.jpg': 0,\n",
       "  '2404051__street_sign__0.9999999.jpg': 5,\n",
       "  '2381968__ski__0.999984.jpg': 1,\n",
       "  '2377620__zebra__0.9999882.jpg': 0,\n",
       "  '2413024__banana__1.0.jpg': 6,\n",
       "  '2394082__street_sign__0.99999905.jpg': 5,\n",
       "  '2415402__zebra__0.99998903.jpg': 0,\n",
       "  '2409822__steam_locomotive__0.9999906.jpg': 11,\n",
       "  '2392730__pizza__0.9999974.jpg': 9,\n",
       "  '2380319__broccoli__0.9999957.jpg': 10,\n",
       "  '2381941__zebra__0.9999914.jpg': 0,\n",
       "  '2388441__banana__0.9999993.jpg': 6,\n",
       "  '2381879__zebra__0.99999523.jpg': 0,\n",
       "  '2415648__broccoli__0.9999943.jpg': 10,\n",
       "  '2404955__banana__0.9999995.jpg': 6,\n",
       "  '2398771__traffic_light__0.99999.jpg': 4,\n",
       "  '2411390__parking_meter__0.9999988.jpg': 3,\n",
       "  '2410974__toilet_seat__0.9999939.jpg': 2,\n",
       "  '2380925__zebra__0.9999987.jpg': 0,\n",
       "  '2405042__parking_meter__0.99999094.jpg': 3,\n",
       "  '2395716__pizza__0.9999968.jpg': 9,\n",
       "  '2411841__zebra__0.99999833.jpg': 0,\n",
       "  '4339__manhole_cover__0.99999416.jpg': -1,\n",
       "  '2385298__parking_meter__0.9999865.jpg': 3,\n",
       "  '2386193__broccoli__0.9999924.jpg': 10,\n",
       "  '2406581__zebra__0.9999939.jpg': 0,\n",
       "  '2413521__parking_meter__0.99999976.jpg': 3,\n",
       "  '2410081__parking_meter__1.0.jpg': 3,\n",
       "  '2403403__banana__0.9999926.jpg': 6,\n",
       "  '2385039__zebra__0.9999844.jpg': 0,\n",
       "  '2417421__parking_meter__0.9999999.jpg': 3,\n",
       "  '2416408__zebra__0.9999962.jpg': 0,\n",
       "  '134__zebra__0.9999949.jpg': 0,\n",
       "  '2401217__traffic_light__0.9999895.jpg': 4,\n",
       "  '2410779__parking_meter__0.99999917.jpg': 3,\n",
       "  '2403741__zebra__0.99999523.jpg': 0,\n",
       "  '2408592__goose__0.999998.jpg': -1,\n",
       "  '2410440__parking_meter__0.99999106.jpg': 3,\n",
       "  '2405210__pizza__0.9999869.jpg': 9,\n",
       "  '2408701__zebra__0.9999981.jpg': 0,\n",
       "  '2412939__forklift__0.9999883.jpg': -1,\n",
       "  '2380019__zebra__0.9999926.jpg': 0,\n",
       "  '2392818__park_bench__0.99999.jpg': 7,\n",
       "  '2381648__zebra__0.9999995.jpg': 0,\n",
       "  '2385767__zebra__0.9999958.jpg': 0,\n",
       "  '2411196__crane__0.9999995.jpg': -1,\n",
       "  '2390296__umbrella__0.99999106.jpg': 12,\n",
       "  '2400622__zebra__0.9999901.jpg': 0,\n",
       "  '2402264__zebra__0.9999931.jpg': 0,\n",
       "  '4534__viaduct__0.9999877.jpg': -1},\n",
       " 3: {'2410410__ski__0.99999356.jpg': 0,\n",
       "  '2394019__zebra__0.99999285.jpg': 1,\n",
       "  '2417055__broccoli__0.9999864.jpg': 2,\n",
       "  '2392579__zebra__0.9999969.jpg': 1,\n",
       "  '2417881__zebra__0.9999945.jpg': 1,\n",
       "  '2389324__zebra__0.9999993.jpg': 1,\n",
       "  '2409266__zebra__0.99999774.jpg': 1,\n",
       "  '4099__pool_table__0.9999945.jpg': 3,\n",
       "  '2415402__zebra__0.99998903.jpg': 1,\n",
       "  '2386068__zebra__0.9999949.jpg': 1,\n",
       "  '2410440__parking_meter__0.99999106.jpg': 4,\n",
       "  '2385039__zebra__0.9999844.jpg': 1,\n",
       "  '2382909__zebra__0.9999988.jpg': 1,\n",
       "  '2413024__banana__1.0.jpg': 5,\n",
       "  '2396153__brown_bear__0.9999938.jpg': 6,\n",
       "  '2380925__zebra__0.9999987.jpg': 1,\n",
       "  '2383569__parking_meter__0.9999988.jpg': 4,\n",
       "  '2392349__umbrella__0.9999994.jpg': 7,\n",
       "  '2407788__pizza__0.99999785.jpg': 8,\n",
       "  '2381932__traffic_light__0.99999964.jpg': 9,\n",
       "  '2408884__zebra__0.9999913.jpg': 1,\n",
       "  '2413495__traffic_light__0.9999925.jpg': 9,\n",
       "  '2384145__street_sign__0.9999987.jpg': 10,\n",
       "  '4573__barrel__0.9999974.jpg': -1,\n",
       "  '2391408__traffic_light__0.99999654.jpg': 11,\n",
       "  '2414277__zebra__0.9999908.jpg': 1,\n",
       "  '2411097__zebra__0.9999974.jpg': 1,\n",
       "  '2392405__parking_meter__0.9999993.jpg': 4,\n",
       "  '2385187__street_sign__0.99999595.jpg': 10,\n",
       "  '2406209__brown_bear__0.999985.jpg': 6,\n",
       "  '2415648__broccoli__0.9999943.jpg': 2,\n",
       "  '2398585__bow_tie__0.9999838.jpg': -1,\n",
       "  '2380017__zebra__0.9999995.jpg': 1,\n",
       "  '2401921__zebra__0.99999845.jpg': 1,\n",
       "  '2406581__zebra__0.9999939.jpg': 1,\n",
       "  '2386750__pizza__0.9999889.jpg': 8,\n",
       "  '2395716__pizza__0.9999968.jpg': 8,\n",
       "  '2382589__zebra__0.9999982.jpg': 1,\n",
       "  '2377698__zebra__0.9999999.jpg': 1,\n",
       "  '2400121__pizza__0.9999962.jpg': 8,\n",
       "  '2414335__refrigerator__0.9999889.jpg': -1,\n",
       "  '2385298__parking_meter__0.9999865.jpg': 4,\n",
       "  '2408592__goose__0.999998.jpg': -1,\n",
       "  '2401383__slug__0.9999933.jpg': -1,\n",
       "  '2414513__bagel__0.9999893.jpg': -1,\n",
       "  '2414996__park_bench__0.9999907.jpg': 12,\n",
       "  '2404281__zebra__0.999998.jpg': 1,\n",
       "  '2415910__zebra__0.9999962.jpg': 1,\n",
       "  '2417938__banana__0.9999944.jpg': -1,\n",
       "  '2383706__umbrella__0.9999994.jpg': 7,\n",
       "  '2406857__zebra__0.9999894.jpg': 1,\n",
       "  '2380447__bullet_train__0.9999869.jpg': -1,\n",
       "  '4339__manhole_cover__0.99999416.jpg': -1,\n",
       "  '2400622__zebra__0.9999901.jpg': 1,\n",
       "  '2390296__umbrella__0.99999106.jpg': 7,\n",
       "  '2414760__zebra__0.9999895.jpg': 1,\n",
       "  '2404583__umbrella__0.99999297.jpg': 7,\n",
       "  '2417421__parking_meter__0.9999999.jpg': 4,\n",
       "  '2417395__zebra__0.9999993.jpg': 1,\n",
       "  '2415567__zebra__0.9999902.jpg': 1,\n",
       "  '2401224__zebra__0.9999882.jpg': 1,\n",
       "  '2410336__zebra__0.99999547.jpg': 1,\n",
       "  '2410779__parking_meter__0.99999917.jpg': 4,\n",
       "  '2389131__pizza__0.9999943.jpg': 8,\n",
       "  '2380669__parking_meter__0.9999993.jpg': 4,\n",
       "  '2380865__traffic_light__0.99999714.jpg': 9,\n",
       "  '2414892__pizza__0.99999857.jpg': 8,\n",
       "  '2411407__zebra__0.9999969.jpg': 1,\n",
       "  '2411646__banana__0.99999595.jpg': 5,\n",
       "  '2398771__traffic_light__0.99999.jpg': 11,\n",
       "  '2413521__parking_meter__0.99999976.jpg': 4,\n",
       "  '2386193__broccoli__0.9999924.jpg': 2,\n",
       "  '2395787__pizza__0.99999535.jpg': 8,\n",
       "  '2412027__school_bus__0.99998724.jpg': -1,\n",
       "  '2381879__zebra__0.99999523.jpg': 1,\n",
       "  '2417382__zebra__0.9999864.jpg': 1,\n",
       "  '2403741__zebra__0.99999523.jpg': 1,\n",
       "  '2382436__park_bench__0.99999964.jpg': -1,\n",
       "  '2409637__four-poster__0.99999464.jpg': -1,\n",
       "  '2377620__zebra__0.9999882.jpg': 1,\n",
       "  '2409550__street_sign__0.99999905.jpg': 10,\n",
       "  '2398975__umbrella__0.9999958.jpg': 7,\n",
       "  '4534__viaduct__0.9999877.jpg': -1,\n",
       "  '2415737__parking_meter__0.99999785.jpg': 4,\n",
       "  '2401217__traffic_light__0.9999895.jpg': -1,\n",
       "  '2409589__zebra__0.99999976.jpg': 1,\n",
       "  '134__zebra__0.9999949.jpg': 1,\n",
       "  '2405280__zebra__0.9999938.jpg': 1,\n",
       "  '2377471__pizza__0.9999988.jpg': 8,\n",
       "  '2395510__traffic_light__0.9999993.jpg': 9,\n",
       "  '2391918__steam_locomotive__0.99999845.jpg': 13,\n",
       "  '2399675__zebra__0.9999883.jpg': 1,\n",
       "  '2409063__zebra__0.999997.jpg': 1,\n",
       "  '4673__triumphal_arch__0.9999893.jpg': -1,\n",
       "  '2395038__zebra__0.9999976.jpg': 1,\n",
       "  '2416516__zebra__0.99999714.jpg': 1,\n",
       "  '2387305__traffic_light__1.0.jpg': 11,\n",
       "  '2385034__zebra__0.9999981.jpg': 1,\n",
       "  '2411372__parking_meter__0.999995.jpg': 4,\n",
       "  '2405210__pizza__0.9999869.jpg': 8,\n",
       "  '2385461__zebra__0.99998415.jpg': 1,\n",
       "  '2411196__crane__0.9999995.jpg': -1,\n",
       "  '2412939__forklift__0.9999883.jpg': -1,\n",
       "  '577__gondola__0.9999962.jpg': 14,\n",
       "  '2404051__street_sign__0.9999999.jpg': 10,\n",
       "  '2401691__pineapple__0.999998.jpg': -1,\n",
       "  '2412908__zebra__0.99998975.jpg': 1,\n",
       "  '2399217__umbrella__0.9999863.jpg': 7,\n",
       "  '2405041__broccoli__0.99999845.jpg': 2,\n",
       "  '2412402__zebra__0.9999877.jpg': 1,\n",
       "  '2410903__steam_locomotive__0.9999876.jpg': 13,\n",
       "  '2402950__zebra__0.99999344.jpg': 1,\n",
       "  '2393774__zebra__0.9999995.jpg': 1,\n",
       "  '2413786__parking_meter__0.9999925.jpg': 4,\n",
       "  '2384755__street_sign__0.9999924.jpg': 10,\n",
       "  '2412267__zebra__0.9999939.jpg': 1,\n",
       "  '2382913__zebra__0.9999883.jpg': 1,\n",
       "  '2379086__zebra__0.9999975.jpg': 1,\n",
       "  '2405905__traffic_light__0.99999535.jpg': 9,\n",
       "  '2378358__park_bench__0.99999833.jpg': 12,\n",
       "  '2409953__brown_bear__0.99998903.jpg': 6,\n",
       "  '2391862__broccoli__0.99999714.jpg': 2,\n",
       "  '2388441__banana__0.9999993.jpg': 5,\n",
       "  '576__gondola__0.9999993.jpg': 14,\n",
       "  '2411390__parking_meter__0.9999988.jpg': 4,\n",
       "  '2387034__zebra__0.9999896.jpg': 1,\n",
       "  '2381941__zebra__0.9999914.jpg': 1,\n",
       "  '2384512__zebra__0.99999726.jpg': 1,\n",
       "  '2405479__traffic_light__0.9999939.jpg': 9,\n",
       "  '2392124__zebra__0.99999523.jpg': 1,\n",
       "  '2392619__zebra__0.9999875.jpg': 1,\n",
       "  '2380019__zebra__0.9999926.jpg': 1,\n",
       "  '2410974__toilet_seat__0.9999939.jpg': 15,\n",
       "  '2411665__zebra__0.99998856.jpg': 1,\n",
       "  '2378170__zebra__0.9999902.jpg': 1,\n",
       "  '691__cheetah__0.99999213.jpg': -1,\n",
       "  '2404229__zebra__0.99998367.jpg': 1,\n",
       "  '2381648__zebra__0.9999995.jpg': 1,\n",
       "  '1222__pool_table__0.9999995.jpg': 3,\n",
       "  '2379489__parking_meter__0.9999989.jpg': 4,\n",
       "  '2380189__zebra__0.9999993.jpg': 1,\n",
       "  '2408719__ski__0.99999297.jpg': 0,\n",
       "  '2389484__street_sign__0.99998474.jpg': 10,\n",
       "  '2387437__parking_meter__0.9999839.jpg': 4,\n",
       "  '2407951__zebra__0.9999975.jpg': 1,\n",
       "  '2414384__ski__0.9999949.jpg': 0,\n",
       "  '2386456__zebra__0.9999989.jpg': 1,\n",
       "  '2410081__parking_meter__1.0.jpg': 4,\n",
       "  '2402056__toilet_seat__0.99999917.jpg': 15,\n",
       "  '2386049__king_penguin__0.99999917.jpg': -1,\n",
       "  '2394082__street_sign__0.99999905.jpg': 10,\n",
       "  '2385767__zebra__0.9999958.jpg': 1,\n",
       "  '2408970__zebra__0.9999865.jpg': 1,\n",
       "  '2381968__ski__0.999984.jpg': 0,\n",
       "  '2382183__pizza__0.99998593.jpg': 8,\n",
       "  '2387038__street_sign__0.9999888.jpg': 10,\n",
       "  '2417586__zebra__0.99999535.jpg': 1},\n",
       " 4: {'691__cheetah__0.99999213.jpg': -1,\n",
       "  '2402264__zebra__0.9999931.jpg': 0,\n",
       "  '2384755__street_sign__0.9999924.jpg': 1,\n",
       "  '2395716__pizza__0.9999968.jpg': 2,\n",
       "  '2392324__traffic_light__0.9999964.jpg': 3,\n",
       "  '2410440__parking_meter__0.99999106.jpg': 4,\n",
       "  '2392405__parking_meter__0.9999993.jpg': 4,\n",
       "  '2406857__zebra__0.9999894.jpg': 0,\n",
       "  '2399217__umbrella__0.9999863.jpg': 5,\n",
       "  '2405905__traffic_light__0.99999535.jpg': 3,\n",
       "  '2414277__zebra__0.9999908.jpg': 0,\n",
       "  '4673__triumphal_arch__0.9999893.jpg': -1,\n",
       "  '2409063__zebra__0.999997.jpg': 0,\n",
       "  '2413495__traffic_light__0.9999925.jpg': 3,\n",
       "  '2411407__zebra__0.9999969.jpg': 0,\n",
       "  '2394082__street_sign__0.99999905.jpg': 1,\n",
       "  '2411665__zebra__0.99998856.jpg': 0,\n",
       "  '2385034__zebra__0.9999981.jpg': 0,\n",
       "  '2388441__banana__0.9999993.jpg': 6,\n",
       "  '2391862__broccoli__0.99999714.jpg': 7,\n",
       "  '2413024__banana__1.0.jpg': 6,\n",
       "  '2381879__zebra__0.99999523.jpg': 0,\n",
       "  '2387437__parking_meter__0.9999839.jpg': 4,\n",
       "  '2380447__bullet_train__0.9999869.jpg': -1,\n",
       "  '2409266__zebra__0.99999774.jpg': 0,\n",
       "  '2406887__ski__0.99999785.jpg': 8,\n",
       "  '2413521__parking_meter__0.99999976.jpg': 4,\n",
       "  '2414335__refrigerator__0.9999889.jpg': -1,\n",
       "  '2406209__brown_bear__0.999985.jpg': 9,\n",
       "  '2393774__zebra__0.9999995.jpg': 0,\n",
       "  '2403199__zebra__0.9999869.jpg': 0,\n",
       "  '4573__barrel__0.9999974.jpg': -1,\n",
       "  '2381648__zebra__0.9999995.jpg': 0,\n",
       "  '2378523__banana__0.99999785.jpg': 6,\n",
       "  '2398771__traffic_light__0.99999.jpg': 3,\n",
       "  '2378170__zebra__0.9999902.jpg': 0,\n",
       "  '576__gondola__0.9999993.jpg': 10,\n",
       "  '2387038__street_sign__0.9999888.jpg': 1,\n",
       "  '2380925__zebra__0.9999987.jpg': 0,\n",
       "  '2396153__brown_bear__0.9999938.jpg': 9,\n",
       "  '2414513__bagel__0.9999893.jpg': -1,\n",
       "  '2382183__pizza__0.99998593.jpg': 2,\n",
       "  '2406581__zebra__0.9999939.jpg': 0,\n",
       "  '2396034__remote_control__0.9999856.jpg': -1,\n",
       "  '2402950__zebra__0.99999344.jpg': 0,\n",
       "  '2415102__zebra__0.9999876.jpg': 0,\n",
       "  '2386193__broccoli__0.9999924.jpg': 7,\n",
       "  '2416228__parking_meter__0.9999914.jpg': 4,\n",
       "  '2409822__steam_locomotive__0.9999906.jpg': -1,\n",
       "  '2401383__slug__0.9999933.jpg': -1,\n",
       "  '2417938__banana__0.9999944.jpg': 6,\n",
       "  '2409765__zebra__0.99999833.jpg': 0,\n",
       "  '2416408__zebra__0.9999962.jpg': 0,\n",
       "  '2392619__zebra__0.9999875.jpg': 0,\n",
       "  '2377471__pizza__0.9999988.jpg': 2,\n",
       "  '2415567__zebra__0.9999902.jpg': 0,\n",
       "  '2401921__zebra__0.99999845.jpg': 0,\n",
       "  '2382589__zebra__0.9999982.jpg': 0,\n",
       "  '2386068__zebra__0.9999949.jpg': 0,\n",
       "  '2412027__school_bus__0.99998724.jpg': -1,\n",
       "  '2417421__parking_meter__0.9999999.jpg': 4,\n",
       "  '2383569__parking_meter__0.9999988.jpg': 4,\n",
       "  '2417881__zebra__0.9999945.jpg': 0,\n",
       "  '4534__viaduct__0.9999877.jpg': -1,\n",
       "  '577__gondola__0.9999962.jpg': 10,\n",
       "  '2382436__park_bench__0.99999964.jpg': 11,\n",
       "  '2380905__gondola__0.9999888.jpg': 10,\n",
       "  '2408884__zebra__0.9999913.jpg': 0,\n",
       "  '2417382__zebra__0.9999864.jpg': 0,\n",
       "  '2407951__zebra__0.9999975.jpg': 0,\n",
       "  '2411196__crane__0.9999995.jpg': -1,\n",
       "  '2380865__traffic_light__0.99999714.jpg': 3,\n",
       "  '2404229__zebra__0.99998367.jpg': 0,\n",
       "  '1222__pool_table__0.9999995.jpg': -1,\n",
       "  '2411390__parking_meter__0.9999988.jpg': 4,\n",
       "  '2413227__park_bench__0.99998546.jpg': 11,\n",
       "  '2391408__traffic_light__0.99999654.jpg': 3,\n",
       "  '2389484__street_sign__0.99998474.jpg': 1,\n",
       "  '2379086__zebra__0.9999975.jpg': 0,\n",
       "  '2380017__zebra__0.9999995.jpg': 0,\n",
       "  '2407788__pizza__0.99999785.jpg': 2,\n",
       "  '2381968__ski__0.999984.jpg': 8,\n",
       "  '2411097__zebra__0.9999974.jpg': 0,\n",
       "  '2403338__seat_belt__0.99999917.jpg': -1,\n",
       "  '2417586__zebra__0.99999535.jpg': 0,\n",
       "  '2387305__traffic_light__1.0.jpg': 3,\n",
       "  '2409953__brown_bear__0.99998903.jpg': 9,\n",
       "  '2408970__zebra__0.9999865.jpg': 0,\n",
       "  '2382909__zebra__0.9999988.jpg': 0,\n",
       "  '2412939__forklift__0.9999883.jpg': -1,\n",
       "  '2401224__zebra__0.9999882.jpg': 0,\n",
       "  '2405041__broccoli__0.99999845.jpg': 7,\n",
       "  '2401217__traffic_light__0.9999895.jpg': 3,\n",
       "  '134__zebra__0.9999949.jpg': 0,\n",
       "  '2377620__zebra__0.9999882.jpg': 0,\n",
       "  '2411841__zebra__0.99999833.jpg': 0,\n",
       "  '2415648__broccoli__0.9999943.jpg': 7,\n",
       "  '2412908__zebra__0.99998975.jpg': 0,\n",
       "  '2414892__pizza__0.99999857.jpg': 2,\n",
       "  '1328__coil__0.99999607.jpg': -1,\n",
       "  '2394019__zebra__0.99999285.jpg': 0,\n",
       "  '2390296__umbrella__0.99999106.jpg': 5,\n",
       "  '2409637__four-poster__0.99999464.jpg': -1,\n",
       "  '2403403__banana__0.9999926.jpg': 6,\n",
       "  '2384512__zebra__0.99999726.jpg': 0,\n",
       "  '2386750__pizza__0.9999889.jpg': 2,\n",
       "  '2385461__zebra__0.99998415.jpg': 0,\n",
       "  '2401691__pineapple__0.999998.jpg': -1,\n",
       "  '2391701__zebra__0.9999912.jpg': 0,\n",
       "  '2404127__zebra__0.9999933.jpg': 0,\n",
       "  '2381941__zebra__0.9999914.jpg': 0,\n",
       "  '2380319__broccoli__0.9999957.jpg': 7,\n",
       "  '4099__pool_table__0.9999945.jpg': -1,\n",
       "  '2386456__zebra__0.9999989.jpg': 0,\n",
       "  '2380189__zebra__0.9999993.jpg': 0,\n",
       "  '2414760__zebra__0.9999895.jpg': 0,\n",
       "  '2410336__zebra__0.99999547.jpg': 0,\n",
       "  '2392818__park_bench__0.99999.jpg': 11,\n",
       "  '2410903__steam_locomotive__0.9999876.jpg': -1,\n",
       "  '2380669__parking_meter__0.9999993.jpg': 4,\n",
       "  '2384145__street_sign__0.9999987.jpg': 1,\n",
       "  '2404955__banana__0.9999995.jpg': 6,\n",
       "  '2414996__park_bench__0.9999907.jpg': 11,\n",
       "  '2415737__parking_meter__0.99999785.jpg': 4,\n",
       "  '2392349__umbrella__0.9999994.jpg': 5,\n",
       "  '2402745__bullet_train__0.99999857.jpg': -1,\n",
       "  '2411645__parking_meter__0.999985.jpg': 4,\n",
       "  '2389131__pizza__0.9999943.jpg': 2,\n",
       "  '2385767__zebra__0.9999958.jpg': 0,\n",
       "  '2410779__parking_meter__0.99999917.jpg': 4,\n",
       "  '2405210__pizza__0.9999869.jpg': 2,\n",
       "  '2389163__zebra__0.9999957.jpg': 0,\n",
       "  '2388889__hotdog__0.99999714.jpg': -1,\n",
       "  '2417055__broccoli__0.9999864.jpg': 7,\n",
       "  '2402056__toilet_seat__0.99999917.jpg': -1,\n",
       "  '2403741__zebra__0.99999523.jpg': 0,\n",
       "  '2408719__ski__0.99999297.jpg': 8,\n",
       "  '2410081__parking_meter__1.0.jpg': 4,\n",
       "  '2415402__zebra__0.99998903.jpg': 0,\n",
       "  '2399675__zebra__0.9999883.jpg': 0,\n",
       "  '2389324__zebra__0.9999993.jpg': 0,\n",
       "  '2411784__traffic_light__0.9999945.jpg': 3,\n",
       "  '2405479__traffic_light__0.9999939.jpg': 3,\n",
       "  '2404281__zebra__0.999998.jpg': 0,\n",
       "  '2395038__zebra__0.9999976.jpg': 0,\n",
       "  '2378358__park_bench__0.99999833.jpg': 11,\n",
       "  '2410410__ski__0.99999356.jpg': 8,\n",
       "  '4339__manhole_cover__0.99999416.jpg': -1,\n",
       "  '2408701__zebra__0.9999981.jpg': 0,\n",
       "  '2398975__umbrella__0.9999958.jpg': 5,\n",
       "  '2383706__umbrella__0.9999994.jpg': 5,\n",
       "  '2382792__umbrella__0.9999838.jpg': 5,\n",
       "  '2409589__zebra__0.99999976.jpg': 0,\n",
       "  '2413786__parking_meter__0.9999925.jpg': 4,\n",
       "  '2397486__zebra__0.9999875.jpg': 0,\n",
       "  '2385039__zebra__0.9999844.jpg': 0,\n",
       "  '2412267__zebra__0.9999939.jpg': 0}}"
      ]
     },
     "execution_count": 60,
     "metadata": {},
     "output_type": "execute_result"
    }
   ],
   "source": [
    "cl_results"
   ]
  },
  {
   "cell_type": "code",
   "execution_count": 61,
   "id": "ef7841e6",
   "metadata": {},
   "outputs": [
    {
     "name": "stdout",
     "output_type": "stream",
     "text": [
      "12\n",
      "17\n",
      "15\n",
      "16\n",
      "12\n"
     ]
    }
   ],
   "source": [
    "# A little sanity check...\n",
    "# Number of elements should be the same as clusters detected in clustering phase\n",
    "for i in range(5): print(len(np.unique(list(cl_results[i].values())))-1)"
   ]
  },
  {
   "cell_type": "markdown",
   "id": "ee208b39",
   "metadata": {},
   "source": [
    "## Clustering Prototypes"
   ]
  },
  {
   "cell_type": "markdown",
   "id": "563ab6e3",
   "metadata": {},
   "source": [
    "In our experiment, we want to predict the vote count for a new image, based on the proximity it has to the avaliable clusters. These clusters are composed of many data points, so the proximity of a new data point to a cluster can be measured in different ways, like taking the distance between the new point and the nearest clustered point in the dataset.   \n",
    "However, this approach can be biased when new poins get associated to the cluster taking in account the nearest point of a cluster instead of the overall position of a cluster. To avoid this, for each cluster we calculate a \"prototype\", a data point which is the centroid of all the data points in a cluster. This way, we can measure the distance to the general position of a cluster in a more confident way."
   ]
  },
  {
   "cell_type": "code",
   "execution_count": 62,
   "id": "8183b73e",
   "metadata": {},
   "outputs": [
    {
     "data": {
      "text/plain": [
       "array([12, 13, 3, 1], dtype=object)"
      ]
     },
     "execution_count": 62,
     "metadata": {},
     "output_type": "execute_result"
    }
   ],
   "source": [
    "votes_df.loc['1222__pool_table__0.9999995.jpg'].values[:-1]"
   ]
  },
  {
   "cell_type": "code",
   "execution_count": 63,
   "id": "13259e39",
   "metadata": {},
   "outputs": [],
   "source": [
    "def gen_indiv_cl_prototypes(cl_result, ignore_noise=True):\n",
    "    # Separate image votes according to the clusters they belong to\n",
    "    votes_by_cluster = {}\n",
    "    for img_name, cl_idx in cl_result.items():\n",
    "        if ignore_noise and cl_idx == -1: continue # ignore noise cluster\n",
    "        img_votes = votes_df.loc[img_name].values[:-1]\n",
    "        if cl_idx not in votes_by_cluster.keys(): votes_by_cluster[cl_idx] = [img_votes]\n",
    "        else: votes_by_cluster[cl_idx].append(img_votes)\n",
    "    # For each cluster, calculate their vote prototype\n",
    "    vote_prts_by_cluster = {}\n",
    "    for cl_idx, cl_votes in votes_by_cluster.items():\n",
    "        unrounded_prt = np.average(np.array(cl_votes,'uint8'), axis=0)\n",
    "        vote_prts_by_cluster[cl_idx] = np.array(np.round(unrounded_prt), 'int')\n",
    "    return vote_prts_by_cluster\n",
    "    \n",
    "def get_global_cl_prototypes(cl_results, ignore_noise=True):\n",
    "    global_prototypes = {}\n",
    "    for i, cl_result in cl_results.items():\n",
    "        global_prototypes[i] = gen_indiv_cl_prototypes(cl_result, ignore_noise=ignore_noise)\n",
    "    return global_prototypes"
   ]
  },
  {
   "cell_type": "code",
   "execution_count": 64,
   "id": "c7c0d4dc",
   "metadata": {},
   "outputs": [],
   "source": [
    "global_prototypes = get_global_cl_prototypes(cl_results)"
   ]
  },
  {
   "cell_type": "code",
   "execution_count": 65,
   "id": "608de361",
   "metadata": {
    "scrolled": true
   },
   "outputs": [
    {
     "data": {
      "text/plain": [
       "{0: array([5, 4, 4, 0]),\n",
       " 1: array([7, 2, 5, 1]),\n",
       " 2: array([8, 2, 3, 2]),\n",
       " 3: array([ 8, 10,  2,  0]),\n",
       " 4: array([7, 1, 6, 0]),\n",
       " 5: array([5, 6, 1, 1]),\n",
       " 6: array([8, 2, 2, 1]),\n",
       " 7: array([7, 4, 2, 0]),\n",
       " 8: array([9, 2, 1, 2]),\n",
       " 9: array([6, 4, 4, 0]),\n",
       " 10: array([6, 3, 4, 0]),\n",
       " 11: array([5, 6, 2, 0]),\n",
       " 12: array([10,  2,  6,  0]),\n",
       " 13: array([8, 0, 4, 0]),\n",
       " 14: array([5, 2, 5, 0]),\n",
       " 15: array([8, 2, 2, 0])}"
      ]
     },
     "execution_count": 65,
     "metadata": {},
     "output_type": "execute_result"
    }
   ],
   "source": [
    "# Sanity check: No. of elements should be the same as no. of clusters detected in clustering phase\n",
    "global_prototypes[3]"
   ]
  },
  {
   "cell_type": "markdown",
   "id": "eeece880",
   "metadata": {},
   "source": [
    "## Vote Count Prediction"
   ]
  },
  {
   "cell_type": "code",
   "execution_count": 66,
   "id": "b68f2808",
   "metadata": {},
   "outputs": [
    {
     "data": {
      "text/plain": [
       "array([6.91666667, 3.08333333, 3.25      , 0.83333333])"
      ]
     },
     "execution_count": 66,
     "metadata": {},
     "output_type": "execute_result"
    }
   ],
   "source": [
    "np.average(np.array(list(global_prototypes[0].values())), axis=0)"
   ]
  },
  {
   "cell_type": "code",
   "execution_count": 67,
   "id": "065ca553",
   "metadata": {},
   "outputs": [
    {
     "data": {
      "text/plain": [
       "15"
      ]
     },
     "execution_count": 67,
     "metadata": {},
     "output_type": "execute_result"
    }
   ],
   "source": [
    "foo = np.array([4, 5, 6, 7])\n",
    "bar = np.array([8, 9, 10, 10])\n",
    "np.sum(np.abs(bar - foo))"
   ]
  },
  {
   "cell_type": "code",
   "execution_count": 68,
   "id": "021f33b4",
   "metadata": {},
   "outputs": [],
   "source": [
    "def calc_vote_dist(p1, p2, vote_dist_metric):\n",
    "    if vote_dist_metric == 'euclidian': return np.sqrt(np.sum(np.square(p1 - p2)))\n",
    "    elif vote_dist_metric == 'manhattan': return np.sum(np.abs(p1 - p2))\n",
    "    else: print('Unknown metric type')\n",
    "\n",
    "def get_img_idxs_per_cluster(cl_result, ignore_noise=True):\n",
    "    img_idxs_per_cluster = {}\n",
    "    for img_name, cl_idx in cl_result.items():\n",
    "        if cl_idx==-1 and ignore_noise: continue # ignore noise cluster\n",
    "        img_idx = np.argwhere(X_names == img_name)[0][0]\n",
    "        if cl_idx not in img_idxs_per_cluster.keys():\n",
    "            img_idxs_per_cluster[cl_idx] = [img_idx]\n",
    "        else:\n",
    "            img_idxs_per_cluster[cl_idx].append(img_idx)\n",
    "    return img_idxs_per_cluster\n",
    "\n",
    "def get_dist_to_clusters(img_idx, img_idxs_per_cluster):\n",
    "    dist_to_clusters = {}\n",
    "    for cl_idx, img_idxs in img_idxs_per_cluster.items():\n",
    "        distances = X[img_idx, img_idxs]\n",
    "        dist_to_clusters[cl_idx] = np.average(distances)\n",
    "    return dist_to_clusters\n",
    "\n",
    "def get_nearest_clusters_indices(dist_to_clusters, k):\n",
    "    if k >= len(dist_to_clusters): nearest_cls_idxs = list(dist_to_clusters.keys())\n",
    "    else:\n",
    "        nearest_cls_idxs = []\n",
    "        for i in range(k): # K times...\n",
    "            nearest_cl_idx, min_dist = None, np.inf\n",
    "            # ...iterate searching the nearest cluster\n",
    "            for cl_idx, dist in dist_to_clusters.items():\n",
    "                if cl_idx in nearest_cls_idxs: continue # ignore prev. found nearest clusters\n",
    "                if dist < min_dist: nearest_cl_idx, min_dist = cl_idx, dist\n",
    "            nearest_cls_idxs.append(nearest_cl_idx)\n",
    "    return nearest_cls_idxs\n",
    "\n",
    "def get_indiv_vote_distances(prototypes, cl_result, split_idx, k=3, vote_dist_metric='manhattan'):\n",
    "    vote_distances = {}\n",
    "    # Prepare data\n",
    "    test_idxs = splits[split_idx][1]\n",
    "    img_idxs_per_cluster = get_img_idxs_per_cluster(cl_result)\n",
    "    # For each test image...\n",
    "    for test_img_idx in test_idxs:\n",
    "        # Measure average distances to each cluster\n",
    "        dist_to_clusters = get_dist_to_clusters(test_img_idx, img_idxs_per_cluster)\n",
    "        # Using those distances, find the nearest k clusters\n",
    "        kn_clusters_idxs =  get_nearest_clusters_indices(dist_to_clusters, k=k)\n",
    "        # Aggregate the vote count prototypes of the clusters associated with those distances\n",
    "        nearest_prototypes = [prototypes[kn_cl_idx] for kn_cl_idx in kn_clusters_idxs]\n",
    "        unrounded_vcp = np.average(np.array(nearest_prototypes), axis=0)\n",
    "        vote_count_prediction = np.round(unrounded_vcp) # int parsing needed?\n",
    "        # Measure vote distance of test image real vote count vs. VCP of test_image\n",
    "        test_img_name = X_names[test_img_idx]\n",
    "        test_img_votes = y[test_img_idx]\n",
    "        vote_dist = calc_vote_dist(test_img_votes, vote_count_prediction, vote_dist_metric)\n",
    "        vote_distances[test_img_name] = vote_dist\n",
    "    return vote_distances\n",
    "\n",
    "def get_global_vote_distances(all_prototypes, all_cl_results, k=3, vote_dist_metric='manhattan'):\n",
    "    global_vote_distances = {}\n",
    "    for split_idx in range(len(all_cl_results)):\n",
    "        global_vote_distances[split_idx] = get_indiv_vote_distances(all_prototypes[split_idx], all_cl_results[split_idx], split_idx, k=k, vote_dist_metric=vote_dist_metric)\n",
    "    return global_vote_distances"
   ]
  },
  {
   "cell_type": "code",
   "execution_count": 69,
   "id": "0a9b8ca8",
   "metadata": {},
   "outputs": [],
   "source": [
    "d = 'manhattan' # 'euclidian' or 'manhattan'\n",
    "global_vote_distances_k1 = get_global_vote_distances(global_prototypes, cl_results, k=1, vote_dist_metric=d)\n",
    "global_vote_distances_k3 = get_global_vote_distances(global_prototypes, cl_results, k=3, vote_dist_metric=d)\n",
    "global_vote_distances_k5 = get_global_vote_distances(global_prototypes, cl_results, k=5, vote_dist_metric=d)\n",
    "global_vote_distances_k7 = get_global_vote_distances(global_prototypes, cl_results, k=7, vote_dist_metric=d)"
   ]
  },
  {
   "cell_type": "code",
   "execution_count": 70,
   "id": "583af8ce",
   "metadata": {
    "scrolled": true
   },
   "outputs": [
    {
     "data": {
      "text/plain": [
       "{0: {'2388889__hotdog__0.99999714.jpg': 13.0,\n",
       "  '2417881__zebra__0.9999945.jpg': 3.0,\n",
       "  '2403403__banana__0.9999926.jpg': 5.0,\n",
       "  '2381941__zebra__0.9999914.jpg': 9.0,\n",
       "  '2403741__zebra__0.99999523.jpg': 6.0,\n",
       "  '2404281__zebra__0.999998.jpg': 9.0,\n",
       "  '2416627__zebra__0.9999987.jpg': 5.0,\n",
       "  '2391964__flamingo__1.0.jpg': 7.0,\n",
       "  '2404583__umbrella__0.99999297.jpg': 9.0,\n",
       "  '2409637__four-poster__0.99999464.jpg': 9.0,\n",
       "  '2380669__parking_meter__0.9999993.jpg': 8.0,\n",
       "  '2411196__crane__0.9999995.jpg': 13.0,\n",
       "  '134__zebra__0.9999949.jpg': 13.0,\n",
       "  '2405905__traffic_light__0.99999535.jpg': 4.0,\n",
       "  '2404127__zebra__0.9999933.jpg': 3.0,\n",
       "  '2406857__zebra__0.9999894.jpg': 6.0,\n",
       "  '2414277__zebra__0.9999908.jpg': 6.0,\n",
       "  '2385298__parking_meter__0.9999865.jpg': 3.0,\n",
       "  '2406887__ski__0.99999785.jpg': 6.0,\n",
       "  '2416228__parking_meter__0.9999914.jpg': 12.0,\n",
       "  '2415402__zebra__0.99998903.jpg': 3.0,\n",
       "  '2408701__zebra__0.9999981.jpg': 3.0,\n",
       "  '2389484__street_sign__0.99998474.jpg': 4.0,\n",
       "  '2417395__zebra__0.9999993.jpg': 7.0,\n",
       "  '2384512__zebra__0.99999726.jpg': 7.0,\n",
       "  '2391918__steam_locomotive__0.99999845.jpg': 3.0,\n",
       "  '2404229__zebra__0.99998367.jpg': 4.0,\n",
       "  '2381968__ski__0.999984.jpg': 8.0,\n",
       "  '2413495__traffic_light__0.9999925.jpg': 1.0,\n",
       "  '2398585__bow_tie__0.9999838.jpg': 5.0,\n",
       "  '2398771__traffic_light__0.99999.jpg': 6.0,\n",
       "  '2400121__pizza__0.9999962.jpg': 5.0,\n",
       "  '2407951__zebra__0.9999975.jpg': 3.0,\n",
       "  '2386193__broccoli__0.9999924.jpg': 7.0,\n",
       "  '2410903__steam_locomotive__0.9999876.jpg': 5.0,\n",
       "  '2399675__zebra__0.9999883.jpg': 7.0,\n",
       "  '2381932__traffic_light__0.99999964.jpg': 11.0,\n",
       "  '691__cheetah__0.99999213.jpg': 5.0,\n",
       "  '2392405__parking_meter__0.9999993.jpg': 2.0,\n",
       "  '2412908__zebra__0.99998975.jpg': 10.0},\n",
       " 1: {'2390296__umbrella__0.99999106.jpg': 7.0,\n",
       "  '2405042__parking_meter__0.99999094.jpg': 7.0,\n",
       "  '2415402__zebra__0.99998903.jpg': 6.0,\n",
       "  '2406209__brown_bear__0.999985.jpg': 4.0,\n",
       "  '2403199__zebra__0.9999869.jpg': 4.0,\n",
       "  '2408719__ski__0.99999297.jpg': 5.0,\n",
       "  '2414277__zebra__0.9999908.jpg': 7.0,\n",
       "  '2405479__traffic_light__0.9999939.jpg': 4.0,\n",
       "  '2415737__parking_meter__0.99999785.jpg': 6.0,\n",
       "  '2388889__hotdog__0.99999714.jpg': 13.0,\n",
       "  '2411390__parking_meter__0.9999988.jpg': 5.0,\n",
       "  '2416228__parking_meter__0.9999914.jpg': 12.0,\n",
       "  '691__cheetah__0.99999213.jpg': 4.0,\n",
       "  '2389163__zebra__0.9999957.jpg': 8.0,\n",
       "  '2408701__zebra__0.9999981.jpg': 2.0,\n",
       "  '2392579__zebra__0.9999969.jpg': 5.0,\n",
       "  '2389484__street_sign__0.99998474.jpg': 2.0,\n",
       "  '2391408__traffic_light__0.99999654.jpg': 4.0,\n",
       "  '2412939__forklift__0.9999883.jpg': 5.0,\n",
       "  '2382792__umbrella__0.9999838.jpg': 7.0,\n",
       "  '2378170__zebra__0.9999902.jpg': 10.0,\n",
       "  '2379086__zebra__0.9999975.jpg': 11.0,\n",
       "  '2389324__zebra__0.9999993.jpg': 4.0,\n",
       "  '2417938__banana__0.9999944.jpg': 6.0,\n",
       "  '2396153__brown_bear__0.9999938.jpg': 6.0,\n",
       "  '2414384__ski__0.9999949.jpg': 8.0,\n",
       "  '2393774__zebra__0.9999995.jpg': 7.0,\n",
       "  '2391918__steam_locomotive__0.99999845.jpg': 3.0,\n",
       "  '2387437__parking_meter__0.9999839.jpg': 1.0,\n",
       "  '2404955__banana__0.9999995.jpg': 4.0,\n",
       "  '2392818__park_bench__0.99999.jpg': 6.0,\n",
       "  '2380865__traffic_light__0.99999714.jpg': 6.0,\n",
       "  '2392349__umbrella__0.9999994.jpg': 9.0,\n",
       "  '2411784__traffic_light__0.9999945.jpg': 7.0,\n",
       "  '2386049__king_penguin__0.99999917.jpg': 9.0,\n",
       "  '2406857__zebra__0.9999894.jpg': 5.0,\n",
       "  '2380319__broccoli__0.9999957.jpg': 10.0,\n",
       "  '2409589__zebra__0.99999976.jpg': 3.0,\n",
       "  '2377698__zebra__0.9999999.jpg': 16.0,\n",
       "  '2380669__parking_meter__0.9999993.jpg': 11.0},\n",
       " 2: {'2392349__umbrella__0.9999994.jpg': 10.0,\n",
       "  '2408970__zebra__0.9999865.jpg': 7.0,\n",
       "  '2414335__refrigerator__0.9999889.jpg': 5.0,\n",
       "  '2401691__pineapple__0.999998.jpg': 13.0,\n",
       "  '2391964__flamingo__1.0.jpg': 4.0,\n",
       "  '2389484__street_sign__0.99998474.jpg': 4.0,\n",
       "  '2409550__street_sign__0.99999905.jpg': 2.0,\n",
       "  '2391408__traffic_light__0.99999654.jpg': 4.0,\n",
       "  '2411407__zebra__0.9999969.jpg': 6.0,\n",
       "  '2407788__pizza__0.99999785.jpg': 4.0,\n",
       "  '2395787__pizza__0.99999535.jpg': 3.0,\n",
       "  '2380905__gondola__0.9999888.jpg': 8.0,\n",
       "  '2389163__zebra__0.9999957.jpg': 8.0,\n",
       "  '2386456__zebra__0.9999989.jpg': 2.0,\n",
       "  '2402745__bullet_train__0.99999857.jpg': 5.0,\n",
       "  '2417395__zebra__0.9999993.jpg': 5.0,\n",
       "  '2401383__slug__0.9999933.jpg': 7.0,\n",
       "  '691__cheetah__0.99999213.jpg': 3.0,\n",
       "  '2384755__street_sign__0.9999924.jpg': 4.0,\n",
       "  '2414760__zebra__0.9999895.jpg': 8.0,\n",
       "  '2399217__umbrella__0.9999863.jpg': 7.0,\n",
       "  '2401224__zebra__0.9999882.jpg': 5.0,\n",
       "  '4099__pool_table__0.9999945.jpg': 10.0,\n",
       "  '2382183__pizza__0.99998593.jpg': 9.0,\n",
       "  '2412402__zebra__0.9999877.jpg': 8.0,\n",
       "  '2383569__parking_meter__0.9999988.jpg': 6.0,\n",
       "  '2383286__zebra__0.99999857.jpg': 10.0,\n",
       "  '2410336__zebra__0.99999547.jpg': 6.0,\n",
       "  '2392324__traffic_light__0.9999964.jpg': 9.0,\n",
       "  '2405041__broccoli__0.99999845.jpg': 8.0,\n",
       "  '2401906__parking_meter__1.0.jpg': 2.0,\n",
       "  '2407951__zebra__0.9999975.jpg': 1.0,\n",
       "  '2414513__bagel__0.9999893.jpg': 8.0,\n",
       "  '2378170__zebra__0.9999902.jpg': 9.0,\n",
       "  '2404127__zebra__0.9999933.jpg': 3.0,\n",
       "  '2409063__zebra__0.999997.jpg': 3.0,\n",
       "  '2382792__umbrella__0.9999838.jpg': 8.0,\n",
       "  '2389324__zebra__0.9999993.jpg': 3.0,\n",
       "  '2399675__zebra__0.9999883.jpg': 4.0,\n",
       "  '2411097__zebra__0.9999974.jpg': 8.0},\n",
       " 3: {'2401906__parking_meter__1.0.jpg': 2.0,\n",
       "  '2416228__parking_meter__0.9999914.jpg': 10.0,\n",
       "  '2403403__banana__0.9999926.jpg': 3.0,\n",
       "  '2409765__zebra__0.99999833.jpg': 6.0,\n",
       "  '2392818__park_bench__0.99999.jpg': 7.0,\n",
       "  '2416627__zebra__0.9999987.jpg': 4.0,\n",
       "  '2406887__ski__0.99999785.jpg': 6.0,\n",
       "  '2402132__traffic_light__0.9999951.jpg': 3.0,\n",
       "  '2380905__gondola__0.9999888.jpg': 8.0,\n",
       "  '2416408__zebra__0.9999962.jpg': 4.0,\n",
       "  '2388889__hotdog__0.99999714.jpg': 14.0,\n",
       "  '2391964__flamingo__1.0.jpg': 5.0,\n",
       "  '2392730__pizza__0.9999974.jpg': 7.0,\n",
       "  '2403199__zebra__0.9999869.jpg': 3.0,\n",
       "  '2407130__umbrella__0.9999888.jpg': 0.0,\n",
       "  '2402264__zebra__0.9999931.jpg': 5.0,\n",
       "  '2411645__parking_meter__0.999985.jpg': 6.0,\n",
       "  '2382792__umbrella__0.9999838.jpg': 9.0,\n",
       "  '2404127__zebra__0.9999933.jpg': 3.0,\n",
       "  '2411784__traffic_light__0.9999945.jpg': 6.0,\n",
       "  '2392324__traffic_light__0.9999964.jpg': 8.0,\n",
       "  '2378523__banana__0.99999785.jpg': 15.0,\n",
       "  '2409822__steam_locomotive__0.9999906.jpg': 0.0,\n",
       "  '2383286__zebra__0.99999857.jpg': 10.0,\n",
       "  '2413227__park_bench__0.99998546.jpg': 7.0,\n",
       "  '2403338__seat_belt__0.99999917.jpg': 5.0,\n",
       "  '2404955__banana__0.9999995.jpg': 3.0,\n",
       "  '2382474__bow_tie__0.9999982.jpg': 7.0,\n",
       "  '2391701__zebra__0.9999912.jpg': 4.0,\n",
       "  '2396034__remote_control__0.9999856.jpg': 10.0,\n",
       "  '2402745__bullet_train__0.99999857.jpg': 4.0,\n",
       "  '1328__coil__0.99999607.jpg': 14.0,\n",
       "  '2411841__zebra__0.99999833.jpg': 4.0,\n",
       "  '2397486__zebra__0.9999875.jpg': 6.0,\n",
       "  '2415102__zebra__0.9999876.jpg': 4.0,\n",
       "  '2409472__umbrella__0.9999845.jpg': 5.0,\n",
       "  '2405042__parking_meter__0.99999094.jpg': 7.0,\n",
       "  '2389163__zebra__0.9999957.jpg': 5.0,\n",
       "  '2380319__broccoli__0.9999957.jpg': 12.0,\n",
       "  '2408701__zebra__0.9999981.jpg': 3.0},\n",
       " 4: {'2381932__traffic_light__0.99999964.jpg': 12.0,\n",
       "  '2379489__parking_meter__0.9999989.jpg': 10.0,\n",
       "  '2382474__bow_tie__0.9999982.jpg': 8.0,\n",
       "  '2398585__bow_tie__0.9999838.jpg': 4.0,\n",
       "  '2392730__pizza__0.9999974.jpg': 8.0,\n",
       "  '2377698__zebra__0.9999999.jpg': 16.0,\n",
       "  '2411646__banana__0.99999595.jpg': 11.0,\n",
       "  '2416516__zebra__0.99999714.jpg': 7.0,\n",
       "  '2404583__umbrella__0.99999297.jpg': 8.0,\n",
       "  '2385298__parking_meter__0.9999865.jpg': 3.0,\n",
       "  '2412402__zebra__0.9999877.jpg': 7.0,\n",
       "  '2417395__zebra__0.9999993.jpg': 7.0,\n",
       "  '2395787__pizza__0.99999535.jpg': 3.0,\n",
       "  '2391918__steam_locomotive__0.99999845.jpg': 4.0,\n",
       "  '2391964__flamingo__1.0.jpg': 7.0,\n",
       "  '2415910__zebra__0.9999962.jpg': 8.0,\n",
       "  '2395510__traffic_light__0.9999993.jpg': 4.0,\n",
       "  '2416627__zebra__0.9999987.jpg': 5.0,\n",
       "  '2407130__umbrella__0.9999888.jpg': 4.0,\n",
       "  '2402132__traffic_light__0.9999951.jpg': 3.0,\n",
       "  '2401906__parking_meter__1.0.jpg': 3.0,\n",
       "  '2392579__zebra__0.9999969.jpg': 5.0,\n",
       "  '2387034__zebra__0.9999896.jpg': 8.0,\n",
       "  '2383286__zebra__0.99999857.jpg': 9.0,\n",
       "  '2405042__parking_meter__0.99999094.jpg': 6.0,\n",
       "  '2414384__ski__0.9999949.jpg': 9.0,\n",
       "  '2409550__street_sign__0.99999905.jpg': 2.0,\n",
       "  '2380019__zebra__0.9999926.jpg': 10.0,\n",
       "  '2385187__street_sign__0.99999595.jpg': 5.0,\n",
       "  '2382913__zebra__0.9999883.jpg': 4.0,\n",
       "  '2400622__zebra__0.9999901.jpg': 7.0,\n",
       "  '2400121__pizza__0.9999962.jpg': 3.0,\n",
       "  '2405280__zebra__0.9999938.jpg': 6.0,\n",
       "  '2409472__umbrella__0.9999845.jpg': 6.0,\n",
       "  '2410974__toilet_seat__0.9999939.jpg': 2.0,\n",
       "  '2392124__zebra__0.99999523.jpg': 7.0,\n",
       "  '2408592__goose__0.999998.jpg': 9.0,\n",
       "  '2404051__street_sign__0.9999999.jpg': 3.0,\n",
       "  '2386049__king_penguin__0.99999917.jpg': 7.0,\n",
       "  '2411372__parking_meter__0.999995.jpg': 3.0}}"
      ]
     },
     "execution_count": 70,
     "metadata": {},
     "output_type": "execute_result"
    }
   ],
   "source": [
    "global_vote_distances_k5"
   ]
  },
  {
   "cell_type": "markdown",
   "id": "1cf53d94",
   "metadata": {},
   "source": [
    "#### TODO: Should distance be vote-based (i.e. nominal) or vote proportion-based (i.e. relative)?"
   ]
  },
  {
   "cell_type": "markdown",
   "id": "876dc122",
   "metadata": {},
   "source": [
    "## Metric Evaluation"
   ]
  },
  {
   "cell_type": "code",
   "execution_count": 71,
   "id": "f0435ee5",
   "metadata": {},
   "outputs": [],
   "source": [
    "def eval_indiv_rmse_vote_dist(vote_distances):\n",
    "    vote_distances = list(vote_distances.values())\n",
    "    metrics = {\n",
    "        'average': round(np.average(vote_distances), 2),\n",
    "        'std. dev.': round(np.std(vote_distances), 2),\n",
    "        'range': [round(np.min(vote_distances), 2), round(np.max(vote_distances), 2)],\n",
    "    }\n",
    "    return metrics\n",
    "\n",
    "def eval_global_vote_dist(global_vote_distances, mode='rmse'):\n",
    "    global_metrics = {}\n",
    "    # Calculate metrics for each split\n",
    "    for cl_key, vote_distances in global_vote_distances.items():\n",
    "        if mode=='rmse': metrics = eval_indiv_rmse_vote_dist(vote_distances)\n",
    "        else: pass # For technique-wise vote distances\n",
    "        global_metrics[cl_key] = metrics\n",
    "    # Aggregate metrics for all splits\n",
    "    global_metrics['global'] = {}\n",
    "    for metric_type in global_metrics[0].keys():\n",
    "        metrics_per_type = [metrics[metric_type] for split_key, metrics in global_metrics.items() if split_key != 'global']\n",
    "        avgd_metrics_per_type = np.round(np.average(np.array(metrics_per_type), axis=0), 2)\n",
    "        if metric_type == 'range': avgd_metrics_per_type = list(avgd_metrics_per_type)\n",
    "        global_metrics['global'][metric_type] = avgd_metrics_per_type\n",
    "    return global_metrics"
   ]
  },
  {
   "cell_type": "code",
   "execution_count": 72,
   "id": "b09ac157",
   "metadata": {},
   "outputs": [],
   "source": [
    "global_vote_metrics_k1 = eval_global_vote_dist(global_vote_distances_k1)\n",
    "global_vote_metrics_k3 = eval_global_vote_dist(global_vote_distances_k3)\n",
    "global_vote_metrics_k5 = eval_global_vote_dist(global_vote_distances_k5)\n",
    "global_vote_metrics_k7 = eval_global_vote_dist(global_vote_distances_k7)"
   ]
  },
  {
   "cell_type": "code",
   "execution_count": 73,
   "id": "8c2453a0",
   "metadata": {},
   "outputs": [
    {
     "data": {
      "text/plain": [
       "{'average': 5.86, 'std. dev.': 3.19, 'range': [1.6, 16.0]}"
      ]
     },
     "execution_count": 73,
     "metadata": {},
     "output_type": "execute_result"
    }
   ],
   "source": [
    "global_vote_metrics_k1['global']"
   ]
  },
  {
   "cell_type": "code",
   "execution_count": 74,
   "id": "baf9d473",
   "metadata": {},
   "outputs": [
    {
     "data": {
      "text/plain": [
       "{'average': 6.21, 'std. dev.': 3.28, 'range': [0.2, 15.2]}"
      ]
     },
     "execution_count": 74,
     "metadata": {},
     "output_type": "execute_result"
    }
   ],
   "source": [
    "global_vote_metrics_k3['global']"
   ]
  },
  {
   "cell_type": "code",
   "execution_count": 75,
   "id": "10d60bd5",
   "metadata": {},
   "outputs": [
    {
     "data": {
      "text/plain": [
       "{'average': 6.25, 'std. dev.': 3.1, 'range': [1.0, 14.6]}"
      ]
     },
     "execution_count": 75,
     "metadata": {},
     "output_type": "execute_result"
    }
   ],
   "source": [
    "global_vote_metrics_k5['global']"
   ]
  },
  {
   "cell_type": "code",
   "execution_count": 76,
   "id": "61a7a9b8",
   "metadata": {},
   "outputs": [
    {
     "data": {
      "text/plain": [
       "{'average': 6.45, 'std. dev.': 2.91, 'range': [2.2, 14.0]}"
      ]
     },
     "execution_count": 76,
     "metadata": {},
     "output_type": "execute_result"
    }
   ],
   "source": [
    "global_vote_metrics_k7['global']"
   ]
  },
  {
   "cell_type": "markdown",
   "id": "9fa5b4e6",
   "metadata": {},
   "source": [
    "The previous results shine a light about the viability to predict the vote count for a new image given the vote prototypes of previously generated image clusters.   \n",
    "\n",
    "In average, the predicted vote count for a new image differs by 6 votes compared to the real vote count. The difference between vote count shows a ascending tendence proportional to the number of nearest clusters used in the vote count prediction, although the growing rate is very small. In the end, this means that when predicting the vote count for a new image, it is recommended to use the vote prototype of only the nearest cluster.   \n",
    "\n",
    "Additional metrics also show that the distribution of vote count differences shows a gaussian shape with a slight skeweness to the right, i.e. towards higher vote differences). The standard deviation shows that the majority of vote differences are between +-3 to the average vote difference. Given that the average vote difference is 6, this means that the majority of vote differences will be inside the 3-9 range.\n",
    "\n",
    "Taking in account that for every image around 30 votes were casted, the difference in vote count prediction is pretty large. A difference of 6 votes when predicting votes can be really important. However, we need to calculate vote count proportion differences, beacuase, at the end of the day, proportions are also a important factor in deciding which techniques are better for new images."
   ]
  },
  {
   "cell_type": "code",
   "execution_count": 77,
   "id": "c5ff8e7a",
   "metadata": {},
   "outputs": [
    {
     "data": {
      "text/plain": [
       "array([29, 26, 25, 24, 24, 22, 22, 22, 22, 22, 22, 22, 21, 20, 20, 20, 20,\n",
       "       20, 19, 18, 17, 17, 17, 17, 16, 16, 16, 16, 15, 15, 15, 15, 15, 15,\n",
       "       15, 15, 15, 15, 15, 15, 15, 15, 15, 15, 15, 15, 15, 14, 14, 14, 14,\n",
       "       14, 14, 14, 14, 14, 14, 14, 13, 13, 13, 13, 13, 13, 13, 13, 13, 13,\n",
       "       13, 13, 13, 13, 13, 13, 13, 13, 13, 13, 13, 13, 13, 13, 13, 13, 13,\n",
       "       13, 13, 13, 13, 13, 13, 13, 13, 13, 13, 14, 14, 14, 14, 14, 14, 14,\n",
       "       14, 14, 14, 14, 14, 14, 14, 14, 14, 14, 14, 14, 14, 14, 14, 14, 14,\n",
       "       14, 14, 14, 14, 14, 14, 14, 14, 14, 14, 14, 14, 14, 13, 13, 13, 13,\n",
       "       13, 13, 13, 13, 13, 13, 13, 13, 13, 13, 13, 13, 13, 13, 13, 13, 13,\n",
       "       13, 13, 13, 13, 13, 13, 13, 13, 13, 13, 13, 13, 13, 13, 13, 13, 13,\n",
       "       13, 13, 13, 12, 13, 13, 13, 13, 13, 13, 13, 13, 13, 13, 13, 13, 13,\n",
       "       13, 13, 13, 13, 13, 13, 13, 13, 13, 13], dtype=object)"
      ]
     },
     "execution_count": 77,
     "metadata": {},
     "output_type": "execute_result"
    }
   ],
   "source": [
    "np.sum(y, axis=1)"
   ]
  },
  {
   "cell_type": "markdown",
   "id": "e1f624d3",
   "metadata": {},
   "source": [
    "#### TODO: Predict techniques with hard voting using vote count predictions"
   ]
  }
 ],
 "metadata": {
  "kernelspec": {
   "display_name": "Python 3",
   "language": "python",
   "name": "python3"
  },
  "language_info": {
   "codemirror_mode": {
    "name": "ipython",
    "version": 3
   },
   "file_extension": ".py",
   "mimetype": "text/x-python",
   "name": "python",
   "nbconvert_exporter": "python",
   "pygments_lexer": "ipython3",
   "version": "3.8.5"
  }
 },
 "nbformat": 4,
 "nbformat_minor": 5
}
