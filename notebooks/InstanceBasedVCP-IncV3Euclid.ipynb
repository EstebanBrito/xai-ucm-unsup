{
 "cells": [
  {
   "cell_type": "markdown",
   "id": "8a7739ab",
   "metadata": {},
   "source": [
    "# Cluster-based Vote Count Prediction for new images"
   ]
  },
  {
   "cell_type": "code",
   "execution_count": 1,
   "id": "54b9159c",
   "metadata": {},
   "outputs": [],
   "source": [
    "import pandas as pd\n",
    "import numpy as np\n",
    "import matplotlib.pyplot as plt\n",
    "import os\n",
    "import sklearn"
   ]
  },
  {
   "cell_type": "markdown",
   "id": "bec80c58",
   "metadata": {},
   "source": [
    "## Loading Data"
   ]
  },
  {
   "cell_type": "code",
   "execution_count": 2,
   "id": "8aca39e0",
   "metadata": {},
   "outputs": [],
   "source": [
    "# Loading IncV1 latent features\n",
    "SIM_MX_FILE_PATH = os.path.join('..', 'results', 'matrices', 'incv3_feats_euclid_sim_matrix.csv')\n",
    "VOTES_FILE_PATH = os.path.join('..', 'results', 'votes_summary.csv')"
   ]
  },
  {
   "cell_type": "markdown",
   "id": "47c0edcd",
   "metadata": {},
   "source": [
    "#### Data (Sim. Matrix between images)"
   ]
  },
  {
   "cell_type": "code",
   "execution_count": 3,
   "id": "4e2b9449",
   "metadata": {},
   "outputs": [
    {
     "data": {
      "text/html": [
       "<div>\n",
       "<style scoped>\n",
       "    .dataframe tbody tr th:only-of-type {\n",
       "        vertical-align: middle;\n",
       "    }\n",
       "\n",
       "    .dataframe tbody tr th {\n",
       "        vertical-align: top;\n",
       "    }\n",
       "\n",
       "    .dataframe thead th {\n",
       "        text-align: right;\n",
       "    }\n",
       "</style>\n",
       "<table border=\"1\" class=\"dataframe\">\n",
       "  <thead>\n",
       "    <tr style=\"text-align: right;\">\n",
       "      <th></th>\n",
       "      <th>1222__pool_table__0.9999995.jpg</th>\n",
       "      <th>1328__coil__0.99999607.jpg</th>\n",
       "      <th>134__zebra__0.9999949.jpg</th>\n",
       "      <th>2377471__pizza__0.9999988.jpg</th>\n",
       "      <th>2377620__zebra__0.9999882.jpg</th>\n",
       "      <th>2377698__zebra__0.9999999.jpg</th>\n",
       "      <th>2378170__zebra__0.9999902.jpg</th>\n",
       "      <th>2378358__park_bench__0.99999833.jpg</th>\n",
       "      <th>2378523__banana__0.99999785.jpg</th>\n",
       "      <th>2379086__zebra__0.9999975.jpg</th>\n",
       "      <th>...</th>\n",
       "      <th>2417881__zebra__0.9999945.jpg</th>\n",
       "      <th>2417938__banana__0.9999944.jpg</th>\n",
       "      <th>4099__pool_table__0.9999945.jpg</th>\n",
       "      <th>4339__manhole_cover__0.99999416.jpg</th>\n",
       "      <th>4534__viaduct__0.9999877.jpg</th>\n",
       "      <th>4573__barrel__0.9999974.jpg</th>\n",
       "      <th>4673__triumphal_arch__0.9999893.jpg</th>\n",
       "      <th>576__gondola__0.9999993.jpg</th>\n",
       "      <th>577__gondola__0.9999962.jpg</th>\n",
       "      <th>691__cheetah__0.99999213.jpg</th>\n",
       "    </tr>\n",
       "  </thead>\n",
       "  <tbody>\n",
       "    <tr>\n",
       "      <th>1222__pool_table__0.9999995.jpg</th>\n",
       "      <td>0.000000</td>\n",
       "      <td>24.899170</td>\n",
       "      <td>22.871903</td>\n",
       "      <td>25.031346</td>\n",
       "      <td>23.751015</td>\n",
       "      <td>25.263490</td>\n",
       "      <td>23.017009</td>\n",
       "      <td>23.726696</td>\n",
       "      <td>26.784180</td>\n",
       "      <td>23.866859</td>\n",
       "      <td>...</td>\n",
       "      <td>23.893972</td>\n",
       "      <td>28.554533</td>\n",
       "      <td>8.689397</td>\n",
       "      <td>23.648353</td>\n",
       "      <td>23.595179</td>\n",
       "      <td>24.177000</td>\n",
       "      <td>23.629427</td>\n",
       "      <td>26.545261</td>\n",
       "      <td>27.091866</td>\n",
       "      <td>23.200351</td>\n",
       "    </tr>\n",
       "    <tr>\n",
       "      <th>1328__coil__0.99999607.jpg</th>\n",
       "      <td>24.899170</td>\n",
       "      <td>0.000000</td>\n",
       "      <td>17.500986</td>\n",
       "      <td>18.181155</td>\n",
       "      <td>17.596692</td>\n",
       "      <td>19.099940</td>\n",
       "      <td>17.112792</td>\n",
       "      <td>17.488145</td>\n",
       "      <td>20.532969</td>\n",
       "      <td>17.789077</td>\n",
       "      <td>...</td>\n",
       "      <td>17.571292</td>\n",
       "      <td>23.570307</td>\n",
       "      <td>21.901239</td>\n",
       "      <td>16.987964</td>\n",
       "      <td>17.437562</td>\n",
       "      <td>19.139305</td>\n",
       "      <td>17.123877</td>\n",
       "      <td>19.577529</td>\n",
       "      <td>20.261407</td>\n",
       "      <td>16.637508</td>\n",
       "    </tr>\n",
       "    <tr>\n",
       "      <th>134__zebra__0.9999949.jpg</th>\n",
       "      <td>22.871903</td>\n",
       "      <td>17.500986</td>\n",
       "      <td>0.000000</td>\n",
       "      <td>17.436307</td>\n",
       "      <td>7.257223</td>\n",
       "      <td>7.579433</td>\n",
       "      <td>6.056684</td>\n",
       "      <td>16.007572</td>\n",
       "      <td>19.907645</td>\n",
       "      <td>6.569770</td>\n",
       "      <td>...</td>\n",
       "      <td>5.660697</td>\n",
       "      <td>22.369222</td>\n",
       "      <td>19.397503</td>\n",
       "      <td>15.556074</td>\n",
       "      <td>16.074305</td>\n",
       "      <td>16.874761</td>\n",
       "      <td>16.384309</td>\n",
       "      <td>17.144394</td>\n",
       "      <td>17.840449</td>\n",
       "      <td>14.699963</td>\n",
       "    </tr>\n",
       "  </tbody>\n",
       "</table>\n",
       "<p>3 rows × 198 columns</p>\n",
       "</div>"
      ],
      "text/plain": [
       "                                 1222__pool_table__0.9999995.jpg  \\\n",
       "1222__pool_table__0.9999995.jpg                         0.000000   \n",
       "1328__coil__0.99999607.jpg                             24.899170   \n",
       "134__zebra__0.9999949.jpg                              22.871903   \n",
       "\n",
       "                                 1328__coil__0.99999607.jpg  \\\n",
       "1222__pool_table__0.9999995.jpg                   24.899170   \n",
       "1328__coil__0.99999607.jpg                         0.000000   \n",
       "134__zebra__0.9999949.jpg                         17.500986   \n",
       "\n",
       "                                 134__zebra__0.9999949.jpg  \\\n",
       "1222__pool_table__0.9999995.jpg                  22.871903   \n",
       "1328__coil__0.99999607.jpg                       17.500986   \n",
       "134__zebra__0.9999949.jpg                         0.000000   \n",
       "\n",
       "                                 2377471__pizza__0.9999988.jpg  \\\n",
       "1222__pool_table__0.9999995.jpg                      25.031346   \n",
       "1328__coil__0.99999607.jpg                           18.181155   \n",
       "134__zebra__0.9999949.jpg                            17.436307   \n",
       "\n",
       "                                 2377620__zebra__0.9999882.jpg  \\\n",
       "1222__pool_table__0.9999995.jpg                      23.751015   \n",
       "1328__coil__0.99999607.jpg                           17.596692   \n",
       "134__zebra__0.9999949.jpg                             7.257223   \n",
       "\n",
       "                                 2377698__zebra__0.9999999.jpg  \\\n",
       "1222__pool_table__0.9999995.jpg                      25.263490   \n",
       "1328__coil__0.99999607.jpg                           19.099940   \n",
       "134__zebra__0.9999949.jpg                             7.579433   \n",
       "\n",
       "                                 2378170__zebra__0.9999902.jpg  \\\n",
       "1222__pool_table__0.9999995.jpg                      23.017009   \n",
       "1328__coil__0.99999607.jpg                           17.112792   \n",
       "134__zebra__0.9999949.jpg                             6.056684   \n",
       "\n",
       "                                 2378358__park_bench__0.99999833.jpg  \\\n",
       "1222__pool_table__0.9999995.jpg                            23.726696   \n",
       "1328__coil__0.99999607.jpg                                 17.488145   \n",
       "134__zebra__0.9999949.jpg                                  16.007572   \n",
       "\n",
       "                                 2378523__banana__0.99999785.jpg  \\\n",
       "1222__pool_table__0.9999995.jpg                        26.784180   \n",
       "1328__coil__0.99999607.jpg                             20.532969   \n",
       "134__zebra__0.9999949.jpg                              19.907645   \n",
       "\n",
       "                                 2379086__zebra__0.9999975.jpg  ...  \\\n",
       "1222__pool_table__0.9999995.jpg                      23.866859  ...   \n",
       "1328__coil__0.99999607.jpg                           17.789077  ...   \n",
       "134__zebra__0.9999949.jpg                             6.569770  ...   \n",
       "\n",
       "                                 2417881__zebra__0.9999945.jpg  \\\n",
       "1222__pool_table__0.9999995.jpg                      23.893972   \n",
       "1328__coil__0.99999607.jpg                           17.571292   \n",
       "134__zebra__0.9999949.jpg                             5.660697   \n",
       "\n",
       "                                 2417938__banana__0.9999944.jpg  \\\n",
       "1222__pool_table__0.9999995.jpg                       28.554533   \n",
       "1328__coil__0.99999607.jpg                            23.570307   \n",
       "134__zebra__0.9999949.jpg                             22.369222   \n",
       "\n",
       "                                 4099__pool_table__0.9999945.jpg  \\\n",
       "1222__pool_table__0.9999995.jpg                         8.689397   \n",
       "1328__coil__0.99999607.jpg                             21.901239   \n",
       "134__zebra__0.9999949.jpg                              19.397503   \n",
       "\n",
       "                                 4339__manhole_cover__0.99999416.jpg  \\\n",
       "1222__pool_table__0.9999995.jpg                            23.648353   \n",
       "1328__coil__0.99999607.jpg                                 16.987964   \n",
       "134__zebra__0.9999949.jpg                                  15.556074   \n",
       "\n",
       "                                 4534__viaduct__0.9999877.jpg  \\\n",
       "1222__pool_table__0.9999995.jpg                     23.595179   \n",
       "1328__coil__0.99999607.jpg                          17.437562   \n",
       "134__zebra__0.9999949.jpg                           16.074305   \n",
       "\n",
       "                                 4573__barrel__0.9999974.jpg  \\\n",
       "1222__pool_table__0.9999995.jpg                    24.177000   \n",
       "1328__coil__0.99999607.jpg                         19.139305   \n",
       "134__zebra__0.9999949.jpg                          16.874761   \n",
       "\n",
       "                                 4673__triumphal_arch__0.9999893.jpg  \\\n",
       "1222__pool_table__0.9999995.jpg                            23.629427   \n",
       "1328__coil__0.99999607.jpg                                 17.123877   \n",
       "134__zebra__0.9999949.jpg                                  16.384309   \n",
       "\n",
       "                                 576__gondola__0.9999993.jpg  \\\n",
       "1222__pool_table__0.9999995.jpg                    26.545261   \n",
       "1328__coil__0.99999607.jpg                         19.577529   \n",
       "134__zebra__0.9999949.jpg                          17.144394   \n",
       "\n",
       "                                 577__gondola__0.9999962.jpg  \\\n",
       "1222__pool_table__0.9999995.jpg                    27.091866   \n",
       "1328__coil__0.99999607.jpg                         20.261407   \n",
       "134__zebra__0.9999949.jpg                          17.840449   \n",
       "\n",
       "                                 691__cheetah__0.99999213.jpg  \n",
       "1222__pool_table__0.9999995.jpg                     23.200351  \n",
       "1328__coil__0.99999607.jpg                          16.637508  \n",
       "134__zebra__0.9999949.jpg                           14.699963  \n",
       "\n",
       "[3 rows x 198 columns]"
      ]
     },
     "execution_count": 3,
     "metadata": {},
     "output_type": "execute_result"
    }
   ],
   "source": [
    "sim_mx_df = pd.read_csv(SIM_MX_FILE_PATH, index_col=0)\n",
    "sim_mx_df.head(3)"
   ]
  },
  {
   "cell_type": "markdown",
   "id": "4f93c8c9",
   "metadata": {},
   "source": [
    "#### Votes"
   ]
  },
  {
   "cell_type": "code",
   "execution_count": 4,
   "id": "d49ae7a6",
   "metadata": {},
   "outputs": [
    {
     "data": {
      "text/html": [
       "<div>\n",
       "<style scoped>\n",
       "    .dataframe tbody tr th:only-of-type {\n",
       "        vertical-align: middle;\n",
       "    }\n",
       "\n",
       "    .dataframe tbody tr th {\n",
       "        vertical-align: top;\n",
       "    }\n",
       "\n",
       "    .dataframe thead th {\n",
       "        text-align: right;\n",
       "    }\n",
       "</style>\n",
       "<table border=\"1\" class=\"dataframe\">\n",
       "  <thead>\n",
       "    <tr style=\"text-align: right;\">\n",
       "      <th></th>\n",
       "      <th>ig</th>\n",
       "      <th>lime</th>\n",
       "      <th>xrai</th>\n",
       "      <th>anchor</th>\n",
       "      <th>best</th>\n",
       "    </tr>\n",
       "  </thead>\n",
       "  <tbody>\n",
       "    <tr>\n",
       "      <th>1222__pool_table__0.9999995.jpg</th>\n",
       "      <td>12</td>\n",
       "      <td>13</td>\n",
       "      <td>3</td>\n",
       "      <td>1</td>\n",
       "      <td>lime</td>\n",
       "    </tr>\n",
       "    <tr>\n",
       "      <th>1328__coil__0.99999607.jpg</th>\n",
       "      <td>17</td>\n",
       "      <td>4</td>\n",
       "      <td>3</td>\n",
       "      <td>2</td>\n",
       "      <td>ig</td>\n",
       "    </tr>\n",
       "    <tr>\n",
       "      <th>134__zebra__0.9999949.jpg</th>\n",
       "      <td>14</td>\n",
       "      <td>1</td>\n",
       "      <td>8</td>\n",
       "      <td>2</td>\n",
       "      <td>ig</td>\n",
       "    </tr>\n",
       "  </tbody>\n",
       "</table>\n",
       "</div>"
      ],
      "text/plain": [
       "                                 ig  lime  xrai  anchor  best\n",
       "1222__pool_table__0.9999995.jpg  12    13     3       1  lime\n",
       "1328__coil__0.99999607.jpg       17     4     3       2    ig\n",
       "134__zebra__0.9999949.jpg        14     1     8       2    ig"
      ]
     },
     "execution_count": 4,
     "metadata": {},
     "output_type": "execute_result"
    }
   ],
   "source": [
    "votes_df = pd.read_csv(VOTES_FILE_PATH, index_col=0)\n",
    "votes_df.head(3)"
   ]
  },
  {
   "cell_type": "markdown",
   "id": "1aa58471",
   "metadata": {},
   "source": [
    "Here's a sanity check for vote proportion in our the dataset. In the original XAI-CBR paper, vote proportion was like this:\n",
    "- IG: 45%\n",
    "- XRAI: 30%\n",
    "- LIME: 18%\n",
    "- ANCHOR: 7%\n",
    "\n",
    "Also, IG was the most voted technique, at least by hard voting aggregation, with a majority of 62% images.\n"
   ]
  },
  {
   "cell_type": "code",
   "execution_count": 5,
   "id": "45e9a162",
   "metadata": {},
   "outputs": [
    {
     "data": {
      "text/plain": [
       "ig        0.488315\n",
       "lime      0.183467\n",
       "xrai      0.271713\n",
       "anchor    0.056505\n",
       "dtype: float64"
      ]
     },
     "execution_count": 5,
     "metadata": {},
     "output_type": "execute_result"
    }
   ],
   "source": [
    "votes_df[['ig','lime','xrai','anchor']].sum() / 2867"
   ]
  },
  {
   "cell_type": "markdown",
   "id": "850f4b64",
   "metadata": {},
   "source": [
    "There's a slight imbalance of these proportions with respect to ones presented in the paper. It seems like some votes from XRAI and ANCHOR techniques drifted out to the IG technique. We'll check this out later, this should not be of great importance in the experiments of this notebook."
   ]
  },
  {
   "cell_type": "markdown",
   "id": "b5aa2ccd",
   "metadata": {},
   "source": [
    "### Data Preprocessing"
   ]
  },
  {
   "cell_type": "code",
   "execution_count": 6,
   "id": "c088b075",
   "metadata": {},
   "outputs": [],
   "source": [
    "X = sim_mx_df.values # Values from sim. matrix\n",
    "X_names = sim_mx_df.index.values # Names of every image\n",
    "y = votes_df.values[:, :4] # Vote count for each imae\n",
    "best = votes_df.values[:, -1] # Most voted technique for each image"
   ]
  },
  {
   "cell_type": "code",
   "execution_count": 7,
   "id": "1583b84f",
   "metadata": {},
   "outputs": [
    {
     "name": "stdout",
     "output_type": "stream",
     "text": [
      "(198, 198) (198,) (198, 4) (198,)\n"
     ]
    }
   ],
   "source": [
    "print(X.shape, X_names.shape, y.shape, best.shape)"
   ]
  },
  {
   "cell_type": "markdown",
   "id": "86f90b4c",
   "metadata": {},
   "source": [
    "#### Instance deletion\n",
    "Stratified Subsampling cannot be performed onto the dataset because only one instance is best explained with ANCHOR. Due to the very small importance of that instance in the dataset, we will continue without that instance (i.e. we will find that instance and remove it from the dataset)."
   ]
  },
  {
   "cell_type": "code",
   "execution_count": 8,
   "id": "e7183035",
   "metadata": {},
   "outputs": [
    {
     "data": {
      "text/plain": [
       "array([155], dtype=int64)"
      ]
     },
     "execution_count": 8,
     "metadata": {},
     "output_type": "execute_result"
    }
   ],
   "source": [
    "# At what index is the anchor instance located?\n",
    "anchor_idxs = np.argwhere(best == 'anchor')[0]\n",
    "anchor_idxs"
   ]
  },
  {
   "cell_type": "code",
   "execution_count": 9,
   "id": "57b22159",
   "metadata": {},
   "outputs": [
    {
     "data": {
      "text/plain": [
       "(array(['2411942__zebra__0.99999654.jpg'], dtype=object),\n",
       " array(['anchor'], dtype=object))"
      ]
     },
     "execution_count": 9,
     "metadata": {},
     "output_type": "execute_result"
    }
   ],
   "source": [
    "# What's the name of that image and its associated technique?\n",
    "X_names[anchor_idxs], best[anchor_idxs]"
   ]
  },
  {
   "cell_type": "code",
   "execution_count": 10,
   "id": "3f9ba43d",
   "metadata": {},
   "outputs": [],
   "source": [
    "# Delete that instance from all data partitions (X, y, etc.)\n",
    "X = np.delete(X, anchor_idxs, axis=0)\n",
    "X = np.delete(X, anchor_idxs, axis=1) # Twice in sim. matrix (both rows and columns)\n",
    "X_names = np.delete(X_names, anchor_idxs, axis=0)\n",
    "y = np.delete(y, anchor_idxs, axis=0)\n",
    "best = np.delete(best, anchor_idxs, axis=0)"
   ]
  },
  {
   "cell_type": "code",
   "execution_count": 11,
   "id": "097393d7",
   "metadata": {},
   "outputs": [
    {
     "name": "stdout",
     "output_type": "stream",
     "text": [
      "(197, 197) (197,) (197, 4) (197,)\n"
     ]
    }
   ],
   "source": [
    "print(X.shape, X_names.shape, y.shape, best.shape)"
   ]
  },
  {
   "cell_type": "markdown",
   "id": "dfacd9b4",
   "metadata": {},
   "source": [
    "## Splitting and Fold Creation"
   ]
  },
  {
   "cell_type": "code",
   "execution_count": 12,
   "id": "ab5a435d",
   "metadata": {},
   "outputs": [],
   "source": [
    "from sklearn.model_selection import StratifiedShuffleSplit as SSS\n",
    "from sklearn.model_selection import ShuffleSplit as SS"
   ]
  },
  {
   "cell_type": "markdown",
   "id": "30c2da70",
   "metadata": {},
   "source": [
    "#### TODO: Should I perform statified subsampling or standard subsampling?"
   ]
  },
  {
   "cell_type": "code",
   "execution_count": 13,
   "id": "4f2a2719",
   "metadata": {},
   "outputs": [],
   "source": [
    "STRATIFIED = True"
   ]
  },
  {
   "cell_type": "code",
   "execution_count": 14,
   "id": "e37cb918",
   "metadata": {},
   "outputs": [],
   "source": [
    "# Perform split\n",
    "splitter = None\n",
    "if STRATIFIED: splitter = SSS(n_splits=5, test_size=0.2, random_state=42)\n",
    "else: splitter = SS(n_splits=5, test_size=0.2, random_state=42)\n",
    "splits = splitter.split(X, best)\n",
    "splits = list(splits)"
   ]
  },
  {
   "cell_type": "code",
   "execution_count": 15,
   "id": "ce86528d",
   "metadata": {},
   "outputs": [
    {
     "data": {
      "text/plain": [
       "(array([192, 147, 177,  11, 140,  51, 127, 118, 172, 191,  62, 124, 115,\n",
       "         80, 190, 142,  92,  69,  25,  14,  42,   3, 185,  90,  10,  76,\n",
       "        176, 114,  44,  98, 166, 121,  79, 170,   1, 183,  28,  31, 155,\n",
       "         75, 156, 101, 171,  13, 110, 122,  38,  27, 136,  20,   6,  56,\n",
       "         35,  59, 139,  33,  78,  82,  21, 167, 117,  12,  49,  15,   5,\n",
       "        152, 132,  81,  61, 163, 175,  91,   7, 174, 135,  74, 193, 129,\n",
       "         60,  96,  50, 161, 159, 145, 126,  19,  65, 188,  73,  89, 133,\n",
       "        179,  40,  86, 112,  26, 168, 189, 149,  94, 194,  18, 138, 169,\n",
       "        102,  97,  71, 130,  53,  99, 148, 154,   8,  34, 182, 105,  55,\n",
       "         95, 153,  72, 144,  77,  52,  30,   9,  37,   4,  93, 128, 137,\n",
       "        195, 160, 111,  45, 164, 151,  29,  48,  70,  43,  57, 157,  39,\n",
       "        141,  85, 150,  67,   0,  47, 113,  32,  17, 131, 180,  66, 100,\n",
       "        186], dtype=int64),\n",
       " array([ 54, 187, 103,  23, 104, 108, 181,  64, 109, 134,  16, 146,   2,\n",
       "        116, 106, 119, 165,  41, 120, 178, 173, 125,  58, 184,  36,  63,\n",
       "        107,  24, 162,  83,  84,  88, 123,  46, 143,  87,  22, 196,  68,\n",
       "        158], dtype=int64))"
      ]
     },
     "execution_count": 15,
     "metadata": {},
     "output_type": "execute_result"
    }
   ],
   "source": [
    "splits[0]"
   ]
  },
  {
   "cell_type": "markdown",
   "id": "eeece880",
   "metadata": {},
   "source": [
    "## Vote Count Prediction"
   ]
  },
  {
   "cell_type": "code",
   "execution_count": 34,
   "id": "021f33b4",
   "metadata": {},
   "outputs": [],
   "source": [
    "def calc_vote_dist(p1, p2, vote_dist_metric):\n",
    "    if vote_dist_metric == 'euclidian': return np.sqrt(np.sum(np.square(p1 - p2)))\n",
    "    elif vote_dist_metric == 'manhattan': return np.sum(np.abs(p1 - p2))\n",
    "    else: print('Unknown metric type')\n",
    "\n",
    "def get_nearest_instances_indices(dist_to_train_imgs, train_idxs, k):\n",
    "    if k >= len(dist_to_train_imgs): nearest_train_idxs = train_idxs\n",
    "    else:\n",
    "        nearest_train_idxs = []\n",
    "        for i in range(k): # K times...\n",
    "            nearest_train_idx, min_dist = None, np.inf\n",
    "            # ...iterate searching the nearest iamge\n",
    "            for dist, train_idx in zip(dist_to_train_imgs, train_idxs):\n",
    "                if train_idx in nearest_train_idxs: continue # ignore prev. found nearest clusters\n",
    "                if dist < min_dist: nearest_train_idx, min_dist = train_idx, dist\n",
    "            nearest_train_idxs.append(nearest_train_idx)\n",
    "        nearest_train_idxs = np.array(nearest_train_idxs)\n",
    "    return nearest_train_idxs\n",
    "\n",
    "def get_indiv_vote_distances(split_idx, k=3, vote_dist_metric='manhattan'):\n",
    "    vote_distances = {}\n",
    "    # Prepare data\n",
    "    train_idxs = splits[split_idx][0]\n",
    "    test_idxs = splits[split_idx][1]\n",
    "    # For each test image...\n",
    "    for test_img_idx in test_idxs:\n",
    "        # Get distances from test img to each train image\n",
    "        dist_to_train_imgs = X[test_img_idx, train_idxs]\n",
    "        # Using those distances, find the nearest k clusters\n",
    "        kn_train_idxs =  get_nearest_instances_indices(dist_to_train_imgs, train_idxs, k=k)\n",
    "        # Aggregate the vote counts associated with those instances\n",
    "        nearest_vote_counts = [y[train_idx] for train_idx in kn_train_idxs]\n",
    "        unrounded_vcp = np.average(np.array(nearest_vote_counts, np.float64), axis=0)\n",
    "        vote_count_prediction = np.round(unrounded_vcp) # int parsing needed?\n",
    "        # Measure vote distance of test image real vote count vs. VCP of test_image\n",
    "        test_img_name = X_names[test_img_idx]\n",
    "        test_img_votes = y[test_img_idx]\n",
    "        vote_dist = calc_vote_dist(test_img_votes, vote_count_prediction, vote_dist_metric)\n",
    "        vote_distances[test_img_name] = vote_dist\n",
    "    return vote_distances\n",
    "\n",
    "def get_global_vote_distances(no_of_splits, k=3, vote_dist_metric='manhattan'):\n",
    "    global_vote_distances = {}\n",
    "    for split_idx in range(no_of_splits):\n",
    "        global_vote_distances[split_idx] = get_indiv_vote_distances(split_idx, k=k, vote_dist_metric=vote_dist_metric)\n",
    "    return global_vote_distances"
   ]
  },
  {
   "cell_type": "code",
   "execution_count": 35,
   "id": "0a9b8ca8",
   "metadata": {},
   "outputs": [],
   "source": [
    "no_of_splits = 5\n",
    "d = 'manhattan' # 'euclidian' or 'manhattan'\n",
    "global_vote_distances_k1 = get_global_vote_distances(no_of_splits=no_of_splits, k=1, vote_dist_metric=d)\n",
    "global_vote_distances_k3 = get_global_vote_distances(no_of_splits=no_of_splits, k=3, vote_dist_metric=d)\n",
    "global_vote_distances_k5 = get_global_vote_distances(no_of_splits=no_of_splits, k=5, vote_dist_metric=d)\n",
    "global_vote_distances_k7 = get_global_vote_distances(no_of_splits=no_of_splits, k=7, vote_dist_metric=d)\n",
    "global_vote_distances_k9 = get_global_vote_distances(no_of_splits=no_of_splits, k=9, vote_dist_metric=d)\n",
    "global_vote_distances_k11 = get_global_vote_distances(no_of_splits=no_of_splits, k=11, vote_dist_metric=d)"
   ]
  },
  {
   "cell_type": "code",
   "execution_count": 36,
   "id": "583af8ce",
   "metadata": {
    "scrolled": true
   },
   "outputs": [
    {
     "data": {
      "text/plain": [
       "{0: {'2388889__hotdog__0.99999714.jpg': 10.0,\n",
       "  '2417881__zebra__0.9999945.jpg': 3.0,\n",
       "  '2403403__banana__0.9999926.jpg': 3.0,\n",
       "  '2381941__zebra__0.9999914.jpg': 7.0,\n",
       "  '2403741__zebra__0.99999523.jpg': 9.0,\n",
       "  '2404281__zebra__0.999998.jpg': 8.0,\n",
       "  '2416627__zebra__0.9999987.jpg': 3.0,\n",
       "  '2391964__flamingo__1.0.jpg': 6.0,\n",
       "  '2404583__umbrella__0.99999297.jpg': 5.0,\n",
       "  '2409637__four-poster__0.99999464.jpg': 8.0,\n",
       "  '2380669__parking_meter__0.9999993.jpg': 6.0,\n",
       "  '2411196__crane__0.9999995.jpg': 15.0,\n",
       "  '134__zebra__0.9999949.jpg': 16.0,\n",
       "  '2405905__traffic_light__0.99999535.jpg': 4.0,\n",
       "  '2404127__zebra__0.9999933.jpg': 6.0,\n",
       "  '2406857__zebra__0.9999894.jpg': 1.0,\n",
       "  '2414277__zebra__0.9999908.jpg': 4.0,\n",
       "  '2385298__parking_meter__0.9999865.jpg': 2.0,\n",
       "  '2406887__ski__0.99999785.jpg': 6.0,\n",
       "  '2416228__parking_meter__0.9999914.jpg': 12.0,\n",
       "  '2415402__zebra__0.99998903.jpg': 6.0,\n",
       "  '2408701__zebra__0.9999981.jpg': 3.0,\n",
       "  '2389484__street_sign__0.99998474.jpg': 1.0,\n",
       "  '2417395__zebra__0.9999993.jpg': 1.0,\n",
       "  '2384512__zebra__0.99999726.jpg': 4.0,\n",
       "  '2391918__steam_locomotive__0.99999845.jpg': 3.0,\n",
       "  '2404229__zebra__0.99998367.jpg': 3.0,\n",
       "  '2381968__ski__0.999984.jpg': 8.0,\n",
       "  '2413495__traffic_light__0.9999925.jpg': 1.0,\n",
       "  '2398585__bow_tie__0.9999838.jpg': 9.0,\n",
       "  '2398771__traffic_light__0.99999.jpg': 2.0,\n",
       "  '2400121__pizza__0.9999962.jpg': 6.0,\n",
       "  '2407951__zebra__0.9999975.jpg': 2.0,\n",
       "  '2386193__broccoli__0.9999924.jpg': 4.0,\n",
       "  '2410903__steam_locomotive__0.9999876.jpg': 7.0,\n",
       "  '2399675__zebra__0.9999883.jpg': 5.0,\n",
       "  '2381932__traffic_light__0.99999964.jpg': 9.0,\n",
       "  '691__cheetah__0.99999213.jpg': 7.0,\n",
       "  '2392405__parking_meter__0.9999993.jpg': 4.0,\n",
       "  '2412908__zebra__0.99998975.jpg': 9.0},\n",
       " 1: {'2390296__umbrella__0.99999106.jpg': 9.0,\n",
       "  '2405042__parking_meter__0.99999094.jpg': 8.0,\n",
       "  '2415402__zebra__0.99998903.jpg': 4.0,\n",
       "  '2406209__brown_bear__0.999985.jpg': 5.0,\n",
       "  '2403199__zebra__0.9999869.jpg': 4.0,\n",
       "  '2408719__ski__0.99999297.jpg': 4.0,\n",
       "  '2414277__zebra__0.9999908.jpg': 4.0,\n",
       "  '2405479__traffic_light__0.9999939.jpg': 2.0,\n",
       "  '2415737__parking_meter__0.99999785.jpg': 5.0,\n",
       "  '2388889__hotdog__0.99999714.jpg': 9.0,\n",
       "  '2411390__parking_meter__0.9999988.jpg': 2.0,\n",
       "  '2416228__parking_meter__0.9999914.jpg': 11.0,\n",
       "  '691__cheetah__0.99999213.jpg': 5.0,\n",
       "  '2389163__zebra__0.9999957.jpg': 4.0,\n",
       "  '2408701__zebra__0.9999981.jpg': 3.0,\n",
       "  '2392579__zebra__0.9999969.jpg': 5.0,\n",
       "  '2389484__street_sign__0.99998474.jpg': 1.0,\n",
       "  '2391408__traffic_light__0.99999654.jpg': 3.0,\n",
       "  '2412939__forklift__0.9999883.jpg': 4.0,\n",
       "  '2382792__umbrella__0.9999838.jpg': 5.0,\n",
       "  '2378170__zebra__0.9999902.jpg': 10.0,\n",
       "  '2379086__zebra__0.9999975.jpg': 9.0,\n",
       "  '2389324__zebra__0.9999993.jpg': 3.0,\n",
       "  '2417938__banana__0.9999944.jpg': 8.0,\n",
       "  '2396153__brown_bear__0.9999938.jpg': 8.0,\n",
       "  '2414384__ski__0.9999949.jpg': 7.0,\n",
       "  '2393774__zebra__0.9999995.jpg': 8.0,\n",
       "  '2391918__steam_locomotive__0.99999845.jpg': 3.0,\n",
       "  '2387437__parking_meter__0.9999839.jpg': 3.0,\n",
       "  '2404955__banana__0.9999995.jpg': 3.0,\n",
       "  '2392818__park_bench__0.99999.jpg': 6.0,\n",
       "  '2380865__traffic_light__0.99999714.jpg': 6.0,\n",
       "  '2392349__umbrella__0.9999994.jpg': 7.0,\n",
       "  '2411784__traffic_light__0.9999945.jpg': 8.0,\n",
       "  '2386049__king_penguin__0.99999917.jpg': 8.0,\n",
       "  '2406857__zebra__0.9999894.jpg': 1.0,\n",
       "  '2380319__broccoli__0.9999957.jpg': 13.0,\n",
       "  '2409589__zebra__0.99999976.jpg': 6.0,\n",
       "  '2377698__zebra__0.9999999.jpg': 15.0,\n",
       "  '2380669__parking_meter__0.9999993.jpg': 8.0},\n",
       " 2: {'2392349__umbrella__0.9999994.jpg': 8.0,\n",
       "  '2408970__zebra__0.9999865.jpg': 6.0,\n",
       "  '2414335__refrigerator__0.9999889.jpg': 3.0,\n",
       "  '2401691__pineapple__0.999998.jpg': 11.0,\n",
       "  '2391964__flamingo__1.0.jpg': 7.0,\n",
       "  '2389484__street_sign__0.99998474.jpg': 2.0,\n",
       "  '2409550__street_sign__0.99999905.jpg': 2.0,\n",
       "  '2391408__traffic_light__0.99999654.jpg': 2.0,\n",
       "  '2411407__zebra__0.9999969.jpg': 9.0,\n",
       "  '2407788__pizza__0.99999785.jpg': 11.0,\n",
       "  '2395787__pizza__0.99999535.jpg': 4.0,\n",
       "  '2380905__gondola__0.9999888.jpg': 5.0,\n",
       "  '2389163__zebra__0.9999957.jpg': 4.0,\n",
       "  '2386456__zebra__0.9999989.jpg': 4.0,\n",
       "  '2402745__bullet_train__0.99999857.jpg': 6.0,\n",
       "  '2417395__zebra__0.9999993.jpg': 0.0,\n",
       "  '2401383__slug__0.9999933.jpg': 7.0,\n",
       "  '691__cheetah__0.99999213.jpg': 6.0,\n",
       "  '2384755__street_sign__0.9999924.jpg': 2.0,\n",
       "  '2414760__zebra__0.9999895.jpg': 6.0,\n",
       "  '2399217__umbrella__0.9999863.jpg': 2.0,\n",
       "  '2401224__zebra__0.9999882.jpg': 6.0,\n",
       "  '4099__pool_table__0.9999945.jpg': 14.0,\n",
       "  '2382183__pizza__0.99998593.jpg': 3.0,\n",
       "  '2412402__zebra__0.9999877.jpg': 3.0,\n",
       "  '2383569__parking_meter__0.9999988.jpg': 6.0,\n",
       "  '2383286__zebra__0.99999857.jpg': 6.0,\n",
       "  '2410336__zebra__0.99999547.jpg': 4.0,\n",
       "  '2392324__traffic_light__0.9999964.jpg': 5.0,\n",
       "  '2405041__broccoli__0.99999845.jpg': 8.0,\n",
       "  '2401906__parking_meter__1.0.jpg': 3.0,\n",
       "  '2407951__zebra__0.9999975.jpg': 2.0,\n",
       "  '2414513__bagel__0.9999893.jpg': 8.0,\n",
       "  '2378170__zebra__0.9999902.jpg': 11.0,\n",
       "  '2404127__zebra__0.9999933.jpg': 7.0,\n",
       "  '2409063__zebra__0.999997.jpg': 5.0,\n",
       "  '2382792__umbrella__0.9999838.jpg': 6.0,\n",
       "  '2389324__zebra__0.9999993.jpg': 2.0,\n",
       "  '2399675__zebra__0.9999883.jpg': 4.0,\n",
       "  '2411097__zebra__0.9999974.jpg': 5.0},\n",
       " 3: {'2401906__parking_meter__1.0.jpg': 2.0,\n",
       "  '2416228__parking_meter__0.9999914.jpg': 11.0,\n",
       "  '2403403__banana__0.9999926.jpg': 4.0,\n",
       "  '2409765__zebra__0.99999833.jpg': 2.0,\n",
       "  '2392818__park_bench__0.99999.jpg': 7.0,\n",
       "  '2416627__zebra__0.9999987.jpg': 6.0,\n",
       "  '2406887__ski__0.99999785.jpg': 5.0,\n",
       "  '2402132__traffic_light__0.9999951.jpg': 7.0,\n",
       "  '2380905__gondola__0.9999888.jpg': 6.0,\n",
       "  '2416408__zebra__0.9999962.jpg': 3.0,\n",
       "  '2388889__hotdog__0.99999714.jpg': 10.0,\n",
       "  '2391964__flamingo__1.0.jpg': 8.0,\n",
       "  '2392730__pizza__0.9999974.jpg': 5.0,\n",
       "  '2403199__zebra__0.9999869.jpg': 3.0,\n",
       "  '2407130__umbrella__0.9999888.jpg': 4.0,\n",
       "  '2402264__zebra__0.9999931.jpg': 2.0,\n",
       "  '2411645__parking_meter__0.999985.jpg': 7.0,\n",
       "  '2382792__umbrella__0.9999838.jpg': 7.0,\n",
       "  '2404127__zebra__0.9999933.jpg': 6.0,\n",
       "  '2411784__traffic_light__0.9999945.jpg': 10.0,\n",
       "  '2392324__traffic_light__0.9999964.jpg': 4.0,\n",
       "  '2378523__banana__0.99999785.jpg': 14.0,\n",
       "  '2409822__steam_locomotive__0.9999906.jpg': 4.0,\n",
       "  '2383286__zebra__0.99999857.jpg': 7.0,\n",
       "  '2413227__park_bench__0.99998546.jpg': 13.0,\n",
       "  '2403338__seat_belt__0.99999917.jpg': 12.0,\n",
       "  '2404955__banana__0.9999995.jpg': 2.0,\n",
       "  '2382474__bow_tie__0.9999982.jpg': 8.0,\n",
       "  '2391701__zebra__0.9999912.jpg': 8.0,\n",
       "  '2396034__remote_control__0.9999856.jpg': 10.0,\n",
       "  '2402745__bullet_train__0.99999857.jpg': 5.0,\n",
       "  '1328__coil__0.99999607.jpg': 13.0,\n",
       "  '2411841__zebra__0.99999833.jpg': 2.0,\n",
       "  '2397486__zebra__0.9999875.jpg': 5.0,\n",
       "  '2415102__zebra__0.9999876.jpg': 2.0,\n",
       "  '2409472__umbrella__0.9999845.jpg': 11.0,\n",
       "  '2405042__parking_meter__0.99999094.jpg': 7.0,\n",
       "  '2389163__zebra__0.9999957.jpg': 5.0,\n",
       "  '2380319__broccoli__0.9999957.jpg': 13.0,\n",
       "  '2408701__zebra__0.9999981.jpg': 3.0},\n",
       " 4: {'2381932__traffic_light__0.99999964.jpg': 10.0,\n",
       "  '2379489__parking_meter__0.9999989.jpg': 9.0,\n",
       "  '2382474__bow_tie__0.9999982.jpg': 8.0,\n",
       "  '2398585__bow_tie__0.9999838.jpg': 8.0,\n",
       "  '2392730__pizza__0.9999974.jpg': 5.0,\n",
       "  '2377698__zebra__0.9999999.jpg': 17.0,\n",
       "  '2411646__banana__0.99999595.jpg': 4.0,\n",
       "  '2416516__zebra__0.99999714.jpg': 7.0,\n",
       "  '2404583__umbrella__0.99999297.jpg': 5.0,\n",
       "  '2385298__parking_meter__0.9999865.jpg': 2.0,\n",
       "  '2412402__zebra__0.9999877.jpg': 3.0,\n",
       "  '2417395__zebra__0.9999993.jpg': 1.0,\n",
       "  '2395787__pizza__0.99999535.jpg': 3.0,\n",
       "  '2391918__steam_locomotive__0.99999845.jpg': 2.0,\n",
       "  '2391964__flamingo__1.0.jpg': 8.0,\n",
       "  '2415910__zebra__0.9999962.jpg': 3.0,\n",
       "  '2395510__traffic_light__0.9999993.jpg': 6.0,\n",
       "  '2416627__zebra__0.9999987.jpg': 6.0,\n",
       "  '2407130__umbrella__0.9999888.jpg': 3.0,\n",
       "  '2402132__traffic_light__0.9999951.jpg': 7.0,\n",
       "  '2401906__parking_meter__1.0.jpg': 3.0,\n",
       "  '2392579__zebra__0.9999969.jpg': 6.0,\n",
       "  '2387034__zebra__0.9999896.jpg': 5.0,\n",
       "  '2383286__zebra__0.99999857.jpg': 6.0,\n",
       "  '2405042__parking_meter__0.99999094.jpg': 7.0,\n",
       "  '2414384__ski__0.9999949.jpg': 7.0,\n",
       "  '2409550__street_sign__0.99999905.jpg': 3.0,\n",
       "  '2380019__zebra__0.9999926.jpg': 8.0,\n",
       "  '2385187__street_sign__0.99999595.jpg': 5.0,\n",
       "  '2382913__zebra__0.9999883.jpg': 8.0,\n",
       "  '2400622__zebra__0.9999901.jpg': 6.0,\n",
       "  '2400121__pizza__0.9999962.jpg': 5.0,\n",
       "  '2405280__zebra__0.9999938.jpg': 4.0,\n",
       "  '2409472__umbrella__0.9999845.jpg': 10.0,\n",
       "  '2410974__toilet_seat__0.9999939.jpg': 6.0,\n",
       "  '2392124__zebra__0.99999523.jpg': 6.0,\n",
       "  '2408592__goose__0.999998.jpg': 8.0,\n",
       "  '2404051__street_sign__0.9999999.jpg': 4.0,\n",
       "  '2386049__king_penguin__0.99999917.jpg': 7.0,\n",
       "  '2411372__parking_meter__0.999995.jpg': 5.0}}"
      ]
     },
     "execution_count": 36,
     "metadata": {},
     "output_type": "execute_result"
    }
   ],
   "source": [
    "global_vote_distances_k5"
   ]
  },
  {
   "cell_type": "markdown",
   "id": "1cf53d94",
   "metadata": {},
   "source": [
    "#### TODO: Should distance be vote-based (i.e. nominal) or vote proportion-based (i.e. relative)?"
   ]
  },
  {
   "cell_type": "markdown",
   "id": "876dc122",
   "metadata": {},
   "source": [
    "## Metric Evaluation"
   ]
  },
  {
   "cell_type": "code",
   "execution_count": 37,
   "id": "f0435ee5",
   "metadata": {},
   "outputs": [],
   "source": [
    "def eval_indiv_vote_dist(vote_distances):\n",
    "    vote_distances = list(vote_distances.values())\n",
    "    metrics = {\n",
    "        'average': round(np.average(vote_distances), 2),\n",
    "        'std. dev.': round(np.std(vote_distances), 2),\n",
    "        'range': [round(np.min(vote_distances), 2), round(np.max(vote_distances), 2)],\n",
    "    }\n",
    "    return metrics\n",
    "\n",
    "def eval_global_vote_dist(global_vote_distances):\n",
    "    global_metrics = {}\n",
    "    # Calculate metrics for each split\n",
    "    for cl_key, vote_distances in global_vote_distances.items():\n",
    "        metrics = eval_indiv_vote_dist(vote_distances)\n",
    "        global_metrics[cl_key] = metrics\n",
    "    # Aggregate metrics for all splits\n",
    "    global_metrics['global'] = {}\n",
    "    for metric_type in global_metrics[0].keys():\n",
    "        metrics_per_type = [metrics[metric_type] for split_key, metrics in global_metrics.items() if split_key != 'global']\n",
    "        avgd_metrics_per_type = np.round(np.average(np.array(metrics_per_type), axis=0), 2)\n",
    "        if metric_type == 'range': avgd_metrics_per_type = list(avgd_metrics_per_type)\n",
    "        global_metrics['global'][metric_type] = avgd_metrics_per_type\n",
    "    return global_metrics"
   ]
  },
  {
   "cell_type": "code",
   "execution_count": 38,
   "id": "b09ac157",
   "metadata": {},
   "outputs": [],
   "source": [
    "global_vote_metrics_k1 = eval_global_vote_dist(global_vote_distances_k1)\n",
    "global_vote_metrics_k3 = eval_global_vote_dist(global_vote_distances_k3)\n",
    "global_vote_metrics_k5 = eval_global_vote_dist(global_vote_distances_k5)\n",
    "global_vote_metrics_k7 = eval_global_vote_dist(global_vote_distances_k7)\n",
    "global_vote_metrics_k9 = eval_global_vote_dist(global_vote_distances_k9)\n",
    "global_vote_metrics_k11 = eval_global_vote_dist(global_vote_distances_k11)"
   ]
  },
  {
   "cell_type": "code",
   "execution_count": 39,
   "id": "8c2453a0",
   "metadata": {},
   "outputs": [
    {
     "data": {
      "text/plain": [
       "{'average': 7.59, 'std. dev.': 3.87, 'range': [1.4, 16.8]}"
      ]
     },
     "execution_count": 39,
     "metadata": {},
     "output_type": "execute_result"
    }
   ],
   "source": [
    "global_vote_metrics_k1['global']"
   ]
  },
  {
   "cell_type": "code",
   "execution_count": 40,
   "id": "baf9d473",
   "metadata": {},
   "outputs": [
    {
     "data": {
      "text/plain": [
       "{'average': 6.19, 'std. dev.': 3.24, 'range': [0.8, 14.8]}"
      ]
     },
     "execution_count": 40,
     "metadata": {},
     "output_type": "execute_result"
    }
   ],
   "source": [
    "global_vote_metrics_k3['global']"
   ]
  },
  {
   "cell_type": "code",
   "execution_count": 41,
   "id": "10d60bd5",
   "metadata": {},
   "outputs": [
    {
     "data": {
      "text/plain": [
       "{'average': 5.9, 'std. dev.': 3.2, 'range': [1.0, 15.2]}"
      ]
     },
     "execution_count": 41,
     "metadata": {},
     "output_type": "execute_result"
    }
   ],
   "source": [
    "global_vote_metrics_k5['global']"
   ]
  },
  {
   "cell_type": "code",
   "execution_count": 42,
   "id": "61a7a9b8",
   "metadata": {},
   "outputs": [
    {
     "data": {
      "text/plain": [
       "{'average': 5.82, 'std. dev.': 3.21, 'range': [1.0, 15.8]}"
      ]
     },
     "execution_count": 42,
     "metadata": {},
     "output_type": "execute_result"
    }
   ],
   "source": [
    "global_vote_metrics_k7['global']"
   ]
  },
  {
   "cell_type": "code",
   "execution_count": 43,
   "id": "e9a8271c",
   "metadata": {},
   "outputs": [
    {
     "data": {
      "text/plain": [
       "{'average': 5.68, 'std. dev.': 3.11, 'range': [1.0, 15.2]}"
      ]
     },
     "execution_count": 43,
     "metadata": {},
     "output_type": "execute_result"
    }
   ],
   "source": [
    "global_vote_metrics_k9['global']"
   ]
  },
  {
   "cell_type": "code",
   "execution_count": 45,
   "id": "d7e96f3d",
   "metadata": {},
   "outputs": [
    {
     "data": {
      "text/plain": [
       "{'average': 5.87, 'std. dev.': 3.13, 'range': [1.2, 15.8]}"
      ]
     },
     "execution_count": 45,
     "metadata": {},
     "output_type": "execute_result"
    }
   ],
   "source": [
    "global_vote_metrics_k11['global']"
   ]
  },
  {
   "cell_type": "markdown",
   "id": "9fa5b4e6",
   "metadata": {},
   "source": [
    "The previous results shine a light about the viability to predict the vote count for a new image given the vote prototypes of previously generated image clusters.   \n",
    "\n",
    "In average, the predicted vote count for a new image differs by 6 votes compared to the real vote count. The difference between vote count shows a ascending tendence proportional to the number of nearest clusters used in the vote count prediction, although the growing rate is very small. In the end, this means that when predicting the vote count for a new image, it is recommended to use the vote prototype of only the nearest cluster.   \n",
    "\n",
    "Additional metrics also show that the distribution of vote count differences shows a gaussian shape with a slight skeweness to the right, i.e. towards higher vote differences). The standard deviation shows that the majority of vote differences are between +-3 to the average vote difference. Given that the average vote difference is 6, this means that the majority of vote differences will be inside the 3-9 range.\n",
    "\n",
    "Taking in account that for every image around 30 votes were casted, the difference in vote count prediction is pretty large. A difference of 6 votes when predicting votes can be really important. However, we need to calculate vote count proportion differences, beacuase, at the end of the day, proportions are also a important factor in deciding which techniques are better for new images."
   ]
  },
  {
   "cell_type": "markdown",
   "id": "e1f624d3",
   "metadata": {},
   "source": [
    "#### TODO: Predict techniques with hard voting using vote count predictions"
   ]
  }
 ],
 "metadata": {
  "kernelspec": {
   "display_name": "Python 3",
   "language": "python",
   "name": "python3"
  },
  "language_info": {
   "codemirror_mode": {
    "name": "ipython",
    "version": 3
   },
   "file_extension": ".py",
   "mimetype": "text/x-python",
   "name": "python",
   "nbconvert_exporter": "python",
   "pygments_lexer": "ipython3",
   "version": "3.8.5"
  }
 },
 "nbformat": 4,
 "nbformat_minor": 5
}
